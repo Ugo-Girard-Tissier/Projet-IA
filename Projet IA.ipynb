{
 "cells": [
  {
   "cell_type": "markdown",
   "metadata": {
    "slideshow": {
     "slide_type": "slide"
    }
   },
   "source": [
    "<center> \n",
    "    <div style=\"font-size: 40px;\">\n",
    "        <strong>\n",
    "            <U>Projet IA HumanForYou </U>\n",
    "        </strong>\n",
    "    </div>\n",
    "</center>\n",
    "\n",
    "<br>\n",
    "\n",
    "<center> <img src=\"images/cesi.jfif\" /> </center>\n",
    "\n",
    "\n",
    "<center> \n",
    "    GIRARD-TISSIER Ugo\n",
    "     | \n",
    "    GISLARD Enzo\n",
    "     | \n",
    "    GUESMIA Abdelrahmane\n",
    "     | \n",
    "    CASENOVE Antoine\n",
    "</center>"
   ]
  },
  {
   "cell_type": "code",
   "execution_count": 1,
   "metadata": {
    "slideshow": {
     "slide_type": "skip"
    }
   },
   "outputs": [],
   "source": [
    "#import généraux\n",
    "%matplotlib inline\n",
    "import pandas as pd\n",
    "import matplotlib.pyplot as plt\n",
    "import numpy as np"
   ]
  },
  {
   "cell_type": "markdown",
   "metadata": {
    "slideshow": {
     "slide_type": "slide"
    }
   },
   "source": [
    "# Sommaire\n",
    "\n",
    "* Introduction\n",
    "* Préparation des données\n",
    "* Choix d'un modèle de machine learning / performance / paramétrage\n",
    "* Test des modèles\n",
    "* Conclusion / étude des résultats\n",
    "* Améliorations"
   ]
  },
  {
   "cell_type": "markdown",
   "metadata": {
    "slideshow": {
     "slide_type": "slide"
    }
   },
   "source": [
    "# 1. Introduction"
   ]
  },
  {
   "cell_type": "markdown",
   "metadata": {
    "slideshow": {
     "slide_type": "subslide"
    }
   },
   "source": [
    "L'entreprise HumanForYou subit un turn-over d'environ 15% de ses employés (4000) chaque années.\n",
    "\n",
    "La direction trouve que ce niveau de turn-over n'est pas bon pour l'entreprise car :\n",
    "\n",
    "* Les projets prennent du retard.\n",
    "\n",
    "* Service des ressources humaines trop conséquent.\n",
    "\n",
    "* Temps perdu à l'arrivée des nouveaux employés."
   ]
  },
  {
   "cell_type": "markdown",
   "metadata": {
    "slideshow": {
     "slide_type": "subslide"
    }
   },
   "source": [
    "#### Objectif du projet :\n",
    "\n",
    "* Déterminer les facteurs de turn-over\n",
    "* Proposer des modèles afin d'avoir des pistes d'amélioration pour donner à leurs employés l'envie de rester\n",
    "\n",
    "#### Solution réalisée :\n",
    "\n",
    "* Modèle prédictif de classification binaire\n",
    "* Étude des facteurs de turn-over selon notre modèle"
   ]
  },
  {
   "cell_type": "markdown",
   "metadata": {
    "slideshow": {
     "slide_type": "subslide"
    }
   },
   "source": [
    "### Planification : \n",
    "\n",
    "<br>\n",
    "\n",
    "<center> <img src=\"images/gantt.png\"/> </center>"
   ]
  },
  {
   "cell_type": "markdown",
   "metadata": {
    "slideshow": {
     "slide_type": "slide"
    }
   },
   "source": [
    "# 2. Préparation des données"
   ]
  },
  {
   "cell_type": "markdown",
   "metadata": {
    "slideshow": {
     "slide_type": "subslide"
    }
   },
   "source": [
    "### A. Chargement des jeux de données"
   ]
  },
  {
   "cell_type": "markdown",
   "metadata": {
    "slideshow": {
     "slide_type": "skip"
    }
   },
   "source": [
    "Les données fournies par HumanForYou ont, dans un premier temps, été téléchargées et placées dans le répertoire `datasets`.\n",
    "\n",
    "Nous allons maintenant créer une fonction utilisant [`Pandas`](https://pandas.pydata.org/) qui s'occupe de charger les données en mémoire dans un `Pandas DataFrame`."
   ]
  },
  {
   "cell_type": "code",
   "execution_count": 2,
   "metadata": {
    "slideshow": {
     "slide_type": "skip"
    }
   },
   "outputs": [],
   "source": [
    "import os\n",
    "\n",
    "def load_datasets(path, file_name):\n",
    "    csv_path = os.path.join(path, file_name)\n",
    "    return pd.read_csv(csv_path)"
   ]
  },
  {
   "cell_type": "markdown",
   "metadata": {
    "slideshow": {
     "slide_type": "skip"
    }
   },
   "source": [
    "Il est maintenant possible de charger nos données pour chaque fichier CSV transmis par HumanForYou"
   ]
  },
  {
   "cell_type": "markdown",
   "metadata": {},
   "source": [
    "Listes des fichiers transmis par HumanForYou :\n",
    "\n",
    "* general_data\n",
    "* manager_survey_data\n",
    "* employee_survey_data\n",
    "* in_time_data\n",
    "* out_time_data"
   ]
  },
  {
   "cell_type": "code",
   "execution_count": 3,
   "metadata": {
    "slideshow": {
     "slide_type": "skip"
    }
   },
   "outputs": [],
   "source": [
    "general_data = load_datasets(\"datasets\", \"general_data.csv\")\n",
    "manager_survey_data = load_datasets(\"datasets\", \"manager_survey_data.csv\")\n",
    "employee_survey_data = load_datasets(\"datasets\", \"employee_survey_data.csv\")\n",
    "in_time_data = load_datasets(\"datasets\", \"in_time.csv\")\n",
    "out_time_data = load_datasets(\"datasets\", \"out_time.csv\")"
   ]
  },
  {
   "cell_type": "markdown",
   "metadata": {
    "slideshow": {
     "slide_type": "skip"
    }
   },
   "source": [
    "Nous allons afficher les premières lignes de nos diffèrents tableaux `Pandas` pour en faire une première approche"
   ]
  },
  {
   "cell_type": "code",
   "execution_count": 4,
   "metadata": {
    "slideshow": {
     "slide_type": "skip"
    }
   },
   "outputs": [
    {
     "data": {
      "text/html": [
       "<style  type=\"text/css\" >\n",
       "</style><table id=\"T_a809e820_883b_11eb_8076_704d7b3c13bc\" ><thead>    <tr>        <th class=\"blank level0\" ></th>        <th class=\"col_heading level0 col0\" >Age</th>        <th class=\"col_heading level0 col1\" >Attrition</th>        <th class=\"col_heading level0 col2\" >BusinessTravel</th>        <th class=\"col_heading level0 col3\" >Department</th>        <th class=\"col_heading level0 col4\" >DistanceFromHome</th>        <th class=\"col_heading level0 col5\" >Education</th>        <th class=\"col_heading level0 col6\" >EducationField</th>        <th class=\"col_heading level0 col7\" >EmployeeCount</th>        <th class=\"col_heading level0 col8\" >EmployeeID</th>        <th class=\"col_heading level0 col9\" >Gender</th>        <th class=\"col_heading level0 col10\" >JobLevel</th>        <th class=\"col_heading level0 col11\" >JobRole</th>        <th class=\"col_heading level0 col12\" >MaritalStatus</th>        <th class=\"col_heading level0 col13\" >MonthlyIncome</th>        <th class=\"col_heading level0 col14\" >NumCompaniesWorked</th>        <th class=\"col_heading level0 col15\" >Over18</th>        <th class=\"col_heading level0 col16\" >PercentSalaryHike</th>        <th class=\"col_heading level0 col17\" >StandardHours</th>        <th class=\"col_heading level0 col18\" >StockOptionLevel</th>        <th class=\"col_heading level0 col19\" >TotalWorkingYears</th>        <th class=\"col_heading level0 col20\" >TrainingTimesLastYear</th>        <th class=\"col_heading level0 col21\" >YearsAtCompany</th>        <th class=\"col_heading level0 col22\" >YearsSinceLastPromotion</th>        <th class=\"col_heading level0 col23\" >YearsWithCurrManager</th>    </tr></thead><tbody>\n",
       "                <tr>\n",
       "                        <th id=\"T_a809e820_883b_11eb_8076_704d7b3c13bclevel0_row0\" class=\"row_heading level0 row0\" >0</th>\n",
       "                        <td id=\"T_a809e820_883b_11eb_8076_704d7b3c13bcrow0_col0\" class=\"data row0 col0\" >51</td>\n",
       "                        <td id=\"T_a809e820_883b_11eb_8076_704d7b3c13bcrow0_col1\" class=\"data row0 col1\" >No</td>\n",
       "                        <td id=\"T_a809e820_883b_11eb_8076_704d7b3c13bcrow0_col2\" class=\"data row0 col2\" >Travel_Rarely</td>\n",
       "                        <td id=\"T_a809e820_883b_11eb_8076_704d7b3c13bcrow0_col3\" class=\"data row0 col3\" >Sales</td>\n",
       "                        <td id=\"T_a809e820_883b_11eb_8076_704d7b3c13bcrow0_col4\" class=\"data row0 col4\" >6</td>\n",
       "                        <td id=\"T_a809e820_883b_11eb_8076_704d7b3c13bcrow0_col5\" class=\"data row0 col5\" >2</td>\n",
       "                        <td id=\"T_a809e820_883b_11eb_8076_704d7b3c13bcrow0_col6\" class=\"data row0 col6\" >Life Sciences</td>\n",
       "                        <td id=\"T_a809e820_883b_11eb_8076_704d7b3c13bcrow0_col7\" class=\"data row0 col7\" >1</td>\n",
       "                        <td id=\"T_a809e820_883b_11eb_8076_704d7b3c13bcrow0_col8\" class=\"data row0 col8\" >1</td>\n",
       "                        <td id=\"T_a809e820_883b_11eb_8076_704d7b3c13bcrow0_col9\" class=\"data row0 col9\" >Female</td>\n",
       "                        <td id=\"T_a809e820_883b_11eb_8076_704d7b3c13bcrow0_col10\" class=\"data row0 col10\" >1</td>\n",
       "                        <td id=\"T_a809e820_883b_11eb_8076_704d7b3c13bcrow0_col11\" class=\"data row0 col11\" >Healthcare Representative</td>\n",
       "                        <td id=\"T_a809e820_883b_11eb_8076_704d7b3c13bcrow0_col12\" class=\"data row0 col12\" >Married</td>\n",
       "                        <td id=\"T_a809e820_883b_11eb_8076_704d7b3c13bcrow0_col13\" class=\"data row0 col13\" >131160</td>\n",
       "                        <td id=\"T_a809e820_883b_11eb_8076_704d7b3c13bcrow0_col14\" class=\"data row0 col14\" >1.000000</td>\n",
       "                        <td id=\"T_a809e820_883b_11eb_8076_704d7b3c13bcrow0_col15\" class=\"data row0 col15\" >Y</td>\n",
       "                        <td id=\"T_a809e820_883b_11eb_8076_704d7b3c13bcrow0_col16\" class=\"data row0 col16\" >11</td>\n",
       "                        <td id=\"T_a809e820_883b_11eb_8076_704d7b3c13bcrow0_col17\" class=\"data row0 col17\" >8</td>\n",
       "                        <td id=\"T_a809e820_883b_11eb_8076_704d7b3c13bcrow0_col18\" class=\"data row0 col18\" >0</td>\n",
       "                        <td id=\"T_a809e820_883b_11eb_8076_704d7b3c13bcrow0_col19\" class=\"data row0 col19\" >1.000000</td>\n",
       "                        <td id=\"T_a809e820_883b_11eb_8076_704d7b3c13bcrow0_col20\" class=\"data row0 col20\" >6</td>\n",
       "                        <td id=\"T_a809e820_883b_11eb_8076_704d7b3c13bcrow0_col21\" class=\"data row0 col21\" >1</td>\n",
       "                        <td id=\"T_a809e820_883b_11eb_8076_704d7b3c13bcrow0_col22\" class=\"data row0 col22\" >0</td>\n",
       "                        <td id=\"T_a809e820_883b_11eb_8076_704d7b3c13bcrow0_col23\" class=\"data row0 col23\" >0</td>\n",
       "            </tr>\n",
       "            <tr>\n",
       "                        <th id=\"T_a809e820_883b_11eb_8076_704d7b3c13bclevel0_row1\" class=\"row_heading level0 row1\" >1</th>\n",
       "                        <td id=\"T_a809e820_883b_11eb_8076_704d7b3c13bcrow1_col0\" class=\"data row1 col0\" >31</td>\n",
       "                        <td id=\"T_a809e820_883b_11eb_8076_704d7b3c13bcrow1_col1\" class=\"data row1 col1\" >Yes</td>\n",
       "                        <td id=\"T_a809e820_883b_11eb_8076_704d7b3c13bcrow1_col2\" class=\"data row1 col2\" >Travel_Frequently</td>\n",
       "                        <td id=\"T_a809e820_883b_11eb_8076_704d7b3c13bcrow1_col3\" class=\"data row1 col3\" >Research & Development</td>\n",
       "                        <td id=\"T_a809e820_883b_11eb_8076_704d7b3c13bcrow1_col4\" class=\"data row1 col4\" >10</td>\n",
       "                        <td id=\"T_a809e820_883b_11eb_8076_704d7b3c13bcrow1_col5\" class=\"data row1 col5\" >1</td>\n",
       "                        <td id=\"T_a809e820_883b_11eb_8076_704d7b3c13bcrow1_col6\" class=\"data row1 col6\" >Life Sciences</td>\n",
       "                        <td id=\"T_a809e820_883b_11eb_8076_704d7b3c13bcrow1_col7\" class=\"data row1 col7\" >1</td>\n",
       "                        <td id=\"T_a809e820_883b_11eb_8076_704d7b3c13bcrow1_col8\" class=\"data row1 col8\" >2</td>\n",
       "                        <td id=\"T_a809e820_883b_11eb_8076_704d7b3c13bcrow1_col9\" class=\"data row1 col9\" >Female</td>\n",
       "                        <td id=\"T_a809e820_883b_11eb_8076_704d7b3c13bcrow1_col10\" class=\"data row1 col10\" >1</td>\n",
       "                        <td id=\"T_a809e820_883b_11eb_8076_704d7b3c13bcrow1_col11\" class=\"data row1 col11\" >Research Scientist</td>\n",
       "                        <td id=\"T_a809e820_883b_11eb_8076_704d7b3c13bcrow1_col12\" class=\"data row1 col12\" >Single</td>\n",
       "                        <td id=\"T_a809e820_883b_11eb_8076_704d7b3c13bcrow1_col13\" class=\"data row1 col13\" >41890</td>\n",
       "                        <td id=\"T_a809e820_883b_11eb_8076_704d7b3c13bcrow1_col14\" class=\"data row1 col14\" >0.000000</td>\n",
       "                        <td id=\"T_a809e820_883b_11eb_8076_704d7b3c13bcrow1_col15\" class=\"data row1 col15\" >Y</td>\n",
       "                        <td id=\"T_a809e820_883b_11eb_8076_704d7b3c13bcrow1_col16\" class=\"data row1 col16\" >23</td>\n",
       "                        <td id=\"T_a809e820_883b_11eb_8076_704d7b3c13bcrow1_col17\" class=\"data row1 col17\" >8</td>\n",
       "                        <td id=\"T_a809e820_883b_11eb_8076_704d7b3c13bcrow1_col18\" class=\"data row1 col18\" >1</td>\n",
       "                        <td id=\"T_a809e820_883b_11eb_8076_704d7b3c13bcrow1_col19\" class=\"data row1 col19\" >6.000000</td>\n",
       "                        <td id=\"T_a809e820_883b_11eb_8076_704d7b3c13bcrow1_col20\" class=\"data row1 col20\" >3</td>\n",
       "                        <td id=\"T_a809e820_883b_11eb_8076_704d7b3c13bcrow1_col21\" class=\"data row1 col21\" >5</td>\n",
       "                        <td id=\"T_a809e820_883b_11eb_8076_704d7b3c13bcrow1_col22\" class=\"data row1 col22\" >1</td>\n",
       "                        <td id=\"T_a809e820_883b_11eb_8076_704d7b3c13bcrow1_col23\" class=\"data row1 col23\" >4</td>\n",
       "            </tr>\n",
       "    </tbody></table>"
      ],
      "text/plain": [
       "<pandas.io.formats.style.Styler at 0x162b9696b80>"
      ]
     },
     "execution_count": 4,
     "metadata": {},
     "output_type": "execute_result"
    }
   ],
   "source": [
    "general_data.head(2).style"
   ]
  },
  {
   "cell_type": "code",
   "execution_count": 5,
   "metadata": {
    "slideshow": {
     "slide_type": "skip"
    }
   },
   "outputs": [
    {
     "data": {
      "text/html": [
       "<style  type=\"text/css\" >\n",
       "</style><table id=\"T_a80f7bd1_883b_11eb_a316_704d7b3c13bc\" ><thead>    <tr>        <th class=\"blank level0\" ></th>        <th class=\"col_heading level0 col0\" >EmployeeID</th>        <th class=\"col_heading level0 col1\" >JobInvolvement</th>        <th class=\"col_heading level0 col2\" >PerformanceRating</th>    </tr></thead><tbody>\n",
       "                <tr>\n",
       "                        <th id=\"T_a80f7bd1_883b_11eb_a316_704d7b3c13bclevel0_row0\" class=\"row_heading level0 row0\" >0</th>\n",
       "                        <td id=\"T_a80f7bd1_883b_11eb_a316_704d7b3c13bcrow0_col0\" class=\"data row0 col0\" >1</td>\n",
       "                        <td id=\"T_a80f7bd1_883b_11eb_a316_704d7b3c13bcrow0_col1\" class=\"data row0 col1\" >3</td>\n",
       "                        <td id=\"T_a80f7bd1_883b_11eb_a316_704d7b3c13bcrow0_col2\" class=\"data row0 col2\" >3</td>\n",
       "            </tr>\n",
       "            <tr>\n",
       "                        <th id=\"T_a80f7bd1_883b_11eb_a316_704d7b3c13bclevel0_row1\" class=\"row_heading level0 row1\" >1</th>\n",
       "                        <td id=\"T_a80f7bd1_883b_11eb_a316_704d7b3c13bcrow1_col0\" class=\"data row1 col0\" >2</td>\n",
       "                        <td id=\"T_a80f7bd1_883b_11eb_a316_704d7b3c13bcrow1_col1\" class=\"data row1 col1\" >2</td>\n",
       "                        <td id=\"T_a80f7bd1_883b_11eb_a316_704d7b3c13bcrow1_col2\" class=\"data row1 col2\" >4</td>\n",
       "            </tr>\n",
       "    </tbody></table>"
      ],
      "text/plain": [
       "<pandas.io.formats.style.Styler at 0x162bac03eb0>"
      ]
     },
     "execution_count": 5,
     "metadata": {},
     "output_type": "execute_result"
    }
   ],
   "source": [
    "manager_survey_data.head(2).style"
   ]
  },
  {
   "cell_type": "code",
   "execution_count": 6,
   "metadata": {
    "slideshow": {
     "slide_type": "skip"
    }
   },
   "outputs": [
    {
     "data": {
      "text/html": [
       "<style  type=\"text/css\" >\n",
       "</style><table id=\"T_a811c2b2_883b_11eb_b1c0_704d7b3c13bc\" ><thead>    <tr>        <th class=\"blank level0\" ></th>        <th class=\"col_heading level0 col0\" >EmployeeID</th>        <th class=\"col_heading level0 col1\" >EnvironmentSatisfaction</th>        <th class=\"col_heading level0 col2\" >JobSatisfaction</th>        <th class=\"col_heading level0 col3\" >WorkLifeBalance</th>    </tr></thead><tbody>\n",
       "                <tr>\n",
       "                        <th id=\"T_a811c2b2_883b_11eb_b1c0_704d7b3c13bclevel0_row0\" class=\"row_heading level0 row0\" >0</th>\n",
       "                        <td id=\"T_a811c2b2_883b_11eb_b1c0_704d7b3c13bcrow0_col0\" class=\"data row0 col0\" >1</td>\n",
       "                        <td id=\"T_a811c2b2_883b_11eb_b1c0_704d7b3c13bcrow0_col1\" class=\"data row0 col1\" >3.000000</td>\n",
       "                        <td id=\"T_a811c2b2_883b_11eb_b1c0_704d7b3c13bcrow0_col2\" class=\"data row0 col2\" >4.000000</td>\n",
       "                        <td id=\"T_a811c2b2_883b_11eb_b1c0_704d7b3c13bcrow0_col3\" class=\"data row0 col3\" >2.000000</td>\n",
       "            </tr>\n",
       "            <tr>\n",
       "                        <th id=\"T_a811c2b2_883b_11eb_b1c0_704d7b3c13bclevel0_row1\" class=\"row_heading level0 row1\" >1</th>\n",
       "                        <td id=\"T_a811c2b2_883b_11eb_b1c0_704d7b3c13bcrow1_col0\" class=\"data row1 col0\" >2</td>\n",
       "                        <td id=\"T_a811c2b2_883b_11eb_b1c0_704d7b3c13bcrow1_col1\" class=\"data row1 col1\" >3.000000</td>\n",
       "                        <td id=\"T_a811c2b2_883b_11eb_b1c0_704d7b3c13bcrow1_col2\" class=\"data row1 col2\" >2.000000</td>\n",
       "                        <td id=\"T_a811c2b2_883b_11eb_b1c0_704d7b3c13bcrow1_col3\" class=\"data row1 col3\" >4.000000</td>\n",
       "            </tr>\n",
       "    </tbody></table>"
      ],
      "text/plain": [
       "<pandas.io.formats.style.Styler at 0x162bac03130>"
      ]
     },
     "execution_count": 6,
     "metadata": {},
     "output_type": "execute_result"
    }
   ],
   "source": [
    "employee_survey_data.head(2).style"
   ]
  },
  {
   "cell_type": "code",
   "execution_count": 7,
   "metadata": {
    "slideshow": {
     "slide_type": "skip"
    }
   },
   "outputs": [
    {
     "data": {
      "text/html": [
       "<style  type=\"text/css\" >\n",
       "</style><table id=\"T_a8140b26_883b_11eb_9fa5_704d7b3c13bc\" ><thead>    <tr>        <th class=\"blank level0\" ></th>        <th class=\"col_heading level0 col0\" >Unnamed: 0</th>        <th class=\"col_heading level0 col1\" >2015-01-01</th>        <th class=\"col_heading level0 col2\" >2015-01-02</th>        <th class=\"col_heading level0 col3\" >2015-01-05</th>        <th class=\"col_heading level0 col4\" >2015-01-06</th>        <th class=\"col_heading level0 col5\" >2015-01-07</th>        <th class=\"col_heading level0 col6\" >2015-01-08</th>        <th class=\"col_heading level0 col7\" >2015-01-09</th>        <th class=\"col_heading level0 col8\" >2015-01-12</th>        <th class=\"col_heading level0 col9\" >2015-01-13</th>        <th class=\"col_heading level0 col10\" >2015-01-14</th>        <th class=\"col_heading level0 col11\" >2015-01-15</th>        <th class=\"col_heading level0 col12\" >2015-01-16</th>        <th class=\"col_heading level0 col13\" >2015-01-19</th>        <th class=\"col_heading level0 col14\" >2015-01-20</th>        <th class=\"col_heading level0 col15\" >2015-01-21</th>        <th class=\"col_heading level0 col16\" >2015-01-22</th>        <th class=\"col_heading level0 col17\" >2015-01-23</th>        <th class=\"col_heading level0 col18\" >2015-01-26</th>        <th class=\"col_heading level0 col19\" >2015-01-27</th>        <th class=\"col_heading level0 col20\" >2015-01-28</th>        <th class=\"col_heading level0 col21\" >2015-01-29</th>        <th class=\"col_heading level0 col22\" >2015-01-30</th>        <th class=\"col_heading level0 col23\" >2015-02-02</th>        <th class=\"col_heading level0 col24\" >2015-02-03</th>        <th class=\"col_heading level0 col25\" >2015-02-04</th>        <th class=\"col_heading level0 col26\" >2015-02-05</th>        <th class=\"col_heading level0 col27\" >2015-02-06</th>        <th class=\"col_heading level0 col28\" >2015-02-09</th>        <th class=\"col_heading level0 col29\" >2015-02-10</th>        <th class=\"col_heading level0 col30\" >2015-02-11</th>        <th class=\"col_heading level0 col31\" >2015-02-12</th>        <th class=\"col_heading level0 col32\" >2015-02-13</th>        <th class=\"col_heading level0 col33\" >2015-02-16</th>        <th class=\"col_heading level0 col34\" >2015-02-17</th>        <th class=\"col_heading level0 col35\" >2015-02-18</th>        <th class=\"col_heading level0 col36\" >2015-02-19</th>        <th class=\"col_heading level0 col37\" >2015-02-20</th>        <th class=\"col_heading level0 col38\" >2015-02-23</th>        <th class=\"col_heading level0 col39\" >2015-02-24</th>        <th class=\"col_heading level0 col40\" >2015-02-25</th>        <th class=\"col_heading level0 col41\" >2015-02-26</th>        <th class=\"col_heading level0 col42\" >2015-02-27</th>        <th class=\"col_heading level0 col43\" >2015-03-02</th>        <th class=\"col_heading level0 col44\" >2015-03-03</th>        <th class=\"col_heading level0 col45\" >2015-03-04</th>        <th class=\"col_heading level0 col46\" >2015-03-05</th>        <th class=\"col_heading level0 col47\" >2015-03-06</th>        <th class=\"col_heading level0 col48\" >2015-03-09</th>        <th class=\"col_heading level0 col49\" >2015-03-10</th>        <th class=\"col_heading level0 col50\" >2015-03-11</th>        <th class=\"col_heading level0 col51\" >2015-03-12</th>        <th class=\"col_heading level0 col52\" >2015-03-13</th>        <th class=\"col_heading level0 col53\" >2015-03-16</th>        <th class=\"col_heading level0 col54\" >2015-03-17</th>        <th class=\"col_heading level0 col55\" >2015-03-18</th>        <th class=\"col_heading level0 col56\" >2015-03-19</th>        <th class=\"col_heading level0 col57\" >2015-03-20</th>        <th class=\"col_heading level0 col58\" >2015-03-23</th>        <th class=\"col_heading level0 col59\" >2015-03-24</th>        <th class=\"col_heading level0 col60\" >2015-03-25</th>        <th class=\"col_heading level0 col61\" >2015-03-26</th>        <th class=\"col_heading level0 col62\" >2015-03-27</th>        <th class=\"col_heading level0 col63\" >2015-03-30</th>        <th class=\"col_heading level0 col64\" >2015-03-31</th>        <th class=\"col_heading level0 col65\" >2015-04-01</th>        <th class=\"col_heading level0 col66\" >2015-04-02</th>        <th class=\"col_heading level0 col67\" >2015-04-03</th>        <th class=\"col_heading level0 col68\" >2015-04-06</th>        <th class=\"col_heading level0 col69\" >2015-04-07</th>        <th class=\"col_heading level0 col70\" >2015-04-08</th>        <th class=\"col_heading level0 col71\" >2015-04-09</th>        <th class=\"col_heading level0 col72\" >2015-04-10</th>        <th class=\"col_heading level0 col73\" >2015-04-13</th>        <th class=\"col_heading level0 col74\" >2015-04-14</th>        <th class=\"col_heading level0 col75\" >2015-04-15</th>        <th class=\"col_heading level0 col76\" >2015-04-16</th>        <th class=\"col_heading level0 col77\" >2015-04-17</th>        <th class=\"col_heading level0 col78\" >2015-04-20</th>        <th class=\"col_heading level0 col79\" >2015-04-21</th>        <th class=\"col_heading level0 col80\" >2015-04-22</th>        <th class=\"col_heading level0 col81\" >2015-04-23</th>        <th class=\"col_heading level0 col82\" >2015-04-24</th>        <th class=\"col_heading level0 col83\" >2015-04-27</th>        <th class=\"col_heading level0 col84\" >2015-04-28</th>        <th class=\"col_heading level0 col85\" >2015-04-29</th>        <th class=\"col_heading level0 col86\" >2015-04-30</th>        <th class=\"col_heading level0 col87\" >2015-05-01</th>        <th class=\"col_heading level0 col88\" >2015-05-04</th>        <th class=\"col_heading level0 col89\" >2015-05-05</th>        <th class=\"col_heading level0 col90\" >2015-05-06</th>        <th class=\"col_heading level0 col91\" >2015-05-07</th>        <th class=\"col_heading level0 col92\" >2015-05-08</th>        <th class=\"col_heading level0 col93\" >2015-05-11</th>        <th class=\"col_heading level0 col94\" >2015-05-12</th>        <th class=\"col_heading level0 col95\" >2015-05-13</th>        <th class=\"col_heading level0 col96\" >2015-05-14</th>        <th class=\"col_heading level0 col97\" >2015-05-15</th>        <th class=\"col_heading level0 col98\" >2015-05-18</th>        <th class=\"col_heading level0 col99\" >2015-05-19</th>        <th class=\"col_heading level0 col100\" >2015-05-20</th>        <th class=\"col_heading level0 col101\" >2015-05-21</th>        <th class=\"col_heading level0 col102\" >2015-05-22</th>        <th class=\"col_heading level0 col103\" >2015-05-25</th>        <th class=\"col_heading level0 col104\" >2015-05-26</th>        <th class=\"col_heading level0 col105\" >2015-05-27</th>        <th class=\"col_heading level0 col106\" >2015-05-28</th>        <th class=\"col_heading level0 col107\" >2015-05-29</th>        <th class=\"col_heading level0 col108\" >2015-06-01</th>        <th class=\"col_heading level0 col109\" >2015-06-02</th>        <th class=\"col_heading level0 col110\" >2015-06-03</th>        <th class=\"col_heading level0 col111\" >2015-06-04</th>        <th class=\"col_heading level0 col112\" >2015-06-05</th>        <th class=\"col_heading level0 col113\" >2015-06-08</th>        <th class=\"col_heading level0 col114\" >2015-06-09</th>        <th class=\"col_heading level0 col115\" >2015-06-10</th>        <th class=\"col_heading level0 col116\" >2015-06-11</th>        <th class=\"col_heading level0 col117\" >2015-06-12</th>        <th class=\"col_heading level0 col118\" >2015-06-15</th>        <th class=\"col_heading level0 col119\" >2015-06-16</th>        <th class=\"col_heading level0 col120\" >2015-06-17</th>        <th class=\"col_heading level0 col121\" >2015-06-18</th>        <th class=\"col_heading level0 col122\" >2015-06-19</th>        <th class=\"col_heading level0 col123\" >2015-06-22</th>        <th class=\"col_heading level0 col124\" >2015-06-23</th>        <th class=\"col_heading level0 col125\" >2015-06-24</th>        <th class=\"col_heading level0 col126\" >2015-06-25</th>        <th class=\"col_heading level0 col127\" >2015-06-26</th>        <th class=\"col_heading level0 col128\" >2015-06-29</th>        <th class=\"col_heading level0 col129\" >2015-06-30</th>        <th class=\"col_heading level0 col130\" >2015-07-01</th>        <th class=\"col_heading level0 col131\" >2015-07-02</th>        <th class=\"col_heading level0 col132\" >2015-07-03</th>        <th class=\"col_heading level0 col133\" >2015-07-06</th>        <th class=\"col_heading level0 col134\" >2015-07-07</th>        <th class=\"col_heading level0 col135\" >2015-07-08</th>        <th class=\"col_heading level0 col136\" >2015-07-09</th>        <th class=\"col_heading level0 col137\" >2015-07-10</th>        <th class=\"col_heading level0 col138\" >2015-07-13</th>        <th class=\"col_heading level0 col139\" >2015-07-14</th>        <th class=\"col_heading level0 col140\" >2015-07-15</th>        <th class=\"col_heading level0 col141\" >2015-07-16</th>        <th class=\"col_heading level0 col142\" >2015-07-17</th>        <th class=\"col_heading level0 col143\" >2015-07-20</th>        <th class=\"col_heading level0 col144\" >2015-07-21</th>        <th class=\"col_heading level0 col145\" >2015-07-22</th>        <th class=\"col_heading level0 col146\" >2015-07-23</th>        <th class=\"col_heading level0 col147\" >2015-07-24</th>        <th class=\"col_heading level0 col148\" >2015-07-27</th>        <th class=\"col_heading level0 col149\" >2015-07-28</th>        <th class=\"col_heading level0 col150\" >2015-07-29</th>        <th class=\"col_heading level0 col151\" >2015-07-30</th>        <th class=\"col_heading level0 col152\" >2015-07-31</th>        <th class=\"col_heading level0 col153\" >2015-08-03</th>        <th class=\"col_heading level0 col154\" >2015-08-04</th>        <th class=\"col_heading level0 col155\" >2015-08-05</th>        <th class=\"col_heading level0 col156\" >2015-08-06</th>        <th class=\"col_heading level0 col157\" >2015-08-07</th>        <th class=\"col_heading level0 col158\" >2015-08-10</th>        <th class=\"col_heading level0 col159\" >2015-08-11</th>        <th class=\"col_heading level0 col160\" >2015-08-12</th>        <th class=\"col_heading level0 col161\" >2015-08-13</th>        <th class=\"col_heading level0 col162\" >2015-08-14</th>        <th class=\"col_heading level0 col163\" >2015-08-17</th>        <th class=\"col_heading level0 col164\" >2015-08-18</th>        <th class=\"col_heading level0 col165\" >2015-08-19</th>        <th class=\"col_heading level0 col166\" >2015-08-20</th>        <th class=\"col_heading level0 col167\" >2015-08-21</th>        <th class=\"col_heading level0 col168\" >2015-08-24</th>        <th class=\"col_heading level0 col169\" >2015-08-25</th>        <th class=\"col_heading level0 col170\" >2015-08-26</th>        <th class=\"col_heading level0 col171\" >2015-08-27</th>        <th class=\"col_heading level0 col172\" >2015-08-28</th>        <th class=\"col_heading level0 col173\" >2015-08-31</th>        <th class=\"col_heading level0 col174\" >2015-09-01</th>        <th class=\"col_heading level0 col175\" >2015-09-02</th>        <th class=\"col_heading level0 col176\" >2015-09-03</th>        <th class=\"col_heading level0 col177\" >2015-09-04</th>        <th class=\"col_heading level0 col178\" >2015-09-07</th>        <th class=\"col_heading level0 col179\" >2015-09-08</th>        <th class=\"col_heading level0 col180\" >2015-09-09</th>        <th class=\"col_heading level0 col181\" >2015-09-10</th>        <th class=\"col_heading level0 col182\" >2015-09-11</th>        <th class=\"col_heading level0 col183\" >2015-09-14</th>        <th class=\"col_heading level0 col184\" >2015-09-15</th>        <th class=\"col_heading level0 col185\" >2015-09-16</th>        <th class=\"col_heading level0 col186\" >2015-09-17</th>        <th class=\"col_heading level0 col187\" >2015-09-18</th>        <th class=\"col_heading level0 col188\" >2015-09-21</th>        <th class=\"col_heading level0 col189\" >2015-09-22</th>        <th class=\"col_heading level0 col190\" >2015-09-23</th>        <th class=\"col_heading level0 col191\" >2015-09-24</th>        <th class=\"col_heading level0 col192\" >2015-09-25</th>        <th class=\"col_heading level0 col193\" >2015-09-28</th>        <th class=\"col_heading level0 col194\" >2015-09-29</th>        <th class=\"col_heading level0 col195\" >2015-09-30</th>        <th class=\"col_heading level0 col196\" >2015-10-01</th>        <th class=\"col_heading level0 col197\" >2015-10-02</th>        <th class=\"col_heading level0 col198\" >2015-10-05</th>        <th class=\"col_heading level0 col199\" >2015-10-06</th>        <th class=\"col_heading level0 col200\" >2015-10-07</th>        <th class=\"col_heading level0 col201\" >2015-10-08</th>        <th class=\"col_heading level0 col202\" >2015-10-09</th>        <th class=\"col_heading level0 col203\" >2015-10-12</th>        <th class=\"col_heading level0 col204\" >2015-10-13</th>        <th class=\"col_heading level0 col205\" >2015-10-14</th>        <th class=\"col_heading level0 col206\" >2015-10-15</th>        <th class=\"col_heading level0 col207\" >2015-10-16</th>        <th class=\"col_heading level0 col208\" >2015-10-19</th>        <th class=\"col_heading level0 col209\" >2015-10-20</th>        <th class=\"col_heading level0 col210\" >2015-10-21</th>        <th class=\"col_heading level0 col211\" >2015-10-22</th>        <th class=\"col_heading level0 col212\" >2015-10-23</th>        <th class=\"col_heading level0 col213\" >2015-10-26</th>        <th class=\"col_heading level0 col214\" >2015-10-27</th>        <th class=\"col_heading level0 col215\" >2015-10-28</th>        <th class=\"col_heading level0 col216\" >2015-10-29</th>        <th class=\"col_heading level0 col217\" >2015-10-30</th>        <th class=\"col_heading level0 col218\" >2015-11-02</th>        <th class=\"col_heading level0 col219\" >2015-11-03</th>        <th class=\"col_heading level0 col220\" >2015-11-04</th>        <th class=\"col_heading level0 col221\" >2015-11-05</th>        <th class=\"col_heading level0 col222\" >2015-11-06</th>        <th class=\"col_heading level0 col223\" >2015-11-09</th>        <th class=\"col_heading level0 col224\" >2015-11-10</th>        <th class=\"col_heading level0 col225\" >2015-11-11</th>        <th class=\"col_heading level0 col226\" >2015-11-12</th>        <th class=\"col_heading level0 col227\" >2015-11-13</th>        <th class=\"col_heading level0 col228\" >2015-11-16</th>        <th class=\"col_heading level0 col229\" >2015-11-17</th>        <th class=\"col_heading level0 col230\" >2015-11-18</th>        <th class=\"col_heading level0 col231\" >2015-11-19</th>        <th class=\"col_heading level0 col232\" >2015-11-20</th>        <th class=\"col_heading level0 col233\" >2015-11-23</th>        <th class=\"col_heading level0 col234\" >2015-11-24</th>        <th class=\"col_heading level0 col235\" >2015-11-25</th>        <th class=\"col_heading level0 col236\" >2015-11-26</th>        <th class=\"col_heading level0 col237\" >2015-11-27</th>        <th class=\"col_heading level0 col238\" >2015-11-30</th>        <th class=\"col_heading level0 col239\" >2015-12-01</th>        <th class=\"col_heading level0 col240\" >2015-12-02</th>        <th class=\"col_heading level0 col241\" >2015-12-03</th>        <th class=\"col_heading level0 col242\" >2015-12-04</th>        <th class=\"col_heading level0 col243\" >2015-12-07</th>        <th class=\"col_heading level0 col244\" >2015-12-08</th>        <th class=\"col_heading level0 col245\" >2015-12-09</th>        <th class=\"col_heading level0 col246\" >2015-12-10</th>        <th class=\"col_heading level0 col247\" >2015-12-11</th>        <th class=\"col_heading level0 col248\" >2015-12-14</th>        <th class=\"col_heading level0 col249\" >2015-12-15</th>        <th class=\"col_heading level0 col250\" >2015-12-16</th>        <th class=\"col_heading level0 col251\" >2015-12-17</th>        <th class=\"col_heading level0 col252\" >2015-12-18</th>        <th class=\"col_heading level0 col253\" >2015-12-21</th>        <th class=\"col_heading level0 col254\" >2015-12-22</th>        <th class=\"col_heading level0 col255\" >2015-12-23</th>        <th class=\"col_heading level0 col256\" >2015-12-24</th>        <th class=\"col_heading level0 col257\" >2015-12-25</th>        <th class=\"col_heading level0 col258\" >2015-12-28</th>        <th class=\"col_heading level0 col259\" >2015-12-29</th>        <th class=\"col_heading level0 col260\" >2015-12-30</th>        <th class=\"col_heading level0 col261\" >2015-12-31</th>    </tr></thead><tbody>\n",
       "                <tr>\n",
       "                        <th id=\"T_a8140b26_883b_11eb_9fa5_704d7b3c13bclevel0_row0\" class=\"row_heading level0 row0\" >0</th>\n",
       "                        <td id=\"T_a8140b26_883b_11eb_9fa5_704d7b3c13bcrow0_col0\" class=\"data row0 col0\" >1</td>\n",
       "                        <td id=\"T_a8140b26_883b_11eb_9fa5_704d7b3c13bcrow0_col1\" class=\"data row0 col1\" >nan</td>\n",
       "                        <td id=\"T_a8140b26_883b_11eb_9fa5_704d7b3c13bcrow0_col2\" class=\"data row0 col2\" >2015-01-02 09:43:45</td>\n",
       "                        <td id=\"T_a8140b26_883b_11eb_9fa5_704d7b3c13bcrow0_col3\" class=\"data row0 col3\" >2015-01-05 10:08:48</td>\n",
       "                        <td id=\"T_a8140b26_883b_11eb_9fa5_704d7b3c13bcrow0_col4\" class=\"data row0 col4\" >2015-01-06 09:54:26</td>\n",
       "                        <td id=\"T_a8140b26_883b_11eb_9fa5_704d7b3c13bcrow0_col5\" class=\"data row0 col5\" >2015-01-07 09:34:31</td>\n",
       "                        <td id=\"T_a8140b26_883b_11eb_9fa5_704d7b3c13bcrow0_col6\" class=\"data row0 col6\" >2015-01-08 09:51:09</td>\n",
       "                        <td id=\"T_a8140b26_883b_11eb_9fa5_704d7b3c13bcrow0_col7\" class=\"data row0 col7\" >2015-01-09 10:09:25</td>\n",
       "                        <td id=\"T_a8140b26_883b_11eb_9fa5_704d7b3c13bcrow0_col8\" class=\"data row0 col8\" >2015-01-12 09:42:53</td>\n",
       "                        <td id=\"T_a8140b26_883b_11eb_9fa5_704d7b3c13bcrow0_col9\" class=\"data row0 col9\" >2015-01-13 10:13:06</td>\n",
       "                        <td id=\"T_a8140b26_883b_11eb_9fa5_704d7b3c13bcrow0_col10\" class=\"data row0 col10\" >nan</td>\n",
       "                        <td id=\"T_a8140b26_883b_11eb_9fa5_704d7b3c13bcrow0_col11\" class=\"data row0 col11\" >2015-01-15 10:01:24</td>\n",
       "                        <td id=\"T_a8140b26_883b_11eb_9fa5_704d7b3c13bcrow0_col12\" class=\"data row0 col12\" >2015-01-16 10:19:08</td>\n",
       "                        <td id=\"T_a8140b26_883b_11eb_9fa5_704d7b3c13bcrow0_col13\" class=\"data row0 col13\" >nan</td>\n",
       "                        <td id=\"T_a8140b26_883b_11eb_9fa5_704d7b3c13bcrow0_col14\" class=\"data row0 col14\" >2015-01-20 09:50:34</td>\n",
       "                        <td id=\"T_a8140b26_883b_11eb_9fa5_704d7b3c13bcrow0_col15\" class=\"data row0 col15\" >2015-01-21 09:49:42</td>\n",
       "                        <td id=\"T_a8140b26_883b_11eb_9fa5_704d7b3c13bcrow0_col16\" class=\"data row0 col16\" >2015-01-22 09:47:45</td>\n",
       "                        <td id=\"T_a8140b26_883b_11eb_9fa5_704d7b3c13bcrow0_col17\" class=\"data row0 col17\" >2015-01-23 09:23:44</td>\n",
       "                        <td id=\"T_a8140b26_883b_11eb_9fa5_704d7b3c13bcrow0_col18\" class=\"data row0 col18\" >nan</td>\n",
       "                        <td id=\"T_a8140b26_883b_11eb_9fa5_704d7b3c13bcrow0_col19\" class=\"data row0 col19\" >2015-01-27 09:50:37</td>\n",
       "                        <td id=\"T_a8140b26_883b_11eb_9fa5_704d7b3c13bcrow0_col20\" class=\"data row0 col20\" >2015-01-28 09:56:13</td>\n",
       "                        <td id=\"T_a8140b26_883b_11eb_9fa5_704d7b3c13bcrow0_col21\" class=\"data row0 col21\" >2015-01-29 09:53:47</td>\n",
       "                        <td id=\"T_a8140b26_883b_11eb_9fa5_704d7b3c13bcrow0_col22\" class=\"data row0 col22\" >2015-01-30 10:09:26</td>\n",
       "                        <td id=\"T_a8140b26_883b_11eb_9fa5_704d7b3c13bcrow0_col23\" class=\"data row0 col23\" >2015-02-02 09:38:43</td>\n",
       "                        <td id=\"T_a8140b26_883b_11eb_9fa5_704d7b3c13bcrow0_col24\" class=\"data row0 col24\" >2015-02-03 10:23:38</td>\n",
       "                        <td id=\"T_a8140b26_883b_11eb_9fa5_704d7b3c13bcrow0_col25\" class=\"data row0 col25\" >2015-02-04 09:48:37</td>\n",
       "                        <td id=\"T_a8140b26_883b_11eb_9fa5_704d7b3c13bcrow0_col26\" class=\"data row0 col26\" >2015-02-05 09:52:36</td>\n",
       "                        <td id=\"T_a8140b26_883b_11eb_9fa5_704d7b3c13bcrow0_col27\" class=\"data row0 col27\" >2015-02-06 09:53:23</td>\n",
       "                        <td id=\"T_a8140b26_883b_11eb_9fa5_704d7b3c13bcrow0_col28\" class=\"data row0 col28\" >2015-02-09 10:01:45</td>\n",
       "                        <td id=\"T_a8140b26_883b_11eb_9fa5_704d7b3c13bcrow0_col29\" class=\"data row0 col29\" >2015-02-10 10:14:18</td>\n",
       "                        <td id=\"T_a8140b26_883b_11eb_9fa5_704d7b3c13bcrow0_col30\" class=\"data row0 col30\" >2015-02-11 10:18:44</td>\n",
       "                        <td id=\"T_a8140b26_883b_11eb_9fa5_704d7b3c13bcrow0_col31\" class=\"data row0 col31\" >2015-02-12 10:10:35</td>\n",
       "                        <td id=\"T_a8140b26_883b_11eb_9fa5_704d7b3c13bcrow0_col32\" class=\"data row0 col32\" >2015-02-13 09:13:07</td>\n",
       "                        <td id=\"T_a8140b26_883b_11eb_9fa5_704d7b3c13bcrow0_col33\" class=\"data row0 col33\" >2015-02-16 10:14:02</td>\n",
       "                        <td id=\"T_a8140b26_883b_11eb_9fa5_704d7b3c13bcrow0_col34\" class=\"data row0 col34\" >2015-02-17 10:03:08</td>\n",
       "                        <td id=\"T_a8140b26_883b_11eb_9fa5_704d7b3c13bcrow0_col35\" class=\"data row0 col35\" >2015-02-18 10:23:06</td>\n",
       "                        <td id=\"T_a8140b26_883b_11eb_9fa5_704d7b3c13bcrow0_col36\" class=\"data row0 col36\" >nan</td>\n",
       "                        <td id=\"T_a8140b26_883b_11eb_9fa5_704d7b3c13bcrow0_col37\" class=\"data row0 col37\" >2015-02-20 09:54:56</td>\n",
       "                        <td id=\"T_a8140b26_883b_11eb_9fa5_704d7b3c13bcrow0_col38\" class=\"data row0 col38\" >2015-02-23 09:46:59</td>\n",
       "                        <td id=\"T_a8140b26_883b_11eb_9fa5_704d7b3c13bcrow0_col39\" class=\"data row0 col39\" >2015-02-24 10:11:18</td>\n",
       "                        <td id=\"T_a8140b26_883b_11eb_9fa5_704d7b3c13bcrow0_col40\" class=\"data row0 col40\" >2015-02-25 09:52:36</td>\n",
       "                        <td id=\"T_a8140b26_883b_11eb_9fa5_704d7b3c13bcrow0_col41\" class=\"data row0 col41\" >2015-02-26 09:56:33</td>\n",
       "                        <td id=\"T_a8140b26_883b_11eb_9fa5_704d7b3c13bcrow0_col42\" class=\"data row0 col42\" >2015-02-27 09:58:46</td>\n",
       "                        <td id=\"T_a8140b26_883b_11eb_9fa5_704d7b3c13bcrow0_col43\" class=\"data row0 col43\" >2015-03-02 10:19:43</td>\n",
       "                        <td id=\"T_a8140b26_883b_11eb_9fa5_704d7b3c13bcrow0_col44\" class=\"data row0 col44\" >2015-03-03 10:08:37</td>\n",
       "                        <td id=\"T_a8140b26_883b_11eb_9fa5_704d7b3c13bcrow0_col45\" class=\"data row0 col45\" >2015-03-04 10:05:38</td>\n",
       "                        <td id=\"T_a8140b26_883b_11eb_9fa5_704d7b3c13bcrow0_col46\" class=\"data row0 col46\" >nan</td>\n",
       "                        <td id=\"T_a8140b26_883b_11eb_9fa5_704d7b3c13bcrow0_col47\" class=\"data row0 col47\" >2015-03-06 09:55:53</td>\n",
       "                        <td id=\"T_a8140b26_883b_11eb_9fa5_704d7b3c13bcrow0_col48\" class=\"data row0 col48\" >2015-03-09 10:28:34</td>\n",
       "                        <td id=\"T_a8140b26_883b_11eb_9fa5_704d7b3c13bcrow0_col49\" class=\"data row0 col49\" >2015-03-10 09:47:30</td>\n",
       "                        <td id=\"T_a8140b26_883b_11eb_9fa5_704d7b3c13bcrow0_col50\" class=\"data row0 col50\" >2015-03-11 09:48:59</td>\n",
       "                        <td id=\"T_a8140b26_883b_11eb_9fa5_704d7b3c13bcrow0_col51\" class=\"data row0 col51\" >2015-03-12 10:10:51</td>\n",
       "                        <td id=\"T_a8140b26_883b_11eb_9fa5_704d7b3c13bcrow0_col52\" class=\"data row0 col52\" >2015-03-13 10:07:18</td>\n",
       "                        <td id=\"T_a8140b26_883b_11eb_9fa5_704d7b3c13bcrow0_col53\" class=\"data row0 col53\" >nan</td>\n",
       "                        <td id=\"T_a8140b26_883b_11eb_9fa5_704d7b3c13bcrow0_col54\" class=\"data row0 col54\" >2015-03-17 10:05:22</td>\n",
       "                        <td id=\"T_a8140b26_883b_11eb_9fa5_704d7b3c13bcrow0_col55\" class=\"data row0 col55\" >2015-03-18 10:28:21</td>\n",
       "                        <td id=\"T_a8140b26_883b_11eb_9fa5_704d7b3c13bcrow0_col56\" class=\"data row0 col56\" >2015-03-19 10:01:52</td>\n",
       "                        <td id=\"T_a8140b26_883b_11eb_9fa5_704d7b3c13bcrow0_col57\" class=\"data row0 col57\" >2015-03-20 10:37:49</td>\n",
       "                        <td id=\"T_a8140b26_883b_11eb_9fa5_704d7b3c13bcrow0_col58\" class=\"data row0 col58\" >2015-03-23 10:11:19</td>\n",
       "                        <td id=\"T_a8140b26_883b_11eb_9fa5_704d7b3c13bcrow0_col59\" class=\"data row0 col59\" >2015-03-24 10:33:19</td>\n",
       "                        <td id=\"T_a8140b26_883b_11eb_9fa5_704d7b3c13bcrow0_col60\" class=\"data row0 col60\" >2015-03-25 09:41:35</td>\n",
       "                        <td id=\"T_a8140b26_883b_11eb_9fa5_704d7b3c13bcrow0_col61\" class=\"data row0 col61\" >nan</td>\n",
       "                        <td id=\"T_a8140b26_883b_11eb_9fa5_704d7b3c13bcrow0_col62\" class=\"data row0 col62\" >2015-03-27 09:47:30</td>\n",
       "                        <td id=\"T_a8140b26_883b_11eb_9fa5_704d7b3c13bcrow0_col63\" class=\"data row0 col63\" >2015-03-30 10:11:44</td>\n",
       "                        <td id=\"T_a8140b26_883b_11eb_9fa5_704d7b3c13bcrow0_col64\" class=\"data row0 col64\" >2015-03-31 10:08:13</td>\n",
       "                        <td id=\"T_a8140b26_883b_11eb_9fa5_704d7b3c13bcrow0_col65\" class=\"data row0 col65\" >2015-04-01 10:12:37</td>\n",
       "                        <td id=\"T_a8140b26_883b_11eb_9fa5_704d7b3c13bcrow0_col66\" class=\"data row0 col66\" >2015-04-02 09:45:27</td>\n",
       "                        <td id=\"T_a8140b26_883b_11eb_9fa5_704d7b3c13bcrow0_col67\" class=\"data row0 col67\" >2015-04-03 10:00:30</td>\n",
       "                        <td id=\"T_a8140b26_883b_11eb_9fa5_704d7b3c13bcrow0_col68\" class=\"data row0 col68\" >2015-04-06 09:40:19</td>\n",
       "                        <td id=\"T_a8140b26_883b_11eb_9fa5_704d7b3c13bcrow0_col69\" class=\"data row0 col69\" >2015-04-07 10:16:43</td>\n",
       "                        <td id=\"T_a8140b26_883b_11eb_9fa5_704d7b3c13bcrow0_col70\" class=\"data row0 col70\" >2015-04-08 10:04:34</td>\n",
       "                        <td id=\"T_a8140b26_883b_11eb_9fa5_704d7b3c13bcrow0_col71\" class=\"data row0 col71\" >2015-04-09 09:21:27</td>\n",
       "                        <td id=\"T_a8140b26_883b_11eb_9fa5_704d7b3c13bcrow0_col72\" class=\"data row0 col72\" >2015-04-10 09:46:25</td>\n",
       "                        <td id=\"T_a8140b26_883b_11eb_9fa5_704d7b3c13bcrow0_col73\" class=\"data row0 col73\" >2015-04-13 09:39:30</td>\n",
       "                        <td id=\"T_a8140b26_883b_11eb_9fa5_704d7b3c13bcrow0_col74\" class=\"data row0 col74\" >2015-04-14 09:58:48</td>\n",
       "                        <td id=\"T_a8140b26_883b_11eb_9fa5_704d7b3c13bcrow0_col75\" class=\"data row0 col75\" >2015-04-15 09:55:56</td>\n",
       "                        <td id=\"T_a8140b26_883b_11eb_9fa5_704d7b3c13bcrow0_col76\" class=\"data row0 col76\" >2015-04-16 09:46:07</td>\n",
       "                        <td id=\"T_a8140b26_883b_11eb_9fa5_704d7b3c13bcrow0_col77\" class=\"data row0 col77\" >2015-04-17 09:54:13</td>\n",
       "                        <td id=\"T_a8140b26_883b_11eb_9fa5_704d7b3c13bcrow0_col78\" class=\"data row0 col78\" >2015-04-20 10:03:25</td>\n",
       "                        <td id=\"T_a8140b26_883b_11eb_9fa5_704d7b3c13bcrow0_col79\" class=\"data row0 col79\" >2015-04-21 09:50:41</td>\n",
       "                        <td id=\"T_a8140b26_883b_11eb_9fa5_704d7b3c13bcrow0_col80\" class=\"data row0 col80\" >2015-04-22 09:56:16</td>\n",
       "                        <td id=\"T_a8140b26_883b_11eb_9fa5_704d7b3c13bcrow0_col81\" class=\"data row0 col81\" >2015-04-23 10:12:42</td>\n",
       "                        <td id=\"T_a8140b26_883b_11eb_9fa5_704d7b3c13bcrow0_col82\" class=\"data row0 col82\" >2015-04-24 10:05:40</td>\n",
       "                        <td id=\"T_a8140b26_883b_11eb_9fa5_704d7b3c13bcrow0_col83\" class=\"data row0 col83\" >2015-04-27 10:12:01</td>\n",
       "                        <td id=\"T_a8140b26_883b_11eb_9fa5_704d7b3c13bcrow0_col84\" class=\"data row0 col84\" >2015-04-28 09:57:24</td>\n",
       "                        <td id=\"T_a8140b26_883b_11eb_9fa5_704d7b3c13bcrow0_col85\" class=\"data row0 col85\" >2015-04-29 09:46:15</td>\n",
       "                        <td id=\"T_a8140b26_883b_11eb_9fa5_704d7b3c13bcrow0_col86\" class=\"data row0 col86\" >2015-04-30 09:48:30</td>\n",
       "                        <td id=\"T_a8140b26_883b_11eb_9fa5_704d7b3c13bcrow0_col87\" class=\"data row0 col87\" >nan</td>\n",
       "                        <td id=\"T_a8140b26_883b_11eb_9fa5_704d7b3c13bcrow0_col88\" class=\"data row0 col88\" >2015-05-04 09:40:52</td>\n",
       "                        <td id=\"T_a8140b26_883b_11eb_9fa5_704d7b3c13bcrow0_col89\" class=\"data row0 col89\" >2015-05-05 09:54:59</td>\n",
       "                        <td id=\"T_a8140b26_883b_11eb_9fa5_704d7b3c13bcrow0_col90\" class=\"data row0 col90\" >2015-05-06 09:49:06</td>\n",
       "                        <td id=\"T_a8140b26_883b_11eb_9fa5_704d7b3c13bcrow0_col91\" class=\"data row0 col91\" >2015-05-07 10:06:47</td>\n",
       "                        <td id=\"T_a8140b26_883b_11eb_9fa5_704d7b3c13bcrow0_col92\" class=\"data row0 col92\" >2015-05-08 09:55:02</td>\n",
       "                        <td id=\"T_a8140b26_883b_11eb_9fa5_704d7b3c13bcrow0_col93\" class=\"data row0 col93\" >nan</td>\n",
       "                        <td id=\"T_a8140b26_883b_11eb_9fa5_704d7b3c13bcrow0_col94\" class=\"data row0 col94\" >2015-05-12 09:50:17</td>\n",
       "                        <td id=\"T_a8140b26_883b_11eb_9fa5_704d7b3c13bcrow0_col95\" class=\"data row0 col95\" >2015-05-13 10:24:03</td>\n",
       "                        <td id=\"T_a8140b26_883b_11eb_9fa5_704d7b3c13bcrow0_col96\" class=\"data row0 col96\" >2015-05-14 09:50:43</td>\n",
       "                        <td id=\"T_a8140b26_883b_11eb_9fa5_704d7b3c13bcrow0_col97\" class=\"data row0 col97\" >2015-05-15 09:55:32</td>\n",
       "                        <td id=\"T_a8140b26_883b_11eb_9fa5_704d7b3c13bcrow0_col98\" class=\"data row0 col98\" >nan</td>\n",
       "                        <td id=\"T_a8140b26_883b_11eb_9fa5_704d7b3c13bcrow0_col99\" class=\"data row0 col99\" >2015-05-19 09:49:06</td>\n",
       "                        <td id=\"T_a8140b26_883b_11eb_9fa5_704d7b3c13bcrow0_col100\" class=\"data row0 col100\" >2015-05-20 10:00:39</td>\n",
       "                        <td id=\"T_a8140b26_883b_11eb_9fa5_704d7b3c13bcrow0_col101\" class=\"data row0 col101\" >2015-05-21 09:53:15</td>\n",
       "                        <td id=\"T_a8140b26_883b_11eb_9fa5_704d7b3c13bcrow0_col102\" class=\"data row0 col102\" >2015-05-22 10:19:44</td>\n",
       "                        <td id=\"T_a8140b26_883b_11eb_9fa5_704d7b3c13bcrow0_col103\" class=\"data row0 col103\" >2015-05-25 10:15:25</td>\n",
       "                        <td id=\"T_a8140b26_883b_11eb_9fa5_704d7b3c13bcrow0_col104\" class=\"data row0 col104\" >2015-05-26 10:17:01</td>\n",
       "                        <td id=\"T_a8140b26_883b_11eb_9fa5_704d7b3c13bcrow0_col105\" class=\"data row0 col105\" >2015-05-27 09:41:25</td>\n",
       "                        <td id=\"T_a8140b26_883b_11eb_9fa5_704d7b3c13bcrow0_col106\" class=\"data row0 col106\" >2015-05-28 09:57:00</td>\n",
       "                        <td id=\"T_a8140b26_883b_11eb_9fa5_704d7b3c13bcrow0_col107\" class=\"data row0 col107\" >nan</td>\n",
       "                        <td id=\"T_a8140b26_883b_11eb_9fa5_704d7b3c13bcrow0_col108\" class=\"data row0 col108\" >nan</td>\n",
       "                        <td id=\"T_a8140b26_883b_11eb_9fa5_704d7b3c13bcrow0_col109\" class=\"data row0 col109\" >2015-06-02 10:20:49</td>\n",
       "                        <td id=\"T_a8140b26_883b_11eb_9fa5_704d7b3c13bcrow0_col110\" class=\"data row0 col110\" >2015-06-03 09:47:19</td>\n",
       "                        <td id=\"T_a8140b26_883b_11eb_9fa5_704d7b3c13bcrow0_col111\" class=\"data row0 col111\" >2015-06-04 10:23:40</td>\n",
       "                        <td id=\"T_a8140b26_883b_11eb_9fa5_704d7b3c13bcrow0_col112\" class=\"data row0 col112\" >nan</td>\n",
       "                        <td id=\"T_a8140b26_883b_11eb_9fa5_704d7b3c13bcrow0_col113\" class=\"data row0 col113\" >2015-06-08 10:17:56</td>\n",
       "                        <td id=\"T_a8140b26_883b_11eb_9fa5_704d7b3c13bcrow0_col114\" class=\"data row0 col114\" >nan</td>\n",
       "                        <td id=\"T_a8140b26_883b_11eb_9fa5_704d7b3c13bcrow0_col115\" class=\"data row0 col115\" >2015-06-10 09:54:33</td>\n",
       "                        <td id=\"T_a8140b26_883b_11eb_9fa5_704d7b3c13bcrow0_col116\" class=\"data row0 col116\" >2015-06-11 09:47:09</td>\n",
       "                        <td id=\"T_a8140b26_883b_11eb_9fa5_704d7b3c13bcrow0_col117\" class=\"data row0 col117\" >2015-06-12 10:13:55</td>\n",
       "                        <td id=\"T_a8140b26_883b_11eb_9fa5_704d7b3c13bcrow0_col118\" class=\"data row0 col118\" >2015-06-15 09:50:19</td>\n",
       "                        <td id=\"T_a8140b26_883b_11eb_9fa5_704d7b3c13bcrow0_col119\" class=\"data row0 col119\" >2015-06-16 09:59:04</td>\n",
       "                        <td id=\"T_a8140b26_883b_11eb_9fa5_704d7b3c13bcrow0_col120\" class=\"data row0 col120\" >2015-06-17 09:46:15</td>\n",
       "                        <td id=\"T_a8140b26_883b_11eb_9fa5_704d7b3c13bcrow0_col121\" class=\"data row0 col121\" >2015-06-18 10:03:15</td>\n",
       "                        <td id=\"T_a8140b26_883b_11eb_9fa5_704d7b3c13bcrow0_col122\" class=\"data row0 col122\" >2015-06-19 10:06:21</td>\n",
       "                        <td id=\"T_a8140b26_883b_11eb_9fa5_704d7b3c13bcrow0_col123\" class=\"data row0 col123\" >2015-06-22 09:48:40</td>\n",
       "                        <td id=\"T_a8140b26_883b_11eb_9fa5_704d7b3c13bcrow0_col124\" class=\"data row0 col124\" >2015-06-23 09:56:55</td>\n",
       "                        <td id=\"T_a8140b26_883b_11eb_9fa5_704d7b3c13bcrow0_col125\" class=\"data row0 col125\" >2015-06-24 09:59:40</td>\n",
       "                        <td id=\"T_a8140b26_883b_11eb_9fa5_704d7b3c13bcrow0_col126\" class=\"data row0 col126\" >2015-06-25 09:52:01</td>\n",
       "                        <td id=\"T_a8140b26_883b_11eb_9fa5_704d7b3c13bcrow0_col127\" class=\"data row0 col127\" >2015-06-26 10:07:58</td>\n",
       "                        <td id=\"T_a8140b26_883b_11eb_9fa5_704d7b3c13bcrow0_col128\" class=\"data row0 col128\" >2015-06-29 10:01:19</td>\n",
       "                        <td id=\"T_a8140b26_883b_11eb_9fa5_704d7b3c13bcrow0_col129\" class=\"data row0 col129\" >2015-06-30 10:27:40</td>\n",
       "                        <td id=\"T_a8140b26_883b_11eb_9fa5_704d7b3c13bcrow0_col130\" class=\"data row0 col130\" >2015-07-01 09:39:02</td>\n",
       "                        <td id=\"T_a8140b26_883b_11eb_9fa5_704d7b3c13bcrow0_col131\" class=\"data row0 col131\" >2015-07-02 10:07:33</td>\n",
       "                        <td id=\"T_a8140b26_883b_11eb_9fa5_704d7b3c13bcrow0_col132\" class=\"data row0 col132\" >2015-07-03 09:59:57</td>\n",
       "                        <td id=\"T_a8140b26_883b_11eb_9fa5_704d7b3c13bcrow0_col133\" class=\"data row0 col133\" >2015-07-06 09:37:06</td>\n",
       "                        <td id=\"T_a8140b26_883b_11eb_9fa5_704d7b3c13bcrow0_col134\" class=\"data row0 col134\" >2015-07-07 10:08:17</td>\n",
       "                        <td id=\"T_a8140b26_883b_11eb_9fa5_704d7b3c13bcrow0_col135\" class=\"data row0 col135\" >2015-07-08 09:56:30</td>\n",
       "                        <td id=\"T_a8140b26_883b_11eb_9fa5_704d7b3c13bcrow0_col136\" class=\"data row0 col136\" >2015-07-09 09:21:57</td>\n",
       "                        <td id=\"T_a8140b26_883b_11eb_9fa5_704d7b3c13bcrow0_col137\" class=\"data row0 col137\" >2015-07-10 09:43:31</td>\n",
       "                        <td id=\"T_a8140b26_883b_11eb_9fa5_704d7b3c13bcrow0_col138\" class=\"data row0 col138\" >2015-07-13 10:07:21</td>\n",
       "                        <td id=\"T_a8140b26_883b_11eb_9fa5_704d7b3c13bcrow0_col139\" class=\"data row0 col139\" >2015-07-14 10:06:39</td>\n",
       "                        <td id=\"T_a8140b26_883b_11eb_9fa5_704d7b3c13bcrow0_col140\" class=\"data row0 col140\" >2015-07-15 09:54:34</td>\n",
       "                        <td id=\"T_a8140b26_883b_11eb_9fa5_704d7b3c13bcrow0_col141\" class=\"data row0 col141\" >2015-07-16 10:22:47</td>\n",
       "                        <td id=\"T_a8140b26_883b_11eb_9fa5_704d7b3c13bcrow0_col142\" class=\"data row0 col142\" >nan</td>\n",
       "                        <td id=\"T_a8140b26_883b_11eb_9fa5_704d7b3c13bcrow0_col143\" class=\"data row0 col143\" >2015-07-20 10:25:50</td>\n",
       "                        <td id=\"T_a8140b26_883b_11eb_9fa5_704d7b3c13bcrow0_col144\" class=\"data row0 col144\" >2015-07-21 09:48:05</td>\n",
       "                        <td id=\"T_a8140b26_883b_11eb_9fa5_704d7b3c13bcrow0_col145\" class=\"data row0 col145\" >2015-07-22 09:52:29</td>\n",
       "                        <td id=\"T_a8140b26_883b_11eb_9fa5_704d7b3c13bcrow0_col146\" class=\"data row0 col146\" >2015-07-23 10:04:42</td>\n",
       "                        <td id=\"T_a8140b26_883b_11eb_9fa5_704d7b3c13bcrow0_col147\" class=\"data row0 col147\" >2015-07-24 09:34:15</td>\n",
       "                        <td id=\"T_a8140b26_883b_11eb_9fa5_704d7b3c13bcrow0_col148\" class=\"data row0 col148\" >2015-07-27 09:56:24</td>\n",
       "                        <td id=\"T_a8140b26_883b_11eb_9fa5_704d7b3c13bcrow0_col149\" class=\"data row0 col149\" >2015-07-28 10:19:57</td>\n",
       "                        <td id=\"T_a8140b26_883b_11eb_9fa5_704d7b3c13bcrow0_col150\" class=\"data row0 col150\" >2015-07-29 09:48:10</td>\n",
       "                        <td id=\"T_a8140b26_883b_11eb_9fa5_704d7b3c13bcrow0_col151\" class=\"data row0 col151\" >2015-07-30 09:52:24</td>\n",
       "                        <td id=\"T_a8140b26_883b_11eb_9fa5_704d7b3c13bcrow0_col152\" class=\"data row0 col152\" >2015-07-31 10:11:14</td>\n",
       "                        <td id=\"T_a8140b26_883b_11eb_9fa5_704d7b3c13bcrow0_col153\" class=\"data row0 col153\" >2015-08-03 10:03:33</td>\n",
       "                        <td id=\"T_a8140b26_883b_11eb_9fa5_704d7b3c13bcrow0_col154\" class=\"data row0 col154\" >2015-08-04 09:59:34</td>\n",
       "                        <td id=\"T_a8140b26_883b_11eb_9fa5_704d7b3c13bcrow0_col155\" class=\"data row0 col155\" >2015-08-05 09:50:51</td>\n",
       "                        <td id=\"T_a8140b26_883b_11eb_9fa5_704d7b3c13bcrow0_col156\" class=\"data row0 col156\" >2015-08-06 09:56:52</td>\n",
       "                        <td id=\"T_a8140b26_883b_11eb_9fa5_704d7b3c13bcrow0_col157\" class=\"data row0 col157\" >2015-08-07 09:51:30</td>\n",
       "                        <td id=\"T_a8140b26_883b_11eb_9fa5_704d7b3c13bcrow0_col158\" class=\"data row0 col158\" >2015-08-10 10:12:23</td>\n",
       "                        <td id=\"T_a8140b26_883b_11eb_9fa5_704d7b3c13bcrow0_col159\" class=\"data row0 col159\" >2015-08-11 10:08:29</td>\n",
       "                        <td id=\"T_a8140b26_883b_11eb_9fa5_704d7b3c13bcrow0_col160\" class=\"data row0 col160\" >2015-08-12 09:39:08</td>\n",
       "                        <td id=\"T_a8140b26_883b_11eb_9fa5_704d7b3c13bcrow0_col161\" class=\"data row0 col161\" >2015-08-13 09:47:09</td>\n",
       "                        <td id=\"T_a8140b26_883b_11eb_9fa5_704d7b3c13bcrow0_col162\" class=\"data row0 col162\" >2015-08-14 10:00:21</td>\n",
       "                        <td id=\"T_a8140b26_883b_11eb_9fa5_704d7b3c13bcrow0_col163\" class=\"data row0 col163\" >2015-08-17 09:24:23</td>\n",
       "                        <td id=\"T_a8140b26_883b_11eb_9fa5_704d7b3c13bcrow0_col164\" class=\"data row0 col164\" >2015-08-18 10:25:27</td>\n",
       "                        <td id=\"T_a8140b26_883b_11eb_9fa5_704d7b3c13bcrow0_col165\" class=\"data row0 col165\" >2015-08-19 10:14:41</td>\n",
       "                        <td id=\"T_a8140b26_883b_11eb_9fa5_704d7b3c13bcrow0_col166\" class=\"data row0 col166\" >2015-08-20 09:57:56</td>\n",
       "                        <td id=\"T_a8140b26_883b_11eb_9fa5_704d7b3c13bcrow0_col167\" class=\"data row0 col167\" >2015-08-21 10:07:11</td>\n",
       "                        <td id=\"T_a8140b26_883b_11eb_9fa5_704d7b3c13bcrow0_col168\" class=\"data row0 col168\" >2015-08-24 10:07:49</td>\n",
       "                        <td id=\"T_a8140b26_883b_11eb_9fa5_704d7b3c13bcrow0_col169\" class=\"data row0 col169\" >2015-08-25 09:47:59</td>\n",
       "                        <td id=\"T_a8140b26_883b_11eb_9fa5_704d7b3c13bcrow0_col170\" class=\"data row0 col170\" >2015-08-26 09:53:49</td>\n",
       "                        <td id=\"T_a8140b26_883b_11eb_9fa5_704d7b3c13bcrow0_col171\" class=\"data row0 col171\" >2015-08-27 10:16:21</td>\n",
       "                        <td id=\"T_a8140b26_883b_11eb_9fa5_704d7b3c13bcrow0_col172\" class=\"data row0 col172\" >2015-08-28 09:53:47</td>\n",
       "                        <td id=\"T_a8140b26_883b_11eb_9fa5_704d7b3c13bcrow0_col173\" class=\"data row0 col173\" >2015-08-31 10:08:07</td>\n",
       "                        <td id=\"T_a8140b26_883b_11eb_9fa5_704d7b3c13bcrow0_col174\" class=\"data row0 col174\" >nan</td>\n",
       "                        <td id=\"T_a8140b26_883b_11eb_9fa5_704d7b3c13bcrow0_col175\" class=\"data row0 col175\" >2015-09-02 10:37:59</td>\n",
       "                        <td id=\"T_a8140b26_883b_11eb_9fa5_704d7b3c13bcrow0_col176\" class=\"data row0 col176\" >2015-09-03 09:41:16</td>\n",
       "                        <td id=\"T_a8140b26_883b_11eb_9fa5_704d7b3c13bcrow0_col177\" class=\"data row0 col177\" >2015-09-04 10:11:00</td>\n",
       "                        <td id=\"T_a8140b26_883b_11eb_9fa5_704d7b3c13bcrow0_col178\" class=\"data row0 col178\" >2015-09-07 10:17:58</td>\n",
       "                        <td id=\"T_a8140b26_883b_11eb_9fa5_704d7b3c13bcrow0_col179\" class=\"data row0 col179\" >2015-09-08 10:31:57</td>\n",
       "                        <td id=\"T_a8140b26_883b_11eb_9fa5_704d7b3c13bcrow0_col180\" class=\"data row0 col180\" >2015-09-09 10:28:33</td>\n",
       "                        <td id=\"T_a8140b26_883b_11eb_9fa5_704d7b3c13bcrow0_col181\" class=\"data row0 col181\" >2015-09-10 09:54:28</td>\n",
       "                        <td id=\"T_a8140b26_883b_11eb_9fa5_704d7b3c13bcrow0_col182\" class=\"data row0 col182\" >2015-09-11 10:02:49</td>\n",
       "                        <td id=\"T_a8140b26_883b_11eb_9fa5_704d7b3c13bcrow0_col183\" class=\"data row0 col183\" >2015-09-14 10:15:40</td>\n",
       "                        <td id=\"T_a8140b26_883b_11eb_9fa5_704d7b3c13bcrow0_col184\" class=\"data row0 col184\" >2015-09-15 10:26:09</td>\n",
       "                        <td id=\"T_a8140b26_883b_11eb_9fa5_704d7b3c13bcrow0_col185\" class=\"data row0 col185\" >2015-09-16 10:11:03</td>\n",
       "                        <td id=\"T_a8140b26_883b_11eb_9fa5_704d7b3c13bcrow0_col186\" class=\"data row0 col186\" >nan</td>\n",
       "                        <td id=\"T_a8140b26_883b_11eb_9fa5_704d7b3c13bcrow0_col187\" class=\"data row0 col187\" >2015-09-18 10:16:06</td>\n",
       "                        <td id=\"T_a8140b26_883b_11eb_9fa5_704d7b3c13bcrow0_col188\" class=\"data row0 col188\" >2015-09-21 09:48:01</td>\n",
       "                        <td id=\"T_a8140b26_883b_11eb_9fa5_704d7b3c13bcrow0_col189\" class=\"data row0 col189\" >2015-09-22 10:34:52</td>\n",
       "                        <td id=\"T_a8140b26_883b_11eb_9fa5_704d7b3c13bcrow0_col190\" class=\"data row0 col190\" >2015-09-23 10:03:15</td>\n",
       "                        <td id=\"T_a8140b26_883b_11eb_9fa5_704d7b3c13bcrow0_col191\" class=\"data row0 col191\" >2015-09-24 10:00:12</td>\n",
       "                        <td id=\"T_a8140b26_883b_11eb_9fa5_704d7b3c13bcrow0_col192\" class=\"data row0 col192\" >2015-09-25 10:00:00</td>\n",
       "                        <td id=\"T_a8140b26_883b_11eb_9fa5_704d7b3c13bcrow0_col193\" class=\"data row0 col193\" >2015-09-28 09:28:45</td>\n",
       "                        <td id=\"T_a8140b26_883b_11eb_9fa5_704d7b3c13bcrow0_col194\" class=\"data row0 col194\" >2015-09-29 09:51:58</td>\n",
       "                        <td id=\"T_a8140b26_883b_11eb_9fa5_704d7b3c13bcrow0_col195\" class=\"data row0 col195\" >2015-09-30 09:52:41</td>\n",
       "                        <td id=\"T_a8140b26_883b_11eb_9fa5_704d7b3c13bcrow0_col196\" class=\"data row0 col196\" >2015-10-01 10:05:28</td>\n",
       "                        <td id=\"T_a8140b26_883b_11eb_9fa5_704d7b3c13bcrow0_col197\" class=\"data row0 col197\" >nan</td>\n",
       "                        <td id=\"T_a8140b26_883b_11eb_9fa5_704d7b3c13bcrow0_col198\" class=\"data row0 col198\" >2015-10-05 10:02:00</td>\n",
       "                        <td id=\"T_a8140b26_883b_11eb_9fa5_704d7b3c13bcrow0_col199\" class=\"data row0 col199\" >2015-10-06 09:48:24</td>\n",
       "                        <td id=\"T_a8140b26_883b_11eb_9fa5_704d7b3c13bcrow0_col200\" class=\"data row0 col200\" >2015-10-07 09:32:05</td>\n",
       "                        <td id=\"T_a8140b26_883b_11eb_9fa5_704d7b3c13bcrow0_col201\" class=\"data row0 col201\" >2015-10-08 09:39:01</td>\n",
       "                        <td id=\"T_a8140b26_883b_11eb_9fa5_704d7b3c13bcrow0_col202\" class=\"data row0 col202\" >2015-10-09 09:33:40</td>\n",
       "                        <td id=\"T_a8140b26_883b_11eb_9fa5_704d7b3c13bcrow0_col203\" class=\"data row0 col203\" >2015-10-12 10:14:36</td>\n",
       "                        <td id=\"T_a8140b26_883b_11eb_9fa5_704d7b3c13bcrow0_col204\" class=\"data row0 col204\" >nan</td>\n",
       "                        <td id=\"T_a8140b26_883b_11eb_9fa5_704d7b3c13bcrow0_col205\" class=\"data row0 col205\" >2015-10-14 10:19:43</td>\n",
       "                        <td id=\"T_a8140b26_883b_11eb_9fa5_704d7b3c13bcrow0_col206\" class=\"data row0 col206\" >2015-10-15 10:19:51</td>\n",
       "                        <td id=\"T_a8140b26_883b_11eb_9fa5_704d7b3c13bcrow0_col207\" class=\"data row0 col207\" >2015-10-16 09:50:41</td>\n",
       "                        <td id=\"T_a8140b26_883b_11eb_9fa5_704d7b3c13bcrow0_col208\" class=\"data row0 col208\" >2015-10-19 09:55:08</td>\n",
       "                        <td id=\"T_a8140b26_883b_11eb_9fa5_704d7b3c13bcrow0_col209\" class=\"data row0 col209\" >2015-10-20 10:00:37</td>\n",
       "                        <td id=\"T_a8140b26_883b_11eb_9fa5_704d7b3c13bcrow0_col210\" class=\"data row0 col210\" >nan</td>\n",
       "                        <td id=\"T_a8140b26_883b_11eb_9fa5_704d7b3c13bcrow0_col211\" class=\"data row0 col211\" >nan</td>\n",
       "                        <td id=\"T_a8140b26_883b_11eb_9fa5_704d7b3c13bcrow0_col212\" class=\"data row0 col212\" >2015-10-23 10:03:33</td>\n",
       "                        <td id=\"T_a8140b26_883b_11eb_9fa5_704d7b3c13bcrow0_col213\" class=\"data row0 col213\" >2015-10-26 09:51:07</td>\n",
       "                        <td id=\"T_a8140b26_883b_11eb_9fa5_704d7b3c13bcrow0_col214\" class=\"data row0 col214\" >2015-10-27 09:25:10</td>\n",
       "                        <td id=\"T_a8140b26_883b_11eb_9fa5_704d7b3c13bcrow0_col215\" class=\"data row0 col215\" >2015-10-28 09:50:30</td>\n",
       "                        <td id=\"T_a8140b26_883b_11eb_9fa5_704d7b3c13bcrow0_col216\" class=\"data row0 col216\" >2015-10-29 09:50:22</td>\n",
       "                        <td id=\"T_a8140b26_883b_11eb_9fa5_704d7b3c13bcrow0_col217\" class=\"data row0 col217\" >2015-10-30 09:51:07</td>\n",
       "                        <td id=\"T_a8140b26_883b_11eb_9fa5_704d7b3c13bcrow0_col218\" class=\"data row0 col218\" >2015-11-02 10:01:58</td>\n",
       "                        <td id=\"T_a8140b26_883b_11eb_9fa5_704d7b3c13bcrow0_col219\" class=\"data row0 col219\" >2015-11-03 10:28:53</td>\n",
       "                        <td id=\"T_a8140b26_883b_11eb_9fa5_704d7b3c13bcrow0_col220\" class=\"data row0 col220\" >2015-11-04 09:47:00</td>\n",
       "                        <td id=\"T_a8140b26_883b_11eb_9fa5_704d7b3c13bcrow0_col221\" class=\"data row0 col221\" >2015-11-05 10:24:57</td>\n",
       "                        <td id=\"T_a8140b26_883b_11eb_9fa5_704d7b3c13bcrow0_col222\" class=\"data row0 col222\" >2015-11-06 10:15:27</td>\n",
       "                        <td id=\"T_a8140b26_883b_11eb_9fa5_704d7b3c13bcrow0_col223\" class=\"data row0 col223\" >nan</td>\n",
       "                        <td id=\"T_a8140b26_883b_11eb_9fa5_704d7b3c13bcrow0_col224\" class=\"data row0 col224\" >nan</td>\n",
       "                        <td id=\"T_a8140b26_883b_11eb_9fa5_704d7b3c13bcrow0_col225\" class=\"data row0 col225\" >nan</td>\n",
       "                        <td id=\"T_a8140b26_883b_11eb_9fa5_704d7b3c13bcrow0_col226\" class=\"data row0 col226\" >2015-11-12 10:02:34</td>\n",
       "                        <td id=\"T_a8140b26_883b_11eb_9fa5_704d7b3c13bcrow0_col227\" class=\"data row0 col227\" >2015-11-13 09:29:49</td>\n",
       "                        <td id=\"T_a8140b26_883b_11eb_9fa5_704d7b3c13bcrow0_col228\" class=\"data row0 col228\" >2015-11-16 10:16:02</td>\n",
       "                        <td id=\"T_a8140b26_883b_11eb_9fa5_704d7b3c13bcrow0_col229\" class=\"data row0 col229\" >2015-11-17 09:57:23</td>\n",
       "                        <td id=\"T_a8140b26_883b_11eb_9fa5_704d7b3c13bcrow0_col230\" class=\"data row0 col230\" >2015-11-18 10:13:24</td>\n",
       "                        <td id=\"T_a8140b26_883b_11eb_9fa5_704d7b3c13bcrow0_col231\" class=\"data row0 col231\" >2015-11-19 09:46:48</td>\n",
       "                        <td id=\"T_a8140b26_883b_11eb_9fa5_704d7b3c13bcrow0_col232\" class=\"data row0 col232\" >2015-11-20 10:09:35</td>\n",
       "                        <td id=\"T_a8140b26_883b_11eb_9fa5_704d7b3c13bcrow0_col233\" class=\"data row0 col233\" >2015-11-23 09:54:17</td>\n",
       "                        <td id=\"T_a8140b26_883b_11eb_9fa5_704d7b3c13bcrow0_col234\" class=\"data row0 col234\" >2015-11-24 10:02:07</td>\n",
       "                        <td id=\"T_a8140b26_883b_11eb_9fa5_704d7b3c13bcrow0_col235\" class=\"data row0 col235\" >2015-11-25 10:01:51</td>\n",
       "                        <td id=\"T_a8140b26_883b_11eb_9fa5_704d7b3c13bcrow0_col236\" class=\"data row0 col236\" >2015-11-26 10:18:45</td>\n",
       "                        <td id=\"T_a8140b26_883b_11eb_9fa5_704d7b3c13bcrow0_col237\" class=\"data row0 col237\" >2015-11-27 10:24:49</td>\n",
       "                        <td id=\"T_a8140b26_883b_11eb_9fa5_704d7b3c13bcrow0_col238\" class=\"data row0 col238\" >2015-11-30 10:04:24</td>\n",
       "                        <td id=\"T_a8140b26_883b_11eb_9fa5_704d7b3c13bcrow0_col239\" class=\"data row0 col239\" >2015-12-01 09:31:27</td>\n",
       "                        <td id=\"T_a8140b26_883b_11eb_9fa5_704d7b3c13bcrow0_col240\" class=\"data row0 col240\" >2015-12-02 09:57:52</td>\n",
       "                        <td id=\"T_a8140b26_883b_11eb_9fa5_704d7b3c13bcrow0_col241\" class=\"data row0 col241\" >2015-12-03 10:05:55</td>\n",
       "                        <td id=\"T_a8140b26_883b_11eb_9fa5_704d7b3c13bcrow0_col242\" class=\"data row0 col242\" >2015-12-04 09:55:09</td>\n",
       "                        <td id=\"T_a8140b26_883b_11eb_9fa5_704d7b3c13bcrow0_col243\" class=\"data row0 col243\" >2015-12-07 09:28:15</td>\n",
       "                        <td id=\"T_a8140b26_883b_11eb_9fa5_704d7b3c13bcrow0_col244\" class=\"data row0 col244\" >2015-12-08 09:54:56</td>\n",
       "                        <td id=\"T_a8140b26_883b_11eb_9fa5_704d7b3c13bcrow0_col245\" class=\"data row0 col245\" >2015-12-09 09:51:52</td>\n",
       "                        <td id=\"T_a8140b26_883b_11eb_9fa5_704d7b3c13bcrow0_col246\" class=\"data row0 col246\" >2015-12-10 09:40:25</td>\n",
       "                        <td id=\"T_a8140b26_883b_11eb_9fa5_704d7b3c13bcrow0_col247\" class=\"data row0 col247\" >2015-12-11 09:46:49</td>\n",
       "                        <td id=\"T_a8140b26_883b_11eb_9fa5_704d7b3c13bcrow0_col248\" class=\"data row0 col248\" >2015-12-14 10:03:33</td>\n",
       "                        <td id=\"T_a8140b26_883b_11eb_9fa5_704d7b3c13bcrow0_col249\" class=\"data row0 col249\" >nan</td>\n",
       "                        <td id=\"T_a8140b26_883b_11eb_9fa5_704d7b3c13bcrow0_col250\" class=\"data row0 col250\" >2015-12-16 10:21:19</td>\n",
       "                        <td id=\"T_a8140b26_883b_11eb_9fa5_704d7b3c13bcrow0_col251\" class=\"data row0 col251\" >nan</td>\n",
       "                        <td id=\"T_a8140b26_883b_11eb_9fa5_704d7b3c13bcrow0_col252\" class=\"data row0 col252\" >nan</td>\n",
       "                        <td id=\"T_a8140b26_883b_11eb_9fa5_704d7b3c13bcrow0_col253\" class=\"data row0 col253\" >2015-12-21 09:55:29</td>\n",
       "                        <td id=\"T_a8140b26_883b_11eb_9fa5_704d7b3c13bcrow0_col254\" class=\"data row0 col254\" >2015-12-22 10:04:06</td>\n",
       "                        <td id=\"T_a8140b26_883b_11eb_9fa5_704d7b3c13bcrow0_col255\" class=\"data row0 col255\" >2015-12-23 10:14:27</td>\n",
       "                        <td id=\"T_a8140b26_883b_11eb_9fa5_704d7b3c13bcrow0_col256\" class=\"data row0 col256\" >2015-12-24 10:11:35</td>\n",
       "                        <td id=\"T_a8140b26_883b_11eb_9fa5_704d7b3c13bcrow0_col257\" class=\"data row0 col257\" >nan</td>\n",
       "                        <td id=\"T_a8140b26_883b_11eb_9fa5_704d7b3c13bcrow0_col258\" class=\"data row0 col258\" >2015-12-28 10:13:41</td>\n",
       "                        <td id=\"T_a8140b26_883b_11eb_9fa5_704d7b3c13bcrow0_col259\" class=\"data row0 col259\" >2015-12-29 10:03:36</td>\n",
       "                        <td id=\"T_a8140b26_883b_11eb_9fa5_704d7b3c13bcrow0_col260\" class=\"data row0 col260\" >2015-12-30 09:54:12</td>\n",
       "                        <td id=\"T_a8140b26_883b_11eb_9fa5_704d7b3c13bcrow0_col261\" class=\"data row0 col261\" >2015-12-31 10:12:44</td>\n",
       "            </tr>\n",
       "            <tr>\n",
       "                        <th id=\"T_a8140b26_883b_11eb_9fa5_704d7b3c13bclevel0_row1\" class=\"row_heading level0 row1\" >1</th>\n",
       "                        <td id=\"T_a8140b26_883b_11eb_9fa5_704d7b3c13bcrow1_col0\" class=\"data row1 col0\" >2</td>\n",
       "                        <td id=\"T_a8140b26_883b_11eb_9fa5_704d7b3c13bcrow1_col1\" class=\"data row1 col1\" >nan</td>\n",
       "                        <td id=\"T_a8140b26_883b_11eb_9fa5_704d7b3c13bcrow1_col2\" class=\"data row1 col2\" >2015-01-02 10:15:44</td>\n",
       "                        <td id=\"T_a8140b26_883b_11eb_9fa5_704d7b3c13bcrow1_col3\" class=\"data row1 col3\" >2015-01-05 10:21:05</td>\n",
       "                        <td id=\"T_a8140b26_883b_11eb_9fa5_704d7b3c13bcrow1_col4\" class=\"data row1 col4\" >nan</td>\n",
       "                        <td id=\"T_a8140b26_883b_11eb_9fa5_704d7b3c13bcrow1_col5\" class=\"data row1 col5\" >2015-01-07 09:45:17</td>\n",
       "                        <td id=\"T_a8140b26_883b_11eb_9fa5_704d7b3c13bcrow1_col6\" class=\"data row1 col6\" >2015-01-08 10:09:04</td>\n",
       "                        <td id=\"T_a8140b26_883b_11eb_9fa5_704d7b3c13bcrow1_col7\" class=\"data row1 col7\" >2015-01-09 09:43:26</td>\n",
       "                        <td id=\"T_a8140b26_883b_11eb_9fa5_704d7b3c13bcrow1_col8\" class=\"data row1 col8\" >2015-01-12 10:00:07</td>\n",
       "                        <td id=\"T_a8140b26_883b_11eb_9fa5_704d7b3c13bcrow1_col9\" class=\"data row1 col9\" >2015-01-13 10:43:29</td>\n",
       "                        <td id=\"T_a8140b26_883b_11eb_9fa5_704d7b3c13bcrow1_col10\" class=\"data row1 col10\" >nan</td>\n",
       "                        <td id=\"T_a8140b26_883b_11eb_9fa5_704d7b3c13bcrow1_col11\" class=\"data row1 col11\" >2015-01-15 09:37:57</td>\n",
       "                        <td id=\"T_a8140b26_883b_11eb_9fa5_704d7b3c13bcrow1_col12\" class=\"data row1 col12\" >2015-01-16 09:57:18</td>\n",
       "                        <td id=\"T_a8140b26_883b_11eb_9fa5_704d7b3c13bcrow1_col13\" class=\"data row1 col13\" >2015-01-19 10:23:43</td>\n",
       "                        <td id=\"T_a8140b26_883b_11eb_9fa5_704d7b3c13bcrow1_col14\" class=\"data row1 col14\" >2015-01-20 09:29:03</td>\n",
       "                        <td id=\"T_a8140b26_883b_11eb_9fa5_704d7b3c13bcrow1_col15\" class=\"data row1 col15\" >2015-01-21 09:46:45</td>\n",
       "                        <td id=\"T_a8140b26_883b_11eb_9fa5_704d7b3c13bcrow1_col16\" class=\"data row1 col16\" >2015-01-22 10:03:51</td>\n",
       "                        <td id=\"T_a8140b26_883b_11eb_9fa5_704d7b3c13bcrow1_col17\" class=\"data row1 col17\" >2015-01-23 09:20:06</td>\n",
       "                        <td id=\"T_a8140b26_883b_11eb_9fa5_704d7b3c13bcrow1_col18\" class=\"data row1 col18\" >nan</td>\n",
       "                        <td id=\"T_a8140b26_883b_11eb_9fa5_704d7b3c13bcrow1_col19\" class=\"data row1 col19\" >2015-01-27 10:07:48</td>\n",
       "                        <td id=\"T_a8140b26_883b_11eb_9fa5_704d7b3c13bcrow1_col20\" class=\"data row1 col20\" >2015-01-28 10:08:25</td>\n",
       "                        <td id=\"T_a8140b26_883b_11eb_9fa5_704d7b3c13bcrow1_col21\" class=\"data row1 col21\" >2015-01-29 09:52:04</td>\n",
       "                        <td id=\"T_a8140b26_883b_11eb_9fa5_704d7b3c13bcrow1_col22\" class=\"data row1 col22\" >2015-01-30 09:49:49</td>\n",
       "                        <td id=\"T_a8140b26_883b_11eb_9fa5_704d7b3c13bcrow1_col23\" class=\"data row1 col23\" >2015-02-02 10:07:26</td>\n",
       "                        <td id=\"T_a8140b26_883b_11eb_9fa5_704d7b3c13bcrow1_col24\" class=\"data row1 col24\" >2015-02-03 09:55:45</td>\n",
       "                        <td id=\"T_a8140b26_883b_11eb_9fa5_704d7b3c13bcrow1_col25\" class=\"data row1 col25\" >2015-02-04 10:25:41</td>\n",
       "                        <td id=\"T_a8140b26_883b_11eb_9fa5_704d7b3c13bcrow1_col26\" class=\"data row1 col26\" >2015-02-05 10:05:11</td>\n",
       "                        <td id=\"T_a8140b26_883b_11eb_9fa5_704d7b3c13bcrow1_col27\" class=\"data row1 col27\" >2015-02-06 09:12:39</td>\n",
       "                        <td id=\"T_a8140b26_883b_11eb_9fa5_704d7b3c13bcrow1_col28\" class=\"data row1 col28\" >nan</td>\n",
       "                        <td id=\"T_a8140b26_883b_11eb_9fa5_704d7b3c13bcrow1_col29\" class=\"data row1 col29\" >2015-02-10 10:10:13</td>\n",
       "                        <td id=\"T_a8140b26_883b_11eb_9fa5_704d7b3c13bcrow1_col30\" class=\"data row1 col30\" >2015-02-11 09:40:20</td>\n",
       "                        <td id=\"T_a8140b26_883b_11eb_9fa5_704d7b3c13bcrow1_col31\" class=\"data row1 col31\" >2015-02-12 10:10:09</td>\n",
       "                        <td id=\"T_a8140b26_883b_11eb_9fa5_704d7b3c13bcrow1_col32\" class=\"data row1 col32\" >2015-02-13 09:35:25</td>\n",
       "                        <td id=\"T_a8140b26_883b_11eb_9fa5_704d7b3c13bcrow1_col33\" class=\"data row1 col33\" >2015-02-16 10:04:12</td>\n",
       "                        <td id=\"T_a8140b26_883b_11eb_9fa5_704d7b3c13bcrow1_col34\" class=\"data row1 col34\" >2015-02-17 09:45:05</td>\n",
       "                        <td id=\"T_a8140b26_883b_11eb_9fa5_704d7b3c13bcrow1_col35\" class=\"data row1 col35\" >2015-02-18 09:54:42</td>\n",
       "                        <td id=\"T_a8140b26_883b_11eb_9fa5_704d7b3c13bcrow1_col36\" class=\"data row1 col36\" >2015-02-19 10:11:49</td>\n",
       "                        <td id=\"T_a8140b26_883b_11eb_9fa5_704d7b3c13bcrow1_col37\" class=\"data row1 col37\" >2015-02-20 10:06:18</td>\n",
       "                        <td id=\"T_a8140b26_883b_11eb_9fa5_704d7b3c13bcrow1_col38\" class=\"data row1 col38\" >2015-02-23 09:41:58</td>\n",
       "                        <td id=\"T_a8140b26_883b_11eb_9fa5_704d7b3c13bcrow1_col39\" class=\"data row1 col39\" >2015-02-24 09:44:22</td>\n",
       "                        <td id=\"T_a8140b26_883b_11eb_9fa5_704d7b3c13bcrow1_col40\" class=\"data row1 col40\" >2015-02-25 09:58:39</td>\n",
       "                        <td id=\"T_a8140b26_883b_11eb_9fa5_704d7b3c13bcrow1_col41\" class=\"data row1 col41\" >2015-02-26 09:59:07</td>\n",
       "                        <td id=\"T_a8140b26_883b_11eb_9fa5_704d7b3c13bcrow1_col42\" class=\"data row1 col42\" >2015-02-27 10:31:41</td>\n",
       "                        <td id=\"T_a8140b26_883b_11eb_9fa5_704d7b3c13bcrow1_col43\" class=\"data row1 col43\" >2015-03-02 09:55:43</td>\n",
       "                        <td id=\"T_a8140b26_883b_11eb_9fa5_704d7b3c13bcrow1_col44\" class=\"data row1 col44\" >2015-03-03 10:31:20</td>\n",
       "                        <td id=\"T_a8140b26_883b_11eb_9fa5_704d7b3c13bcrow1_col45\" class=\"data row1 col45\" >2015-03-04 09:56:59</td>\n",
       "                        <td id=\"T_a8140b26_883b_11eb_9fa5_704d7b3c13bcrow1_col46\" class=\"data row1 col46\" >nan</td>\n",
       "                        <td id=\"T_a8140b26_883b_11eb_9fa5_704d7b3c13bcrow1_col47\" class=\"data row1 col47\" >2015-03-06 10:01:10</td>\n",
       "                        <td id=\"T_a8140b26_883b_11eb_9fa5_704d7b3c13bcrow1_col48\" class=\"data row1 col48\" >2015-03-09 10:02:33</td>\n",
       "                        <td id=\"T_a8140b26_883b_11eb_9fa5_704d7b3c13bcrow1_col49\" class=\"data row1 col49\" >2015-03-10 09:32:40</td>\n",
       "                        <td id=\"T_a8140b26_883b_11eb_9fa5_704d7b3c13bcrow1_col50\" class=\"data row1 col50\" >2015-03-11 09:57:02</td>\n",
       "                        <td id=\"T_a8140b26_883b_11eb_9fa5_704d7b3c13bcrow1_col51\" class=\"data row1 col51\" >2015-03-12 09:59:32</td>\n",
       "                        <td id=\"T_a8140b26_883b_11eb_9fa5_704d7b3c13bcrow1_col52\" class=\"data row1 col52\" >2015-03-13 09:59:14</td>\n",
       "                        <td id=\"T_a8140b26_883b_11eb_9fa5_704d7b3c13bcrow1_col53\" class=\"data row1 col53\" >2015-03-16 09:56:19</td>\n",
       "                        <td id=\"T_a8140b26_883b_11eb_9fa5_704d7b3c13bcrow1_col54\" class=\"data row1 col54\" >2015-03-17 09:36:08</td>\n",
       "                        <td id=\"T_a8140b26_883b_11eb_9fa5_704d7b3c13bcrow1_col55\" class=\"data row1 col55\" >2015-03-18 10:00:32</td>\n",
       "                        <td id=\"T_a8140b26_883b_11eb_9fa5_704d7b3c13bcrow1_col56\" class=\"data row1 col56\" >2015-03-19 09:46:51</td>\n",
       "                        <td id=\"T_a8140b26_883b_11eb_9fa5_704d7b3c13bcrow1_col57\" class=\"data row1 col57\" >2015-03-20 10:06:06</td>\n",
       "                        <td id=\"T_a8140b26_883b_11eb_9fa5_704d7b3c13bcrow1_col58\" class=\"data row1 col58\" >2015-03-23 10:02:02</td>\n",
       "                        <td id=\"T_a8140b26_883b_11eb_9fa5_704d7b3c13bcrow1_col59\" class=\"data row1 col59\" >nan</td>\n",
       "                        <td id=\"T_a8140b26_883b_11eb_9fa5_704d7b3c13bcrow1_col60\" class=\"data row1 col60\" >2015-03-25 10:03:04</td>\n",
       "                        <td id=\"T_a8140b26_883b_11eb_9fa5_704d7b3c13bcrow1_col61\" class=\"data row1 col61\" >2015-03-26 09:52:38</td>\n",
       "                        <td id=\"T_a8140b26_883b_11eb_9fa5_704d7b3c13bcrow1_col62\" class=\"data row1 col62\" >2015-03-27 10:02:55</td>\n",
       "                        <td id=\"T_a8140b26_883b_11eb_9fa5_704d7b3c13bcrow1_col63\" class=\"data row1 col63\" >2015-03-30 10:04:24</td>\n",
       "                        <td id=\"T_a8140b26_883b_11eb_9fa5_704d7b3c13bcrow1_col64\" class=\"data row1 col64\" >2015-03-31 10:30:25</td>\n",
       "                        <td id=\"T_a8140b26_883b_11eb_9fa5_704d7b3c13bcrow1_col65\" class=\"data row1 col65\" >2015-04-01 09:46:24</td>\n",
       "                        <td id=\"T_a8140b26_883b_11eb_9fa5_704d7b3c13bcrow1_col66\" class=\"data row1 col66\" >2015-04-02 09:53:55</td>\n",
       "                        <td id=\"T_a8140b26_883b_11eb_9fa5_704d7b3c13bcrow1_col67\" class=\"data row1 col67\" >2015-04-03 10:30:21</td>\n",
       "                        <td id=\"T_a8140b26_883b_11eb_9fa5_704d7b3c13bcrow1_col68\" class=\"data row1 col68\" >2015-04-06 10:18:14</td>\n",
       "                        <td id=\"T_a8140b26_883b_11eb_9fa5_704d7b3c13bcrow1_col69\" class=\"data row1 col69\" >2015-04-07 10:22:22</td>\n",
       "                        <td id=\"T_a8140b26_883b_11eb_9fa5_704d7b3c13bcrow1_col70\" class=\"data row1 col70\" >2015-04-08 09:46:42</td>\n",
       "                        <td id=\"T_a8140b26_883b_11eb_9fa5_704d7b3c13bcrow1_col71\" class=\"data row1 col71\" >2015-04-09 10:02:22</td>\n",
       "                        <td id=\"T_a8140b26_883b_11eb_9fa5_704d7b3c13bcrow1_col72\" class=\"data row1 col72\" >2015-04-10 09:47:56</td>\n",
       "                        <td id=\"T_a8140b26_883b_11eb_9fa5_704d7b3c13bcrow1_col73\" class=\"data row1 col73\" >2015-04-13 09:33:46</td>\n",
       "                        <td id=\"T_a8140b26_883b_11eb_9fa5_704d7b3c13bcrow1_col74\" class=\"data row1 col74\" >2015-04-14 09:50:19</td>\n",
       "                        <td id=\"T_a8140b26_883b_11eb_9fa5_704d7b3c13bcrow1_col75\" class=\"data row1 col75\" >2015-04-15 10:06:41</td>\n",
       "                        <td id=\"T_a8140b26_883b_11eb_9fa5_704d7b3c13bcrow1_col76\" class=\"data row1 col76\" >2015-04-16 10:07:24</td>\n",
       "                        <td id=\"T_a8140b26_883b_11eb_9fa5_704d7b3c13bcrow1_col77\" class=\"data row1 col77\" >2015-04-17 09:40:35</td>\n",
       "                        <td id=\"T_a8140b26_883b_11eb_9fa5_704d7b3c13bcrow1_col78\" class=\"data row1 col78\" >2015-04-20 10:04:05</td>\n",
       "                        <td id=\"T_a8140b26_883b_11eb_9fa5_704d7b3c13bcrow1_col79\" class=\"data row1 col79\" >2015-04-21 10:21:53</td>\n",
       "                        <td id=\"T_a8140b26_883b_11eb_9fa5_704d7b3c13bcrow1_col80\" class=\"data row1 col80\" >2015-04-22 09:40:33</td>\n",
       "                        <td id=\"T_a8140b26_883b_11eb_9fa5_704d7b3c13bcrow1_col81\" class=\"data row1 col81\" >2015-04-23 10:06:54</td>\n",
       "                        <td id=\"T_a8140b26_883b_11eb_9fa5_704d7b3c13bcrow1_col82\" class=\"data row1 col82\" >2015-04-24 10:10:19</td>\n",
       "                        <td id=\"T_a8140b26_883b_11eb_9fa5_704d7b3c13bcrow1_col83\" class=\"data row1 col83\" >2015-04-27 09:33:44</td>\n",
       "                        <td id=\"T_a8140b26_883b_11eb_9fa5_704d7b3c13bcrow1_col84\" class=\"data row1 col84\" >2015-04-28 09:52:51</td>\n",
       "                        <td id=\"T_a8140b26_883b_11eb_9fa5_704d7b3c13bcrow1_col85\" class=\"data row1 col85\" >nan</td>\n",
       "                        <td id=\"T_a8140b26_883b_11eb_9fa5_704d7b3c13bcrow1_col86\" class=\"data row1 col86\" >2015-04-30 10:14:03</td>\n",
       "                        <td id=\"T_a8140b26_883b_11eb_9fa5_704d7b3c13bcrow1_col87\" class=\"data row1 col87\" >nan</td>\n",
       "                        <td id=\"T_a8140b26_883b_11eb_9fa5_704d7b3c13bcrow1_col88\" class=\"data row1 col88\" >2015-05-04 09:53:54</td>\n",
       "                        <td id=\"T_a8140b26_883b_11eb_9fa5_704d7b3c13bcrow1_col89\" class=\"data row1 col89\" >2015-05-05 10:25:20</td>\n",
       "                        <td id=\"T_a8140b26_883b_11eb_9fa5_704d7b3c13bcrow1_col90\" class=\"data row1 col90\" >2015-05-06 09:46:04</td>\n",
       "                        <td id=\"T_a8140b26_883b_11eb_9fa5_704d7b3c13bcrow1_col91\" class=\"data row1 col91\" >2015-05-07 09:49:37</td>\n",
       "                        <td id=\"T_a8140b26_883b_11eb_9fa5_704d7b3c13bcrow1_col92\" class=\"data row1 col92\" >2015-05-08 09:56:40</td>\n",
       "                        <td id=\"T_a8140b26_883b_11eb_9fa5_704d7b3c13bcrow1_col93\" class=\"data row1 col93\" >2015-05-11 09:58:30</td>\n",
       "                        <td id=\"T_a8140b26_883b_11eb_9fa5_704d7b3c13bcrow1_col94\" class=\"data row1 col94\" >2015-05-12 09:44:55</td>\n",
       "                        <td id=\"T_a8140b26_883b_11eb_9fa5_704d7b3c13bcrow1_col95\" class=\"data row1 col95\" >2015-05-13 10:06:35</td>\n",
       "                        <td id=\"T_a8140b26_883b_11eb_9fa5_704d7b3c13bcrow1_col96\" class=\"data row1 col96\" >nan</td>\n",
       "                        <td id=\"T_a8140b26_883b_11eb_9fa5_704d7b3c13bcrow1_col97\" class=\"data row1 col97\" >2015-05-15 09:43:03</td>\n",
       "                        <td id=\"T_a8140b26_883b_11eb_9fa5_704d7b3c13bcrow1_col98\" class=\"data row1 col98\" >nan</td>\n",
       "                        <td id=\"T_a8140b26_883b_11eb_9fa5_704d7b3c13bcrow1_col99\" class=\"data row1 col99\" >2015-05-19 09:48:05</td>\n",
       "                        <td id=\"T_a8140b26_883b_11eb_9fa5_704d7b3c13bcrow1_col100\" class=\"data row1 col100\" >2015-05-20 10:18:00</td>\n",
       "                        <td id=\"T_a8140b26_883b_11eb_9fa5_704d7b3c13bcrow1_col101\" class=\"data row1 col101\" >2015-05-21 09:42:47</td>\n",
       "                        <td id=\"T_a8140b26_883b_11eb_9fa5_704d7b3c13bcrow1_col102\" class=\"data row1 col102\" >2015-05-22 10:37:50</td>\n",
       "                        <td id=\"T_a8140b26_883b_11eb_9fa5_704d7b3c13bcrow1_col103\" class=\"data row1 col103\" >2015-05-25 09:46:03</td>\n",
       "                        <td id=\"T_a8140b26_883b_11eb_9fa5_704d7b3c13bcrow1_col104\" class=\"data row1 col104\" >2015-05-26 09:42:16</td>\n",
       "                        <td id=\"T_a8140b26_883b_11eb_9fa5_704d7b3c13bcrow1_col105\" class=\"data row1 col105\" >2015-05-27 09:53:20</td>\n",
       "                        <td id=\"T_a8140b26_883b_11eb_9fa5_704d7b3c13bcrow1_col106\" class=\"data row1 col106\" >2015-05-28 09:54:58</td>\n",
       "                        <td id=\"T_a8140b26_883b_11eb_9fa5_704d7b3c13bcrow1_col107\" class=\"data row1 col107\" >2015-05-29 09:52:45</td>\n",
       "                        <td id=\"T_a8140b26_883b_11eb_9fa5_704d7b3c13bcrow1_col108\" class=\"data row1 col108\" >2015-06-01 09:54:45</td>\n",
       "                        <td id=\"T_a8140b26_883b_11eb_9fa5_704d7b3c13bcrow1_col109\" class=\"data row1 col109\" >2015-06-02 09:57:56</td>\n",
       "                        <td id=\"T_a8140b26_883b_11eb_9fa5_704d7b3c13bcrow1_col110\" class=\"data row1 col110\" >2015-06-03 10:10:48</td>\n",
       "                        <td id=\"T_a8140b26_883b_11eb_9fa5_704d7b3c13bcrow1_col111\" class=\"data row1 col111\" >2015-06-04 09:31:48</td>\n",
       "                        <td id=\"T_a8140b26_883b_11eb_9fa5_704d7b3c13bcrow1_col112\" class=\"data row1 col112\" >2015-06-05 10:06:28</td>\n",
       "                        <td id=\"T_a8140b26_883b_11eb_9fa5_704d7b3c13bcrow1_col113\" class=\"data row1 col113\" >2015-06-08 09:45:19</td>\n",
       "                        <td id=\"T_a8140b26_883b_11eb_9fa5_704d7b3c13bcrow1_col114\" class=\"data row1 col114\" >2015-06-09 09:59:08</td>\n",
       "                        <td id=\"T_a8140b26_883b_11eb_9fa5_704d7b3c13bcrow1_col115\" class=\"data row1 col115\" >2015-06-10 09:39:05</td>\n",
       "                        <td id=\"T_a8140b26_883b_11eb_9fa5_704d7b3c13bcrow1_col116\" class=\"data row1 col116\" >2015-06-11 09:55:03</td>\n",
       "                        <td id=\"T_a8140b26_883b_11eb_9fa5_704d7b3c13bcrow1_col117\" class=\"data row1 col117\" >nan</td>\n",
       "                        <td id=\"T_a8140b26_883b_11eb_9fa5_704d7b3c13bcrow1_col118\" class=\"data row1 col118\" >2015-06-15 09:45:02</td>\n",
       "                        <td id=\"T_a8140b26_883b_11eb_9fa5_704d7b3c13bcrow1_col119\" class=\"data row1 col119\" >2015-06-16 10:15:23</td>\n",
       "                        <td id=\"T_a8140b26_883b_11eb_9fa5_704d7b3c13bcrow1_col120\" class=\"data row1 col120\" >2015-06-17 09:52:23</td>\n",
       "                        <td id=\"T_a8140b26_883b_11eb_9fa5_704d7b3c13bcrow1_col121\" class=\"data row1 col121\" >2015-06-18 09:55:27</td>\n",
       "                        <td id=\"T_a8140b26_883b_11eb_9fa5_704d7b3c13bcrow1_col122\" class=\"data row1 col122\" >2015-06-19 10:13:33</td>\n",
       "                        <td id=\"T_a8140b26_883b_11eb_9fa5_704d7b3c13bcrow1_col123\" class=\"data row1 col123\" >2015-06-22 09:48:24</td>\n",
       "                        <td id=\"T_a8140b26_883b_11eb_9fa5_704d7b3c13bcrow1_col124\" class=\"data row1 col124\" >2015-06-23 09:59:12</td>\n",
       "                        <td id=\"T_a8140b26_883b_11eb_9fa5_704d7b3c13bcrow1_col125\" class=\"data row1 col125\" >2015-06-24 10:27:17</td>\n",
       "                        <td id=\"T_a8140b26_883b_11eb_9fa5_704d7b3c13bcrow1_col126\" class=\"data row1 col126\" >2015-06-25 10:12:33</td>\n",
       "                        <td id=\"T_a8140b26_883b_11eb_9fa5_704d7b3c13bcrow1_col127\" class=\"data row1 col127\" >2015-06-26 09:55:00</td>\n",
       "                        <td id=\"T_a8140b26_883b_11eb_9fa5_704d7b3c13bcrow1_col128\" class=\"data row1 col128\" >2015-06-29 10:02:27</td>\n",
       "                        <td id=\"T_a8140b26_883b_11eb_9fa5_704d7b3c13bcrow1_col129\" class=\"data row1 col129\" >2015-06-30 10:13:31</td>\n",
       "                        <td id=\"T_a8140b26_883b_11eb_9fa5_704d7b3c13bcrow1_col130\" class=\"data row1 col130\" >2015-07-01 09:45:31</td>\n",
       "                        <td id=\"T_a8140b26_883b_11eb_9fa5_704d7b3c13bcrow1_col131\" class=\"data row1 col131\" >2015-07-02 10:04:21</td>\n",
       "                        <td id=\"T_a8140b26_883b_11eb_9fa5_704d7b3c13bcrow1_col132\" class=\"data row1 col132\" >2015-07-03 10:00:01</td>\n",
       "                        <td id=\"T_a8140b26_883b_11eb_9fa5_704d7b3c13bcrow1_col133\" class=\"data row1 col133\" >2015-07-06 10:10:37</td>\n",
       "                        <td id=\"T_a8140b26_883b_11eb_9fa5_704d7b3c13bcrow1_col134\" class=\"data row1 col134\" >2015-07-07 10:29:29</td>\n",
       "                        <td id=\"T_a8140b26_883b_11eb_9fa5_704d7b3c13bcrow1_col135\" class=\"data row1 col135\" >2015-07-08 09:38:19</td>\n",
       "                        <td id=\"T_a8140b26_883b_11eb_9fa5_704d7b3c13bcrow1_col136\" class=\"data row1 col136\" >2015-07-09 10:21:59</td>\n",
       "                        <td id=\"T_a8140b26_883b_11eb_9fa5_704d7b3c13bcrow1_col137\" class=\"data row1 col137\" >2015-07-10 10:30:44</td>\n",
       "                        <td id=\"T_a8140b26_883b_11eb_9fa5_704d7b3c13bcrow1_col138\" class=\"data row1 col138\" >nan</td>\n",
       "                        <td id=\"T_a8140b26_883b_11eb_9fa5_704d7b3c13bcrow1_col139\" class=\"data row1 col139\" >2015-07-14 10:35:52</td>\n",
       "                        <td id=\"T_a8140b26_883b_11eb_9fa5_704d7b3c13bcrow1_col140\" class=\"data row1 col140\" >2015-07-15 09:47:06</td>\n",
       "                        <td id=\"T_a8140b26_883b_11eb_9fa5_704d7b3c13bcrow1_col141\" class=\"data row1 col141\" >2015-07-16 09:59:13</td>\n",
       "                        <td id=\"T_a8140b26_883b_11eb_9fa5_704d7b3c13bcrow1_col142\" class=\"data row1 col142\" >nan</td>\n",
       "                        <td id=\"T_a8140b26_883b_11eb_9fa5_704d7b3c13bcrow1_col143\" class=\"data row1 col143\" >2015-07-20 10:18:08</td>\n",
       "                        <td id=\"T_a8140b26_883b_11eb_9fa5_704d7b3c13bcrow1_col144\" class=\"data row1 col144\" >2015-07-21 10:23:11</td>\n",
       "                        <td id=\"T_a8140b26_883b_11eb_9fa5_704d7b3c13bcrow1_col145\" class=\"data row1 col145\" >2015-07-22 09:32:15</td>\n",
       "                        <td id=\"T_a8140b26_883b_11eb_9fa5_704d7b3c13bcrow1_col146\" class=\"data row1 col146\" >2015-07-23 09:40:12</td>\n",
       "                        <td id=\"T_a8140b26_883b_11eb_9fa5_704d7b3c13bcrow1_col147\" class=\"data row1 col147\" >2015-07-24 10:15:22</td>\n",
       "                        <td id=\"T_a8140b26_883b_11eb_9fa5_704d7b3c13bcrow1_col148\" class=\"data row1 col148\" >nan</td>\n",
       "                        <td id=\"T_a8140b26_883b_11eb_9fa5_704d7b3c13bcrow1_col149\" class=\"data row1 col149\" >2015-07-28 10:16:14</td>\n",
       "                        <td id=\"T_a8140b26_883b_11eb_9fa5_704d7b3c13bcrow1_col150\" class=\"data row1 col150\" >2015-07-29 09:58:33</td>\n",
       "                        <td id=\"T_a8140b26_883b_11eb_9fa5_704d7b3c13bcrow1_col151\" class=\"data row1 col151\" >2015-07-30 09:57:10</td>\n",
       "                        <td id=\"T_a8140b26_883b_11eb_9fa5_704d7b3c13bcrow1_col152\" class=\"data row1 col152\" >2015-07-31 10:15:38</td>\n",
       "                        <td id=\"T_a8140b26_883b_11eb_9fa5_704d7b3c13bcrow1_col153\" class=\"data row1 col153\" >2015-08-03 09:58:28</td>\n",
       "                        <td id=\"T_a8140b26_883b_11eb_9fa5_704d7b3c13bcrow1_col154\" class=\"data row1 col154\" >2015-08-04 10:17:10</td>\n",
       "                        <td id=\"T_a8140b26_883b_11eb_9fa5_704d7b3c13bcrow1_col155\" class=\"data row1 col155\" >2015-08-05 09:38:46</td>\n",
       "                        <td id=\"T_a8140b26_883b_11eb_9fa5_704d7b3c13bcrow1_col156\" class=\"data row1 col156\" >2015-08-06 10:16:03</td>\n",
       "                        <td id=\"T_a8140b26_883b_11eb_9fa5_704d7b3c13bcrow1_col157\" class=\"data row1 col157\" >2015-08-07 09:52:22</td>\n",
       "                        <td id=\"T_a8140b26_883b_11eb_9fa5_704d7b3c13bcrow1_col158\" class=\"data row1 col158\" >2015-08-10 09:37:38</td>\n",
       "                        <td id=\"T_a8140b26_883b_11eb_9fa5_704d7b3c13bcrow1_col159\" class=\"data row1 col159\" >2015-08-11 09:54:35</td>\n",
       "                        <td id=\"T_a8140b26_883b_11eb_9fa5_704d7b3c13bcrow1_col160\" class=\"data row1 col160\" >2015-08-12 09:27:52</td>\n",
       "                        <td id=\"T_a8140b26_883b_11eb_9fa5_704d7b3c13bcrow1_col161\" class=\"data row1 col161\" >2015-08-13 09:50:57</td>\n",
       "                        <td id=\"T_a8140b26_883b_11eb_9fa5_704d7b3c13bcrow1_col162\" class=\"data row1 col162\" >2015-08-14 09:38:27</td>\n",
       "                        <td id=\"T_a8140b26_883b_11eb_9fa5_704d7b3c13bcrow1_col163\" class=\"data row1 col163\" >2015-08-17 09:52:16</td>\n",
       "                        <td id=\"T_a8140b26_883b_11eb_9fa5_704d7b3c13bcrow1_col164\" class=\"data row1 col164\" >2015-08-18 09:34:06</td>\n",
       "                        <td id=\"T_a8140b26_883b_11eb_9fa5_704d7b3c13bcrow1_col165\" class=\"data row1 col165\" >2015-08-19 09:43:02</td>\n",
       "                        <td id=\"T_a8140b26_883b_11eb_9fa5_704d7b3c13bcrow1_col166\" class=\"data row1 col166\" >2015-08-20 10:16:38</td>\n",
       "                        <td id=\"T_a8140b26_883b_11eb_9fa5_704d7b3c13bcrow1_col167\" class=\"data row1 col167\" >2015-08-21 10:07:18</td>\n",
       "                        <td id=\"T_a8140b26_883b_11eb_9fa5_704d7b3c13bcrow1_col168\" class=\"data row1 col168\" >2015-08-24 09:36:46</td>\n",
       "                        <td id=\"T_a8140b26_883b_11eb_9fa5_704d7b3c13bcrow1_col169\" class=\"data row1 col169\" >2015-08-25 09:42:22</td>\n",
       "                        <td id=\"T_a8140b26_883b_11eb_9fa5_704d7b3c13bcrow1_col170\" class=\"data row1 col170\" >2015-08-26 10:15:22</td>\n",
       "                        <td id=\"T_a8140b26_883b_11eb_9fa5_704d7b3c13bcrow1_col171\" class=\"data row1 col171\" >2015-08-27 10:11:04</td>\n",
       "                        <td id=\"T_a8140b26_883b_11eb_9fa5_704d7b3c13bcrow1_col172\" class=\"data row1 col172\" >2015-08-28 09:50:51</td>\n",
       "                        <td id=\"T_a8140b26_883b_11eb_9fa5_704d7b3c13bcrow1_col173\" class=\"data row1 col173\" >2015-08-31 10:23:10</td>\n",
       "                        <td id=\"T_a8140b26_883b_11eb_9fa5_704d7b3c13bcrow1_col174\" class=\"data row1 col174\" >2015-09-01 10:23:47</td>\n",
       "                        <td id=\"T_a8140b26_883b_11eb_9fa5_704d7b3c13bcrow1_col175\" class=\"data row1 col175\" >2015-09-02 09:57:01</td>\n",
       "                        <td id=\"T_a8140b26_883b_11eb_9fa5_704d7b3c13bcrow1_col176\" class=\"data row1 col176\" >2015-09-03 09:56:07</td>\n",
       "                        <td id=\"T_a8140b26_883b_11eb_9fa5_704d7b3c13bcrow1_col177\" class=\"data row1 col177\" >2015-09-04 10:33:03</td>\n",
       "                        <td id=\"T_a8140b26_883b_11eb_9fa5_704d7b3c13bcrow1_col178\" class=\"data row1 col178\" >2015-09-07 09:58:33</td>\n",
       "                        <td id=\"T_a8140b26_883b_11eb_9fa5_704d7b3c13bcrow1_col179\" class=\"data row1 col179\" >nan</td>\n",
       "                        <td id=\"T_a8140b26_883b_11eb_9fa5_704d7b3c13bcrow1_col180\" class=\"data row1 col180\" >2015-09-09 10:17:43</td>\n",
       "                        <td id=\"T_a8140b26_883b_11eb_9fa5_704d7b3c13bcrow1_col181\" class=\"data row1 col181\" >2015-09-10 10:28:40</td>\n",
       "                        <td id=\"T_a8140b26_883b_11eb_9fa5_704d7b3c13bcrow1_col182\" class=\"data row1 col182\" >2015-09-11 09:58:20</td>\n",
       "                        <td id=\"T_a8140b26_883b_11eb_9fa5_704d7b3c13bcrow1_col183\" class=\"data row1 col183\" >2015-09-14 09:43:25</td>\n",
       "                        <td id=\"T_a8140b26_883b_11eb_9fa5_704d7b3c13bcrow1_col184\" class=\"data row1 col184\" >2015-09-15 09:25:53</td>\n",
       "                        <td id=\"T_a8140b26_883b_11eb_9fa5_704d7b3c13bcrow1_col185\" class=\"data row1 col185\" >2015-09-16 09:26:29</td>\n",
       "                        <td id=\"T_a8140b26_883b_11eb_9fa5_704d7b3c13bcrow1_col186\" class=\"data row1 col186\" >nan</td>\n",
       "                        <td id=\"T_a8140b26_883b_11eb_9fa5_704d7b3c13bcrow1_col187\" class=\"data row1 col187\" >2015-09-18 10:27:07</td>\n",
       "                        <td id=\"T_a8140b26_883b_11eb_9fa5_704d7b3c13bcrow1_col188\" class=\"data row1 col188\" >2015-09-21 10:03:31</td>\n",
       "                        <td id=\"T_a8140b26_883b_11eb_9fa5_704d7b3c13bcrow1_col189\" class=\"data row1 col189\" >2015-09-22 09:35:23</td>\n",
       "                        <td id=\"T_a8140b26_883b_11eb_9fa5_704d7b3c13bcrow1_col190\" class=\"data row1 col190\" >2015-09-23 10:12:56</td>\n",
       "                        <td id=\"T_a8140b26_883b_11eb_9fa5_704d7b3c13bcrow1_col191\" class=\"data row1 col191\" >2015-09-24 10:02:52</td>\n",
       "                        <td id=\"T_a8140b26_883b_11eb_9fa5_704d7b3c13bcrow1_col192\" class=\"data row1 col192\" >2015-09-25 09:37:12</td>\n",
       "                        <td id=\"T_a8140b26_883b_11eb_9fa5_704d7b3c13bcrow1_col193\" class=\"data row1 col193\" >2015-09-28 10:11:06</td>\n",
       "                        <td id=\"T_a8140b26_883b_11eb_9fa5_704d7b3c13bcrow1_col194\" class=\"data row1 col194\" >2015-09-29 10:00:31</td>\n",
       "                        <td id=\"T_a8140b26_883b_11eb_9fa5_704d7b3c13bcrow1_col195\" class=\"data row1 col195\" >2015-09-30 10:22:56</td>\n",
       "                        <td id=\"T_a8140b26_883b_11eb_9fa5_704d7b3c13bcrow1_col196\" class=\"data row1 col196\" >2015-10-01 10:08:29</td>\n",
       "                        <td id=\"T_a8140b26_883b_11eb_9fa5_704d7b3c13bcrow1_col197\" class=\"data row1 col197\" >nan</td>\n",
       "                        <td id=\"T_a8140b26_883b_11eb_9fa5_704d7b3c13bcrow1_col198\" class=\"data row1 col198\" >2015-10-05 10:02:26</td>\n",
       "                        <td id=\"T_a8140b26_883b_11eb_9fa5_704d7b3c13bcrow1_col199\" class=\"data row1 col199\" >2015-10-06 10:08:57</td>\n",
       "                        <td id=\"T_a8140b26_883b_11eb_9fa5_704d7b3c13bcrow1_col200\" class=\"data row1 col200\" >2015-10-07 10:10:19</td>\n",
       "                        <td id=\"T_a8140b26_883b_11eb_9fa5_704d7b3c13bcrow1_col201\" class=\"data row1 col201\" >2015-10-08 10:04:03</td>\n",
       "                        <td id=\"T_a8140b26_883b_11eb_9fa5_704d7b3c13bcrow1_col202\" class=\"data row1 col202\" >2015-10-09 09:40:41</td>\n",
       "                        <td id=\"T_a8140b26_883b_11eb_9fa5_704d7b3c13bcrow1_col203\" class=\"data row1 col203\" >2015-10-12 10:11:30</td>\n",
       "                        <td id=\"T_a8140b26_883b_11eb_9fa5_704d7b3c13bcrow1_col204\" class=\"data row1 col204\" >2015-10-13 10:14:39</td>\n",
       "                        <td id=\"T_a8140b26_883b_11eb_9fa5_704d7b3c13bcrow1_col205\" class=\"data row1 col205\" >2015-10-14 10:10:48</td>\n",
       "                        <td id=\"T_a8140b26_883b_11eb_9fa5_704d7b3c13bcrow1_col206\" class=\"data row1 col206\" >nan</td>\n",
       "                        <td id=\"T_a8140b26_883b_11eb_9fa5_704d7b3c13bcrow1_col207\" class=\"data row1 col207\" >2015-10-16 10:20:19</td>\n",
       "                        <td id=\"T_a8140b26_883b_11eb_9fa5_704d7b3c13bcrow1_col208\" class=\"data row1 col208\" >2015-10-19 10:04:13</td>\n",
       "                        <td id=\"T_a8140b26_883b_11eb_9fa5_704d7b3c13bcrow1_col209\" class=\"data row1 col209\" >2015-10-20 09:39:10</td>\n",
       "                        <td id=\"T_a8140b26_883b_11eb_9fa5_704d7b3c13bcrow1_col210\" class=\"data row1 col210\" >2015-10-21 09:47:15</td>\n",
       "                        <td id=\"T_a8140b26_883b_11eb_9fa5_704d7b3c13bcrow1_col211\" class=\"data row1 col211\" >2015-10-22 09:56:54</td>\n",
       "                        <td id=\"T_a8140b26_883b_11eb_9fa5_704d7b3c13bcrow1_col212\" class=\"data row1 col212\" >2015-10-23 09:53:38</td>\n",
       "                        <td id=\"T_a8140b26_883b_11eb_9fa5_704d7b3c13bcrow1_col213\" class=\"data row1 col213\" >2015-10-26 09:49:43</td>\n",
       "                        <td id=\"T_a8140b26_883b_11eb_9fa5_704d7b3c13bcrow1_col214\" class=\"data row1 col214\" >2015-10-27 10:29:20</td>\n",
       "                        <td id=\"T_a8140b26_883b_11eb_9fa5_704d7b3c13bcrow1_col215\" class=\"data row1 col215\" >2015-10-28 09:47:39</td>\n",
       "                        <td id=\"T_a8140b26_883b_11eb_9fa5_704d7b3c13bcrow1_col216\" class=\"data row1 col216\" >2015-10-29 09:52:02</td>\n",
       "                        <td id=\"T_a8140b26_883b_11eb_9fa5_704d7b3c13bcrow1_col217\" class=\"data row1 col217\" >2015-10-30 09:47:37</td>\n",
       "                        <td id=\"T_a8140b26_883b_11eb_9fa5_704d7b3c13bcrow1_col218\" class=\"data row1 col218\" >2015-11-02 10:04:45</td>\n",
       "                        <td id=\"T_a8140b26_883b_11eb_9fa5_704d7b3c13bcrow1_col219\" class=\"data row1 col219\" >2015-11-03 09:36:03</td>\n",
       "                        <td id=\"T_a8140b26_883b_11eb_9fa5_704d7b3c13bcrow1_col220\" class=\"data row1 col220\" >2015-11-04 09:58:34</td>\n",
       "                        <td id=\"T_a8140b26_883b_11eb_9fa5_704d7b3c13bcrow1_col221\" class=\"data row1 col221\" >2015-11-05 09:50:08</td>\n",
       "                        <td id=\"T_a8140b26_883b_11eb_9fa5_704d7b3c13bcrow1_col222\" class=\"data row1 col222\" >2015-11-06 10:02:38</td>\n",
       "                        <td id=\"T_a8140b26_883b_11eb_9fa5_704d7b3c13bcrow1_col223\" class=\"data row1 col223\" >nan</td>\n",
       "                        <td id=\"T_a8140b26_883b_11eb_9fa5_704d7b3c13bcrow1_col224\" class=\"data row1 col224\" >nan</td>\n",
       "                        <td id=\"T_a8140b26_883b_11eb_9fa5_704d7b3c13bcrow1_col225\" class=\"data row1 col225\" >nan</td>\n",
       "                        <td id=\"T_a8140b26_883b_11eb_9fa5_704d7b3c13bcrow1_col226\" class=\"data row1 col226\" >2015-11-12 09:54:47</td>\n",
       "                        <td id=\"T_a8140b26_883b_11eb_9fa5_704d7b3c13bcrow1_col227\" class=\"data row1 col227\" >2015-11-13 09:26:10</td>\n",
       "                        <td id=\"T_a8140b26_883b_11eb_9fa5_704d7b3c13bcrow1_col228\" class=\"data row1 col228\" >2015-11-16 10:22:00</td>\n",
       "                        <td id=\"T_a8140b26_883b_11eb_9fa5_704d7b3c13bcrow1_col229\" class=\"data row1 col229\" >2015-11-17 09:26:04</td>\n",
       "                        <td id=\"T_a8140b26_883b_11eb_9fa5_704d7b3c13bcrow1_col230\" class=\"data row1 col230\" >2015-11-18 10:10:39</td>\n",
       "                        <td id=\"T_a8140b26_883b_11eb_9fa5_704d7b3c13bcrow1_col231\" class=\"data row1 col231\" >nan</td>\n",
       "                        <td id=\"T_a8140b26_883b_11eb_9fa5_704d7b3c13bcrow1_col232\" class=\"data row1 col232\" >2015-11-20 10:01:09</td>\n",
       "                        <td id=\"T_a8140b26_883b_11eb_9fa5_704d7b3c13bcrow1_col233\" class=\"data row1 col233\" >2015-11-23 09:51:11</td>\n",
       "                        <td id=\"T_a8140b26_883b_11eb_9fa5_704d7b3c13bcrow1_col234\" class=\"data row1 col234\" >2015-11-24 09:19:04</td>\n",
       "                        <td id=\"T_a8140b26_883b_11eb_9fa5_704d7b3c13bcrow1_col235\" class=\"data row1 col235\" >2015-11-25 09:43:44</td>\n",
       "                        <td id=\"T_a8140b26_883b_11eb_9fa5_704d7b3c13bcrow1_col236\" class=\"data row1 col236\" >2015-11-26 10:34:30</td>\n",
       "                        <td id=\"T_a8140b26_883b_11eb_9fa5_704d7b3c13bcrow1_col237\" class=\"data row1 col237\" >2015-11-27 10:15:10</td>\n",
       "                        <td id=\"T_a8140b26_883b_11eb_9fa5_704d7b3c13bcrow1_col238\" class=\"data row1 col238\" >2015-11-30 09:46:46</td>\n",
       "                        <td id=\"T_a8140b26_883b_11eb_9fa5_704d7b3c13bcrow1_col239\" class=\"data row1 col239\" >2015-12-01 09:56:22</td>\n",
       "                        <td id=\"T_a8140b26_883b_11eb_9fa5_704d7b3c13bcrow1_col240\" class=\"data row1 col240\" >2015-12-02 09:55:43</td>\n",
       "                        <td id=\"T_a8140b26_883b_11eb_9fa5_704d7b3c13bcrow1_col241\" class=\"data row1 col241\" >2015-12-03 10:05:37</td>\n",
       "                        <td id=\"T_a8140b26_883b_11eb_9fa5_704d7b3c13bcrow1_col242\" class=\"data row1 col242\" >2015-12-04 10:02:05</td>\n",
       "                        <td id=\"T_a8140b26_883b_11eb_9fa5_704d7b3c13bcrow1_col243\" class=\"data row1 col243\" >2015-12-07 09:36:05</td>\n",
       "                        <td id=\"T_a8140b26_883b_11eb_9fa5_704d7b3c13bcrow1_col244\" class=\"data row1 col244\" >2015-12-08 10:01:21</td>\n",
       "                        <td id=\"T_a8140b26_883b_11eb_9fa5_704d7b3c13bcrow1_col245\" class=\"data row1 col245\" >2015-12-09 09:49:23</td>\n",
       "                        <td id=\"T_a8140b26_883b_11eb_9fa5_704d7b3c13bcrow1_col246\" class=\"data row1 col246\" >2015-12-10 10:06:05</td>\n",
       "                        <td id=\"T_a8140b26_883b_11eb_9fa5_704d7b3c13bcrow1_col247\" class=\"data row1 col247\" >2015-12-11 10:15:18</td>\n",
       "                        <td id=\"T_a8140b26_883b_11eb_9fa5_704d7b3c13bcrow1_col248\" class=\"data row1 col248\" >2015-12-14 10:00:01</td>\n",
       "                        <td id=\"T_a8140b26_883b_11eb_9fa5_704d7b3c13bcrow1_col249\" class=\"data row1 col249\" >2015-12-15 10:30:18</td>\n",
       "                        <td id=\"T_a8140b26_883b_11eb_9fa5_704d7b3c13bcrow1_col250\" class=\"data row1 col250\" >2015-12-16 10:01:18</td>\n",
       "                        <td id=\"T_a8140b26_883b_11eb_9fa5_704d7b3c13bcrow1_col251\" class=\"data row1 col251\" >2015-12-17 09:15:08</td>\n",
       "                        <td id=\"T_a8140b26_883b_11eb_9fa5_704d7b3c13bcrow1_col252\" class=\"data row1 col252\" >2015-12-18 10:37:17</td>\n",
       "                        <td id=\"T_a8140b26_883b_11eb_9fa5_704d7b3c13bcrow1_col253\" class=\"data row1 col253\" >2015-12-21 09:49:02</td>\n",
       "                        <td id=\"T_a8140b26_883b_11eb_9fa5_704d7b3c13bcrow1_col254\" class=\"data row1 col254\" >2015-12-22 10:33:51</td>\n",
       "                        <td id=\"T_a8140b26_883b_11eb_9fa5_704d7b3c13bcrow1_col255\" class=\"data row1 col255\" >2015-12-23 10:12:10</td>\n",
       "                        <td id=\"T_a8140b26_883b_11eb_9fa5_704d7b3c13bcrow1_col256\" class=\"data row1 col256\" >nan</td>\n",
       "                        <td id=\"T_a8140b26_883b_11eb_9fa5_704d7b3c13bcrow1_col257\" class=\"data row1 col257\" >nan</td>\n",
       "                        <td id=\"T_a8140b26_883b_11eb_9fa5_704d7b3c13bcrow1_col258\" class=\"data row1 col258\" >2015-12-28 09:31:45</td>\n",
       "                        <td id=\"T_a8140b26_883b_11eb_9fa5_704d7b3c13bcrow1_col259\" class=\"data row1 col259\" >2015-12-29 09:55:49</td>\n",
       "                        <td id=\"T_a8140b26_883b_11eb_9fa5_704d7b3c13bcrow1_col260\" class=\"data row1 col260\" >2015-12-30 10:32:25</td>\n",
       "                        <td id=\"T_a8140b26_883b_11eb_9fa5_704d7b3c13bcrow1_col261\" class=\"data row1 col261\" >2015-12-31 09:27:20</td>\n",
       "            </tr>\n",
       "    </tbody></table>"
      ],
      "text/plain": [
       "<pandas.io.formats.style.Styler at 0x162ba9b9d30>"
      ]
     },
     "execution_count": 7,
     "metadata": {},
     "output_type": "execute_result"
    }
   ],
   "source": [
    "in_time_data.head(2).style"
   ]
  },
  {
   "cell_type": "code",
   "execution_count": 8,
   "metadata": {
    "slideshow": {
     "slide_type": "skip"
    }
   },
   "outputs": [
    {
     "data": {
      "text/html": [
       "<style  type=\"text/css\" >\n",
       "</style><table id=\"T_a81e1657_883b_11eb_b526_704d7b3c13bc\" ><thead>    <tr>        <th class=\"blank level0\" ></th>        <th class=\"col_heading level0 col0\" >Unnamed: 0</th>        <th class=\"col_heading level0 col1\" >2015-01-01</th>        <th class=\"col_heading level0 col2\" >2015-01-02</th>        <th class=\"col_heading level0 col3\" >2015-01-05</th>        <th class=\"col_heading level0 col4\" >2015-01-06</th>        <th class=\"col_heading level0 col5\" >2015-01-07</th>        <th class=\"col_heading level0 col6\" >2015-01-08</th>        <th class=\"col_heading level0 col7\" >2015-01-09</th>        <th class=\"col_heading level0 col8\" >2015-01-12</th>        <th class=\"col_heading level0 col9\" >2015-01-13</th>        <th class=\"col_heading level0 col10\" >2015-01-14</th>        <th class=\"col_heading level0 col11\" >2015-01-15</th>        <th class=\"col_heading level0 col12\" >2015-01-16</th>        <th class=\"col_heading level0 col13\" >2015-01-19</th>        <th class=\"col_heading level0 col14\" >2015-01-20</th>        <th class=\"col_heading level0 col15\" >2015-01-21</th>        <th class=\"col_heading level0 col16\" >2015-01-22</th>        <th class=\"col_heading level0 col17\" >2015-01-23</th>        <th class=\"col_heading level0 col18\" >2015-01-26</th>        <th class=\"col_heading level0 col19\" >2015-01-27</th>        <th class=\"col_heading level0 col20\" >2015-01-28</th>        <th class=\"col_heading level0 col21\" >2015-01-29</th>        <th class=\"col_heading level0 col22\" >2015-01-30</th>        <th class=\"col_heading level0 col23\" >2015-02-02</th>        <th class=\"col_heading level0 col24\" >2015-02-03</th>        <th class=\"col_heading level0 col25\" >2015-02-04</th>        <th class=\"col_heading level0 col26\" >2015-02-05</th>        <th class=\"col_heading level0 col27\" >2015-02-06</th>        <th class=\"col_heading level0 col28\" >2015-02-09</th>        <th class=\"col_heading level0 col29\" >2015-02-10</th>        <th class=\"col_heading level0 col30\" >2015-02-11</th>        <th class=\"col_heading level0 col31\" >2015-02-12</th>        <th class=\"col_heading level0 col32\" >2015-02-13</th>        <th class=\"col_heading level0 col33\" >2015-02-16</th>        <th class=\"col_heading level0 col34\" >2015-02-17</th>        <th class=\"col_heading level0 col35\" >2015-02-18</th>        <th class=\"col_heading level0 col36\" >2015-02-19</th>        <th class=\"col_heading level0 col37\" >2015-02-20</th>        <th class=\"col_heading level0 col38\" >2015-02-23</th>        <th class=\"col_heading level0 col39\" >2015-02-24</th>        <th class=\"col_heading level0 col40\" >2015-02-25</th>        <th class=\"col_heading level0 col41\" >2015-02-26</th>        <th class=\"col_heading level0 col42\" >2015-02-27</th>        <th class=\"col_heading level0 col43\" >2015-03-02</th>        <th class=\"col_heading level0 col44\" >2015-03-03</th>        <th class=\"col_heading level0 col45\" >2015-03-04</th>        <th class=\"col_heading level0 col46\" >2015-03-05</th>        <th class=\"col_heading level0 col47\" >2015-03-06</th>        <th class=\"col_heading level0 col48\" >2015-03-09</th>        <th class=\"col_heading level0 col49\" >2015-03-10</th>        <th class=\"col_heading level0 col50\" >2015-03-11</th>        <th class=\"col_heading level0 col51\" >2015-03-12</th>        <th class=\"col_heading level0 col52\" >2015-03-13</th>        <th class=\"col_heading level0 col53\" >2015-03-16</th>        <th class=\"col_heading level0 col54\" >2015-03-17</th>        <th class=\"col_heading level0 col55\" >2015-03-18</th>        <th class=\"col_heading level0 col56\" >2015-03-19</th>        <th class=\"col_heading level0 col57\" >2015-03-20</th>        <th class=\"col_heading level0 col58\" >2015-03-23</th>        <th class=\"col_heading level0 col59\" >2015-03-24</th>        <th class=\"col_heading level0 col60\" >2015-03-25</th>        <th class=\"col_heading level0 col61\" >2015-03-26</th>        <th class=\"col_heading level0 col62\" >2015-03-27</th>        <th class=\"col_heading level0 col63\" >2015-03-30</th>        <th class=\"col_heading level0 col64\" >2015-03-31</th>        <th class=\"col_heading level0 col65\" >2015-04-01</th>        <th class=\"col_heading level0 col66\" >2015-04-02</th>        <th class=\"col_heading level0 col67\" >2015-04-03</th>        <th class=\"col_heading level0 col68\" >2015-04-06</th>        <th class=\"col_heading level0 col69\" >2015-04-07</th>        <th class=\"col_heading level0 col70\" >2015-04-08</th>        <th class=\"col_heading level0 col71\" >2015-04-09</th>        <th class=\"col_heading level0 col72\" >2015-04-10</th>        <th class=\"col_heading level0 col73\" >2015-04-13</th>        <th class=\"col_heading level0 col74\" >2015-04-14</th>        <th class=\"col_heading level0 col75\" >2015-04-15</th>        <th class=\"col_heading level0 col76\" >2015-04-16</th>        <th class=\"col_heading level0 col77\" >2015-04-17</th>        <th class=\"col_heading level0 col78\" >2015-04-20</th>        <th class=\"col_heading level0 col79\" >2015-04-21</th>        <th class=\"col_heading level0 col80\" >2015-04-22</th>        <th class=\"col_heading level0 col81\" >2015-04-23</th>        <th class=\"col_heading level0 col82\" >2015-04-24</th>        <th class=\"col_heading level0 col83\" >2015-04-27</th>        <th class=\"col_heading level0 col84\" >2015-04-28</th>        <th class=\"col_heading level0 col85\" >2015-04-29</th>        <th class=\"col_heading level0 col86\" >2015-04-30</th>        <th class=\"col_heading level0 col87\" >2015-05-01</th>        <th class=\"col_heading level0 col88\" >2015-05-04</th>        <th class=\"col_heading level0 col89\" >2015-05-05</th>        <th class=\"col_heading level0 col90\" >2015-05-06</th>        <th class=\"col_heading level0 col91\" >2015-05-07</th>        <th class=\"col_heading level0 col92\" >2015-05-08</th>        <th class=\"col_heading level0 col93\" >2015-05-11</th>        <th class=\"col_heading level0 col94\" >2015-05-12</th>        <th class=\"col_heading level0 col95\" >2015-05-13</th>        <th class=\"col_heading level0 col96\" >2015-05-14</th>        <th class=\"col_heading level0 col97\" >2015-05-15</th>        <th class=\"col_heading level0 col98\" >2015-05-18</th>        <th class=\"col_heading level0 col99\" >2015-05-19</th>        <th class=\"col_heading level0 col100\" >2015-05-20</th>        <th class=\"col_heading level0 col101\" >2015-05-21</th>        <th class=\"col_heading level0 col102\" >2015-05-22</th>        <th class=\"col_heading level0 col103\" >2015-05-25</th>        <th class=\"col_heading level0 col104\" >2015-05-26</th>        <th class=\"col_heading level0 col105\" >2015-05-27</th>        <th class=\"col_heading level0 col106\" >2015-05-28</th>        <th class=\"col_heading level0 col107\" >2015-05-29</th>        <th class=\"col_heading level0 col108\" >2015-06-01</th>        <th class=\"col_heading level0 col109\" >2015-06-02</th>        <th class=\"col_heading level0 col110\" >2015-06-03</th>        <th class=\"col_heading level0 col111\" >2015-06-04</th>        <th class=\"col_heading level0 col112\" >2015-06-05</th>        <th class=\"col_heading level0 col113\" >2015-06-08</th>        <th class=\"col_heading level0 col114\" >2015-06-09</th>        <th class=\"col_heading level0 col115\" >2015-06-10</th>        <th class=\"col_heading level0 col116\" >2015-06-11</th>        <th class=\"col_heading level0 col117\" >2015-06-12</th>        <th class=\"col_heading level0 col118\" >2015-06-15</th>        <th class=\"col_heading level0 col119\" >2015-06-16</th>        <th class=\"col_heading level0 col120\" >2015-06-17</th>        <th class=\"col_heading level0 col121\" >2015-06-18</th>        <th class=\"col_heading level0 col122\" >2015-06-19</th>        <th class=\"col_heading level0 col123\" >2015-06-22</th>        <th class=\"col_heading level0 col124\" >2015-06-23</th>        <th class=\"col_heading level0 col125\" >2015-06-24</th>        <th class=\"col_heading level0 col126\" >2015-06-25</th>        <th class=\"col_heading level0 col127\" >2015-06-26</th>        <th class=\"col_heading level0 col128\" >2015-06-29</th>        <th class=\"col_heading level0 col129\" >2015-06-30</th>        <th class=\"col_heading level0 col130\" >2015-07-01</th>        <th class=\"col_heading level0 col131\" >2015-07-02</th>        <th class=\"col_heading level0 col132\" >2015-07-03</th>        <th class=\"col_heading level0 col133\" >2015-07-06</th>        <th class=\"col_heading level0 col134\" >2015-07-07</th>        <th class=\"col_heading level0 col135\" >2015-07-08</th>        <th class=\"col_heading level0 col136\" >2015-07-09</th>        <th class=\"col_heading level0 col137\" >2015-07-10</th>        <th class=\"col_heading level0 col138\" >2015-07-13</th>        <th class=\"col_heading level0 col139\" >2015-07-14</th>        <th class=\"col_heading level0 col140\" >2015-07-15</th>        <th class=\"col_heading level0 col141\" >2015-07-16</th>        <th class=\"col_heading level0 col142\" >2015-07-17</th>        <th class=\"col_heading level0 col143\" >2015-07-20</th>        <th class=\"col_heading level0 col144\" >2015-07-21</th>        <th class=\"col_heading level0 col145\" >2015-07-22</th>        <th class=\"col_heading level0 col146\" >2015-07-23</th>        <th class=\"col_heading level0 col147\" >2015-07-24</th>        <th class=\"col_heading level0 col148\" >2015-07-27</th>        <th class=\"col_heading level0 col149\" >2015-07-28</th>        <th class=\"col_heading level0 col150\" >2015-07-29</th>        <th class=\"col_heading level0 col151\" >2015-07-30</th>        <th class=\"col_heading level0 col152\" >2015-07-31</th>        <th class=\"col_heading level0 col153\" >2015-08-03</th>        <th class=\"col_heading level0 col154\" >2015-08-04</th>        <th class=\"col_heading level0 col155\" >2015-08-05</th>        <th class=\"col_heading level0 col156\" >2015-08-06</th>        <th class=\"col_heading level0 col157\" >2015-08-07</th>        <th class=\"col_heading level0 col158\" >2015-08-10</th>        <th class=\"col_heading level0 col159\" >2015-08-11</th>        <th class=\"col_heading level0 col160\" >2015-08-12</th>        <th class=\"col_heading level0 col161\" >2015-08-13</th>        <th class=\"col_heading level0 col162\" >2015-08-14</th>        <th class=\"col_heading level0 col163\" >2015-08-17</th>        <th class=\"col_heading level0 col164\" >2015-08-18</th>        <th class=\"col_heading level0 col165\" >2015-08-19</th>        <th class=\"col_heading level0 col166\" >2015-08-20</th>        <th class=\"col_heading level0 col167\" >2015-08-21</th>        <th class=\"col_heading level0 col168\" >2015-08-24</th>        <th class=\"col_heading level0 col169\" >2015-08-25</th>        <th class=\"col_heading level0 col170\" >2015-08-26</th>        <th class=\"col_heading level0 col171\" >2015-08-27</th>        <th class=\"col_heading level0 col172\" >2015-08-28</th>        <th class=\"col_heading level0 col173\" >2015-08-31</th>        <th class=\"col_heading level0 col174\" >2015-09-01</th>        <th class=\"col_heading level0 col175\" >2015-09-02</th>        <th class=\"col_heading level0 col176\" >2015-09-03</th>        <th class=\"col_heading level0 col177\" >2015-09-04</th>        <th class=\"col_heading level0 col178\" >2015-09-07</th>        <th class=\"col_heading level0 col179\" >2015-09-08</th>        <th class=\"col_heading level0 col180\" >2015-09-09</th>        <th class=\"col_heading level0 col181\" >2015-09-10</th>        <th class=\"col_heading level0 col182\" >2015-09-11</th>        <th class=\"col_heading level0 col183\" >2015-09-14</th>        <th class=\"col_heading level0 col184\" >2015-09-15</th>        <th class=\"col_heading level0 col185\" >2015-09-16</th>        <th class=\"col_heading level0 col186\" >2015-09-17</th>        <th class=\"col_heading level0 col187\" >2015-09-18</th>        <th class=\"col_heading level0 col188\" >2015-09-21</th>        <th class=\"col_heading level0 col189\" >2015-09-22</th>        <th class=\"col_heading level0 col190\" >2015-09-23</th>        <th class=\"col_heading level0 col191\" >2015-09-24</th>        <th class=\"col_heading level0 col192\" >2015-09-25</th>        <th class=\"col_heading level0 col193\" >2015-09-28</th>        <th class=\"col_heading level0 col194\" >2015-09-29</th>        <th class=\"col_heading level0 col195\" >2015-09-30</th>        <th class=\"col_heading level0 col196\" >2015-10-01</th>        <th class=\"col_heading level0 col197\" >2015-10-02</th>        <th class=\"col_heading level0 col198\" >2015-10-05</th>        <th class=\"col_heading level0 col199\" >2015-10-06</th>        <th class=\"col_heading level0 col200\" >2015-10-07</th>        <th class=\"col_heading level0 col201\" >2015-10-08</th>        <th class=\"col_heading level0 col202\" >2015-10-09</th>        <th class=\"col_heading level0 col203\" >2015-10-12</th>        <th class=\"col_heading level0 col204\" >2015-10-13</th>        <th class=\"col_heading level0 col205\" >2015-10-14</th>        <th class=\"col_heading level0 col206\" >2015-10-15</th>        <th class=\"col_heading level0 col207\" >2015-10-16</th>        <th class=\"col_heading level0 col208\" >2015-10-19</th>        <th class=\"col_heading level0 col209\" >2015-10-20</th>        <th class=\"col_heading level0 col210\" >2015-10-21</th>        <th class=\"col_heading level0 col211\" >2015-10-22</th>        <th class=\"col_heading level0 col212\" >2015-10-23</th>        <th class=\"col_heading level0 col213\" >2015-10-26</th>        <th class=\"col_heading level0 col214\" >2015-10-27</th>        <th class=\"col_heading level0 col215\" >2015-10-28</th>        <th class=\"col_heading level0 col216\" >2015-10-29</th>        <th class=\"col_heading level0 col217\" >2015-10-30</th>        <th class=\"col_heading level0 col218\" >2015-11-02</th>        <th class=\"col_heading level0 col219\" >2015-11-03</th>        <th class=\"col_heading level0 col220\" >2015-11-04</th>        <th class=\"col_heading level0 col221\" >2015-11-05</th>        <th class=\"col_heading level0 col222\" >2015-11-06</th>        <th class=\"col_heading level0 col223\" >2015-11-09</th>        <th class=\"col_heading level0 col224\" >2015-11-10</th>        <th class=\"col_heading level0 col225\" >2015-11-11</th>        <th class=\"col_heading level0 col226\" >2015-11-12</th>        <th class=\"col_heading level0 col227\" >2015-11-13</th>        <th class=\"col_heading level0 col228\" >2015-11-16</th>        <th class=\"col_heading level0 col229\" >2015-11-17</th>        <th class=\"col_heading level0 col230\" >2015-11-18</th>        <th class=\"col_heading level0 col231\" >2015-11-19</th>        <th class=\"col_heading level0 col232\" >2015-11-20</th>        <th class=\"col_heading level0 col233\" >2015-11-23</th>        <th class=\"col_heading level0 col234\" >2015-11-24</th>        <th class=\"col_heading level0 col235\" >2015-11-25</th>        <th class=\"col_heading level0 col236\" >2015-11-26</th>        <th class=\"col_heading level0 col237\" >2015-11-27</th>        <th class=\"col_heading level0 col238\" >2015-11-30</th>        <th class=\"col_heading level0 col239\" >2015-12-01</th>        <th class=\"col_heading level0 col240\" >2015-12-02</th>        <th class=\"col_heading level0 col241\" >2015-12-03</th>        <th class=\"col_heading level0 col242\" >2015-12-04</th>        <th class=\"col_heading level0 col243\" >2015-12-07</th>        <th class=\"col_heading level0 col244\" >2015-12-08</th>        <th class=\"col_heading level0 col245\" >2015-12-09</th>        <th class=\"col_heading level0 col246\" >2015-12-10</th>        <th class=\"col_heading level0 col247\" >2015-12-11</th>        <th class=\"col_heading level0 col248\" >2015-12-14</th>        <th class=\"col_heading level0 col249\" >2015-12-15</th>        <th class=\"col_heading level0 col250\" >2015-12-16</th>        <th class=\"col_heading level0 col251\" >2015-12-17</th>        <th class=\"col_heading level0 col252\" >2015-12-18</th>        <th class=\"col_heading level0 col253\" >2015-12-21</th>        <th class=\"col_heading level0 col254\" >2015-12-22</th>        <th class=\"col_heading level0 col255\" >2015-12-23</th>        <th class=\"col_heading level0 col256\" >2015-12-24</th>        <th class=\"col_heading level0 col257\" >2015-12-25</th>        <th class=\"col_heading level0 col258\" >2015-12-28</th>        <th class=\"col_heading level0 col259\" >2015-12-29</th>        <th class=\"col_heading level0 col260\" >2015-12-30</th>        <th class=\"col_heading level0 col261\" >2015-12-31</th>    </tr></thead><tbody>\n",
       "                <tr>\n",
       "                        <th id=\"T_a81e1657_883b_11eb_b526_704d7b3c13bclevel0_row0\" class=\"row_heading level0 row0\" >0</th>\n",
       "                        <td id=\"T_a81e1657_883b_11eb_b526_704d7b3c13bcrow0_col0\" class=\"data row0 col0\" >1</td>\n",
       "                        <td id=\"T_a81e1657_883b_11eb_b526_704d7b3c13bcrow0_col1\" class=\"data row0 col1\" >nan</td>\n",
       "                        <td id=\"T_a81e1657_883b_11eb_b526_704d7b3c13bcrow0_col2\" class=\"data row0 col2\" >2015-01-02 16:56:15</td>\n",
       "                        <td id=\"T_a81e1657_883b_11eb_b526_704d7b3c13bcrow0_col3\" class=\"data row0 col3\" >2015-01-05 17:20:11</td>\n",
       "                        <td id=\"T_a81e1657_883b_11eb_b526_704d7b3c13bcrow0_col4\" class=\"data row0 col4\" >2015-01-06 17:19:05</td>\n",
       "                        <td id=\"T_a81e1657_883b_11eb_b526_704d7b3c13bcrow0_col5\" class=\"data row0 col5\" >2015-01-07 16:34:55</td>\n",
       "                        <td id=\"T_a81e1657_883b_11eb_b526_704d7b3c13bcrow0_col6\" class=\"data row0 col6\" >2015-01-08 17:08:32</td>\n",
       "                        <td id=\"T_a81e1657_883b_11eb_b526_704d7b3c13bcrow0_col7\" class=\"data row0 col7\" >2015-01-09 17:38:29</td>\n",
       "                        <td id=\"T_a81e1657_883b_11eb_b526_704d7b3c13bcrow0_col8\" class=\"data row0 col8\" >2015-01-12 16:58:39</td>\n",
       "                        <td id=\"T_a81e1657_883b_11eb_b526_704d7b3c13bcrow0_col9\" class=\"data row0 col9\" >2015-01-13 18:02:58</td>\n",
       "                        <td id=\"T_a81e1657_883b_11eb_b526_704d7b3c13bcrow0_col10\" class=\"data row0 col10\" >nan</td>\n",
       "                        <td id=\"T_a81e1657_883b_11eb_b526_704d7b3c13bcrow0_col11\" class=\"data row0 col11\" >2015-01-15 17:22:13</td>\n",
       "                        <td id=\"T_a81e1657_883b_11eb_b526_704d7b3c13bcrow0_col12\" class=\"data row0 col12\" >2015-01-16 17:35:11</td>\n",
       "                        <td id=\"T_a81e1657_883b_11eb_b526_704d7b3c13bcrow0_col13\" class=\"data row0 col13\" >nan</td>\n",
       "                        <td id=\"T_a81e1657_883b_11eb_b526_704d7b3c13bcrow0_col14\" class=\"data row0 col14\" >2015-01-20 16:37:07</td>\n",
       "                        <td id=\"T_a81e1657_883b_11eb_b526_704d7b3c13bcrow0_col15\" class=\"data row0 col15\" >2015-01-21 16:55:24</td>\n",
       "                        <td id=\"T_a81e1657_883b_11eb_b526_704d7b3c13bcrow0_col16\" class=\"data row0 col16\" >2015-01-22 16:50:47</td>\n",
       "                        <td id=\"T_a81e1657_883b_11eb_b526_704d7b3c13bcrow0_col17\" class=\"data row0 col17\" >2015-01-23 17:00:01</td>\n",
       "                        <td id=\"T_a81e1657_883b_11eb_b526_704d7b3c13bcrow0_col18\" class=\"data row0 col18\" >nan</td>\n",
       "                        <td id=\"T_a81e1657_883b_11eb_b526_704d7b3c13bcrow0_col19\" class=\"data row0 col19\" >2015-01-27 17:28:22</td>\n",
       "                        <td id=\"T_a81e1657_883b_11eb_b526_704d7b3c13bcrow0_col20\" class=\"data row0 col20\" >2015-01-28 17:03:21</td>\n",
       "                        <td id=\"T_a81e1657_883b_11eb_b526_704d7b3c13bcrow0_col21\" class=\"data row0 col21\" >2015-01-29 17:18:36</td>\n",
       "                        <td id=\"T_a81e1657_883b_11eb_b526_704d7b3c13bcrow0_col22\" class=\"data row0 col22\" >2015-01-30 17:00:25</td>\n",
       "                        <td id=\"T_a81e1657_883b_11eb_b526_704d7b3c13bcrow0_col23\" class=\"data row0 col23\" >2015-02-02 16:32:49</td>\n",
       "                        <td id=\"T_a81e1657_883b_11eb_b526_704d7b3c13bcrow0_col24\" class=\"data row0 col24\" >2015-02-03 17:35:49</td>\n",
       "                        <td id=\"T_a81e1657_883b_11eb_b526_704d7b3c13bcrow0_col25\" class=\"data row0 col25\" >2015-02-04 17:24:56</td>\n",
       "                        <td id=\"T_a81e1657_883b_11eb_b526_704d7b3c13bcrow0_col26\" class=\"data row0 col26\" >2015-02-05 17:26:31</td>\n",
       "                        <td id=\"T_a81e1657_883b_11eb_b526_704d7b3c13bcrow0_col27\" class=\"data row0 col27\" >2015-02-06 17:21:35</td>\n",
       "                        <td id=\"T_a81e1657_883b_11eb_b526_704d7b3c13bcrow0_col28\" class=\"data row0 col28\" >2015-02-09 17:37:50</td>\n",
       "                        <td id=\"T_a81e1657_883b_11eb_b526_704d7b3c13bcrow0_col29\" class=\"data row0 col29\" >2015-02-10 17:30:20</td>\n",
       "                        <td id=\"T_a81e1657_883b_11eb_b526_704d7b3c13bcrow0_col30\" class=\"data row0 col30\" >2015-02-11 17:30:19</td>\n",
       "                        <td id=\"T_a81e1657_883b_11eb_b526_704d7b3c13bcrow0_col31\" class=\"data row0 col31\" >2015-02-12 17:36:42</td>\n",
       "                        <td id=\"T_a81e1657_883b_11eb_b526_704d7b3c13bcrow0_col32\" class=\"data row0 col32\" >2015-02-13 16:25:26</td>\n",
       "                        <td id=\"T_a81e1657_883b_11eb_b526_704d7b3c13bcrow0_col33\" class=\"data row0 col33\" >2015-02-16 17:50:23</td>\n",
       "                        <td id=\"T_a81e1657_883b_11eb_b526_704d7b3c13bcrow0_col34\" class=\"data row0 col34\" >2015-02-17 17:28:06</td>\n",
       "                        <td id=\"T_a81e1657_883b_11eb_b526_704d7b3c13bcrow0_col35\" class=\"data row0 col35\" >2015-02-18 18:13:29</td>\n",
       "                        <td id=\"T_a81e1657_883b_11eb_b526_704d7b3c13bcrow0_col36\" class=\"data row0 col36\" >nan</td>\n",
       "                        <td id=\"T_a81e1657_883b_11eb_b526_704d7b3c13bcrow0_col37\" class=\"data row0 col37\" >2015-02-20 17:44:52</td>\n",
       "                        <td id=\"T_a81e1657_883b_11eb_b526_704d7b3c13bcrow0_col38\" class=\"data row0 col38\" >2015-02-23 17:13:27</td>\n",
       "                        <td id=\"T_a81e1657_883b_11eb_b526_704d7b3c13bcrow0_col39\" class=\"data row0 col39\" >2015-02-24 17:24:48</td>\n",
       "                        <td id=\"T_a81e1657_883b_11eb_b526_704d7b3c13bcrow0_col40\" class=\"data row0 col40\" >2015-02-25 17:27:37</td>\n",
       "                        <td id=\"T_a81e1657_883b_11eb_b526_704d7b3c13bcrow0_col41\" class=\"data row0 col41\" >2015-02-26 17:08:36</td>\n",
       "                        <td id=\"T_a81e1657_883b_11eb_b526_704d7b3c13bcrow0_col42\" class=\"data row0 col42\" >2015-02-27 17:21:55</td>\n",
       "                        <td id=\"T_a81e1657_883b_11eb_b526_704d7b3c13bcrow0_col43\" class=\"data row0 col43\" >2015-03-02 17:29:08</td>\n",
       "                        <td id=\"T_a81e1657_883b_11eb_b526_704d7b3c13bcrow0_col44\" class=\"data row0 col44\" >2015-03-03 16:54:12</td>\n",
       "                        <td id=\"T_a81e1657_883b_11eb_b526_704d7b3c13bcrow0_col45\" class=\"data row0 col45\" >2015-03-04 17:50:18</td>\n",
       "                        <td id=\"T_a81e1657_883b_11eb_b526_704d7b3c13bcrow0_col46\" class=\"data row0 col46\" >nan</td>\n",
       "                        <td id=\"T_a81e1657_883b_11eb_b526_704d7b3c13bcrow0_col47\" class=\"data row0 col47\" >2015-03-06 17:44:47</td>\n",
       "                        <td id=\"T_a81e1657_883b_11eb_b526_704d7b3c13bcrow0_col48\" class=\"data row0 col48\" >2015-03-09 17:53:05</td>\n",
       "                        <td id=\"T_a81e1657_883b_11eb_b526_704d7b3c13bcrow0_col49\" class=\"data row0 col49\" >2015-03-10 16:42:53</td>\n",
       "                        <td id=\"T_a81e1657_883b_11eb_b526_704d7b3c13bcrow0_col50\" class=\"data row0 col50\" >2015-03-11 16:58:39</td>\n",
       "                        <td id=\"T_a81e1657_883b_11eb_b526_704d7b3c13bcrow0_col51\" class=\"data row0 col51\" >2015-03-12 17:15:39</td>\n",
       "                        <td id=\"T_a81e1657_883b_11eb_b526_704d7b3c13bcrow0_col52\" class=\"data row0 col52\" >2015-03-13 17:25:55</td>\n",
       "                        <td id=\"T_a81e1657_883b_11eb_b526_704d7b3c13bcrow0_col53\" class=\"data row0 col53\" >nan</td>\n",
       "                        <td id=\"T_a81e1657_883b_11eb_b526_704d7b3c13bcrow0_col54\" class=\"data row0 col54\" >2015-03-17 17:00:16</td>\n",
       "                        <td id=\"T_a81e1657_883b_11eb_b526_704d7b3c13bcrow0_col55\" class=\"data row0 col55\" >2015-03-18 17:40:13</td>\n",
       "                        <td id=\"T_a81e1657_883b_11eb_b526_704d7b3c13bcrow0_col56\" class=\"data row0 col56\" >2015-03-19 17:52:44</td>\n",
       "                        <td id=\"T_a81e1657_883b_11eb_b526_704d7b3c13bcrow0_col57\" class=\"data row0 col57\" >2015-03-20 17:47:34</td>\n",
       "                        <td id=\"T_a81e1657_883b_11eb_b526_704d7b3c13bcrow0_col58\" class=\"data row0 col58\" >2015-03-23 17:48:18</td>\n",
       "                        <td id=\"T_a81e1657_883b_11eb_b526_704d7b3c13bcrow0_col59\" class=\"data row0 col59\" >2015-03-24 17:48:26</td>\n",
       "                        <td id=\"T_a81e1657_883b_11eb_b526_704d7b3c13bcrow0_col60\" class=\"data row0 col60\" >2015-03-25 17:08:19</td>\n",
       "                        <td id=\"T_a81e1657_883b_11eb_b526_704d7b3c13bcrow0_col61\" class=\"data row0 col61\" >nan</td>\n",
       "                        <td id=\"T_a81e1657_883b_11eb_b526_704d7b3c13bcrow0_col62\" class=\"data row0 col62\" >2015-03-27 17:20:51</td>\n",
       "                        <td id=\"T_a81e1657_883b_11eb_b526_704d7b3c13bcrow0_col63\" class=\"data row0 col63\" >2015-03-30 17:33:09</td>\n",
       "                        <td id=\"T_a81e1657_883b_11eb_b526_704d7b3c13bcrow0_col64\" class=\"data row0 col64\" >2015-03-31 18:00:07</td>\n",
       "                        <td id=\"T_a81e1657_883b_11eb_b526_704d7b3c13bcrow0_col65\" class=\"data row0 col65\" >2015-04-01 17:32:50</td>\n",
       "                        <td id=\"T_a81e1657_883b_11eb_b526_704d7b3c13bcrow0_col66\" class=\"data row0 col66\" >2015-04-02 17:24:58</td>\n",
       "                        <td id=\"T_a81e1657_883b_11eb_b526_704d7b3c13bcrow0_col67\" class=\"data row0 col67\" >2015-04-03 17:11:46</td>\n",
       "                        <td id=\"T_a81e1657_883b_11eb_b526_704d7b3c13bcrow0_col68\" class=\"data row0 col68\" >2015-04-06 16:42:46</td>\n",
       "                        <td id=\"T_a81e1657_883b_11eb_b526_704d7b3c13bcrow0_col69\" class=\"data row0 col69\" >2015-04-07 17:55:07</td>\n",
       "                        <td id=\"T_a81e1657_883b_11eb_b526_704d7b3c13bcrow0_col70\" class=\"data row0 col70\" >2015-04-08 17:30:12</td>\n",
       "                        <td id=\"T_a81e1657_883b_11eb_b526_704d7b3c13bcrow0_col71\" class=\"data row0 col71\" >2015-04-09 17:09:38</td>\n",
       "                        <td id=\"T_a81e1657_883b_11eb_b526_704d7b3c13bcrow0_col72\" class=\"data row0 col72\" >2015-04-10 16:53:22</td>\n",
       "                        <td id=\"T_a81e1657_883b_11eb_b526_704d7b3c13bcrow0_col73\" class=\"data row0 col73\" >2015-04-13 17:00:23</td>\n",
       "                        <td id=\"T_a81e1657_883b_11eb_b526_704d7b3c13bcrow0_col74\" class=\"data row0 col74\" >2015-04-14 17:07:36</td>\n",
       "                        <td id=\"T_a81e1657_883b_11eb_b526_704d7b3c13bcrow0_col75\" class=\"data row0 col75\" >2015-04-15 17:23:31</td>\n",
       "                        <td id=\"T_a81e1657_883b_11eb_b526_704d7b3c13bcrow0_col76\" class=\"data row0 col76\" >2015-04-16 17:31:32</td>\n",
       "                        <td id=\"T_a81e1657_883b_11eb_b526_704d7b3c13bcrow0_col77\" class=\"data row0 col77\" >2015-04-17 17:11:18</td>\n",
       "                        <td id=\"T_a81e1657_883b_11eb_b526_704d7b3c13bcrow0_col78\" class=\"data row0 col78\" >2015-04-20 17:45:08</td>\n",
       "                        <td id=\"T_a81e1657_883b_11eb_b526_704d7b3c13bcrow0_col79\" class=\"data row0 col79\" >2015-04-21 16:49:13</td>\n",
       "                        <td id=\"T_a81e1657_883b_11eb_b526_704d7b3c13bcrow0_col80\" class=\"data row0 col80\" >2015-04-22 17:27:46</td>\n",
       "                        <td id=\"T_a81e1657_883b_11eb_b526_704d7b3c13bcrow0_col81\" class=\"data row0 col81\" >2015-04-23 17:32:53</td>\n",
       "                        <td id=\"T_a81e1657_883b_11eb_b526_704d7b3c13bcrow0_col82\" class=\"data row0 col82\" >2015-04-24 17:39:25</td>\n",
       "                        <td id=\"T_a81e1657_883b_11eb_b526_704d7b3c13bcrow0_col83\" class=\"data row0 col83\" >2015-04-27 17:26:32</td>\n",
       "                        <td id=\"T_a81e1657_883b_11eb_b526_704d7b3c13bcrow0_col84\" class=\"data row0 col84\" >2015-04-28 17:50:45</td>\n",
       "                        <td id=\"T_a81e1657_883b_11eb_b526_704d7b3c13bcrow0_col85\" class=\"data row0 col85\" >2015-04-29 17:27:45</td>\n",
       "                        <td id=\"T_a81e1657_883b_11eb_b526_704d7b3c13bcrow0_col86\" class=\"data row0 col86\" >2015-04-30 17:18:59</td>\n",
       "                        <td id=\"T_a81e1657_883b_11eb_b526_704d7b3c13bcrow0_col87\" class=\"data row0 col87\" >nan</td>\n",
       "                        <td id=\"T_a81e1657_883b_11eb_b526_704d7b3c13bcrow0_col88\" class=\"data row0 col88\" >2015-05-04 17:05:30</td>\n",
       "                        <td id=\"T_a81e1657_883b_11eb_b526_704d7b3c13bcrow0_col89\" class=\"data row0 col89\" >2015-05-05 17:13:30</td>\n",
       "                        <td id=\"T_a81e1657_883b_11eb_b526_704d7b3c13bcrow0_col90\" class=\"data row0 col90\" >2015-05-06 17:16:30</td>\n",
       "                        <td id=\"T_a81e1657_883b_11eb_b526_704d7b3c13bcrow0_col91\" class=\"data row0 col91\" >2015-05-07 17:10:33</td>\n",
       "                        <td id=\"T_a81e1657_883b_11eb_b526_704d7b3c13bcrow0_col92\" class=\"data row0 col92\" >2015-05-08 17:31:56</td>\n",
       "                        <td id=\"T_a81e1657_883b_11eb_b526_704d7b3c13bcrow0_col93\" class=\"data row0 col93\" >nan</td>\n",
       "                        <td id=\"T_a81e1657_883b_11eb_b526_704d7b3c13bcrow0_col94\" class=\"data row0 col94\" >2015-05-12 17:16:58</td>\n",
       "                        <td id=\"T_a81e1657_883b_11eb_b526_704d7b3c13bcrow0_col95\" class=\"data row0 col95\" >2015-05-13 17:54:12</td>\n",
       "                        <td id=\"T_a81e1657_883b_11eb_b526_704d7b3c13bcrow0_col96\" class=\"data row0 col96\" >2015-05-14 17:44:49</td>\n",
       "                        <td id=\"T_a81e1657_883b_11eb_b526_704d7b3c13bcrow0_col97\" class=\"data row0 col97\" >2015-05-15 16:44:33</td>\n",
       "                        <td id=\"T_a81e1657_883b_11eb_b526_704d7b3c13bcrow0_col98\" class=\"data row0 col98\" >nan</td>\n",
       "                        <td id=\"T_a81e1657_883b_11eb_b526_704d7b3c13bcrow0_col99\" class=\"data row0 col99\" >2015-05-19 17:09:05</td>\n",
       "                        <td id=\"T_a81e1657_883b_11eb_b526_704d7b3c13bcrow0_col100\" class=\"data row0 col100\" >2015-05-20 17:19:49</td>\n",
       "                        <td id=\"T_a81e1657_883b_11eb_b526_704d7b3c13bcrow0_col101\" class=\"data row0 col101\" >2015-05-21 17:21:10</td>\n",
       "                        <td id=\"T_a81e1657_883b_11eb_b526_704d7b3c13bcrow0_col102\" class=\"data row0 col102\" >2015-05-22 17:27:28</td>\n",
       "                        <td id=\"T_a81e1657_883b_11eb_b526_704d7b3c13bcrow0_col103\" class=\"data row0 col103\" >2015-05-25 17:49:48</td>\n",
       "                        <td id=\"T_a81e1657_883b_11eb_b526_704d7b3c13bcrow0_col104\" class=\"data row0 col104\" >2015-05-26 17:29:00</td>\n",
       "                        <td id=\"T_a81e1657_883b_11eb_b526_704d7b3c13bcrow0_col105\" class=\"data row0 col105\" >2015-05-27 17:34:05</td>\n",
       "                        <td id=\"T_a81e1657_883b_11eb_b526_704d7b3c13bcrow0_col106\" class=\"data row0 col106\" >2015-05-28 17:23:52</td>\n",
       "                        <td id=\"T_a81e1657_883b_11eb_b526_704d7b3c13bcrow0_col107\" class=\"data row0 col107\" >nan</td>\n",
       "                        <td id=\"T_a81e1657_883b_11eb_b526_704d7b3c13bcrow0_col108\" class=\"data row0 col108\" >nan</td>\n",
       "                        <td id=\"T_a81e1657_883b_11eb_b526_704d7b3c13bcrow0_col109\" class=\"data row0 col109\" >2015-06-02 18:03:51</td>\n",
       "                        <td id=\"T_a81e1657_883b_11eb_b526_704d7b3c13bcrow0_col110\" class=\"data row0 col110\" >2015-06-03 17:18:10</td>\n",
       "                        <td id=\"T_a81e1657_883b_11eb_b526_704d7b3c13bcrow0_col111\" class=\"data row0 col111\" >2015-06-04 17:26:11</td>\n",
       "                        <td id=\"T_a81e1657_883b_11eb_b526_704d7b3c13bcrow0_col112\" class=\"data row0 col112\" >nan</td>\n",
       "                        <td id=\"T_a81e1657_883b_11eb_b526_704d7b3c13bcrow0_col113\" class=\"data row0 col113\" >2015-06-08 17:22:18</td>\n",
       "                        <td id=\"T_a81e1657_883b_11eb_b526_704d7b3c13bcrow0_col114\" class=\"data row0 col114\" >nan</td>\n",
       "                        <td id=\"T_a81e1657_883b_11eb_b526_704d7b3c13bcrow0_col115\" class=\"data row0 col115\" >2015-06-10 16:59:04</td>\n",
       "                        <td id=\"T_a81e1657_883b_11eb_b526_704d7b3c13bcrow0_col116\" class=\"data row0 col116\" >2015-06-11 17:21:39</td>\n",
       "                        <td id=\"T_a81e1657_883b_11eb_b526_704d7b3c13bcrow0_col117\" class=\"data row0 col117\" >2015-06-12 17:39:12</td>\n",
       "                        <td id=\"T_a81e1657_883b_11eb_b526_704d7b3c13bcrow0_col118\" class=\"data row0 col118\" >2015-06-15 17:26:02</td>\n",
       "                        <td id=\"T_a81e1657_883b_11eb_b526_704d7b3c13bcrow0_col119\" class=\"data row0 col119\" >2015-06-16 17:31:36</td>\n",
       "                        <td id=\"T_a81e1657_883b_11eb_b526_704d7b3c13bcrow0_col120\" class=\"data row0 col120\" >2015-06-17 17:17:49</td>\n",
       "                        <td id=\"T_a81e1657_883b_11eb_b526_704d7b3c13bcrow0_col121\" class=\"data row0 col121\" >2015-06-18 17:34:32</td>\n",
       "                        <td id=\"T_a81e1657_883b_11eb_b526_704d7b3c13bcrow0_col122\" class=\"data row0 col122\" >2015-06-19 17:21:17</td>\n",
       "                        <td id=\"T_a81e1657_883b_11eb_b526_704d7b3c13bcrow0_col123\" class=\"data row0 col123\" >2015-06-22 16:59:22</td>\n",
       "                        <td id=\"T_a81e1657_883b_11eb_b526_704d7b3c13bcrow0_col124\" class=\"data row0 col124\" >2015-06-23 16:51:41</td>\n",
       "                        <td id=\"T_a81e1657_883b_11eb_b526_704d7b3c13bcrow0_col125\" class=\"data row0 col125\" >2015-06-24 17:06:26</td>\n",
       "                        <td id=\"T_a81e1657_883b_11eb_b526_704d7b3c13bcrow0_col126\" class=\"data row0 col126\" >2015-06-25 17:37:14</td>\n",
       "                        <td id=\"T_a81e1657_883b_11eb_b526_704d7b3c13bcrow0_col127\" class=\"data row0 col127\" >2015-06-26 17:11:06</td>\n",
       "                        <td id=\"T_a81e1657_883b_11eb_b526_704d7b3c13bcrow0_col128\" class=\"data row0 col128\" >2015-06-29 17:41:01</td>\n",
       "                        <td id=\"T_a81e1657_883b_11eb_b526_704d7b3c13bcrow0_col129\" class=\"data row0 col129\" >2015-06-30 17:45:51</td>\n",
       "                        <td id=\"T_a81e1657_883b_11eb_b526_704d7b3c13bcrow0_col130\" class=\"data row0 col130\" >2015-07-01 17:22:27</td>\n",
       "                        <td id=\"T_a81e1657_883b_11eb_b526_704d7b3c13bcrow0_col131\" class=\"data row0 col131\" >2015-07-02 17:44:39</td>\n",
       "                        <td id=\"T_a81e1657_883b_11eb_b526_704d7b3c13bcrow0_col132\" class=\"data row0 col132\" >2015-07-03 17:09:29</td>\n",
       "                        <td id=\"T_a81e1657_883b_11eb_b526_704d7b3c13bcrow0_col133\" class=\"data row0 col133\" >2015-07-06 17:33:57</td>\n",
       "                        <td id=\"T_a81e1657_883b_11eb_b526_704d7b3c13bcrow0_col134\" class=\"data row0 col134\" >2015-07-07 17:47:22</td>\n",
       "                        <td id=\"T_a81e1657_883b_11eb_b526_704d7b3c13bcrow0_col135\" class=\"data row0 col135\" >2015-07-08 17:26:03</td>\n",
       "                        <td id=\"T_a81e1657_883b_11eb_b526_704d7b3c13bcrow0_col136\" class=\"data row0 col136\" >2015-07-09 16:18:10</td>\n",
       "                        <td id=\"T_a81e1657_883b_11eb_b526_704d7b3c13bcrow0_col137\" class=\"data row0 col137\" >2015-07-10 17:05:38</td>\n",
       "                        <td id=\"T_a81e1657_883b_11eb_b526_704d7b3c13bcrow0_col138\" class=\"data row0 col138\" >2015-07-13 17:23:56</td>\n",
       "                        <td id=\"T_a81e1657_883b_11eb_b526_704d7b3c13bcrow0_col139\" class=\"data row0 col139\" >2015-07-14 17:14:19</td>\n",
       "                        <td id=\"T_a81e1657_883b_11eb_b526_704d7b3c13bcrow0_col140\" class=\"data row0 col140\" >2015-07-15 17:32:02</td>\n",
       "                        <td id=\"T_a81e1657_883b_11eb_b526_704d7b3c13bcrow0_col141\" class=\"data row0 col141\" >2015-07-16 17:39:13</td>\n",
       "                        <td id=\"T_a81e1657_883b_11eb_b526_704d7b3c13bcrow0_col142\" class=\"data row0 col142\" >nan</td>\n",
       "                        <td id=\"T_a81e1657_883b_11eb_b526_704d7b3c13bcrow0_col143\" class=\"data row0 col143\" >2015-07-20 17:31:04</td>\n",
       "                        <td id=\"T_a81e1657_883b_11eb_b526_704d7b3c13bcrow0_col144\" class=\"data row0 col144\" >2015-07-21 17:03:19</td>\n",
       "                        <td id=\"T_a81e1657_883b_11eb_b526_704d7b3c13bcrow0_col145\" class=\"data row0 col145\" >2015-07-22 17:45:13</td>\n",
       "                        <td id=\"T_a81e1657_883b_11eb_b526_704d7b3c13bcrow0_col146\" class=\"data row0 col146\" >2015-07-23 16:45:36</td>\n",
       "                        <td id=\"T_a81e1657_883b_11eb_b526_704d7b3c13bcrow0_col147\" class=\"data row0 col147\" >2015-07-24 17:03:05</td>\n",
       "                        <td id=\"T_a81e1657_883b_11eb_b526_704d7b3c13bcrow0_col148\" class=\"data row0 col148\" >2015-07-27 17:24:48</td>\n",
       "                        <td id=\"T_a81e1657_883b_11eb_b526_704d7b3c13bcrow0_col149\" class=\"data row0 col149\" >2015-07-28 17:02:15</td>\n",
       "                        <td id=\"T_a81e1657_883b_11eb_b526_704d7b3c13bcrow0_col150\" class=\"data row0 col150\" >2015-07-29 16:57:05</td>\n",
       "                        <td id=\"T_a81e1657_883b_11eb_b526_704d7b3c13bcrow0_col151\" class=\"data row0 col151\" >2015-07-30 17:06:20</td>\n",
       "                        <td id=\"T_a81e1657_883b_11eb_b526_704d7b3c13bcrow0_col152\" class=\"data row0 col152\" >2015-07-31 17:34:04</td>\n",
       "                        <td id=\"T_a81e1657_883b_11eb_b526_704d7b3c13bcrow0_col153\" class=\"data row0 col153\" >2015-08-03 17:00:31</td>\n",
       "                        <td id=\"T_a81e1657_883b_11eb_b526_704d7b3c13bcrow0_col154\" class=\"data row0 col154\" >2015-08-04 17:10:18</td>\n",
       "                        <td id=\"T_a81e1657_883b_11eb_b526_704d7b3c13bcrow0_col155\" class=\"data row0 col155\" >2015-08-05 17:31:20</td>\n",
       "                        <td id=\"T_a81e1657_883b_11eb_b526_704d7b3c13bcrow0_col156\" class=\"data row0 col156\" >2015-08-06 17:27:12</td>\n",
       "                        <td id=\"T_a81e1657_883b_11eb_b526_704d7b3c13bcrow0_col157\" class=\"data row0 col157\" >2015-08-07 17:16:59</td>\n",
       "                        <td id=\"T_a81e1657_883b_11eb_b526_704d7b3c13bcrow0_col158\" class=\"data row0 col158\" >2015-08-10 17:48:37</td>\n",
       "                        <td id=\"T_a81e1657_883b_11eb_b526_704d7b3c13bcrow0_col159\" class=\"data row0 col159\" >2015-08-11 17:40:01</td>\n",
       "                        <td id=\"T_a81e1657_883b_11eb_b526_704d7b3c13bcrow0_col160\" class=\"data row0 col160\" >2015-08-12 17:15:47</td>\n",
       "                        <td id=\"T_a81e1657_883b_11eb_b526_704d7b3c13bcrow0_col161\" class=\"data row0 col161\" >2015-08-13 17:09:17</td>\n",
       "                        <td id=\"T_a81e1657_883b_11eb_b526_704d7b3c13bcrow0_col162\" class=\"data row0 col162\" >2015-08-14 17:08:51</td>\n",
       "                        <td id=\"T_a81e1657_883b_11eb_b526_704d7b3c13bcrow0_col163\" class=\"data row0 col163\" >2015-08-17 16:27:43</td>\n",
       "                        <td id=\"T_a81e1657_883b_11eb_b526_704d7b3c13bcrow0_col164\" class=\"data row0 col164\" >2015-08-18 18:03:09</td>\n",
       "                        <td id=\"T_a81e1657_883b_11eb_b526_704d7b3c13bcrow0_col165\" class=\"data row0 col165\" >2015-08-19 17:09:56</td>\n",
       "                        <td id=\"T_a81e1657_883b_11eb_b526_704d7b3c13bcrow0_col166\" class=\"data row0 col166\" >2015-08-20 17:11:05</td>\n",
       "                        <td id=\"T_a81e1657_883b_11eb_b526_704d7b3c13bcrow0_col167\" class=\"data row0 col167\" >2015-08-21 17:51:02</td>\n",
       "                        <td id=\"T_a81e1657_883b_11eb_b526_704d7b3c13bcrow0_col168\" class=\"data row0 col168\" >2015-08-24 17:37:08</td>\n",
       "                        <td id=\"T_a81e1657_883b_11eb_b526_704d7b3c13bcrow0_col169\" class=\"data row0 col169\" >2015-08-25 17:12:59</td>\n",
       "                        <td id=\"T_a81e1657_883b_11eb_b526_704d7b3c13bcrow0_col170\" class=\"data row0 col170\" >2015-08-26 17:36:02</td>\n",
       "                        <td id=\"T_a81e1657_883b_11eb_b526_704d7b3c13bcrow0_col171\" class=\"data row0 col171\" >2015-08-27 17:57:41</td>\n",
       "                        <td id=\"T_a81e1657_883b_11eb_b526_704d7b3c13bcrow0_col172\" class=\"data row0 col172\" >2015-08-28 17:27:04</td>\n",
       "                        <td id=\"T_a81e1657_883b_11eb_b526_704d7b3c13bcrow0_col173\" class=\"data row0 col173\" >2015-08-31 17:08:19</td>\n",
       "                        <td id=\"T_a81e1657_883b_11eb_b526_704d7b3c13bcrow0_col174\" class=\"data row0 col174\" >nan</td>\n",
       "                        <td id=\"T_a81e1657_883b_11eb_b526_704d7b3c13bcrow0_col175\" class=\"data row0 col175\" >2015-09-02 17:49:13</td>\n",
       "                        <td id=\"T_a81e1657_883b_11eb_b526_704d7b3c13bcrow0_col176\" class=\"data row0 col176\" >2015-09-03 17:07:17</td>\n",
       "                        <td id=\"T_a81e1657_883b_11eb_b526_704d7b3c13bcrow0_col177\" class=\"data row0 col177\" >2015-09-04 17:42:46</td>\n",
       "                        <td id=\"T_a81e1657_883b_11eb_b526_704d7b3c13bcrow0_col178\" class=\"data row0 col178\" >2015-09-07 17:40:58</td>\n",
       "                        <td id=\"T_a81e1657_883b_11eb_b526_704d7b3c13bcrow0_col179\" class=\"data row0 col179\" >2015-09-08 17:52:36</td>\n",
       "                        <td id=\"T_a81e1657_883b_11eb_b526_704d7b3c13bcrow0_col180\" class=\"data row0 col180\" >2015-09-09 18:00:21</td>\n",
       "                        <td id=\"T_a81e1657_883b_11eb_b526_704d7b3c13bcrow0_col181\" class=\"data row0 col181\" >2015-09-10 17:17:02</td>\n",
       "                        <td id=\"T_a81e1657_883b_11eb_b526_704d7b3c13bcrow0_col182\" class=\"data row0 col182\" >2015-09-11 17:22:52</td>\n",
       "                        <td id=\"T_a81e1657_883b_11eb_b526_704d7b3c13bcrow0_col183\" class=\"data row0 col183\" >2015-09-14 17:07:46</td>\n",
       "                        <td id=\"T_a81e1657_883b_11eb_b526_704d7b3c13bcrow0_col184\" class=\"data row0 col184\" >2015-09-15 17:34:11</td>\n",
       "                        <td id=\"T_a81e1657_883b_11eb_b526_704d7b3c13bcrow0_col185\" class=\"data row0 col185\" >2015-09-16 17:31:03</td>\n",
       "                        <td id=\"T_a81e1657_883b_11eb_b526_704d7b3c13bcrow0_col186\" class=\"data row0 col186\" >nan</td>\n",
       "                        <td id=\"T_a81e1657_883b_11eb_b526_704d7b3c13bcrow0_col187\" class=\"data row0 col187\" >2015-09-18 17:43:14</td>\n",
       "                        <td id=\"T_a81e1657_883b_11eb_b526_704d7b3c13bcrow0_col188\" class=\"data row0 col188\" >2015-09-21 17:13:51</td>\n",
       "                        <td id=\"T_a81e1657_883b_11eb_b526_704d7b3c13bcrow0_col189\" class=\"data row0 col189\" >2015-09-22 18:14:06</td>\n",
       "                        <td id=\"T_a81e1657_883b_11eb_b526_704d7b3c13bcrow0_col190\" class=\"data row0 col190\" >2015-09-23 17:05:53</td>\n",
       "                        <td id=\"T_a81e1657_883b_11eb_b526_704d7b3c13bcrow0_col191\" class=\"data row0 col191\" >2015-09-24 17:19:26</td>\n",
       "                        <td id=\"T_a81e1657_883b_11eb_b526_704d7b3c13bcrow0_col192\" class=\"data row0 col192\" >2015-09-25 17:43:56</td>\n",
       "                        <td id=\"T_a81e1657_883b_11eb_b526_704d7b3c13bcrow0_col193\" class=\"data row0 col193\" >2015-09-28 17:07:25</td>\n",
       "                        <td id=\"T_a81e1657_883b_11eb_b526_704d7b3c13bcrow0_col194\" class=\"data row0 col194\" >2015-09-29 17:27:30</td>\n",
       "                        <td id=\"T_a81e1657_883b_11eb_b526_704d7b3c13bcrow0_col195\" class=\"data row0 col195\" >2015-09-30 17:14:43</td>\n",
       "                        <td id=\"T_a81e1657_883b_11eb_b526_704d7b3c13bcrow0_col196\" class=\"data row0 col196\" >2015-10-01 17:52:44</td>\n",
       "                        <td id=\"T_a81e1657_883b_11eb_b526_704d7b3c13bcrow0_col197\" class=\"data row0 col197\" >nan</td>\n",
       "                        <td id=\"T_a81e1657_883b_11eb_b526_704d7b3c13bcrow0_col198\" class=\"data row0 col198\" >2015-10-05 17:03:41</td>\n",
       "                        <td id=\"T_a81e1657_883b_11eb_b526_704d7b3c13bcrow0_col199\" class=\"data row0 col199\" >2015-10-06 17:29:15</td>\n",
       "                        <td id=\"T_a81e1657_883b_11eb_b526_704d7b3c13bcrow0_col200\" class=\"data row0 col200\" >2015-10-07 16:56:00</td>\n",
       "                        <td id=\"T_a81e1657_883b_11eb_b526_704d7b3c13bcrow0_col201\" class=\"data row0 col201\" >2015-10-08 17:08:18</td>\n",
       "                        <td id=\"T_a81e1657_883b_11eb_b526_704d7b3c13bcrow0_col202\" class=\"data row0 col202\" >2015-10-09 17:10:00</td>\n",
       "                        <td id=\"T_a81e1657_883b_11eb_b526_704d7b3c13bcrow0_col203\" class=\"data row0 col203\" >2015-10-12 17:24:14</td>\n",
       "                        <td id=\"T_a81e1657_883b_11eb_b526_704d7b3c13bcrow0_col204\" class=\"data row0 col204\" >nan</td>\n",
       "                        <td id=\"T_a81e1657_883b_11eb_b526_704d7b3c13bcrow0_col205\" class=\"data row0 col205\" >2015-10-14 17:49:02</td>\n",
       "                        <td id=\"T_a81e1657_883b_11eb_b526_704d7b3c13bcrow0_col206\" class=\"data row0 col206\" >2015-10-15 17:54:13</td>\n",
       "                        <td id=\"T_a81e1657_883b_11eb_b526_704d7b3c13bcrow0_col207\" class=\"data row0 col207\" >2015-10-16 16:40:00</td>\n",
       "                        <td id=\"T_a81e1657_883b_11eb_b526_704d7b3c13bcrow0_col208\" class=\"data row0 col208\" >2015-10-19 17:27:58</td>\n",
       "                        <td id=\"T_a81e1657_883b_11eb_b526_704d7b3c13bcrow0_col209\" class=\"data row0 col209\" >2015-10-20 17:02:55</td>\n",
       "                        <td id=\"T_a81e1657_883b_11eb_b526_704d7b3c13bcrow0_col210\" class=\"data row0 col210\" >nan</td>\n",
       "                        <td id=\"T_a81e1657_883b_11eb_b526_704d7b3c13bcrow0_col211\" class=\"data row0 col211\" >nan</td>\n",
       "                        <td id=\"T_a81e1657_883b_11eb_b526_704d7b3c13bcrow0_col212\" class=\"data row0 col212\" >2015-10-23 17:13:46</td>\n",
       "                        <td id=\"T_a81e1657_883b_11eb_b526_704d7b3c13bcrow0_col213\" class=\"data row0 col213\" >2015-10-26 17:35:53</td>\n",
       "                        <td id=\"T_a81e1657_883b_11eb_b526_704d7b3c13bcrow0_col214\" class=\"data row0 col214\" >2015-10-27 16:28:13</td>\n",
       "                        <td id=\"T_a81e1657_883b_11eb_b526_704d7b3c13bcrow0_col215\" class=\"data row0 col215\" >2015-10-28 17:32:42</td>\n",
       "                        <td id=\"T_a81e1657_883b_11eb_b526_704d7b3c13bcrow0_col216\" class=\"data row0 col216\" >2015-10-29 16:57:29</td>\n",
       "                        <td id=\"T_a81e1657_883b_11eb_b526_704d7b3c13bcrow0_col217\" class=\"data row0 col217\" >2015-10-30 17:09:54</td>\n",
       "                        <td id=\"T_a81e1657_883b_11eb_b526_704d7b3c13bcrow0_col218\" class=\"data row0 col218\" >2015-11-02 16:53:43</td>\n",
       "                        <td id=\"T_a81e1657_883b_11eb_b526_704d7b3c13bcrow0_col219\" class=\"data row0 col219\" >2015-11-03 18:04:34</td>\n",
       "                        <td id=\"T_a81e1657_883b_11eb_b526_704d7b3c13bcrow0_col220\" class=\"data row0 col220\" >2015-11-04 16:43:40</td>\n",
       "                        <td id=\"T_a81e1657_883b_11eb_b526_704d7b3c13bcrow0_col221\" class=\"data row0 col221\" >2015-11-05 18:03:15</td>\n",
       "                        <td id=\"T_a81e1657_883b_11eb_b526_704d7b3c13bcrow0_col222\" class=\"data row0 col222\" >2015-11-06 17:15:12</td>\n",
       "                        <td id=\"T_a81e1657_883b_11eb_b526_704d7b3c13bcrow0_col223\" class=\"data row0 col223\" >nan</td>\n",
       "                        <td id=\"T_a81e1657_883b_11eb_b526_704d7b3c13bcrow0_col224\" class=\"data row0 col224\" >nan</td>\n",
       "                        <td id=\"T_a81e1657_883b_11eb_b526_704d7b3c13bcrow0_col225\" class=\"data row0 col225\" >nan</td>\n",
       "                        <td id=\"T_a81e1657_883b_11eb_b526_704d7b3c13bcrow0_col226\" class=\"data row0 col226\" >2015-11-12 17:13:17</td>\n",
       "                        <td id=\"T_a81e1657_883b_11eb_b526_704d7b3c13bcrow0_col227\" class=\"data row0 col227\" >2015-11-13 16:49:27</td>\n",
       "                        <td id=\"T_a81e1657_883b_11eb_b526_704d7b3c13bcrow0_col228\" class=\"data row0 col228\" >2015-11-16 18:03:08</td>\n",
       "                        <td id=\"T_a81e1657_883b_11eb_b526_704d7b3c13bcrow0_col229\" class=\"data row0 col229\" >2015-11-17 17:03:06</td>\n",
       "                        <td id=\"T_a81e1657_883b_11eb_b526_704d7b3c13bcrow0_col230\" class=\"data row0 col230\" >2015-11-18 17:38:02</td>\n",
       "                        <td id=\"T_a81e1657_883b_11eb_b526_704d7b3c13bcrow0_col231\" class=\"data row0 col231\" >2015-11-19 16:46:27</td>\n",
       "                        <td id=\"T_a81e1657_883b_11eb_b526_704d7b3c13bcrow0_col232\" class=\"data row0 col232\" >2015-11-20 17:58:40</td>\n",
       "                        <td id=\"T_a81e1657_883b_11eb_b526_704d7b3c13bcrow0_col233\" class=\"data row0 col233\" >2015-11-23 17:13:22</td>\n",
       "                        <td id=\"T_a81e1657_883b_11eb_b526_704d7b3c13bcrow0_col234\" class=\"data row0 col234\" >2015-11-24 17:37:21</td>\n",
       "                        <td id=\"T_a81e1657_883b_11eb_b526_704d7b3c13bcrow0_col235\" class=\"data row0 col235\" >2015-11-25 17:26:51</td>\n",
       "                        <td id=\"T_a81e1657_883b_11eb_b526_704d7b3c13bcrow0_col236\" class=\"data row0 col236\" >2015-11-26 17:44:49</td>\n",
       "                        <td id=\"T_a81e1657_883b_11eb_b526_704d7b3c13bcrow0_col237\" class=\"data row0 col237\" >2015-11-27 17:30:02</td>\n",
       "                        <td id=\"T_a81e1657_883b_11eb_b526_704d7b3c13bcrow0_col238\" class=\"data row0 col238\" >2015-11-30 17:05:11</td>\n",
       "                        <td id=\"T_a81e1657_883b_11eb_b526_704d7b3c13bcrow0_col239\" class=\"data row0 col239\" >2015-12-01 16:53:21</td>\n",
       "                        <td id=\"T_a81e1657_883b_11eb_b526_704d7b3c13bcrow0_col240\" class=\"data row0 col240\" >2015-12-02 17:32:24</td>\n",
       "                        <td id=\"T_a81e1657_883b_11eb_b526_704d7b3c13bcrow0_col241\" class=\"data row0 col241\" >2015-12-03 17:40:59</td>\n",
       "                        <td id=\"T_a81e1657_883b_11eb_b526_704d7b3c13bcrow0_col242\" class=\"data row0 col242\" >2015-12-04 17:02:22</td>\n",
       "                        <td id=\"T_a81e1657_883b_11eb_b526_704d7b3c13bcrow0_col243\" class=\"data row0 col243\" >2015-12-07 16:21:37</td>\n",
       "                        <td id=\"T_a81e1657_883b_11eb_b526_704d7b3c13bcrow0_col244\" class=\"data row0 col244\" >2015-12-08 17:51:23</td>\n",
       "                        <td id=\"T_a81e1657_883b_11eb_b526_704d7b3c13bcrow0_col245\" class=\"data row0 col245\" >2015-12-09 17:48:46</td>\n",
       "                        <td id=\"T_a81e1657_883b_11eb_b526_704d7b3c13bcrow0_col246\" class=\"data row0 col246\" >2015-12-10 16:52:14</td>\n",
       "                        <td id=\"T_a81e1657_883b_11eb_b526_704d7b3c13bcrow0_col247\" class=\"data row0 col247\" >2015-12-11 17:25:56</td>\n",
       "                        <td id=\"T_a81e1657_883b_11eb_b526_704d7b3c13bcrow0_col248\" class=\"data row0 col248\" >2015-12-14 17:35:53</td>\n",
       "                        <td id=\"T_a81e1657_883b_11eb_b526_704d7b3c13bcrow0_col249\" class=\"data row0 col249\" >nan</td>\n",
       "                        <td id=\"T_a81e1657_883b_11eb_b526_704d7b3c13bcrow0_col250\" class=\"data row0 col250\" >2015-12-16 17:54:26</td>\n",
       "                        <td id=\"T_a81e1657_883b_11eb_b526_704d7b3c13bcrow0_col251\" class=\"data row0 col251\" >nan</td>\n",
       "                        <td id=\"T_a81e1657_883b_11eb_b526_704d7b3c13bcrow0_col252\" class=\"data row0 col252\" >nan</td>\n",
       "                        <td id=\"T_a81e1657_883b_11eb_b526_704d7b3c13bcrow0_col253\" class=\"data row0 col253\" >2015-12-21 17:15:50</td>\n",
       "                        <td id=\"T_a81e1657_883b_11eb_b526_704d7b3c13bcrow0_col254\" class=\"data row0 col254\" >2015-12-22 17:27:51</td>\n",
       "                        <td id=\"T_a81e1657_883b_11eb_b526_704d7b3c13bcrow0_col255\" class=\"data row0 col255\" >2015-12-23 16:44:44</td>\n",
       "                        <td id=\"T_a81e1657_883b_11eb_b526_704d7b3c13bcrow0_col256\" class=\"data row0 col256\" >2015-12-24 17:47:22</td>\n",
       "                        <td id=\"T_a81e1657_883b_11eb_b526_704d7b3c13bcrow0_col257\" class=\"data row0 col257\" >nan</td>\n",
       "                        <td id=\"T_a81e1657_883b_11eb_b526_704d7b3c13bcrow0_col258\" class=\"data row0 col258\" >2015-12-28 18:00:07</td>\n",
       "                        <td id=\"T_a81e1657_883b_11eb_b526_704d7b3c13bcrow0_col259\" class=\"data row0 col259\" >2015-12-29 17:22:30</td>\n",
       "                        <td id=\"T_a81e1657_883b_11eb_b526_704d7b3c13bcrow0_col260\" class=\"data row0 col260\" >2015-12-30 17:40:56</td>\n",
       "                        <td id=\"T_a81e1657_883b_11eb_b526_704d7b3c13bcrow0_col261\" class=\"data row0 col261\" >2015-12-31 17:17:33</td>\n",
       "            </tr>\n",
       "            <tr>\n",
       "                        <th id=\"T_a81e1657_883b_11eb_b526_704d7b3c13bclevel0_row1\" class=\"row_heading level0 row1\" >1</th>\n",
       "                        <td id=\"T_a81e1657_883b_11eb_b526_704d7b3c13bcrow1_col0\" class=\"data row1 col0\" >2</td>\n",
       "                        <td id=\"T_a81e1657_883b_11eb_b526_704d7b3c13bcrow1_col1\" class=\"data row1 col1\" >nan</td>\n",
       "                        <td id=\"T_a81e1657_883b_11eb_b526_704d7b3c13bcrow1_col2\" class=\"data row1 col2\" >2015-01-02 18:22:17</td>\n",
       "                        <td id=\"T_a81e1657_883b_11eb_b526_704d7b3c13bcrow1_col3\" class=\"data row1 col3\" >2015-01-05 17:48:22</td>\n",
       "                        <td id=\"T_a81e1657_883b_11eb_b526_704d7b3c13bcrow1_col4\" class=\"data row1 col4\" >nan</td>\n",
       "                        <td id=\"T_a81e1657_883b_11eb_b526_704d7b3c13bcrow1_col5\" class=\"data row1 col5\" >2015-01-07 17:09:06</td>\n",
       "                        <td id=\"T_a81e1657_883b_11eb_b526_704d7b3c13bcrow1_col6\" class=\"data row1 col6\" >2015-01-08 17:34:04</td>\n",
       "                        <td id=\"T_a81e1657_883b_11eb_b526_704d7b3c13bcrow1_col7\" class=\"data row1 col7\" >2015-01-09 16:52:29</td>\n",
       "                        <td id=\"T_a81e1657_883b_11eb_b526_704d7b3c13bcrow1_col8\" class=\"data row1 col8\" >2015-01-12 17:36:48</td>\n",
       "                        <td id=\"T_a81e1657_883b_11eb_b526_704d7b3c13bcrow1_col9\" class=\"data row1 col9\" >2015-01-13 18:00:13</td>\n",
       "                        <td id=\"T_a81e1657_883b_11eb_b526_704d7b3c13bcrow1_col10\" class=\"data row1 col10\" >nan</td>\n",
       "                        <td id=\"T_a81e1657_883b_11eb_b526_704d7b3c13bcrow1_col11\" class=\"data row1 col11\" >2015-01-15 17:14:44</td>\n",
       "                        <td id=\"T_a81e1657_883b_11eb_b526_704d7b3c13bcrow1_col12\" class=\"data row1 col12\" >2015-01-16 17:40:57</td>\n",
       "                        <td id=\"T_a81e1657_883b_11eb_b526_704d7b3c13bcrow1_col13\" class=\"data row1 col13\" >2015-01-19 17:58:22</td>\n",
       "                        <td id=\"T_a81e1657_883b_11eb_b526_704d7b3c13bcrow1_col14\" class=\"data row1 col14\" >2015-01-20 17:05:13</td>\n",
       "                        <td id=\"T_a81e1657_883b_11eb_b526_704d7b3c13bcrow1_col15\" class=\"data row1 col15\" >2015-01-21 17:41:05</td>\n",
       "                        <td id=\"T_a81e1657_883b_11eb_b526_704d7b3c13bcrow1_col16\" class=\"data row1 col16\" >2015-01-22 17:26:26</td>\n",
       "                        <td id=\"T_a81e1657_883b_11eb_b526_704d7b3c13bcrow1_col17\" class=\"data row1 col17\" >2015-01-23 17:06:50</td>\n",
       "                        <td id=\"T_a81e1657_883b_11eb_b526_704d7b3c13bcrow1_col18\" class=\"data row1 col18\" >nan</td>\n",
       "                        <td id=\"T_a81e1657_883b_11eb_b526_704d7b3c13bcrow1_col19\" class=\"data row1 col19\" >2015-01-27 17:35:50</td>\n",
       "                        <td id=\"T_a81e1657_883b_11eb_b526_704d7b3c13bcrow1_col20\" class=\"data row1 col20\" >2015-01-28 17:19:48</td>\n",
       "                        <td id=\"T_a81e1657_883b_11eb_b526_704d7b3c13bcrow1_col21\" class=\"data row1 col21\" >2015-01-29 17:07:38</td>\n",
       "                        <td id=\"T_a81e1657_883b_11eb_b526_704d7b3c13bcrow1_col22\" class=\"data row1 col22\" >2015-01-30 16:53:22</td>\n",
       "                        <td id=\"T_a81e1657_883b_11eb_b526_704d7b3c13bcrow1_col23\" class=\"data row1 col23\" >2015-02-02 17:45:18</td>\n",
       "                        <td id=\"T_a81e1657_883b_11eb_b526_704d7b3c13bcrow1_col24\" class=\"data row1 col24\" >2015-02-03 17:33:42</td>\n",
       "                        <td id=\"T_a81e1657_883b_11eb_b526_704d7b3c13bcrow1_col25\" class=\"data row1 col25\" >2015-02-04 18:04:20</td>\n",
       "                        <td id=\"T_a81e1657_883b_11eb_b526_704d7b3c13bcrow1_col26\" class=\"data row1 col26\" >2015-02-05 17:43:25</td>\n",
       "                        <td id=\"T_a81e1657_883b_11eb_b526_704d7b3c13bcrow1_col27\" class=\"data row1 col27\" >2015-02-06 17:06:42</td>\n",
       "                        <td id=\"T_a81e1657_883b_11eb_b526_704d7b3c13bcrow1_col28\" class=\"data row1 col28\" >nan</td>\n",
       "                        <td id=\"T_a81e1657_883b_11eb_b526_704d7b3c13bcrow1_col29\" class=\"data row1 col29\" >2015-02-10 18:12:17</td>\n",
       "                        <td id=\"T_a81e1657_883b_11eb_b526_704d7b3c13bcrow1_col30\" class=\"data row1 col30\" >2015-02-11 17:18:36</td>\n",
       "                        <td id=\"T_a81e1657_883b_11eb_b526_704d7b3c13bcrow1_col31\" class=\"data row1 col31\" >2015-02-12 18:08:01</td>\n",
       "                        <td id=\"T_a81e1657_883b_11eb_b526_704d7b3c13bcrow1_col32\" class=\"data row1 col32\" >2015-02-13 17:19:25</td>\n",
       "                        <td id=\"T_a81e1657_883b_11eb_b526_704d7b3c13bcrow1_col33\" class=\"data row1 col33\" >2015-02-16 17:46:09</td>\n",
       "                        <td id=\"T_a81e1657_883b_11eb_b526_704d7b3c13bcrow1_col34\" class=\"data row1 col34\" >2015-02-17 17:09:30</td>\n",
       "                        <td id=\"T_a81e1657_883b_11eb_b526_704d7b3c13bcrow1_col35\" class=\"data row1 col35\" >2015-02-18 17:48:56</td>\n",
       "                        <td id=\"T_a81e1657_883b_11eb_b526_704d7b3c13bcrow1_col36\" class=\"data row1 col36\" >2015-02-19 18:06:35</td>\n",
       "                        <td id=\"T_a81e1657_883b_11eb_b526_704d7b3c13bcrow1_col37\" class=\"data row1 col37\" >2015-02-20 17:31:45</td>\n",
       "                        <td id=\"T_a81e1657_883b_11eb_b526_704d7b3c13bcrow1_col38\" class=\"data row1 col38\" >2015-02-23 17:57:18</td>\n",
       "                        <td id=\"T_a81e1657_883b_11eb_b526_704d7b3c13bcrow1_col39\" class=\"data row1 col39\" >2015-02-24 17:32:22</td>\n",
       "                        <td id=\"T_a81e1657_883b_11eb_b526_704d7b3c13bcrow1_col40\" class=\"data row1 col40\" >2015-02-25 17:43:47</td>\n",
       "                        <td id=\"T_a81e1657_883b_11eb_b526_704d7b3c13bcrow1_col41\" class=\"data row1 col41\" >2015-02-26 17:49:55</td>\n",
       "                        <td id=\"T_a81e1657_883b_11eb_b526_704d7b3c13bcrow1_col42\" class=\"data row1 col42\" >2015-02-27 18:38:54</td>\n",
       "                        <td id=\"T_a81e1657_883b_11eb_b526_704d7b3c13bcrow1_col43\" class=\"data row1 col43\" >2015-03-02 17:36:37</td>\n",
       "                        <td id=\"T_a81e1657_883b_11eb_b526_704d7b3c13bcrow1_col44\" class=\"data row1 col44\" >2015-03-03 18:12:57</td>\n",
       "                        <td id=\"T_a81e1657_883b_11eb_b526_704d7b3c13bcrow1_col45\" class=\"data row1 col45\" >2015-03-04 17:52:38</td>\n",
       "                        <td id=\"T_a81e1657_883b_11eb_b526_704d7b3c13bcrow1_col46\" class=\"data row1 col46\" >nan</td>\n",
       "                        <td id=\"T_a81e1657_883b_11eb_b526_704d7b3c13bcrow1_col47\" class=\"data row1 col47\" >2015-03-06 17:21:33</td>\n",
       "                        <td id=\"T_a81e1657_883b_11eb_b526_704d7b3c13bcrow1_col48\" class=\"data row1 col48\" >2015-03-09 18:10:21</td>\n",
       "                        <td id=\"T_a81e1657_883b_11eb_b526_704d7b3c13bcrow1_col49\" class=\"data row1 col49\" >2015-03-10 17:14:06</td>\n",
       "                        <td id=\"T_a81e1657_883b_11eb_b526_704d7b3c13bcrow1_col50\" class=\"data row1 col50\" >2015-03-11 17:56:14</td>\n",
       "                        <td id=\"T_a81e1657_883b_11eb_b526_704d7b3c13bcrow1_col51\" class=\"data row1 col51\" >2015-03-12 17:30:53</td>\n",
       "                        <td id=\"T_a81e1657_883b_11eb_b526_704d7b3c13bcrow1_col52\" class=\"data row1 col52\" >2015-03-13 17:48:25</td>\n",
       "                        <td id=\"T_a81e1657_883b_11eb_b526_704d7b3c13bcrow1_col53\" class=\"data row1 col53\" >2015-03-16 17:08:38</td>\n",
       "                        <td id=\"T_a81e1657_883b_11eb_b526_704d7b3c13bcrow1_col54\" class=\"data row1 col54\" >2015-03-17 16:58:02</td>\n",
       "                        <td id=\"T_a81e1657_883b_11eb_b526_704d7b3c13bcrow1_col55\" class=\"data row1 col55\" >2015-03-18 17:16:35</td>\n",
       "                        <td id=\"T_a81e1657_883b_11eb_b526_704d7b3c13bcrow1_col56\" class=\"data row1 col56\" >2015-03-19 17:28:42</td>\n",
       "                        <td id=\"T_a81e1657_883b_11eb_b526_704d7b3c13bcrow1_col57\" class=\"data row1 col57\" >2015-03-20 17:31:55</td>\n",
       "                        <td id=\"T_a81e1657_883b_11eb_b526_704d7b3c13bcrow1_col58\" class=\"data row1 col58\" >2015-03-23 17:58:55</td>\n",
       "                        <td id=\"T_a81e1657_883b_11eb_b526_704d7b3c13bcrow1_col59\" class=\"data row1 col59\" >nan</td>\n",
       "                        <td id=\"T_a81e1657_883b_11eb_b526_704d7b3c13bcrow1_col60\" class=\"data row1 col60\" >2015-03-25 17:22:19</td>\n",
       "                        <td id=\"T_a81e1657_883b_11eb_b526_704d7b3c13bcrow1_col61\" class=\"data row1 col61\" >2015-03-26 17:48:10</td>\n",
       "                        <td id=\"T_a81e1657_883b_11eb_b526_704d7b3c13bcrow1_col62\" class=\"data row1 col62\" >2015-03-27 17:49:22</td>\n",
       "                        <td id=\"T_a81e1657_883b_11eb_b526_704d7b3c13bcrow1_col63\" class=\"data row1 col63\" >2015-03-30 17:28:31</td>\n",
       "                        <td id=\"T_a81e1657_883b_11eb_b526_704d7b3c13bcrow1_col64\" class=\"data row1 col64\" >2015-03-31 18:28:47</td>\n",
       "                        <td id=\"T_a81e1657_883b_11eb_b526_704d7b3c13bcrow1_col65\" class=\"data row1 col65\" >2015-04-01 17:30:06</td>\n",
       "                        <td id=\"T_a81e1657_883b_11eb_b526_704d7b3c13bcrow1_col66\" class=\"data row1 col66\" >2015-04-02 17:39:09</td>\n",
       "                        <td id=\"T_a81e1657_883b_11eb_b526_704d7b3c13bcrow1_col67\" class=\"data row1 col67\" >2015-04-03 18:07:24</td>\n",
       "                        <td id=\"T_a81e1657_883b_11eb_b526_704d7b3c13bcrow1_col68\" class=\"data row1 col68\" >2015-04-06 17:40:31</td>\n",
       "                        <td id=\"T_a81e1657_883b_11eb_b526_704d7b3c13bcrow1_col69\" class=\"data row1 col69\" >2015-04-07 17:50:46</td>\n",
       "                        <td id=\"T_a81e1657_883b_11eb_b526_704d7b3c13bcrow1_col70\" class=\"data row1 col70\" >2015-04-08 17:09:41</td>\n",
       "                        <td id=\"T_a81e1657_883b_11eb_b526_704d7b3c13bcrow1_col71\" class=\"data row1 col71\" >2015-04-09 17:07:38</td>\n",
       "                        <td id=\"T_a81e1657_883b_11eb_b526_704d7b3c13bcrow1_col72\" class=\"data row1 col72\" >2015-04-10 17:43:12</td>\n",
       "                        <td id=\"T_a81e1657_883b_11eb_b526_704d7b3c13bcrow1_col73\" class=\"data row1 col73\" >2015-04-13 17:45:20</td>\n",
       "                        <td id=\"T_a81e1657_883b_11eb_b526_704d7b3c13bcrow1_col74\" class=\"data row1 col74\" >2015-04-14 18:00:46</td>\n",
       "                        <td id=\"T_a81e1657_883b_11eb_b526_704d7b3c13bcrow1_col75\" class=\"data row1 col75\" >2015-04-15 17:35:11</td>\n",
       "                        <td id=\"T_a81e1657_883b_11eb_b526_704d7b3c13bcrow1_col76\" class=\"data row1 col76\" >2015-04-16 17:21:42</td>\n",
       "                        <td id=\"T_a81e1657_883b_11eb_b526_704d7b3c13bcrow1_col77\" class=\"data row1 col77\" >2015-04-17 17:24:55</td>\n",
       "                        <td id=\"T_a81e1657_883b_11eb_b526_704d7b3c13bcrow1_col78\" class=\"data row1 col78\" >2015-04-20 17:51:08</td>\n",
       "                        <td id=\"T_a81e1657_883b_11eb_b526_704d7b3c13bcrow1_col79\" class=\"data row1 col79\" >2015-04-21 18:49:53</td>\n",
       "                        <td id=\"T_a81e1657_883b_11eb_b526_704d7b3c13bcrow1_col80\" class=\"data row1 col80\" >2015-04-22 17:40:46</td>\n",
       "                        <td id=\"T_a81e1657_883b_11eb_b526_704d7b3c13bcrow1_col81\" class=\"data row1 col81\" >2015-04-23 18:04:23</td>\n",
       "                        <td id=\"T_a81e1657_883b_11eb_b526_704d7b3c13bcrow1_col82\" class=\"data row1 col82\" >2015-04-24 17:42:16</td>\n",
       "                        <td id=\"T_a81e1657_883b_11eb_b526_704d7b3c13bcrow1_col83\" class=\"data row1 col83\" >2015-04-27 17:12:05</td>\n",
       "                        <td id=\"T_a81e1657_883b_11eb_b526_704d7b3c13bcrow1_col84\" class=\"data row1 col84\" >2015-04-28 17:29:15</td>\n",
       "                        <td id=\"T_a81e1657_883b_11eb_b526_704d7b3c13bcrow1_col85\" class=\"data row1 col85\" >nan</td>\n",
       "                        <td id=\"T_a81e1657_883b_11eb_b526_704d7b3c13bcrow1_col86\" class=\"data row1 col86\" >2015-04-30 18:18:58</td>\n",
       "                        <td id=\"T_a81e1657_883b_11eb_b526_704d7b3c13bcrow1_col87\" class=\"data row1 col87\" >nan</td>\n",
       "                        <td id=\"T_a81e1657_883b_11eb_b526_704d7b3c13bcrow1_col88\" class=\"data row1 col88\" >2015-05-04 17:41:29</td>\n",
       "                        <td id=\"T_a81e1657_883b_11eb_b526_704d7b3c13bcrow1_col89\" class=\"data row1 col89\" >2015-05-05 18:08:25</td>\n",
       "                        <td id=\"T_a81e1657_883b_11eb_b526_704d7b3c13bcrow1_col90\" class=\"data row1 col90\" >2015-05-06 17:37:33</td>\n",
       "                        <td id=\"T_a81e1657_883b_11eb_b526_704d7b3c13bcrow1_col91\" class=\"data row1 col91\" >2015-05-07 17:26:07</td>\n",
       "                        <td id=\"T_a81e1657_883b_11eb_b526_704d7b3c13bcrow1_col92\" class=\"data row1 col92\" >2015-05-08 17:07:25</td>\n",
       "                        <td id=\"T_a81e1657_883b_11eb_b526_704d7b3c13bcrow1_col93\" class=\"data row1 col93\" >2015-05-11 17:30:04</td>\n",
       "                        <td id=\"T_a81e1657_883b_11eb_b526_704d7b3c13bcrow1_col94\" class=\"data row1 col94\" >2015-05-12 17:39:57</td>\n",
       "                        <td id=\"T_a81e1657_883b_11eb_b526_704d7b3c13bcrow1_col95\" class=\"data row1 col95\" >2015-05-13 17:35:24</td>\n",
       "                        <td id=\"T_a81e1657_883b_11eb_b526_704d7b3c13bcrow1_col96\" class=\"data row1 col96\" >nan</td>\n",
       "                        <td id=\"T_a81e1657_883b_11eb_b526_704d7b3c13bcrow1_col97\" class=\"data row1 col97\" >2015-05-15 17:06:54</td>\n",
       "                        <td id=\"T_a81e1657_883b_11eb_b526_704d7b3c13bcrow1_col98\" class=\"data row1 col98\" >nan</td>\n",
       "                        <td id=\"T_a81e1657_883b_11eb_b526_704d7b3c13bcrow1_col99\" class=\"data row1 col99\" >2015-05-19 17:53:01</td>\n",
       "                        <td id=\"T_a81e1657_883b_11eb_b526_704d7b3c13bcrow1_col100\" class=\"data row1 col100\" >2015-05-20 17:30:15</td>\n",
       "                        <td id=\"T_a81e1657_883b_11eb_b526_704d7b3c13bcrow1_col101\" class=\"data row1 col101\" >2015-05-21 17:25:40</td>\n",
       "                        <td id=\"T_a81e1657_883b_11eb_b526_704d7b3c13bcrow1_col102\" class=\"data row1 col102\" >2015-05-22 18:39:12</td>\n",
       "                        <td id=\"T_a81e1657_883b_11eb_b526_704d7b3c13bcrow1_col103\" class=\"data row1 col103\" >2015-05-25 17:50:50</td>\n",
       "                        <td id=\"T_a81e1657_883b_11eb_b526_704d7b3c13bcrow1_col104\" class=\"data row1 col104\" >2015-05-26 17:49:25</td>\n",
       "                        <td id=\"T_a81e1657_883b_11eb_b526_704d7b3c13bcrow1_col105\" class=\"data row1 col105\" >2015-05-27 17:51:25</td>\n",
       "                        <td id=\"T_a81e1657_883b_11eb_b526_704d7b3c13bcrow1_col106\" class=\"data row1 col106\" >2015-05-28 17:11:38</td>\n",
       "                        <td id=\"T_a81e1657_883b_11eb_b526_704d7b3c13bcrow1_col107\" class=\"data row1 col107\" >2015-05-29 17:55:55</td>\n",
       "                        <td id=\"T_a81e1657_883b_11eb_b526_704d7b3c13bcrow1_col108\" class=\"data row1 col108\" >2015-06-01 18:01:11</td>\n",
       "                        <td id=\"T_a81e1657_883b_11eb_b526_704d7b3c13bcrow1_col109\" class=\"data row1 col109\" >2015-06-02 17:34:55</td>\n",
       "                        <td id=\"T_a81e1657_883b_11eb_b526_704d7b3c13bcrow1_col110\" class=\"data row1 col110\" >2015-06-03 17:58:25</td>\n",
       "                        <td id=\"T_a81e1657_883b_11eb_b526_704d7b3c13bcrow1_col111\" class=\"data row1 col111\" >2015-06-04 16:27:03</td>\n",
       "                        <td id=\"T_a81e1657_883b_11eb_b526_704d7b3c13bcrow1_col112\" class=\"data row1 col112\" >2015-06-05 17:46:19</td>\n",
       "                        <td id=\"T_a81e1657_883b_11eb_b526_704d7b3c13bcrow1_col113\" class=\"data row1 col113\" >2015-06-08 17:20:20</td>\n",
       "                        <td id=\"T_a81e1657_883b_11eb_b526_704d7b3c13bcrow1_col114\" class=\"data row1 col114\" >2015-06-09 17:24:55</td>\n",
       "                        <td id=\"T_a81e1657_883b_11eb_b526_704d7b3c13bcrow1_col115\" class=\"data row1 col115\" >2015-06-10 17:44:36</td>\n",
       "                        <td id=\"T_a81e1657_883b_11eb_b526_704d7b3c13bcrow1_col116\" class=\"data row1 col116\" >2015-06-11 17:53:52</td>\n",
       "                        <td id=\"T_a81e1657_883b_11eb_b526_704d7b3c13bcrow1_col117\" class=\"data row1 col117\" >nan</td>\n",
       "                        <td id=\"T_a81e1657_883b_11eb_b526_704d7b3c13bcrow1_col118\" class=\"data row1 col118\" >2015-06-15 17:48:03</td>\n",
       "                        <td id=\"T_a81e1657_883b_11eb_b526_704d7b3c13bcrow1_col119\" class=\"data row1 col119\" >2015-06-16 18:01:24</td>\n",
       "                        <td id=\"T_a81e1657_883b_11eb_b526_704d7b3c13bcrow1_col120\" class=\"data row1 col120\" >2015-06-17 18:05:55</td>\n",
       "                        <td id=\"T_a81e1657_883b_11eb_b526_704d7b3c13bcrow1_col121\" class=\"data row1 col121\" >2015-06-18 17:48:28</td>\n",
       "                        <td id=\"T_a81e1657_883b_11eb_b526_704d7b3c13bcrow1_col122\" class=\"data row1 col122\" >2015-06-19 17:55:56</td>\n",
       "                        <td id=\"T_a81e1657_883b_11eb_b526_704d7b3c13bcrow1_col123\" class=\"data row1 col123\" >2015-06-22 17:48:27</td>\n",
       "                        <td id=\"T_a81e1657_883b_11eb_b526_704d7b3c13bcrow1_col124\" class=\"data row1 col124\" >2015-06-23 17:46:50</td>\n",
       "                        <td id=\"T_a81e1657_883b_11eb_b526_704d7b3c13bcrow1_col125\" class=\"data row1 col125\" >2015-06-24 17:59:00</td>\n",
       "                        <td id=\"T_a81e1657_883b_11eb_b526_704d7b3c13bcrow1_col126\" class=\"data row1 col126\" >2015-06-25 18:09:18</td>\n",
       "                        <td id=\"T_a81e1657_883b_11eb_b526_704d7b3c13bcrow1_col127\" class=\"data row1 col127\" >2015-06-26 17:35:47</td>\n",
       "                        <td id=\"T_a81e1657_883b_11eb_b526_704d7b3c13bcrow1_col128\" class=\"data row1 col128\" >2015-06-29 18:00:33</td>\n",
       "                        <td id=\"T_a81e1657_883b_11eb_b526_704d7b3c13bcrow1_col129\" class=\"data row1 col129\" >2015-06-30 17:20:12</td>\n",
       "                        <td id=\"T_a81e1657_883b_11eb_b526_704d7b3c13bcrow1_col130\" class=\"data row1 col130\" >2015-07-01 17:27:32</td>\n",
       "                        <td id=\"T_a81e1657_883b_11eb_b526_704d7b3c13bcrow1_col131\" class=\"data row1 col131\" >2015-07-02 17:52:49</td>\n",
       "                        <td id=\"T_a81e1657_883b_11eb_b526_704d7b3c13bcrow1_col132\" class=\"data row1 col132\" >2015-07-03 18:08:39</td>\n",
       "                        <td id=\"T_a81e1657_883b_11eb_b526_704d7b3c13bcrow1_col133\" class=\"data row1 col133\" >2015-07-06 17:53:47</td>\n",
       "                        <td id=\"T_a81e1657_883b_11eb_b526_704d7b3c13bcrow1_col134\" class=\"data row1 col134\" >2015-07-07 18:20:24</td>\n",
       "                        <td id=\"T_a81e1657_883b_11eb_b526_704d7b3c13bcrow1_col135\" class=\"data row1 col135\" >2015-07-08 17:39:41</td>\n",
       "                        <td id=\"T_a81e1657_883b_11eb_b526_704d7b3c13bcrow1_col136\" class=\"data row1 col136\" >2015-07-09 17:28:26</td>\n",
       "                        <td id=\"T_a81e1657_883b_11eb_b526_704d7b3c13bcrow1_col137\" class=\"data row1 col137\" >2015-07-10 18:12:57</td>\n",
       "                        <td id=\"T_a81e1657_883b_11eb_b526_704d7b3c13bcrow1_col138\" class=\"data row1 col138\" >nan</td>\n",
       "                        <td id=\"T_a81e1657_883b_11eb_b526_704d7b3c13bcrow1_col139\" class=\"data row1 col139\" >2015-07-14 18:06:32</td>\n",
       "                        <td id=\"T_a81e1657_883b_11eb_b526_704d7b3c13bcrow1_col140\" class=\"data row1 col140\" >2015-07-15 17:25:39</td>\n",
       "                        <td id=\"T_a81e1657_883b_11eb_b526_704d7b3c13bcrow1_col141\" class=\"data row1 col141\" >2015-07-16 18:13:48</td>\n",
       "                        <td id=\"T_a81e1657_883b_11eb_b526_704d7b3c13bcrow1_col142\" class=\"data row1 col142\" >nan</td>\n",
       "                        <td id=\"T_a81e1657_883b_11eb_b526_704d7b3c13bcrow1_col143\" class=\"data row1 col143\" >2015-07-20 17:47:07</td>\n",
       "                        <td id=\"T_a81e1657_883b_11eb_b526_704d7b3c13bcrow1_col144\" class=\"data row1 col144\" >2015-07-21 18:01:49</td>\n",
       "                        <td id=\"T_a81e1657_883b_11eb_b526_704d7b3c13bcrow1_col145\" class=\"data row1 col145\" >2015-07-22 17:20:40</td>\n",
       "                        <td id=\"T_a81e1657_883b_11eb_b526_704d7b3c13bcrow1_col146\" class=\"data row1 col146\" >2015-07-23 17:36:14</td>\n",
       "                        <td id=\"T_a81e1657_883b_11eb_b526_704d7b3c13bcrow1_col147\" class=\"data row1 col147\" >2015-07-24 18:07:05</td>\n",
       "                        <td id=\"T_a81e1657_883b_11eb_b526_704d7b3c13bcrow1_col148\" class=\"data row1 col148\" >nan</td>\n",
       "                        <td id=\"T_a81e1657_883b_11eb_b526_704d7b3c13bcrow1_col149\" class=\"data row1 col149\" >2015-07-28 18:08:31</td>\n",
       "                        <td id=\"T_a81e1657_883b_11eb_b526_704d7b3c13bcrow1_col150\" class=\"data row1 col150\" >2015-07-29 17:54:49</td>\n",
       "                        <td id=\"T_a81e1657_883b_11eb_b526_704d7b3c13bcrow1_col151\" class=\"data row1 col151\" >2015-07-30 17:19:50</td>\n",
       "                        <td id=\"T_a81e1657_883b_11eb_b526_704d7b3c13bcrow1_col152\" class=\"data row1 col152\" >2015-07-31 17:30:49</td>\n",
       "                        <td id=\"T_a81e1657_883b_11eb_b526_704d7b3c13bcrow1_col153\" class=\"data row1 col153\" >2015-08-03 17:44:58</td>\n",
       "                        <td id=\"T_a81e1657_883b_11eb_b526_704d7b3c13bcrow1_col154\" class=\"data row1 col154\" >2015-08-04 18:08:25</td>\n",
       "                        <td id=\"T_a81e1657_883b_11eb_b526_704d7b3c13bcrow1_col155\" class=\"data row1 col155\" >2015-08-05 17:27:32</td>\n",
       "                        <td id=\"T_a81e1657_883b_11eb_b526_704d7b3c13bcrow1_col156\" class=\"data row1 col156\" >2015-08-06 18:48:44</td>\n",
       "                        <td id=\"T_a81e1657_883b_11eb_b526_704d7b3c13bcrow1_col157\" class=\"data row1 col157\" >2015-08-07 17:47:53</td>\n",
       "                        <td id=\"T_a81e1657_883b_11eb_b526_704d7b3c13bcrow1_col158\" class=\"data row1 col158\" >2015-08-10 17:24:08</td>\n",
       "                        <td id=\"T_a81e1657_883b_11eb_b526_704d7b3c13bcrow1_col159\" class=\"data row1 col159\" >2015-08-11 17:09:55</td>\n",
       "                        <td id=\"T_a81e1657_883b_11eb_b526_704d7b3c13bcrow1_col160\" class=\"data row1 col160\" >2015-08-12 17:13:38</td>\n",
       "                        <td id=\"T_a81e1657_883b_11eb_b526_704d7b3c13bcrow1_col161\" class=\"data row1 col161\" >2015-08-13 17:54:56</td>\n",
       "                        <td id=\"T_a81e1657_883b_11eb_b526_704d7b3c13bcrow1_col162\" class=\"data row1 col162\" >2015-08-14 17:29:11</td>\n",
       "                        <td id=\"T_a81e1657_883b_11eb_b526_704d7b3c13bcrow1_col163\" class=\"data row1 col163\" >2015-08-17 18:04:06</td>\n",
       "                        <td id=\"T_a81e1657_883b_11eb_b526_704d7b3c13bcrow1_col164\" class=\"data row1 col164\" >2015-08-18 17:03:21</td>\n",
       "                        <td id=\"T_a81e1657_883b_11eb_b526_704d7b3c13bcrow1_col165\" class=\"data row1 col165\" >2015-08-19 17:36:39</td>\n",
       "                        <td id=\"T_a81e1657_883b_11eb_b526_704d7b3c13bcrow1_col166\" class=\"data row1 col166\" >2015-08-20 17:56:23</td>\n",
       "                        <td id=\"T_a81e1657_883b_11eb_b526_704d7b3c13bcrow1_col167\" class=\"data row1 col167\" >2015-08-21 17:38:55</td>\n",
       "                        <td id=\"T_a81e1657_883b_11eb_b526_704d7b3c13bcrow1_col168\" class=\"data row1 col168\" >2015-08-24 17:05:20</td>\n",
       "                        <td id=\"T_a81e1657_883b_11eb_b526_704d7b3c13bcrow1_col169\" class=\"data row1 col169\" >2015-08-25 17:11:02</td>\n",
       "                        <td id=\"T_a81e1657_883b_11eb_b526_704d7b3c13bcrow1_col170\" class=\"data row1 col170\" >2015-08-26 17:44:47</td>\n",
       "                        <td id=\"T_a81e1657_883b_11eb_b526_704d7b3c13bcrow1_col171\" class=\"data row1 col171\" >2015-08-27 18:04:39</td>\n",
       "                        <td id=\"T_a81e1657_883b_11eb_b526_704d7b3c13bcrow1_col172\" class=\"data row1 col172\" >2015-08-28 17:24:55</td>\n",
       "                        <td id=\"T_a81e1657_883b_11eb_b526_704d7b3c13bcrow1_col173\" class=\"data row1 col173\" >2015-08-31 18:13:22</td>\n",
       "                        <td id=\"T_a81e1657_883b_11eb_b526_704d7b3c13bcrow1_col174\" class=\"data row1 col174\" >2015-09-01 17:18:16</td>\n",
       "                        <td id=\"T_a81e1657_883b_11eb_b526_704d7b3c13bcrow1_col175\" class=\"data row1 col175\" >2015-09-02 17:26:57</td>\n",
       "                        <td id=\"T_a81e1657_883b_11eb_b526_704d7b3c13bcrow1_col176\" class=\"data row1 col176\" >2015-09-03 17:50:40</td>\n",
       "                        <td id=\"T_a81e1657_883b_11eb_b526_704d7b3c13bcrow1_col177\" class=\"data row1 col177\" >2015-09-04 18:21:48</td>\n",
       "                        <td id=\"T_a81e1657_883b_11eb_b526_704d7b3c13bcrow1_col178\" class=\"data row1 col178\" >2015-09-07 18:10:09</td>\n",
       "                        <td id=\"T_a81e1657_883b_11eb_b526_704d7b3c13bcrow1_col179\" class=\"data row1 col179\" >nan</td>\n",
       "                        <td id=\"T_a81e1657_883b_11eb_b526_704d7b3c13bcrow1_col180\" class=\"data row1 col180\" >2015-09-09 17:52:26</td>\n",
       "                        <td id=\"T_a81e1657_883b_11eb_b526_704d7b3c13bcrow1_col181\" class=\"data row1 col181\" >2015-09-10 18:22:09</td>\n",
       "                        <td id=\"T_a81e1657_883b_11eb_b526_704d7b3c13bcrow1_col182\" class=\"data row1 col182\" >2015-09-11 17:27:25</td>\n",
       "                        <td id=\"T_a81e1657_883b_11eb_b526_704d7b3c13bcrow1_col183\" class=\"data row1 col183\" >2015-09-14 17:10:53</td>\n",
       "                        <td id=\"T_a81e1657_883b_11eb_b526_704d7b3c13bcrow1_col184\" class=\"data row1 col184\" >2015-09-15 16:50:45</td>\n",
       "                        <td id=\"T_a81e1657_883b_11eb_b526_704d7b3c13bcrow1_col185\" class=\"data row1 col185\" >2015-09-16 17:16:37</td>\n",
       "                        <td id=\"T_a81e1657_883b_11eb_b526_704d7b3c13bcrow1_col186\" class=\"data row1 col186\" >nan</td>\n",
       "                        <td id=\"T_a81e1657_883b_11eb_b526_704d7b3c13bcrow1_col187\" class=\"data row1 col187\" >2015-09-18 17:51:23</td>\n",
       "                        <td id=\"T_a81e1657_883b_11eb_b526_704d7b3c13bcrow1_col188\" class=\"data row1 col188\" >2015-09-21 17:45:44</td>\n",
       "                        <td id=\"T_a81e1657_883b_11eb_b526_704d7b3c13bcrow1_col189\" class=\"data row1 col189\" >2015-09-22 16:51:17</td>\n",
       "                        <td id=\"T_a81e1657_883b_11eb_b526_704d7b3c13bcrow1_col190\" class=\"data row1 col190\" >2015-09-23 17:55:03</td>\n",
       "                        <td id=\"T_a81e1657_883b_11eb_b526_704d7b3c13bcrow1_col191\" class=\"data row1 col191\" >2015-09-24 18:07:54</td>\n",
       "                        <td id=\"T_a81e1657_883b_11eb_b526_704d7b3c13bcrow1_col192\" class=\"data row1 col192\" >2015-09-25 17:45:34</td>\n",
       "                        <td id=\"T_a81e1657_883b_11eb_b526_704d7b3c13bcrow1_col193\" class=\"data row1 col193\" >2015-09-28 17:52:52</td>\n",
       "                        <td id=\"T_a81e1657_883b_11eb_b526_704d7b3c13bcrow1_col194\" class=\"data row1 col194\" >2015-09-29 18:02:18</td>\n",
       "                        <td id=\"T_a81e1657_883b_11eb_b526_704d7b3c13bcrow1_col195\" class=\"data row1 col195\" >2015-09-30 18:15:14</td>\n",
       "                        <td id=\"T_a81e1657_883b_11eb_b526_704d7b3c13bcrow1_col196\" class=\"data row1 col196\" >2015-10-01 17:33:53</td>\n",
       "                        <td id=\"T_a81e1657_883b_11eb_b526_704d7b3c13bcrow1_col197\" class=\"data row1 col197\" >nan</td>\n",
       "                        <td id=\"T_a81e1657_883b_11eb_b526_704d7b3c13bcrow1_col198\" class=\"data row1 col198\" >2015-10-05 18:08:24</td>\n",
       "                        <td id=\"T_a81e1657_883b_11eb_b526_704d7b3c13bcrow1_col199\" class=\"data row1 col199\" >2015-10-06 17:12:33</td>\n",
       "                        <td id=\"T_a81e1657_883b_11eb_b526_704d7b3c13bcrow1_col200\" class=\"data row1 col200\" >2015-10-07 18:07:16</td>\n",
       "                        <td id=\"T_a81e1657_883b_11eb_b526_704d7b3c13bcrow1_col201\" class=\"data row1 col201\" >2015-10-08 18:19:06</td>\n",
       "                        <td id=\"T_a81e1657_883b_11eb_b526_704d7b3c13bcrow1_col202\" class=\"data row1 col202\" >2015-10-09 17:18:33</td>\n",
       "                        <td id=\"T_a81e1657_883b_11eb_b526_704d7b3c13bcrow1_col203\" class=\"data row1 col203\" >2015-10-12 17:16:51</td>\n",
       "                        <td id=\"T_a81e1657_883b_11eb_b526_704d7b3c13bcrow1_col204\" class=\"data row1 col204\" >2015-10-13 18:32:48</td>\n",
       "                        <td id=\"T_a81e1657_883b_11eb_b526_704d7b3c13bcrow1_col205\" class=\"data row1 col205\" >2015-10-14 17:45:04</td>\n",
       "                        <td id=\"T_a81e1657_883b_11eb_b526_704d7b3c13bcrow1_col206\" class=\"data row1 col206\" >nan</td>\n",
       "                        <td id=\"T_a81e1657_883b_11eb_b526_704d7b3c13bcrow1_col207\" class=\"data row1 col207\" >2015-10-16 17:58:11</td>\n",
       "                        <td id=\"T_a81e1657_883b_11eb_b526_704d7b3c13bcrow1_col208\" class=\"data row1 col208\" >2015-10-19 18:00:41</td>\n",
       "                        <td id=\"T_a81e1657_883b_11eb_b526_704d7b3c13bcrow1_col209\" class=\"data row1 col209\" >2015-10-20 17:13:28</td>\n",
       "                        <td id=\"T_a81e1657_883b_11eb_b526_704d7b3c13bcrow1_col210\" class=\"data row1 col210\" >2015-10-21 16:51:56</td>\n",
       "                        <td id=\"T_a81e1657_883b_11eb_b526_704d7b3c13bcrow1_col211\" class=\"data row1 col211\" >2015-10-22 18:30:26</td>\n",
       "                        <td id=\"T_a81e1657_883b_11eb_b526_704d7b3c13bcrow1_col212\" class=\"data row1 col212\" >2015-10-23 16:37:09</td>\n",
       "                        <td id=\"T_a81e1657_883b_11eb_b526_704d7b3c13bcrow1_col213\" class=\"data row1 col213\" >2015-10-26 17:58:41</td>\n",
       "                        <td id=\"T_a81e1657_883b_11eb_b526_704d7b3c13bcrow1_col214\" class=\"data row1 col214\" >2015-10-27 18:23:56</td>\n",
       "                        <td id=\"T_a81e1657_883b_11eb_b526_704d7b3c13bcrow1_col215\" class=\"data row1 col215\" >2015-10-28 17:20:29</td>\n",
       "                        <td id=\"T_a81e1657_883b_11eb_b526_704d7b3c13bcrow1_col216\" class=\"data row1 col216\" >2015-10-29 17:44:08</td>\n",
       "                        <td id=\"T_a81e1657_883b_11eb_b526_704d7b3c13bcrow1_col217\" class=\"data row1 col217\" >2015-10-30 17:32:48</td>\n",
       "                        <td id=\"T_a81e1657_883b_11eb_b526_704d7b3c13bcrow1_col218\" class=\"data row1 col218\" >2015-11-02 17:29:17</td>\n",
       "                        <td id=\"T_a81e1657_883b_11eb_b526_704d7b3c13bcrow1_col219\" class=\"data row1 col219\" >2015-11-03 17:18:27</td>\n",
       "                        <td id=\"T_a81e1657_883b_11eb_b526_704d7b3c13bcrow1_col220\" class=\"data row1 col220\" >2015-11-04 17:54:32</td>\n",
       "                        <td id=\"T_a81e1657_883b_11eb_b526_704d7b3c13bcrow1_col221\" class=\"data row1 col221\" >2015-11-05 17:11:57</td>\n",
       "                        <td id=\"T_a81e1657_883b_11eb_b526_704d7b3c13bcrow1_col222\" class=\"data row1 col222\" >2015-11-06 17:28:38</td>\n",
       "                        <td id=\"T_a81e1657_883b_11eb_b526_704d7b3c13bcrow1_col223\" class=\"data row1 col223\" >nan</td>\n",
       "                        <td id=\"T_a81e1657_883b_11eb_b526_704d7b3c13bcrow1_col224\" class=\"data row1 col224\" >nan</td>\n",
       "                        <td id=\"T_a81e1657_883b_11eb_b526_704d7b3c13bcrow1_col225\" class=\"data row1 col225\" >nan</td>\n",
       "                        <td id=\"T_a81e1657_883b_11eb_b526_704d7b3c13bcrow1_col226\" class=\"data row1 col226\" >2015-11-12 17:34:03</td>\n",
       "                        <td id=\"T_a81e1657_883b_11eb_b526_704d7b3c13bcrow1_col227\" class=\"data row1 col227\" >2015-11-13 17:38:25</td>\n",
       "                        <td id=\"T_a81e1657_883b_11eb_b526_704d7b3c13bcrow1_col228\" class=\"data row1 col228\" >2015-11-16 18:37:03</td>\n",
       "                        <td id=\"T_a81e1657_883b_11eb_b526_704d7b3c13bcrow1_col229\" class=\"data row1 col229\" >2015-11-17 17:26:09</td>\n",
       "                        <td id=\"T_a81e1657_883b_11eb_b526_704d7b3c13bcrow1_col230\" class=\"data row1 col230\" >2015-11-18 18:06:23</td>\n",
       "                        <td id=\"T_a81e1657_883b_11eb_b526_704d7b3c13bcrow1_col231\" class=\"data row1 col231\" >nan</td>\n",
       "                        <td id=\"T_a81e1657_883b_11eb_b526_704d7b3c13bcrow1_col232\" class=\"data row1 col232\" >2015-11-20 17:52:48</td>\n",
       "                        <td id=\"T_a81e1657_883b_11eb_b526_704d7b3c13bcrow1_col233\" class=\"data row1 col233\" >2015-11-23 17:32:43</td>\n",
       "                        <td id=\"T_a81e1657_883b_11eb_b526_704d7b3c13bcrow1_col234\" class=\"data row1 col234\" >2015-11-24 17:01:00</td>\n",
       "                        <td id=\"T_a81e1657_883b_11eb_b526_704d7b3c13bcrow1_col235\" class=\"data row1 col235\" >2015-11-25 17:14:56</td>\n",
       "                        <td id=\"T_a81e1657_883b_11eb_b526_704d7b3c13bcrow1_col236\" class=\"data row1 col236\" >2015-11-26 18:28:44</td>\n",
       "                        <td id=\"T_a81e1657_883b_11eb_b526_704d7b3c13bcrow1_col237\" class=\"data row1 col237\" >2015-11-27 18:12:27</td>\n",
       "                        <td id=\"T_a81e1657_883b_11eb_b526_704d7b3c13bcrow1_col238\" class=\"data row1 col238\" >2015-11-30 17:18:40</td>\n",
       "                        <td id=\"T_a81e1657_883b_11eb_b526_704d7b3c13bcrow1_col239\" class=\"data row1 col239\" >2015-12-01 17:21:07</td>\n",
       "                        <td id=\"T_a81e1657_883b_11eb_b526_704d7b3c13bcrow1_col240\" class=\"data row1 col240\" >2015-12-02 18:02:46</td>\n",
       "                        <td id=\"T_a81e1657_883b_11eb_b526_704d7b3c13bcrow1_col241\" class=\"data row1 col241\" >2015-12-03 18:08:00</td>\n",
       "                        <td id=\"T_a81e1657_883b_11eb_b526_704d7b3c13bcrow1_col242\" class=\"data row1 col242\" >2015-12-04 18:01:03</td>\n",
       "                        <td id=\"T_a81e1657_883b_11eb_b526_704d7b3c13bcrow1_col243\" class=\"data row1 col243\" >2015-12-07 17:06:37</td>\n",
       "                        <td id=\"T_a81e1657_883b_11eb_b526_704d7b3c13bcrow1_col244\" class=\"data row1 col244\" >2015-12-08 17:44:18</td>\n",
       "                        <td id=\"T_a81e1657_883b_11eb_b526_704d7b3c13bcrow1_col245\" class=\"data row1 col245\" >2015-12-09 17:47:47</td>\n",
       "                        <td id=\"T_a81e1657_883b_11eb_b526_704d7b3c13bcrow1_col246\" class=\"data row1 col246\" >2015-12-10 17:55:23</td>\n",
       "                        <td id=\"T_a81e1657_883b_11eb_b526_704d7b3c13bcrow1_col247\" class=\"data row1 col247\" >2015-12-11 17:42:47</td>\n",
       "                        <td id=\"T_a81e1657_883b_11eb_b526_704d7b3c13bcrow1_col248\" class=\"data row1 col248\" >2015-12-14 17:32:11</td>\n",
       "                        <td id=\"T_a81e1657_883b_11eb_b526_704d7b3c13bcrow1_col249\" class=\"data row1 col249\" >2015-12-15 17:56:25</td>\n",
       "                        <td id=\"T_a81e1657_883b_11eb_b526_704d7b3c13bcrow1_col250\" class=\"data row1 col250\" >2015-12-16 18:16:37</td>\n",
       "                        <td id=\"T_a81e1657_883b_11eb_b526_704d7b3c13bcrow1_col251\" class=\"data row1 col251\" >2015-12-17 17:10:50</td>\n",
       "                        <td id=\"T_a81e1657_883b_11eb_b526_704d7b3c13bcrow1_col252\" class=\"data row1 col252\" >2015-12-18 18:31:28</td>\n",
       "                        <td id=\"T_a81e1657_883b_11eb_b526_704d7b3c13bcrow1_col253\" class=\"data row1 col253\" >2015-12-21 17:34:16</td>\n",
       "                        <td id=\"T_a81e1657_883b_11eb_b526_704d7b3c13bcrow1_col254\" class=\"data row1 col254\" >2015-12-22 18:16:35</td>\n",
       "                        <td id=\"T_a81e1657_883b_11eb_b526_704d7b3c13bcrow1_col255\" class=\"data row1 col255\" >2015-12-23 17:38:18</td>\n",
       "                        <td id=\"T_a81e1657_883b_11eb_b526_704d7b3c13bcrow1_col256\" class=\"data row1 col256\" >nan</td>\n",
       "                        <td id=\"T_a81e1657_883b_11eb_b526_704d7b3c13bcrow1_col257\" class=\"data row1 col257\" >nan</td>\n",
       "                        <td id=\"T_a81e1657_883b_11eb_b526_704d7b3c13bcrow1_col258\" class=\"data row1 col258\" >2015-12-28 17:08:38</td>\n",
       "                        <td id=\"T_a81e1657_883b_11eb_b526_704d7b3c13bcrow1_col259\" class=\"data row1 col259\" >2015-12-29 17:54:46</td>\n",
       "                        <td id=\"T_a81e1657_883b_11eb_b526_704d7b3c13bcrow1_col260\" class=\"data row1 col260\" >2015-12-30 18:31:35</td>\n",
       "                        <td id=\"T_a81e1657_883b_11eb_b526_704d7b3c13bcrow1_col261\" class=\"data row1 col261\" >2015-12-31 17:40:58</td>\n",
       "            </tr>\n",
       "    </tbody></table>"
      ],
      "text/plain": [
       "<pandas.io.formats.style.Styler at 0x162babf0970>"
      ]
     },
     "execution_count": 8,
     "metadata": {},
     "output_type": "execute_result"
    }
   ],
   "source": [
    "out_time_data.head(2).style"
   ]
  },
  {
   "cell_type": "markdown",
   "metadata": {
    "slideshow": {
     "slide_type": "subslide"
    }
   },
   "source": [
    "### B. Construction d'un unique dataset"
   ]
  },
  {
   "cell_type": "markdown",
   "metadata": {
    "slideshow": {
     "slide_type": "skip"
    }
   },
   "source": [
    "Pour éviter de se compliquer la tache, il est preferable de travailler avec un seul et unique dataset. Or l'entreprise nous a transmis des jeux de données qui sont liés à leurs employés. Nous allons donc essayer de \"joindre\" ces jeux de données en un seul tableau.\n",
    "\n",
    "Nous vérifions dans un premier si nos tableaux `Pandas` contiennent le même nombre de ligne"
   ]
  },
  {
   "cell_type": "code",
   "execution_count": 9,
   "metadata": {
    "slideshow": {
     "slide_type": "skip"
    }
   },
   "outputs": [
    {
     "name": "stdout",
     "output_type": "stream",
     "text": [
      "Dimensions general_data : (4410, 24)\n",
      "Dimensions manager_survey_data : (4410, 3)\n",
      "Dimensions employee_survey_data : (4410, 4)\n",
      "Dimensions in_time_data : (4410, 262)\n",
      "Dimensions out_time_data : (4410, 262)\n"
     ]
    }
   ],
   "source": [
    "print(\"Dimensions general_data :\", general_data.shape)\n",
    "print(\"Dimensions manager_survey_data :\", manager_survey_data.shape)\n",
    "print(\"Dimensions employee_survey_data :\", employee_survey_data.shape)\n",
    "print(\"Dimensions in_time_data :\", in_time_data.shape)\n",
    "print(\"Dimensions out_time_data :\", out_time_data.shape)"
   ]
  },
  {
   "cell_type": "markdown",
   "metadata": {
    "slideshow": {
     "slide_type": "skip"
    }
   },
   "source": [
    "Bonne nouvelle! Les tableaux contiennent tous le même nombre de ligne. Il semblerait que nous ayons donc une ligne par employé dans chaque tableau. \n",
    "\n",
    "Nous pouvons commencer par essayer de \"joindre\" les tableaux `general_data` et `manager_survey_data`. En effet, ces deux tableaux ont une colonne similaire nommée `EmployeeID` qui semble la plus adaptée à une jointure. \n",
    "\n",
    "Avant de faire la jointure, nous allons vérifier qu'il n'y a pas de doublons sur cette donnée car cela pourrait planter notre jointure."
   ]
  },
  {
   "cell_type": "code",
   "execution_count": 10,
   "metadata": {
    "slideshow": {
     "slide_type": "skip"
    }
   },
   "outputs": [
    {
     "name": "stdout",
     "output_type": "stream",
     "text": [
      "Nombre de ligne unique general_data :  (4410,)\n",
      "Nombre de ligne unique manager_survey_data :  (4410,)\n"
     ]
    }
   ],
   "source": [
    "print(\"Nombre de ligne unique general_data : \", general_data.EmployeeID.unique().shape)\n",
    "print(\"Nombre de ligne unique manager_survey_data : \", manager_survey_data.EmployeeID.unique().shape)"
   ]
  },
  {
   "cell_type": "markdown",
   "metadata": {
    "slideshow": {
     "slide_type": "skip"
    }
   },
   "source": [
    "Parfait, le nombre d'élément unique est le même, nous pouvons faire la jointure sur cette colonne"
   ]
  },
  {
   "cell_type": "code",
   "execution_count": 11,
   "metadata": {
    "slideshow": {
     "slide_type": "skip"
    }
   },
   "outputs": [
    {
     "name": "stdout",
     "output_type": "stream",
     "text": [
      "Dimensions après jointure :  (4410, 26)\n"
     ]
    }
   ],
   "source": [
    "dataset = general_data.join(manager_survey_data.set_index('EmployeeID'), how=\"inner\", on=\"EmployeeID\")\n",
    "print (\"Dimensions après jointure : \", dataset.shape)"
   ]
  },
  {
   "cell_type": "markdown",
   "metadata": {
    "slideshow": {
     "slide_type": "skip"
    }
   },
   "source": [
    "Nous obtenons bien le même nombre de ligne et nous avons bien les 24 colonnes de `general_data` plus les 2 colonnes de `manager_survey_data` (`EmployeeID` n'ayant été gardée qu'une seule fois lors de la jointure) \n",
    "\n",
    "Nous pouvons maintenant réexécuter cette procédure avec les tableaux `dataset` et `employee_survey_data`"
   ]
  },
  {
   "cell_type": "code",
   "execution_count": 12,
   "metadata": {
    "slideshow": {
     "slide_type": "skip"
    }
   },
   "outputs": [
    {
     "name": "stdout",
     "output_type": "stream",
     "text": [
      "Nombre de ligne unique employee_survey_data :  (4410,)\n"
     ]
    }
   ],
   "source": [
    "print(\"Nombre de ligne unique employee_survey_data : \", employee_survey_data.EmployeeID.unique().shape)"
   ]
  },
  {
   "cell_type": "code",
   "execution_count": 13,
   "metadata": {
    "slideshow": {
     "slide_type": "skip"
    }
   },
   "outputs": [
    {
     "name": "stdout",
     "output_type": "stream",
     "text": [
      "Dimensions après jointure :  (4410, 29)\n"
     ]
    }
   ],
   "source": [
    "dataset = dataset.join(employee_survey_data.set_index('EmployeeID'), how=\"inner\", on=\"EmployeeID\")\n",
    "print (\"Dimensions après jointure : \", dataset.shape)"
   ]
  },
  {
   "cell_type": "markdown",
   "metadata": {
    "slideshow": {
     "slide_type": "skip"
    }
   },
   "source": [
    "Les tableaux `in_time_data` et `out_time_data` ne contiennent pas de colonne nommée `EmployeeID`. Cependant la première colonne de ces deux tableaux y ressemble beaucoup. Nous allons vérifier si celle-ci contient des données uniques, si oui alors nous utiliserons cette colonne en tant qu'ID de jointutre."
   ]
  },
  {
   "cell_type": "code",
   "execution_count": 14,
   "metadata": {
    "slideshow": {
     "slide_type": "skip"
    }
   },
   "outputs": [
    {
     "name": "stdout",
     "output_type": "stream",
     "text": [
      "Nombre de ligne unique in_time_data :  (4410,)\n",
      "Nombre de ligne unique out_time_data :  (4410,)\n"
     ]
    }
   ],
   "source": [
    "in_time_data.rename( columns={'Unnamed: 0':'EmployeeID'}, inplace=True )\n",
    "out_time_data.rename( columns={'Unnamed: 0':'EmployeeID'}, inplace=True )\n",
    "print(\"Nombre de ligne unique in_time_data : \", in_time_data.EmployeeID.unique().shape)\n",
    "print(\"Nombre de ligne unique out_time_data : \", out_time_data.EmployeeID.unique().shape)"
   ]
  },
  {
   "cell_type": "code",
   "execution_count": 15,
   "metadata": {
    "slideshow": {
     "slide_type": "skip"
    }
   },
   "outputs": [],
   "source": [
    "dataset = dataset.join(in_time_data.set_index('EmployeeID'), how=\"inner\", on=\"EmployeeID\")\n",
    "dataset = dataset.join(out_time_data.set_index('EmployeeID'), how=\"inner\", on=\"EmployeeID\", lsuffix='_in', rsuffix='_out')"
   ]
  },
  {
   "cell_type": "code",
   "execution_count": 16,
   "metadata": {
    "slideshow": {
     "slide_type": "fragment"
    }
   },
   "outputs": [
    {
     "data": {
      "text/html": [
       "<style  type=\"text/css\" >\n",
       "</style><table id=\"T_a8891e05_883b_11eb_89b2_704d7b3c13bc\" ><thead>    <tr>        <th class=\"blank level0\" ></th>        <th class=\"col_heading level0 col0\" >Age</th>        <th class=\"col_heading level0 col1\" >Attrition</th>        <th class=\"col_heading level0 col2\" >BusinessTravel</th>        <th class=\"col_heading level0 col3\" >Department</th>        <th class=\"col_heading level0 col4\" >DistanceFromHome</th>        <th class=\"col_heading level0 col5\" >Education</th>        <th class=\"col_heading level0 col6\" >EducationField</th>        <th class=\"col_heading level0 col7\" >EmployeeCount</th>        <th class=\"col_heading level0 col8\" >EmployeeID</th>        <th class=\"col_heading level0 col9\" >Gender</th>        <th class=\"col_heading level0 col10\" >JobLevel</th>        <th class=\"col_heading level0 col11\" >JobRole</th>        <th class=\"col_heading level0 col12\" >MaritalStatus</th>        <th class=\"col_heading level0 col13\" >MonthlyIncome</th>        <th class=\"col_heading level0 col14\" >NumCompaniesWorked</th>        <th class=\"col_heading level0 col15\" >Over18</th>        <th class=\"col_heading level0 col16\" >PercentSalaryHike</th>        <th class=\"col_heading level0 col17\" >StandardHours</th>        <th class=\"col_heading level0 col18\" >StockOptionLevel</th>        <th class=\"col_heading level0 col19\" >TotalWorkingYears</th>        <th class=\"col_heading level0 col20\" >TrainingTimesLastYear</th>        <th class=\"col_heading level0 col21\" >YearsAtCompany</th>        <th class=\"col_heading level0 col22\" >YearsSinceLastPromotion</th>        <th class=\"col_heading level0 col23\" >YearsWithCurrManager</th>        <th class=\"col_heading level0 col24\" >JobInvolvement</th>        <th class=\"col_heading level0 col25\" >PerformanceRating</th>        <th class=\"col_heading level0 col26\" >EnvironmentSatisfaction</th>        <th class=\"col_heading level0 col27\" >JobSatisfaction</th>        <th class=\"col_heading level0 col28\" >WorkLifeBalance</th>        <th class=\"col_heading level0 col29\" >2015-01-01_in</th>        <th class=\"col_heading level0 col30\" >2015-01-02_in</th>        <th class=\"col_heading level0 col31\" >2015-01-05_in</th>        <th class=\"col_heading level0 col32\" >2015-01-06_in</th>        <th class=\"col_heading level0 col33\" >2015-01-07_in</th>        <th class=\"col_heading level0 col34\" >2015-01-08_in</th>        <th class=\"col_heading level0 col35\" >2015-01-09_in</th>        <th class=\"col_heading level0 col36\" >2015-01-12_in</th>        <th class=\"col_heading level0 col37\" >2015-01-13_in</th>        <th class=\"col_heading level0 col38\" >2015-01-14_in</th>        <th class=\"col_heading level0 col39\" >2015-01-15_in</th>        <th class=\"col_heading level0 col40\" >2015-01-16_in</th>        <th class=\"col_heading level0 col41\" >2015-01-19_in</th>        <th class=\"col_heading level0 col42\" >2015-01-20_in</th>        <th class=\"col_heading level0 col43\" >2015-01-21_in</th>        <th class=\"col_heading level0 col44\" >2015-01-22_in</th>        <th class=\"col_heading level0 col45\" >2015-01-23_in</th>        <th class=\"col_heading level0 col46\" >2015-01-26_in</th>        <th class=\"col_heading level0 col47\" >2015-01-27_in</th>        <th class=\"col_heading level0 col48\" >2015-01-28_in</th>        <th class=\"col_heading level0 col49\" >2015-01-29_in</th>        <th class=\"col_heading level0 col50\" >2015-01-30_in</th>        <th class=\"col_heading level0 col51\" >2015-02-02_in</th>        <th class=\"col_heading level0 col52\" >2015-02-03_in</th>        <th class=\"col_heading level0 col53\" >2015-02-04_in</th>        <th class=\"col_heading level0 col54\" >2015-02-05_in</th>        <th class=\"col_heading level0 col55\" >2015-02-06_in</th>        <th class=\"col_heading level0 col56\" >2015-02-09_in</th>        <th class=\"col_heading level0 col57\" >2015-02-10_in</th>        <th class=\"col_heading level0 col58\" >2015-02-11_in</th>        <th class=\"col_heading level0 col59\" >2015-02-12_in</th>        <th class=\"col_heading level0 col60\" >2015-02-13_in</th>        <th class=\"col_heading level0 col61\" >2015-02-16_in</th>        <th class=\"col_heading level0 col62\" >2015-02-17_in</th>        <th class=\"col_heading level0 col63\" >2015-02-18_in</th>        <th class=\"col_heading level0 col64\" >2015-02-19_in</th>        <th class=\"col_heading level0 col65\" >2015-02-20_in</th>        <th class=\"col_heading level0 col66\" >2015-02-23_in</th>        <th class=\"col_heading level0 col67\" >2015-02-24_in</th>        <th class=\"col_heading level0 col68\" >2015-02-25_in</th>        <th class=\"col_heading level0 col69\" >2015-02-26_in</th>        <th class=\"col_heading level0 col70\" >2015-02-27_in</th>        <th class=\"col_heading level0 col71\" >2015-03-02_in</th>        <th class=\"col_heading level0 col72\" >2015-03-03_in</th>        <th class=\"col_heading level0 col73\" >2015-03-04_in</th>        <th class=\"col_heading level0 col74\" >2015-03-05_in</th>        <th class=\"col_heading level0 col75\" >2015-03-06_in</th>        <th class=\"col_heading level0 col76\" >2015-03-09_in</th>        <th class=\"col_heading level0 col77\" >2015-03-10_in</th>        <th class=\"col_heading level0 col78\" >2015-03-11_in</th>        <th class=\"col_heading level0 col79\" >2015-03-12_in</th>        <th class=\"col_heading level0 col80\" >2015-03-13_in</th>        <th class=\"col_heading level0 col81\" >2015-03-16_in</th>        <th class=\"col_heading level0 col82\" >2015-03-17_in</th>        <th class=\"col_heading level0 col83\" >2015-03-18_in</th>        <th class=\"col_heading level0 col84\" >2015-03-19_in</th>        <th class=\"col_heading level0 col85\" >2015-03-20_in</th>        <th class=\"col_heading level0 col86\" >2015-03-23_in</th>        <th class=\"col_heading level0 col87\" >2015-03-24_in</th>        <th class=\"col_heading level0 col88\" >2015-03-25_in</th>        <th class=\"col_heading level0 col89\" >2015-03-26_in</th>        <th class=\"col_heading level0 col90\" >2015-03-27_in</th>        <th class=\"col_heading level0 col91\" >2015-03-30_in</th>        <th class=\"col_heading level0 col92\" >2015-03-31_in</th>        <th class=\"col_heading level0 col93\" >2015-04-01_in</th>        <th class=\"col_heading level0 col94\" >2015-04-02_in</th>        <th class=\"col_heading level0 col95\" >2015-04-03_in</th>        <th class=\"col_heading level0 col96\" >2015-04-06_in</th>        <th class=\"col_heading level0 col97\" >2015-04-07_in</th>        <th class=\"col_heading level0 col98\" >2015-04-08_in</th>        <th class=\"col_heading level0 col99\" >2015-04-09_in</th>        <th class=\"col_heading level0 col100\" >2015-04-10_in</th>        <th class=\"col_heading level0 col101\" >2015-04-13_in</th>        <th class=\"col_heading level0 col102\" >2015-04-14_in</th>        <th class=\"col_heading level0 col103\" >2015-04-15_in</th>        <th class=\"col_heading level0 col104\" >2015-04-16_in</th>        <th class=\"col_heading level0 col105\" >2015-04-17_in</th>        <th class=\"col_heading level0 col106\" >2015-04-20_in</th>        <th class=\"col_heading level0 col107\" >2015-04-21_in</th>        <th class=\"col_heading level0 col108\" >2015-04-22_in</th>        <th class=\"col_heading level0 col109\" >2015-04-23_in</th>        <th class=\"col_heading level0 col110\" >2015-04-24_in</th>        <th class=\"col_heading level0 col111\" >2015-04-27_in</th>        <th class=\"col_heading level0 col112\" >2015-04-28_in</th>        <th class=\"col_heading level0 col113\" >2015-04-29_in</th>        <th class=\"col_heading level0 col114\" >2015-04-30_in</th>        <th class=\"col_heading level0 col115\" >2015-05-01_in</th>        <th class=\"col_heading level0 col116\" >2015-05-04_in</th>        <th class=\"col_heading level0 col117\" >2015-05-05_in</th>        <th class=\"col_heading level0 col118\" >2015-05-06_in</th>        <th class=\"col_heading level0 col119\" >2015-05-07_in</th>        <th class=\"col_heading level0 col120\" >2015-05-08_in</th>        <th class=\"col_heading level0 col121\" >2015-05-11_in</th>        <th class=\"col_heading level0 col122\" >2015-05-12_in</th>        <th class=\"col_heading level0 col123\" >2015-05-13_in</th>        <th class=\"col_heading level0 col124\" >2015-05-14_in</th>        <th class=\"col_heading level0 col125\" >2015-05-15_in</th>        <th class=\"col_heading level0 col126\" >2015-05-18_in</th>        <th class=\"col_heading level0 col127\" >2015-05-19_in</th>        <th class=\"col_heading level0 col128\" >2015-05-20_in</th>        <th class=\"col_heading level0 col129\" >2015-05-21_in</th>        <th class=\"col_heading level0 col130\" >2015-05-22_in</th>        <th class=\"col_heading level0 col131\" >2015-05-25_in</th>        <th class=\"col_heading level0 col132\" >2015-05-26_in</th>        <th class=\"col_heading level0 col133\" >2015-05-27_in</th>        <th class=\"col_heading level0 col134\" >2015-05-28_in</th>        <th class=\"col_heading level0 col135\" >2015-05-29_in</th>        <th class=\"col_heading level0 col136\" >2015-06-01_in</th>        <th class=\"col_heading level0 col137\" >2015-06-02_in</th>        <th class=\"col_heading level0 col138\" >2015-06-03_in</th>        <th class=\"col_heading level0 col139\" >2015-06-04_in</th>        <th class=\"col_heading level0 col140\" >2015-06-05_in</th>        <th class=\"col_heading level0 col141\" >2015-06-08_in</th>        <th class=\"col_heading level0 col142\" >2015-06-09_in</th>        <th class=\"col_heading level0 col143\" >2015-06-10_in</th>        <th class=\"col_heading level0 col144\" >2015-06-11_in</th>        <th class=\"col_heading level0 col145\" >2015-06-12_in</th>        <th class=\"col_heading level0 col146\" >2015-06-15_in</th>        <th class=\"col_heading level0 col147\" >2015-06-16_in</th>        <th class=\"col_heading level0 col148\" >2015-06-17_in</th>        <th class=\"col_heading level0 col149\" >2015-06-18_in</th>        <th class=\"col_heading level0 col150\" >2015-06-19_in</th>        <th class=\"col_heading level0 col151\" >2015-06-22_in</th>        <th class=\"col_heading level0 col152\" >2015-06-23_in</th>        <th class=\"col_heading level0 col153\" >2015-06-24_in</th>        <th class=\"col_heading level0 col154\" >2015-06-25_in</th>        <th class=\"col_heading level0 col155\" >2015-06-26_in</th>        <th class=\"col_heading level0 col156\" >2015-06-29_in</th>        <th class=\"col_heading level0 col157\" >2015-06-30_in</th>        <th class=\"col_heading level0 col158\" >2015-07-01_in</th>        <th class=\"col_heading level0 col159\" >2015-07-02_in</th>        <th class=\"col_heading level0 col160\" >2015-07-03_in</th>        <th class=\"col_heading level0 col161\" >2015-07-06_in</th>        <th class=\"col_heading level0 col162\" >2015-07-07_in</th>        <th class=\"col_heading level0 col163\" >2015-07-08_in</th>        <th class=\"col_heading level0 col164\" >2015-07-09_in</th>        <th class=\"col_heading level0 col165\" >2015-07-10_in</th>        <th class=\"col_heading level0 col166\" >2015-07-13_in</th>        <th class=\"col_heading level0 col167\" >2015-07-14_in</th>        <th class=\"col_heading level0 col168\" >2015-07-15_in</th>        <th class=\"col_heading level0 col169\" >2015-07-16_in</th>        <th class=\"col_heading level0 col170\" >2015-07-17_in</th>        <th class=\"col_heading level0 col171\" >2015-07-20_in</th>        <th class=\"col_heading level0 col172\" >2015-07-21_in</th>        <th class=\"col_heading level0 col173\" >2015-07-22_in</th>        <th class=\"col_heading level0 col174\" >2015-07-23_in</th>        <th class=\"col_heading level0 col175\" >2015-07-24_in</th>        <th class=\"col_heading level0 col176\" >2015-07-27_in</th>        <th class=\"col_heading level0 col177\" >2015-07-28_in</th>        <th class=\"col_heading level0 col178\" >2015-07-29_in</th>        <th class=\"col_heading level0 col179\" >2015-07-30_in</th>        <th class=\"col_heading level0 col180\" >2015-07-31_in</th>        <th class=\"col_heading level0 col181\" >2015-08-03_in</th>        <th class=\"col_heading level0 col182\" >2015-08-04_in</th>        <th class=\"col_heading level0 col183\" >2015-08-05_in</th>        <th class=\"col_heading level0 col184\" >2015-08-06_in</th>        <th class=\"col_heading level0 col185\" >2015-08-07_in</th>        <th class=\"col_heading level0 col186\" >2015-08-10_in</th>        <th class=\"col_heading level0 col187\" >2015-08-11_in</th>        <th class=\"col_heading level0 col188\" >2015-08-12_in</th>        <th class=\"col_heading level0 col189\" >2015-08-13_in</th>        <th class=\"col_heading level0 col190\" >2015-08-14_in</th>        <th class=\"col_heading level0 col191\" >2015-08-17_in</th>        <th class=\"col_heading level0 col192\" >2015-08-18_in</th>        <th class=\"col_heading level0 col193\" >2015-08-19_in</th>        <th class=\"col_heading level0 col194\" >2015-08-20_in</th>        <th class=\"col_heading level0 col195\" >2015-08-21_in</th>        <th class=\"col_heading level0 col196\" >2015-08-24_in</th>        <th class=\"col_heading level0 col197\" >2015-08-25_in</th>        <th class=\"col_heading level0 col198\" >2015-08-26_in</th>        <th class=\"col_heading level0 col199\" >2015-08-27_in</th>        <th class=\"col_heading level0 col200\" >2015-08-28_in</th>        <th class=\"col_heading level0 col201\" >2015-08-31_in</th>        <th class=\"col_heading level0 col202\" >2015-09-01_in</th>        <th class=\"col_heading level0 col203\" >2015-09-02_in</th>        <th class=\"col_heading level0 col204\" >2015-09-03_in</th>        <th class=\"col_heading level0 col205\" >2015-09-04_in</th>        <th class=\"col_heading level0 col206\" >2015-09-07_in</th>        <th class=\"col_heading level0 col207\" >2015-09-08_in</th>        <th class=\"col_heading level0 col208\" >2015-09-09_in</th>        <th class=\"col_heading level0 col209\" >2015-09-10_in</th>        <th class=\"col_heading level0 col210\" >2015-09-11_in</th>        <th class=\"col_heading level0 col211\" >2015-09-14_in</th>        <th class=\"col_heading level0 col212\" >2015-09-15_in</th>        <th class=\"col_heading level0 col213\" >2015-09-16_in</th>        <th class=\"col_heading level0 col214\" >2015-09-17_in</th>        <th class=\"col_heading level0 col215\" >2015-09-18_in</th>        <th class=\"col_heading level0 col216\" >2015-09-21_in</th>        <th class=\"col_heading level0 col217\" >2015-09-22_in</th>        <th class=\"col_heading level0 col218\" >2015-09-23_in</th>        <th class=\"col_heading level0 col219\" >2015-09-24_in</th>        <th class=\"col_heading level0 col220\" >2015-09-25_in</th>        <th class=\"col_heading level0 col221\" >2015-09-28_in</th>        <th class=\"col_heading level0 col222\" >2015-09-29_in</th>        <th class=\"col_heading level0 col223\" >2015-09-30_in</th>        <th class=\"col_heading level0 col224\" >2015-10-01_in</th>        <th class=\"col_heading level0 col225\" >2015-10-02_in</th>        <th class=\"col_heading level0 col226\" >2015-10-05_in</th>        <th class=\"col_heading level0 col227\" >2015-10-06_in</th>        <th class=\"col_heading level0 col228\" >2015-10-07_in</th>        <th class=\"col_heading level0 col229\" >2015-10-08_in</th>        <th class=\"col_heading level0 col230\" >2015-10-09_in</th>        <th class=\"col_heading level0 col231\" >2015-10-12_in</th>        <th class=\"col_heading level0 col232\" >2015-10-13_in</th>        <th class=\"col_heading level0 col233\" >2015-10-14_in</th>        <th class=\"col_heading level0 col234\" >2015-10-15_in</th>        <th class=\"col_heading level0 col235\" >2015-10-16_in</th>        <th class=\"col_heading level0 col236\" >2015-10-19_in</th>        <th class=\"col_heading level0 col237\" >2015-10-20_in</th>        <th class=\"col_heading level0 col238\" >2015-10-21_in</th>        <th class=\"col_heading level0 col239\" >2015-10-22_in</th>        <th class=\"col_heading level0 col240\" >2015-10-23_in</th>        <th class=\"col_heading level0 col241\" >2015-10-26_in</th>        <th class=\"col_heading level0 col242\" >2015-10-27_in</th>        <th class=\"col_heading level0 col243\" >2015-10-28_in</th>        <th class=\"col_heading level0 col244\" >2015-10-29_in</th>        <th class=\"col_heading level0 col245\" >2015-10-30_in</th>        <th class=\"col_heading level0 col246\" >2015-11-02_in</th>        <th class=\"col_heading level0 col247\" >2015-11-03_in</th>        <th class=\"col_heading level0 col248\" >2015-11-04_in</th>        <th class=\"col_heading level0 col249\" >2015-11-05_in</th>        <th class=\"col_heading level0 col250\" >2015-11-06_in</th>        <th class=\"col_heading level0 col251\" >2015-11-09_in</th>        <th class=\"col_heading level0 col252\" >2015-11-10_in</th>        <th class=\"col_heading level0 col253\" >2015-11-11_in</th>        <th class=\"col_heading level0 col254\" >2015-11-12_in</th>        <th class=\"col_heading level0 col255\" >2015-11-13_in</th>        <th class=\"col_heading level0 col256\" >2015-11-16_in</th>        <th class=\"col_heading level0 col257\" >2015-11-17_in</th>        <th class=\"col_heading level0 col258\" >2015-11-18_in</th>        <th class=\"col_heading level0 col259\" >2015-11-19_in</th>        <th class=\"col_heading level0 col260\" >2015-11-20_in</th>        <th class=\"col_heading level0 col261\" >2015-11-23_in</th>        <th class=\"col_heading level0 col262\" >2015-11-24_in</th>        <th class=\"col_heading level0 col263\" >2015-11-25_in</th>        <th class=\"col_heading level0 col264\" >2015-11-26_in</th>        <th class=\"col_heading level0 col265\" >2015-11-27_in</th>        <th class=\"col_heading level0 col266\" >2015-11-30_in</th>        <th class=\"col_heading level0 col267\" >2015-12-01_in</th>        <th class=\"col_heading level0 col268\" >2015-12-02_in</th>        <th class=\"col_heading level0 col269\" >2015-12-03_in</th>        <th class=\"col_heading level0 col270\" >2015-12-04_in</th>        <th class=\"col_heading level0 col271\" >2015-12-07_in</th>        <th class=\"col_heading level0 col272\" >2015-12-08_in</th>        <th class=\"col_heading level0 col273\" >2015-12-09_in</th>        <th class=\"col_heading level0 col274\" >2015-12-10_in</th>        <th class=\"col_heading level0 col275\" >2015-12-11_in</th>        <th class=\"col_heading level0 col276\" >2015-12-14_in</th>        <th class=\"col_heading level0 col277\" >2015-12-15_in</th>        <th class=\"col_heading level0 col278\" >2015-12-16_in</th>        <th class=\"col_heading level0 col279\" >2015-12-17_in</th>        <th class=\"col_heading level0 col280\" >2015-12-18_in</th>        <th class=\"col_heading level0 col281\" >2015-12-21_in</th>        <th class=\"col_heading level0 col282\" >2015-12-22_in</th>        <th class=\"col_heading level0 col283\" >2015-12-23_in</th>        <th class=\"col_heading level0 col284\" >2015-12-24_in</th>        <th class=\"col_heading level0 col285\" >2015-12-25_in</th>        <th class=\"col_heading level0 col286\" >2015-12-28_in</th>        <th class=\"col_heading level0 col287\" >2015-12-29_in</th>        <th class=\"col_heading level0 col288\" >2015-12-30_in</th>        <th class=\"col_heading level0 col289\" >2015-12-31_in</th>        <th class=\"col_heading level0 col290\" >2015-01-01_out</th>        <th class=\"col_heading level0 col291\" >2015-01-02_out</th>        <th class=\"col_heading level0 col292\" >2015-01-05_out</th>        <th class=\"col_heading level0 col293\" >2015-01-06_out</th>        <th class=\"col_heading level0 col294\" >2015-01-07_out</th>        <th class=\"col_heading level0 col295\" >2015-01-08_out</th>        <th class=\"col_heading level0 col296\" >2015-01-09_out</th>        <th class=\"col_heading level0 col297\" >2015-01-12_out</th>        <th class=\"col_heading level0 col298\" >2015-01-13_out</th>        <th class=\"col_heading level0 col299\" >2015-01-14_out</th>        <th class=\"col_heading level0 col300\" >2015-01-15_out</th>        <th class=\"col_heading level0 col301\" >2015-01-16_out</th>        <th class=\"col_heading level0 col302\" >2015-01-19_out</th>        <th class=\"col_heading level0 col303\" >2015-01-20_out</th>        <th class=\"col_heading level0 col304\" >2015-01-21_out</th>        <th class=\"col_heading level0 col305\" >2015-01-22_out</th>        <th class=\"col_heading level0 col306\" >2015-01-23_out</th>        <th class=\"col_heading level0 col307\" >2015-01-26_out</th>        <th class=\"col_heading level0 col308\" >2015-01-27_out</th>        <th class=\"col_heading level0 col309\" >2015-01-28_out</th>        <th class=\"col_heading level0 col310\" >2015-01-29_out</th>        <th class=\"col_heading level0 col311\" >2015-01-30_out</th>        <th class=\"col_heading level0 col312\" >2015-02-02_out</th>        <th class=\"col_heading level0 col313\" >2015-02-03_out</th>        <th class=\"col_heading level0 col314\" >2015-02-04_out</th>        <th class=\"col_heading level0 col315\" >2015-02-05_out</th>        <th class=\"col_heading level0 col316\" >2015-02-06_out</th>        <th class=\"col_heading level0 col317\" >2015-02-09_out</th>        <th class=\"col_heading level0 col318\" >2015-02-10_out</th>        <th class=\"col_heading level0 col319\" >2015-02-11_out</th>        <th class=\"col_heading level0 col320\" >2015-02-12_out</th>        <th class=\"col_heading level0 col321\" >2015-02-13_out</th>        <th class=\"col_heading level0 col322\" >2015-02-16_out</th>        <th class=\"col_heading level0 col323\" >2015-02-17_out</th>        <th class=\"col_heading level0 col324\" >2015-02-18_out</th>        <th class=\"col_heading level0 col325\" >2015-02-19_out</th>        <th class=\"col_heading level0 col326\" >2015-02-20_out</th>        <th class=\"col_heading level0 col327\" >2015-02-23_out</th>        <th class=\"col_heading level0 col328\" >2015-02-24_out</th>        <th class=\"col_heading level0 col329\" >2015-02-25_out</th>        <th class=\"col_heading level0 col330\" >2015-02-26_out</th>        <th class=\"col_heading level0 col331\" >2015-02-27_out</th>        <th class=\"col_heading level0 col332\" >2015-03-02_out</th>        <th class=\"col_heading level0 col333\" >2015-03-03_out</th>        <th class=\"col_heading level0 col334\" >2015-03-04_out</th>        <th class=\"col_heading level0 col335\" >2015-03-05_out</th>        <th class=\"col_heading level0 col336\" >2015-03-06_out</th>        <th class=\"col_heading level0 col337\" >2015-03-09_out</th>        <th class=\"col_heading level0 col338\" >2015-03-10_out</th>        <th class=\"col_heading level0 col339\" >2015-03-11_out</th>        <th class=\"col_heading level0 col340\" >2015-03-12_out</th>        <th class=\"col_heading level0 col341\" >2015-03-13_out</th>        <th class=\"col_heading level0 col342\" >2015-03-16_out</th>        <th class=\"col_heading level0 col343\" >2015-03-17_out</th>        <th class=\"col_heading level0 col344\" >2015-03-18_out</th>        <th class=\"col_heading level0 col345\" >2015-03-19_out</th>        <th class=\"col_heading level0 col346\" >2015-03-20_out</th>        <th class=\"col_heading level0 col347\" >2015-03-23_out</th>        <th class=\"col_heading level0 col348\" >2015-03-24_out</th>        <th class=\"col_heading level0 col349\" >2015-03-25_out</th>        <th class=\"col_heading level0 col350\" >2015-03-26_out</th>        <th class=\"col_heading level0 col351\" >2015-03-27_out</th>        <th class=\"col_heading level0 col352\" >2015-03-30_out</th>        <th class=\"col_heading level0 col353\" >2015-03-31_out</th>        <th class=\"col_heading level0 col354\" >2015-04-01_out</th>        <th class=\"col_heading level0 col355\" >2015-04-02_out</th>        <th class=\"col_heading level0 col356\" >2015-04-03_out</th>        <th class=\"col_heading level0 col357\" >2015-04-06_out</th>        <th class=\"col_heading level0 col358\" >2015-04-07_out</th>        <th class=\"col_heading level0 col359\" >2015-04-08_out</th>        <th class=\"col_heading level0 col360\" >2015-04-09_out</th>        <th class=\"col_heading level0 col361\" >2015-04-10_out</th>        <th class=\"col_heading level0 col362\" >2015-04-13_out</th>        <th class=\"col_heading level0 col363\" >2015-04-14_out</th>        <th class=\"col_heading level0 col364\" >2015-04-15_out</th>        <th class=\"col_heading level0 col365\" >2015-04-16_out</th>        <th class=\"col_heading level0 col366\" >2015-04-17_out</th>        <th class=\"col_heading level0 col367\" >2015-04-20_out</th>        <th class=\"col_heading level0 col368\" >2015-04-21_out</th>        <th class=\"col_heading level0 col369\" >2015-04-22_out</th>        <th class=\"col_heading level0 col370\" >2015-04-23_out</th>        <th class=\"col_heading level0 col371\" >2015-04-24_out</th>        <th class=\"col_heading level0 col372\" >2015-04-27_out</th>        <th class=\"col_heading level0 col373\" >2015-04-28_out</th>        <th class=\"col_heading level0 col374\" >2015-04-29_out</th>        <th class=\"col_heading level0 col375\" >2015-04-30_out</th>        <th class=\"col_heading level0 col376\" >2015-05-01_out</th>        <th class=\"col_heading level0 col377\" >2015-05-04_out</th>        <th class=\"col_heading level0 col378\" >2015-05-05_out</th>        <th class=\"col_heading level0 col379\" >2015-05-06_out</th>        <th class=\"col_heading level0 col380\" >2015-05-07_out</th>        <th class=\"col_heading level0 col381\" >2015-05-08_out</th>        <th class=\"col_heading level0 col382\" >2015-05-11_out</th>        <th class=\"col_heading level0 col383\" >2015-05-12_out</th>        <th class=\"col_heading level0 col384\" >2015-05-13_out</th>        <th class=\"col_heading level0 col385\" >2015-05-14_out</th>        <th class=\"col_heading level0 col386\" >2015-05-15_out</th>        <th class=\"col_heading level0 col387\" >2015-05-18_out</th>        <th class=\"col_heading level0 col388\" >2015-05-19_out</th>        <th class=\"col_heading level0 col389\" >2015-05-20_out</th>        <th class=\"col_heading level0 col390\" >2015-05-21_out</th>        <th class=\"col_heading level0 col391\" >2015-05-22_out</th>        <th class=\"col_heading level0 col392\" >2015-05-25_out</th>        <th class=\"col_heading level0 col393\" >2015-05-26_out</th>        <th class=\"col_heading level0 col394\" >2015-05-27_out</th>        <th class=\"col_heading level0 col395\" >2015-05-28_out</th>        <th class=\"col_heading level0 col396\" >2015-05-29_out</th>        <th class=\"col_heading level0 col397\" >2015-06-01_out</th>        <th class=\"col_heading level0 col398\" >2015-06-02_out</th>        <th class=\"col_heading level0 col399\" >2015-06-03_out</th>        <th class=\"col_heading level0 col400\" >2015-06-04_out</th>        <th class=\"col_heading level0 col401\" >2015-06-05_out</th>        <th class=\"col_heading level0 col402\" >2015-06-08_out</th>        <th class=\"col_heading level0 col403\" >2015-06-09_out</th>        <th class=\"col_heading level0 col404\" >2015-06-10_out</th>        <th class=\"col_heading level0 col405\" >2015-06-11_out</th>        <th class=\"col_heading level0 col406\" >2015-06-12_out</th>        <th class=\"col_heading level0 col407\" >2015-06-15_out</th>        <th class=\"col_heading level0 col408\" >2015-06-16_out</th>        <th class=\"col_heading level0 col409\" >2015-06-17_out</th>        <th class=\"col_heading level0 col410\" >2015-06-18_out</th>        <th class=\"col_heading level0 col411\" >2015-06-19_out</th>        <th class=\"col_heading level0 col412\" >2015-06-22_out</th>        <th class=\"col_heading level0 col413\" >2015-06-23_out</th>        <th class=\"col_heading level0 col414\" >2015-06-24_out</th>        <th class=\"col_heading level0 col415\" >2015-06-25_out</th>        <th class=\"col_heading level0 col416\" >2015-06-26_out</th>        <th class=\"col_heading level0 col417\" >2015-06-29_out</th>        <th class=\"col_heading level0 col418\" >2015-06-30_out</th>        <th class=\"col_heading level0 col419\" >2015-07-01_out</th>        <th class=\"col_heading level0 col420\" >2015-07-02_out</th>        <th class=\"col_heading level0 col421\" >2015-07-03_out</th>        <th class=\"col_heading level0 col422\" >2015-07-06_out</th>        <th class=\"col_heading level0 col423\" >2015-07-07_out</th>        <th class=\"col_heading level0 col424\" >2015-07-08_out</th>        <th class=\"col_heading level0 col425\" >2015-07-09_out</th>        <th class=\"col_heading level0 col426\" >2015-07-10_out</th>        <th class=\"col_heading level0 col427\" >2015-07-13_out</th>        <th class=\"col_heading level0 col428\" >2015-07-14_out</th>        <th class=\"col_heading level0 col429\" >2015-07-15_out</th>        <th class=\"col_heading level0 col430\" >2015-07-16_out</th>        <th class=\"col_heading level0 col431\" >2015-07-17_out</th>        <th class=\"col_heading level0 col432\" >2015-07-20_out</th>        <th class=\"col_heading level0 col433\" >2015-07-21_out</th>        <th class=\"col_heading level0 col434\" >2015-07-22_out</th>        <th class=\"col_heading level0 col435\" >2015-07-23_out</th>        <th class=\"col_heading level0 col436\" >2015-07-24_out</th>        <th class=\"col_heading level0 col437\" >2015-07-27_out</th>        <th class=\"col_heading level0 col438\" >2015-07-28_out</th>        <th class=\"col_heading level0 col439\" >2015-07-29_out</th>        <th class=\"col_heading level0 col440\" >2015-07-30_out</th>        <th class=\"col_heading level0 col441\" >2015-07-31_out</th>        <th class=\"col_heading level0 col442\" >2015-08-03_out</th>        <th class=\"col_heading level0 col443\" >2015-08-04_out</th>        <th class=\"col_heading level0 col444\" >2015-08-05_out</th>        <th class=\"col_heading level0 col445\" >2015-08-06_out</th>        <th class=\"col_heading level0 col446\" >2015-08-07_out</th>        <th class=\"col_heading level0 col447\" >2015-08-10_out</th>        <th class=\"col_heading level0 col448\" >2015-08-11_out</th>        <th class=\"col_heading level0 col449\" >2015-08-12_out</th>        <th class=\"col_heading level0 col450\" >2015-08-13_out</th>        <th class=\"col_heading level0 col451\" >2015-08-14_out</th>        <th class=\"col_heading level0 col452\" >2015-08-17_out</th>        <th class=\"col_heading level0 col453\" >2015-08-18_out</th>        <th class=\"col_heading level0 col454\" >2015-08-19_out</th>        <th class=\"col_heading level0 col455\" >2015-08-20_out</th>        <th class=\"col_heading level0 col456\" >2015-08-21_out</th>        <th class=\"col_heading level0 col457\" >2015-08-24_out</th>        <th class=\"col_heading level0 col458\" >2015-08-25_out</th>        <th class=\"col_heading level0 col459\" >2015-08-26_out</th>        <th class=\"col_heading level0 col460\" >2015-08-27_out</th>        <th class=\"col_heading level0 col461\" >2015-08-28_out</th>        <th class=\"col_heading level0 col462\" >2015-08-31_out</th>        <th class=\"col_heading level0 col463\" >2015-09-01_out</th>        <th class=\"col_heading level0 col464\" >2015-09-02_out</th>        <th class=\"col_heading level0 col465\" >2015-09-03_out</th>        <th class=\"col_heading level0 col466\" >2015-09-04_out</th>        <th class=\"col_heading level0 col467\" >2015-09-07_out</th>        <th class=\"col_heading level0 col468\" >2015-09-08_out</th>        <th class=\"col_heading level0 col469\" >2015-09-09_out</th>        <th class=\"col_heading level0 col470\" >2015-09-10_out</th>        <th class=\"col_heading level0 col471\" >2015-09-11_out</th>        <th class=\"col_heading level0 col472\" >2015-09-14_out</th>        <th class=\"col_heading level0 col473\" >2015-09-15_out</th>        <th class=\"col_heading level0 col474\" >2015-09-16_out</th>        <th class=\"col_heading level0 col475\" >2015-09-17_out</th>        <th class=\"col_heading level0 col476\" >2015-09-18_out</th>        <th class=\"col_heading level0 col477\" >2015-09-21_out</th>        <th class=\"col_heading level0 col478\" >2015-09-22_out</th>        <th class=\"col_heading level0 col479\" >2015-09-23_out</th>        <th class=\"col_heading level0 col480\" >2015-09-24_out</th>        <th class=\"col_heading level0 col481\" >2015-09-25_out</th>        <th class=\"col_heading level0 col482\" >2015-09-28_out</th>        <th class=\"col_heading level0 col483\" >2015-09-29_out</th>        <th class=\"col_heading level0 col484\" >2015-09-30_out</th>        <th class=\"col_heading level0 col485\" >2015-10-01_out</th>        <th class=\"col_heading level0 col486\" >2015-10-02_out</th>        <th class=\"col_heading level0 col487\" >2015-10-05_out</th>        <th class=\"col_heading level0 col488\" >2015-10-06_out</th>        <th class=\"col_heading level0 col489\" >2015-10-07_out</th>        <th class=\"col_heading level0 col490\" >2015-10-08_out</th>        <th class=\"col_heading level0 col491\" >2015-10-09_out</th>        <th class=\"col_heading level0 col492\" >2015-10-12_out</th>        <th class=\"col_heading level0 col493\" >2015-10-13_out</th>        <th class=\"col_heading level0 col494\" >2015-10-14_out</th>        <th class=\"col_heading level0 col495\" >2015-10-15_out</th>        <th class=\"col_heading level0 col496\" >2015-10-16_out</th>        <th class=\"col_heading level0 col497\" >2015-10-19_out</th>        <th class=\"col_heading level0 col498\" >2015-10-20_out</th>        <th class=\"col_heading level0 col499\" >2015-10-21_out</th>        <th class=\"col_heading level0 col500\" >2015-10-22_out</th>        <th class=\"col_heading level0 col501\" >2015-10-23_out</th>        <th class=\"col_heading level0 col502\" >2015-10-26_out</th>        <th class=\"col_heading level0 col503\" >2015-10-27_out</th>        <th class=\"col_heading level0 col504\" >2015-10-28_out</th>        <th class=\"col_heading level0 col505\" >2015-10-29_out</th>        <th class=\"col_heading level0 col506\" >2015-10-30_out</th>        <th class=\"col_heading level0 col507\" >2015-11-02_out</th>        <th class=\"col_heading level0 col508\" >2015-11-03_out</th>        <th class=\"col_heading level0 col509\" >2015-11-04_out</th>        <th class=\"col_heading level0 col510\" >2015-11-05_out</th>        <th class=\"col_heading level0 col511\" >2015-11-06_out</th>        <th class=\"col_heading level0 col512\" >2015-11-09_out</th>        <th class=\"col_heading level0 col513\" >2015-11-10_out</th>        <th class=\"col_heading level0 col514\" >2015-11-11_out</th>        <th class=\"col_heading level0 col515\" >2015-11-12_out</th>        <th class=\"col_heading level0 col516\" >2015-11-13_out</th>        <th class=\"col_heading level0 col517\" >2015-11-16_out</th>        <th class=\"col_heading level0 col518\" >2015-11-17_out</th>        <th class=\"col_heading level0 col519\" >2015-11-18_out</th>        <th class=\"col_heading level0 col520\" >2015-11-19_out</th>        <th class=\"col_heading level0 col521\" >2015-11-20_out</th>        <th class=\"col_heading level0 col522\" >2015-11-23_out</th>        <th class=\"col_heading level0 col523\" >2015-11-24_out</th>        <th class=\"col_heading level0 col524\" >2015-11-25_out</th>        <th class=\"col_heading level0 col525\" >2015-11-26_out</th>        <th class=\"col_heading level0 col526\" >2015-11-27_out</th>        <th class=\"col_heading level0 col527\" >2015-11-30_out</th>        <th class=\"col_heading level0 col528\" >2015-12-01_out</th>        <th class=\"col_heading level0 col529\" >2015-12-02_out</th>        <th class=\"col_heading level0 col530\" >2015-12-03_out</th>        <th class=\"col_heading level0 col531\" >2015-12-04_out</th>        <th class=\"col_heading level0 col532\" >2015-12-07_out</th>        <th class=\"col_heading level0 col533\" >2015-12-08_out</th>        <th class=\"col_heading level0 col534\" >2015-12-09_out</th>        <th class=\"col_heading level0 col535\" >2015-12-10_out</th>        <th class=\"col_heading level0 col536\" >2015-12-11_out</th>        <th class=\"col_heading level0 col537\" >2015-12-14_out</th>        <th class=\"col_heading level0 col538\" >2015-12-15_out</th>        <th class=\"col_heading level0 col539\" >2015-12-16_out</th>        <th class=\"col_heading level0 col540\" >2015-12-17_out</th>        <th class=\"col_heading level0 col541\" >2015-12-18_out</th>        <th class=\"col_heading level0 col542\" >2015-12-21_out</th>        <th class=\"col_heading level0 col543\" >2015-12-22_out</th>        <th class=\"col_heading level0 col544\" >2015-12-23_out</th>        <th class=\"col_heading level0 col545\" >2015-12-24_out</th>        <th class=\"col_heading level0 col546\" >2015-12-25_out</th>        <th class=\"col_heading level0 col547\" >2015-12-28_out</th>        <th class=\"col_heading level0 col548\" >2015-12-29_out</th>        <th class=\"col_heading level0 col549\" >2015-12-30_out</th>        <th class=\"col_heading level0 col550\" >2015-12-31_out</th>    </tr></thead><tbody>\n",
       "                <tr>\n",
       "                        <th id=\"T_a8891e05_883b_11eb_89b2_704d7b3c13bclevel0_row0\" class=\"row_heading level0 row0\" >0</th>\n",
       "                        <td id=\"T_a8891e05_883b_11eb_89b2_704d7b3c13bcrow0_col0\" class=\"data row0 col0\" >51</td>\n",
       "                        <td id=\"T_a8891e05_883b_11eb_89b2_704d7b3c13bcrow0_col1\" class=\"data row0 col1\" >No</td>\n",
       "                        <td id=\"T_a8891e05_883b_11eb_89b2_704d7b3c13bcrow0_col2\" class=\"data row0 col2\" >Travel_Rarely</td>\n",
       "                        <td id=\"T_a8891e05_883b_11eb_89b2_704d7b3c13bcrow0_col3\" class=\"data row0 col3\" >Sales</td>\n",
       "                        <td id=\"T_a8891e05_883b_11eb_89b2_704d7b3c13bcrow0_col4\" class=\"data row0 col4\" >6</td>\n",
       "                        <td id=\"T_a8891e05_883b_11eb_89b2_704d7b3c13bcrow0_col5\" class=\"data row0 col5\" >2</td>\n",
       "                        <td id=\"T_a8891e05_883b_11eb_89b2_704d7b3c13bcrow0_col6\" class=\"data row0 col6\" >Life Sciences</td>\n",
       "                        <td id=\"T_a8891e05_883b_11eb_89b2_704d7b3c13bcrow0_col7\" class=\"data row0 col7\" >1</td>\n",
       "                        <td id=\"T_a8891e05_883b_11eb_89b2_704d7b3c13bcrow0_col8\" class=\"data row0 col8\" >1</td>\n",
       "                        <td id=\"T_a8891e05_883b_11eb_89b2_704d7b3c13bcrow0_col9\" class=\"data row0 col9\" >Female</td>\n",
       "                        <td id=\"T_a8891e05_883b_11eb_89b2_704d7b3c13bcrow0_col10\" class=\"data row0 col10\" >1</td>\n",
       "                        <td id=\"T_a8891e05_883b_11eb_89b2_704d7b3c13bcrow0_col11\" class=\"data row0 col11\" >Healthcare Representative</td>\n",
       "                        <td id=\"T_a8891e05_883b_11eb_89b2_704d7b3c13bcrow0_col12\" class=\"data row0 col12\" >Married</td>\n",
       "                        <td id=\"T_a8891e05_883b_11eb_89b2_704d7b3c13bcrow0_col13\" class=\"data row0 col13\" >131160</td>\n",
       "                        <td id=\"T_a8891e05_883b_11eb_89b2_704d7b3c13bcrow0_col14\" class=\"data row0 col14\" >1.000000</td>\n",
       "                        <td id=\"T_a8891e05_883b_11eb_89b2_704d7b3c13bcrow0_col15\" class=\"data row0 col15\" >Y</td>\n",
       "                        <td id=\"T_a8891e05_883b_11eb_89b2_704d7b3c13bcrow0_col16\" class=\"data row0 col16\" >11</td>\n",
       "                        <td id=\"T_a8891e05_883b_11eb_89b2_704d7b3c13bcrow0_col17\" class=\"data row0 col17\" >8</td>\n",
       "                        <td id=\"T_a8891e05_883b_11eb_89b2_704d7b3c13bcrow0_col18\" class=\"data row0 col18\" >0</td>\n",
       "                        <td id=\"T_a8891e05_883b_11eb_89b2_704d7b3c13bcrow0_col19\" class=\"data row0 col19\" >1.000000</td>\n",
       "                        <td id=\"T_a8891e05_883b_11eb_89b2_704d7b3c13bcrow0_col20\" class=\"data row0 col20\" >6</td>\n",
       "                        <td id=\"T_a8891e05_883b_11eb_89b2_704d7b3c13bcrow0_col21\" class=\"data row0 col21\" >1</td>\n",
       "                        <td id=\"T_a8891e05_883b_11eb_89b2_704d7b3c13bcrow0_col22\" class=\"data row0 col22\" >0</td>\n",
       "                        <td id=\"T_a8891e05_883b_11eb_89b2_704d7b3c13bcrow0_col23\" class=\"data row0 col23\" >0</td>\n",
       "                        <td id=\"T_a8891e05_883b_11eb_89b2_704d7b3c13bcrow0_col24\" class=\"data row0 col24\" >3</td>\n",
       "                        <td id=\"T_a8891e05_883b_11eb_89b2_704d7b3c13bcrow0_col25\" class=\"data row0 col25\" >3</td>\n",
       "                        <td id=\"T_a8891e05_883b_11eb_89b2_704d7b3c13bcrow0_col26\" class=\"data row0 col26\" >3.000000</td>\n",
       "                        <td id=\"T_a8891e05_883b_11eb_89b2_704d7b3c13bcrow0_col27\" class=\"data row0 col27\" >4.000000</td>\n",
       "                        <td id=\"T_a8891e05_883b_11eb_89b2_704d7b3c13bcrow0_col28\" class=\"data row0 col28\" >2.000000</td>\n",
       "                        <td id=\"T_a8891e05_883b_11eb_89b2_704d7b3c13bcrow0_col29\" class=\"data row0 col29\" >nan</td>\n",
       "                        <td id=\"T_a8891e05_883b_11eb_89b2_704d7b3c13bcrow0_col30\" class=\"data row0 col30\" >2015-01-02 09:43:45</td>\n",
       "                        <td id=\"T_a8891e05_883b_11eb_89b2_704d7b3c13bcrow0_col31\" class=\"data row0 col31\" >2015-01-05 10:08:48</td>\n",
       "                        <td id=\"T_a8891e05_883b_11eb_89b2_704d7b3c13bcrow0_col32\" class=\"data row0 col32\" >2015-01-06 09:54:26</td>\n",
       "                        <td id=\"T_a8891e05_883b_11eb_89b2_704d7b3c13bcrow0_col33\" class=\"data row0 col33\" >2015-01-07 09:34:31</td>\n",
       "                        <td id=\"T_a8891e05_883b_11eb_89b2_704d7b3c13bcrow0_col34\" class=\"data row0 col34\" >2015-01-08 09:51:09</td>\n",
       "                        <td id=\"T_a8891e05_883b_11eb_89b2_704d7b3c13bcrow0_col35\" class=\"data row0 col35\" >2015-01-09 10:09:25</td>\n",
       "                        <td id=\"T_a8891e05_883b_11eb_89b2_704d7b3c13bcrow0_col36\" class=\"data row0 col36\" >2015-01-12 09:42:53</td>\n",
       "                        <td id=\"T_a8891e05_883b_11eb_89b2_704d7b3c13bcrow0_col37\" class=\"data row0 col37\" >2015-01-13 10:13:06</td>\n",
       "                        <td id=\"T_a8891e05_883b_11eb_89b2_704d7b3c13bcrow0_col38\" class=\"data row0 col38\" >nan</td>\n",
       "                        <td id=\"T_a8891e05_883b_11eb_89b2_704d7b3c13bcrow0_col39\" class=\"data row0 col39\" >2015-01-15 10:01:24</td>\n",
       "                        <td id=\"T_a8891e05_883b_11eb_89b2_704d7b3c13bcrow0_col40\" class=\"data row0 col40\" >2015-01-16 10:19:08</td>\n",
       "                        <td id=\"T_a8891e05_883b_11eb_89b2_704d7b3c13bcrow0_col41\" class=\"data row0 col41\" >nan</td>\n",
       "                        <td id=\"T_a8891e05_883b_11eb_89b2_704d7b3c13bcrow0_col42\" class=\"data row0 col42\" >2015-01-20 09:50:34</td>\n",
       "                        <td id=\"T_a8891e05_883b_11eb_89b2_704d7b3c13bcrow0_col43\" class=\"data row0 col43\" >2015-01-21 09:49:42</td>\n",
       "                        <td id=\"T_a8891e05_883b_11eb_89b2_704d7b3c13bcrow0_col44\" class=\"data row0 col44\" >2015-01-22 09:47:45</td>\n",
       "                        <td id=\"T_a8891e05_883b_11eb_89b2_704d7b3c13bcrow0_col45\" class=\"data row0 col45\" >2015-01-23 09:23:44</td>\n",
       "                        <td id=\"T_a8891e05_883b_11eb_89b2_704d7b3c13bcrow0_col46\" class=\"data row0 col46\" >nan</td>\n",
       "                        <td id=\"T_a8891e05_883b_11eb_89b2_704d7b3c13bcrow0_col47\" class=\"data row0 col47\" >2015-01-27 09:50:37</td>\n",
       "                        <td id=\"T_a8891e05_883b_11eb_89b2_704d7b3c13bcrow0_col48\" class=\"data row0 col48\" >2015-01-28 09:56:13</td>\n",
       "                        <td id=\"T_a8891e05_883b_11eb_89b2_704d7b3c13bcrow0_col49\" class=\"data row0 col49\" >2015-01-29 09:53:47</td>\n",
       "                        <td id=\"T_a8891e05_883b_11eb_89b2_704d7b3c13bcrow0_col50\" class=\"data row0 col50\" >2015-01-30 10:09:26</td>\n",
       "                        <td id=\"T_a8891e05_883b_11eb_89b2_704d7b3c13bcrow0_col51\" class=\"data row0 col51\" >2015-02-02 09:38:43</td>\n",
       "                        <td id=\"T_a8891e05_883b_11eb_89b2_704d7b3c13bcrow0_col52\" class=\"data row0 col52\" >2015-02-03 10:23:38</td>\n",
       "                        <td id=\"T_a8891e05_883b_11eb_89b2_704d7b3c13bcrow0_col53\" class=\"data row0 col53\" >2015-02-04 09:48:37</td>\n",
       "                        <td id=\"T_a8891e05_883b_11eb_89b2_704d7b3c13bcrow0_col54\" class=\"data row0 col54\" >2015-02-05 09:52:36</td>\n",
       "                        <td id=\"T_a8891e05_883b_11eb_89b2_704d7b3c13bcrow0_col55\" class=\"data row0 col55\" >2015-02-06 09:53:23</td>\n",
       "                        <td id=\"T_a8891e05_883b_11eb_89b2_704d7b3c13bcrow0_col56\" class=\"data row0 col56\" >2015-02-09 10:01:45</td>\n",
       "                        <td id=\"T_a8891e05_883b_11eb_89b2_704d7b3c13bcrow0_col57\" class=\"data row0 col57\" >2015-02-10 10:14:18</td>\n",
       "                        <td id=\"T_a8891e05_883b_11eb_89b2_704d7b3c13bcrow0_col58\" class=\"data row0 col58\" >2015-02-11 10:18:44</td>\n",
       "                        <td id=\"T_a8891e05_883b_11eb_89b2_704d7b3c13bcrow0_col59\" class=\"data row0 col59\" >2015-02-12 10:10:35</td>\n",
       "                        <td id=\"T_a8891e05_883b_11eb_89b2_704d7b3c13bcrow0_col60\" class=\"data row0 col60\" >2015-02-13 09:13:07</td>\n",
       "                        <td id=\"T_a8891e05_883b_11eb_89b2_704d7b3c13bcrow0_col61\" class=\"data row0 col61\" >2015-02-16 10:14:02</td>\n",
       "                        <td id=\"T_a8891e05_883b_11eb_89b2_704d7b3c13bcrow0_col62\" class=\"data row0 col62\" >2015-02-17 10:03:08</td>\n",
       "                        <td id=\"T_a8891e05_883b_11eb_89b2_704d7b3c13bcrow0_col63\" class=\"data row0 col63\" >2015-02-18 10:23:06</td>\n",
       "                        <td id=\"T_a8891e05_883b_11eb_89b2_704d7b3c13bcrow0_col64\" class=\"data row0 col64\" >nan</td>\n",
       "                        <td id=\"T_a8891e05_883b_11eb_89b2_704d7b3c13bcrow0_col65\" class=\"data row0 col65\" >2015-02-20 09:54:56</td>\n",
       "                        <td id=\"T_a8891e05_883b_11eb_89b2_704d7b3c13bcrow0_col66\" class=\"data row0 col66\" >2015-02-23 09:46:59</td>\n",
       "                        <td id=\"T_a8891e05_883b_11eb_89b2_704d7b3c13bcrow0_col67\" class=\"data row0 col67\" >2015-02-24 10:11:18</td>\n",
       "                        <td id=\"T_a8891e05_883b_11eb_89b2_704d7b3c13bcrow0_col68\" class=\"data row0 col68\" >2015-02-25 09:52:36</td>\n",
       "                        <td id=\"T_a8891e05_883b_11eb_89b2_704d7b3c13bcrow0_col69\" class=\"data row0 col69\" >2015-02-26 09:56:33</td>\n",
       "                        <td id=\"T_a8891e05_883b_11eb_89b2_704d7b3c13bcrow0_col70\" class=\"data row0 col70\" >2015-02-27 09:58:46</td>\n",
       "                        <td id=\"T_a8891e05_883b_11eb_89b2_704d7b3c13bcrow0_col71\" class=\"data row0 col71\" >2015-03-02 10:19:43</td>\n",
       "                        <td id=\"T_a8891e05_883b_11eb_89b2_704d7b3c13bcrow0_col72\" class=\"data row0 col72\" >2015-03-03 10:08:37</td>\n",
       "                        <td id=\"T_a8891e05_883b_11eb_89b2_704d7b3c13bcrow0_col73\" class=\"data row0 col73\" >2015-03-04 10:05:38</td>\n",
       "                        <td id=\"T_a8891e05_883b_11eb_89b2_704d7b3c13bcrow0_col74\" class=\"data row0 col74\" >nan</td>\n",
       "                        <td id=\"T_a8891e05_883b_11eb_89b2_704d7b3c13bcrow0_col75\" class=\"data row0 col75\" >2015-03-06 09:55:53</td>\n",
       "                        <td id=\"T_a8891e05_883b_11eb_89b2_704d7b3c13bcrow0_col76\" class=\"data row0 col76\" >2015-03-09 10:28:34</td>\n",
       "                        <td id=\"T_a8891e05_883b_11eb_89b2_704d7b3c13bcrow0_col77\" class=\"data row0 col77\" >2015-03-10 09:47:30</td>\n",
       "                        <td id=\"T_a8891e05_883b_11eb_89b2_704d7b3c13bcrow0_col78\" class=\"data row0 col78\" >2015-03-11 09:48:59</td>\n",
       "                        <td id=\"T_a8891e05_883b_11eb_89b2_704d7b3c13bcrow0_col79\" class=\"data row0 col79\" >2015-03-12 10:10:51</td>\n",
       "                        <td id=\"T_a8891e05_883b_11eb_89b2_704d7b3c13bcrow0_col80\" class=\"data row0 col80\" >2015-03-13 10:07:18</td>\n",
       "                        <td id=\"T_a8891e05_883b_11eb_89b2_704d7b3c13bcrow0_col81\" class=\"data row0 col81\" >nan</td>\n",
       "                        <td id=\"T_a8891e05_883b_11eb_89b2_704d7b3c13bcrow0_col82\" class=\"data row0 col82\" >2015-03-17 10:05:22</td>\n",
       "                        <td id=\"T_a8891e05_883b_11eb_89b2_704d7b3c13bcrow0_col83\" class=\"data row0 col83\" >2015-03-18 10:28:21</td>\n",
       "                        <td id=\"T_a8891e05_883b_11eb_89b2_704d7b3c13bcrow0_col84\" class=\"data row0 col84\" >2015-03-19 10:01:52</td>\n",
       "                        <td id=\"T_a8891e05_883b_11eb_89b2_704d7b3c13bcrow0_col85\" class=\"data row0 col85\" >2015-03-20 10:37:49</td>\n",
       "                        <td id=\"T_a8891e05_883b_11eb_89b2_704d7b3c13bcrow0_col86\" class=\"data row0 col86\" >2015-03-23 10:11:19</td>\n",
       "                        <td id=\"T_a8891e05_883b_11eb_89b2_704d7b3c13bcrow0_col87\" class=\"data row0 col87\" >2015-03-24 10:33:19</td>\n",
       "                        <td id=\"T_a8891e05_883b_11eb_89b2_704d7b3c13bcrow0_col88\" class=\"data row0 col88\" >2015-03-25 09:41:35</td>\n",
       "                        <td id=\"T_a8891e05_883b_11eb_89b2_704d7b3c13bcrow0_col89\" class=\"data row0 col89\" >nan</td>\n",
       "                        <td id=\"T_a8891e05_883b_11eb_89b2_704d7b3c13bcrow0_col90\" class=\"data row0 col90\" >2015-03-27 09:47:30</td>\n",
       "                        <td id=\"T_a8891e05_883b_11eb_89b2_704d7b3c13bcrow0_col91\" class=\"data row0 col91\" >2015-03-30 10:11:44</td>\n",
       "                        <td id=\"T_a8891e05_883b_11eb_89b2_704d7b3c13bcrow0_col92\" class=\"data row0 col92\" >2015-03-31 10:08:13</td>\n",
       "                        <td id=\"T_a8891e05_883b_11eb_89b2_704d7b3c13bcrow0_col93\" class=\"data row0 col93\" >2015-04-01 10:12:37</td>\n",
       "                        <td id=\"T_a8891e05_883b_11eb_89b2_704d7b3c13bcrow0_col94\" class=\"data row0 col94\" >2015-04-02 09:45:27</td>\n",
       "                        <td id=\"T_a8891e05_883b_11eb_89b2_704d7b3c13bcrow0_col95\" class=\"data row0 col95\" >2015-04-03 10:00:30</td>\n",
       "                        <td id=\"T_a8891e05_883b_11eb_89b2_704d7b3c13bcrow0_col96\" class=\"data row0 col96\" >2015-04-06 09:40:19</td>\n",
       "                        <td id=\"T_a8891e05_883b_11eb_89b2_704d7b3c13bcrow0_col97\" class=\"data row0 col97\" >2015-04-07 10:16:43</td>\n",
       "                        <td id=\"T_a8891e05_883b_11eb_89b2_704d7b3c13bcrow0_col98\" class=\"data row0 col98\" >2015-04-08 10:04:34</td>\n",
       "                        <td id=\"T_a8891e05_883b_11eb_89b2_704d7b3c13bcrow0_col99\" class=\"data row0 col99\" >2015-04-09 09:21:27</td>\n",
       "                        <td id=\"T_a8891e05_883b_11eb_89b2_704d7b3c13bcrow0_col100\" class=\"data row0 col100\" >2015-04-10 09:46:25</td>\n",
       "                        <td id=\"T_a8891e05_883b_11eb_89b2_704d7b3c13bcrow0_col101\" class=\"data row0 col101\" >2015-04-13 09:39:30</td>\n",
       "                        <td id=\"T_a8891e05_883b_11eb_89b2_704d7b3c13bcrow0_col102\" class=\"data row0 col102\" >2015-04-14 09:58:48</td>\n",
       "                        <td id=\"T_a8891e05_883b_11eb_89b2_704d7b3c13bcrow0_col103\" class=\"data row0 col103\" >2015-04-15 09:55:56</td>\n",
       "                        <td id=\"T_a8891e05_883b_11eb_89b2_704d7b3c13bcrow0_col104\" class=\"data row0 col104\" >2015-04-16 09:46:07</td>\n",
       "                        <td id=\"T_a8891e05_883b_11eb_89b2_704d7b3c13bcrow0_col105\" class=\"data row0 col105\" >2015-04-17 09:54:13</td>\n",
       "                        <td id=\"T_a8891e05_883b_11eb_89b2_704d7b3c13bcrow0_col106\" class=\"data row0 col106\" >2015-04-20 10:03:25</td>\n",
       "                        <td id=\"T_a8891e05_883b_11eb_89b2_704d7b3c13bcrow0_col107\" class=\"data row0 col107\" >2015-04-21 09:50:41</td>\n",
       "                        <td id=\"T_a8891e05_883b_11eb_89b2_704d7b3c13bcrow0_col108\" class=\"data row0 col108\" >2015-04-22 09:56:16</td>\n",
       "                        <td id=\"T_a8891e05_883b_11eb_89b2_704d7b3c13bcrow0_col109\" class=\"data row0 col109\" >2015-04-23 10:12:42</td>\n",
       "                        <td id=\"T_a8891e05_883b_11eb_89b2_704d7b3c13bcrow0_col110\" class=\"data row0 col110\" >2015-04-24 10:05:40</td>\n",
       "                        <td id=\"T_a8891e05_883b_11eb_89b2_704d7b3c13bcrow0_col111\" class=\"data row0 col111\" >2015-04-27 10:12:01</td>\n",
       "                        <td id=\"T_a8891e05_883b_11eb_89b2_704d7b3c13bcrow0_col112\" class=\"data row0 col112\" >2015-04-28 09:57:24</td>\n",
       "                        <td id=\"T_a8891e05_883b_11eb_89b2_704d7b3c13bcrow0_col113\" class=\"data row0 col113\" >2015-04-29 09:46:15</td>\n",
       "                        <td id=\"T_a8891e05_883b_11eb_89b2_704d7b3c13bcrow0_col114\" class=\"data row0 col114\" >2015-04-30 09:48:30</td>\n",
       "                        <td id=\"T_a8891e05_883b_11eb_89b2_704d7b3c13bcrow0_col115\" class=\"data row0 col115\" >nan</td>\n",
       "                        <td id=\"T_a8891e05_883b_11eb_89b2_704d7b3c13bcrow0_col116\" class=\"data row0 col116\" >2015-05-04 09:40:52</td>\n",
       "                        <td id=\"T_a8891e05_883b_11eb_89b2_704d7b3c13bcrow0_col117\" class=\"data row0 col117\" >2015-05-05 09:54:59</td>\n",
       "                        <td id=\"T_a8891e05_883b_11eb_89b2_704d7b3c13bcrow0_col118\" class=\"data row0 col118\" >2015-05-06 09:49:06</td>\n",
       "                        <td id=\"T_a8891e05_883b_11eb_89b2_704d7b3c13bcrow0_col119\" class=\"data row0 col119\" >2015-05-07 10:06:47</td>\n",
       "                        <td id=\"T_a8891e05_883b_11eb_89b2_704d7b3c13bcrow0_col120\" class=\"data row0 col120\" >2015-05-08 09:55:02</td>\n",
       "                        <td id=\"T_a8891e05_883b_11eb_89b2_704d7b3c13bcrow0_col121\" class=\"data row0 col121\" >nan</td>\n",
       "                        <td id=\"T_a8891e05_883b_11eb_89b2_704d7b3c13bcrow0_col122\" class=\"data row0 col122\" >2015-05-12 09:50:17</td>\n",
       "                        <td id=\"T_a8891e05_883b_11eb_89b2_704d7b3c13bcrow0_col123\" class=\"data row0 col123\" >2015-05-13 10:24:03</td>\n",
       "                        <td id=\"T_a8891e05_883b_11eb_89b2_704d7b3c13bcrow0_col124\" class=\"data row0 col124\" >2015-05-14 09:50:43</td>\n",
       "                        <td id=\"T_a8891e05_883b_11eb_89b2_704d7b3c13bcrow0_col125\" class=\"data row0 col125\" >2015-05-15 09:55:32</td>\n",
       "                        <td id=\"T_a8891e05_883b_11eb_89b2_704d7b3c13bcrow0_col126\" class=\"data row0 col126\" >nan</td>\n",
       "                        <td id=\"T_a8891e05_883b_11eb_89b2_704d7b3c13bcrow0_col127\" class=\"data row0 col127\" >2015-05-19 09:49:06</td>\n",
       "                        <td id=\"T_a8891e05_883b_11eb_89b2_704d7b3c13bcrow0_col128\" class=\"data row0 col128\" >2015-05-20 10:00:39</td>\n",
       "                        <td id=\"T_a8891e05_883b_11eb_89b2_704d7b3c13bcrow0_col129\" class=\"data row0 col129\" >2015-05-21 09:53:15</td>\n",
       "                        <td id=\"T_a8891e05_883b_11eb_89b2_704d7b3c13bcrow0_col130\" class=\"data row0 col130\" >2015-05-22 10:19:44</td>\n",
       "                        <td id=\"T_a8891e05_883b_11eb_89b2_704d7b3c13bcrow0_col131\" class=\"data row0 col131\" >2015-05-25 10:15:25</td>\n",
       "                        <td id=\"T_a8891e05_883b_11eb_89b2_704d7b3c13bcrow0_col132\" class=\"data row0 col132\" >2015-05-26 10:17:01</td>\n",
       "                        <td id=\"T_a8891e05_883b_11eb_89b2_704d7b3c13bcrow0_col133\" class=\"data row0 col133\" >2015-05-27 09:41:25</td>\n",
       "                        <td id=\"T_a8891e05_883b_11eb_89b2_704d7b3c13bcrow0_col134\" class=\"data row0 col134\" >2015-05-28 09:57:00</td>\n",
       "                        <td id=\"T_a8891e05_883b_11eb_89b2_704d7b3c13bcrow0_col135\" class=\"data row0 col135\" >nan</td>\n",
       "                        <td id=\"T_a8891e05_883b_11eb_89b2_704d7b3c13bcrow0_col136\" class=\"data row0 col136\" >nan</td>\n",
       "                        <td id=\"T_a8891e05_883b_11eb_89b2_704d7b3c13bcrow0_col137\" class=\"data row0 col137\" >2015-06-02 10:20:49</td>\n",
       "                        <td id=\"T_a8891e05_883b_11eb_89b2_704d7b3c13bcrow0_col138\" class=\"data row0 col138\" >2015-06-03 09:47:19</td>\n",
       "                        <td id=\"T_a8891e05_883b_11eb_89b2_704d7b3c13bcrow0_col139\" class=\"data row0 col139\" >2015-06-04 10:23:40</td>\n",
       "                        <td id=\"T_a8891e05_883b_11eb_89b2_704d7b3c13bcrow0_col140\" class=\"data row0 col140\" >nan</td>\n",
       "                        <td id=\"T_a8891e05_883b_11eb_89b2_704d7b3c13bcrow0_col141\" class=\"data row0 col141\" >2015-06-08 10:17:56</td>\n",
       "                        <td id=\"T_a8891e05_883b_11eb_89b2_704d7b3c13bcrow0_col142\" class=\"data row0 col142\" >nan</td>\n",
       "                        <td id=\"T_a8891e05_883b_11eb_89b2_704d7b3c13bcrow0_col143\" class=\"data row0 col143\" >2015-06-10 09:54:33</td>\n",
       "                        <td id=\"T_a8891e05_883b_11eb_89b2_704d7b3c13bcrow0_col144\" class=\"data row0 col144\" >2015-06-11 09:47:09</td>\n",
       "                        <td id=\"T_a8891e05_883b_11eb_89b2_704d7b3c13bcrow0_col145\" class=\"data row0 col145\" >2015-06-12 10:13:55</td>\n",
       "                        <td id=\"T_a8891e05_883b_11eb_89b2_704d7b3c13bcrow0_col146\" class=\"data row0 col146\" >2015-06-15 09:50:19</td>\n",
       "                        <td id=\"T_a8891e05_883b_11eb_89b2_704d7b3c13bcrow0_col147\" class=\"data row0 col147\" >2015-06-16 09:59:04</td>\n",
       "                        <td id=\"T_a8891e05_883b_11eb_89b2_704d7b3c13bcrow0_col148\" class=\"data row0 col148\" >2015-06-17 09:46:15</td>\n",
       "                        <td id=\"T_a8891e05_883b_11eb_89b2_704d7b3c13bcrow0_col149\" class=\"data row0 col149\" >2015-06-18 10:03:15</td>\n",
       "                        <td id=\"T_a8891e05_883b_11eb_89b2_704d7b3c13bcrow0_col150\" class=\"data row0 col150\" >2015-06-19 10:06:21</td>\n",
       "                        <td id=\"T_a8891e05_883b_11eb_89b2_704d7b3c13bcrow0_col151\" class=\"data row0 col151\" >2015-06-22 09:48:40</td>\n",
       "                        <td id=\"T_a8891e05_883b_11eb_89b2_704d7b3c13bcrow0_col152\" class=\"data row0 col152\" >2015-06-23 09:56:55</td>\n",
       "                        <td id=\"T_a8891e05_883b_11eb_89b2_704d7b3c13bcrow0_col153\" class=\"data row0 col153\" >2015-06-24 09:59:40</td>\n",
       "                        <td id=\"T_a8891e05_883b_11eb_89b2_704d7b3c13bcrow0_col154\" class=\"data row0 col154\" >2015-06-25 09:52:01</td>\n",
       "                        <td id=\"T_a8891e05_883b_11eb_89b2_704d7b3c13bcrow0_col155\" class=\"data row0 col155\" >2015-06-26 10:07:58</td>\n",
       "                        <td id=\"T_a8891e05_883b_11eb_89b2_704d7b3c13bcrow0_col156\" class=\"data row0 col156\" >2015-06-29 10:01:19</td>\n",
       "                        <td id=\"T_a8891e05_883b_11eb_89b2_704d7b3c13bcrow0_col157\" class=\"data row0 col157\" >2015-06-30 10:27:40</td>\n",
       "                        <td id=\"T_a8891e05_883b_11eb_89b2_704d7b3c13bcrow0_col158\" class=\"data row0 col158\" >2015-07-01 09:39:02</td>\n",
       "                        <td id=\"T_a8891e05_883b_11eb_89b2_704d7b3c13bcrow0_col159\" class=\"data row0 col159\" >2015-07-02 10:07:33</td>\n",
       "                        <td id=\"T_a8891e05_883b_11eb_89b2_704d7b3c13bcrow0_col160\" class=\"data row0 col160\" >2015-07-03 09:59:57</td>\n",
       "                        <td id=\"T_a8891e05_883b_11eb_89b2_704d7b3c13bcrow0_col161\" class=\"data row0 col161\" >2015-07-06 09:37:06</td>\n",
       "                        <td id=\"T_a8891e05_883b_11eb_89b2_704d7b3c13bcrow0_col162\" class=\"data row0 col162\" >2015-07-07 10:08:17</td>\n",
       "                        <td id=\"T_a8891e05_883b_11eb_89b2_704d7b3c13bcrow0_col163\" class=\"data row0 col163\" >2015-07-08 09:56:30</td>\n",
       "                        <td id=\"T_a8891e05_883b_11eb_89b2_704d7b3c13bcrow0_col164\" class=\"data row0 col164\" >2015-07-09 09:21:57</td>\n",
       "                        <td id=\"T_a8891e05_883b_11eb_89b2_704d7b3c13bcrow0_col165\" class=\"data row0 col165\" >2015-07-10 09:43:31</td>\n",
       "                        <td id=\"T_a8891e05_883b_11eb_89b2_704d7b3c13bcrow0_col166\" class=\"data row0 col166\" >2015-07-13 10:07:21</td>\n",
       "                        <td id=\"T_a8891e05_883b_11eb_89b2_704d7b3c13bcrow0_col167\" class=\"data row0 col167\" >2015-07-14 10:06:39</td>\n",
       "                        <td id=\"T_a8891e05_883b_11eb_89b2_704d7b3c13bcrow0_col168\" class=\"data row0 col168\" >2015-07-15 09:54:34</td>\n",
       "                        <td id=\"T_a8891e05_883b_11eb_89b2_704d7b3c13bcrow0_col169\" class=\"data row0 col169\" >2015-07-16 10:22:47</td>\n",
       "                        <td id=\"T_a8891e05_883b_11eb_89b2_704d7b3c13bcrow0_col170\" class=\"data row0 col170\" >nan</td>\n",
       "                        <td id=\"T_a8891e05_883b_11eb_89b2_704d7b3c13bcrow0_col171\" class=\"data row0 col171\" >2015-07-20 10:25:50</td>\n",
       "                        <td id=\"T_a8891e05_883b_11eb_89b2_704d7b3c13bcrow0_col172\" class=\"data row0 col172\" >2015-07-21 09:48:05</td>\n",
       "                        <td id=\"T_a8891e05_883b_11eb_89b2_704d7b3c13bcrow0_col173\" class=\"data row0 col173\" >2015-07-22 09:52:29</td>\n",
       "                        <td id=\"T_a8891e05_883b_11eb_89b2_704d7b3c13bcrow0_col174\" class=\"data row0 col174\" >2015-07-23 10:04:42</td>\n",
       "                        <td id=\"T_a8891e05_883b_11eb_89b2_704d7b3c13bcrow0_col175\" class=\"data row0 col175\" >2015-07-24 09:34:15</td>\n",
       "                        <td id=\"T_a8891e05_883b_11eb_89b2_704d7b3c13bcrow0_col176\" class=\"data row0 col176\" >2015-07-27 09:56:24</td>\n",
       "                        <td id=\"T_a8891e05_883b_11eb_89b2_704d7b3c13bcrow0_col177\" class=\"data row0 col177\" >2015-07-28 10:19:57</td>\n",
       "                        <td id=\"T_a8891e05_883b_11eb_89b2_704d7b3c13bcrow0_col178\" class=\"data row0 col178\" >2015-07-29 09:48:10</td>\n",
       "                        <td id=\"T_a8891e05_883b_11eb_89b2_704d7b3c13bcrow0_col179\" class=\"data row0 col179\" >2015-07-30 09:52:24</td>\n",
       "                        <td id=\"T_a8891e05_883b_11eb_89b2_704d7b3c13bcrow0_col180\" class=\"data row0 col180\" >2015-07-31 10:11:14</td>\n",
       "                        <td id=\"T_a8891e05_883b_11eb_89b2_704d7b3c13bcrow0_col181\" class=\"data row0 col181\" >2015-08-03 10:03:33</td>\n",
       "                        <td id=\"T_a8891e05_883b_11eb_89b2_704d7b3c13bcrow0_col182\" class=\"data row0 col182\" >2015-08-04 09:59:34</td>\n",
       "                        <td id=\"T_a8891e05_883b_11eb_89b2_704d7b3c13bcrow0_col183\" class=\"data row0 col183\" >2015-08-05 09:50:51</td>\n",
       "                        <td id=\"T_a8891e05_883b_11eb_89b2_704d7b3c13bcrow0_col184\" class=\"data row0 col184\" >2015-08-06 09:56:52</td>\n",
       "                        <td id=\"T_a8891e05_883b_11eb_89b2_704d7b3c13bcrow0_col185\" class=\"data row0 col185\" >2015-08-07 09:51:30</td>\n",
       "                        <td id=\"T_a8891e05_883b_11eb_89b2_704d7b3c13bcrow0_col186\" class=\"data row0 col186\" >2015-08-10 10:12:23</td>\n",
       "                        <td id=\"T_a8891e05_883b_11eb_89b2_704d7b3c13bcrow0_col187\" class=\"data row0 col187\" >2015-08-11 10:08:29</td>\n",
       "                        <td id=\"T_a8891e05_883b_11eb_89b2_704d7b3c13bcrow0_col188\" class=\"data row0 col188\" >2015-08-12 09:39:08</td>\n",
       "                        <td id=\"T_a8891e05_883b_11eb_89b2_704d7b3c13bcrow0_col189\" class=\"data row0 col189\" >2015-08-13 09:47:09</td>\n",
       "                        <td id=\"T_a8891e05_883b_11eb_89b2_704d7b3c13bcrow0_col190\" class=\"data row0 col190\" >2015-08-14 10:00:21</td>\n",
       "                        <td id=\"T_a8891e05_883b_11eb_89b2_704d7b3c13bcrow0_col191\" class=\"data row0 col191\" >2015-08-17 09:24:23</td>\n",
       "                        <td id=\"T_a8891e05_883b_11eb_89b2_704d7b3c13bcrow0_col192\" class=\"data row0 col192\" >2015-08-18 10:25:27</td>\n",
       "                        <td id=\"T_a8891e05_883b_11eb_89b2_704d7b3c13bcrow0_col193\" class=\"data row0 col193\" >2015-08-19 10:14:41</td>\n",
       "                        <td id=\"T_a8891e05_883b_11eb_89b2_704d7b3c13bcrow0_col194\" class=\"data row0 col194\" >2015-08-20 09:57:56</td>\n",
       "                        <td id=\"T_a8891e05_883b_11eb_89b2_704d7b3c13bcrow0_col195\" class=\"data row0 col195\" >2015-08-21 10:07:11</td>\n",
       "                        <td id=\"T_a8891e05_883b_11eb_89b2_704d7b3c13bcrow0_col196\" class=\"data row0 col196\" >2015-08-24 10:07:49</td>\n",
       "                        <td id=\"T_a8891e05_883b_11eb_89b2_704d7b3c13bcrow0_col197\" class=\"data row0 col197\" >2015-08-25 09:47:59</td>\n",
       "                        <td id=\"T_a8891e05_883b_11eb_89b2_704d7b3c13bcrow0_col198\" class=\"data row0 col198\" >2015-08-26 09:53:49</td>\n",
       "                        <td id=\"T_a8891e05_883b_11eb_89b2_704d7b3c13bcrow0_col199\" class=\"data row0 col199\" >2015-08-27 10:16:21</td>\n",
       "                        <td id=\"T_a8891e05_883b_11eb_89b2_704d7b3c13bcrow0_col200\" class=\"data row0 col200\" >2015-08-28 09:53:47</td>\n",
       "                        <td id=\"T_a8891e05_883b_11eb_89b2_704d7b3c13bcrow0_col201\" class=\"data row0 col201\" >2015-08-31 10:08:07</td>\n",
       "                        <td id=\"T_a8891e05_883b_11eb_89b2_704d7b3c13bcrow0_col202\" class=\"data row0 col202\" >nan</td>\n",
       "                        <td id=\"T_a8891e05_883b_11eb_89b2_704d7b3c13bcrow0_col203\" class=\"data row0 col203\" >2015-09-02 10:37:59</td>\n",
       "                        <td id=\"T_a8891e05_883b_11eb_89b2_704d7b3c13bcrow0_col204\" class=\"data row0 col204\" >2015-09-03 09:41:16</td>\n",
       "                        <td id=\"T_a8891e05_883b_11eb_89b2_704d7b3c13bcrow0_col205\" class=\"data row0 col205\" >2015-09-04 10:11:00</td>\n",
       "                        <td id=\"T_a8891e05_883b_11eb_89b2_704d7b3c13bcrow0_col206\" class=\"data row0 col206\" >2015-09-07 10:17:58</td>\n",
       "                        <td id=\"T_a8891e05_883b_11eb_89b2_704d7b3c13bcrow0_col207\" class=\"data row0 col207\" >2015-09-08 10:31:57</td>\n",
       "                        <td id=\"T_a8891e05_883b_11eb_89b2_704d7b3c13bcrow0_col208\" class=\"data row0 col208\" >2015-09-09 10:28:33</td>\n",
       "                        <td id=\"T_a8891e05_883b_11eb_89b2_704d7b3c13bcrow0_col209\" class=\"data row0 col209\" >2015-09-10 09:54:28</td>\n",
       "                        <td id=\"T_a8891e05_883b_11eb_89b2_704d7b3c13bcrow0_col210\" class=\"data row0 col210\" >2015-09-11 10:02:49</td>\n",
       "                        <td id=\"T_a8891e05_883b_11eb_89b2_704d7b3c13bcrow0_col211\" class=\"data row0 col211\" >2015-09-14 10:15:40</td>\n",
       "                        <td id=\"T_a8891e05_883b_11eb_89b2_704d7b3c13bcrow0_col212\" class=\"data row0 col212\" >2015-09-15 10:26:09</td>\n",
       "                        <td id=\"T_a8891e05_883b_11eb_89b2_704d7b3c13bcrow0_col213\" class=\"data row0 col213\" >2015-09-16 10:11:03</td>\n",
       "                        <td id=\"T_a8891e05_883b_11eb_89b2_704d7b3c13bcrow0_col214\" class=\"data row0 col214\" >nan</td>\n",
       "                        <td id=\"T_a8891e05_883b_11eb_89b2_704d7b3c13bcrow0_col215\" class=\"data row0 col215\" >2015-09-18 10:16:06</td>\n",
       "                        <td id=\"T_a8891e05_883b_11eb_89b2_704d7b3c13bcrow0_col216\" class=\"data row0 col216\" >2015-09-21 09:48:01</td>\n",
       "                        <td id=\"T_a8891e05_883b_11eb_89b2_704d7b3c13bcrow0_col217\" class=\"data row0 col217\" >2015-09-22 10:34:52</td>\n",
       "                        <td id=\"T_a8891e05_883b_11eb_89b2_704d7b3c13bcrow0_col218\" class=\"data row0 col218\" >2015-09-23 10:03:15</td>\n",
       "                        <td id=\"T_a8891e05_883b_11eb_89b2_704d7b3c13bcrow0_col219\" class=\"data row0 col219\" >2015-09-24 10:00:12</td>\n",
       "                        <td id=\"T_a8891e05_883b_11eb_89b2_704d7b3c13bcrow0_col220\" class=\"data row0 col220\" >2015-09-25 10:00:00</td>\n",
       "                        <td id=\"T_a8891e05_883b_11eb_89b2_704d7b3c13bcrow0_col221\" class=\"data row0 col221\" >2015-09-28 09:28:45</td>\n",
       "                        <td id=\"T_a8891e05_883b_11eb_89b2_704d7b3c13bcrow0_col222\" class=\"data row0 col222\" >2015-09-29 09:51:58</td>\n",
       "                        <td id=\"T_a8891e05_883b_11eb_89b2_704d7b3c13bcrow0_col223\" class=\"data row0 col223\" >2015-09-30 09:52:41</td>\n",
       "                        <td id=\"T_a8891e05_883b_11eb_89b2_704d7b3c13bcrow0_col224\" class=\"data row0 col224\" >2015-10-01 10:05:28</td>\n",
       "                        <td id=\"T_a8891e05_883b_11eb_89b2_704d7b3c13bcrow0_col225\" class=\"data row0 col225\" >nan</td>\n",
       "                        <td id=\"T_a8891e05_883b_11eb_89b2_704d7b3c13bcrow0_col226\" class=\"data row0 col226\" >2015-10-05 10:02:00</td>\n",
       "                        <td id=\"T_a8891e05_883b_11eb_89b2_704d7b3c13bcrow0_col227\" class=\"data row0 col227\" >2015-10-06 09:48:24</td>\n",
       "                        <td id=\"T_a8891e05_883b_11eb_89b2_704d7b3c13bcrow0_col228\" class=\"data row0 col228\" >2015-10-07 09:32:05</td>\n",
       "                        <td id=\"T_a8891e05_883b_11eb_89b2_704d7b3c13bcrow0_col229\" class=\"data row0 col229\" >2015-10-08 09:39:01</td>\n",
       "                        <td id=\"T_a8891e05_883b_11eb_89b2_704d7b3c13bcrow0_col230\" class=\"data row0 col230\" >2015-10-09 09:33:40</td>\n",
       "                        <td id=\"T_a8891e05_883b_11eb_89b2_704d7b3c13bcrow0_col231\" class=\"data row0 col231\" >2015-10-12 10:14:36</td>\n",
       "                        <td id=\"T_a8891e05_883b_11eb_89b2_704d7b3c13bcrow0_col232\" class=\"data row0 col232\" >nan</td>\n",
       "                        <td id=\"T_a8891e05_883b_11eb_89b2_704d7b3c13bcrow0_col233\" class=\"data row0 col233\" >2015-10-14 10:19:43</td>\n",
       "                        <td id=\"T_a8891e05_883b_11eb_89b2_704d7b3c13bcrow0_col234\" class=\"data row0 col234\" >2015-10-15 10:19:51</td>\n",
       "                        <td id=\"T_a8891e05_883b_11eb_89b2_704d7b3c13bcrow0_col235\" class=\"data row0 col235\" >2015-10-16 09:50:41</td>\n",
       "                        <td id=\"T_a8891e05_883b_11eb_89b2_704d7b3c13bcrow0_col236\" class=\"data row0 col236\" >2015-10-19 09:55:08</td>\n",
       "                        <td id=\"T_a8891e05_883b_11eb_89b2_704d7b3c13bcrow0_col237\" class=\"data row0 col237\" >2015-10-20 10:00:37</td>\n",
       "                        <td id=\"T_a8891e05_883b_11eb_89b2_704d7b3c13bcrow0_col238\" class=\"data row0 col238\" >nan</td>\n",
       "                        <td id=\"T_a8891e05_883b_11eb_89b2_704d7b3c13bcrow0_col239\" class=\"data row0 col239\" >nan</td>\n",
       "                        <td id=\"T_a8891e05_883b_11eb_89b2_704d7b3c13bcrow0_col240\" class=\"data row0 col240\" >2015-10-23 10:03:33</td>\n",
       "                        <td id=\"T_a8891e05_883b_11eb_89b2_704d7b3c13bcrow0_col241\" class=\"data row0 col241\" >2015-10-26 09:51:07</td>\n",
       "                        <td id=\"T_a8891e05_883b_11eb_89b2_704d7b3c13bcrow0_col242\" class=\"data row0 col242\" >2015-10-27 09:25:10</td>\n",
       "                        <td id=\"T_a8891e05_883b_11eb_89b2_704d7b3c13bcrow0_col243\" class=\"data row0 col243\" >2015-10-28 09:50:30</td>\n",
       "                        <td id=\"T_a8891e05_883b_11eb_89b2_704d7b3c13bcrow0_col244\" class=\"data row0 col244\" >2015-10-29 09:50:22</td>\n",
       "                        <td id=\"T_a8891e05_883b_11eb_89b2_704d7b3c13bcrow0_col245\" class=\"data row0 col245\" >2015-10-30 09:51:07</td>\n",
       "                        <td id=\"T_a8891e05_883b_11eb_89b2_704d7b3c13bcrow0_col246\" class=\"data row0 col246\" >2015-11-02 10:01:58</td>\n",
       "                        <td id=\"T_a8891e05_883b_11eb_89b2_704d7b3c13bcrow0_col247\" class=\"data row0 col247\" >2015-11-03 10:28:53</td>\n",
       "                        <td id=\"T_a8891e05_883b_11eb_89b2_704d7b3c13bcrow0_col248\" class=\"data row0 col248\" >2015-11-04 09:47:00</td>\n",
       "                        <td id=\"T_a8891e05_883b_11eb_89b2_704d7b3c13bcrow0_col249\" class=\"data row0 col249\" >2015-11-05 10:24:57</td>\n",
       "                        <td id=\"T_a8891e05_883b_11eb_89b2_704d7b3c13bcrow0_col250\" class=\"data row0 col250\" >2015-11-06 10:15:27</td>\n",
       "                        <td id=\"T_a8891e05_883b_11eb_89b2_704d7b3c13bcrow0_col251\" class=\"data row0 col251\" >nan</td>\n",
       "                        <td id=\"T_a8891e05_883b_11eb_89b2_704d7b3c13bcrow0_col252\" class=\"data row0 col252\" >nan</td>\n",
       "                        <td id=\"T_a8891e05_883b_11eb_89b2_704d7b3c13bcrow0_col253\" class=\"data row0 col253\" >nan</td>\n",
       "                        <td id=\"T_a8891e05_883b_11eb_89b2_704d7b3c13bcrow0_col254\" class=\"data row0 col254\" >2015-11-12 10:02:34</td>\n",
       "                        <td id=\"T_a8891e05_883b_11eb_89b2_704d7b3c13bcrow0_col255\" class=\"data row0 col255\" >2015-11-13 09:29:49</td>\n",
       "                        <td id=\"T_a8891e05_883b_11eb_89b2_704d7b3c13bcrow0_col256\" class=\"data row0 col256\" >2015-11-16 10:16:02</td>\n",
       "                        <td id=\"T_a8891e05_883b_11eb_89b2_704d7b3c13bcrow0_col257\" class=\"data row0 col257\" >2015-11-17 09:57:23</td>\n",
       "                        <td id=\"T_a8891e05_883b_11eb_89b2_704d7b3c13bcrow0_col258\" class=\"data row0 col258\" >2015-11-18 10:13:24</td>\n",
       "                        <td id=\"T_a8891e05_883b_11eb_89b2_704d7b3c13bcrow0_col259\" class=\"data row0 col259\" >2015-11-19 09:46:48</td>\n",
       "                        <td id=\"T_a8891e05_883b_11eb_89b2_704d7b3c13bcrow0_col260\" class=\"data row0 col260\" >2015-11-20 10:09:35</td>\n",
       "                        <td id=\"T_a8891e05_883b_11eb_89b2_704d7b3c13bcrow0_col261\" class=\"data row0 col261\" >2015-11-23 09:54:17</td>\n",
       "                        <td id=\"T_a8891e05_883b_11eb_89b2_704d7b3c13bcrow0_col262\" class=\"data row0 col262\" >2015-11-24 10:02:07</td>\n",
       "                        <td id=\"T_a8891e05_883b_11eb_89b2_704d7b3c13bcrow0_col263\" class=\"data row0 col263\" >2015-11-25 10:01:51</td>\n",
       "                        <td id=\"T_a8891e05_883b_11eb_89b2_704d7b3c13bcrow0_col264\" class=\"data row0 col264\" >2015-11-26 10:18:45</td>\n",
       "                        <td id=\"T_a8891e05_883b_11eb_89b2_704d7b3c13bcrow0_col265\" class=\"data row0 col265\" >2015-11-27 10:24:49</td>\n",
       "                        <td id=\"T_a8891e05_883b_11eb_89b2_704d7b3c13bcrow0_col266\" class=\"data row0 col266\" >2015-11-30 10:04:24</td>\n",
       "                        <td id=\"T_a8891e05_883b_11eb_89b2_704d7b3c13bcrow0_col267\" class=\"data row0 col267\" >2015-12-01 09:31:27</td>\n",
       "                        <td id=\"T_a8891e05_883b_11eb_89b2_704d7b3c13bcrow0_col268\" class=\"data row0 col268\" >2015-12-02 09:57:52</td>\n",
       "                        <td id=\"T_a8891e05_883b_11eb_89b2_704d7b3c13bcrow0_col269\" class=\"data row0 col269\" >2015-12-03 10:05:55</td>\n",
       "                        <td id=\"T_a8891e05_883b_11eb_89b2_704d7b3c13bcrow0_col270\" class=\"data row0 col270\" >2015-12-04 09:55:09</td>\n",
       "                        <td id=\"T_a8891e05_883b_11eb_89b2_704d7b3c13bcrow0_col271\" class=\"data row0 col271\" >2015-12-07 09:28:15</td>\n",
       "                        <td id=\"T_a8891e05_883b_11eb_89b2_704d7b3c13bcrow0_col272\" class=\"data row0 col272\" >2015-12-08 09:54:56</td>\n",
       "                        <td id=\"T_a8891e05_883b_11eb_89b2_704d7b3c13bcrow0_col273\" class=\"data row0 col273\" >2015-12-09 09:51:52</td>\n",
       "                        <td id=\"T_a8891e05_883b_11eb_89b2_704d7b3c13bcrow0_col274\" class=\"data row0 col274\" >2015-12-10 09:40:25</td>\n",
       "                        <td id=\"T_a8891e05_883b_11eb_89b2_704d7b3c13bcrow0_col275\" class=\"data row0 col275\" >2015-12-11 09:46:49</td>\n",
       "                        <td id=\"T_a8891e05_883b_11eb_89b2_704d7b3c13bcrow0_col276\" class=\"data row0 col276\" >2015-12-14 10:03:33</td>\n",
       "                        <td id=\"T_a8891e05_883b_11eb_89b2_704d7b3c13bcrow0_col277\" class=\"data row0 col277\" >nan</td>\n",
       "                        <td id=\"T_a8891e05_883b_11eb_89b2_704d7b3c13bcrow0_col278\" class=\"data row0 col278\" >2015-12-16 10:21:19</td>\n",
       "                        <td id=\"T_a8891e05_883b_11eb_89b2_704d7b3c13bcrow0_col279\" class=\"data row0 col279\" >nan</td>\n",
       "                        <td id=\"T_a8891e05_883b_11eb_89b2_704d7b3c13bcrow0_col280\" class=\"data row0 col280\" >nan</td>\n",
       "                        <td id=\"T_a8891e05_883b_11eb_89b2_704d7b3c13bcrow0_col281\" class=\"data row0 col281\" >2015-12-21 09:55:29</td>\n",
       "                        <td id=\"T_a8891e05_883b_11eb_89b2_704d7b3c13bcrow0_col282\" class=\"data row0 col282\" >2015-12-22 10:04:06</td>\n",
       "                        <td id=\"T_a8891e05_883b_11eb_89b2_704d7b3c13bcrow0_col283\" class=\"data row0 col283\" >2015-12-23 10:14:27</td>\n",
       "                        <td id=\"T_a8891e05_883b_11eb_89b2_704d7b3c13bcrow0_col284\" class=\"data row0 col284\" >2015-12-24 10:11:35</td>\n",
       "                        <td id=\"T_a8891e05_883b_11eb_89b2_704d7b3c13bcrow0_col285\" class=\"data row0 col285\" >nan</td>\n",
       "                        <td id=\"T_a8891e05_883b_11eb_89b2_704d7b3c13bcrow0_col286\" class=\"data row0 col286\" >2015-12-28 10:13:41</td>\n",
       "                        <td id=\"T_a8891e05_883b_11eb_89b2_704d7b3c13bcrow0_col287\" class=\"data row0 col287\" >2015-12-29 10:03:36</td>\n",
       "                        <td id=\"T_a8891e05_883b_11eb_89b2_704d7b3c13bcrow0_col288\" class=\"data row0 col288\" >2015-12-30 09:54:12</td>\n",
       "                        <td id=\"T_a8891e05_883b_11eb_89b2_704d7b3c13bcrow0_col289\" class=\"data row0 col289\" >2015-12-31 10:12:44</td>\n",
       "                        <td id=\"T_a8891e05_883b_11eb_89b2_704d7b3c13bcrow0_col290\" class=\"data row0 col290\" >nan</td>\n",
       "                        <td id=\"T_a8891e05_883b_11eb_89b2_704d7b3c13bcrow0_col291\" class=\"data row0 col291\" >2015-01-02 16:56:15</td>\n",
       "                        <td id=\"T_a8891e05_883b_11eb_89b2_704d7b3c13bcrow0_col292\" class=\"data row0 col292\" >2015-01-05 17:20:11</td>\n",
       "                        <td id=\"T_a8891e05_883b_11eb_89b2_704d7b3c13bcrow0_col293\" class=\"data row0 col293\" >2015-01-06 17:19:05</td>\n",
       "                        <td id=\"T_a8891e05_883b_11eb_89b2_704d7b3c13bcrow0_col294\" class=\"data row0 col294\" >2015-01-07 16:34:55</td>\n",
       "                        <td id=\"T_a8891e05_883b_11eb_89b2_704d7b3c13bcrow0_col295\" class=\"data row0 col295\" >2015-01-08 17:08:32</td>\n",
       "                        <td id=\"T_a8891e05_883b_11eb_89b2_704d7b3c13bcrow0_col296\" class=\"data row0 col296\" >2015-01-09 17:38:29</td>\n",
       "                        <td id=\"T_a8891e05_883b_11eb_89b2_704d7b3c13bcrow0_col297\" class=\"data row0 col297\" >2015-01-12 16:58:39</td>\n",
       "                        <td id=\"T_a8891e05_883b_11eb_89b2_704d7b3c13bcrow0_col298\" class=\"data row0 col298\" >2015-01-13 18:02:58</td>\n",
       "                        <td id=\"T_a8891e05_883b_11eb_89b2_704d7b3c13bcrow0_col299\" class=\"data row0 col299\" >nan</td>\n",
       "                        <td id=\"T_a8891e05_883b_11eb_89b2_704d7b3c13bcrow0_col300\" class=\"data row0 col300\" >2015-01-15 17:22:13</td>\n",
       "                        <td id=\"T_a8891e05_883b_11eb_89b2_704d7b3c13bcrow0_col301\" class=\"data row0 col301\" >2015-01-16 17:35:11</td>\n",
       "                        <td id=\"T_a8891e05_883b_11eb_89b2_704d7b3c13bcrow0_col302\" class=\"data row0 col302\" >nan</td>\n",
       "                        <td id=\"T_a8891e05_883b_11eb_89b2_704d7b3c13bcrow0_col303\" class=\"data row0 col303\" >2015-01-20 16:37:07</td>\n",
       "                        <td id=\"T_a8891e05_883b_11eb_89b2_704d7b3c13bcrow0_col304\" class=\"data row0 col304\" >2015-01-21 16:55:24</td>\n",
       "                        <td id=\"T_a8891e05_883b_11eb_89b2_704d7b3c13bcrow0_col305\" class=\"data row0 col305\" >2015-01-22 16:50:47</td>\n",
       "                        <td id=\"T_a8891e05_883b_11eb_89b2_704d7b3c13bcrow0_col306\" class=\"data row0 col306\" >2015-01-23 17:00:01</td>\n",
       "                        <td id=\"T_a8891e05_883b_11eb_89b2_704d7b3c13bcrow0_col307\" class=\"data row0 col307\" >nan</td>\n",
       "                        <td id=\"T_a8891e05_883b_11eb_89b2_704d7b3c13bcrow0_col308\" class=\"data row0 col308\" >2015-01-27 17:28:22</td>\n",
       "                        <td id=\"T_a8891e05_883b_11eb_89b2_704d7b3c13bcrow0_col309\" class=\"data row0 col309\" >2015-01-28 17:03:21</td>\n",
       "                        <td id=\"T_a8891e05_883b_11eb_89b2_704d7b3c13bcrow0_col310\" class=\"data row0 col310\" >2015-01-29 17:18:36</td>\n",
       "                        <td id=\"T_a8891e05_883b_11eb_89b2_704d7b3c13bcrow0_col311\" class=\"data row0 col311\" >2015-01-30 17:00:25</td>\n",
       "                        <td id=\"T_a8891e05_883b_11eb_89b2_704d7b3c13bcrow0_col312\" class=\"data row0 col312\" >2015-02-02 16:32:49</td>\n",
       "                        <td id=\"T_a8891e05_883b_11eb_89b2_704d7b3c13bcrow0_col313\" class=\"data row0 col313\" >2015-02-03 17:35:49</td>\n",
       "                        <td id=\"T_a8891e05_883b_11eb_89b2_704d7b3c13bcrow0_col314\" class=\"data row0 col314\" >2015-02-04 17:24:56</td>\n",
       "                        <td id=\"T_a8891e05_883b_11eb_89b2_704d7b3c13bcrow0_col315\" class=\"data row0 col315\" >2015-02-05 17:26:31</td>\n",
       "                        <td id=\"T_a8891e05_883b_11eb_89b2_704d7b3c13bcrow0_col316\" class=\"data row0 col316\" >2015-02-06 17:21:35</td>\n",
       "                        <td id=\"T_a8891e05_883b_11eb_89b2_704d7b3c13bcrow0_col317\" class=\"data row0 col317\" >2015-02-09 17:37:50</td>\n",
       "                        <td id=\"T_a8891e05_883b_11eb_89b2_704d7b3c13bcrow0_col318\" class=\"data row0 col318\" >2015-02-10 17:30:20</td>\n",
       "                        <td id=\"T_a8891e05_883b_11eb_89b2_704d7b3c13bcrow0_col319\" class=\"data row0 col319\" >2015-02-11 17:30:19</td>\n",
       "                        <td id=\"T_a8891e05_883b_11eb_89b2_704d7b3c13bcrow0_col320\" class=\"data row0 col320\" >2015-02-12 17:36:42</td>\n",
       "                        <td id=\"T_a8891e05_883b_11eb_89b2_704d7b3c13bcrow0_col321\" class=\"data row0 col321\" >2015-02-13 16:25:26</td>\n",
       "                        <td id=\"T_a8891e05_883b_11eb_89b2_704d7b3c13bcrow0_col322\" class=\"data row0 col322\" >2015-02-16 17:50:23</td>\n",
       "                        <td id=\"T_a8891e05_883b_11eb_89b2_704d7b3c13bcrow0_col323\" class=\"data row0 col323\" >2015-02-17 17:28:06</td>\n",
       "                        <td id=\"T_a8891e05_883b_11eb_89b2_704d7b3c13bcrow0_col324\" class=\"data row0 col324\" >2015-02-18 18:13:29</td>\n",
       "                        <td id=\"T_a8891e05_883b_11eb_89b2_704d7b3c13bcrow0_col325\" class=\"data row0 col325\" >nan</td>\n",
       "                        <td id=\"T_a8891e05_883b_11eb_89b2_704d7b3c13bcrow0_col326\" class=\"data row0 col326\" >2015-02-20 17:44:52</td>\n",
       "                        <td id=\"T_a8891e05_883b_11eb_89b2_704d7b3c13bcrow0_col327\" class=\"data row0 col327\" >2015-02-23 17:13:27</td>\n",
       "                        <td id=\"T_a8891e05_883b_11eb_89b2_704d7b3c13bcrow0_col328\" class=\"data row0 col328\" >2015-02-24 17:24:48</td>\n",
       "                        <td id=\"T_a8891e05_883b_11eb_89b2_704d7b3c13bcrow0_col329\" class=\"data row0 col329\" >2015-02-25 17:27:37</td>\n",
       "                        <td id=\"T_a8891e05_883b_11eb_89b2_704d7b3c13bcrow0_col330\" class=\"data row0 col330\" >2015-02-26 17:08:36</td>\n",
       "                        <td id=\"T_a8891e05_883b_11eb_89b2_704d7b3c13bcrow0_col331\" class=\"data row0 col331\" >2015-02-27 17:21:55</td>\n",
       "                        <td id=\"T_a8891e05_883b_11eb_89b2_704d7b3c13bcrow0_col332\" class=\"data row0 col332\" >2015-03-02 17:29:08</td>\n",
       "                        <td id=\"T_a8891e05_883b_11eb_89b2_704d7b3c13bcrow0_col333\" class=\"data row0 col333\" >2015-03-03 16:54:12</td>\n",
       "                        <td id=\"T_a8891e05_883b_11eb_89b2_704d7b3c13bcrow0_col334\" class=\"data row0 col334\" >2015-03-04 17:50:18</td>\n",
       "                        <td id=\"T_a8891e05_883b_11eb_89b2_704d7b3c13bcrow0_col335\" class=\"data row0 col335\" >nan</td>\n",
       "                        <td id=\"T_a8891e05_883b_11eb_89b2_704d7b3c13bcrow0_col336\" class=\"data row0 col336\" >2015-03-06 17:44:47</td>\n",
       "                        <td id=\"T_a8891e05_883b_11eb_89b2_704d7b3c13bcrow0_col337\" class=\"data row0 col337\" >2015-03-09 17:53:05</td>\n",
       "                        <td id=\"T_a8891e05_883b_11eb_89b2_704d7b3c13bcrow0_col338\" class=\"data row0 col338\" >2015-03-10 16:42:53</td>\n",
       "                        <td id=\"T_a8891e05_883b_11eb_89b2_704d7b3c13bcrow0_col339\" class=\"data row0 col339\" >2015-03-11 16:58:39</td>\n",
       "                        <td id=\"T_a8891e05_883b_11eb_89b2_704d7b3c13bcrow0_col340\" class=\"data row0 col340\" >2015-03-12 17:15:39</td>\n",
       "                        <td id=\"T_a8891e05_883b_11eb_89b2_704d7b3c13bcrow0_col341\" class=\"data row0 col341\" >2015-03-13 17:25:55</td>\n",
       "                        <td id=\"T_a8891e05_883b_11eb_89b2_704d7b3c13bcrow0_col342\" class=\"data row0 col342\" >nan</td>\n",
       "                        <td id=\"T_a8891e05_883b_11eb_89b2_704d7b3c13bcrow0_col343\" class=\"data row0 col343\" >2015-03-17 17:00:16</td>\n",
       "                        <td id=\"T_a8891e05_883b_11eb_89b2_704d7b3c13bcrow0_col344\" class=\"data row0 col344\" >2015-03-18 17:40:13</td>\n",
       "                        <td id=\"T_a8891e05_883b_11eb_89b2_704d7b3c13bcrow0_col345\" class=\"data row0 col345\" >2015-03-19 17:52:44</td>\n",
       "                        <td id=\"T_a8891e05_883b_11eb_89b2_704d7b3c13bcrow0_col346\" class=\"data row0 col346\" >2015-03-20 17:47:34</td>\n",
       "                        <td id=\"T_a8891e05_883b_11eb_89b2_704d7b3c13bcrow0_col347\" class=\"data row0 col347\" >2015-03-23 17:48:18</td>\n",
       "                        <td id=\"T_a8891e05_883b_11eb_89b2_704d7b3c13bcrow0_col348\" class=\"data row0 col348\" >2015-03-24 17:48:26</td>\n",
       "                        <td id=\"T_a8891e05_883b_11eb_89b2_704d7b3c13bcrow0_col349\" class=\"data row0 col349\" >2015-03-25 17:08:19</td>\n",
       "                        <td id=\"T_a8891e05_883b_11eb_89b2_704d7b3c13bcrow0_col350\" class=\"data row0 col350\" >nan</td>\n",
       "                        <td id=\"T_a8891e05_883b_11eb_89b2_704d7b3c13bcrow0_col351\" class=\"data row0 col351\" >2015-03-27 17:20:51</td>\n",
       "                        <td id=\"T_a8891e05_883b_11eb_89b2_704d7b3c13bcrow0_col352\" class=\"data row0 col352\" >2015-03-30 17:33:09</td>\n",
       "                        <td id=\"T_a8891e05_883b_11eb_89b2_704d7b3c13bcrow0_col353\" class=\"data row0 col353\" >2015-03-31 18:00:07</td>\n",
       "                        <td id=\"T_a8891e05_883b_11eb_89b2_704d7b3c13bcrow0_col354\" class=\"data row0 col354\" >2015-04-01 17:32:50</td>\n",
       "                        <td id=\"T_a8891e05_883b_11eb_89b2_704d7b3c13bcrow0_col355\" class=\"data row0 col355\" >2015-04-02 17:24:58</td>\n",
       "                        <td id=\"T_a8891e05_883b_11eb_89b2_704d7b3c13bcrow0_col356\" class=\"data row0 col356\" >2015-04-03 17:11:46</td>\n",
       "                        <td id=\"T_a8891e05_883b_11eb_89b2_704d7b3c13bcrow0_col357\" class=\"data row0 col357\" >2015-04-06 16:42:46</td>\n",
       "                        <td id=\"T_a8891e05_883b_11eb_89b2_704d7b3c13bcrow0_col358\" class=\"data row0 col358\" >2015-04-07 17:55:07</td>\n",
       "                        <td id=\"T_a8891e05_883b_11eb_89b2_704d7b3c13bcrow0_col359\" class=\"data row0 col359\" >2015-04-08 17:30:12</td>\n",
       "                        <td id=\"T_a8891e05_883b_11eb_89b2_704d7b3c13bcrow0_col360\" class=\"data row0 col360\" >2015-04-09 17:09:38</td>\n",
       "                        <td id=\"T_a8891e05_883b_11eb_89b2_704d7b3c13bcrow0_col361\" class=\"data row0 col361\" >2015-04-10 16:53:22</td>\n",
       "                        <td id=\"T_a8891e05_883b_11eb_89b2_704d7b3c13bcrow0_col362\" class=\"data row0 col362\" >2015-04-13 17:00:23</td>\n",
       "                        <td id=\"T_a8891e05_883b_11eb_89b2_704d7b3c13bcrow0_col363\" class=\"data row0 col363\" >2015-04-14 17:07:36</td>\n",
       "                        <td id=\"T_a8891e05_883b_11eb_89b2_704d7b3c13bcrow0_col364\" class=\"data row0 col364\" >2015-04-15 17:23:31</td>\n",
       "                        <td id=\"T_a8891e05_883b_11eb_89b2_704d7b3c13bcrow0_col365\" class=\"data row0 col365\" >2015-04-16 17:31:32</td>\n",
       "                        <td id=\"T_a8891e05_883b_11eb_89b2_704d7b3c13bcrow0_col366\" class=\"data row0 col366\" >2015-04-17 17:11:18</td>\n",
       "                        <td id=\"T_a8891e05_883b_11eb_89b2_704d7b3c13bcrow0_col367\" class=\"data row0 col367\" >2015-04-20 17:45:08</td>\n",
       "                        <td id=\"T_a8891e05_883b_11eb_89b2_704d7b3c13bcrow0_col368\" class=\"data row0 col368\" >2015-04-21 16:49:13</td>\n",
       "                        <td id=\"T_a8891e05_883b_11eb_89b2_704d7b3c13bcrow0_col369\" class=\"data row0 col369\" >2015-04-22 17:27:46</td>\n",
       "                        <td id=\"T_a8891e05_883b_11eb_89b2_704d7b3c13bcrow0_col370\" class=\"data row0 col370\" >2015-04-23 17:32:53</td>\n",
       "                        <td id=\"T_a8891e05_883b_11eb_89b2_704d7b3c13bcrow0_col371\" class=\"data row0 col371\" >2015-04-24 17:39:25</td>\n",
       "                        <td id=\"T_a8891e05_883b_11eb_89b2_704d7b3c13bcrow0_col372\" class=\"data row0 col372\" >2015-04-27 17:26:32</td>\n",
       "                        <td id=\"T_a8891e05_883b_11eb_89b2_704d7b3c13bcrow0_col373\" class=\"data row0 col373\" >2015-04-28 17:50:45</td>\n",
       "                        <td id=\"T_a8891e05_883b_11eb_89b2_704d7b3c13bcrow0_col374\" class=\"data row0 col374\" >2015-04-29 17:27:45</td>\n",
       "                        <td id=\"T_a8891e05_883b_11eb_89b2_704d7b3c13bcrow0_col375\" class=\"data row0 col375\" >2015-04-30 17:18:59</td>\n",
       "                        <td id=\"T_a8891e05_883b_11eb_89b2_704d7b3c13bcrow0_col376\" class=\"data row0 col376\" >nan</td>\n",
       "                        <td id=\"T_a8891e05_883b_11eb_89b2_704d7b3c13bcrow0_col377\" class=\"data row0 col377\" >2015-05-04 17:05:30</td>\n",
       "                        <td id=\"T_a8891e05_883b_11eb_89b2_704d7b3c13bcrow0_col378\" class=\"data row0 col378\" >2015-05-05 17:13:30</td>\n",
       "                        <td id=\"T_a8891e05_883b_11eb_89b2_704d7b3c13bcrow0_col379\" class=\"data row0 col379\" >2015-05-06 17:16:30</td>\n",
       "                        <td id=\"T_a8891e05_883b_11eb_89b2_704d7b3c13bcrow0_col380\" class=\"data row0 col380\" >2015-05-07 17:10:33</td>\n",
       "                        <td id=\"T_a8891e05_883b_11eb_89b2_704d7b3c13bcrow0_col381\" class=\"data row0 col381\" >2015-05-08 17:31:56</td>\n",
       "                        <td id=\"T_a8891e05_883b_11eb_89b2_704d7b3c13bcrow0_col382\" class=\"data row0 col382\" >nan</td>\n",
       "                        <td id=\"T_a8891e05_883b_11eb_89b2_704d7b3c13bcrow0_col383\" class=\"data row0 col383\" >2015-05-12 17:16:58</td>\n",
       "                        <td id=\"T_a8891e05_883b_11eb_89b2_704d7b3c13bcrow0_col384\" class=\"data row0 col384\" >2015-05-13 17:54:12</td>\n",
       "                        <td id=\"T_a8891e05_883b_11eb_89b2_704d7b3c13bcrow0_col385\" class=\"data row0 col385\" >2015-05-14 17:44:49</td>\n",
       "                        <td id=\"T_a8891e05_883b_11eb_89b2_704d7b3c13bcrow0_col386\" class=\"data row0 col386\" >2015-05-15 16:44:33</td>\n",
       "                        <td id=\"T_a8891e05_883b_11eb_89b2_704d7b3c13bcrow0_col387\" class=\"data row0 col387\" >nan</td>\n",
       "                        <td id=\"T_a8891e05_883b_11eb_89b2_704d7b3c13bcrow0_col388\" class=\"data row0 col388\" >2015-05-19 17:09:05</td>\n",
       "                        <td id=\"T_a8891e05_883b_11eb_89b2_704d7b3c13bcrow0_col389\" class=\"data row0 col389\" >2015-05-20 17:19:49</td>\n",
       "                        <td id=\"T_a8891e05_883b_11eb_89b2_704d7b3c13bcrow0_col390\" class=\"data row0 col390\" >2015-05-21 17:21:10</td>\n",
       "                        <td id=\"T_a8891e05_883b_11eb_89b2_704d7b3c13bcrow0_col391\" class=\"data row0 col391\" >2015-05-22 17:27:28</td>\n",
       "                        <td id=\"T_a8891e05_883b_11eb_89b2_704d7b3c13bcrow0_col392\" class=\"data row0 col392\" >2015-05-25 17:49:48</td>\n",
       "                        <td id=\"T_a8891e05_883b_11eb_89b2_704d7b3c13bcrow0_col393\" class=\"data row0 col393\" >2015-05-26 17:29:00</td>\n",
       "                        <td id=\"T_a8891e05_883b_11eb_89b2_704d7b3c13bcrow0_col394\" class=\"data row0 col394\" >2015-05-27 17:34:05</td>\n",
       "                        <td id=\"T_a8891e05_883b_11eb_89b2_704d7b3c13bcrow0_col395\" class=\"data row0 col395\" >2015-05-28 17:23:52</td>\n",
       "                        <td id=\"T_a8891e05_883b_11eb_89b2_704d7b3c13bcrow0_col396\" class=\"data row0 col396\" >nan</td>\n",
       "                        <td id=\"T_a8891e05_883b_11eb_89b2_704d7b3c13bcrow0_col397\" class=\"data row0 col397\" >nan</td>\n",
       "                        <td id=\"T_a8891e05_883b_11eb_89b2_704d7b3c13bcrow0_col398\" class=\"data row0 col398\" >2015-06-02 18:03:51</td>\n",
       "                        <td id=\"T_a8891e05_883b_11eb_89b2_704d7b3c13bcrow0_col399\" class=\"data row0 col399\" >2015-06-03 17:18:10</td>\n",
       "                        <td id=\"T_a8891e05_883b_11eb_89b2_704d7b3c13bcrow0_col400\" class=\"data row0 col400\" >2015-06-04 17:26:11</td>\n",
       "                        <td id=\"T_a8891e05_883b_11eb_89b2_704d7b3c13bcrow0_col401\" class=\"data row0 col401\" >nan</td>\n",
       "                        <td id=\"T_a8891e05_883b_11eb_89b2_704d7b3c13bcrow0_col402\" class=\"data row0 col402\" >2015-06-08 17:22:18</td>\n",
       "                        <td id=\"T_a8891e05_883b_11eb_89b2_704d7b3c13bcrow0_col403\" class=\"data row0 col403\" >nan</td>\n",
       "                        <td id=\"T_a8891e05_883b_11eb_89b2_704d7b3c13bcrow0_col404\" class=\"data row0 col404\" >2015-06-10 16:59:04</td>\n",
       "                        <td id=\"T_a8891e05_883b_11eb_89b2_704d7b3c13bcrow0_col405\" class=\"data row0 col405\" >2015-06-11 17:21:39</td>\n",
       "                        <td id=\"T_a8891e05_883b_11eb_89b2_704d7b3c13bcrow0_col406\" class=\"data row0 col406\" >2015-06-12 17:39:12</td>\n",
       "                        <td id=\"T_a8891e05_883b_11eb_89b2_704d7b3c13bcrow0_col407\" class=\"data row0 col407\" >2015-06-15 17:26:02</td>\n",
       "                        <td id=\"T_a8891e05_883b_11eb_89b2_704d7b3c13bcrow0_col408\" class=\"data row0 col408\" >2015-06-16 17:31:36</td>\n",
       "                        <td id=\"T_a8891e05_883b_11eb_89b2_704d7b3c13bcrow0_col409\" class=\"data row0 col409\" >2015-06-17 17:17:49</td>\n",
       "                        <td id=\"T_a8891e05_883b_11eb_89b2_704d7b3c13bcrow0_col410\" class=\"data row0 col410\" >2015-06-18 17:34:32</td>\n",
       "                        <td id=\"T_a8891e05_883b_11eb_89b2_704d7b3c13bcrow0_col411\" class=\"data row0 col411\" >2015-06-19 17:21:17</td>\n",
       "                        <td id=\"T_a8891e05_883b_11eb_89b2_704d7b3c13bcrow0_col412\" class=\"data row0 col412\" >2015-06-22 16:59:22</td>\n",
       "                        <td id=\"T_a8891e05_883b_11eb_89b2_704d7b3c13bcrow0_col413\" class=\"data row0 col413\" >2015-06-23 16:51:41</td>\n",
       "                        <td id=\"T_a8891e05_883b_11eb_89b2_704d7b3c13bcrow0_col414\" class=\"data row0 col414\" >2015-06-24 17:06:26</td>\n",
       "                        <td id=\"T_a8891e05_883b_11eb_89b2_704d7b3c13bcrow0_col415\" class=\"data row0 col415\" >2015-06-25 17:37:14</td>\n",
       "                        <td id=\"T_a8891e05_883b_11eb_89b2_704d7b3c13bcrow0_col416\" class=\"data row0 col416\" >2015-06-26 17:11:06</td>\n",
       "                        <td id=\"T_a8891e05_883b_11eb_89b2_704d7b3c13bcrow0_col417\" class=\"data row0 col417\" >2015-06-29 17:41:01</td>\n",
       "                        <td id=\"T_a8891e05_883b_11eb_89b2_704d7b3c13bcrow0_col418\" class=\"data row0 col418\" >2015-06-30 17:45:51</td>\n",
       "                        <td id=\"T_a8891e05_883b_11eb_89b2_704d7b3c13bcrow0_col419\" class=\"data row0 col419\" >2015-07-01 17:22:27</td>\n",
       "                        <td id=\"T_a8891e05_883b_11eb_89b2_704d7b3c13bcrow0_col420\" class=\"data row0 col420\" >2015-07-02 17:44:39</td>\n",
       "                        <td id=\"T_a8891e05_883b_11eb_89b2_704d7b3c13bcrow0_col421\" class=\"data row0 col421\" >2015-07-03 17:09:29</td>\n",
       "                        <td id=\"T_a8891e05_883b_11eb_89b2_704d7b3c13bcrow0_col422\" class=\"data row0 col422\" >2015-07-06 17:33:57</td>\n",
       "                        <td id=\"T_a8891e05_883b_11eb_89b2_704d7b3c13bcrow0_col423\" class=\"data row0 col423\" >2015-07-07 17:47:22</td>\n",
       "                        <td id=\"T_a8891e05_883b_11eb_89b2_704d7b3c13bcrow0_col424\" class=\"data row0 col424\" >2015-07-08 17:26:03</td>\n",
       "                        <td id=\"T_a8891e05_883b_11eb_89b2_704d7b3c13bcrow0_col425\" class=\"data row0 col425\" >2015-07-09 16:18:10</td>\n",
       "                        <td id=\"T_a8891e05_883b_11eb_89b2_704d7b3c13bcrow0_col426\" class=\"data row0 col426\" >2015-07-10 17:05:38</td>\n",
       "                        <td id=\"T_a8891e05_883b_11eb_89b2_704d7b3c13bcrow0_col427\" class=\"data row0 col427\" >2015-07-13 17:23:56</td>\n",
       "                        <td id=\"T_a8891e05_883b_11eb_89b2_704d7b3c13bcrow0_col428\" class=\"data row0 col428\" >2015-07-14 17:14:19</td>\n",
       "                        <td id=\"T_a8891e05_883b_11eb_89b2_704d7b3c13bcrow0_col429\" class=\"data row0 col429\" >2015-07-15 17:32:02</td>\n",
       "                        <td id=\"T_a8891e05_883b_11eb_89b2_704d7b3c13bcrow0_col430\" class=\"data row0 col430\" >2015-07-16 17:39:13</td>\n",
       "                        <td id=\"T_a8891e05_883b_11eb_89b2_704d7b3c13bcrow0_col431\" class=\"data row0 col431\" >nan</td>\n",
       "                        <td id=\"T_a8891e05_883b_11eb_89b2_704d7b3c13bcrow0_col432\" class=\"data row0 col432\" >2015-07-20 17:31:04</td>\n",
       "                        <td id=\"T_a8891e05_883b_11eb_89b2_704d7b3c13bcrow0_col433\" class=\"data row0 col433\" >2015-07-21 17:03:19</td>\n",
       "                        <td id=\"T_a8891e05_883b_11eb_89b2_704d7b3c13bcrow0_col434\" class=\"data row0 col434\" >2015-07-22 17:45:13</td>\n",
       "                        <td id=\"T_a8891e05_883b_11eb_89b2_704d7b3c13bcrow0_col435\" class=\"data row0 col435\" >2015-07-23 16:45:36</td>\n",
       "                        <td id=\"T_a8891e05_883b_11eb_89b2_704d7b3c13bcrow0_col436\" class=\"data row0 col436\" >2015-07-24 17:03:05</td>\n",
       "                        <td id=\"T_a8891e05_883b_11eb_89b2_704d7b3c13bcrow0_col437\" class=\"data row0 col437\" >2015-07-27 17:24:48</td>\n",
       "                        <td id=\"T_a8891e05_883b_11eb_89b2_704d7b3c13bcrow0_col438\" class=\"data row0 col438\" >2015-07-28 17:02:15</td>\n",
       "                        <td id=\"T_a8891e05_883b_11eb_89b2_704d7b3c13bcrow0_col439\" class=\"data row0 col439\" >2015-07-29 16:57:05</td>\n",
       "                        <td id=\"T_a8891e05_883b_11eb_89b2_704d7b3c13bcrow0_col440\" class=\"data row0 col440\" >2015-07-30 17:06:20</td>\n",
       "                        <td id=\"T_a8891e05_883b_11eb_89b2_704d7b3c13bcrow0_col441\" class=\"data row0 col441\" >2015-07-31 17:34:04</td>\n",
       "                        <td id=\"T_a8891e05_883b_11eb_89b2_704d7b3c13bcrow0_col442\" class=\"data row0 col442\" >2015-08-03 17:00:31</td>\n",
       "                        <td id=\"T_a8891e05_883b_11eb_89b2_704d7b3c13bcrow0_col443\" class=\"data row0 col443\" >2015-08-04 17:10:18</td>\n",
       "                        <td id=\"T_a8891e05_883b_11eb_89b2_704d7b3c13bcrow0_col444\" class=\"data row0 col444\" >2015-08-05 17:31:20</td>\n",
       "                        <td id=\"T_a8891e05_883b_11eb_89b2_704d7b3c13bcrow0_col445\" class=\"data row0 col445\" >2015-08-06 17:27:12</td>\n",
       "                        <td id=\"T_a8891e05_883b_11eb_89b2_704d7b3c13bcrow0_col446\" class=\"data row0 col446\" >2015-08-07 17:16:59</td>\n",
       "                        <td id=\"T_a8891e05_883b_11eb_89b2_704d7b3c13bcrow0_col447\" class=\"data row0 col447\" >2015-08-10 17:48:37</td>\n",
       "                        <td id=\"T_a8891e05_883b_11eb_89b2_704d7b3c13bcrow0_col448\" class=\"data row0 col448\" >2015-08-11 17:40:01</td>\n",
       "                        <td id=\"T_a8891e05_883b_11eb_89b2_704d7b3c13bcrow0_col449\" class=\"data row0 col449\" >2015-08-12 17:15:47</td>\n",
       "                        <td id=\"T_a8891e05_883b_11eb_89b2_704d7b3c13bcrow0_col450\" class=\"data row0 col450\" >2015-08-13 17:09:17</td>\n",
       "                        <td id=\"T_a8891e05_883b_11eb_89b2_704d7b3c13bcrow0_col451\" class=\"data row0 col451\" >2015-08-14 17:08:51</td>\n",
       "                        <td id=\"T_a8891e05_883b_11eb_89b2_704d7b3c13bcrow0_col452\" class=\"data row0 col452\" >2015-08-17 16:27:43</td>\n",
       "                        <td id=\"T_a8891e05_883b_11eb_89b2_704d7b3c13bcrow0_col453\" class=\"data row0 col453\" >2015-08-18 18:03:09</td>\n",
       "                        <td id=\"T_a8891e05_883b_11eb_89b2_704d7b3c13bcrow0_col454\" class=\"data row0 col454\" >2015-08-19 17:09:56</td>\n",
       "                        <td id=\"T_a8891e05_883b_11eb_89b2_704d7b3c13bcrow0_col455\" class=\"data row0 col455\" >2015-08-20 17:11:05</td>\n",
       "                        <td id=\"T_a8891e05_883b_11eb_89b2_704d7b3c13bcrow0_col456\" class=\"data row0 col456\" >2015-08-21 17:51:02</td>\n",
       "                        <td id=\"T_a8891e05_883b_11eb_89b2_704d7b3c13bcrow0_col457\" class=\"data row0 col457\" >2015-08-24 17:37:08</td>\n",
       "                        <td id=\"T_a8891e05_883b_11eb_89b2_704d7b3c13bcrow0_col458\" class=\"data row0 col458\" >2015-08-25 17:12:59</td>\n",
       "                        <td id=\"T_a8891e05_883b_11eb_89b2_704d7b3c13bcrow0_col459\" class=\"data row0 col459\" >2015-08-26 17:36:02</td>\n",
       "                        <td id=\"T_a8891e05_883b_11eb_89b2_704d7b3c13bcrow0_col460\" class=\"data row0 col460\" >2015-08-27 17:57:41</td>\n",
       "                        <td id=\"T_a8891e05_883b_11eb_89b2_704d7b3c13bcrow0_col461\" class=\"data row0 col461\" >2015-08-28 17:27:04</td>\n",
       "                        <td id=\"T_a8891e05_883b_11eb_89b2_704d7b3c13bcrow0_col462\" class=\"data row0 col462\" >2015-08-31 17:08:19</td>\n",
       "                        <td id=\"T_a8891e05_883b_11eb_89b2_704d7b3c13bcrow0_col463\" class=\"data row0 col463\" >nan</td>\n",
       "                        <td id=\"T_a8891e05_883b_11eb_89b2_704d7b3c13bcrow0_col464\" class=\"data row0 col464\" >2015-09-02 17:49:13</td>\n",
       "                        <td id=\"T_a8891e05_883b_11eb_89b2_704d7b3c13bcrow0_col465\" class=\"data row0 col465\" >2015-09-03 17:07:17</td>\n",
       "                        <td id=\"T_a8891e05_883b_11eb_89b2_704d7b3c13bcrow0_col466\" class=\"data row0 col466\" >2015-09-04 17:42:46</td>\n",
       "                        <td id=\"T_a8891e05_883b_11eb_89b2_704d7b3c13bcrow0_col467\" class=\"data row0 col467\" >2015-09-07 17:40:58</td>\n",
       "                        <td id=\"T_a8891e05_883b_11eb_89b2_704d7b3c13bcrow0_col468\" class=\"data row0 col468\" >2015-09-08 17:52:36</td>\n",
       "                        <td id=\"T_a8891e05_883b_11eb_89b2_704d7b3c13bcrow0_col469\" class=\"data row0 col469\" >2015-09-09 18:00:21</td>\n",
       "                        <td id=\"T_a8891e05_883b_11eb_89b2_704d7b3c13bcrow0_col470\" class=\"data row0 col470\" >2015-09-10 17:17:02</td>\n",
       "                        <td id=\"T_a8891e05_883b_11eb_89b2_704d7b3c13bcrow0_col471\" class=\"data row0 col471\" >2015-09-11 17:22:52</td>\n",
       "                        <td id=\"T_a8891e05_883b_11eb_89b2_704d7b3c13bcrow0_col472\" class=\"data row0 col472\" >2015-09-14 17:07:46</td>\n",
       "                        <td id=\"T_a8891e05_883b_11eb_89b2_704d7b3c13bcrow0_col473\" class=\"data row0 col473\" >2015-09-15 17:34:11</td>\n",
       "                        <td id=\"T_a8891e05_883b_11eb_89b2_704d7b3c13bcrow0_col474\" class=\"data row0 col474\" >2015-09-16 17:31:03</td>\n",
       "                        <td id=\"T_a8891e05_883b_11eb_89b2_704d7b3c13bcrow0_col475\" class=\"data row0 col475\" >nan</td>\n",
       "                        <td id=\"T_a8891e05_883b_11eb_89b2_704d7b3c13bcrow0_col476\" class=\"data row0 col476\" >2015-09-18 17:43:14</td>\n",
       "                        <td id=\"T_a8891e05_883b_11eb_89b2_704d7b3c13bcrow0_col477\" class=\"data row0 col477\" >2015-09-21 17:13:51</td>\n",
       "                        <td id=\"T_a8891e05_883b_11eb_89b2_704d7b3c13bcrow0_col478\" class=\"data row0 col478\" >2015-09-22 18:14:06</td>\n",
       "                        <td id=\"T_a8891e05_883b_11eb_89b2_704d7b3c13bcrow0_col479\" class=\"data row0 col479\" >2015-09-23 17:05:53</td>\n",
       "                        <td id=\"T_a8891e05_883b_11eb_89b2_704d7b3c13bcrow0_col480\" class=\"data row0 col480\" >2015-09-24 17:19:26</td>\n",
       "                        <td id=\"T_a8891e05_883b_11eb_89b2_704d7b3c13bcrow0_col481\" class=\"data row0 col481\" >2015-09-25 17:43:56</td>\n",
       "                        <td id=\"T_a8891e05_883b_11eb_89b2_704d7b3c13bcrow0_col482\" class=\"data row0 col482\" >2015-09-28 17:07:25</td>\n",
       "                        <td id=\"T_a8891e05_883b_11eb_89b2_704d7b3c13bcrow0_col483\" class=\"data row0 col483\" >2015-09-29 17:27:30</td>\n",
       "                        <td id=\"T_a8891e05_883b_11eb_89b2_704d7b3c13bcrow0_col484\" class=\"data row0 col484\" >2015-09-30 17:14:43</td>\n",
       "                        <td id=\"T_a8891e05_883b_11eb_89b2_704d7b3c13bcrow0_col485\" class=\"data row0 col485\" >2015-10-01 17:52:44</td>\n",
       "                        <td id=\"T_a8891e05_883b_11eb_89b2_704d7b3c13bcrow0_col486\" class=\"data row0 col486\" >nan</td>\n",
       "                        <td id=\"T_a8891e05_883b_11eb_89b2_704d7b3c13bcrow0_col487\" class=\"data row0 col487\" >2015-10-05 17:03:41</td>\n",
       "                        <td id=\"T_a8891e05_883b_11eb_89b2_704d7b3c13bcrow0_col488\" class=\"data row0 col488\" >2015-10-06 17:29:15</td>\n",
       "                        <td id=\"T_a8891e05_883b_11eb_89b2_704d7b3c13bcrow0_col489\" class=\"data row0 col489\" >2015-10-07 16:56:00</td>\n",
       "                        <td id=\"T_a8891e05_883b_11eb_89b2_704d7b3c13bcrow0_col490\" class=\"data row0 col490\" >2015-10-08 17:08:18</td>\n",
       "                        <td id=\"T_a8891e05_883b_11eb_89b2_704d7b3c13bcrow0_col491\" class=\"data row0 col491\" >2015-10-09 17:10:00</td>\n",
       "                        <td id=\"T_a8891e05_883b_11eb_89b2_704d7b3c13bcrow0_col492\" class=\"data row0 col492\" >2015-10-12 17:24:14</td>\n",
       "                        <td id=\"T_a8891e05_883b_11eb_89b2_704d7b3c13bcrow0_col493\" class=\"data row0 col493\" >nan</td>\n",
       "                        <td id=\"T_a8891e05_883b_11eb_89b2_704d7b3c13bcrow0_col494\" class=\"data row0 col494\" >2015-10-14 17:49:02</td>\n",
       "                        <td id=\"T_a8891e05_883b_11eb_89b2_704d7b3c13bcrow0_col495\" class=\"data row0 col495\" >2015-10-15 17:54:13</td>\n",
       "                        <td id=\"T_a8891e05_883b_11eb_89b2_704d7b3c13bcrow0_col496\" class=\"data row0 col496\" >2015-10-16 16:40:00</td>\n",
       "                        <td id=\"T_a8891e05_883b_11eb_89b2_704d7b3c13bcrow0_col497\" class=\"data row0 col497\" >2015-10-19 17:27:58</td>\n",
       "                        <td id=\"T_a8891e05_883b_11eb_89b2_704d7b3c13bcrow0_col498\" class=\"data row0 col498\" >2015-10-20 17:02:55</td>\n",
       "                        <td id=\"T_a8891e05_883b_11eb_89b2_704d7b3c13bcrow0_col499\" class=\"data row0 col499\" >nan</td>\n",
       "                        <td id=\"T_a8891e05_883b_11eb_89b2_704d7b3c13bcrow0_col500\" class=\"data row0 col500\" >nan</td>\n",
       "                        <td id=\"T_a8891e05_883b_11eb_89b2_704d7b3c13bcrow0_col501\" class=\"data row0 col501\" >2015-10-23 17:13:46</td>\n",
       "                        <td id=\"T_a8891e05_883b_11eb_89b2_704d7b3c13bcrow0_col502\" class=\"data row0 col502\" >2015-10-26 17:35:53</td>\n",
       "                        <td id=\"T_a8891e05_883b_11eb_89b2_704d7b3c13bcrow0_col503\" class=\"data row0 col503\" >2015-10-27 16:28:13</td>\n",
       "                        <td id=\"T_a8891e05_883b_11eb_89b2_704d7b3c13bcrow0_col504\" class=\"data row0 col504\" >2015-10-28 17:32:42</td>\n",
       "                        <td id=\"T_a8891e05_883b_11eb_89b2_704d7b3c13bcrow0_col505\" class=\"data row0 col505\" >2015-10-29 16:57:29</td>\n",
       "                        <td id=\"T_a8891e05_883b_11eb_89b2_704d7b3c13bcrow0_col506\" class=\"data row0 col506\" >2015-10-30 17:09:54</td>\n",
       "                        <td id=\"T_a8891e05_883b_11eb_89b2_704d7b3c13bcrow0_col507\" class=\"data row0 col507\" >2015-11-02 16:53:43</td>\n",
       "                        <td id=\"T_a8891e05_883b_11eb_89b2_704d7b3c13bcrow0_col508\" class=\"data row0 col508\" >2015-11-03 18:04:34</td>\n",
       "                        <td id=\"T_a8891e05_883b_11eb_89b2_704d7b3c13bcrow0_col509\" class=\"data row0 col509\" >2015-11-04 16:43:40</td>\n",
       "                        <td id=\"T_a8891e05_883b_11eb_89b2_704d7b3c13bcrow0_col510\" class=\"data row0 col510\" >2015-11-05 18:03:15</td>\n",
       "                        <td id=\"T_a8891e05_883b_11eb_89b2_704d7b3c13bcrow0_col511\" class=\"data row0 col511\" >2015-11-06 17:15:12</td>\n",
       "                        <td id=\"T_a8891e05_883b_11eb_89b2_704d7b3c13bcrow0_col512\" class=\"data row0 col512\" >nan</td>\n",
       "                        <td id=\"T_a8891e05_883b_11eb_89b2_704d7b3c13bcrow0_col513\" class=\"data row0 col513\" >nan</td>\n",
       "                        <td id=\"T_a8891e05_883b_11eb_89b2_704d7b3c13bcrow0_col514\" class=\"data row0 col514\" >nan</td>\n",
       "                        <td id=\"T_a8891e05_883b_11eb_89b2_704d7b3c13bcrow0_col515\" class=\"data row0 col515\" >2015-11-12 17:13:17</td>\n",
       "                        <td id=\"T_a8891e05_883b_11eb_89b2_704d7b3c13bcrow0_col516\" class=\"data row0 col516\" >2015-11-13 16:49:27</td>\n",
       "                        <td id=\"T_a8891e05_883b_11eb_89b2_704d7b3c13bcrow0_col517\" class=\"data row0 col517\" >2015-11-16 18:03:08</td>\n",
       "                        <td id=\"T_a8891e05_883b_11eb_89b2_704d7b3c13bcrow0_col518\" class=\"data row0 col518\" >2015-11-17 17:03:06</td>\n",
       "                        <td id=\"T_a8891e05_883b_11eb_89b2_704d7b3c13bcrow0_col519\" class=\"data row0 col519\" >2015-11-18 17:38:02</td>\n",
       "                        <td id=\"T_a8891e05_883b_11eb_89b2_704d7b3c13bcrow0_col520\" class=\"data row0 col520\" >2015-11-19 16:46:27</td>\n",
       "                        <td id=\"T_a8891e05_883b_11eb_89b2_704d7b3c13bcrow0_col521\" class=\"data row0 col521\" >2015-11-20 17:58:40</td>\n",
       "                        <td id=\"T_a8891e05_883b_11eb_89b2_704d7b3c13bcrow0_col522\" class=\"data row0 col522\" >2015-11-23 17:13:22</td>\n",
       "                        <td id=\"T_a8891e05_883b_11eb_89b2_704d7b3c13bcrow0_col523\" class=\"data row0 col523\" >2015-11-24 17:37:21</td>\n",
       "                        <td id=\"T_a8891e05_883b_11eb_89b2_704d7b3c13bcrow0_col524\" class=\"data row0 col524\" >2015-11-25 17:26:51</td>\n",
       "                        <td id=\"T_a8891e05_883b_11eb_89b2_704d7b3c13bcrow0_col525\" class=\"data row0 col525\" >2015-11-26 17:44:49</td>\n",
       "                        <td id=\"T_a8891e05_883b_11eb_89b2_704d7b3c13bcrow0_col526\" class=\"data row0 col526\" >2015-11-27 17:30:02</td>\n",
       "                        <td id=\"T_a8891e05_883b_11eb_89b2_704d7b3c13bcrow0_col527\" class=\"data row0 col527\" >2015-11-30 17:05:11</td>\n",
       "                        <td id=\"T_a8891e05_883b_11eb_89b2_704d7b3c13bcrow0_col528\" class=\"data row0 col528\" >2015-12-01 16:53:21</td>\n",
       "                        <td id=\"T_a8891e05_883b_11eb_89b2_704d7b3c13bcrow0_col529\" class=\"data row0 col529\" >2015-12-02 17:32:24</td>\n",
       "                        <td id=\"T_a8891e05_883b_11eb_89b2_704d7b3c13bcrow0_col530\" class=\"data row0 col530\" >2015-12-03 17:40:59</td>\n",
       "                        <td id=\"T_a8891e05_883b_11eb_89b2_704d7b3c13bcrow0_col531\" class=\"data row0 col531\" >2015-12-04 17:02:22</td>\n",
       "                        <td id=\"T_a8891e05_883b_11eb_89b2_704d7b3c13bcrow0_col532\" class=\"data row0 col532\" >2015-12-07 16:21:37</td>\n",
       "                        <td id=\"T_a8891e05_883b_11eb_89b2_704d7b3c13bcrow0_col533\" class=\"data row0 col533\" >2015-12-08 17:51:23</td>\n",
       "                        <td id=\"T_a8891e05_883b_11eb_89b2_704d7b3c13bcrow0_col534\" class=\"data row0 col534\" >2015-12-09 17:48:46</td>\n",
       "                        <td id=\"T_a8891e05_883b_11eb_89b2_704d7b3c13bcrow0_col535\" class=\"data row0 col535\" >2015-12-10 16:52:14</td>\n",
       "                        <td id=\"T_a8891e05_883b_11eb_89b2_704d7b3c13bcrow0_col536\" class=\"data row0 col536\" >2015-12-11 17:25:56</td>\n",
       "                        <td id=\"T_a8891e05_883b_11eb_89b2_704d7b3c13bcrow0_col537\" class=\"data row0 col537\" >2015-12-14 17:35:53</td>\n",
       "                        <td id=\"T_a8891e05_883b_11eb_89b2_704d7b3c13bcrow0_col538\" class=\"data row0 col538\" >nan</td>\n",
       "                        <td id=\"T_a8891e05_883b_11eb_89b2_704d7b3c13bcrow0_col539\" class=\"data row0 col539\" >2015-12-16 17:54:26</td>\n",
       "                        <td id=\"T_a8891e05_883b_11eb_89b2_704d7b3c13bcrow0_col540\" class=\"data row0 col540\" >nan</td>\n",
       "                        <td id=\"T_a8891e05_883b_11eb_89b2_704d7b3c13bcrow0_col541\" class=\"data row0 col541\" >nan</td>\n",
       "                        <td id=\"T_a8891e05_883b_11eb_89b2_704d7b3c13bcrow0_col542\" class=\"data row0 col542\" >2015-12-21 17:15:50</td>\n",
       "                        <td id=\"T_a8891e05_883b_11eb_89b2_704d7b3c13bcrow0_col543\" class=\"data row0 col543\" >2015-12-22 17:27:51</td>\n",
       "                        <td id=\"T_a8891e05_883b_11eb_89b2_704d7b3c13bcrow0_col544\" class=\"data row0 col544\" >2015-12-23 16:44:44</td>\n",
       "                        <td id=\"T_a8891e05_883b_11eb_89b2_704d7b3c13bcrow0_col545\" class=\"data row0 col545\" >2015-12-24 17:47:22</td>\n",
       "                        <td id=\"T_a8891e05_883b_11eb_89b2_704d7b3c13bcrow0_col546\" class=\"data row0 col546\" >nan</td>\n",
       "                        <td id=\"T_a8891e05_883b_11eb_89b2_704d7b3c13bcrow0_col547\" class=\"data row0 col547\" >2015-12-28 18:00:07</td>\n",
       "                        <td id=\"T_a8891e05_883b_11eb_89b2_704d7b3c13bcrow0_col548\" class=\"data row0 col548\" >2015-12-29 17:22:30</td>\n",
       "                        <td id=\"T_a8891e05_883b_11eb_89b2_704d7b3c13bcrow0_col549\" class=\"data row0 col549\" >2015-12-30 17:40:56</td>\n",
       "                        <td id=\"T_a8891e05_883b_11eb_89b2_704d7b3c13bcrow0_col550\" class=\"data row0 col550\" >2015-12-31 17:17:33</td>\n",
       "            </tr>\n",
       "            <tr>\n",
       "                        <th id=\"T_a8891e05_883b_11eb_89b2_704d7b3c13bclevel0_row1\" class=\"row_heading level0 row1\" >1</th>\n",
       "                        <td id=\"T_a8891e05_883b_11eb_89b2_704d7b3c13bcrow1_col0\" class=\"data row1 col0\" >31</td>\n",
       "                        <td id=\"T_a8891e05_883b_11eb_89b2_704d7b3c13bcrow1_col1\" class=\"data row1 col1\" >Yes</td>\n",
       "                        <td id=\"T_a8891e05_883b_11eb_89b2_704d7b3c13bcrow1_col2\" class=\"data row1 col2\" >Travel_Frequently</td>\n",
       "                        <td id=\"T_a8891e05_883b_11eb_89b2_704d7b3c13bcrow1_col3\" class=\"data row1 col3\" >Research & Development</td>\n",
       "                        <td id=\"T_a8891e05_883b_11eb_89b2_704d7b3c13bcrow1_col4\" class=\"data row1 col4\" >10</td>\n",
       "                        <td id=\"T_a8891e05_883b_11eb_89b2_704d7b3c13bcrow1_col5\" class=\"data row1 col5\" >1</td>\n",
       "                        <td id=\"T_a8891e05_883b_11eb_89b2_704d7b3c13bcrow1_col6\" class=\"data row1 col6\" >Life Sciences</td>\n",
       "                        <td id=\"T_a8891e05_883b_11eb_89b2_704d7b3c13bcrow1_col7\" class=\"data row1 col7\" >1</td>\n",
       "                        <td id=\"T_a8891e05_883b_11eb_89b2_704d7b3c13bcrow1_col8\" class=\"data row1 col8\" >2</td>\n",
       "                        <td id=\"T_a8891e05_883b_11eb_89b2_704d7b3c13bcrow1_col9\" class=\"data row1 col9\" >Female</td>\n",
       "                        <td id=\"T_a8891e05_883b_11eb_89b2_704d7b3c13bcrow1_col10\" class=\"data row1 col10\" >1</td>\n",
       "                        <td id=\"T_a8891e05_883b_11eb_89b2_704d7b3c13bcrow1_col11\" class=\"data row1 col11\" >Research Scientist</td>\n",
       "                        <td id=\"T_a8891e05_883b_11eb_89b2_704d7b3c13bcrow1_col12\" class=\"data row1 col12\" >Single</td>\n",
       "                        <td id=\"T_a8891e05_883b_11eb_89b2_704d7b3c13bcrow1_col13\" class=\"data row1 col13\" >41890</td>\n",
       "                        <td id=\"T_a8891e05_883b_11eb_89b2_704d7b3c13bcrow1_col14\" class=\"data row1 col14\" >0.000000</td>\n",
       "                        <td id=\"T_a8891e05_883b_11eb_89b2_704d7b3c13bcrow1_col15\" class=\"data row1 col15\" >Y</td>\n",
       "                        <td id=\"T_a8891e05_883b_11eb_89b2_704d7b3c13bcrow1_col16\" class=\"data row1 col16\" >23</td>\n",
       "                        <td id=\"T_a8891e05_883b_11eb_89b2_704d7b3c13bcrow1_col17\" class=\"data row1 col17\" >8</td>\n",
       "                        <td id=\"T_a8891e05_883b_11eb_89b2_704d7b3c13bcrow1_col18\" class=\"data row1 col18\" >1</td>\n",
       "                        <td id=\"T_a8891e05_883b_11eb_89b2_704d7b3c13bcrow1_col19\" class=\"data row1 col19\" >6.000000</td>\n",
       "                        <td id=\"T_a8891e05_883b_11eb_89b2_704d7b3c13bcrow1_col20\" class=\"data row1 col20\" >3</td>\n",
       "                        <td id=\"T_a8891e05_883b_11eb_89b2_704d7b3c13bcrow1_col21\" class=\"data row1 col21\" >5</td>\n",
       "                        <td id=\"T_a8891e05_883b_11eb_89b2_704d7b3c13bcrow1_col22\" class=\"data row1 col22\" >1</td>\n",
       "                        <td id=\"T_a8891e05_883b_11eb_89b2_704d7b3c13bcrow1_col23\" class=\"data row1 col23\" >4</td>\n",
       "                        <td id=\"T_a8891e05_883b_11eb_89b2_704d7b3c13bcrow1_col24\" class=\"data row1 col24\" >2</td>\n",
       "                        <td id=\"T_a8891e05_883b_11eb_89b2_704d7b3c13bcrow1_col25\" class=\"data row1 col25\" >4</td>\n",
       "                        <td id=\"T_a8891e05_883b_11eb_89b2_704d7b3c13bcrow1_col26\" class=\"data row1 col26\" >3.000000</td>\n",
       "                        <td id=\"T_a8891e05_883b_11eb_89b2_704d7b3c13bcrow1_col27\" class=\"data row1 col27\" >2.000000</td>\n",
       "                        <td id=\"T_a8891e05_883b_11eb_89b2_704d7b3c13bcrow1_col28\" class=\"data row1 col28\" >4.000000</td>\n",
       "                        <td id=\"T_a8891e05_883b_11eb_89b2_704d7b3c13bcrow1_col29\" class=\"data row1 col29\" >nan</td>\n",
       "                        <td id=\"T_a8891e05_883b_11eb_89b2_704d7b3c13bcrow1_col30\" class=\"data row1 col30\" >2015-01-02 10:15:44</td>\n",
       "                        <td id=\"T_a8891e05_883b_11eb_89b2_704d7b3c13bcrow1_col31\" class=\"data row1 col31\" >2015-01-05 10:21:05</td>\n",
       "                        <td id=\"T_a8891e05_883b_11eb_89b2_704d7b3c13bcrow1_col32\" class=\"data row1 col32\" >nan</td>\n",
       "                        <td id=\"T_a8891e05_883b_11eb_89b2_704d7b3c13bcrow1_col33\" class=\"data row1 col33\" >2015-01-07 09:45:17</td>\n",
       "                        <td id=\"T_a8891e05_883b_11eb_89b2_704d7b3c13bcrow1_col34\" class=\"data row1 col34\" >2015-01-08 10:09:04</td>\n",
       "                        <td id=\"T_a8891e05_883b_11eb_89b2_704d7b3c13bcrow1_col35\" class=\"data row1 col35\" >2015-01-09 09:43:26</td>\n",
       "                        <td id=\"T_a8891e05_883b_11eb_89b2_704d7b3c13bcrow1_col36\" class=\"data row1 col36\" >2015-01-12 10:00:07</td>\n",
       "                        <td id=\"T_a8891e05_883b_11eb_89b2_704d7b3c13bcrow1_col37\" class=\"data row1 col37\" >2015-01-13 10:43:29</td>\n",
       "                        <td id=\"T_a8891e05_883b_11eb_89b2_704d7b3c13bcrow1_col38\" class=\"data row1 col38\" >nan</td>\n",
       "                        <td id=\"T_a8891e05_883b_11eb_89b2_704d7b3c13bcrow1_col39\" class=\"data row1 col39\" >2015-01-15 09:37:57</td>\n",
       "                        <td id=\"T_a8891e05_883b_11eb_89b2_704d7b3c13bcrow1_col40\" class=\"data row1 col40\" >2015-01-16 09:57:18</td>\n",
       "                        <td id=\"T_a8891e05_883b_11eb_89b2_704d7b3c13bcrow1_col41\" class=\"data row1 col41\" >2015-01-19 10:23:43</td>\n",
       "                        <td id=\"T_a8891e05_883b_11eb_89b2_704d7b3c13bcrow1_col42\" class=\"data row1 col42\" >2015-01-20 09:29:03</td>\n",
       "                        <td id=\"T_a8891e05_883b_11eb_89b2_704d7b3c13bcrow1_col43\" class=\"data row1 col43\" >2015-01-21 09:46:45</td>\n",
       "                        <td id=\"T_a8891e05_883b_11eb_89b2_704d7b3c13bcrow1_col44\" class=\"data row1 col44\" >2015-01-22 10:03:51</td>\n",
       "                        <td id=\"T_a8891e05_883b_11eb_89b2_704d7b3c13bcrow1_col45\" class=\"data row1 col45\" >2015-01-23 09:20:06</td>\n",
       "                        <td id=\"T_a8891e05_883b_11eb_89b2_704d7b3c13bcrow1_col46\" class=\"data row1 col46\" >nan</td>\n",
       "                        <td id=\"T_a8891e05_883b_11eb_89b2_704d7b3c13bcrow1_col47\" class=\"data row1 col47\" >2015-01-27 10:07:48</td>\n",
       "                        <td id=\"T_a8891e05_883b_11eb_89b2_704d7b3c13bcrow1_col48\" class=\"data row1 col48\" >2015-01-28 10:08:25</td>\n",
       "                        <td id=\"T_a8891e05_883b_11eb_89b2_704d7b3c13bcrow1_col49\" class=\"data row1 col49\" >2015-01-29 09:52:04</td>\n",
       "                        <td id=\"T_a8891e05_883b_11eb_89b2_704d7b3c13bcrow1_col50\" class=\"data row1 col50\" >2015-01-30 09:49:49</td>\n",
       "                        <td id=\"T_a8891e05_883b_11eb_89b2_704d7b3c13bcrow1_col51\" class=\"data row1 col51\" >2015-02-02 10:07:26</td>\n",
       "                        <td id=\"T_a8891e05_883b_11eb_89b2_704d7b3c13bcrow1_col52\" class=\"data row1 col52\" >2015-02-03 09:55:45</td>\n",
       "                        <td id=\"T_a8891e05_883b_11eb_89b2_704d7b3c13bcrow1_col53\" class=\"data row1 col53\" >2015-02-04 10:25:41</td>\n",
       "                        <td id=\"T_a8891e05_883b_11eb_89b2_704d7b3c13bcrow1_col54\" class=\"data row1 col54\" >2015-02-05 10:05:11</td>\n",
       "                        <td id=\"T_a8891e05_883b_11eb_89b2_704d7b3c13bcrow1_col55\" class=\"data row1 col55\" >2015-02-06 09:12:39</td>\n",
       "                        <td id=\"T_a8891e05_883b_11eb_89b2_704d7b3c13bcrow1_col56\" class=\"data row1 col56\" >nan</td>\n",
       "                        <td id=\"T_a8891e05_883b_11eb_89b2_704d7b3c13bcrow1_col57\" class=\"data row1 col57\" >2015-02-10 10:10:13</td>\n",
       "                        <td id=\"T_a8891e05_883b_11eb_89b2_704d7b3c13bcrow1_col58\" class=\"data row1 col58\" >2015-02-11 09:40:20</td>\n",
       "                        <td id=\"T_a8891e05_883b_11eb_89b2_704d7b3c13bcrow1_col59\" class=\"data row1 col59\" >2015-02-12 10:10:09</td>\n",
       "                        <td id=\"T_a8891e05_883b_11eb_89b2_704d7b3c13bcrow1_col60\" class=\"data row1 col60\" >2015-02-13 09:35:25</td>\n",
       "                        <td id=\"T_a8891e05_883b_11eb_89b2_704d7b3c13bcrow1_col61\" class=\"data row1 col61\" >2015-02-16 10:04:12</td>\n",
       "                        <td id=\"T_a8891e05_883b_11eb_89b2_704d7b3c13bcrow1_col62\" class=\"data row1 col62\" >2015-02-17 09:45:05</td>\n",
       "                        <td id=\"T_a8891e05_883b_11eb_89b2_704d7b3c13bcrow1_col63\" class=\"data row1 col63\" >2015-02-18 09:54:42</td>\n",
       "                        <td id=\"T_a8891e05_883b_11eb_89b2_704d7b3c13bcrow1_col64\" class=\"data row1 col64\" >2015-02-19 10:11:49</td>\n",
       "                        <td id=\"T_a8891e05_883b_11eb_89b2_704d7b3c13bcrow1_col65\" class=\"data row1 col65\" >2015-02-20 10:06:18</td>\n",
       "                        <td id=\"T_a8891e05_883b_11eb_89b2_704d7b3c13bcrow1_col66\" class=\"data row1 col66\" >2015-02-23 09:41:58</td>\n",
       "                        <td id=\"T_a8891e05_883b_11eb_89b2_704d7b3c13bcrow1_col67\" class=\"data row1 col67\" >2015-02-24 09:44:22</td>\n",
       "                        <td id=\"T_a8891e05_883b_11eb_89b2_704d7b3c13bcrow1_col68\" class=\"data row1 col68\" >2015-02-25 09:58:39</td>\n",
       "                        <td id=\"T_a8891e05_883b_11eb_89b2_704d7b3c13bcrow1_col69\" class=\"data row1 col69\" >2015-02-26 09:59:07</td>\n",
       "                        <td id=\"T_a8891e05_883b_11eb_89b2_704d7b3c13bcrow1_col70\" class=\"data row1 col70\" >2015-02-27 10:31:41</td>\n",
       "                        <td id=\"T_a8891e05_883b_11eb_89b2_704d7b3c13bcrow1_col71\" class=\"data row1 col71\" >2015-03-02 09:55:43</td>\n",
       "                        <td id=\"T_a8891e05_883b_11eb_89b2_704d7b3c13bcrow1_col72\" class=\"data row1 col72\" >2015-03-03 10:31:20</td>\n",
       "                        <td id=\"T_a8891e05_883b_11eb_89b2_704d7b3c13bcrow1_col73\" class=\"data row1 col73\" >2015-03-04 09:56:59</td>\n",
       "                        <td id=\"T_a8891e05_883b_11eb_89b2_704d7b3c13bcrow1_col74\" class=\"data row1 col74\" >nan</td>\n",
       "                        <td id=\"T_a8891e05_883b_11eb_89b2_704d7b3c13bcrow1_col75\" class=\"data row1 col75\" >2015-03-06 10:01:10</td>\n",
       "                        <td id=\"T_a8891e05_883b_11eb_89b2_704d7b3c13bcrow1_col76\" class=\"data row1 col76\" >2015-03-09 10:02:33</td>\n",
       "                        <td id=\"T_a8891e05_883b_11eb_89b2_704d7b3c13bcrow1_col77\" class=\"data row1 col77\" >2015-03-10 09:32:40</td>\n",
       "                        <td id=\"T_a8891e05_883b_11eb_89b2_704d7b3c13bcrow1_col78\" class=\"data row1 col78\" >2015-03-11 09:57:02</td>\n",
       "                        <td id=\"T_a8891e05_883b_11eb_89b2_704d7b3c13bcrow1_col79\" class=\"data row1 col79\" >2015-03-12 09:59:32</td>\n",
       "                        <td id=\"T_a8891e05_883b_11eb_89b2_704d7b3c13bcrow1_col80\" class=\"data row1 col80\" >2015-03-13 09:59:14</td>\n",
       "                        <td id=\"T_a8891e05_883b_11eb_89b2_704d7b3c13bcrow1_col81\" class=\"data row1 col81\" >2015-03-16 09:56:19</td>\n",
       "                        <td id=\"T_a8891e05_883b_11eb_89b2_704d7b3c13bcrow1_col82\" class=\"data row1 col82\" >2015-03-17 09:36:08</td>\n",
       "                        <td id=\"T_a8891e05_883b_11eb_89b2_704d7b3c13bcrow1_col83\" class=\"data row1 col83\" >2015-03-18 10:00:32</td>\n",
       "                        <td id=\"T_a8891e05_883b_11eb_89b2_704d7b3c13bcrow1_col84\" class=\"data row1 col84\" >2015-03-19 09:46:51</td>\n",
       "                        <td id=\"T_a8891e05_883b_11eb_89b2_704d7b3c13bcrow1_col85\" class=\"data row1 col85\" >2015-03-20 10:06:06</td>\n",
       "                        <td id=\"T_a8891e05_883b_11eb_89b2_704d7b3c13bcrow1_col86\" class=\"data row1 col86\" >2015-03-23 10:02:02</td>\n",
       "                        <td id=\"T_a8891e05_883b_11eb_89b2_704d7b3c13bcrow1_col87\" class=\"data row1 col87\" >nan</td>\n",
       "                        <td id=\"T_a8891e05_883b_11eb_89b2_704d7b3c13bcrow1_col88\" class=\"data row1 col88\" >2015-03-25 10:03:04</td>\n",
       "                        <td id=\"T_a8891e05_883b_11eb_89b2_704d7b3c13bcrow1_col89\" class=\"data row1 col89\" >2015-03-26 09:52:38</td>\n",
       "                        <td id=\"T_a8891e05_883b_11eb_89b2_704d7b3c13bcrow1_col90\" class=\"data row1 col90\" >2015-03-27 10:02:55</td>\n",
       "                        <td id=\"T_a8891e05_883b_11eb_89b2_704d7b3c13bcrow1_col91\" class=\"data row1 col91\" >2015-03-30 10:04:24</td>\n",
       "                        <td id=\"T_a8891e05_883b_11eb_89b2_704d7b3c13bcrow1_col92\" class=\"data row1 col92\" >2015-03-31 10:30:25</td>\n",
       "                        <td id=\"T_a8891e05_883b_11eb_89b2_704d7b3c13bcrow1_col93\" class=\"data row1 col93\" >2015-04-01 09:46:24</td>\n",
       "                        <td id=\"T_a8891e05_883b_11eb_89b2_704d7b3c13bcrow1_col94\" class=\"data row1 col94\" >2015-04-02 09:53:55</td>\n",
       "                        <td id=\"T_a8891e05_883b_11eb_89b2_704d7b3c13bcrow1_col95\" class=\"data row1 col95\" >2015-04-03 10:30:21</td>\n",
       "                        <td id=\"T_a8891e05_883b_11eb_89b2_704d7b3c13bcrow1_col96\" class=\"data row1 col96\" >2015-04-06 10:18:14</td>\n",
       "                        <td id=\"T_a8891e05_883b_11eb_89b2_704d7b3c13bcrow1_col97\" class=\"data row1 col97\" >2015-04-07 10:22:22</td>\n",
       "                        <td id=\"T_a8891e05_883b_11eb_89b2_704d7b3c13bcrow1_col98\" class=\"data row1 col98\" >2015-04-08 09:46:42</td>\n",
       "                        <td id=\"T_a8891e05_883b_11eb_89b2_704d7b3c13bcrow1_col99\" class=\"data row1 col99\" >2015-04-09 10:02:22</td>\n",
       "                        <td id=\"T_a8891e05_883b_11eb_89b2_704d7b3c13bcrow1_col100\" class=\"data row1 col100\" >2015-04-10 09:47:56</td>\n",
       "                        <td id=\"T_a8891e05_883b_11eb_89b2_704d7b3c13bcrow1_col101\" class=\"data row1 col101\" >2015-04-13 09:33:46</td>\n",
       "                        <td id=\"T_a8891e05_883b_11eb_89b2_704d7b3c13bcrow1_col102\" class=\"data row1 col102\" >2015-04-14 09:50:19</td>\n",
       "                        <td id=\"T_a8891e05_883b_11eb_89b2_704d7b3c13bcrow1_col103\" class=\"data row1 col103\" >2015-04-15 10:06:41</td>\n",
       "                        <td id=\"T_a8891e05_883b_11eb_89b2_704d7b3c13bcrow1_col104\" class=\"data row1 col104\" >2015-04-16 10:07:24</td>\n",
       "                        <td id=\"T_a8891e05_883b_11eb_89b2_704d7b3c13bcrow1_col105\" class=\"data row1 col105\" >2015-04-17 09:40:35</td>\n",
       "                        <td id=\"T_a8891e05_883b_11eb_89b2_704d7b3c13bcrow1_col106\" class=\"data row1 col106\" >2015-04-20 10:04:05</td>\n",
       "                        <td id=\"T_a8891e05_883b_11eb_89b2_704d7b3c13bcrow1_col107\" class=\"data row1 col107\" >2015-04-21 10:21:53</td>\n",
       "                        <td id=\"T_a8891e05_883b_11eb_89b2_704d7b3c13bcrow1_col108\" class=\"data row1 col108\" >2015-04-22 09:40:33</td>\n",
       "                        <td id=\"T_a8891e05_883b_11eb_89b2_704d7b3c13bcrow1_col109\" class=\"data row1 col109\" >2015-04-23 10:06:54</td>\n",
       "                        <td id=\"T_a8891e05_883b_11eb_89b2_704d7b3c13bcrow1_col110\" class=\"data row1 col110\" >2015-04-24 10:10:19</td>\n",
       "                        <td id=\"T_a8891e05_883b_11eb_89b2_704d7b3c13bcrow1_col111\" class=\"data row1 col111\" >2015-04-27 09:33:44</td>\n",
       "                        <td id=\"T_a8891e05_883b_11eb_89b2_704d7b3c13bcrow1_col112\" class=\"data row1 col112\" >2015-04-28 09:52:51</td>\n",
       "                        <td id=\"T_a8891e05_883b_11eb_89b2_704d7b3c13bcrow1_col113\" class=\"data row1 col113\" >nan</td>\n",
       "                        <td id=\"T_a8891e05_883b_11eb_89b2_704d7b3c13bcrow1_col114\" class=\"data row1 col114\" >2015-04-30 10:14:03</td>\n",
       "                        <td id=\"T_a8891e05_883b_11eb_89b2_704d7b3c13bcrow1_col115\" class=\"data row1 col115\" >nan</td>\n",
       "                        <td id=\"T_a8891e05_883b_11eb_89b2_704d7b3c13bcrow1_col116\" class=\"data row1 col116\" >2015-05-04 09:53:54</td>\n",
       "                        <td id=\"T_a8891e05_883b_11eb_89b2_704d7b3c13bcrow1_col117\" class=\"data row1 col117\" >2015-05-05 10:25:20</td>\n",
       "                        <td id=\"T_a8891e05_883b_11eb_89b2_704d7b3c13bcrow1_col118\" class=\"data row1 col118\" >2015-05-06 09:46:04</td>\n",
       "                        <td id=\"T_a8891e05_883b_11eb_89b2_704d7b3c13bcrow1_col119\" class=\"data row1 col119\" >2015-05-07 09:49:37</td>\n",
       "                        <td id=\"T_a8891e05_883b_11eb_89b2_704d7b3c13bcrow1_col120\" class=\"data row1 col120\" >2015-05-08 09:56:40</td>\n",
       "                        <td id=\"T_a8891e05_883b_11eb_89b2_704d7b3c13bcrow1_col121\" class=\"data row1 col121\" >2015-05-11 09:58:30</td>\n",
       "                        <td id=\"T_a8891e05_883b_11eb_89b2_704d7b3c13bcrow1_col122\" class=\"data row1 col122\" >2015-05-12 09:44:55</td>\n",
       "                        <td id=\"T_a8891e05_883b_11eb_89b2_704d7b3c13bcrow1_col123\" class=\"data row1 col123\" >2015-05-13 10:06:35</td>\n",
       "                        <td id=\"T_a8891e05_883b_11eb_89b2_704d7b3c13bcrow1_col124\" class=\"data row1 col124\" >nan</td>\n",
       "                        <td id=\"T_a8891e05_883b_11eb_89b2_704d7b3c13bcrow1_col125\" class=\"data row1 col125\" >2015-05-15 09:43:03</td>\n",
       "                        <td id=\"T_a8891e05_883b_11eb_89b2_704d7b3c13bcrow1_col126\" class=\"data row1 col126\" >nan</td>\n",
       "                        <td id=\"T_a8891e05_883b_11eb_89b2_704d7b3c13bcrow1_col127\" class=\"data row1 col127\" >2015-05-19 09:48:05</td>\n",
       "                        <td id=\"T_a8891e05_883b_11eb_89b2_704d7b3c13bcrow1_col128\" class=\"data row1 col128\" >2015-05-20 10:18:00</td>\n",
       "                        <td id=\"T_a8891e05_883b_11eb_89b2_704d7b3c13bcrow1_col129\" class=\"data row1 col129\" >2015-05-21 09:42:47</td>\n",
       "                        <td id=\"T_a8891e05_883b_11eb_89b2_704d7b3c13bcrow1_col130\" class=\"data row1 col130\" >2015-05-22 10:37:50</td>\n",
       "                        <td id=\"T_a8891e05_883b_11eb_89b2_704d7b3c13bcrow1_col131\" class=\"data row1 col131\" >2015-05-25 09:46:03</td>\n",
       "                        <td id=\"T_a8891e05_883b_11eb_89b2_704d7b3c13bcrow1_col132\" class=\"data row1 col132\" >2015-05-26 09:42:16</td>\n",
       "                        <td id=\"T_a8891e05_883b_11eb_89b2_704d7b3c13bcrow1_col133\" class=\"data row1 col133\" >2015-05-27 09:53:20</td>\n",
       "                        <td id=\"T_a8891e05_883b_11eb_89b2_704d7b3c13bcrow1_col134\" class=\"data row1 col134\" >2015-05-28 09:54:58</td>\n",
       "                        <td id=\"T_a8891e05_883b_11eb_89b2_704d7b3c13bcrow1_col135\" class=\"data row1 col135\" >2015-05-29 09:52:45</td>\n",
       "                        <td id=\"T_a8891e05_883b_11eb_89b2_704d7b3c13bcrow1_col136\" class=\"data row1 col136\" >2015-06-01 09:54:45</td>\n",
       "                        <td id=\"T_a8891e05_883b_11eb_89b2_704d7b3c13bcrow1_col137\" class=\"data row1 col137\" >2015-06-02 09:57:56</td>\n",
       "                        <td id=\"T_a8891e05_883b_11eb_89b2_704d7b3c13bcrow1_col138\" class=\"data row1 col138\" >2015-06-03 10:10:48</td>\n",
       "                        <td id=\"T_a8891e05_883b_11eb_89b2_704d7b3c13bcrow1_col139\" class=\"data row1 col139\" >2015-06-04 09:31:48</td>\n",
       "                        <td id=\"T_a8891e05_883b_11eb_89b2_704d7b3c13bcrow1_col140\" class=\"data row1 col140\" >2015-06-05 10:06:28</td>\n",
       "                        <td id=\"T_a8891e05_883b_11eb_89b2_704d7b3c13bcrow1_col141\" class=\"data row1 col141\" >2015-06-08 09:45:19</td>\n",
       "                        <td id=\"T_a8891e05_883b_11eb_89b2_704d7b3c13bcrow1_col142\" class=\"data row1 col142\" >2015-06-09 09:59:08</td>\n",
       "                        <td id=\"T_a8891e05_883b_11eb_89b2_704d7b3c13bcrow1_col143\" class=\"data row1 col143\" >2015-06-10 09:39:05</td>\n",
       "                        <td id=\"T_a8891e05_883b_11eb_89b2_704d7b3c13bcrow1_col144\" class=\"data row1 col144\" >2015-06-11 09:55:03</td>\n",
       "                        <td id=\"T_a8891e05_883b_11eb_89b2_704d7b3c13bcrow1_col145\" class=\"data row1 col145\" >nan</td>\n",
       "                        <td id=\"T_a8891e05_883b_11eb_89b2_704d7b3c13bcrow1_col146\" class=\"data row1 col146\" >2015-06-15 09:45:02</td>\n",
       "                        <td id=\"T_a8891e05_883b_11eb_89b2_704d7b3c13bcrow1_col147\" class=\"data row1 col147\" >2015-06-16 10:15:23</td>\n",
       "                        <td id=\"T_a8891e05_883b_11eb_89b2_704d7b3c13bcrow1_col148\" class=\"data row1 col148\" >2015-06-17 09:52:23</td>\n",
       "                        <td id=\"T_a8891e05_883b_11eb_89b2_704d7b3c13bcrow1_col149\" class=\"data row1 col149\" >2015-06-18 09:55:27</td>\n",
       "                        <td id=\"T_a8891e05_883b_11eb_89b2_704d7b3c13bcrow1_col150\" class=\"data row1 col150\" >2015-06-19 10:13:33</td>\n",
       "                        <td id=\"T_a8891e05_883b_11eb_89b2_704d7b3c13bcrow1_col151\" class=\"data row1 col151\" >2015-06-22 09:48:24</td>\n",
       "                        <td id=\"T_a8891e05_883b_11eb_89b2_704d7b3c13bcrow1_col152\" class=\"data row1 col152\" >2015-06-23 09:59:12</td>\n",
       "                        <td id=\"T_a8891e05_883b_11eb_89b2_704d7b3c13bcrow1_col153\" class=\"data row1 col153\" >2015-06-24 10:27:17</td>\n",
       "                        <td id=\"T_a8891e05_883b_11eb_89b2_704d7b3c13bcrow1_col154\" class=\"data row1 col154\" >2015-06-25 10:12:33</td>\n",
       "                        <td id=\"T_a8891e05_883b_11eb_89b2_704d7b3c13bcrow1_col155\" class=\"data row1 col155\" >2015-06-26 09:55:00</td>\n",
       "                        <td id=\"T_a8891e05_883b_11eb_89b2_704d7b3c13bcrow1_col156\" class=\"data row1 col156\" >2015-06-29 10:02:27</td>\n",
       "                        <td id=\"T_a8891e05_883b_11eb_89b2_704d7b3c13bcrow1_col157\" class=\"data row1 col157\" >2015-06-30 10:13:31</td>\n",
       "                        <td id=\"T_a8891e05_883b_11eb_89b2_704d7b3c13bcrow1_col158\" class=\"data row1 col158\" >2015-07-01 09:45:31</td>\n",
       "                        <td id=\"T_a8891e05_883b_11eb_89b2_704d7b3c13bcrow1_col159\" class=\"data row1 col159\" >2015-07-02 10:04:21</td>\n",
       "                        <td id=\"T_a8891e05_883b_11eb_89b2_704d7b3c13bcrow1_col160\" class=\"data row1 col160\" >2015-07-03 10:00:01</td>\n",
       "                        <td id=\"T_a8891e05_883b_11eb_89b2_704d7b3c13bcrow1_col161\" class=\"data row1 col161\" >2015-07-06 10:10:37</td>\n",
       "                        <td id=\"T_a8891e05_883b_11eb_89b2_704d7b3c13bcrow1_col162\" class=\"data row1 col162\" >2015-07-07 10:29:29</td>\n",
       "                        <td id=\"T_a8891e05_883b_11eb_89b2_704d7b3c13bcrow1_col163\" class=\"data row1 col163\" >2015-07-08 09:38:19</td>\n",
       "                        <td id=\"T_a8891e05_883b_11eb_89b2_704d7b3c13bcrow1_col164\" class=\"data row1 col164\" >2015-07-09 10:21:59</td>\n",
       "                        <td id=\"T_a8891e05_883b_11eb_89b2_704d7b3c13bcrow1_col165\" class=\"data row1 col165\" >2015-07-10 10:30:44</td>\n",
       "                        <td id=\"T_a8891e05_883b_11eb_89b2_704d7b3c13bcrow1_col166\" class=\"data row1 col166\" >nan</td>\n",
       "                        <td id=\"T_a8891e05_883b_11eb_89b2_704d7b3c13bcrow1_col167\" class=\"data row1 col167\" >2015-07-14 10:35:52</td>\n",
       "                        <td id=\"T_a8891e05_883b_11eb_89b2_704d7b3c13bcrow1_col168\" class=\"data row1 col168\" >2015-07-15 09:47:06</td>\n",
       "                        <td id=\"T_a8891e05_883b_11eb_89b2_704d7b3c13bcrow1_col169\" class=\"data row1 col169\" >2015-07-16 09:59:13</td>\n",
       "                        <td id=\"T_a8891e05_883b_11eb_89b2_704d7b3c13bcrow1_col170\" class=\"data row1 col170\" >nan</td>\n",
       "                        <td id=\"T_a8891e05_883b_11eb_89b2_704d7b3c13bcrow1_col171\" class=\"data row1 col171\" >2015-07-20 10:18:08</td>\n",
       "                        <td id=\"T_a8891e05_883b_11eb_89b2_704d7b3c13bcrow1_col172\" class=\"data row1 col172\" >2015-07-21 10:23:11</td>\n",
       "                        <td id=\"T_a8891e05_883b_11eb_89b2_704d7b3c13bcrow1_col173\" class=\"data row1 col173\" >2015-07-22 09:32:15</td>\n",
       "                        <td id=\"T_a8891e05_883b_11eb_89b2_704d7b3c13bcrow1_col174\" class=\"data row1 col174\" >2015-07-23 09:40:12</td>\n",
       "                        <td id=\"T_a8891e05_883b_11eb_89b2_704d7b3c13bcrow1_col175\" class=\"data row1 col175\" >2015-07-24 10:15:22</td>\n",
       "                        <td id=\"T_a8891e05_883b_11eb_89b2_704d7b3c13bcrow1_col176\" class=\"data row1 col176\" >nan</td>\n",
       "                        <td id=\"T_a8891e05_883b_11eb_89b2_704d7b3c13bcrow1_col177\" class=\"data row1 col177\" >2015-07-28 10:16:14</td>\n",
       "                        <td id=\"T_a8891e05_883b_11eb_89b2_704d7b3c13bcrow1_col178\" class=\"data row1 col178\" >2015-07-29 09:58:33</td>\n",
       "                        <td id=\"T_a8891e05_883b_11eb_89b2_704d7b3c13bcrow1_col179\" class=\"data row1 col179\" >2015-07-30 09:57:10</td>\n",
       "                        <td id=\"T_a8891e05_883b_11eb_89b2_704d7b3c13bcrow1_col180\" class=\"data row1 col180\" >2015-07-31 10:15:38</td>\n",
       "                        <td id=\"T_a8891e05_883b_11eb_89b2_704d7b3c13bcrow1_col181\" class=\"data row1 col181\" >2015-08-03 09:58:28</td>\n",
       "                        <td id=\"T_a8891e05_883b_11eb_89b2_704d7b3c13bcrow1_col182\" class=\"data row1 col182\" >2015-08-04 10:17:10</td>\n",
       "                        <td id=\"T_a8891e05_883b_11eb_89b2_704d7b3c13bcrow1_col183\" class=\"data row1 col183\" >2015-08-05 09:38:46</td>\n",
       "                        <td id=\"T_a8891e05_883b_11eb_89b2_704d7b3c13bcrow1_col184\" class=\"data row1 col184\" >2015-08-06 10:16:03</td>\n",
       "                        <td id=\"T_a8891e05_883b_11eb_89b2_704d7b3c13bcrow1_col185\" class=\"data row1 col185\" >2015-08-07 09:52:22</td>\n",
       "                        <td id=\"T_a8891e05_883b_11eb_89b2_704d7b3c13bcrow1_col186\" class=\"data row1 col186\" >2015-08-10 09:37:38</td>\n",
       "                        <td id=\"T_a8891e05_883b_11eb_89b2_704d7b3c13bcrow1_col187\" class=\"data row1 col187\" >2015-08-11 09:54:35</td>\n",
       "                        <td id=\"T_a8891e05_883b_11eb_89b2_704d7b3c13bcrow1_col188\" class=\"data row1 col188\" >2015-08-12 09:27:52</td>\n",
       "                        <td id=\"T_a8891e05_883b_11eb_89b2_704d7b3c13bcrow1_col189\" class=\"data row1 col189\" >2015-08-13 09:50:57</td>\n",
       "                        <td id=\"T_a8891e05_883b_11eb_89b2_704d7b3c13bcrow1_col190\" class=\"data row1 col190\" >2015-08-14 09:38:27</td>\n",
       "                        <td id=\"T_a8891e05_883b_11eb_89b2_704d7b3c13bcrow1_col191\" class=\"data row1 col191\" >2015-08-17 09:52:16</td>\n",
       "                        <td id=\"T_a8891e05_883b_11eb_89b2_704d7b3c13bcrow1_col192\" class=\"data row1 col192\" >2015-08-18 09:34:06</td>\n",
       "                        <td id=\"T_a8891e05_883b_11eb_89b2_704d7b3c13bcrow1_col193\" class=\"data row1 col193\" >2015-08-19 09:43:02</td>\n",
       "                        <td id=\"T_a8891e05_883b_11eb_89b2_704d7b3c13bcrow1_col194\" class=\"data row1 col194\" >2015-08-20 10:16:38</td>\n",
       "                        <td id=\"T_a8891e05_883b_11eb_89b2_704d7b3c13bcrow1_col195\" class=\"data row1 col195\" >2015-08-21 10:07:18</td>\n",
       "                        <td id=\"T_a8891e05_883b_11eb_89b2_704d7b3c13bcrow1_col196\" class=\"data row1 col196\" >2015-08-24 09:36:46</td>\n",
       "                        <td id=\"T_a8891e05_883b_11eb_89b2_704d7b3c13bcrow1_col197\" class=\"data row1 col197\" >2015-08-25 09:42:22</td>\n",
       "                        <td id=\"T_a8891e05_883b_11eb_89b2_704d7b3c13bcrow1_col198\" class=\"data row1 col198\" >2015-08-26 10:15:22</td>\n",
       "                        <td id=\"T_a8891e05_883b_11eb_89b2_704d7b3c13bcrow1_col199\" class=\"data row1 col199\" >2015-08-27 10:11:04</td>\n",
       "                        <td id=\"T_a8891e05_883b_11eb_89b2_704d7b3c13bcrow1_col200\" class=\"data row1 col200\" >2015-08-28 09:50:51</td>\n",
       "                        <td id=\"T_a8891e05_883b_11eb_89b2_704d7b3c13bcrow1_col201\" class=\"data row1 col201\" >2015-08-31 10:23:10</td>\n",
       "                        <td id=\"T_a8891e05_883b_11eb_89b2_704d7b3c13bcrow1_col202\" class=\"data row1 col202\" >2015-09-01 10:23:47</td>\n",
       "                        <td id=\"T_a8891e05_883b_11eb_89b2_704d7b3c13bcrow1_col203\" class=\"data row1 col203\" >2015-09-02 09:57:01</td>\n",
       "                        <td id=\"T_a8891e05_883b_11eb_89b2_704d7b3c13bcrow1_col204\" class=\"data row1 col204\" >2015-09-03 09:56:07</td>\n",
       "                        <td id=\"T_a8891e05_883b_11eb_89b2_704d7b3c13bcrow1_col205\" class=\"data row1 col205\" >2015-09-04 10:33:03</td>\n",
       "                        <td id=\"T_a8891e05_883b_11eb_89b2_704d7b3c13bcrow1_col206\" class=\"data row1 col206\" >2015-09-07 09:58:33</td>\n",
       "                        <td id=\"T_a8891e05_883b_11eb_89b2_704d7b3c13bcrow1_col207\" class=\"data row1 col207\" >nan</td>\n",
       "                        <td id=\"T_a8891e05_883b_11eb_89b2_704d7b3c13bcrow1_col208\" class=\"data row1 col208\" >2015-09-09 10:17:43</td>\n",
       "                        <td id=\"T_a8891e05_883b_11eb_89b2_704d7b3c13bcrow1_col209\" class=\"data row1 col209\" >2015-09-10 10:28:40</td>\n",
       "                        <td id=\"T_a8891e05_883b_11eb_89b2_704d7b3c13bcrow1_col210\" class=\"data row1 col210\" >2015-09-11 09:58:20</td>\n",
       "                        <td id=\"T_a8891e05_883b_11eb_89b2_704d7b3c13bcrow1_col211\" class=\"data row1 col211\" >2015-09-14 09:43:25</td>\n",
       "                        <td id=\"T_a8891e05_883b_11eb_89b2_704d7b3c13bcrow1_col212\" class=\"data row1 col212\" >2015-09-15 09:25:53</td>\n",
       "                        <td id=\"T_a8891e05_883b_11eb_89b2_704d7b3c13bcrow1_col213\" class=\"data row1 col213\" >2015-09-16 09:26:29</td>\n",
       "                        <td id=\"T_a8891e05_883b_11eb_89b2_704d7b3c13bcrow1_col214\" class=\"data row1 col214\" >nan</td>\n",
       "                        <td id=\"T_a8891e05_883b_11eb_89b2_704d7b3c13bcrow1_col215\" class=\"data row1 col215\" >2015-09-18 10:27:07</td>\n",
       "                        <td id=\"T_a8891e05_883b_11eb_89b2_704d7b3c13bcrow1_col216\" class=\"data row1 col216\" >2015-09-21 10:03:31</td>\n",
       "                        <td id=\"T_a8891e05_883b_11eb_89b2_704d7b3c13bcrow1_col217\" class=\"data row1 col217\" >2015-09-22 09:35:23</td>\n",
       "                        <td id=\"T_a8891e05_883b_11eb_89b2_704d7b3c13bcrow1_col218\" class=\"data row1 col218\" >2015-09-23 10:12:56</td>\n",
       "                        <td id=\"T_a8891e05_883b_11eb_89b2_704d7b3c13bcrow1_col219\" class=\"data row1 col219\" >2015-09-24 10:02:52</td>\n",
       "                        <td id=\"T_a8891e05_883b_11eb_89b2_704d7b3c13bcrow1_col220\" class=\"data row1 col220\" >2015-09-25 09:37:12</td>\n",
       "                        <td id=\"T_a8891e05_883b_11eb_89b2_704d7b3c13bcrow1_col221\" class=\"data row1 col221\" >2015-09-28 10:11:06</td>\n",
       "                        <td id=\"T_a8891e05_883b_11eb_89b2_704d7b3c13bcrow1_col222\" class=\"data row1 col222\" >2015-09-29 10:00:31</td>\n",
       "                        <td id=\"T_a8891e05_883b_11eb_89b2_704d7b3c13bcrow1_col223\" class=\"data row1 col223\" >2015-09-30 10:22:56</td>\n",
       "                        <td id=\"T_a8891e05_883b_11eb_89b2_704d7b3c13bcrow1_col224\" class=\"data row1 col224\" >2015-10-01 10:08:29</td>\n",
       "                        <td id=\"T_a8891e05_883b_11eb_89b2_704d7b3c13bcrow1_col225\" class=\"data row1 col225\" >nan</td>\n",
       "                        <td id=\"T_a8891e05_883b_11eb_89b2_704d7b3c13bcrow1_col226\" class=\"data row1 col226\" >2015-10-05 10:02:26</td>\n",
       "                        <td id=\"T_a8891e05_883b_11eb_89b2_704d7b3c13bcrow1_col227\" class=\"data row1 col227\" >2015-10-06 10:08:57</td>\n",
       "                        <td id=\"T_a8891e05_883b_11eb_89b2_704d7b3c13bcrow1_col228\" class=\"data row1 col228\" >2015-10-07 10:10:19</td>\n",
       "                        <td id=\"T_a8891e05_883b_11eb_89b2_704d7b3c13bcrow1_col229\" class=\"data row1 col229\" >2015-10-08 10:04:03</td>\n",
       "                        <td id=\"T_a8891e05_883b_11eb_89b2_704d7b3c13bcrow1_col230\" class=\"data row1 col230\" >2015-10-09 09:40:41</td>\n",
       "                        <td id=\"T_a8891e05_883b_11eb_89b2_704d7b3c13bcrow1_col231\" class=\"data row1 col231\" >2015-10-12 10:11:30</td>\n",
       "                        <td id=\"T_a8891e05_883b_11eb_89b2_704d7b3c13bcrow1_col232\" class=\"data row1 col232\" >2015-10-13 10:14:39</td>\n",
       "                        <td id=\"T_a8891e05_883b_11eb_89b2_704d7b3c13bcrow1_col233\" class=\"data row1 col233\" >2015-10-14 10:10:48</td>\n",
       "                        <td id=\"T_a8891e05_883b_11eb_89b2_704d7b3c13bcrow1_col234\" class=\"data row1 col234\" >nan</td>\n",
       "                        <td id=\"T_a8891e05_883b_11eb_89b2_704d7b3c13bcrow1_col235\" class=\"data row1 col235\" >2015-10-16 10:20:19</td>\n",
       "                        <td id=\"T_a8891e05_883b_11eb_89b2_704d7b3c13bcrow1_col236\" class=\"data row1 col236\" >2015-10-19 10:04:13</td>\n",
       "                        <td id=\"T_a8891e05_883b_11eb_89b2_704d7b3c13bcrow1_col237\" class=\"data row1 col237\" >2015-10-20 09:39:10</td>\n",
       "                        <td id=\"T_a8891e05_883b_11eb_89b2_704d7b3c13bcrow1_col238\" class=\"data row1 col238\" >2015-10-21 09:47:15</td>\n",
       "                        <td id=\"T_a8891e05_883b_11eb_89b2_704d7b3c13bcrow1_col239\" class=\"data row1 col239\" >2015-10-22 09:56:54</td>\n",
       "                        <td id=\"T_a8891e05_883b_11eb_89b2_704d7b3c13bcrow1_col240\" class=\"data row1 col240\" >2015-10-23 09:53:38</td>\n",
       "                        <td id=\"T_a8891e05_883b_11eb_89b2_704d7b3c13bcrow1_col241\" class=\"data row1 col241\" >2015-10-26 09:49:43</td>\n",
       "                        <td id=\"T_a8891e05_883b_11eb_89b2_704d7b3c13bcrow1_col242\" class=\"data row1 col242\" >2015-10-27 10:29:20</td>\n",
       "                        <td id=\"T_a8891e05_883b_11eb_89b2_704d7b3c13bcrow1_col243\" class=\"data row1 col243\" >2015-10-28 09:47:39</td>\n",
       "                        <td id=\"T_a8891e05_883b_11eb_89b2_704d7b3c13bcrow1_col244\" class=\"data row1 col244\" >2015-10-29 09:52:02</td>\n",
       "                        <td id=\"T_a8891e05_883b_11eb_89b2_704d7b3c13bcrow1_col245\" class=\"data row1 col245\" >2015-10-30 09:47:37</td>\n",
       "                        <td id=\"T_a8891e05_883b_11eb_89b2_704d7b3c13bcrow1_col246\" class=\"data row1 col246\" >2015-11-02 10:04:45</td>\n",
       "                        <td id=\"T_a8891e05_883b_11eb_89b2_704d7b3c13bcrow1_col247\" class=\"data row1 col247\" >2015-11-03 09:36:03</td>\n",
       "                        <td id=\"T_a8891e05_883b_11eb_89b2_704d7b3c13bcrow1_col248\" class=\"data row1 col248\" >2015-11-04 09:58:34</td>\n",
       "                        <td id=\"T_a8891e05_883b_11eb_89b2_704d7b3c13bcrow1_col249\" class=\"data row1 col249\" >2015-11-05 09:50:08</td>\n",
       "                        <td id=\"T_a8891e05_883b_11eb_89b2_704d7b3c13bcrow1_col250\" class=\"data row1 col250\" >2015-11-06 10:02:38</td>\n",
       "                        <td id=\"T_a8891e05_883b_11eb_89b2_704d7b3c13bcrow1_col251\" class=\"data row1 col251\" >nan</td>\n",
       "                        <td id=\"T_a8891e05_883b_11eb_89b2_704d7b3c13bcrow1_col252\" class=\"data row1 col252\" >nan</td>\n",
       "                        <td id=\"T_a8891e05_883b_11eb_89b2_704d7b3c13bcrow1_col253\" class=\"data row1 col253\" >nan</td>\n",
       "                        <td id=\"T_a8891e05_883b_11eb_89b2_704d7b3c13bcrow1_col254\" class=\"data row1 col254\" >2015-11-12 09:54:47</td>\n",
       "                        <td id=\"T_a8891e05_883b_11eb_89b2_704d7b3c13bcrow1_col255\" class=\"data row1 col255\" >2015-11-13 09:26:10</td>\n",
       "                        <td id=\"T_a8891e05_883b_11eb_89b2_704d7b3c13bcrow1_col256\" class=\"data row1 col256\" >2015-11-16 10:22:00</td>\n",
       "                        <td id=\"T_a8891e05_883b_11eb_89b2_704d7b3c13bcrow1_col257\" class=\"data row1 col257\" >2015-11-17 09:26:04</td>\n",
       "                        <td id=\"T_a8891e05_883b_11eb_89b2_704d7b3c13bcrow1_col258\" class=\"data row1 col258\" >2015-11-18 10:10:39</td>\n",
       "                        <td id=\"T_a8891e05_883b_11eb_89b2_704d7b3c13bcrow1_col259\" class=\"data row1 col259\" >nan</td>\n",
       "                        <td id=\"T_a8891e05_883b_11eb_89b2_704d7b3c13bcrow1_col260\" class=\"data row1 col260\" >2015-11-20 10:01:09</td>\n",
       "                        <td id=\"T_a8891e05_883b_11eb_89b2_704d7b3c13bcrow1_col261\" class=\"data row1 col261\" >2015-11-23 09:51:11</td>\n",
       "                        <td id=\"T_a8891e05_883b_11eb_89b2_704d7b3c13bcrow1_col262\" class=\"data row1 col262\" >2015-11-24 09:19:04</td>\n",
       "                        <td id=\"T_a8891e05_883b_11eb_89b2_704d7b3c13bcrow1_col263\" class=\"data row1 col263\" >2015-11-25 09:43:44</td>\n",
       "                        <td id=\"T_a8891e05_883b_11eb_89b2_704d7b3c13bcrow1_col264\" class=\"data row1 col264\" >2015-11-26 10:34:30</td>\n",
       "                        <td id=\"T_a8891e05_883b_11eb_89b2_704d7b3c13bcrow1_col265\" class=\"data row1 col265\" >2015-11-27 10:15:10</td>\n",
       "                        <td id=\"T_a8891e05_883b_11eb_89b2_704d7b3c13bcrow1_col266\" class=\"data row1 col266\" >2015-11-30 09:46:46</td>\n",
       "                        <td id=\"T_a8891e05_883b_11eb_89b2_704d7b3c13bcrow1_col267\" class=\"data row1 col267\" >2015-12-01 09:56:22</td>\n",
       "                        <td id=\"T_a8891e05_883b_11eb_89b2_704d7b3c13bcrow1_col268\" class=\"data row1 col268\" >2015-12-02 09:55:43</td>\n",
       "                        <td id=\"T_a8891e05_883b_11eb_89b2_704d7b3c13bcrow1_col269\" class=\"data row1 col269\" >2015-12-03 10:05:37</td>\n",
       "                        <td id=\"T_a8891e05_883b_11eb_89b2_704d7b3c13bcrow1_col270\" class=\"data row1 col270\" >2015-12-04 10:02:05</td>\n",
       "                        <td id=\"T_a8891e05_883b_11eb_89b2_704d7b3c13bcrow1_col271\" class=\"data row1 col271\" >2015-12-07 09:36:05</td>\n",
       "                        <td id=\"T_a8891e05_883b_11eb_89b2_704d7b3c13bcrow1_col272\" class=\"data row1 col272\" >2015-12-08 10:01:21</td>\n",
       "                        <td id=\"T_a8891e05_883b_11eb_89b2_704d7b3c13bcrow1_col273\" class=\"data row1 col273\" >2015-12-09 09:49:23</td>\n",
       "                        <td id=\"T_a8891e05_883b_11eb_89b2_704d7b3c13bcrow1_col274\" class=\"data row1 col274\" >2015-12-10 10:06:05</td>\n",
       "                        <td id=\"T_a8891e05_883b_11eb_89b2_704d7b3c13bcrow1_col275\" class=\"data row1 col275\" >2015-12-11 10:15:18</td>\n",
       "                        <td id=\"T_a8891e05_883b_11eb_89b2_704d7b3c13bcrow1_col276\" class=\"data row1 col276\" >2015-12-14 10:00:01</td>\n",
       "                        <td id=\"T_a8891e05_883b_11eb_89b2_704d7b3c13bcrow1_col277\" class=\"data row1 col277\" >2015-12-15 10:30:18</td>\n",
       "                        <td id=\"T_a8891e05_883b_11eb_89b2_704d7b3c13bcrow1_col278\" class=\"data row1 col278\" >2015-12-16 10:01:18</td>\n",
       "                        <td id=\"T_a8891e05_883b_11eb_89b2_704d7b3c13bcrow1_col279\" class=\"data row1 col279\" >2015-12-17 09:15:08</td>\n",
       "                        <td id=\"T_a8891e05_883b_11eb_89b2_704d7b3c13bcrow1_col280\" class=\"data row1 col280\" >2015-12-18 10:37:17</td>\n",
       "                        <td id=\"T_a8891e05_883b_11eb_89b2_704d7b3c13bcrow1_col281\" class=\"data row1 col281\" >2015-12-21 09:49:02</td>\n",
       "                        <td id=\"T_a8891e05_883b_11eb_89b2_704d7b3c13bcrow1_col282\" class=\"data row1 col282\" >2015-12-22 10:33:51</td>\n",
       "                        <td id=\"T_a8891e05_883b_11eb_89b2_704d7b3c13bcrow1_col283\" class=\"data row1 col283\" >2015-12-23 10:12:10</td>\n",
       "                        <td id=\"T_a8891e05_883b_11eb_89b2_704d7b3c13bcrow1_col284\" class=\"data row1 col284\" >nan</td>\n",
       "                        <td id=\"T_a8891e05_883b_11eb_89b2_704d7b3c13bcrow1_col285\" class=\"data row1 col285\" >nan</td>\n",
       "                        <td id=\"T_a8891e05_883b_11eb_89b2_704d7b3c13bcrow1_col286\" class=\"data row1 col286\" >2015-12-28 09:31:45</td>\n",
       "                        <td id=\"T_a8891e05_883b_11eb_89b2_704d7b3c13bcrow1_col287\" class=\"data row1 col287\" >2015-12-29 09:55:49</td>\n",
       "                        <td id=\"T_a8891e05_883b_11eb_89b2_704d7b3c13bcrow1_col288\" class=\"data row1 col288\" >2015-12-30 10:32:25</td>\n",
       "                        <td id=\"T_a8891e05_883b_11eb_89b2_704d7b3c13bcrow1_col289\" class=\"data row1 col289\" >2015-12-31 09:27:20</td>\n",
       "                        <td id=\"T_a8891e05_883b_11eb_89b2_704d7b3c13bcrow1_col290\" class=\"data row1 col290\" >nan</td>\n",
       "                        <td id=\"T_a8891e05_883b_11eb_89b2_704d7b3c13bcrow1_col291\" class=\"data row1 col291\" >2015-01-02 18:22:17</td>\n",
       "                        <td id=\"T_a8891e05_883b_11eb_89b2_704d7b3c13bcrow1_col292\" class=\"data row1 col292\" >2015-01-05 17:48:22</td>\n",
       "                        <td id=\"T_a8891e05_883b_11eb_89b2_704d7b3c13bcrow1_col293\" class=\"data row1 col293\" >nan</td>\n",
       "                        <td id=\"T_a8891e05_883b_11eb_89b2_704d7b3c13bcrow1_col294\" class=\"data row1 col294\" >2015-01-07 17:09:06</td>\n",
       "                        <td id=\"T_a8891e05_883b_11eb_89b2_704d7b3c13bcrow1_col295\" class=\"data row1 col295\" >2015-01-08 17:34:04</td>\n",
       "                        <td id=\"T_a8891e05_883b_11eb_89b2_704d7b3c13bcrow1_col296\" class=\"data row1 col296\" >2015-01-09 16:52:29</td>\n",
       "                        <td id=\"T_a8891e05_883b_11eb_89b2_704d7b3c13bcrow1_col297\" class=\"data row1 col297\" >2015-01-12 17:36:48</td>\n",
       "                        <td id=\"T_a8891e05_883b_11eb_89b2_704d7b3c13bcrow1_col298\" class=\"data row1 col298\" >2015-01-13 18:00:13</td>\n",
       "                        <td id=\"T_a8891e05_883b_11eb_89b2_704d7b3c13bcrow1_col299\" class=\"data row1 col299\" >nan</td>\n",
       "                        <td id=\"T_a8891e05_883b_11eb_89b2_704d7b3c13bcrow1_col300\" class=\"data row1 col300\" >2015-01-15 17:14:44</td>\n",
       "                        <td id=\"T_a8891e05_883b_11eb_89b2_704d7b3c13bcrow1_col301\" class=\"data row1 col301\" >2015-01-16 17:40:57</td>\n",
       "                        <td id=\"T_a8891e05_883b_11eb_89b2_704d7b3c13bcrow1_col302\" class=\"data row1 col302\" >2015-01-19 17:58:22</td>\n",
       "                        <td id=\"T_a8891e05_883b_11eb_89b2_704d7b3c13bcrow1_col303\" class=\"data row1 col303\" >2015-01-20 17:05:13</td>\n",
       "                        <td id=\"T_a8891e05_883b_11eb_89b2_704d7b3c13bcrow1_col304\" class=\"data row1 col304\" >2015-01-21 17:41:05</td>\n",
       "                        <td id=\"T_a8891e05_883b_11eb_89b2_704d7b3c13bcrow1_col305\" class=\"data row1 col305\" >2015-01-22 17:26:26</td>\n",
       "                        <td id=\"T_a8891e05_883b_11eb_89b2_704d7b3c13bcrow1_col306\" class=\"data row1 col306\" >2015-01-23 17:06:50</td>\n",
       "                        <td id=\"T_a8891e05_883b_11eb_89b2_704d7b3c13bcrow1_col307\" class=\"data row1 col307\" >nan</td>\n",
       "                        <td id=\"T_a8891e05_883b_11eb_89b2_704d7b3c13bcrow1_col308\" class=\"data row1 col308\" >2015-01-27 17:35:50</td>\n",
       "                        <td id=\"T_a8891e05_883b_11eb_89b2_704d7b3c13bcrow1_col309\" class=\"data row1 col309\" >2015-01-28 17:19:48</td>\n",
       "                        <td id=\"T_a8891e05_883b_11eb_89b2_704d7b3c13bcrow1_col310\" class=\"data row1 col310\" >2015-01-29 17:07:38</td>\n",
       "                        <td id=\"T_a8891e05_883b_11eb_89b2_704d7b3c13bcrow1_col311\" class=\"data row1 col311\" >2015-01-30 16:53:22</td>\n",
       "                        <td id=\"T_a8891e05_883b_11eb_89b2_704d7b3c13bcrow1_col312\" class=\"data row1 col312\" >2015-02-02 17:45:18</td>\n",
       "                        <td id=\"T_a8891e05_883b_11eb_89b2_704d7b3c13bcrow1_col313\" class=\"data row1 col313\" >2015-02-03 17:33:42</td>\n",
       "                        <td id=\"T_a8891e05_883b_11eb_89b2_704d7b3c13bcrow1_col314\" class=\"data row1 col314\" >2015-02-04 18:04:20</td>\n",
       "                        <td id=\"T_a8891e05_883b_11eb_89b2_704d7b3c13bcrow1_col315\" class=\"data row1 col315\" >2015-02-05 17:43:25</td>\n",
       "                        <td id=\"T_a8891e05_883b_11eb_89b2_704d7b3c13bcrow1_col316\" class=\"data row1 col316\" >2015-02-06 17:06:42</td>\n",
       "                        <td id=\"T_a8891e05_883b_11eb_89b2_704d7b3c13bcrow1_col317\" class=\"data row1 col317\" >nan</td>\n",
       "                        <td id=\"T_a8891e05_883b_11eb_89b2_704d7b3c13bcrow1_col318\" class=\"data row1 col318\" >2015-02-10 18:12:17</td>\n",
       "                        <td id=\"T_a8891e05_883b_11eb_89b2_704d7b3c13bcrow1_col319\" class=\"data row1 col319\" >2015-02-11 17:18:36</td>\n",
       "                        <td id=\"T_a8891e05_883b_11eb_89b2_704d7b3c13bcrow1_col320\" class=\"data row1 col320\" >2015-02-12 18:08:01</td>\n",
       "                        <td id=\"T_a8891e05_883b_11eb_89b2_704d7b3c13bcrow1_col321\" class=\"data row1 col321\" >2015-02-13 17:19:25</td>\n",
       "                        <td id=\"T_a8891e05_883b_11eb_89b2_704d7b3c13bcrow1_col322\" class=\"data row1 col322\" >2015-02-16 17:46:09</td>\n",
       "                        <td id=\"T_a8891e05_883b_11eb_89b2_704d7b3c13bcrow1_col323\" class=\"data row1 col323\" >2015-02-17 17:09:30</td>\n",
       "                        <td id=\"T_a8891e05_883b_11eb_89b2_704d7b3c13bcrow1_col324\" class=\"data row1 col324\" >2015-02-18 17:48:56</td>\n",
       "                        <td id=\"T_a8891e05_883b_11eb_89b2_704d7b3c13bcrow1_col325\" class=\"data row1 col325\" >2015-02-19 18:06:35</td>\n",
       "                        <td id=\"T_a8891e05_883b_11eb_89b2_704d7b3c13bcrow1_col326\" class=\"data row1 col326\" >2015-02-20 17:31:45</td>\n",
       "                        <td id=\"T_a8891e05_883b_11eb_89b2_704d7b3c13bcrow1_col327\" class=\"data row1 col327\" >2015-02-23 17:57:18</td>\n",
       "                        <td id=\"T_a8891e05_883b_11eb_89b2_704d7b3c13bcrow1_col328\" class=\"data row1 col328\" >2015-02-24 17:32:22</td>\n",
       "                        <td id=\"T_a8891e05_883b_11eb_89b2_704d7b3c13bcrow1_col329\" class=\"data row1 col329\" >2015-02-25 17:43:47</td>\n",
       "                        <td id=\"T_a8891e05_883b_11eb_89b2_704d7b3c13bcrow1_col330\" class=\"data row1 col330\" >2015-02-26 17:49:55</td>\n",
       "                        <td id=\"T_a8891e05_883b_11eb_89b2_704d7b3c13bcrow1_col331\" class=\"data row1 col331\" >2015-02-27 18:38:54</td>\n",
       "                        <td id=\"T_a8891e05_883b_11eb_89b2_704d7b3c13bcrow1_col332\" class=\"data row1 col332\" >2015-03-02 17:36:37</td>\n",
       "                        <td id=\"T_a8891e05_883b_11eb_89b2_704d7b3c13bcrow1_col333\" class=\"data row1 col333\" >2015-03-03 18:12:57</td>\n",
       "                        <td id=\"T_a8891e05_883b_11eb_89b2_704d7b3c13bcrow1_col334\" class=\"data row1 col334\" >2015-03-04 17:52:38</td>\n",
       "                        <td id=\"T_a8891e05_883b_11eb_89b2_704d7b3c13bcrow1_col335\" class=\"data row1 col335\" >nan</td>\n",
       "                        <td id=\"T_a8891e05_883b_11eb_89b2_704d7b3c13bcrow1_col336\" class=\"data row1 col336\" >2015-03-06 17:21:33</td>\n",
       "                        <td id=\"T_a8891e05_883b_11eb_89b2_704d7b3c13bcrow1_col337\" class=\"data row1 col337\" >2015-03-09 18:10:21</td>\n",
       "                        <td id=\"T_a8891e05_883b_11eb_89b2_704d7b3c13bcrow1_col338\" class=\"data row1 col338\" >2015-03-10 17:14:06</td>\n",
       "                        <td id=\"T_a8891e05_883b_11eb_89b2_704d7b3c13bcrow1_col339\" class=\"data row1 col339\" >2015-03-11 17:56:14</td>\n",
       "                        <td id=\"T_a8891e05_883b_11eb_89b2_704d7b3c13bcrow1_col340\" class=\"data row1 col340\" >2015-03-12 17:30:53</td>\n",
       "                        <td id=\"T_a8891e05_883b_11eb_89b2_704d7b3c13bcrow1_col341\" class=\"data row1 col341\" >2015-03-13 17:48:25</td>\n",
       "                        <td id=\"T_a8891e05_883b_11eb_89b2_704d7b3c13bcrow1_col342\" class=\"data row1 col342\" >2015-03-16 17:08:38</td>\n",
       "                        <td id=\"T_a8891e05_883b_11eb_89b2_704d7b3c13bcrow1_col343\" class=\"data row1 col343\" >2015-03-17 16:58:02</td>\n",
       "                        <td id=\"T_a8891e05_883b_11eb_89b2_704d7b3c13bcrow1_col344\" class=\"data row1 col344\" >2015-03-18 17:16:35</td>\n",
       "                        <td id=\"T_a8891e05_883b_11eb_89b2_704d7b3c13bcrow1_col345\" class=\"data row1 col345\" >2015-03-19 17:28:42</td>\n",
       "                        <td id=\"T_a8891e05_883b_11eb_89b2_704d7b3c13bcrow1_col346\" class=\"data row1 col346\" >2015-03-20 17:31:55</td>\n",
       "                        <td id=\"T_a8891e05_883b_11eb_89b2_704d7b3c13bcrow1_col347\" class=\"data row1 col347\" >2015-03-23 17:58:55</td>\n",
       "                        <td id=\"T_a8891e05_883b_11eb_89b2_704d7b3c13bcrow1_col348\" class=\"data row1 col348\" >nan</td>\n",
       "                        <td id=\"T_a8891e05_883b_11eb_89b2_704d7b3c13bcrow1_col349\" class=\"data row1 col349\" >2015-03-25 17:22:19</td>\n",
       "                        <td id=\"T_a8891e05_883b_11eb_89b2_704d7b3c13bcrow1_col350\" class=\"data row1 col350\" >2015-03-26 17:48:10</td>\n",
       "                        <td id=\"T_a8891e05_883b_11eb_89b2_704d7b3c13bcrow1_col351\" class=\"data row1 col351\" >2015-03-27 17:49:22</td>\n",
       "                        <td id=\"T_a8891e05_883b_11eb_89b2_704d7b3c13bcrow1_col352\" class=\"data row1 col352\" >2015-03-30 17:28:31</td>\n",
       "                        <td id=\"T_a8891e05_883b_11eb_89b2_704d7b3c13bcrow1_col353\" class=\"data row1 col353\" >2015-03-31 18:28:47</td>\n",
       "                        <td id=\"T_a8891e05_883b_11eb_89b2_704d7b3c13bcrow1_col354\" class=\"data row1 col354\" >2015-04-01 17:30:06</td>\n",
       "                        <td id=\"T_a8891e05_883b_11eb_89b2_704d7b3c13bcrow1_col355\" class=\"data row1 col355\" >2015-04-02 17:39:09</td>\n",
       "                        <td id=\"T_a8891e05_883b_11eb_89b2_704d7b3c13bcrow1_col356\" class=\"data row1 col356\" >2015-04-03 18:07:24</td>\n",
       "                        <td id=\"T_a8891e05_883b_11eb_89b2_704d7b3c13bcrow1_col357\" class=\"data row1 col357\" >2015-04-06 17:40:31</td>\n",
       "                        <td id=\"T_a8891e05_883b_11eb_89b2_704d7b3c13bcrow1_col358\" class=\"data row1 col358\" >2015-04-07 17:50:46</td>\n",
       "                        <td id=\"T_a8891e05_883b_11eb_89b2_704d7b3c13bcrow1_col359\" class=\"data row1 col359\" >2015-04-08 17:09:41</td>\n",
       "                        <td id=\"T_a8891e05_883b_11eb_89b2_704d7b3c13bcrow1_col360\" class=\"data row1 col360\" >2015-04-09 17:07:38</td>\n",
       "                        <td id=\"T_a8891e05_883b_11eb_89b2_704d7b3c13bcrow1_col361\" class=\"data row1 col361\" >2015-04-10 17:43:12</td>\n",
       "                        <td id=\"T_a8891e05_883b_11eb_89b2_704d7b3c13bcrow1_col362\" class=\"data row1 col362\" >2015-04-13 17:45:20</td>\n",
       "                        <td id=\"T_a8891e05_883b_11eb_89b2_704d7b3c13bcrow1_col363\" class=\"data row1 col363\" >2015-04-14 18:00:46</td>\n",
       "                        <td id=\"T_a8891e05_883b_11eb_89b2_704d7b3c13bcrow1_col364\" class=\"data row1 col364\" >2015-04-15 17:35:11</td>\n",
       "                        <td id=\"T_a8891e05_883b_11eb_89b2_704d7b3c13bcrow1_col365\" class=\"data row1 col365\" >2015-04-16 17:21:42</td>\n",
       "                        <td id=\"T_a8891e05_883b_11eb_89b2_704d7b3c13bcrow1_col366\" class=\"data row1 col366\" >2015-04-17 17:24:55</td>\n",
       "                        <td id=\"T_a8891e05_883b_11eb_89b2_704d7b3c13bcrow1_col367\" class=\"data row1 col367\" >2015-04-20 17:51:08</td>\n",
       "                        <td id=\"T_a8891e05_883b_11eb_89b2_704d7b3c13bcrow1_col368\" class=\"data row1 col368\" >2015-04-21 18:49:53</td>\n",
       "                        <td id=\"T_a8891e05_883b_11eb_89b2_704d7b3c13bcrow1_col369\" class=\"data row1 col369\" >2015-04-22 17:40:46</td>\n",
       "                        <td id=\"T_a8891e05_883b_11eb_89b2_704d7b3c13bcrow1_col370\" class=\"data row1 col370\" >2015-04-23 18:04:23</td>\n",
       "                        <td id=\"T_a8891e05_883b_11eb_89b2_704d7b3c13bcrow1_col371\" class=\"data row1 col371\" >2015-04-24 17:42:16</td>\n",
       "                        <td id=\"T_a8891e05_883b_11eb_89b2_704d7b3c13bcrow1_col372\" class=\"data row1 col372\" >2015-04-27 17:12:05</td>\n",
       "                        <td id=\"T_a8891e05_883b_11eb_89b2_704d7b3c13bcrow1_col373\" class=\"data row1 col373\" >2015-04-28 17:29:15</td>\n",
       "                        <td id=\"T_a8891e05_883b_11eb_89b2_704d7b3c13bcrow1_col374\" class=\"data row1 col374\" >nan</td>\n",
       "                        <td id=\"T_a8891e05_883b_11eb_89b2_704d7b3c13bcrow1_col375\" class=\"data row1 col375\" >2015-04-30 18:18:58</td>\n",
       "                        <td id=\"T_a8891e05_883b_11eb_89b2_704d7b3c13bcrow1_col376\" class=\"data row1 col376\" >nan</td>\n",
       "                        <td id=\"T_a8891e05_883b_11eb_89b2_704d7b3c13bcrow1_col377\" class=\"data row1 col377\" >2015-05-04 17:41:29</td>\n",
       "                        <td id=\"T_a8891e05_883b_11eb_89b2_704d7b3c13bcrow1_col378\" class=\"data row1 col378\" >2015-05-05 18:08:25</td>\n",
       "                        <td id=\"T_a8891e05_883b_11eb_89b2_704d7b3c13bcrow1_col379\" class=\"data row1 col379\" >2015-05-06 17:37:33</td>\n",
       "                        <td id=\"T_a8891e05_883b_11eb_89b2_704d7b3c13bcrow1_col380\" class=\"data row1 col380\" >2015-05-07 17:26:07</td>\n",
       "                        <td id=\"T_a8891e05_883b_11eb_89b2_704d7b3c13bcrow1_col381\" class=\"data row1 col381\" >2015-05-08 17:07:25</td>\n",
       "                        <td id=\"T_a8891e05_883b_11eb_89b2_704d7b3c13bcrow1_col382\" class=\"data row1 col382\" >2015-05-11 17:30:04</td>\n",
       "                        <td id=\"T_a8891e05_883b_11eb_89b2_704d7b3c13bcrow1_col383\" class=\"data row1 col383\" >2015-05-12 17:39:57</td>\n",
       "                        <td id=\"T_a8891e05_883b_11eb_89b2_704d7b3c13bcrow1_col384\" class=\"data row1 col384\" >2015-05-13 17:35:24</td>\n",
       "                        <td id=\"T_a8891e05_883b_11eb_89b2_704d7b3c13bcrow1_col385\" class=\"data row1 col385\" >nan</td>\n",
       "                        <td id=\"T_a8891e05_883b_11eb_89b2_704d7b3c13bcrow1_col386\" class=\"data row1 col386\" >2015-05-15 17:06:54</td>\n",
       "                        <td id=\"T_a8891e05_883b_11eb_89b2_704d7b3c13bcrow1_col387\" class=\"data row1 col387\" >nan</td>\n",
       "                        <td id=\"T_a8891e05_883b_11eb_89b2_704d7b3c13bcrow1_col388\" class=\"data row1 col388\" >2015-05-19 17:53:01</td>\n",
       "                        <td id=\"T_a8891e05_883b_11eb_89b2_704d7b3c13bcrow1_col389\" class=\"data row1 col389\" >2015-05-20 17:30:15</td>\n",
       "                        <td id=\"T_a8891e05_883b_11eb_89b2_704d7b3c13bcrow1_col390\" class=\"data row1 col390\" >2015-05-21 17:25:40</td>\n",
       "                        <td id=\"T_a8891e05_883b_11eb_89b2_704d7b3c13bcrow1_col391\" class=\"data row1 col391\" >2015-05-22 18:39:12</td>\n",
       "                        <td id=\"T_a8891e05_883b_11eb_89b2_704d7b3c13bcrow1_col392\" class=\"data row1 col392\" >2015-05-25 17:50:50</td>\n",
       "                        <td id=\"T_a8891e05_883b_11eb_89b2_704d7b3c13bcrow1_col393\" class=\"data row1 col393\" >2015-05-26 17:49:25</td>\n",
       "                        <td id=\"T_a8891e05_883b_11eb_89b2_704d7b3c13bcrow1_col394\" class=\"data row1 col394\" >2015-05-27 17:51:25</td>\n",
       "                        <td id=\"T_a8891e05_883b_11eb_89b2_704d7b3c13bcrow1_col395\" class=\"data row1 col395\" >2015-05-28 17:11:38</td>\n",
       "                        <td id=\"T_a8891e05_883b_11eb_89b2_704d7b3c13bcrow1_col396\" class=\"data row1 col396\" >2015-05-29 17:55:55</td>\n",
       "                        <td id=\"T_a8891e05_883b_11eb_89b2_704d7b3c13bcrow1_col397\" class=\"data row1 col397\" >2015-06-01 18:01:11</td>\n",
       "                        <td id=\"T_a8891e05_883b_11eb_89b2_704d7b3c13bcrow1_col398\" class=\"data row1 col398\" >2015-06-02 17:34:55</td>\n",
       "                        <td id=\"T_a8891e05_883b_11eb_89b2_704d7b3c13bcrow1_col399\" class=\"data row1 col399\" >2015-06-03 17:58:25</td>\n",
       "                        <td id=\"T_a8891e05_883b_11eb_89b2_704d7b3c13bcrow1_col400\" class=\"data row1 col400\" >2015-06-04 16:27:03</td>\n",
       "                        <td id=\"T_a8891e05_883b_11eb_89b2_704d7b3c13bcrow1_col401\" class=\"data row1 col401\" >2015-06-05 17:46:19</td>\n",
       "                        <td id=\"T_a8891e05_883b_11eb_89b2_704d7b3c13bcrow1_col402\" class=\"data row1 col402\" >2015-06-08 17:20:20</td>\n",
       "                        <td id=\"T_a8891e05_883b_11eb_89b2_704d7b3c13bcrow1_col403\" class=\"data row1 col403\" >2015-06-09 17:24:55</td>\n",
       "                        <td id=\"T_a8891e05_883b_11eb_89b2_704d7b3c13bcrow1_col404\" class=\"data row1 col404\" >2015-06-10 17:44:36</td>\n",
       "                        <td id=\"T_a8891e05_883b_11eb_89b2_704d7b3c13bcrow1_col405\" class=\"data row1 col405\" >2015-06-11 17:53:52</td>\n",
       "                        <td id=\"T_a8891e05_883b_11eb_89b2_704d7b3c13bcrow1_col406\" class=\"data row1 col406\" >nan</td>\n",
       "                        <td id=\"T_a8891e05_883b_11eb_89b2_704d7b3c13bcrow1_col407\" class=\"data row1 col407\" >2015-06-15 17:48:03</td>\n",
       "                        <td id=\"T_a8891e05_883b_11eb_89b2_704d7b3c13bcrow1_col408\" class=\"data row1 col408\" >2015-06-16 18:01:24</td>\n",
       "                        <td id=\"T_a8891e05_883b_11eb_89b2_704d7b3c13bcrow1_col409\" class=\"data row1 col409\" >2015-06-17 18:05:55</td>\n",
       "                        <td id=\"T_a8891e05_883b_11eb_89b2_704d7b3c13bcrow1_col410\" class=\"data row1 col410\" >2015-06-18 17:48:28</td>\n",
       "                        <td id=\"T_a8891e05_883b_11eb_89b2_704d7b3c13bcrow1_col411\" class=\"data row1 col411\" >2015-06-19 17:55:56</td>\n",
       "                        <td id=\"T_a8891e05_883b_11eb_89b2_704d7b3c13bcrow1_col412\" class=\"data row1 col412\" >2015-06-22 17:48:27</td>\n",
       "                        <td id=\"T_a8891e05_883b_11eb_89b2_704d7b3c13bcrow1_col413\" class=\"data row1 col413\" >2015-06-23 17:46:50</td>\n",
       "                        <td id=\"T_a8891e05_883b_11eb_89b2_704d7b3c13bcrow1_col414\" class=\"data row1 col414\" >2015-06-24 17:59:00</td>\n",
       "                        <td id=\"T_a8891e05_883b_11eb_89b2_704d7b3c13bcrow1_col415\" class=\"data row1 col415\" >2015-06-25 18:09:18</td>\n",
       "                        <td id=\"T_a8891e05_883b_11eb_89b2_704d7b3c13bcrow1_col416\" class=\"data row1 col416\" >2015-06-26 17:35:47</td>\n",
       "                        <td id=\"T_a8891e05_883b_11eb_89b2_704d7b3c13bcrow1_col417\" class=\"data row1 col417\" >2015-06-29 18:00:33</td>\n",
       "                        <td id=\"T_a8891e05_883b_11eb_89b2_704d7b3c13bcrow1_col418\" class=\"data row1 col418\" >2015-06-30 17:20:12</td>\n",
       "                        <td id=\"T_a8891e05_883b_11eb_89b2_704d7b3c13bcrow1_col419\" class=\"data row1 col419\" >2015-07-01 17:27:32</td>\n",
       "                        <td id=\"T_a8891e05_883b_11eb_89b2_704d7b3c13bcrow1_col420\" class=\"data row1 col420\" >2015-07-02 17:52:49</td>\n",
       "                        <td id=\"T_a8891e05_883b_11eb_89b2_704d7b3c13bcrow1_col421\" class=\"data row1 col421\" >2015-07-03 18:08:39</td>\n",
       "                        <td id=\"T_a8891e05_883b_11eb_89b2_704d7b3c13bcrow1_col422\" class=\"data row1 col422\" >2015-07-06 17:53:47</td>\n",
       "                        <td id=\"T_a8891e05_883b_11eb_89b2_704d7b3c13bcrow1_col423\" class=\"data row1 col423\" >2015-07-07 18:20:24</td>\n",
       "                        <td id=\"T_a8891e05_883b_11eb_89b2_704d7b3c13bcrow1_col424\" class=\"data row1 col424\" >2015-07-08 17:39:41</td>\n",
       "                        <td id=\"T_a8891e05_883b_11eb_89b2_704d7b3c13bcrow1_col425\" class=\"data row1 col425\" >2015-07-09 17:28:26</td>\n",
       "                        <td id=\"T_a8891e05_883b_11eb_89b2_704d7b3c13bcrow1_col426\" class=\"data row1 col426\" >2015-07-10 18:12:57</td>\n",
       "                        <td id=\"T_a8891e05_883b_11eb_89b2_704d7b3c13bcrow1_col427\" class=\"data row1 col427\" >nan</td>\n",
       "                        <td id=\"T_a8891e05_883b_11eb_89b2_704d7b3c13bcrow1_col428\" class=\"data row1 col428\" >2015-07-14 18:06:32</td>\n",
       "                        <td id=\"T_a8891e05_883b_11eb_89b2_704d7b3c13bcrow1_col429\" class=\"data row1 col429\" >2015-07-15 17:25:39</td>\n",
       "                        <td id=\"T_a8891e05_883b_11eb_89b2_704d7b3c13bcrow1_col430\" class=\"data row1 col430\" >2015-07-16 18:13:48</td>\n",
       "                        <td id=\"T_a8891e05_883b_11eb_89b2_704d7b3c13bcrow1_col431\" class=\"data row1 col431\" >nan</td>\n",
       "                        <td id=\"T_a8891e05_883b_11eb_89b2_704d7b3c13bcrow1_col432\" class=\"data row1 col432\" >2015-07-20 17:47:07</td>\n",
       "                        <td id=\"T_a8891e05_883b_11eb_89b2_704d7b3c13bcrow1_col433\" class=\"data row1 col433\" >2015-07-21 18:01:49</td>\n",
       "                        <td id=\"T_a8891e05_883b_11eb_89b2_704d7b3c13bcrow1_col434\" class=\"data row1 col434\" >2015-07-22 17:20:40</td>\n",
       "                        <td id=\"T_a8891e05_883b_11eb_89b2_704d7b3c13bcrow1_col435\" class=\"data row1 col435\" >2015-07-23 17:36:14</td>\n",
       "                        <td id=\"T_a8891e05_883b_11eb_89b2_704d7b3c13bcrow1_col436\" class=\"data row1 col436\" >2015-07-24 18:07:05</td>\n",
       "                        <td id=\"T_a8891e05_883b_11eb_89b2_704d7b3c13bcrow1_col437\" class=\"data row1 col437\" >nan</td>\n",
       "                        <td id=\"T_a8891e05_883b_11eb_89b2_704d7b3c13bcrow1_col438\" class=\"data row1 col438\" >2015-07-28 18:08:31</td>\n",
       "                        <td id=\"T_a8891e05_883b_11eb_89b2_704d7b3c13bcrow1_col439\" class=\"data row1 col439\" >2015-07-29 17:54:49</td>\n",
       "                        <td id=\"T_a8891e05_883b_11eb_89b2_704d7b3c13bcrow1_col440\" class=\"data row1 col440\" >2015-07-30 17:19:50</td>\n",
       "                        <td id=\"T_a8891e05_883b_11eb_89b2_704d7b3c13bcrow1_col441\" class=\"data row1 col441\" >2015-07-31 17:30:49</td>\n",
       "                        <td id=\"T_a8891e05_883b_11eb_89b2_704d7b3c13bcrow1_col442\" class=\"data row1 col442\" >2015-08-03 17:44:58</td>\n",
       "                        <td id=\"T_a8891e05_883b_11eb_89b2_704d7b3c13bcrow1_col443\" class=\"data row1 col443\" >2015-08-04 18:08:25</td>\n",
       "                        <td id=\"T_a8891e05_883b_11eb_89b2_704d7b3c13bcrow1_col444\" class=\"data row1 col444\" >2015-08-05 17:27:32</td>\n",
       "                        <td id=\"T_a8891e05_883b_11eb_89b2_704d7b3c13bcrow1_col445\" class=\"data row1 col445\" >2015-08-06 18:48:44</td>\n",
       "                        <td id=\"T_a8891e05_883b_11eb_89b2_704d7b3c13bcrow1_col446\" class=\"data row1 col446\" >2015-08-07 17:47:53</td>\n",
       "                        <td id=\"T_a8891e05_883b_11eb_89b2_704d7b3c13bcrow1_col447\" class=\"data row1 col447\" >2015-08-10 17:24:08</td>\n",
       "                        <td id=\"T_a8891e05_883b_11eb_89b2_704d7b3c13bcrow1_col448\" class=\"data row1 col448\" >2015-08-11 17:09:55</td>\n",
       "                        <td id=\"T_a8891e05_883b_11eb_89b2_704d7b3c13bcrow1_col449\" class=\"data row1 col449\" >2015-08-12 17:13:38</td>\n",
       "                        <td id=\"T_a8891e05_883b_11eb_89b2_704d7b3c13bcrow1_col450\" class=\"data row1 col450\" >2015-08-13 17:54:56</td>\n",
       "                        <td id=\"T_a8891e05_883b_11eb_89b2_704d7b3c13bcrow1_col451\" class=\"data row1 col451\" >2015-08-14 17:29:11</td>\n",
       "                        <td id=\"T_a8891e05_883b_11eb_89b2_704d7b3c13bcrow1_col452\" class=\"data row1 col452\" >2015-08-17 18:04:06</td>\n",
       "                        <td id=\"T_a8891e05_883b_11eb_89b2_704d7b3c13bcrow1_col453\" class=\"data row1 col453\" >2015-08-18 17:03:21</td>\n",
       "                        <td id=\"T_a8891e05_883b_11eb_89b2_704d7b3c13bcrow1_col454\" class=\"data row1 col454\" >2015-08-19 17:36:39</td>\n",
       "                        <td id=\"T_a8891e05_883b_11eb_89b2_704d7b3c13bcrow1_col455\" class=\"data row1 col455\" >2015-08-20 17:56:23</td>\n",
       "                        <td id=\"T_a8891e05_883b_11eb_89b2_704d7b3c13bcrow1_col456\" class=\"data row1 col456\" >2015-08-21 17:38:55</td>\n",
       "                        <td id=\"T_a8891e05_883b_11eb_89b2_704d7b3c13bcrow1_col457\" class=\"data row1 col457\" >2015-08-24 17:05:20</td>\n",
       "                        <td id=\"T_a8891e05_883b_11eb_89b2_704d7b3c13bcrow1_col458\" class=\"data row1 col458\" >2015-08-25 17:11:02</td>\n",
       "                        <td id=\"T_a8891e05_883b_11eb_89b2_704d7b3c13bcrow1_col459\" class=\"data row1 col459\" >2015-08-26 17:44:47</td>\n",
       "                        <td id=\"T_a8891e05_883b_11eb_89b2_704d7b3c13bcrow1_col460\" class=\"data row1 col460\" >2015-08-27 18:04:39</td>\n",
       "                        <td id=\"T_a8891e05_883b_11eb_89b2_704d7b3c13bcrow1_col461\" class=\"data row1 col461\" >2015-08-28 17:24:55</td>\n",
       "                        <td id=\"T_a8891e05_883b_11eb_89b2_704d7b3c13bcrow1_col462\" class=\"data row1 col462\" >2015-08-31 18:13:22</td>\n",
       "                        <td id=\"T_a8891e05_883b_11eb_89b2_704d7b3c13bcrow1_col463\" class=\"data row1 col463\" >2015-09-01 17:18:16</td>\n",
       "                        <td id=\"T_a8891e05_883b_11eb_89b2_704d7b3c13bcrow1_col464\" class=\"data row1 col464\" >2015-09-02 17:26:57</td>\n",
       "                        <td id=\"T_a8891e05_883b_11eb_89b2_704d7b3c13bcrow1_col465\" class=\"data row1 col465\" >2015-09-03 17:50:40</td>\n",
       "                        <td id=\"T_a8891e05_883b_11eb_89b2_704d7b3c13bcrow1_col466\" class=\"data row1 col466\" >2015-09-04 18:21:48</td>\n",
       "                        <td id=\"T_a8891e05_883b_11eb_89b2_704d7b3c13bcrow1_col467\" class=\"data row1 col467\" >2015-09-07 18:10:09</td>\n",
       "                        <td id=\"T_a8891e05_883b_11eb_89b2_704d7b3c13bcrow1_col468\" class=\"data row1 col468\" >nan</td>\n",
       "                        <td id=\"T_a8891e05_883b_11eb_89b2_704d7b3c13bcrow1_col469\" class=\"data row1 col469\" >2015-09-09 17:52:26</td>\n",
       "                        <td id=\"T_a8891e05_883b_11eb_89b2_704d7b3c13bcrow1_col470\" class=\"data row1 col470\" >2015-09-10 18:22:09</td>\n",
       "                        <td id=\"T_a8891e05_883b_11eb_89b2_704d7b3c13bcrow1_col471\" class=\"data row1 col471\" >2015-09-11 17:27:25</td>\n",
       "                        <td id=\"T_a8891e05_883b_11eb_89b2_704d7b3c13bcrow1_col472\" class=\"data row1 col472\" >2015-09-14 17:10:53</td>\n",
       "                        <td id=\"T_a8891e05_883b_11eb_89b2_704d7b3c13bcrow1_col473\" class=\"data row1 col473\" >2015-09-15 16:50:45</td>\n",
       "                        <td id=\"T_a8891e05_883b_11eb_89b2_704d7b3c13bcrow1_col474\" class=\"data row1 col474\" >2015-09-16 17:16:37</td>\n",
       "                        <td id=\"T_a8891e05_883b_11eb_89b2_704d7b3c13bcrow1_col475\" class=\"data row1 col475\" >nan</td>\n",
       "                        <td id=\"T_a8891e05_883b_11eb_89b2_704d7b3c13bcrow1_col476\" class=\"data row1 col476\" >2015-09-18 17:51:23</td>\n",
       "                        <td id=\"T_a8891e05_883b_11eb_89b2_704d7b3c13bcrow1_col477\" class=\"data row1 col477\" >2015-09-21 17:45:44</td>\n",
       "                        <td id=\"T_a8891e05_883b_11eb_89b2_704d7b3c13bcrow1_col478\" class=\"data row1 col478\" >2015-09-22 16:51:17</td>\n",
       "                        <td id=\"T_a8891e05_883b_11eb_89b2_704d7b3c13bcrow1_col479\" class=\"data row1 col479\" >2015-09-23 17:55:03</td>\n",
       "                        <td id=\"T_a8891e05_883b_11eb_89b2_704d7b3c13bcrow1_col480\" class=\"data row1 col480\" >2015-09-24 18:07:54</td>\n",
       "                        <td id=\"T_a8891e05_883b_11eb_89b2_704d7b3c13bcrow1_col481\" class=\"data row1 col481\" >2015-09-25 17:45:34</td>\n",
       "                        <td id=\"T_a8891e05_883b_11eb_89b2_704d7b3c13bcrow1_col482\" class=\"data row1 col482\" >2015-09-28 17:52:52</td>\n",
       "                        <td id=\"T_a8891e05_883b_11eb_89b2_704d7b3c13bcrow1_col483\" class=\"data row1 col483\" >2015-09-29 18:02:18</td>\n",
       "                        <td id=\"T_a8891e05_883b_11eb_89b2_704d7b3c13bcrow1_col484\" class=\"data row1 col484\" >2015-09-30 18:15:14</td>\n",
       "                        <td id=\"T_a8891e05_883b_11eb_89b2_704d7b3c13bcrow1_col485\" class=\"data row1 col485\" >2015-10-01 17:33:53</td>\n",
       "                        <td id=\"T_a8891e05_883b_11eb_89b2_704d7b3c13bcrow1_col486\" class=\"data row1 col486\" >nan</td>\n",
       "                        <td id=\"T_a8891e05_883b_11eb_89b2_704d7b3c13bcrow1_col487\" class=\"data row1 col487\" >2015-10-05 18:08:24</td>\n",
       "                        <td id=\"T_a8891e05_883b_11eb_89b2_704d7b3c13bcrow1_col488\" class=\"data row1 col488\" >2015-10-06 17:12:33</td>\n",
       "                        <td id=\"T_a8891e05_883b_11eb_89b2_704d7b3c13bcrow1_col489\" class=\"data row1 col489\" >2015-10-07 18:07:16</td>\n",
       "                        <td id=\"T_a8891e05_883b_11eb_89b2_704d7b3c13bcrow1_col490\" class=\"data row1 col490\" >2015-10-08 18:19:06</td>\n",
       "                        <td id=\"T_a8891e05_883b_11eb_89b2_704d7b3c13bcrow1_col491\" class=\"data row1 col491\" >2015-10-09 17:18:33</td>\n",
       "                        <td id=\"T_a8891e05_883b_11eb_89b2_704d7b3c13bcrow1_col492\" class=\"data row1 col492\" >2015-10-12 17:16:51</td>\n",
       "                        <td id=\"T_a8891e05_883b_11eb_89b2_704d7b3c13bcrow1_col493\" class=\"data row1 col493\" >2015-10-13 18:32:48</td>\n",
       "                        <td id=\"T_a8891e05_883b_11eb_89b2_704d7b3c13bcrow1_col494\" class=\"data row1 col494\" >2015-10-14 17:45:04</td>\n",
       "                        <td id=\"T_a8891e05_883b_11eb_89b2_704d7b3c13bcrow1_col495\" class=\"data row1 col495\" >nan</td>\n",
       "                        <td id=\"T_a8891e05_883b_11eb_89b2_704d7b3c13bcrow1_col496\" class=\"data row1 col496\" >2015-10-16 17:58:11</td>\n",
       "                        <td id=\"T_a8891e05_883b_11eb_89b2_704d7b3c13bcrow1_col497\" class=\"data row1 col497\" >2015-10-19 18:00:41</td>\n",
       "                        <td id=\"T_a8891e05_883b_11eb_89b2_704d7b3c13bcrow1_col498\" class=\"data row1 col498\" >2015-10-20 17:13:28</td>\n",
       "                        <td id=\"T_a8891e05_883b_11eb_89b2_704d7b3c13bcrow1_col499\" class=\"data row1 col499\" >2015-10-21 16:51:56</td>\n",
       "                        <td id=\"T_a8891e05_883b_11eb_89b2_704d7b3c13bcrow1_col500\" class=\"data row1 col500\" >2015-10-22 18:30:26</td>\n",
       "                        <td id=\"T_a8891e05_883b_11eb_89b2_704d7b3c13bcrow1_col501\" class=\"data row1 col501\" >2015-10-23 16:37:09</td>\n",
       "                        <td id=\"T_a8891e05_883b_11eb_89b2_704d7b3c13bcrow1_col502\" class=\"data row1 col502\" >2015-10-26 17:58:41</td>\n",
       "                        <td id=\"T_a8891e05_883b_11eb_89b2_704d7b3c13bcrow1_col503\" class=\"data row1 col503\" >2015-10-27 18:23:56</td>\n",
       "                        <td id=\"T_a8891e05_883b_11eb_89b2_704d7b3c13bcrow1_col504\" class=\"data row1 col504\" >2015-10-28 17:20:29</td>\n",
       "                        <td id=\"T_a8891e05_883b_11eb_89b2_704d7b3c13bcrow1_col505\" class=\"data row1 col505\" >2015-10-29 17:44:08</td>\n",
       "                        <td id=\"T_a8891e05_883b_11eb_89b2_704d7b3c13bcrow1_col506\" class=\"data row1 col506\" >2015-10-30 17:32:48</td>\n",
       "                        <td id=\"T_a8891e05_883b_11eb_89b2_704d7b3c13bcrow1_col507\" class=\"data row1 col507\" >2015-11-02 17:29:17</td>\n",
       "                        <td id=\"T_a8891e05_883b_11eb_89b2_704d7b3c13bcrow1_col508\" class=\"data row1 col508\" >2015-11-03 17:18:27</td>\n",
       "                        <td id=\"T_a8891e05_883b_11eb_89b2_704d7b3c13bcrow1_col509\" class=\"data row1 col509\" >2015-11-04 17:54:32</td>\n",
       "                        <td id=\"T_a8891e05_883b_11eb_89b2_704d7b3c13bcrow1_col510\" class=\"data row1 col510\" >2015-11-05 17:11:57</td>\n",
       "                        <td id=\"T_a8891e05_883b_11eb_89b2_704d7b3c13bcrow1_col511\" class=\"data row1 col511\" >2015-11-06 17:28:38</td>\n",
       "                        <td id=\"T_a8891e05_883b_11eb_89b2_704d7b3c13bcrow1_col512\" class=\"data row1 col512\" >nan</td>\n",
       "                        <td id=\"T_a8891e05_883b_11eb_89b2_704d7b3c13bcrow1_col513\" class=\"data row1 col513\" >nan</td>\n",
       "                        <td id=\"T_a8891e05_883b_11eb_89b2_704d7b3c13bcrow1_col514\" class=\"data row1 col514\" >nan</td>\n",
       "                        <td id=\"T_a8891e05_883b_11eb_89b2_704d7b3c13bcrow1_col515\" class=\"data row1 col515\" >2015-11-12 17:34:03</td>\n",
       "                        <td id=\"T_a8891e05_883b_11eb_89b2_704d7b3c13bcrow1_col516\" class=\"data row1 col516\" >2015-11-13 17:38:25</td>\n",
       "                        <td id=\"T_a8891e05_883b_11eb_89b2_704d7b3c13bcrow1_col517\" class=\"data row1 col517\" >2015-11-16 18:37:03</td>\n",
       "                        <td id=\"T_a8891e05_883b_11eb_89b2_704d7b3c13bcrow1_col518\" class=\"data row1 col518\" >2015-11-17 17:26:09</td>\n",
       "                        <td id=\"T_a8891e05_883b_11eb_89b2_704d7b3c13bcrow1_col519\" class=\"data row1 col519\" >2015-11-18 18:06:23</td>\n",
       "                        <td id=\"T_a8891e05_883b_11eb_89b2_704d7b3c13bcrow1_col520\" class=\"data row1 col520\" >nan</td>\n",
       "                        <td id=\"T_a8891e05_883b_11eb_89b2_704d7b3c13bcrow1_col521\" class=\"data row1 col521\" >2015-11-20 17:52:48</td>\n",
       "                        <td id=\"T_a8891e05_883b_11eb_89b2_704d7b3c13bcrow1_col522\" class=\"data row1 col522\" >2015-11-23 17:32:43</td>\n",
       "                        <td id=\"T_a8891e05_883b_11eb_89b2_704d7b3c13bcrow1_col523\" class=\"data row1 col523\" >2015-11-24 17:01:00</td>\n",
       "                        <td id=\"T_a8891e05_883b_11eb_89b2_704d7b3c13bcrow1_col524\" class=\"data row1 col524\" >2015-11-25 17:14:56</td>\n",
       "                        <td id=\"T_a8891e05_883b_11eb_89b2_704d7b3c13bcrow1_col525\" class=\"data row1 col525\" >2015-11-26 18:28:44</td>\n",
       "                        <td id=\"T_a8891e05_883b_11eb_89b2_704d7b3c13bcrow1_col526\" class=\"data row1 col526\" >2015-11-27 18:12:27</td>\n",
       "                        <td id=\"T_a8891e05_883b_11eb_89b2_704d7b3c13bcrow1_col527\" class=\"data row1 col527\" >2015-11-30 17:18:40</td>\n",
       "                        <td id=\"T_a8891e05_883b_11eb_89b2_704d7b3c13bcrow1_col528\" class=\"data row1 col528\" >2015-12-01 17:21:07</td>\n",
       "                        <td id=\"T_a8891e05_883b_11eb_89b2_704d7b3c13bcrow1_col529\" class=\"data row1 col529\" >2015-12-02 18:02:46</td>\n",
       "                        <td id=\"T_a8891e05_883b_11eb_89b2_704d7b3c13bcrow1_col530\" class=\"data row1 col530\" >2015-12-03 18:08:00</td>\n",
       "                        <td id=\"T_a8891e05_883b_11eb_89b2_704d7b3c13bcrow1_col531\" class=\"data row1 col531\" >2015-12-04 18:01:03</td>\n",
       "                        <td id=\"T_a8891e05_883b_11eb_89b2_704d7b3c13bcrow1_col532\" class=\"data row1 col532\" >2015-12-07 17:06:37</td>\n",
       "                        <td id=\"T_a8891e05_883b_11eb_89b2_704d7b3c13bcrow1_col533\" class=\"data row1 col533\" >2015-12-08 17:44:18</td>\n",
       "                        <td id=\"T_a8891e05_883b_11eb_89b2_704d7b3c13bcrow1_col534\" class=\"data row1 col534\" >2015-12-09 17:47:47</td>\n",
       "                        <td id=\"T_a8891e05_883b_11eb_89b2_704d7b3c13bcrow1_col535\" class=\"data row1 col535\" >2015-12-10 17:55:23</td>\n",
       "                        <td id=\"T_a8891e05_883b_11eb_89b2_704d7b3c13bcrow1_col536\" class=\"data row1 col536\" >2015-12-11 17:42:47</td>\n",
       "                        <td id=\"T_a8891e05_883b_11eb_89b2_704d7b3c13bcrow1_col537\" class=\"data row1 col537\" >2015-12-14 17:32:11</td>\n",
       "                        <td id=\"T_a8891e05_883b_11eb_89b2_704d7b3c13bcrow1_col538\" class=\"data row1 col538\" >2015-12-15 17:56:25</td>\n",
       "                        <td id=\"T_a8891e05_883b_11eb_89b2_704d7b3c13bcrow1_col539\" class=\"data row1 col539\" >2015-12-16 18:16:37</td>\n",
       "                        <td id=\"T_a8891e05_883b_11eb_89b2_704d7b3c13bcrow1_col540\" class=\"data row1 col540\" >2015-12-17 17:10:50</td>\n",
       "                        <td id=\"T_a8891e05_883b_11eb_89b2_704d7b3c13bcrow1_col541\" class=\"data row1 col541\" >2015-12-18 18:31:28</td>\n",
       "                        <td id=\"T_a8891e05_883b_11eb_89b2_704d7b3c13bcrow1_col542\" class=\"data row1 col542\" >2015-12-21 17:34:16</td>\n",
       "                        <td id=\"T_a8891e05_883b_11eb_89b2_704d7b3c13bcrow1_col543\" class=\"data row1 col543\" >2015-12-22 18:16:35</td>\n",
       "                        <td id=\"T_a8891e05_883b_11eb_89b2_704d7b3c13bcrow1_col544\" class=\"data row1 col544\" >2015-12-23 17:38:18</td>\n",
       "                        <td id=\"T_a8891e05_883b_11eb_89b2_704d7b3c13bcrow1_col545\" class=\"data row1 col545\" >nan</td>\n",
       "                        <td id=\"T_a8891e05_883b_11eb_89b2_704d7b3c13bcrow1_col546\" class=\"data row1 col546\" >nan</td>\n",
       "                        <td id=\"T_a8891e05_883b_11eb_89b2_704d7b3c13bcrow1_col547\" class=\"data row1 col547\" >2015-12-28 17:08:38</td>\n",
       "                        <td id=\"T_a8891e05_883b_11eb_89b2_704d7b3c13bcrow1_col548\" class=\"data row1 col548\" >2015-12-29 17:54:46</td>\n",
       "                        <td id=\"T_a8891e05_883b_11eb_89b2_704d7b3c13bcrow1_col549\" class=\"data row1 col549\" >2015-12-30 18:31:35</td>\n",
       "                        <td id=\"T_a8891e05_883b_11eb_89b2_704d7b3c13bcrow1_col550\" class=\"data row1 col550\" >2015-12-31 17:40:58</td>\n",
       "            </tr>\n",
       "            <tr>\n",
       "                        <th id=\"T_a8891e05_883b_11eb_89b2_704d7b3c13bclevel0_row2\" class=\"row_heading level0 row2\" >2</th>\n",
       "                        <td id=\"T_a8891e05_883b_11eb_89b2_704d7b3c13bcrow2_col0\" class=\"data row2 col0\" >32</td>\n",
       "                        <td id=\"T_a8891e05_883b_11eb_89b2_704d7b3c13bcrow2_col1\" class=\"data row2 col1\" >No</td>\n",
       "                        <td id=\"T_a8891e05_883b_11eb_89b2_704d7b3c13bcrow2_col2\" class=\"data row2 col2\" >Travel_Frequently</td>\n",
       "                        <td id=\"T_a8891e05_883b_11eb_89b2_704d7b3c13bcrow2_col3\" class=\"data row2 col3\" >Research & Development</td>\n",
       "                        <td id=\"T_a8891e05_883b_11eb_89b2_704d7b3c13bcrow2_col4\" class=\"data row2 col4\" >17</td>\n",
       "                        <td id=\"T_a8891e05_883b_11eb_89b2_704d7b3c13bcrow2_col5\" class=\"data row2 col5\" >4</td>\n",
       "                        <td id=\"T_a8891e05_883b_11eb_89b2_704d7b3c13bcrow2_col6\" class=\"data row2 col6\" >Other</td>\n",
       "                        <td id=\"T_a8891e05_883b_11eb_89b2_704d7b3c13bcrow2_col7\" class=\"data row2 col7\" >1</td>\n",
       "                        <td id=\"T_a8891e05_883b_11eb_89b2_704d7b3c13bcrow2_col8\" class=\"data row2 col8\" >3</td>\n",
       "                        <td id=\"T_a8891e05_883b_11eb_89b2_704d7b3c13bcrow2_col9\" class=\"data row2 col9\" >Male</td>\n",
       "                        <td id=\"T_a8891e05_883b_11eb_89b2_704d7b3c13bcrow2_col10\" class=\"data row2 col10\" >4</td>\n",
       "                        <td id=\"T_a8891e05_883b_11eb_89b2_704d7b3c13bcrow2_col11\" class=\"data row2 col11\" >Sales Executive</td>\n",
       "                        <td id=\"T_a8891e05_883b_11eb_89b2_704d7b3c13bcrow2_col12\" class=\"data row2 col12\" >Married</td>\n",
       "                        <td id=\"T_a8891e05_883b_11eb_89b2_704d7b3c13bcrow2_col13\" class=\"data row2 col13\" >193280</td>\n",
       "                        <td id=\"T_a8891e05_883b_11eb_89b2_704d7b3c13bcrow2_col14\" class=\"data row2 col14\" >1.000000</td>\n",
       "                        <td id=\"T_a8891e05_883b_11eb_89b2_704d7b3c13bcrow2_col15\" class=\"data row2 col15\" >Y</td>\n",
       "                        <td id=\"T_a8891e05_883b_11eb_89b2_704d7b3c13bcrow2_col16\" class=\"data row2 col16\" >15</td>\n",
       "                        <td id=\"T_a8891e05_883b_11eb_89b2_704d7b3c13bcrow2_col17\" class=\"data row2 col17\" >8</td>\n",
       "                        <td id=\"T_a8891e05_883b_11eb_89b2_704d7b3c13bcrow2_col18\" class=\"data row2 col18\" >3</td>\n",
       "                        <td id=\"T_a8891e05_883b_11eb_89b2_704d7b3c13bcrow2_col19\" class=\"data row2 col19\" >5.000000</td>\n",
       "                        <td id=\"T_a8891e05_883b_11eb_89b2_704d7b3c13bcrow2_col20\" class=\"data row2 col20\" >2</td>\n",
       "                        <td id=\"T_a8891e05_883b_11eb_89b2_704d7b3c13bcrow2_col21\" class=\"data row2 col21\" >5</td>\n",
       "                        <td id=\"T_a8891e05_883b_11eb_89b2_704d7b3c13bcrow2_col22\" class=\"data row2 col22\" >0</td>\n",
       "                        <td id=\"T_a8891e05_883b_11eb_89b2_704d7b3c13bcrow2_col23\" class=\"data row2 col23\" >3</td>\n",
       "                        <td id=\"T_a8891e05_883b_11eb_89b2_704d7b3c13bcrow2_col24\" class=\"data row2 col24\" >3</td>\n",
       "                        <td id=\"T_a8891e05_883b_11eb_89b2_704d7b3c13bcrow2_col25\" class=\"data row2 col25\" >3</td>\n",
       "                        <td id=\"T_a8891e05_883b_11eb_89b2_704d7b3c13bcrow2_col26\" class=\"data row2 col26\" >2.000000</td>\n",
       "                        <td id=\"T_a8891e05_883b_11eb_89b2_704d7b3c13bcrow2_col27\" class=\"data row2 col27\" >2.000000</td>\n",
       "                        <td id=\"T_a8891e05_883b_11eb_89b2_704d7b3c13bcrow2_col28\" class=\"data row2 col28\" >1.000000</td>\n",
       "                        <td id=\"T_a8891e05_883b_11eb_89b2_704d7b3c13bcrow2_col29\" class=\"data row2 col29\" >nan</td>\n",
       "                        <td id=\"T_a8891e05_883b_11eb_89b2_704d7b3c13bcrow2_col30\" class=\"data row2 col30\" >2015-01-02 10:17:41</td>\n",
       "                        <td id=\"T_a8891e05_883b_11eb_89b2_704d7b3c13bcrow2_col31\" class=\"data row2 col31\" >2015-01-05 09:50:50</td>\n",
       "                        <td id=\"T_a8891e05_883b_11eb_89b2_704d7b3c13bcrow2_col32\" class=\"data row2 col32\" >2015-01-06 10:14:13</td>\n",
       "                        <td id=\"T_a8891e05_883b_11eb_89b2_704d7b3c13bcrow2_col33\" class=\"data row2 col33\" >2015-01-07 09:47:27</td>\n",
       "                        <td id=\"T_a8891e05_883b_11eb_89b2_704d7b3c13bcrow2_col34\" class=\"data row2 col34\" >2015-01-08 10:03:40</td>\n",
       "                        <td id=\"T_a8891e05_883b_11eb_89b2_704d7b3c13bcrow2_col35\" class=\"data row2 col35\" >2015-01-09 10:05:49</td>\n",
       "                        <td id=\"T_a8891e05_883b_11eb_89b2_704d7b3c13bcrow2_col36\" class=\"data row2 col36\" >2015-01-12 10:03:47</td>\n",
       "                        <td id=\"T_a8891e05_883b_11eb_89b2_704d7b3c13bcrow2_col37\" class=\"data row2 col37\" >2015-01-13 10:21:26</td>\n",
       "                        <td id=\"T_a8891e05_883b_11eb_89b2_704d7b3c13bcrow2_col38\" class=\"data row2 col38\" >nan</td>\n",
       "                        <td id=\"T_a8891e05_883b_11eb_89b2_704d7b3c13bcrow2_col39\" class=\"data row2 col39\" >2015-01-15 09:55:11</td>\n",
       "                        <td id=\"T_a8891e05_883b_11eb_89b2_704d7b3c13bcrow2_col40\" class=\"data row2 col40\" >2015-01-16 10:05:36</td>\n",
       "                        <td id=\"T_a8891e05_883b_11eb_89b2_704d7b3c13bcrow2_col41\" class=\"data row2 col41\" >2015-01-19 09:47:53</td>\n",
       "                        <td id=\"T_a8891e05_883b_11eb_89b2_704d7b3c13bcrow2_col42\" class=\"data row2 col42\" >2015-01-20 09:57:09</td>\n",
       "                        <td id=\"T_a8891e05_883b_11eb_89b2_704d7b3c13bcrow2_col43\" class=\"data row2 col43\" >2015-01-21 10:29:40</td>\n",
       "                        <td id=\"T_a8891e05_883b_11eb_89b2_704d7b3c13bcrow2_col44\" class=\"data row2 col44\" >2015-01-22 09:59:11</td>\n",
       "                        <td id=\"T_a8891e05_883b_11eb_89b2_704d7b3c13bcrow2_col45\" class=\"data row2 col45\" >2015-01-23 10:16:34</td>\n",
       "                        <td id=\"T_a8891e05_883b_11eb_89b2_704d7b3c13bcrow2_col46\" class=\"data row2 col46\" >nan</td>\n",
       "                        <td id=\"T_a8891e05_883b_11eb_89b2_704d7b3c13bcrow2_col47\" class=\"data row2 col47\" >2015-01-27 10:07:30</td>\n",
       "                        <td id=\"T_a8891e05_883b_11eb_89b2_704d7b3c13bcrow2_col48\" class=\"data row2 col48\" >2015-01-28 10:05:43</td>\n",
       "                        <td id=\"T_a8891e05_883b_11eb_89b2_704d7b3c13bcrow2_col49\" class=\"data row2 col49\" >2015-01-29 10:06:48</td>\n",
       "                        <td id=\"T_a8891e05_883b_11eb_89b2_704d7b3c13bcrow2_col50\" class=\"data row2 col50\" >2015-01-30 10:14:36</td>\n",
       "                        <td id=\"T_a8891e05_883b_11eb_89b2_704d7b3c13bcrow2_col51\" class=\"data row2 col51\" >2015-02-02 09:54:45</td>\n",
       "                        <td id=\"T_a8891e05_883b_11eb_89b2_704d7b3c13bcrow2_col52\" class=\"data row2 col52\" >2015-02-03 09:27:11</td>\n",
       "                        <td id=\"T_a8891e05_883b_11eb_89b2_704d7b3c13bcrow2_col53\" class=\"data row2 col53\" >2015-02-04 10:04:03</td>\n",
       "                        <td id=\"T_a8891e05_883b_11eb_89b2_704d7b3c13bcrow2_col54\" class=\"data row2 col54\" >2015-02-05 10:08:11</td>\n",
       "                        <td id=\"T_a8891e05_883b_11eb_89b2_704d7b3c13bcrow2_col55\" class=\"data row2 col55\" >2015-02-06 10:23:51</td>\n",
       "                        <td id=\"T_a8891e05_883b_11eb_89b2_704d7b3c13bcrow2_col56\" class=\"data row2 col56\" >2015-02-09 10:08:43</td>\n",
       "                        <td id=\"T_a8891e05_883b_11eb_89b2_704d7b3c13bcrow2_col57\" class=\"data row2 col57\" >2015-02-10 10:26:18</td>\n",
       "                        <td id=\"T_a8891e05_883b_11eb_89b2_704d7b3c13bcrow2_col58\" class=\"data row2 col58\" >2015-02-11 10:02:13</td>\n",
       "                        <td id=\"T_a8891e05_883b_11eb_89b2_704d7b3c13bcrow2_col59\" class=\"data row2 col59\" >2015-02-12 09:55:10</td>\n",
       "                        <td id=\"T_a8891e05_883b_11eb_89b2_704d7b3c13bcrow2_col60\" class=\"data row2 col60\" >2015-02-13 10:32:34</td>\n",
       "                        <td id=\"T_a8891e05_883b_11eb_89b2_704d7b3c13bcrow2_col61\" class=\"data row2 col61\" >2015-02-16 10:18:43</td>\n",
       "                        <td id=\"T_a8891e05_883b_11eb_89b2_704d7b3c13bcrow2_col62\" class=\"data row2 col62\" >2015-02-17 10:04:54</td>\n",
       "                        <td id=\"T_a8891e05_883b_11eb_89b2_704d7b3c13bcrow2_col63\" class=\"data row2 col63\" >2015-02-18 10:16:19</td>\n",
       "                        <td id=\"T_a8891e05_883b_11eb_89b2_704d7b3c13bcrow2_col64\" class=\"data row2 col64\" >2015-02-19 09:47:19</td>\n",
       "                        <td id=\"T_a8891e05_883b_11eb_89b2_704d7b3c13bcrow2_col65\" class=\"data row2 col65\" >2015-02-20 10:20:51</td>\n",
       "                        <td id=\"T_a8891e05_883b_11eb_89b2_704d7b3c13bcrow2_col66\" class=\"data row2 col66\" >2015-02-23 10:14:02</td>\n",
       "                        <td id=\"T_a8891e05_883b_11eb_89b2_704d7b3c13bcrow2_col67\" class=\"data row2 col67\" >2015-02-24 10:23:28</td>\n",
       "                        <td id=\"T_a8891e05_883b_11eb_89b2_704d7b3c13bcrow2_col68\" class=\"data row2 col68\" >2015-02-25 09:59:06</td>\n",
       "                        <td id=\"T_a8891e05_883b_11eb_89b2_704d7b3c13bcrow2_col69\" class=\"data row2 col69\" >2015-02-26 10:01:22</td>\n",
       "                        <td id=\"T_a8891e05_883b_11eb_89b2_704d7b3c13bcrow2_col70\" class=\"data row2 col70\" >2015-02-27 09:57:26</td>\n",
       "                        <td id=\"T_a8891e05_883b_11eb_89b2_704d7b3c13bcrow2_col71\" class=\"data row2 col71\" >2015-03-02 10:02:38</td>\n",
       "                        <td id=\"T_a8891e05_883b_11eb_89b2_704d7b3c13bcrow2_col72\" class=\"data row2 col72\" >2015-03-03 10:07:45</td>\n",
       "                        <td id=\"T_a8891e05_883b_11eb_89b2_704d7b3c13bcrow2_col73\" class=\"data row2 col73\" >2015-03-04 10:15:26</td>\n",
       "                        <td id=\"T_a8891e05_883b_11eb_89b2_704d7b3c13bcrow2_col74\" class=\"data row2 col74\" >nan</td>\n",
       "                        <td id=\"T_a8891e05_883b_11eb_89b2_704d7b3c13bcrow2_col75\" class=\"data row2 col75\" >2015-03-06 09:48:49</td>\n",
       "                        <td id=\"T_a8891e05_883b_11eb_89b2_704d7b3c13bcrow2_col76\" class=\"data row2 col76\" >2015-03-09 10:17:45</td>\n",
       "                        <td id=\"T_a8891e05_883b_11eb_89b2_704d7b3c13bcrow2_col77\" class=\"data row2 col77\" >2015-03-10 09:46:10</td>\n",
       "                        <td id=\"T_a8891e05_883b_11eb_89b2_704d7b3c13bcrow2_col78\" class=\"data row2 col78\" >2015-03-11 10:26:39</td>\n",
       "                        <td id=\"T_a8891e05_883b_11eb_89b2_704d7b3c13bcrow2_col79\" class=\"data row2 col79\" >2015-03-12 09:56:28</td>\n",
       "                        <td id=\"T_a8891e05_883b_11eb_89b2_704d7b3c13bcrow2_col80\" class=\"data row2 col80\" >2015-03-13 09:36:23</td>\n",
       "                        <td id=\"T_a8891e05_883b_11eb_89b2_704d7b3c13bcrow2_col81\" class=\"data row2 col81\" >2015-03-16 10:07:30</td>\n",
       "                        <td id=\"T_a8891e05_883b_11eb_89b2_704d7b3c13bcrow2_col82\" class=\"data row2 col82\" >2015-03-17 10:00:43</td>\n",
       "                        <td id=\"T_a8891e05_883b_11eb_89b2_704d7b3c13bcrow2_col83\" class=\"data row2 col83\" >2015-03-18 10:20:10</td>\n",
       "                        <td id=\"T_a8891e05_883b_11eb_89b2_704d7b3c13bcrow2_col84\" class=\"data row2 col84\" >2015-03-19 09:54:40</td>\n",
       "                        <td id=\"T_a8891e05_883b_11eb_89b2_704d7b3c13bcrow2_col85\" class=\"data row2 col85\" >nan</td>\n",
       "                        <td id=\"T_a8891e05_883b_11eb_89b2_704d7b3c13bcrow2_col86\" class=\"data row2 col86\" >2015-03-23 10:04:28</td>\n",
       "                        <td id=\"T_a8891e05_883b_11eb_89b2_704d7b3c13bcrow2_col87\" class=\"data row2 col87\" >2015-03-24 10:18:38</td>\n",
       "                        <td id=\"T_a8891e05_883b_11eb_89b2_704d7b3c13bcrow2_col88\" class=\"data row2 col88\" >2015-03-25 09:43:22</td>\n",
       "                        <td id=\"T_a8891e05_883b_11eb_89b2_704d7b3c13bcrow2_col89\" class=\"data row2 col89\" >2015-03-26 09:37:02</td>\n",
       "                        <td id=\"T_a8891e05_883b_11eb_89b2_704d7b3c13bcrow2_col90\" class=\"data row2 col90\" >nan</td>\n",
       "                        <td id=\"T_a8891e05_883b_11eb_89b2_704d7b3c13bcrow2_col91\" class=\"data row2 col91\" >2015-03-30 09:54:55</td>\n",
       "                        <td id=\"T_a8891e05_883b_11eb_89b2_704d7b3c13bcrow2_col92\" class=\"data row2 col92\" >2015-03-31 10:00:57</td>\n",
       "                        <td id=\"T_a8891e05_883b_11eb_89b2_704d7b3c13bcrow2_col93\" class=\"data row2 col93\" >2015-04-01 09:52:42</td>\n",
       "                        <td id=\"T_a8891e05_883b_11eb_89b2_704d7b3c13bcrow2_col94\" class=\"data row2 col94\" >2015-04-02 10:24:02</td>\n",
       "                        <td id=\"T_a8891e05_883b_11eb_89b2_704d7b3c13bcrow2_col95\" class=\"data row2 col95\" >2015-04-03 10:01:42</td>\n",
       "                        <td id=\"T_a8891e05_883b_11eb_89b2_704d7b3c13bcrow2_col96\" class=\"data row2 col96\" >2015-04-06 09:33:15</td>\n",
       "                        <td id=\"T_a8891e05_883b_11eb_89b2_704d7b3c13bcrow2_col97\" class=\"data row2 col97\" >2015-04-07 10:13:13</td>\n",
       "                        <td id=\"T_a8891e05_883b_11eb_89b2_704d7b3c13bcrow2_col98\" class=\"data row2 col98\" >2015-04-08 10:38:41</td>\n",
       "                        <td id=\"T_a8891e05_883b_11eb_89b2_704d7b3c13bcrow2_col99\" class=\"data row2 col99\" >2015-04-09 10:17:34</td>\n",
       "                        <td id=\"T_a8891e05_883b_11eb_89b2_704d7b3c13bcrow2_col100\" class=\"data row2 col100\" >2015-04-10 10:28:08</td>\n",
       "                        <td id=\"T_a8891e05_883b_11eb_89b2_704d7b3c13bcrow2_col101\" class=\"data row2 col101\" >2015-04-13 10:14:55</td>\n",
       "                        <td id=\"T_a8891e05_883b_11eb_89b2_704d7b3c13bcrow2_col102\" class=\"data row2 col102\" >2015-04-14 09:29:50</td>\n",
       "                        <td id=\"T_a8891e05_883b_11eb_89b2_704d7b3c13bcrow2_col103\" class=\"data row2 col103\" >2015-04-15 10:06:52</td>\n",
       "                        <td id=\"T_a8891e05_883b_11eb_89b2_704d7b3c13bcrow2_col104\" class=\"data row2 col104\" >2015-04-16 09:46:13</td>\n",
       "                        <td id=\"T_a8891e05_883b_11eb_89b2_704d7b3c13bcrow2_col105\" class=\"data row2 col105\" >2015-04-17 10:16:08</td>\n",
       "                        <td id=\"T_a8891e05_883b_11eb_89b2_704d7b3c13bcrow2_col106\" class=\"data row2 col106\" >2015-04-20 09:36:16</td>\n",
       "                        <td id=\"T_a8891e05_883b_11eb_89b2_704d7b3c13bcrow2_col107\" class=\"data row2 col107\" >2015-04-21 10:07:10</td>\n",
       "                        <td id=\"T_a8891e05_883b_11eb_89b2_704d7b3c13bcrow2_col108\" class=\"data row2 col108\" >2015-04-22 09:56:42</td>\n",
       "                        <td id=\"T_a8891e05_883b_11eb_89b2_704d7b3c13bcrow2_col109\" class=\"data row2 col109\" >nan</td>\n",
       "                        <td id=\"T_a8891e05_883b_11eb_89b2_704d7b3c13bcrow2_col110\" class=\"data row2 col110\" >2015-04-24 10:10:15</td>\n",
       "                        <td id=\"T_a8891e05_883b_11eb_89b2_704d7b3c13bcrow2_col111\" class=\"data row2 col111\" >2015-04-27 09:29:29</td>\n",
       "                        <td id=\"T_a8891e05_883b_11eb_89b2_704d7b3c13bcrow2_col112\" class=\"data row2 col112\" >2015-04-28 10:01:45</td>\n",
       "                        <td id=\"T_a8891e05_883b_11eb_89b2_704d7b3c13bcrow2_col113\" class=\"data row2 col113\" >2015-04-29 09:54:28</td>\n",
       "                        <td id=\"T_a8891e05_883b_11eb_89b2_704d7b3c13bcrow2_col114\" class=\"data row2 col114\" >2015-04-30 09:40:30</td>\n",
       "                        <td id=\"T_a8891e05_883b_11eb_89b2_704d7b3c13bcrow2_col115\" class=\"data row2 col115\" >nan</td>\n",
       "                        <td id=\"T_a8891e05_883b_11eb_89b2_704d7b3c13bcrow2_col116\" class=\"data row2 col116\" >2015-05-04 09:55:15</td>\n",
       "                        <td id=\"T_a8891e05_883b_11eb_89b2_704d7b3c13bcrow2_col117\" class=\"data row2 col117\" >2015-05-05 09:53:50</td>\n",
       "                        <td id=\"T_a8891e05_883b_11eb_89b2_704d7b3c13bcrow2_col118\" class=\"data row2 col118\" >2015-05-06 10:20:45</td>\n",
       "                        <td id=\"T_a8891e05_883b_11eb_89b2_704d7b3c13bcrow2_col119\" class=\"data row2 col119\" >2015-05-07 09:49:38</td>\n",
       "                        <td id=\"T_a8891e05_883b_11eb_89b2_704d7b3c13bcrow2_col120\" class=\"data row2 col120\" >2015-05-08 10:21:01</td>\n",
       "                        <td id=\"T_a8891e05_883b_11eb_89b2_704d7b3c13bcrow2_col121\" class=\"data row2 col121\" >2015-05-11 09:47:03</td>\n",
       "                        <td id=\"T_a8891e05_883b_11eb_89b2_704d7b3c13bcrow2_col122\" class=\"data row2 col122\" >2015-05-12 09:39:48</td>\n",
       "                        <td id=\"T_a8891e05_883b_11eb_89b2_704d7b3c13bcrow2_col123\" class=\"data row2 col123\" >2015-05-13 09:50:23</td>\n",
       "                        <td id=\"T_a8891e05_883b_11eb_89b2_704d7b3c13bcrow2_col124\" class=\"data row2 col124\" >2015-05-14 09:45:22</td>\n",
       "                        <td id=\"T_a8891e05_883b_11eb_89b2_704d7b3c13bcrow2_col125\" class=\"data row2 col125\" >2015-05-15 09:48:59</td>\n",
       "                        <td id=\"T_a8891e05_883b_11eb_89b2_704d7b3c13bcrow2_col126\" class=\"data row2 col126\" >2015-05-18 10:03:24</td>\n",
       "                        <td id=\"T_a8891e05_883b_11eb_89b2_704d7b3c13bcrow2_col127\" class=\"data row2 col127\" >2015-05-19 09:40:26</td>\n",
       "                        <td id=\"T_a8891e05_883b_11eb_89b2_704d7b3c13bcrow2_col128\" class=\"data row2 col128\" >2015-05-20 09:40:20</td>\n",
       "                        <td id=\"T_a8891e05_883b_11eb_89b2_704d7b3c13bcrow2_col129\" class=\"data row2 col129\" >2015-05-21 09:37:39</td>\n",
       "                        <td id=\"T_a8891e05_883b_11eb_89b2_704d7b3c13bcrow2_col130\" class=\"data row2 col130\" >2015-05-22 10:04:08</td>\n",
       "                        <td id=\"T_a8891e05_883b_11eb_89b2_704d7b3c13bcrow2_col131\" class=\"data row2 col131\" >2015-05-25 10:06:54</td>\n",
       "                        <td id=\"T_a8891e05_883b_11eb_89b2_704d7b3c13bcrow2_col132\" class=\"data row2 col132\" >2015-05-26 10:28:05</td>\n",
       "                        <td id=\"T_a8891e05_883b_11eb_89b2_704d7b3c13bcrow2_col133\" class=\"data row2 col133\" >2015-05-27 10:14:07</td>\n",
       "                        <td id=\"T_a8891e05_883b_11eb_89b2_704d7b3c13bcrow2_col134\" class=\"data row2 col134\" >2015-05-28 10:13:25</td>\n",
       "                        <td id=\"T_a8891e05_883b_11eb_89b2_704d7b3c13bcrow2_col135\" class=\"data row2 col135\" >2015-05-29 10:08:23</td>\n",
       "                        <td id=\"T_a8891e05_883b_11eb_89b2_704d7b3c13bcrow2_col136\" class=\"data row2 col136\" >2015-06-01 09:57:32</td>\n",
       "                        <td id=\"T_a8891e05_883b_11eb_89b2_704d7b3c13bcrow2_col137\" class=\"data row2 col137\" >2015-06-02 09:58:49</td>\n",
       "                        <td id=\"T_a8891e05_883b_11eb_89b2_704d7b3c13bcrow2_col138\" class=\"data row2 col138\" >2015-06-03 10:03:00</td>\n",
       "                        <td id=\"T_a8891e05_883b_11eb_89b2_704d7b3c13bcrow2_col139\" class=\"data row2 col139\" >2015-06-04 09:32:13</td>\n",
       "                        <td id=\"T_a8891e05_883b_11eb_89b2_704d7b3c13bcrow2_col140\" class=\"data row2 col140\" >2015-06-05 09:43:51</td>\n",
       "                        <td id=\"T_a8891e05_883b_11eb_89b2_704d7b3c13bcrow2_col141\" class=\"data row2 col141\" >2015-06-08 09:31:20</td>\n",
       "                        <td id=\"T_a8891e05_883b_11eb_89b2_704d7b3c13bcrow2_col142\" class=\"data row2 col142\" >2015-06-09 09:49:58</td>\n",
       "                        <td id=\"T_a8891e05_883b_11eb_89b2_704d7b3c13bcrow2_col143\" class=\"data row2 col143\" >2015-06-10 10:14:49</td>\n",
       "                        <td id=\"T_a8891e05_883b_11eb_89b2_704d7b3c13bcrow2_col144\" class=\"data row2 col144\" >2015-06-11 10:07:21</td>\n",
       "                        <td id=\"T_a8891e05_883b_11eb_89b2_704d7b3c13bcrow2_col145\" class=\"data row2 col145\" >2015-06-12 10:10:53</td>\n",
       "                        <td id=\"T_a8891e05_883b_11eb_89b2_704d7b3c13bcrow2_col146\" class=\"data row2 col146\" >2015-06-15 09:52:17</td>\n",
       "                        <td id=\"T_a8891e05_883b_11eb_89b2_704d7b3c13bcrow2_col147\" class=\"data row2 col147\" >2015-06-16 09:33:01</td>\n",
       "                        <td id=\"T_a8891e05_883b_11eb_89b2_704d7b3c13bcrow2_col148\" class=\"data row2 col148\" >2015-06-17 09:50:53</td>\n",
       "                        <td id=\"T_a8891e05_883b_11eb_89b2_704d7b3c13bcrow2_col149\" class=\"data row2 col149\" >2015-06-18 10:01:04</td>\n",
       "                        <td id=\"T_a8891e05_883b_11eb_89b2_704d7b3c13bcrow2_col150\" class=\"data row2 col150\" >2015-06-19 09:47:22</td>\n",
       "                        <td id=\"T_a8891e05_883b_11eb_89b2_704d7b3c13bcrow2_col151\" class=\"data row2 col151\" >2015-06-22 09:52:10</td>\n",
       "                        <td id=\"T_a8891e05_883b_11eb_89b2_704d7b3c13bcrow2_col152\" class=\"data row2 col152\" >2015-06-23 09:44:50</td>\n",
       "                        <td id=\"T_a8891e05_883b_11eb_89b2_704d7b3c13bcrow2_col153\" class=\"data row2 col153\" >nan</td>\n",
       "                        <td id=\"T_a8891e05_883b_11eb_89b2_704d7b3c13bcrow2_col154\" class=\"data row2 col154\" >2015-06-25 10:10:41</td>\n",
       "                        <td id=\"T_a8891e05_883b_11eb_89b2_704d7b3c13bcrow2_col155\" class=\"data row2 col155\" >2015-06-26 10:02:07</td>\n",
       "                        <td id=\"T_a8891e05_883b_11eb_89b2_704d7b3c13bcrow2_col156\" class=\"data row2 col156\" >2015-06-29 09:33:13</td>\n",
       "                        <td id=\"T_a8891e05_883b_11eb_89b2_704d7b3c13bcrow2_col157\" class=\"data row2 col157\" >2015-06-30 10:13:47</td>\n",
       "                        <td id=\"T_a8891e05_883b_11eb_89b2_704d7b3c13bcrow2_col158\" class=\"data row2 col158\" >2015-07-01 10:07:56</td>\n",
       "                        <td id=\"T_a8891e05_883b_11eb_89b2_704d7b3c13bcrow2_col159\" class=\"data row2 col159\" >2015-07-02 10:26:28</td>\n",
       "                        <td id=\"T_a8891e05_883b_11eb_89b2_704d7b3c13bcrow2_col160\" class=\"data row2 col160\" >2015-07-03 09:40:28</td>\n",
       "                        <td id=\"T_a8891e05_883b_11eb_89b2_704d7b3c13bcrow2_col161\" class=\"data row2 col161\" >2015-07-06 10:02:42</td>\n",
       "                        <td id=\"T_a8891e05_883b_11eb_89b2_704d7b3c13bcrow2_col162\" class=\"data row2 col162\" >2015-07-07 10:50:49</td>\n",
       "                        <td id=\"T_a8891e05_883b_11eb_89b2_704d7b3c13bcrow2_col163\" class=\"data row2 col163\" >2015-07-08 09:56:24</td>\n",
       "                        <td id=\"T_a8891e05_883b_11eb_89b2_704d7b3c13bcrow2_col164\" class=\"data row2 col164\" >2015-07-09 10:08:14</td>\n",
       "                        <td id=\"T_a8891e05_883b_11eb_89b2_704d7b3c13bcrow2_col165\" class=\"data row2 col165\" >2015-07-10 09:58:44</td>\n",
       "                        <td id=\"T_a8891e05_883b_11eb_89b2_704d7b3c13bcrow2_col166\" class=\"data row2 col166\" >2015-07-13 09:59:18</td>\n",
       "                        <td id=\"T_a8891e05_883b_11eb_89b2_704d7b3c13bcrow2_col167\" class=\"data row2 col167\" >2015-07-14 09:54:55</td>\n",
       "                        <td id=\"T_a8891e05_883b_11eb_89b2_704d7b3c13bcrow2_col168\" class=\"data row2 col168\" >2015-07-15 09:42:13</td>\n",
       "                        <td id=\"T_a8891e05_883b_11eb_89b2_704d7b3c13bcrow2_col169\" class=\"data row2 col169\" >2015-07-16 10:00:16</td>\n",
       "                        <td id=\"T_a8891e05_883b_11eb_89b2_704d7b3c13bcrow2_col170\" class=\"data row2 col170\" >nan</td>\n",
       "                        <td id=\"T_a8891e05_883b_11eb_89b2_704d7b3c13bcrow2_col171\" class=\"data row2 col171\" >2015-07-20 10:12:37</td>\n",
       "                        <td id=\"T_a8891e05_883b_11eb_89b2_704d7b3c13bcrow2_col172\" class=\"data row2 col172\" >2015-07-21 09:39:36</td>\n",
       "                        <td id=\"T_a8891e05_883b_11eb_89b2_704d7b3c13bcrow2_col173\" class=\"data row2 col173\" >2015-07-22 09:50:19</td>\n",
       "                        <td id=\"T_a8891e05_883b_11eb_89b2_704d7b3c13bcrow2_col174\" class=\"data row2 col174\" >2015-07-23 10:27:02</td>\n",
       "                        <td id=\"T_a8891e05_883b_11eb_89b2_704d7b3c13bcrow2_col175\" class=\"data row2 col175\" >2015-07-24 09:58:29</td>\n",
       "                        <td id=\"T_a8891e05_883b_11eb_89b2_704d7b3c13bcrow2_col176\" class=\"data row2 col176\" >2015-07-27 10:11:51</td>\n",
       "                        <td id=\"T_a8891e05_883b_11eb_89b2_704d7b3c13bcrow2_col177\" class=\"data row2 col177\" >2015-07-28 09:44:58</td>\n",
       "                        <td id=\"T_a8891e05_883b_11eb_89b2_704d7b3c13bcrow2_col178\" class=\"data row2 col178\" >2015-07-29 10:29:58</td>\n",
       "                        <td id=\"T_a8891e05_883b_11eb_89b2_704d7b3c13bcrow2_col179\" class=\"data row2 col179\" >2015-07-30 10:27:08</td>\n",
       "                        <td id=\"T_a8891e05_883b_11eb_89b2_704d7b3c13bcrow2_col180\" class=\"data row2 col180\" >2015-07-31 09:32:14</td>\n",
       "                        <td id=\"T_a8891e05_883b_11eb_89b2_704d7b3c13bcrow2_col181\" class=\"data row2 col181\" >2015-08-03 09:49:21</td>\n",
       "                        <td id=\"T_a8891e05_883b_11eb_89b2_704d7b3c13bcrow2_col182\" class=\"data row2 col182\" >2015-08-04 09:37:19</td>\n",
       "                        <td id=\"T_a8891e05_883b_11eb_89b2_704d7b3c13bcrow2_col183\" class=\"data row2 col183\" >nan</td>\n",
       "                        <td id=\"T_a8891e05_883b_11eb_89b2_704d7b3c13bcrow2_col184\" class=\"data row2 col184\" >2015-08-06 10:00:11</td>\n",
       "                        <td id=\"T_a8891e05_883b_11eb_89b2_704d7b3c13bcrow2_col185\" class=\"data row2 col185\" >2015-08-07 09:36:58</td>\n",
       "                        <td id=\"T_a8891e05_883b_11eb_89b2_704d7b3c13bcrow2_col186\" class=\"data row2 col186\" >2015-08-10 09:51:11</td>\n",
       "                        <td id=\"T_a8891e05_883b_11eb_89b2_704d7b3c13bcrow2_col187\" class=\"data row2 col187\" >2015-08-11 09:49:26</td>\n",
       "                        <td id=\"T_a8891e05_883b_11eb_89b2_704d7b3c13bcrow2_col188\" class=\"data row2 col188\" >2015-08-12 10:26:18</td>\n",
       "                        <td id=\"T_a8891e05_883b_11eb_89b2_704d7b3c13bcrow2_col189\" class=\"data row2 col189\" >2015-08-13 10:12:57</td>\n",
       "                        <td id=\"T_a8891e05_883b_11eb_89b2_704d7b3c13bcrow2_col190\" class=\"data row2 col190\" >2015-08-14 09:51:22</td>\n",
       "                        <td id=\"T_a8891e05_883b_11eb_89b2_704d7b3c13bcrow2_col191\" class=\"data row2 col191\" >2015-08-17 09:59:35</td>\n",
       "                        <td id=\"T_a8891e05_883b_11eb_89b2_704d7b3c13bcrow2_col192\" class=\"data row2 col192\" >2015-08-18 09:57:40</td>\n",
       "                        <td id=\"T_a8891e05_883b_11eb_89b2_704d7b3c13bcrow2_col193\" class=\"data row2 col193\" >2015-08-19 10:06:09</td>\n",
       "                        <td id=\"T_a8891e05_883b_11eb_89b2_704d7b3c13bcrow2_col194\" class=\"data row2 col194\" >2015-08-20 10:09:06</td>\n",
       "                        <td id=\"T_a8891e05_883b_11eb_89b2_704d7b3c13bcrow2_col195\" class=\"data row2 col195\" >2015-08-21 10:28:51</td>\n",
       "                        <td id=\"T_a8891e05_883b_11eb_89b2_704d7b3c13bcrow2_col196\" class=\"data row2 col196\" >2015-08-24 10:04:52</td>\n",
       "                        <td id=\"T_a8891e05_883b_11eb_89b2_704d7b3c13bcrow2_col197\" class=\"data row2 col197\" >2015-08-25 10:09:53</td>\n",
       "                        <td id=\"T_a8891e05_883b_11eb_89b2_704d7b3c13bcrow2_col198\" class=\"data row2 col198\" >2015-08-26 10:26:55</td>\n",
       "                        <td id=\"T_a8891e05_883b_11eb_89b2_704d7b3c13bcrow2_col199\" class=\"data row2 col199\" >2015-08-27 09:08:23</td>\n",
       "                        <td id=\"T_a8891e05_883b_11eb_89b2_704d7b3c13bcrow2_col200\" class=\"data row2 col200\" >2015-08-28 10:07:20</td>\n",
       "                        <td id=\"T_a8891e05_883b_11eb_89b2_704d7b3c13bcrow2_col201\" class=\"data row2 col201\" >2015-08-31 09:44:35</td>\n",
       "                        <td id=\"T_a8891e05_883b_11eb_89b2_704d7b3c13bcrow2_col202\" class=\"data row2 col202\" >2015-09-01 09:51:52</td>\n",
       "                        <td id=\"T_a8891e05_883b_11eb_89b2_704d7b3c13bcrow2_col203\" class=\"data row2 col203\" >2015-09-02 09:52:28</td>\n",
       "                        <td id=\"T_a8891e05_883b_11eb_89b2_704d7b3c13bcrow2_col204\" class=\"data row2 col204\" >2015-09-03 10:05:51</td>\n",
       "                        <td id=\"T_a8891e05_883b_11eb_89b2_704d7b3c13bcrow2_col205\" class=\"data row2 col205\" >2015-09-04 10:11:53</td>\n",
       "                        <td id=\"T_a8891e05_883b_11eb_89b2_704d7b3c13bcrow2_col206\" class=\"data row2 col206\" >2015-09-07 09:28:00</td>\n",
       "                        <td id=\"T_a8891e05_883b_11eb_89b2_704d7b3c13bcrow2_col207\" class=\"data row2 col207\" >2015-09-08 09:38:21</td>\n",
       "                        <td id=\"T_a8891e05_883b_11eb_89b2_704d7b3c13bcrow2_col208\" class=\"data row2 col208\" >2015-09-09 09:45:09</td>\n",
       "                        <td id=\"T_a8891e05_883b_11eb_89b2_704d7b3c13bcrow2_col209\" class=\"data row2 col209\" >2015-09-10 09:49:52</td>\n",
       "                        <td id=\"T_a8891e05_883b_11eb_89b2_704d7b3c13bcrow2_col210\" class=\"data row2 col210\" >2015-09-11 09:57:16</td>\n",
       "                        <td id=\"T_a8891e05_883b_11eb_89b2_704d7b3c13bcrow2_col211\" class=\"data row2 col211\" >2015-09-14 10:27:59</td>\n",
       "                        <td id=\"T_a8891e05_883b_11eb_89b2_704d7b3c13bcrow2_col212\" class=\"data row2 col212\" >2015-09-15 10:11:20</td>\n",
       "                        <td id=\"T_a8891e05_883b_11eb_89b2_704d7b3c13bcrow2_col213\" class=\"data row2 col213\" >2015-09-16 09:55:26</td>\n",
       "                        <td id=\"T_a8891e05_883b_11eb_89b2_704d7b3c13bcrow2_col214\" class=\"data row2 col214\" >nan</td>\n",
       "                        <td id=\"T_a8891e05_883b_11eb_89b2_704d7b3c13bcrow2_col215\" class=\"data row2 col215\" >2015-09-18 09:54:29</td>\n",
       "                        <td id=\"T_a8891e05_883b_11eb_89b2_704d7b3c13bcrow2_col216\" class=\"data row2 col216\" >2015-09-21 09:29:30</td>\n",
       "                        <td id=\"T_a8891e05_883b_11eb_89b2_704d7b3c13bcrow2_col217\" class=\"data row2 col217\" >2015-09-22 09:35:39</td>\n",
       "                        <td id=\"T_a8891e05_883b_11eb_89b2_704d7b3c13bcrow2_col218\" class=\"data row2 col218\" >2015-09-23 09:56:54</td>\n",
       "                        <td id=\"T_a8891e05_883b_11eb_89b2_704d7b3c13bcrow2_col219\" class=\"data row2 col219\" >2015-09-24 10:31:35</td>\n",
       "                        <td id=\"T_a8891e05_883b_11eb_89b2_704d7b3c13bcrow2_col220\" class=\"data row2 col220\" >2015-09-25 09:40:55</td>\n",
       "                        <td id=\"T_a8891e05_883b_11eb_89b2_704d7b3c13bcrow2_col221\" class=\"data row2 col221\" >2015-09-28 09:55:28</td>\n",
       "                        <td id=\"T_a8891e05_883b_11eb_89b2_704d7b3c13bcrow2_col222\" class=\"data row2 col222\" >2015-09-29 10:25:49</td>\n",
       "                        <td id=\"T_a8891e05_883b_11eb_89b2_704d7b3c13bcrow2_col223\" class=\"data row2 col223\" >2015-09-30 10:11:02</td>\n",
       "                        <td id=\"T_a8891e05_883b_11eb_89b2_704d7b3c13bcrow2_col224\" class=\"data row2 col224\" >2015-10-01 09:58:27</td>\n",
       "                        <td id=\"T_a8891e05_883b_11eb_89b2_704d7b3c13bcrow2_col225\" class=\"data row2 col225\" >nan</td>\n",
       "                        <td id=\"T_a8891e05_883b_11eb_89b2_704d7b3c13bcrow2_col226\" class=\"data row2 col226\" >2015-10-05 10:10:21</td>\n",
       "                        <td id=\"T_a8891e05_883b_11eb_89b2_704d7b3c13bcrow2_col227\" class=\"data row2 col227\" >2015-10-06 09:56:07</td>\n",
       "                        <td id=\"T_a8891e05_883b_11eb_89b2_704d7b3c13bcrow2_col228\" class=\"data row2 col228\" >2015-10-07 10:09:43</td>\n",
       "                        <td id=\"T_a8891e05_883b_11eb_89b2_704d7b3c13bcrow2_col229\" class=\"data row2 col229\" >2015-10-08 09:46:36</td>\n",
       "                        <td id=\"T_a8891e05_883b_11eb_89b2_704d7b3c13bcrow2_col230\" class=\"data row2 col230\" >2015-10-09 10:00:44</td>\n",
       "                        <td id=\"T_a8891e05_883b_11eb_89b2_704d7b3c13bcrow2_col231\" class=\"data row2 col231\" >2015-10-12 10:14:10</td>\n",
       "                        <td id=\"T_a8891e05_883b_11eb_89b2_704d7b3c13bcrow2_col232\" class=\"data row2 col232\" >2015-10-13 10:22:14</td>\n",
       "                        <td id=\"T_a8891e05_883b_11eb_89b2_704d7b3c13bcrow2_col233\" class=\"data row2 col233\" >2015-10-14 10:20:42</td>\n",
       "                        <td id=\"T_a8891e05_883b_11eb_89b2_704d7b3c13bcrow2_col234\" class=\"data row2 col234\" >2015-10-15 10:12:05</td>\n",
       "                        <td id=\"T_a8891e05_883b_11eb_89b2_704d7b3c13bcrow2_col235\" class=\"data row2 col235\" >2015-10-16 09:41:55</td>\n",
       "                        <td id=\"T_a8891e05_883b_11eb_89b2_704d7b3c13bcrow2_col236\" class=\"data row2 col236\" >2015-10-19 10:03:40</td>\n",
       "                        <td id=\"T_a8891e05_883b_11eb_89b2_704d7b3c13bcrow2_col237\" class=\"data row2 col237\" >2015-10-20 10:02:12</td>\n",
       "                        <td id=\"T_a8891e05_883b_11eb_89b2_704d7b3c13bcrow2_col238\" class=\"data row2 col238\" >2015-10-21 10:52:27</td>\n",
       "                        <td id=\"T_a8891e05_883b_11eb_89b2_704d7b3c13bcrow2_col239\" class=\"data row2 col239\" >2015-10-22 10:10:44</td>\n",
       "                        <td id=\"T_a8891e05_883b_11eb_89b2_704d7b3c13bcrow2_col240\" class=\"data row2 col240\" >2015-10-23 10:08:37</td>\n",
       "                        <td id=\"T_a8891e05_883b_11eb_89b2_704d7b3c13bcrow2_col241\" class=\"data row2 col241\" >2015-10-26 10:29:26</td>\n",
       "                        <td id=\"T_a8891e05_883b_11eb_89b2_704d7b3c13bcrow2_col242\" class=\"data row2 col242\" >2015-10-27 09:48:57</td>\n",
       "                        <td id=\"T_a8891e05_883b_11eb_89b2_704d7b3c13bcrow2_col243\" class=\"data row2 col243\" >2015-10-28 09:54:52</td>\n",
       "                        <td id=\"T_a8891e05_883b_11eb_89b2_704d7b3c13bcrow2_col244\" class=\"data row2 col244\" >2015-10-29 09:47:27</td>\n",
       "                        <td id=\"T_a8891e05_883b_11eb_89b2_704d7b3c13bcrow2_col245\" class=\"data row2 col245\" >2015-10-30 09:51:47</td>\n",
       "                        <td id=\"T_a8891e05_883b_11eb_89b2_704d7b3c13bcrow2_col246\" class=\"data row2 col246\" >2015-11-02 09:54:18</td>\n",
       "                        <td id=\"T_a8891e05_883b_11eb_89b2_704d7b3c13bcrow2_col247\" class=\"data row2 col247\" >2015-11-03 09:52:40</td>\n",
       "                        <td id=\"T_a8891e05_883b_11eb_89b2_704d7b3c13bcrow2_col248\" class=\"data row2 col248\" >2015-11-04 10:19:14</td>\n",
       "                        <td id=\"T_a8891e05_883b_11eb_89b2_704d7b3c13bcrow2_col249\" class=\"data row2 col249\" >2015-11-05 10:23:27</td>\n",
       "                        <td id=\"T_a8891e05_883b_11eb_89b2_704d7b3c13bcrow2_col250\" class=\"data row2 col250\" >2015-11-06 10:06:29</td>\n",
       "                        <td id=\"T_a8891e05_883b_11eb_89b2_704d7b3c13bcrow2_col251\" class=\"data row2 col251\" >nan</td>\n",
       "                        <td id=\"T_a8891e05_883b_11eb_89b2_704d7b3c13bcrow2_col252\" class=\"data row2 col252\" >nan</td>\n",
       "                        <td id=\"T_a8891e05_883b_11eb_89b2_704d7b3c13bcrow2_col253\" class=\"data row2 col253\" >nan</td>\n",
       "                        <td id=\"T_a8891e05_883b_11eb_89b2_704d7b3c13bcrow2_col254\" class=\"data row2 col254\" >2015-11-12 10:14:47</td>\n",
       "                        <td id=\"T_a8891e05_883b_11eb_89b2_704d7b3c13bcrow2_col255\" class=\"data row2 col255\" >2015-11-13 09:43:37</td>\n",
       "                        <td id=\"T_a8891e05_883b_11eb_89b2_704d7b3c13bcrow2_col256\" class=\"data row2 col256\" >2015-11-16 10:02:56</td>\n",
       "                        <td id=\"T_a8891e05_883b_11eb_89b2_704d7b3c13bcrow2_col257\" class=\"data row2 col257\" >2015-11-17 09:51:38</td>\n",
       "                        <td id=\"T_a8891e05_883b_11eb_89b2_704d7b3c13bcrow2_col258\" class=\"data row2 col258\" >2015-11-18 10:12:13</td>\n",
       "                        <td id=\"T_a8891e05_883b_11eb_89b2_704d7b3c13bcrow2_col259\" class=\"data row2 col259\" >2015-11-19 10:08:46</td>\n",
       "                        <td id=\"T_a8891e05_883b_11eb_89b2_704d7b3c13bcrow2_col260\" class=\"data row2 col260\" >2015-11-20 10:06:39</td>\n",
       "                        <td id=\"T_a8891e05_883b_11eb_89b2_704d7b3c13bcrow2_col261\" class=\"data row2 col261\" >2015-11-23 10:02:01</td>\n",
       "                        <td id=\"T_a8891e05_883b_11eb_89b2_704d7b3c13bcrow2_col262\" class=\"data row2 col262\" >2015-11-24 09:53:52</td>\n",
       "                        <td id=\"T_a8891e05_883b_11eb_89b2_704d7b3c13bcrow2_col263\" class=\"data row2 col263\" >2015-11-25 10:16:19</td>\n",
       "                        <td id=\"T_a8891e05_883b_11eb_89b2_704d7b3c13bcrow2_col264\" class=\"data row2 col264\" >2015-11-26 10:07:02</td>\n",
       "                        <td id=\"T_a8891e05_883b_11eb_89b2_704d7b3c13bcrow2_col265\" class=\"data row2 col265\" >nan</td>\n",
       "                        <td id=\"T_a8891e05_883b_11eb_89b2_704d7b3c13bcrow2_col266\" class=\"data row2 col266\" >2015-11-30 10:01:33</td>\n",
       "                        <td id=\"T_a8891e05_883b_11eb_89b2_704d7b3c13bcrow2_col267\" class=\"data row2 col267\" >2015-12-01 10:02:52</td>\n",
       "                        <td id=\"T_a8891e05_883b_11eb_89b2_704d7b3c13bcrow2_col268\" class=\"data row2 col268\" >2015-12-02 10:10:34</td>\n",
       "                        <td id=\"T_a8891e05_883b_11eb_89b2_704d7b3c13bcrow2_col269\" class=\"data row2 col269\" >2015-12-03 10:18:25</td>\n",
       "                        <td id=\"T_a8891e05_883b_11eb_89b2_704d7b3c13bcrow2_col270\" class=\"data row2 col270\" >2015-12-04 10:06:40</td>\n",
       "                        <td id=\"T_a8891e05_883b_11eb_89b2_704d7b3c13bcrow2_col271\" class=\"data row2 col271\" >2015-12-07 10:21:09</td>\n",
       "                        <td id=\"T_a8891e05_883b_11eb_89b2_704d7b3c13bcrow2_col272\" class=\"data row2 col272\" >2015-12-08 09:59:19</td>\n",
       "                        <td id=\"T_a8891e05_883b_11eb_89b2_704d7b3c13bcrow2_col273\" class=\"data row2 col273\" >2015-12-09 10:17:28</td>\n",
       "                        <td id=\"T_a8891e05_883b_11eb_89b2_704d7b3c13bcrow2_col274\" class=\"data row2 col274\" >nan</td>\n",
       "                        <td id=\"T_a8891e05_883b_11eb_89b2_704d7b3c13bcrow2_col275\" class=\"data row2 col275\" >2015-12-11 09:49:55</td>\n",
       "                        <td id=\"T_a8891e05_883b_11eb_89b2_704d7b3c13bcrow2_col276\" class=\"data row2 col276\" >2015-12-14 09:42:31</td>\n",
       "                        <td id=\"T_a8891e05_883b_11eb_89b2_704d7b3c13bcrow2_col277\" class=\"data row2 col277\" >2015-12-15 09:54:48</td>\n",
       "                        <td id=\"T_a8891e05_883b_11eb_89b2_704d7b3c13bcrow2_col278\" class=\"data row2 col278\" >2015-12-16 09:48:34</td>\n",
       "                        <td id=\"T_a8891e05_883b_11eb_89b2_704d7b3c13bcrow2_col279\" class=\"data row2 col279\" >2015-12-17 09:53:17</td>\n",
       "                        <td id=\"T_a8891e05_883b_11eb_89b2_704d7b3c13bcrow2_col280\" class=\"data row2 col280\" >2015-12-18 10:15:14</td>\n",
       "                        <td id=\"T_a8891e05_883b_11eb_89b2_704d7b3c13bcrow2_col281\" class=\"data row2 col281\" >2015-12-21 10:10:28</td>\n",
       "                        <td id=\"T_a8891e05_883b_11eb_89b2_704d7b3c13bcrow2_col282\" class=\"data row2 col282\" >2015-12-22 09:44:44</td>\n",
       "                        <td id=\"T_a8891e05_883b_11eb_89b2_704d7b3c13bcrow2_col283\" class=\"data row2 col283\" >2015-12-23 10:15:54</td>\n",
       "                        <td id=\"T_a8891e05_883b_11eb_89b2_704d7b3c13bcrow2_col284\" class=\"data row2 col284\" >2015-12-24 10:07:26</td>\n",
       "                        <td id=\"T_a8891e05_883b_11eb_89b2_704d7b3c13bcrow2_col285\" class=\"data row2 col285\" >nan</td>\n",
       "                        <td id=\"T_a8891e05_883b_11eb_89b2_704d7b3c13bcrow2_col286\" class=\"data row2 col286\" >2015-12-28 09:42:05</td>\n",
       "                        <td id=\"T_a8891e05_883b_11eb_89b2_704d7b3c13bcrow2_col287\" class=\"data row2 col287\" >2015-12-29 09:43:36</td>\n",
       "                        <td id=\"T_a8891e05_883b_11eb_89b2_704d7b3c13bcrow2_col288\" class=\"data row2 col288\" >2015-12-30 09:34:05</td>\n",
       "                        <td id=\"T_a8891e05_883b_11eb_89b2_704d7b3c13bcrow2_col289\" class=\"data row2 col289\" >2015-12-31 10:28:39</td>\n",
       "                        <td id=\"T_a8891e05_883b_11eb_89b2_704d7b3c13bcrow2_col290\" class=\"data row2 col290\" >nan</td>\n",
       "                        <td id=\"T_a8891e05_883b_11eb_89b2_704d7b3c13bcrow2_col291\" class=\"data row2 col291\" >2015-01-02 16:59:14</td>\n",
       "                        <td id=\"T_a8891e05_883b_11eb_89b2_704d7b3c13bcrow2_col292\" class=\"data row2 col292\" >2015-01-05 17:06:46</td>\n",
       "                        <td id=\"T_a8891e05_883b_11eb_89b2_704d7b3c13bcrow2_col293\" class=\"data row2 col293\" >2015-01-06 16:38:32</td>\n",
       "                        <td id=\"T_a8891e05_883b_11eb_89b2_704d7b3c13bcrow2_col294\" class=\"data row2 col294\" >2015-01-07 16:33:21</td>\n",
       "                        <td id=\"T_a8891e05_883b_11eb_89b2_704d7b3c13bcrow2_col295\" class=\"data row2 col295\" >2015-01-08 17:24:22</td>\n",
       "                        <td id=\"T_a8891e05_883b_11eb_89b2_704d7b3c13bcrow2_col296\" class=\"data row2 col296\" >2015-01-09 16:57:30</td>\n",
       "                        <td id=\"T_a8891e05_883b_11eb_89b2_704d7b3c13bcrow2_col297\" class=\"data row2 col297\" >2015-01-12 17:28:54</td>\n",
       "                        <td id=\"T_a8891e05_883b_11eb_89b2_704d7b3c13bcrow2_col298\" class=\"data row2 col298\" >2015-01-13 17:21:25</td>\n",
       "                        <td id=\"T_a8891e05_883b_11eb_89b2_704d7b3c13bcrow2_col299\" class=\"data row2 col299\" >nan</td>\n",
       "                        <td id=\"T_a8891e05_883b_11eb_89b2_704d7b3c13bcrow2_col300\" class=\"data row2 col300\" >2015-01-15 17:21:29</td>\n",
       "                        <td id=\"T_a8891e05_883b_11eb_89b2_704d7b3c13bcrow2_col301\" class=\"data row2 col301\" >2015-01-16 17:18:13</td>\n",
       "                        <td id=\"T_a8891e05_883b_11eb_89b2_704d7b3c13bcrow2_col302\" class=\"data row2 col302\" >2015-01-19 16:52:13</td>\n",
       "                        <td id=\"T_a8891e05_883b_11eb_89b2_704d7b3c13bcrow2_col303\" class=\"data row2 col303\" >2015-01-20 16:52:23</td>\n",
       "                        <td id=\"T_a8891e05_883b_11eb_89b2_704d7b3c13bcrow2_col304\" class=\"data row2 col304\" >2015-01-21 17:17:50</td>\n",
       "                        <td id=\"T_a8891e05_883b_11eb_89b2_704d7b3c13bcrow2_col305\" class=\"data row2 col305\" >2015-01-22 17:27:54</td>\n",
       "                        <td id=\"T_a8891e05_883b_11eb_89b2_704d7b3c13bcrow2_col306\" class=\"data row2 col306\" >2015-01-23 17:11:52</td>\n",
       "                        <td id=\"T_a8891e05_883b_11eb_89b2_704d7b3c13bcrow2_col307\" class=\"data row2 col307\" >nan</td>\n",
       "                        <td id=\"T_a8891e05_883b_11eb_89b2_704d7b3c13bcrow2_col308\" class=\"data row2 col308\" >2015-01-27 17:22:27</td>\n",
       "                        <td id=\"T_a8891e05_883b_11eb_89b2_704d7b3c13bcrow2_col309\" class=\"data row2 col309\" >2015-01-28 16:24:04</td>\n",
       "                        <td id=\"T_a8891e05_883b_11eb_89b2_704d7b3c13bcrow2_col310\" class=\"data row2 col310\" >2015-01-29 17:20:07</td>\n",
       "                        <td id=\"T_a8891e05_883b_11eb_89b2_704d7b3c13bcrow2_col311\" class=\"data row2 col311\" >2015-01-30 17:16:03</td>\n",
       "                        <td id=\"T_a8891e05_883b_11eb_89b2_704d7b3c13bcrow2_col312\" class=\"data row2 col312\" >2015-02-02 16:59:01</td>\n",
       "                        <td id=\"T_a8891e05_883b_11eb_89b2_704d7b3c13bcrow2_col313\" class=\"data row2 col313\" >2015-02-03 15:58:24</td>\n",
       "                        <td id=\"T_a8891e05_883b_11eb_89b2_704d7b3c13bcrow2_col314\" class=\"data row2 col314\" >2015-02-04 17:25:54</td>\n",
       "                        <td id=\"T_a8891e05_883b_11eb_89b2_704d7b3c13bcrow2_col315\" class=\"data row2 col315\" >2015-02-05 16:29:41</td>\n",
       "                        <td id=\"T_a8891e05_883b_11eb_89b2_704d7b3c13bcrow2_col316\" class=\"data row2 col316\" >2015-02-06 17:18:15</td>\n",
       "                        <td id=\"T_a8891e05_883b_11eb_89b2_704d7b3c13bcrow2_col317\" class=\"data row2 col317\" >2015-02-09 16:48:18</td>\n",
       "                        <td id=\"T_a8891e05_883b_11eb_89b2_704d7b3c13bcrow2_col318\" class=\"data row2 col318\" >2015-02-10 17:15:49</td>\n",
       "                        <td id=\"T_a8891e05_883b_11eb_89b2_704d7b3c13bcrow2_col319\" class=\"data row2 col319\" >2015-02-11 16:49:22</td>\n",
       "                        <td id=\"T_a8891e05_883b_11eb_89b2_704d7b3c13bcrow2_col320\" class=\"data row2 col320\" >2015-02-12 16:22:31</td>\n",
       "                        <td id=\"T_a8891e05_883b_11eb_89b2_704d7b3c13bcrow2_col321\" class=\"data row2 col321\" >2015-02-13 17:41:15</td>\n",
       "                        <td id=\"T_a8891e05_883b_11eb_89b2_704d7b3c13bcrow2_col322\" class=\"data row2 col322\" >2015-02-16 17:20:05</td>\n",
       "                        <td id=\"T_a8891e05_883b_11eb_89b2_704d7b3c13bcrow2_col323\" class=\"data row2 col323\" >2015-02-17 16:46:01</td>\n",
       "                        <td id=\"T_a8891e05_883b_11eb_89b2_704d7b3c13bcrow2_col324\" class=\"data row2 col324\" >2015-02-18 17:19:08</td>\n",
       "                        <td id=\"T_a8891e05_883b_11eb_89b2_704d7b3c13bcrow2_col325\" class=\"data row2 col325\" >2015-02-19 16:44:56</td>\n",
       "                        <td id=\"T_a8891e05_883b_11eb_89b2_704d7b3c13bcrow2_col326\" class=\"data row2 col326\" >2015-02-20 17:14:02</td>\n",
       "                        <td id=\"T_a8891e05_883b_11eb_89b2_704d7b3c13bcrow2_col327\" class=\"data row2 col327\" >2015-02-23 17:59:19</td>\n",
       "                        <td id=\"T_a8891e05_883b_11eb_89b2_704d7b3c13bcrow2_col328\" class=\"data row2 col328\" >2015-02-24 17:08:34</td>\n",
       "                        <td id=\"T_a8891e05_883b_11eb_89b2_704d7b3c13bcrow2_col329\" class=\"data row2 col329\" >2015-02-25 16:55:31</td>\n",
       "                        <td id=\"T_a8891e05_883b_11eb_89b2_704d7b3c13bcrow2_col330\" class=\"data row2 col330\" >2015-02-26 17:34:33</td>\n",
       "                        <td id=\"T_a8891e05_883b_11eb_89b2_704d7b3c13bcrow2_col331\" class=\"data row2 col331\" >2015-02-27 16:48:44</td>\n",
       "                        <td id=\"T_a8891e05_883b_11eb_89b2_704d7b3c13bcrow2_col332\" class=\"data row2 col332\" >2015-03-02 17:32:13</td>\n",
       "                        <td id=\"T_a8891e05_883b_11eb_89b2_704d7b3c13bcrow2_col333\" class=\"data row2 col333\" >2015-03-03 17:11:01</td>\n",
       "                        <td id=\"T_a8891e05_883b_11eb_89b2_704d7b3c13bcrow2_col334\" class=\"data row2 col334\" >2015-03-04 17:26:45</td>\n",
       "                        <td id=\"T_a8891e05_883b_11eb_89b2_704d7b3c13bcrow2_col335\" class=\"data row2 col335\" >nan</td>\n",
       "                        <td id=\"T_a8891e05_883b_11eb_89b2_704d7b3c13bcrow2_col336\" class=\"data row2 col336\" >2015-03-06 16:35:05</td>\n",
       "                        <td id=\"T_a8891e05_883b_11eb_89b2_704d7b3c13bcrow2_col337\" class=\"data row2 col337\" >2015-03-09 17:08:34</td>\n",
       "                        <td id=\"T_a8891e05_883b_11eb_89b2_704d7b3c13bcrow2_col338\" class=\"data row2 col338\" >2015-03-10 16:38:33</td>\n",
       "                        <td id=\"T_a8891e05_883b_11eb_89b2_704d7b3c13bcrow2_col339\" class=\"data row2 col339\" >2015-03-11 17:31:26</td>\n",
       "                        <td id=\"T_a8891e05_883b_11eb_89b2_704d7b3c13bcrow2_col340\" class=\"data row2 col340\" >2015-03-12 17:13:00</td>\n",
       "                        <td id=\"T_a8891e05_883b_11eb_89b2_704d7b3c13bcrow2_col341\" class=\"data row2 col341\" >2015-03-13 16:25:40</td>\n",
       "                        <td id=\"T_a8891e05_883b_11eb_89b2_704d7b3c13bcrow2_col342\" class=\"data row2 col342\" >2015-03-16 16:53:08</td>\n",
       "                        <td id=\"T_a8891e05_883b_11eb_89b2_704d7b3c13bcrow2_col343\" class=\"data row2 col343\" >2015-03-17 17:07:58</td>\n",
       "                        <td id=\"T_a8891e05_883b_11eb_89b2_704d7b3c13bcrow2_col344\" class=\"data row2 col344\" >2015-03-18 17:39:10</td>\n",
       "                        <td id=\"T_a8891e05_883b_11eb_89b2_704d7b3c13bcrow2_col345\" class=\"data row2 col345\" >2015-03-19 16:27:24</td>\n",
       "                        <td id=\"T_a8891e05_883b_11eb_89b2_704d7b3c13bcrow2_col346\" class=\"data row2 col346\" >nan</td>\n",
       "                        <td id=\"T_a8891e05_883b_11eb_89b2_704d7b3c13bcrow2_col347\" class=\"data row2 col347\" >2015-03-23 16:50:31</td>\n",
       "                        <td id=\"T_a8891e05_883b_11eb_89b2_704d7b3c13bcrow2_col348\" class=\"data row2 col348\" >2015-03-24 17:12:39</td>\n",
       "                        <td id=\"T_a8891e05_883b_11eb_89b2_704d7b3c13bcrow2_col349\" class=\"data row2 col349\" >2015-03-25 16:42:17</td>\n",
       "                        <td id=\"T_a8891e05_883b_11eb_89b2_704d7b3c13bcrow2_col350\" class=\"data row2 col350\" >2015-03-26 17:02:08</td>\n",
       "                        <td id=\"T_a8891e05_883b_11eb_89b2_704d7b3c13bcrow2_col351\" class=\"data row2 col351\" >nan</td>\n",
       "                        <td id=\"T_a8891e05_883b_11eb_89b2_704d7b3c13bcrow2_col352\" class=\"data row2 col352\" >2015-03-30 16:37:47</td>\n",
       "                        <td id=\"T_a8891e05_883b_11eb_89b2_704d7b3c13bcrow2_col353\" class=\"data row2 col353\" >2015-03-31 17:29:39</td>\n",
       "                        <td id=\"T_a8891e05_883b_11eb_89b2_704d7b3c13bcrow2_col354\" class=\"data row2 col354\" >2015-04-01 16:47:25</td>\n",
       "                        <td id=\"T_a8891e05_883b_11eb_89b2_704d7b3c13bcrow2_col355\" class=\"data row2 col355\" >2015-04-02 17:14:02</td>\n",
       "                        <td id=\"T_a8891e05_883b_11eb_89b2_704d7b3c13bcrow2_col356\" class=\"data row2 col356\" >2015-04-03 16:46:36</td>\n",
       "                        <td id=\"T_a8891e05_883b_11eb_89b2_704d7b3c13bcrow2_col357\" class=\"data row2 col357\" >2015-04-06 16:27:34</td>\n",
       "                        <td id=\"T_a8891e05_883b_11eb_89b2_704d7b3c13bcrow2_col358\" class=\"data row2 col358\" >2015-04-07 17:27:19</td>\n",
       "                        <td id=\"T_a8891e05_883b_11eb_89b2_704d7b3c13bcrow2_col359\" class=\"data row2 col359\" >2015-04-08 17:36:18</td>\n",
       "                        <td id=\"T_a8891e05_883b_11eb_89b2_704d7b3c13bcrow2_col360\" class=\"data row2 col360\" >2015-04-09 17:45:16</td>\n",
       "                        <td id=\"T_a8891e05_883b_11eb_89b2_704d7b3c13bcrow2_col361\" class=\"data row2 col361\" >2015-04-10 17:13:27</td>\n",
       "                        <td id=\"T_a8891e05_883b_11eb_89b2_704d7b3c13bcrow2_col362\" class=\"data row2 col362\" >2015-04-13 17:30:51</td>\n",
       "                        <td id=\"T_a8891e05_883b_11eb_89b2_704d7b3c13bcrow2_col363\" class=\"data row2 col363\" >2015-04-14 16:43:49</td>\n",
       "                        <td id=\"T_a8891e05_883b_11eb_89b2_704d7b3c13bcrow2_col364\" class=\"data row2 col364\" >2015-04-15 17:23:07</td>\n",
       "                        <td id=\"T_a8891e05_883b_11eb_89b2_704d7b3c13bcrow2_col365\" class=\"data row2 col365\" >2015-04-16 16:49:51</td>\n",
       "                        <td id=\"T_a8891e05_883b_11eb_89b2_704d7b3c13bcrow2_col366\" class=\"data row2 col366\" >2015-04-17 17:52:50</td>\n",
       "                        <td id=\"T_a8891e05_883b_11eb_89b2_704d7b3c13bcrow2_col367\" class=\"data row2 col367\" >2015-04-20 17:03:14</td>\n",
       "                        <td id=\"T_a8891e05_883b_11eb_89b2_704d7b3c13bcrow2_col368\" class=\"data row2 col368\" >2015-04-21 17:15:37</td>\n",
       "                        <td id=\"T_a8891e05_883b_11eb_89b2_704d7b3c13bcrow2_col369\" class=\"data row2 col369\" >2015-04-22 17:23:28</td>\n",
       "                        <td id=\"T_a8891e05_883b_11eb_89b2_704d7b3c13bcrow2_col370\" class=\"data row2 col370\" >nan</td>\n",
       "                        <td id=\"T_a8891e05_883b_11eb_89b2_704d7b3c13bcrow2_col371\" class=\"data row2 col371\" >2015-04-24 17:05:07</td>\n",
       "                        <td id=\"T_a8891e05_883b_11eb_89b2_704d7b3c13bcrow2_col372\" class=\"data row2 col372\" >2015-04-27 16:29:39</td>\n",
       "                        <td id=\"T_a8891e05_883b_11eb_89b2_704d7b3c13bcrow2_col373\" class=\"data row2 col373\" >2015-04-28 17:22:20</td>\n",
       "                        <td id=\"T_a8891e05_883b_11eb_89b2_704d7b3c13bcrow2_col374\" class=\"data row2 col374\" >2015-04-29 16:52:17</td>\n",
       "                        <td id=\"T_a8891e05_883b_11eb_89b2_704d7b3c13bcrow2_col375\" class=\"data row2 col375\" >2015-04-30 16:43:32</td>\n",
       "                        <td id=\"T_a8891e05_883b_11eb_89b2_704d7b3c13bcrow2_col376\" class=\"data row2 col376\" >nan</td>\n",
       "                        <td id=\"T_a8891e05_883b_11eb_89b2_704d7b3c13bcrow2_col377\" class=\"data row2 col377\" >2015-05-04 16:42:30</td>\n",
       "                        <td id=\"T_a8891e05_883b_11eb_89b2_704d7b3c13bcrow2_col378\" class=\"data row2 col378\" >2015-05-05 16:13:39</td>\n",
       "                        <td id=\"T_a8891e05_883b_11eb_89b2_704d7b3c13bcrow2_col379\" class=\"data row2 col379\" >2015-05-06 17:27:27</td>\n",
       "                        <td id=\"T_a8891e05_883b_11eb_89b2_704d7b3c13bcrow2_col380\" class=\"data row2 col380\" >2015-05-07 16:41:59</td>\n",
       "                        <td id=\"T_a8891e05_883b_11eb_89b2_704d7b3c13bcrow2_col381\" class=\"data row2 col381\" >2015-05-08 17:13:18</td>\n",
       "                        <td id=\"T_a8891e05_883b_11eb_89b2_704d7b3c13bcrow2_col382\" class=\"data row2 col382\" >2015-05-11 16:49:00</td>\n",
       "                        <td id=\"T_a8891e05_883b_11eb_89b2_704d7b3c13bcrow2_col383\" class=\"data row2 col383\" >2015-05-12 16:45:55</td>\n",
       "                        <td id=\"T_a8891e05_883b_11eb_89b2_704d7b3c13bcrow2_col384\" class=\"data row2 col384\" >2015-05-13 16:40:15</td>\n",
       "                        <td id=\"T_a8891e05_883b_11eb_89b2_704d7b3c13bcrow2_col385\" class=\"data row2 col385\" >2015-05-14 17:01:56</td>\n",
       "                        <td id=\"T_a8891e05_883b_11eb_89b2_704d7b3c13bcrow2_col386\" class=\"data row2 col386\" >2015-05-15 16:25:36</td>\n",
       "                        <td id=\"T_a8891e05_883b_11eb_89b2_704d7b3c13bcrow2_col387\" class=\"data row2 col387\" >2015-05-18 17:17:40</td>\n",
       "                        <td id=\"T_a8891e05_883b_11eb_89b2_704d7b3c13bcrow2_col388\" class=\"data row2 col388\" >2015-05-19 17:05:17</td>\n",
       "                        <td id=\"T_a8891e05_883b_11eb_89b2_704d7b3c13bcrow2_col389\" class=\"data row2 col389\" >2015-05-20 17:06:32</td>\n",
       "                        <td id=\"T_a8891e05_883b_11eb_89b2_704d7b3c13bcrow2_col390\" class=\"data row2 col390\" >2015-05-21 16:44:37</td>\n",
       "                        <td id=\"T_a8891e05_883b_11eb_89b2_704d7b3c13bcrow2_col391\" class=\"data row2 col391\" >2015-05-22 16:54:06</td>\n",
       "                        <td id=\"T_a8891e05_883b_11eb_89b2_704d7b3c13bcrow2_col392\" class=\"data row2 col392\" >2015-05-25 17:23:42</td>\n",
       "                        <td id=\"T_a8891e05_883b_11eb_89b2_704d7b3c13bcrow2_col393\" class=\"data row2 col393\" >2015-05-26 16:44:02</td>\n",
       "                        <td id=\"T_a8891e05_883b_11eb_89b2_704d7b3c13bcrow2_col394\" class=\"data row2 col394\" >2015-05-27 17:23:12</td>\n",
       "                        <td id=\"T_a8891e05_883b_11eb_89b2_704d7b3c13bcrow2_col395\" class=\"data row2 col395\" >2015-05-28 16:31:51</td>\n",
       "                        <td id=\"T_a8891e05_883b_11eb_89b2_704d7b3c13bcrow2_col396\" class=\"data row2 col396\" >2015-05-29 16:53:00</td>\n",
       "                        <td id=\"T_a8891e05_883b_11eb_89b2_704d7b3c13bcrow2_col397\" class=\"data row2 col397\" >2015-06-01 16:44:52</td>\n",
       "                        <td id=\"T_a8891e05_883b_11eb_89b2_704d7b3c13bcrow2_col398\" class=\"data row2 col398\" >2015-06-02 17:09:28</td>\n",
       "                        <td id=\"T_a8891e05_883b_11eb_89b2_704d7b3c13bcrow2_col399\" class=\"data row2 col399\" >2015-06-03 17:21:49</td>\n",
       "                        <td id=\"T_a8891e05_883b_11eb_89b2_704d7b3c13bcrow2_col400\" class=\"data row2 col400\" >2015-06-04 16:21:03</td>\n",
       "                        <td id=\"T_a8891e05_883b_11eb_89b2_704d7b3c13bcrow2_col401\" class=\"data row2 col401\" >2015-06-05 16:24:55</td>\n",
       "                        <td id=\"T_a8891e05_883b_11eb_89b2_704d7b3c13bcrow2_col402\" class=\"data row2 col402\" >2015-06-08 17:09:46</td>\n",
       "                        <td id=\"T_a8891e05_883b_11eb_89b2_704d7b3c13bcrow2_col403\" class=\"data row2 col403\" >2015-06-09 16:46:00</td>\n",
       "                        <td id=\"T_a8891e05_883b_11eb_89b2_704d7b3c13bcrow2_col404\" class=\"data row2 col404\" >2015-06-10 17:35:00</td>\n",
       "                        <td id=\"T_a8891e05_883b_11eb_89b2_704d7b3c13bcrow2_col405\" class=\"data row2 col405\" >2015-06-11 17:20:01</td>\n",
       "                        <td id=\"T_a8891e05_883b_11eb_89b2_704d7b3c13bcrow2_col406\" class=\"data row2 col406\" >2015-06-12 17:18:04</td>\n",
       "                        <td id=\"T_a8891e05_883b_11eb_89b2_704d7b3c13bcrow2_col407\" class=\"data row2 col407\" >2015-06-15 16:58:07</td>\n",
       "                        <td id=\"T_a8891e05_883b_11eb_89b2_704d7b3c13bcrow2_col408\" class=\"data row2 col408\" >2015-06-16 16:27:56</td>\n",
       "                        <td id=\"T_a8891e05_883b_11eb_89b2_704d7b3c13bcrow2_col409\" class=\"data row2 col409\" >2015-06-17 16:50:32</td>\n",
       "                        <td id=\"T_a8891e05_883b_11eb_89b2_704d7b3c13bcrow2_col410\" class=\"data row2 col410\" >2015-06-18 17:16:36</td>\n",
       "                        <td id=\"T_a8891e05_883b_11eb_89b2_704d7b3c13bcrow2_col411\" class=\"data row2 col411\" >2015-06-19 16:43:47</td>\n",
       "                        <td id=\"T_a8891e05_883b_11eb_89b2_704d7b3c13bcrow2_col412\" class=\"data row2 col412\" >2015-06-22 16:29:10</td>\n",
       "                        <td id=\"T_a8891e05_883b_11eb_89b2_704d7b3c13bcrow2_col413\" class=\"data row2 col413\" >2015-06-23 16:53:24</td>\n",
       "                        <td id=\"T_a8891e05_883b_11eb_89b2_704d7b3c13bcrow2_col414\" class=\"data row2 col414\" >nan</td>\n",
       "                        <td id=\"T_a8891e05_883b_11eb_89b2_704d7b3c13bcrow2_col415\" class=\"data row2 col415\" >2015-06-25 16:44:56</td>\n",
       "                        <td id=\"T_a8891e05_883b_11eb_89b2_704d7b3c13bcrow2_col416\" class=\"data row2 col416\" >2015-06-26 17:05:33</td>\n",
       "                        <td id=\"T_a8891e05_883b_11eb_89b2_704d7b3c13bcrow2_col417\" class=\"data row2 col417\" >2015-06-29 16:19:27</td>\n",
       "                        <td id=\"T_a8891e05_883b_11eb_89b2_704d7b3c13bcrow2_col418\" class=\"data row2 col418\" >2015-06-30 16:49:09</td>\n",
       "                        <td id=\"T_a8891e05_883b_11eb_89b2_704d7b3c13bcrow2_col419\" class=\"data row2 col419\" >2015-07-01 16:50:55</td>\n",
       "                        <td id=\"T_a8891e05_883b_11eb_89b2_704d7b3c13bcrow2_col420\" class=\"data row2 col420\" >2015-07-02 17:17:35</td>\n",
       "                        <td id=\"T_a8891e05_883b_11eb_89b2_704d7b3c13bcrow2_col421\" class=\"data row2 col421\" >2015-07-03 16:36:11</td>\n",
       "                        <td id=\"T_a8891e05_883b_11eb_89b2_704d7b3c13bcrow2_col422\" class=\"data row2 col422\" >2015-07-06 18:00:41</td>\n",
       "                        <td id=\"T_a8891e05_883b_11eb_89b2_704d7b3c13bcrow2_col423\" class=\"data row2 col423\" >2015-07-07 17:36:36</td>\n",
       "                        <td id=\"T_a8891e05_883b_11eb_89b2_704d7b3c13bcrow2_col424\" class=\"data row2 col424\" >2015-07-08 16:47:57</td>\n",
       "                        <td id=\"T_a8891e05_883b_11eb_89b2_704d7b3c13bcrow2_col425\" class=\"data row2 col425\" >2015-07-09 18:07:51</td>\n",
       "                        <td id=\"T_a8891e05_883b_11eb_89b2_704d7b3c13bcrow2_col426\" class=\"data row2 col426\" >2015-07-10 17:01:41</td>\n",
       "                        <td id=\"T_a8891e05_883b_11eb_89b2_704d7b3c13bcrow2_col427\" class=\"data row2 col427\" >2015-07-13 16:20:14</td>\n",
       "                        <td id=\"T_a8891e05_883b_11eb_89b2_704d7b3c13bcrow2_col428\" class=\"data row2 col428\" >2015-07-14 17:18:35</td>\n",
       "                        <td id=\"T_a8891e05_883b_11eb_89b2_704d7b3c13bcrow2_col429\" class=\"data row2 col429\" >2015-07-15 16:54:35</td>\n",
       "                        <td id=\"T_a8891e05_883b_11eb_89b2_704d7b3c13bcrow2_col430\" class=\"data row2 col430\" >2015-07-16 16:56:24</td>\n",
       "                        <td id=\"T_a8891e05_883b_11eb_89b2_704d7b3c13bcrow2_col431\" class=\"data row2 col431\" >nan</td>\n",
       "                        <td id=\"T_a8891e05_883b_11eb_89b2_704d7b3c13bcrow2_col432\" class=\"data row2 col432\" >2015-07-20 17:07:52</td>\n",
       "                        <td id=\"T_a8891e05_883b_11eb_89b2_704d7b3c13bcrow2_col433\" class=\"data row2 col433\" >2015-07-21 16:51:57</td>\n",
       "                        <td id=\"T_a8891e05_883b_11eb_89b2_704d7b3c13bcrow2_col434\" class=\"data row2 col434\" >2015-07-22 16:28:59</td>\n",
       "                        <td id=\"T_a8891e05_883b_11eb_89b2_704d7b3c13bcrow2_col435\" class=\"data row2 col435\" >2015-07-23 17:23:36</td>\n",
       "                        <td id=\"T_a8891e05_883b_11eb_89b2_704d7b3c13bcrow2_col436\" class=\"data row2 col436\" >2015-07-24 16:49:58</td>\n",
       "                        <td id=\"T_a8891e05_883b_11eb_89b2_704d7b3c13bcrow2_col437\" class=\"data row2 col437\" >2015-07-27 17:18:46</td>\n",
       "                        <td id=\"T_a8891e05_883b_11eb_89b2_704d7b3c13bcrow2_col438\" class=\"data row2 col438\" >2015-07-28 17:28:39</td>\n",
       "                        <td id=\"T_a8891e05_883b_11eb_89b2_704d7b3c13bcrow2_col439\" class=\"data row2 col439\" >2015-07-29 17:53:35</td>\n",
       "                        <td id=\"T_a8891e05_883b_11eb_89b2_704d7b3c13bcrow2_col440\" class=\"data row2 col440\" >2015-07-30 17:25:52</td>\n",
       "                        <td id=\"T_a8891e05_883b_11eb_89b2_704d7b3c13bcrow2_col441\" class=\"data row2 col441\" >2015-07-31 16:44:55</td>\n",
       "                        <td id=\"T_a8891e05_883b_11eb_89b2_704d7b3c13bcrow2_col442\" class=\"data row2 col442\" >2015-08-03 16:52:05</td>\n",
       "                        <td id=\"T_a8891e05_883b_11eb_89b2_704d7b3c13bcrow2_col443\" class=\"data row2 col443\" >2015-08-04 16:25:27</td>\n",
       "                        <td id=\"T_a8891e05_883b_11eb_89b2_704d7b3c13bcrow2_col444\" class=\"data row2 col444\" >nan</td>\n",
       "                        <td id=\"T_a8891e05_883b_11eb_89b2_704d7b3c13bcrow2_col445\" class=\"data row2 col445\" >2015-08-06 16:53:15</td>\n",
       "                        <td id=\"T_a8891e05_883b_11eb_89b2_704d7b3c13bcrow2_col446\" class=\"data row2 col446\" >2015-08-07 16:31:42</td>\n",
       "                        <td id=\"T_a8891e05_883b_11eb_89b2_704d7b3c13bcrow2_col447\" class=\"data row2 col447\" >2015-08-10 17:06:02</td>\n",
       "                        <td id=\"T_a8891e05_883b_11eb_89b2_704d7b3c13bcrow2_col448\" class=\"data row2 col448\" >2015-08-11 16:36:01</td>\n",
       "                        <td id=\"T_a8891e05_883b_11eb_89b2_704d7b3c13bcrow2_col449\" class=\"data row2 col449\" >2015-08-12 17:28:54</td>\n",
       "                        <td id=\"T_a8891e05_883b_11eb_89b2_704d7b3c13bcrow2_col450\" class=\"data row2 col450\" >2015-08-13 16:57:54</td>\n",
       "                        <td id=\"T_a8891e05_883b_11eb_89b2_704d7b3c13bcrow2_col451\" class=\"data row2 col451\" >2015-08-14 16:54:16</td>\n",
       "                        <td id=\"T_a8891e05_883b_11eb_89b2_704d7b3c13bcrow2_col452\" class=\"data row2 col452\" >2015-08-17 16:53:27</td>\n",
       "                        <td id=\"T_a8891e05_883b_11eb_89b2_704d7b3c13bcrow2_col453\" class=\"data row2 col453\" >2015-08-18 17:15:15</td>\n",
       "                        <td id=\"T_a8891e05_883b_11eb_89b2_704d7b3c13bcrow2_col454\" class=\"data row2 col454\" >2015-08-19 17:08:09</td>\n",
       "                        <td id=\"T_a8891e05_883b_11eb_89b2_704d7b3c13bcrow2_col455\" class=\"data row2 col455\" >2015-08-20 16:53:58</td>\n",
       "                        <td id=\"T_a8891e05_883b_11eb_89b2_704d7b3c13bcrow2_col456\" class=\"data row2 col456\" >2015-08-21 17:29:32</td>\n",
       "                        <td id=\"T_a8891e05_883b_11eb_89b2_704d7b3c13bcrow2_col457\" class=\"data row2 col457\" >2015-08-24 17:01:36</td>\n",
       "                        <td id=\"T_a8891e05_883b_11eb_89b2_704d7b3c13bcrow2_col458\" class=\"data row2 col458\" >2015-08-25 16:52:06</td>\n",
       "                        <td id=\"T_a8891e05_883b_11eb_89b2_704d7b3c13bcrow2_col459\" class=\"data row2 col459\" >2015-08-26 17:06:17</td>\n",
       "                        <td id=\"T_a8891e05_883b_11eb_89b2_704d7b3c13bcrow2_col460\" class=\"data row2 col460\" >2015-08-27 16:05:12</td>\n",
       "                        <td id=\"T_a8891e05_883b_11eb_89b2_704d7b3c13bcrow2_col461\" class=\"data row2 col461\" >2015-08-28 16:46:21</td>\n",
       "                        <td id=\"T_a8891e05_883b_11eb_89b2_704d7b3c13bcrow2_col462\" class=\"data row2 col462\" >2015-08-31 16:29:00</td>\n",
       "                        <td id=\"T_a8891e05_883b_11eb_89b2_704d7b3c13bcrow2_col463\" class=\"data row2 col463\" >2015-09-01 17:12:34</td>\n",
       "                        <td id=\"T_a8891e05_883b_11eb_89b2_704d7b3c13bcrow2_col464\" class=\"data row2 col464\" >2015-09-02 17:06:39</td>\n",
       "                        <td id=\"T_a8891e05_883b_11eb_89b2_704d7b3c13bcrow2_col465\" class=\"data row2 col465\" >2015-09-03 17:14:37</td>\n",
       "                        <td id=\"T_a8891e05_883b_11eb_89b2_704d7b3c13bcrow2_col466\" class=\"data row2 col466\" >2015-09-04 17:16:44</td>\n",
       "                        <td id=\"T_a8891e05_883b_11eb_89b2_704d7b3c13bcrow2_col467\" class=\"data row2 col467\" >2015-09-07 16:17:32</td>\n",
       "                        <td id=\"T_a8891e05_883b_11eb_89b2_704d7b3c13bcrow2_col468\" class=\"data row2 col468\" >2015-09-08 16:46:52</td>\n",
       "                        <td id=\"T_a8891e05_883b_11eb_89b2_704d7b3c13bcrow2_col469\" class=\"data row2 col469\" >2015-09-09 16:33:08</td>\n",
       "                        <td id=\"T_a8891e05_883b_11eb_89b2_704d7b3c13bcrow2_col470\" class=\"data row2 col470\" >2015-09-10 17:22:21</td>\n",
       "                        <td id=\"T_a8891e05_883b_11eb_89b2_704d7b3c13bcrow2_col471\" class=\"data row2 col471\" >2015-09-11 16:32:47</td>\n",
       "                        <td id=\"T_a8891e05_883b_11eb_89b2_704d7b3c13bcrow2_col472\" class=\"data row2 col472\" >2015-09-14 17:49:44</td>\n",
       "                        <td id=\"T_a8891e05_883b_11eb_89b2_704d7b3c13bcrow2_col473\" class=\"data row2 col473\" >2015-09-15 16:58:26</td>\n",
       "                        <td id=\"T_a8891e05_883b_11eb_89b2_704d7b3c13bcrow2_col474\" class=\"data row2 col474\" >2015-09-16 16:51:35</td>\n",
       "                        <td id=\"T_a8891e05_883b_11eb_89b2_704d7b3c13bcrow2_col475\" class=\"data row2 col475\" >nan</td>\n",
       "                        <td id=\"T_a8891e05_883b_11eb_89b2_704d7b3c13bcrow2_col476\" class=\"data row2 col476\" >2015-09-18 16:53:29</td>\n",
       "                        <td id=\"T_a8891e05_883b_11eb_89b2_704d7b3c13bcrow2_col477\" class=\"data row2 col477\" >2015-09-21 16:42:32</td>\n",
       "                        <td id=\"T_a8891e05_883b_11eb_89b2_704d7b3c13bcrow2_col478\" class=\"data row2 col478\" >2015-09-22 16:28:40</td>\n",
       "                        <td id=\"T_a8891e05_883b_11eb_89b2_704d7b3c13bcrow2_col479\" class=\"data row2 col479\" >2015-09-23 17:06:45</td>\n",
       "                        <td id=\"T_a8891e05_883b_11eb_89b2_704d7b3c13bcrow2_col480\" class=\"data row2 col480\" >2015-09-24 17:33:41</td>\n",
       "                        <td id=\"T_a8891e05_883b_11eb_89b2_704d7b3c13bcrow2_col481\" class=\"data row2 col481\" >2015-09-25 16:39:34</td>\n",
       "                        <td id=\"T_a8891e05_883b_11eb_89b2_704d7b3c13bcrow2_col482\" class=\"data row2 col482\" >2015-09-28 17:44:11</td>\n",
       "                        <td id=\"T_a8891e05_883b_11eb_89b2_704d7b3c13bcrow2_col483\" class=\"data row2 col483\" >2015-09-29 17:52:11</td>\n",
       "                        <td id=\"T_a8891e05_883b_11eb_89b2_704d7b3c13bcrow2_col484\" class=\"data row2 col484\" >2015-09-30 16:56:37</td>\n",
       "                        <td id=\"T_a8891e05_883b_11eb_89b2_704d7b3c13bcrow2_col485\" class=\"data row2 col485\" >2015-10-01 17:16:00</td>\n",
       "                        <td id=\"T_a8891e05_883b_11eb_89b2_704d7b3c13bcrow2_col486\" class=\"data row2 col486\" >nan</td>\n",
       "                        <td id=\"T_a8891e05_883b_11eb_89b2_704d7b3c13bcrow2_col487\" class=\"data row2 col487\" >2015-10-05 17:11:32</td>\n",
       "                        <td id=\"T_a8891e05_883b_11eb_89b2_704d7b3c13bcrow2_col488\" class=\"data row2 col488\" >2015-10-06 17:27:11</td>\n",
       "                        <td id=\"T_a8891e05_883b_11eb_89b2_704d7b3c13bcrow2_col489\" class=\"data row2 col489\" >2015-10-07 17:19:27</td>\n",
       "                        <td id=\"T_a8891e05_883b_11eb_89b2_704d7b3c13bcrow2_col490\" class=\"data row2 col490\" >2015-10-08 16:42:29</td>\n",
       "                        <td id=\"T_a8891e05_883b_11eb_89b2_704d7b3c13bcrow2_col491\" class=\"data row2 col491\" >2015-10-09 16:55:42</td>\n",
       "                        <td id=\"T_a8891e05_883b_11eb_89b2_704d7b3c13bcrow2_col492\" class=\"data row2 col492\" >2015-10-12 17:19:20</td>\n",
       "                        <td id=\"T_a8891e05_883b_11eb_89b2_704d7b3c13bcrow2_col493\" class=\"data row2 col493\" >2015-10-13 17:03:46</td>\n",
       "                        <td id=\"T_a8891e05_883b_11eb_89b2_704d7b3c13bcrow2_col494\" class=\"data row2 col494\" >2015-10-14 17:25:43</td>\n",
       "                        <td id=\"T_a8891e05_883b_11eb_89b2_704d7b3c13bcrow2_col495\" class=\"data row2 col495\" >2015-10-15 16:59:34</td>\n",
       "                        <td id=\"T_a8891e05_883b_11eb_89b2_704d7b3c13bcrow2_col496\" class=\"data row2 col496\" >2015-10-16 16:42:49</td>\n",
       "                        <td id=\"T_a8891e05_883b_11eb_89b2_704d7b3c13bcrow2_col497\" class=\"data row2 col497\" >2015-10-19 16:36:56</td>\n",
       "                        <td id=\"T_a8891e05_883b_11eb_89b2_704d7b3c13bcrow2_col498\" class=\"data row2 col498\" >2015-10-20 17:00:27</td>\n",
       "                        <td id=\"T_a8891e05_883b_11eb_89b2_704d7b3c13bcrow2_col499\" class=\"data row2 col499\" >2015-10-21 17:52:36</td>\n",
       "                        <td id=\"T_a8891e05_883b_11eb_89b2_704d7b3c13bcrow2_col500\" class=\"data row2 col500\" >2015-10-22 17:12:08</td>\n",
       "                        <td id=\"T_a8891e05_883b_11eb_89b2_704d7b3c13bcrow2_col501\" class=\"data row2 col501\" >2015-10-23 17:00:44</td>\n",
       "                        <td id=\"T_a8891e05_883b_11eb_89b2_704d7b3c13bcrow2_col502\" class=\"data row2 col502\" >2015-10-26 17:44:21</td>\n",
       "                        <td id=\"T_a8891e05_883b_11eb_89b2_704d7b3c13bcrow2_col503\" class=\"data row2 col503\" >2015-10-27 17:20:34</td>\n",
       "                        <td id=\"T_a8891e05_883b_11eb_89b2_704d7b3c13bcrow2_col504\" class=\"data row2 col504\" >2015-10-28 16:22:30</td>\n",
       "                        <td id=\"T_a8891e05_883b_11eb_89b2_704d7b3c13bcrow2_col505\" class=\"data row2 col505\" >2015-10-29 16:35:41</td>\n",
       "                        <td id=\"T_a8891e05_883b_11eb_89b2_704d7b3c13bcrow2_col506\" class=\"data row2 col506\" >2015-10-30 16:29:34</td>\n",
       "                        <td id=\"T_a8891e05_883b_11eb_89b2_704d7b3c13bcrow2_col507\" class=\"data row2 col507\" >2015-11-02 17:35:43</td>\n",
       "                        <td id=\"T_a8891e05_883b_11eb_89b2_704d7b3c13bcrow2_col508\" class=\"data row2 col508\" >2015-11-03 16:55:12</td>\n",
       "                        <td id=\"T_a8891e05_883b_11eb_89b2_704d7b3c13bcrow2_col509\" class=\"data row2 col509\" >2015-11-04 17:01:26</td>\n",
       "                        <td id=\"T_a8891e05_883b_11eb_89b2_704d7b3c13bcrow2_col510\" class=\"data row2 col510\" >2015-11-05 17:04:42</td>\n",
       "                        <td id=\"T_a8891e05_883b_11eb_89b2_704d7b3c13bcrow2_col511\" class=\"data row2 col511\" >2015-11-06 16:39:49</td>\n",
       "                        <td id=\"T_a8891e05_883b_11eb_89b2_704d7b3c13bcrow2_col512\" class=\"data row2 col512\" >nan</td>\n",
       "                        <td id=\"T_a8891e05_883b_11eb_89b2_704d7b3c13bcrow2_col513\" class=\"data row2 col513\" >nan</td>\n",
       "                        <td id=\"T_a8891e05_883b_11eb_89b2_704d7b3c13bcrow2_col514\" class=\"data row2 col514\" >nan</td>\n",
       "                        <td id=\"T_a8891e05_883b_11eb_89b2_704d7b3c13bcrow2_col515\" class=\"data row2 col515\" >2015-11-12 17:36:44</td>\n",
       "                        <td id=\"T_a8891e05_883b_11eb_89b2_704d7b3c13bcrow2_col516\" class=\"data row2 col516\" >2015-11-13 16:43:22</td>\n",
       "                        <td id=\"T_a8891e05_883b_11eb_89b2_704d7b3c13bcrow2_col517\" class=\"data row2 col517\" >2015-11-16 16:51:03</td>\n",
       "                        <td id=\"T_a8891e05_883b_11eb_89b2_704d7b3c13bcrow2_col518\" class=\"data row2 col518\" >2015-11-17 17:09:13</td>\n",
       "                        <td id=\"T_a8891e05_883b_11eb_89b2_704d7b3c13bcrow2_col519\" class=\"data row2 col519\" >2015-11-18 17:28:22</td>\n",
       "                        <td id=\"T_a8891e05_883b_11eb_89b2_704d7b3c13bcrow2_col520\" class=\"data row2 col520\" >2015-11-19 16:20:40</td>\n",
       "                        <td id=\"T_a8891e05_883b_11eb_89b2_704d7b3c13bcrow2_col521\" class=\"data row2 col521\" >2015-11-20 17:40:18</td>\n",
       "                        <td id=\"T_a8891e05_883b_11eb_89b2_704d7b3c13bcrow2_col522\" class=\"data row2 col522\" >2015-11-23 16:58:39</td>\n",
       "                        <td id=\"T_a8891e05_883b_11eb_89b2_704d7b3c13bcrow2_col523\" class=\"data row2 col523\" >2015-11-24 16:33:43</td>\n",
       "                        <td id=\"T_a8891e05_883b_11eb_89b2_704d7b3c13bcrow2_col524\" class=\"data row2 col524\" >2015-11-25 17:20:08</td>\n",
       "                        <td id=\"T_a8891e05_883b_11eb_89b2_704d7b3c13bcrow2_col525\" class=\"data row2 col525\" >2015-11-26 17:34:28</td>\n",
       "                        <td id=\"T_a8891e05_883b_11eb_89b2_704d7b3c13bcrow2_col526\" class=\"data row2 col526\" >nan</td>\n",
       "                        <td id=\"T_a8891e05_883b_11eb_89b2_704d7b3c13bcrow2_col527\" class=\"data row2 col527\" >2015-11-30 17:00:13</td>\n",
       "                        <td id=\"T_a8891e05_883b_11eb_89b2_704d7b3c13bcrow2_col528\" class=\"data row2 col528\" >2015-12-01 16:59:05</td>\n",
       "                        <td id=\"T_a8891e05_883b_11eb_89b2_704d7b3c13bcrow2_col529\" class=\"data row2 col529\" >2015-12-02 16:54:49</td>\n",
       "                        <td id=\"T_a8891e05_883b_11eb_89b2_704d7b3c13bcrow2_col530\" class=\"data row2 col530\" >2015-12-03 17:04:26</td>\n",
       "                        <td id=\"T_a8891e05_883b_11eb_89b2_704d7b3c13bcrow2_col531\" class=\"data row2 col531\" >2015-12-04 17:10:47</td>\n",
       "                        <td id=\"T_a8891e05_883b_11eb_89b2_704d7b3c13bcrow2_col532\" class=\"data row2 col532\" >2015-12-07 17:09:04</td>\n",
       "                        <td id=\"T_a8891e05_883b_11eb_89b2_704d7b3c13bcrow2_col533\" class=\"data row2 col533\" >2015-12-08 17:28:44</td>\n",
       "                        <td id=\"T_a8891e05_883b_11eb_89b2_704d7b3c13bcrow2_col534\" class=\"data row2 col534\" >2015-12-09 17:49:34</td>\n",
       "                        <td id=\"T_a8891e05_883b_11eb_89b2_704d7b3c13bcrow2_col535\" class=\"data row2 col535\" >nan</td>\n",
       "                        <td id=\"T_a8891e05_883b_11eb_89b2_704d7b3c13bcrow2_col536\" class=\"data row2 col536\" >2015-12-11 17:01:53</td>\n",
       "                        <td id=\"T_a8891e05_883b_11eb_89b2_704d7b3c13bcrow2_col537\" class=\"data row2 col537\" >2015-12-14 16:48:18</td>\n",
       "                        <td id=\"T_a8891e05_883b_11eb_89b2_704d7b3c13bcrow2_col538\" class=\"data row2 col538\" >2015-12-15 16:39:52</td>\n",
       "                        <td id=\"T_a8891e05_883b_11eb_89b2_704d7b3c13bcrow2_col539\" class=\"data row2 col539\" >2015-12-16 16:42:44</td>\n",
       "                        <td id=\"T_a8891e05_883b_11eb_89b2_704d7b3c13bcrow2_col540\" class=\"data row2 col540\" >2015-12-17 17:06:23</td>\n",
       "                        <td id=\"T_a8891e05_883b_11eb_89b2_704d7b3c13bcrow2_col541\" class=\"data row2 col541\" >2015-12-18 17:02:23</td>\n",
       "                        <td id=\"T_a8891e05_883b_11eb_89b2_704d7b3c13bcrow2_col542\" class=\"data row2 col542\" >2015-12-21 17:20:17</td>\n",
       "                        <td id=\"T_a8891e05_883b_11eb_89b2_704d7b3c13bcrow2_col543\" class=\"data row2 col543\" >2015-12-22 16:32:50</td>\n",
       "                        <td id=\"T_a8891e05_883b_11eb_89b2_704d7b3c13bcrow2_col544\" class=\"data row2 col544\" >2015-12-23 16:59:43</td>\n",
       "                        <td id=\"T_a8891e05_883b_11eb_89b2_704d7b3c13bcrow2_col545\" class=\"data row2 col545\" >2015-12-24 16:58:25</td>\n",
       "                        <td id=\"T_a8891e05_883b_11eb_89b2_704d7b3c13bcrow2_col546\" class=\"data row2 col546\" >nan</td>\n",
       "                        <td id=\"T_a8891e05_883b_11eb_89b2_704d7b3c13bcrow2_col547\" class=\"data row2 col547\" >2015-12-28 16:43:31</td>\n",
       "                        <td id=\"T_a8891e05_883b_11eb_89b2_704d7b3c13bcrow2_col548\" class=\"data row2 col548\" >2015-12-29 17:09:56</td>\n",
       "                        <td id=\"T_a8891e05_883b_11eb_89b2_704d7b3c13bcrow2_col549\" class=\"data row2 col549\" >2015-12-30 17:06:25</td>\n",
       "                        <td id=\"T_a8891e05_883b_11eb_89b2_704d7b3c13bcrow2_col550\" class=\"data row2 col550\" >2015-12-31 17:15:50</td>\n",
       "            </tr>\n",
       "            <tr>\n",
       "                        <th id=\"T_a8891e05_883b_11eb_89b2_704d7b3c13bclevel0_row3\" class=\"row_heading level0 row3\" >3</th>\n",
       "                        <td id=\"T_a8891e05_883b_11eb_89b2_704d7b3c13bcrow3_col0\" class=\"data row3 col0\" >38</td>\n",
       "                        <td id=\"T_a8891e05_883b_11eb_89b2_704d7b3c13bcrow3_col1\" class=\"data row3 col1\" >No</td>\n",
       "                        <td id=\"T_a8891e05_883b_11eb_89b2_704d7b3c13bcrow3_col2\" class=\"data row3 col2\" >Non-Travel</td>\n",
       "                        <td id=\"T_a8891e05_883b_11eb_89b2_704d7b3c13bcrow3_col3\" class=\"data row3 col3\" >Research & Development</td>\n",
       "                        <td id=\"T_a8891e05_883b_11eb_89b2_704d7b3c13bcrow3_col4\" class=\"data row3 col4\" >2</td>\n",
       "                        <td id=\"T_a8891e05_883b_11eb_89b2_704d7b3c13bcrow3_col5\" class=\"data row3 col5\" >5</td>\n",
       "                        <td id=\"T_a8891e05_883b_11eb_89b2_704d7b3c13bcrow3_col6\" class=\"data row3 col6\" >Life Sciences</td>\n",
       "                        <td id=\"T_a8891e05_883b_11eb_89b2_704d7b3c13bcrow3_col7\" class=\"data row3 col7\" >1</td>\n",
       "                        <td id=\"T_a8891e05_883b_11eb_89b2_704d7b3c13bcrow3_col8\" class=\"data row3 col8\" >4</td>\n",
       "                        <td id=\"T_a8891e05_883b_11eb_89b2_704d7b3c13bcrow3_col9\" class=\"data row3 col9\" >Male</td>\n",
       "                        <td id=\"T_a8891e05_883b_11eb_89b2_704d7b3c13bcrow3_col10\" class=\"data row3 col10\" >3</td>\n",
       "                        <td id=\"T_a8891e05_883b_11eb_89b2_704d7b3c13bcrow3_col11\" class=\"data row3 col11\" >Human Resources</td>\n",
       "                        <td id=\"T_a8891e05_883b_11eb_89b2_704d7b3c13bcrow3_col12\" class=\"data row3 col12\" >Married</td>\n",
       "                        <td id=\"T_a8891e05_883b_11eb_89b2_704d7b3c13bcrow3_col13\" class=\"data row3 col13\" >83210</td>\n",
       "                        <td id=\"T_a8891e05_883b_11eb_89b2_704d7b3c13bcrow3_col14\" class=\"data row3 col14\" >3.000000</td>\n",
       "                        <td id=\"T_a8891e05_883b_11eb_89b2_704d7b3c13bcrow3_col15\" class=\"data row3 col15\" >Y</td>\n",
       "                        <td id=\"T_a8891e05_883b_11eb_89b2_704d7b3c13bcrow3_col16\" class=\"data row3 col16\" >11</td>\n",
       "                        <td id=\"T_a8891e05_883b_11eb_89b2_704d7b3c13bcrow3_col17\" class=\"data row3 col17\" >8</td>\n",
       "                        <td id=\"T_a8891e05_883b_11eb_89b2_704d7b3c13bcrow3_col18\" class=\"data row3 col18\" >3</td>\n",
       "                        <td id=\"T_a8891e05_883b_11eb_89b2_704d7b3c13bcrow3_col19\" class=\"data row3 col19\" >13.000000</td>\n",
       "                        <td id=\"T_a8891e05_883b_11eb_89b2_704d7b3c13bcrow3_col20\" class=\"data row3 col20\" >5</td>\n",
       "                        <td id=\"T_a8891e05_883b_11eb_89b2_704d7b3c13bcrow3_col21\" class=\"data row3 col21\" >8</td>\n",
       "                        <td id=\"T_a8891e05_883b_11eb_89b2_704d7b3c13bcrow3_col22\" class=\"data row3 col22\" >7</td>\n",
       "                        <td id=\"T_a8891e05_883b_11eb_89b2_704d7b3c13bcrow3_col23\" class=\"data row3 col23\" >5</td>\n",
       "                        <td id=\"T_a8891e05_883b_11eb_89b2_704d7b3c13bcrow3_col24\" class=\"data row3 col24\" >2</td>\n",
       "                        <td id=\"T_a8891e05_883b_11eb_89b2_704d7b3c13bcrow3_col25\" class=\"data row3 col25\" >3</td>\n",
       "                        <td id=\"T_a8891e05_883b_11eb_89b2_704d7b3c13bcrow3_col26\" class=\"data row3 col26\" >4.000000</td>\n",
       "                        <td id=\"T_a8891e05_883b_11eb_89b2_704d7b3c13bcrow3_col27\" class=\"data row3 col27\" >4.000000</td>\n",
       "                        <td id=\"T_a8891e05_883b_11eb_89b2_704d7b3c13bcrow3_col28\" class=\"data row3 col28\" >3.000000</td>\n",
       "                        <td id=\"T_a8891e05_883b_11eb_89b2_704d7b3c13bcrow3_col29\" class=\"data row3 col29\" >nan</td>\n",
       "                        <td id=\"T_a8891e05_883b_11eb_89b2_704d7b3c13bcrow3_col30\" class=\"data row3 col30\" >2015-01-02 10:05:06</td>\n",
       "                        <td id=\"T_a8891e05_883b_11eb_89b2_704d7b3c13bcrow3_col31\" class=\"data row3 col31\" >2015-01-05 09:56:32</td>\n",
       "                        <td id=\"T_a8891e05_883b_11eb_89b2_704d7b3c13bcrow3_col32\" class=\"data row3 col32\" >2015-01-06 10:11:07</td>\n",
       "                        <td id=\"T_a8891e05_883b_11eb_89b2_704d7b3c13bcrow3_col33\" class=\"data row3 col33\" >2015-01-07 09:37:30</td>\n",
       "                        <td id=\"T_a8891e05_883b_11eb_89b2_704d7b3c13bcrow3_col34\" class=\"data row3 col34\" >2015-01-08 10:02:08</td>\n",
       "                        <td id=\"T_a8891e05_883b_11eb_89b2_704d7b3c13bcrow3_col35\" class=\"data row3 col35\" >2015-01-09 10:08:12</td>\n",
       "                        <td id=\"T_a8891e05_883b_11eb_89b2_704d7b3c13bcrow3_col36\" class=\"data row3 col36\" >2015-01-12 10:13:42</td>\n",
       "                        <td id=\"T_a8891e05_883b_11eb_89b2_704d7b3c13bcrow3_col37\" class=\"data row3 col37\" >2015-01-13 09:53:22</td>\n",
       "                        <td id=\"T_a8891e05_883b_11eb_89b2_704d7b3c13bcrow3_col38\" class=\"data row3 col38\" >nan</td>\n",
       "                        <td id=\"T_a8891e05_883b_11eb_89b2_704d7b3c13bcrow3_col39\" class=\"data row3 col39\" >2015-01-15 10:00:50</td>\n",
       "                        <td id=\"T_a8891e05_883b_11eb_89b2_704d7b3c13bcrow3_col40\" class=\"data row3 col40\" >2015-01-16 09:58:06</td>\n",
       "                        <td id=\"T_a8891e05_883b_11eb_89b2_704d7b3c13bcrow3_col41\" class=\"data row3 col41\" >2015-01-19 09:43:11</td>\n",
       "                        <td id=\"T_a8891e05_883b_11eb_89b2_704d7b3c13bcrow3_col42\" class=\"data row3 col42\" >2015-01-20 10:29:06</td>\n",
       "                        <td id=\"T_a8891e05_883b_11eb_89b2_704d7b3c13bcrow3_col43\" class=\"data row3 col43\" >2015-01-21 10:04:33</td>\n",
       "                        <td id=\"T_a8891e05_883b_11eb_89b2_704d7b3c13bcrow3_col44\" class=\"data row3 col44\" >2015-01-22 09:51:07</td>\n",
       "                        <td id=\"T_a8891e05_883b_11eb_89b2_704d7b3c13bcrow3_col45\" class=\"data row3 col45\" >2015-01-23 09:56:56</td>\n",
       "                        <td id=\"T_a8891e05_883b_11eb_89b2_704d7b3c13bcrow3_col46\" class=\"data row3 col46\" >nan</td>\n",
       "                        <td id=\"T_a8891e05_883b_11eb_89b2_704d7b3c13bcrow3_col47\" class=\"data row3 col47\" >2015-01-27 09:48:31</td>\n",
       "                        <td id=\"T_a8891e05_883b_11eb_89b2_704d7b3c13bcrow3_col48\" class=\"data row3 col48\" >2015-01-28 10:00:39</td>\n",
       "                        <td id=\"T_a8891e05_883b_11eb_89b2_704d7b3c13bcrow3_col49\" class=\"data row3 col49\" >2015-01-29 09:49:28</td>\n",
       "                        <td id=\"T_a8891e05_883b_11eb_89b2_704d7b3c13bcrow3_col50\" class=\"data row3 col50\" >2015-01-30 09:56:31</td>\n",
       "                        <td id=\"T_a8891e05_883b_11eb_89b2_704d7b3c13bcrow3_col51\" class=\"data row3 col51\" >2015-02-02 10:14:08</td>\n",
       "                        <td id=\"T_a8891e05_883b_11eb_89b2_704d7b3c13bcrow3_col52\" class=\"data row3 col52\" >2015-02-03 10:01:31</td>\n",
       "                        <td id=\"T_a8891e05_883b_11eb_89b2_704d7b3c13bcrow3_col53\" class=\"data row3 col53\" >2015-02-04 10:31:44</td>\n",
       "                        <td id=\"T_a8891e05_883b_11eb_89b2_704d7b3c13bcrow3_col54\" class=\"data row3 col54\" >2015-02-05 10:02:39</td>\n",
       "                        <td id=\"T_a8891e05_883b_11eb_89b2_704d7b3c13bcrow3_col55\" class=\"data row3 col55\" >2015-02-06 09:24:21</td>\n",
       "                        <td id=\"T_a8891e05_883b_11eb_89b2_704d7b3c13bcrow3_col56\" class=\"data row3 col56\" >2015-02-09 09:56:27</td>\n",
       "                        <td id=\"T_a8891e05_883b_11eb_89b2_704d7b3c13bcrow3_col57\" class=\"data row3 col57\" >nan</td>\n",
       "                        <td id=\"T_a8891e05_883b_11eb_89b2_704d7b3c13bcrow3_col58\" class=\"data row3 col58\" >2015-02-11 10:00:32</td>\n",
       "                        <td id=\"T_a8891e05_883b_11eb_89b2_704d7b3c13bcrow3_col59\" class=\"data row3 col59\" >2015-02-12 10:01:48</td>\n",
       "                        <td id=\"T_a8891e05_883b_11eb_89b2_704d7b3c13bcrow3_col60\" class=\"data row3 col60\" >2015-02-13 10:14:10</td>\n",
       "                        <td id=\"T_a8891e05_883b_11eb_89b2_704d7b3c13bcrow3_col61\" class=\"data row3 col61\" >2015-02-16 09:50:27</td>\n",
       "                        <td id=\"T_a8891e05_883b_11eb_89b2_704d7b3c13bcrow3_col62\" class=\"data row3 col62\" >2015-02-17 09:52:42</td>\n",
       "                        <td id=\"T_a8891e05_883b_11eb_89b2_704d7b3c13bcrow3_col63\" class=\"data row3 col63\" >2015-02-18 09:39:22</td>\n",
       "                        <td id=\"T_a8891e05_883b_11eb_89b2_704d7b3c13bcrow3_col64\" class=\"data row3 col64\" >2015-02-19 09:43:55</td>\n",
       "                        <td id=\"T_a8891e05_883b_11eb_89b2_704d7b3c13bcrow3_col65\" class=\"data row3 col65\" >2015-02-20 10:01:49</td>\n",
       "                        <td id=\"T_a8891e05_883b_11eb_89b2_704d7b3c13bcrow3_col66\" class=\"data row3 col66\" >2015-02-23 09:33:30</td>\n",
       "                        <td id=\"T_a8891e05_883b_11eb_89b2_704d7b3c13bcrow3_col67\" class=\"data row3 col67\" >2015-02-24 10:27:00</td>\n",
       "                        <td id=\"T_a8891e05_883b_11eb_89b2_704d7b3c13bcrow3_col68\" class=\"data row3 col68\" >2015-02-25 09:45:59</td>\n",
       "                        <td id=\"T_a8891e05_883b_11eb_89b2_704d7b3c13bcrow3_col69\" class=\"data row3 col69\" >2015-02-26 09:48:05</td>\n",
       "                        <td id=\"T_a8891e05_883b_11eb_89b2_704d7b3c13bcrow3_col70\" class=\"data row3 col70\" >2015-02-27 09:43:15</td>\n",
       "                        <td id=\"T_a8891e05_883b_11eb_89b2_704d7b3c13bcrow3_col71\" class=\"data row3 col71\" >nan</td>\n",
       "                        <td id=\"T_a8891e05_883b_11eb_89b2_704d7b3c13bcrow3_col72\" class=\"data row3 col72\" >2015-03-03 10:15:24</td>\n",
       "                        <td id=\"T_a8891e05_883b_11eb_89b2_704d7b3c13bcrow3_col73\" class=\"data row3 col73\" >2015-03-04 09:59:04</td>\n",
       "                        <td id=\"T_a8891e05_883b_11eb_89b2_704d7b3c13bcrow3_col74\" class=\"data row3 col74\" >nan</td>\n",
       "                        <td id=\"T_a8891e05_883b_11eb_89b2_704d7b3c13bcrow3_col75\" class=\"data row3 col75\" >nan</td>\n",
       "                        <td id=\"T_a8891e05_883b_11eb_89b2_704d7b3c13bcrow3_col76\" class=\"data row3 col76\" >2015-03-09 10:05:52</td>\n",
       "                        <td id=\"T_a8891e05_883b_11eb_89b2_704d7b3c13bcrow3_col77\" class=\"data row3 col77\" >2015-03-10 09:29:22</td>\n",
       "                        <td id=\"T_a8891e05_883b_11eb_89b2_704d7b3c13bcrow3_col78\" class=\"data row3 col78\" >2015-03-11 09:57:24</td>\n",
       "                        <td id=\"T_a8891e05_883b_11eb_89b2_704d7b3c13bcrow3_col79\" class=\"data row3 col79\" >2015-03-12 09:41:16</td>\n",
       "                        <td id=\"T_a8891e05_883b_11eb_89b2_704d7b3c13bcrow3_col80\" class=\"data row3 col80\" >2015-03-13 09:52:58</td>\n",
       "                        <td id=\"T_a8891e05_883b_11eb_89b2_704d7b3c13bcrow3_col81\" class=\"data row3 col81\" >2015-03-16 09:56:00</td>\n",
       "                        <td id=\"T_a8891e05_883b_11eb_89b2_704d7b3c13bcrow3_col82\" class=\"data row3 col82\" >2015-03-17 09:52:20</td>\n",
       "                        <td id=\"T_a8891e05_883b_11eb_89b2_704d7b3c13bcrow3_col83\" class=\"data row3 col83\" >2015-03-18 10:25:14</td>\n",
       "                        <td id=\"T_a8891e05_883b_11eb_89b2_704d7b3c13bcrow3_col84\" class=\"data row3 col84\" >2015-03-19 10:26:39</td>\n",
       "                        <td id=\"T_a8891e05_883b_11eb_89b2_704d7b3c13bcrow3_col85\" class=\"data row3 col85\" >2015-03-20 10:22:47</td>\n",
       "                        <td id=\"T_a8891e05_883b_11eb_89b2_704d7b3c13bcrow3_col86\" class=\"data row3 col86\" >2015-03-23 10:21:28</td>\n",
       "                        <td id=\"T_a8891e05_883b_11eb_89b2_704d7b3c13bcrow3_col87\" class=\"data row3 col87\" >2015-03-24 10:26:25</td>\n",
       "                        <td id=\"T_a8891e05_883b_11eb_89b2_704d7b3c13bcrow3_col88\" class=\"data row3 col88\" >2015-03-25 10:00:08</td>\n",
       "                        <td id=\"T_a8891e05_883b_11eb_89b2_704d7b3c13bcrow3_col89\" class=\"data row3 col89\" >2015-03-26 10:21:30</td>\n",
       "                        <td id=\"T_a8891e05_883b_11eb_89b2_704d7b3c13bcrow3_col90\" class=\"data row3 col90\" >nan</td>\n",
       "                        <td id=\"T_a8891e05_883b_11eb_89b2_704d7b3c13bcrow3_col91\" class=\"data row3 col91\" >2015-03-30 10:11:13</td>\n",
       "                        <td id=\"T_a8891e05_883b_11eb_89b2_704d7b3c13bcrow3_col92\" class=\"data row3 col92\" >2015-03-31 09:59:04</td>\n",
       "                        <td id=\"T_a8891e05_883b_11eb_89b2_704d7b3c13bcrow3_col93\" class=\"data row3 col93\" >2015-04-01 09:48:31</td>\n",
       "                        <td id=\"T_a8891e05_883b_11eb_89b2_704d7b3c13bcrow3_col94\" class=\"data row3 col94\" >2015-04-02 09:37:22</td>\n",
       "                        <td id=\"T_a8891e05_883b_11eb_89b2_704d7b3c13bcrow3_col95\" class=\"data row3 col95\" >2015-04-03 09:55:13</td>\n",
       "                        <td id=\"T_a8891e05_883b_11eb_89b2_704d7b3c13bcrow3_col96\" class=\"data row3 col96\" >2015-04-06 09:59:50</td>\n",
       "                        <td id=\"T_a8891e05_883b_11eb_89b2_704d7b3c13bcrow3_col97\" class=\"data row3 col97\" >2015-04-07 10:35:40</td>\n",
       "                        <td id=\"T_a8891e05_883b_11eb_89b2_704d7b3c13bcrow3_col98\" class=\"data row3 col98\" >2015-04-08 10:26:15</td>\n",
       "                        <td id=\"T_a8891e05_883b_11eb_89b2_704d7b3c13bcrow3_col99\" class=\"data row3 col99\" >2015-04-09 10:12:10</td>\n",
       "                        <td id=\"T_a8891e05_883b_11eb_89b2_704d7b3c13bcrow3_col100\" class=\"data row3 col100\" >2015-04-10 10:22:56</td>\n",
       "                        <td id=\"T_a8891e05_883b_11eb_89b2_704d7b3c13bcrow3_col101\" class=\"data row3 col101\" >2015-04-13 09:31:58</td>\n",
       "                        <td id=\"T_a8891e05_883b_11eb_89b2_704d7b3c13bcrow3_col102\" class=\"data row3 col102\" >nan</td>\n",
       "                        <td id=\"T_a8891e05_883b_11eb_89b2_704d7b3c13bcrow3_col103\" class=\"data row3 col103\" >2015-04-15 10:12:59</td>\n",
       "                        <td id=\"T_a8891e05_883b_11eb_89b2_704d7b3c13bcrow3_col104\" class=\"data row3 col104\" >2015-04-16 09:45:58</td>\n",
       "                        <td id=\"T_a8891e05_883b_11eb_89b2_704d7b3c13bcrow3_col105\" class=\"data row3 col105\" >2015-04-17 10:04:10</td>\n",
       "                        <td id=\"T_a8891e05_883b_11eb_89b2_704d7b3c13bcrow3_col106\" class=\"data row3 col106\" >2015-04-20 09:51:49</td>\n",
       "                        <td id=\"T_a8891e05_883b_11eb_89b2_704d7b3c13bcrow3_col107\" class=\"data row3 col107\" >2015-04-21 10:13:27</td>\n",
       "                        <td id=\"T_a8891e05_883b_11eb_89b2_704d7b3c13bcrow3_col108\" class=\"data row3 col108\" >2015-04-22 09:50:42</td>\n",
       "                        <td id=\"T_a8891e05_883b_11eb_89b2_704d7b3c13bcrow3_col109\" class=\"data row3 col109\" >2015-04-23 09:37:10</td>\n",
       "                        <td id=\"T_a8891e05_883b_11eb_89b2_704d7b3c13bcrow3_col110\" class=\"data row3 col110\" >2015-04-24 09:58:19</td>\n",
       "                        <td id=\"T_a8891e05_883b_11eb_89b2_704d7b3c13bcrow3_col111\" class=\"data row3 col111\" >2015-04-27 09:53:47</td>\n",
       "                        <td id=\"T_a8891e05_883b_11eb_89b2_704d7b3c13bcrow3_col112\" class=\"data row3 col112\" >2015-04-28 09:24:22</td>\n",
       "                        <td id=\"T_a8891e05_883b_11eb_89b2_704d7b3c13bcrow3_col113\" class=\"data row3 col113\" >2015-04-29 09:55:33</td>\n",
       "                        <td id=\"T_a8891e05_883b_11eb_89b2_704d7b3c13bcrow3_col114\" class=\"data row3 col114\" >2015-04-30 10:02:10</td>\n",
       "                        <td id=\"T_a8891e05_883b_11eb_89b2_704d7b3c13bcrow3_col115\" class=\"data row3 col115\" >nan</td>\n",
       "                        <td id=\"T_a8891e05_883b_11eb_89b2_704d7b3c13bcrow3_col116\" class=\"data row3 col116\" >2015-05-04 10:28:52</td>\n",
       "                        <td id=\"T_a8891e05_883b_11eb_89b2_704d7b3c13bcrow3_col117\" class=\"data row3 col117\" >2015-05-05 10:00:44</td>\n",
       "                        <td id=\"T_a8891e05_883b_11eb_89b2_704d7b3c13bcrow3_col118\" class=\"data row3 col118\" >2015-05-06 10:18:13</td>\n",
       "                        <td id=\"T_a8891e05_883b_11eb_89b2_704d7b3c13bcrow3_col119\" class=\"data row3 col119\" >2015-05-07 10:03:39</td>\n",
       "                        <td id=\"T_a8891e05_883b_11eb_89b2_704d7b3c13bcrow3_col120\" class=\"data row3 col120\" >2015-05-08 10:00:50</td>\n",
       "                        <td id=\"T_a8891e05_883b_11eb_89b2_704d7b3c13bcrow3_col121\" class=\"data row3 col121\" >2015-05-11 10:23:52</td>\n",
       "                        <td id=\"T_a8891e05_883b_11eb_89b2_704d7b3c13bcrow3_col122\" class=\"data row3 col122\" >2015-05-12 09:36:52</td>\n",
       "                        <td id=\"T_a8891e05_883b_11eb_89b2_704d7b3c13bcrow3_col123\" class=\"data row3 col123\" >2015-05-13 10:13:15</td>\n",
       "                        <td id=\"T_a8891e05_883b_11eb_89b2_704d7b3c13bcrow3_col124\" class=\"data row3 col124\" >2015-05-14 09:45:33</td>\n",
       "                        <td id=\"T_a8891e05_883b_11eb_89b2_704d7b3c13bcrow3_col125\" class=\"data row3 col125\" >2015-05-15 09:27:48</td>\n",
       "                        <td id=\"T_a8891e05_883b_11eb_89b2_704d7b3c13bcrow3_col126\" class=\"data row3 col126\" >2015-05-18 09:29:24</td>\n",
       "                        <td id=\"T_a8891e05_883b_11eb_89b2_704d7b3c13bcrow3_col127\" class=\"data row3 col127\" >2015-05-19 09:52:54</td>\n",
       "                        <td id=\"T_a8891e05_883b_11eb_89b2_704d7b3c13bcrow3_col128\" class=\"data row3 col128\" >2015-05-20 10:05:04</td>\n",
       "                        <td id=\"T_a8891e05_883b_11eb_89b2_704d7b3c13bcrow3_col129\" class=\"data row3 col129\" >2015-05-21 09:33:56</td>\n",
       "                        <td id=\"T_a8891e05_883b_11eb_89b2_704d7b3c13bcrow3_col130\" class=\"data row3 col130\" >nan</td>\n",
       "                        <td id=\"T_a8891e05_883b_11eb_89b2_704d7b3c13bcrow3_col131\" class=\"data row3 col131\" >2015-05-25 09:55:48</td>\n",
       "                        <td id=\"T_a8891e05_883b_11eb_89b2_704d7b3c13bcrow3_col132\" class=\"data row3 col132\" >2015-05-26 10:10:44</td>\n",
       "                        <td id=\"T_a8891e05_883b_11eb_89b2_704d7b3c13bcrow3_col133\" class=\"data row3 col133\" >2015-05-27 10:20:30</td>\n",
       "                        <td id=\"T_a8891e05_883b_11eb_89b2_704d7b3c13bcrow3_col134\" class=\"data row3 col134\" >2015-05-28 09:45:38</td>\n",
       "                        <td id=\"T_a8891e05_883b_11eb_89b2_704d7b3c13bcrow3_col135\" class=\"data row3 col135\" >2015-05-29 10:12:37</td>\n",
       "                        <td id=\"T_a8891e05_883b_11eb_89b2_704d7b3c13bcrow3_col136\" class=\"data row3 col136\" >2015-06-01 10:14:37</td>\n",
       "                        <td id=\"T_a8891e05_883b_11eb_89b2_704d7b3c13bcrow3_col137\" class=\"data row3 col137\" >2015-06-02 09:54:11</td>\n",
       "                        <td id=\"T_a8891e05_883b_11eb_89b2_704d7b3c13bcrow3_col138\" class=\"data row3 col138\" >2015-06-03 09:52:39</td>\n",
       "                        <td id=\"T_a8891e05_883b_11eb_89b2_704d7b3c13bcrow3_col139\" class=\"data row3 col139\" >2015-06-04 10:06:30</td>\n",
       "                        <td id=\"T_a8891e05_883b_11eb_89b2_704d7b3c13bcrow3_col140\" class=\"data row3 col140\" >2015-06-05 09:45:42</td>\n",
       "                        <td id=\"T_a8891e05_883b_11eb_89b2_704d7b3c13bcrow3_col141\" class=\"data row3 col141\" >2015-06-08 09:49:32</td>\n",
       "                        <td id=\"T_a8891e05_883b_11eb_89b2_704d7b3c13bcrow3_col142\" class=\"data row3 col142\" >2015-06-09 10:19:40</td>\n",
       "                        <td id=\"T_a8891e05_883b_11eb_89b2_704d7b3c13bcrow3_col143\" class=\"data row3 col143\" >2015-06-10 10:09:14</td>\n",
       "                        <td id=\"T_a8891e05_883b_11eb_89b2_704d7b3c13bcrow3_col144\" class=\"data row3 col144\" >2015-06-11 09:59:59</td>\n",
       "                        <td id=\"T_a8891e05_883b_11eb_89b2_704d7b3c13bcrow3_col145\" class=\"data row3 col145\" >2015-06-12 10:17:33</td>\n",
       "                        <td id=\"T_a8891e05_883b_11eb_89b2_704d7b3c13bcrow3_col146\" class=\"data row3 col146\" >2015-06-15 10:11:20</td>\n",
       "                        <td id=\"T_a8891e05_883b_11eb_89b2_704d7b3c13bcrow3_col147\" class=\"data row3 col147\" >2015-06-16 09:57:08</td>\n",
       "                        <td id=\"T_a8891e05_883b_11eb_89b2_704d7b3c13bcrow3_col148\" class=\"data row3 col148\" >2015-06-17 09:41:36</td>\n",
       "                        <td id=\"T_a8891e05_883b_11eb_89b2_704d7b3c13bcrow3_col149\" class=\"data row3 col149\" >2015-06-18 09:39:27</td>\n",
       "                        <td id=\"T_a8891e05_883b_11eb_89b2_704d7b3c13bcrow3_col150\" class=\"data row3 col150\" >2015-06-19 09:34:20</td>\n",
       "                        <td id=\"T_a8891e05_883b_11eb_89b2_704d7b3c13bcrow3_col151\" class=\"data row3 col151\" >2015-06-22 10:10:20</td>\n",
       "                        <td id=\"T_a8891e05_883b_11eb_89b2_704d7b3c13bcrow3_col152\" class=\"data row3 col152\" >2015-06-23 09:42:51</td>\n",
       "                        <td id=\"T_a8891e05_883b_11eb_89b2_704d7b3c13bcrow3_col153\" class=\"data row3 col153\" >2015-06-24 10:08:58</td>\n",
       "                        <td id=\"T_a8891e05_883b_11eb_89b2_704d7b3c13bcrow3_col154\" class=\"data row3 col154\" >2015-06-25 09:47:00</td>\n",
       "                        <td id=\"T_a8891e05_883b_11eb_89b2_704d7b3c13bcrow3_col155\" class=\"data row3 col155\" >2015-06-26 09:53:39</td>\n",
       "                        <td id=\"T_a8891e05_883b_11eb_89b2_704d7b3c13bcrow3_col156\" class=\"data row3 col156\" >2015-06-29 10:03:00</td>\n",
       "                        <td id=\"T_a8891e05_883b_11eb_89b2_704d7b3c13bcrow3_col157\" class=\"data row3 col157\" >2015-06-30 09:42:37</td>\n",
       "                        <td id=\"T_a8891e05_883b_11eb_89b2_704d7b3c13bcrow3_col158\" class=\"data row3 col158\" >2015-07-01 09:21:09</td>\n",
       "                        <td id=\"T_a8891e05_883b_11eb_89b2_704d7b3c13bcrow3_col159\" class=\"data row3 col159\" >2015-07-02 09:43:19</td>\n",
       "                        <td id=\"T_a8891e05_883b_11eb_89b2_704d7b3c13bcrow3_col160\" class=\"data row3 col160\" >2015-07-03 09:53:23</td>\n",
       "                        <td id=\"T_a8891e05_883b_11eb_89b2_704d7b3c13bcrow3_col161\" class=\"data row3 col161\" >2015-07-06 09:50:21</td>\n",
       "                        <td id=\"T_a8891e05_883b_11eb_89b2_704d7b3c13bcrow3_col162\" class=\"data row3 col162\" >2015-07-07 10:24:34</td>\n",
       "                        <td id=\"T_a8891e05_883b_11eb_89b2_704d7b3c13bcrow3_col163\" class=\"data row3 col163\" >2015-07-08 10:13:37</td>\n",
       "                        <td id=\"T_a8891e05_883b_11eb_89b2_704d7b3c13bcrow3_col164\" class=\"data row3 col164\" >2015-07-09 10:02:30</td>\n",
       "                        <td id=\"T_a8891e05_883b_11eb_89b2_704d7b3c13bcrow3_col165\" class=\"data row3 col165\" >2015-07-10 10:20:48</td>\n",
       "                        <td id=\"T_a8891e05_883b_11eb_89b2_704d7b3c13bcrow3_col166\" class=\"data row3 col166\" >2015-07-13 10:06:03</td>\n",
       "                        <td id=\"T_a8891e05_883b_11eb_89b2_704d7b3c13bcrow3_col167\" class=\"data row3 col167\" >2015-07-14 10:13:16</td>\n",
       "                        <td id=\"T_a8891e05_883b_11eb_89b2_704d7b3c13bcrow3_col168\" class=\"data row3 col168\" >2015-07-15 10:21:49</td>\n",
       "                        <td id=\"T_a8891e05_883b_11eb_89b2_704d7b3c13bcrow3_col169\" class=\"data row3 col169\" >2015-07-16 09:50:24</td>\n",
       "                        <td id=\"T_a8891e05_883b_11eb_89b2_704d7b3c13bcrow3_col170\" class=\"data row3 col170\" >nan</td>\n",
       "                        <td id=\"T_a8891e05_883b_11eb_89b2_704d7b3c13bcrow3_col171\" class=\"data row3 col171\" >2015-07-20 10:00:48</td>\n",
       "                        <td id=\"T_a8891e05_883b_11eb_89b2_704d7b3c13bcrow3_col172\" class=\"data row3 col172\" >2015-07-21 09:50:21</td>\n",
       "                        <td id=\"T_a8891e05_883b_11eb_89b2_704d7b3c13bcrow3_col173\" class=\"data row3 col173\" >nan</td>\n",
       "                        <td id=\"T_a8891e05_883b_11eb_89b2_704d7b3c13bcrow3_col174\" class=\"data row3 col174\" >2015-07-23 10:21:26</td>\n",
       "                        <td id=\"T_a8891e05_883b_11eb_89b2_704d7b3c13bcrow3_col175\" class=\"data row3 col175\" >2015-07-24 09:27:01</td>\n",
       "                        <td id=\"T_a8891e05_883b_11eb_89b2_704d7b3c13bcrow3_col176\" class=\"data row3 col176\" >2015-07-27 10:06:37</td>\n",
       "                        <td id=\"T_a8891e05_883b_11eb_89b2_704d7b3c13bcrow3_col177\" class=\"data row3 col177\" >2015-07-28 09:24:12</td>\n",
       "                        <td id=\"T_a8891e05_883b_11eb_89b2_704d7b3c13bcrow3_col178\" class=\"data row3 col178\" >2015-07-29 09:51:04</td>\n",
       "                        <td id=\"T_a8891e05_883b_11eb_89b2_704d7b3c13bcrow3_col179\" class=\"data row3 col179\" >2015-07-30 10:00:50</td>\n",
       "                        <td id=\"T_a8891e05_883b_11eb_89b2_704d7b3c13bcrow3_col180\" class=\"data row3 col180\" >2015-07-31 09:47:58</td>\n",
       "                        <td id=\"T_a8891e05_883b_11eb_89b2_704d7b3c13bcrow3_col181\" class=\"data row3 col181\" >2015-08-03 10:11:15</td>\n",
       "                        <td id=\"T_a8891e05_883b_11eb_89b2_704d7b3c13bcrow3_col182\" class=\"data row3 col182\" >2015-08-04 09:38:39</td>\n",
       "                        <td id=\"T_a8891e05_883b_11eb_89b2_704d7b3c13bcrow3_col183\" class=\"data row3 col183\" >nan</td>\n",
       "                        <td id=\"T_a8891e05_883b_11eb_89b2_704d7b3c13bcrow3_col184\" class=\"data row3 col184\" >2015-08-06 09:57:51</td>\n",
       "                        <td id=\"T_a8891e05_883b_11eb_89b2_704d7b3c13bcrow3_col185\" class=\"data row3 col185\" >2015-08-07 09:48:50</td>\n",
       "                        <td id=\"T_a8891e05_883b_11eb_89b2_704d7b3c13bcrow3_col186\" class=\"data row3 col186\" >2015-08-10 10:15:50</td>\n",
       "                        <td id=\"T_a8891e05_883b_11eb_89b2_704d7b3c13bcrow3_col187\" class=\"data row3 col187\" >2015-08-11 10:00:04</td>\n",
       "                        <td id=\"T_a8891e05_883b_11eb_89b2_704d7b3c13bcrow3_col188\" class=\"data row3 col188\" >2015-08-12 09:35:06</td>\n",
       "                        <td id=\"T_a8891e05_883b_11eb_89b2_704d7b3c13bcrow3_col189\" class=\"data row3 col189\" >2015-08-13 09:50:28</td>\n",
       "                        <td id=\"T_a8891e05_883b_11eb_89b2_704d7b3c13bcrow3_col190\" class=\"data row3 col190\" >2015-08-14 09:37:57</td>\n",
       "                        <td id=\"T_a8891e05_883b_11eb_89b2_704d7b3c13bcrow3_col191\" class=\"data row3 col191\" >2015-08-17 10:08:57</td>\n",
       "                        <td id=\"T_a8891e05_883b_11eb_89b2_704d7b3c13bcrow3_col192\" class=\"data row3 col192\" >2015-08-18 10:08:19</td>\n",
       "                        <td id=\"T_a8891e05_883b_11eb_89b2_704d7b3c13bcrow3_col193\" class=\"data row3 col193\" >2015-08-19 09:58:18</td>\n",
       "                        <td id=\"T_a8891e05_883b_11eb_89b2_704d7b3c13bcrow3_col194\" class=\"data row3 col194\" >2015-08-20 09:58:16</td>\n",
       "                        <td id=\"T_a8891e05_883b_11eb_89b2_704d7b3c13bcrow3_col195\" class=\"data row3 col195\" >2015-08-21 09:54:32</td>\n",
       "                        <td id=\"T_a8891e05_883b_11eb_89b2_704d7b3c13bcrow3_col196\" class=\"data row3 col196\" >nan</td>\n",
       "                        <td id=\"T_a8891e05_883b_11eb_89b2_704d7b3c13bcrow3_col197\" class=\"data row3 col197\" >2015-08-25 09:51:55</td>\n",
       "                        <td id=\"T_a8891e05_883b_11eb_89b2_704d7b3c13bcrow3_col198\" class=\"data row3 col198\" >2015-08-26 09:53:52</td>\n",
       "                        <td id=\"T_a8891e05_883b_11eb_89b2_704d7b3c13bcrow3_col199\" class=\"data row3 col199\" >2015-08-27 10:06:05</td>\n",
       "                        <td id=\"T_a8891e05_883b_11eb_89b2_704d7b3c13bcrow3_col200\" class=\"data row3 col200\" >nan</td>\n",
       "                        <td id=\"T_a8891e05_883b_11eb_89b2_704d7b3c13bcrow3_col201\" class=\"data row3 col201\" >2015-08-31 09:50:42</td>\n",
       "                        <td id=\"T_a8891e05_883b_11eb_89b2_704d7b3c13bcrow3_col202\" class=\"data row3 col202\" >2015-09-01 09:40:25</td>\n",
       "                        <td id=\"T_a8891e05_883b_11eb_89b2_704d7b3c13bcrow3_col203\" class=\"data row3 col203\" >2015-09-02 09:28:38</td>\n",
       "                        <td id=\"T_a8891e05_883b_11eb_89b2_704d7b3c13bcrow3_col204\" class=\"data row3 col204\" >2015-09-03 09:56:30</td>\n",
       "                        <td id=\"T_a8891e05_883b_11eb_89b2_704d7b3c13bcrow3_col205\" class=\"data row3 col205\" >2015-09-04 10:12:19</td>\n",
       "                        <td id=\"T_a8891e05_883b_11eb_89b2_704d7b3c13bcrow3_col206\" class=\"data row3 col206\" >2015-09-07 10:24:08</td>\n",
       "                        <td id=\"T_a8891e05_883b_11eb_89b2_704d7b3c13bcrow3_col207\" class=\"data row3 col207\" >2015-09-08 10:21:37</td>\n",
       "                        <td id=\"T_a8891e05_883b_11eb_89b2_704d7b3c13bcrow3_col208\" class=\"data row3 col208\" >2015-09-09 10:18:14</td>\n",
       "                        <td id=\"T_a8891e05_883b_11eb_89b2_704d7b3c13bcrow3_col209\" class=\"data row3 col209\" >2015-09-10 09:19:24</td>\n",
       "                        <td id=\"T_a8891e05_883b_11eb_89b2_704d7b3c13bcrow3_col210\" class=\"data row3 col210\" >2015-09-11 10:50:44</td>\n",
       "                        <td id=\"T_a8891e05_883b_11eb_89b2_704d7b3c13bcrow3_col211\" class=\"data row3 col211\" >2015-09-14 09:43:15</td>\n",
       "                        <td id=\"T_a8891e05_883b_11eb_89b2_704d7b3c13bcrow3_col212\" class=\"data row3 col212\" >2015-09-15 09:51:29</td>\n",
       "                        <td id=\"T_a8891e05_883b_11eb_89b2_704d7b3c13bcrow3_col213\" class=\"data row3 col213\" >2015-09-16 09:37:48</td>\n",
       "                        <td id=\"T_a8891e05_883b_11eb_89b2_704d7b3c13bcrow3_col214\" class=\"data row3 col214\" >nan</td>\n",
       "                        <td id=\"T_a8891e05_883b_11eb_89b2_704d7b3c13bcrow3_col215\" class=\"data row3 col215\" >2015-09-18 10:16:55</td>\n",
       "                        <td id=\"T_a8891e05_883b_11eb_89b2_704d7b3c13bcrow3_col216\" class=\"data row3 col216\" >2015-09-21 10:08:13</td>\n",
       "                        <td id=\"T_a8891e05_883b_11eb_89b2_704d7b3c13bcrow3_col217\" class=\"data row3 col217\" >2015-09-22 09:58:12</td>\n",
       "                        <td id=\"T_a8891e05_883b_11eb_89b2_704d7b3c13bcrow3_col218\" class=\"data row3 col218\" >2015-09-23 09:41:19</td>\n",
       "                        <td id=\"T_a8891e05_883b_11eb_89b2_704d7b3c13bcrow3_col219\" class=\"data row3 col219\" >2015-09-24 10:14:13</td>\n",
       "                        <td id=\"T_a8891e05_883b_11eb_89b2_704d7b3c13bcrow3_col220\" class=\"data row3 col220\" >nan</td>\n",
       "                        <td id=\"T_a8891e05_883b_11eb_89b2_704d7b3c13bcrow3_col221\" class=\"data row3 col221\" >2015-09-28 10:01:47</td>\n",
       "                        <td id=\"T_a8891e05_883b_11eb_89b2_704d7b3c13bcrow3_col222\" class=\"data row3 col222\" >2015-09-29 10:05:44</td>\n",
       "                        <td id=\"T_a8891e05_883b_11eb_89b2_704d7b3c13bcrow3_col223\" class=\"data row3 col223\" >2015-09-30 10:30:29</td>\n",
       "                        <td id=\"T_a8891e05_883b_11eb_89b2_704d7b3c13bcrow3_col224\" class=\"data row3 col224\" >2015-10-01 09:53:38</td>\n",
       "                        <td id=\"T_a8891e05_883b_11eb_89b2_704d7b3c13bcrow3_col225\" class=\"data row3 col225\" >nan</td>\n",
       "                        <td id=\"T_a8891e05_883b_11eb_89b2_704d7b3c13bcrow3_col226\" class=\"data row3 col226\" >nan</td>\n",
       "                        <td id=\"T_a8891e05_883b_11eb_89b2_704d7b3c13bcrow3_col227\" class=\"data row3 col227\" >2015-10-06 09:53:14</td>\n",
       "                        <td id=\"T_a8891e05_883b_11eb_89b2_704d7b3c13bcrow3_col228\" class=\"data row3 col228\" >2015-10-07 10:02:55</td>\n",
       "                        <td id=\"T_a8891e05_883b_11eb_89b2_704d7b3c13bcrow3_col229\" class=\"data row3 col229\" >2015-10-08 09:30:44</td>\n",
       "                        <td id=\"T_a8891e05_883b_11eb_89b2_704d7b3c13bcrow3_col230\" class=\"data row3 col230\" >2015-10-09 10:12:55</td>\n",
       "                        <td id=\"T_a8891e05_883b_11eb_89b2_704d7b3c13bcrow3_col231\" class=\"data row3 col231\" >2015-10-12 10:17:48</td>\n",
       "                        <td id=\"T_a8891e05_883b_11eb_89b2_704d7b3c13bcrow3_col232\" class=\"data row3 col232\" >2015-10-13 10:18:19</td>\n",
       "                        <td id=\"T_a8891e05_883b_11eb_89b2_704d7b3c13bcrow3_col233\" class=\"data row3 col233\" >2015-10-14 09:54:16</td>\n",
       "                        <td id=\"T_a8891e05_883b_11eb_89b2_704d7b3c13bcrow3_col234\" class=\"data row3 col234\" >2015-10-15 09:43:10</td>\n",
       "                        <td id=\"T_a8891e05_883b_11eb_89b2_704d7b3c13bcrow3_col235\" class=\"data row3 col235\" >2015-10-16 09:56:29</td>\n",
       "                        <td id=\"T_a8891e05_883b_11eb_89b2_704d7b3c13bcrow3_col236\" class=\"data row3 col236\" >2015-10-19 09:57:36</td>\n",
       "                        <td id=\"T_a8891e05_883b_11eb_89b2_704d7b3c13bcrow3_col237\" class=\"data row3 col237\" >2015-10-20 09:12:03</td>\n",
       "                        <td id=\"T_a8891e05_883b_11eb_89b2_704d7b3c13bcrow3_col238\" class=\"data row3 col238\" >2015-10-21 10:30:37</td>\n",
       "                        <td id=\"T_a8891e05_883b_11eb_89b2_704d7b3c13bcrow3_col239\" class=\"data row3 col239\" >2015-10-22 09:49:39</td>\n",
       "                        <td id=\"T_a8891e05_883b_11eb_89b2_704d7b3c13bcrow3_col240\" class=\"data row3 col240\" >2015-10-23 09:31:09</td>\n",
       "                        <td id=\"T_a8891e05_883b_11eb_89b2_704d7b3c13bcrow3_col241\" class=\"data row3 col241\" >2015-10-26 09:59:23</td>\n",
       "                        <td id=\"T_a8891e05_883b_11eb_89b2_704d7b3c13bcrow3_col242\" class=\"data row3 col242\" >2015-10-27 09:41:26</td>\n",
       "                        <td id=\"T_a8891e05_883b_11eb_89b2_704d7b3c13bcrow3_col243\" class=\"data row3 col243\" >2015-10-28 09:38:11</td>\n",
       "                        <td id=\"T_a8891e05_883b_11eb_89b2_704d7b3c13bcrow3_col244\" class=\"data row3 col244\" >2015-10-29 09:53:39</td>\n",
       "                        <td id=\"T_a8891e05_883b_11eb_89b2_704d7b3c13bcrow3_col245\" class=\"data row3 col245\" >nan</td>\n",
       "                        <td id=\"T_a8891e05_883b_11eb_89b2_704d7b3c13bcrow3_col246\" class=\"data row3 col246\" >2015-11-02 10:00:05</td>\n",
       "                        <td id=\"T_a8891e05_883b_11eb_89b2_704d7b3c13bcrow3_col247\" class=\"data row3 col247\" >2015-11-03 10:29:56</td>\n",
       "                        <td id=\"T_a8891e05_883b_11eb_89b2_704d7b3c13bcrow3_col248\" class=\"data row3 col248\" >2015-11-04 10:12:46</td>\n",
       "                        <td id=\"T_a8891e05_883b_11eb_89b2_704d7b3c13bcrow3_col249\" class=\"data row3 col249\" >2015-11-05 10:08:09</td>\n",
       "                        <td id=\"T_a8891e05_883b_11eb_89b2_704d7b3c13bcrow3_col250\" class=\"data row3 col250\" >nan</td>\n",
       "                        <td id=\"T_a8891e05_883b_11eb_89b2_704d7b3c13bcrow3_col251\" class=\"data row3 col251\" >nan</td>\n",
       "                        <td id=\"T_a8891e05_883b_11eb_89b2_704d7b3c13bcrow3_col252\" class=\"data row3 col252\" >nan</td>\n",
       "                        <td id=\"T_a8891e05_883b_11eb_89b2_704d7b3c13bcrow3_col253\" class=\"data row3 col253\" >nan</td>\n",
       "                        <td id=\"T_a8891e05_883b_11eb_89b2_704d7b3c13bcrow3_col254\" class=\"data row3 col254\" >2015-11-12 10:08:26</td>\n",
       "                        <td id=\"T_a8891e05_883b_11eb_89b2_704d7b3c13bcrow3_col255\" class=\"data row3 col255\" >2015-11-13 09:37:08</td>\n",
       "                        <td id=\"T_a8891e05_883b_11eb_89b2_704d7b3c13bcrow3_col256\" class=\"data row3 col256\" >2015-11-16 09:42:23</td>\n",
       "                        <td id=\"T_a8891e05_883b_11eb_89b2_704d7b3c13bcrow3_col257\" class=\"data row3 col257\" >2015-11-17 10:20:38</td>\n",
       "                        <td id=\"T_a8891e05_883b_11eb_89b2_704d7b3c13bcrow3_col258\" class=\"data row3 col258\" >2015-11-18 10:02:33</td>\n",
       "                        <td id=\"T_a8891e05_883b_11eb_89b2_704d7b3c13bcrow3_col259\" class=\"data row3 col259\" >2015-11-19 10:27:15</td>\n",
       "                        <td id=\"T_a8891e05_883b_11eb_89b2_704d7b3c13bcrow3_col260\" class=\"data row3 col260\" >2015-11-20 10:01:14</td>\n",
       "                        <td id=\"T_a8891e05_883b_11eb_89b2_704d7b3c13bcrow3_col261\" class=\"data row3 col261\" >2015-11-23 09:55:40</td>\n",
       "                        <td id=\"T_a8891e05_883b_11eb_89b2_704d7b3c13bcrow3_col262\" class=\"data row3 col262\" >2015-11-24 10:00:46</td>\n",
       "                        <td id=\"T_a8891e05_883b_11eb_89b2_704d7b3c13bcrow3_col263\" class=\"data row3 col263\" >2015-11-25 09:33:48</td>\n",
       "                        <td id=\"T_a8891e05_883b_11eb_89b2_704d7b3c13bcrow3_col264\" class=\"data row3 col264\" >2015-11-26 10:24:11</td>\n",
       "                        <td id=\"T_a8891e05_883b_11eb_89b2_704d7b3c13bcrow3_col265\" class=\"data row3 col265\" >2015-11-27 10:09:17</td>\n",
       "                        <td id=\"T_a8891e05_883b_11eb_89b2_704d7b3c13bcrow3_col266\" class=\"data row3 col266\" >2015-11-30 09:50:21</td>\n",
       "                        <td id=\"T_a8891e05_883b_11eb_89b2_704d7b3c13bcrow3_col267\" class=\"data row3 col267\" >2015-12-01 09:52:48</td>\n",
       "                        <td id=\"T_a8891e05_883b_11eb_89b2_704d7b3c13bcrow3_col268\" class=\"data row3 col268\" >2015-12-02 10:09:28</td>\n",
       "                        <td id=\"T_a8891e05_883b_11eb_89b2_704d7b3c13bcrow3_col269\" class=\"data row3 col269\" >2015-12-03 09:24:05</td>\n",
       "                        <td id=\"T_a8891e05_883b_11eb_89b2_704d7b3c13bcrow3_col270\" class=\"data row3 col270\" >2015-12-04 09:52:37</td>\n",
       "                        <td id=\"T_a8891e05_883b_11eb_89b2_704d7b3c13bcrow3_col271\" class=\"data row3 col271\" >2015-12-07 10:00:22</td>\n",
       "                        <td id=\"T_a8891e05_883b_11eb_89b2_704d7b3c13bcrow3_col272\" class=\"data row3 col272\" >2015-12-08 10:04:10</td>\n",
       "                        <td id=\"T_a8891e05_883b_11eb_89b2_704d7b3c13bcrow3_col273\" class=\"data row3 col273\" >2015-12-09 10:25:19</td>\n",
       "                        <td id=\"T_a8891e05_883b_11eb_89b2_704d7b3c13bcrow3_col274\" class=\"data row3 col274\" >2015-12-10 09:39:15</td>\n",
       "                        <td id=\"T_a8891e05_883b_11eb_89b2_704d7b3c13bcrow3_col275\" class=\"data row3 col275\" >2015-12-11 09:46:02</td>\n",
       "                        <td id=\"T_a8891e05_883b_11eb_89b2_704d7b3c13bcrow3_col276\" class=\"data row3 col276\" >2015-12-14 10:20:36</td>\n",
       "                        <td id=\"T_a8891e05_883b_11eb_89b2_704d7b3c13bcrow3_col277\" class=\"data row3 col277\" >2015-12-15 09:37:17</td>\n",
       "                        <td id=\"T_a8891e05_883b_11eb_89b2_704d7b3c13bcrow3_col278\" class=\"data row3 col278\" >2015-12-16 10:22:09</td>\n",
       "                        <td id=\"T_a8891e05_883b_11eb_89b2_704d7b3c13bcrow3_col279\" class=\"data row3 col279\" >2015-12-17 09:54:36</td>\n",
       "                        <td id=\"T_a8891e05_883b_11eb_89b2_704d7b3c13bcrow3_col280\" class=\"data row3 col280\" >2015-12-18 10:17:38</td>\n",
       "                        <td id=\"T_a8891e05_883b_11eb_89b2_704d7b3c13bcrow3_col281\" class=\"data row3 col281\" >2015-12-21 09:58:21</td>\n",
       "                        <td id=\"T_a8891e05_883b_11eb_89b2_704d7b3c13bcrow3_col282\" class=\"data row3 col282\" >2015-12-22 10:04:25</td>\n",
       "                        <td id=\"T_a8891e05_883b_11eb_89b2_704d7b3c13bcrow3_col283\" class=\"data row3 col283\" >2015-12-23 10:11:46</td>\n",
       "                        <td id=\"T_a8891e05_883b_11eb_89b2_704d7b3c13bcrow3_col284\" class=\"data row3 col284\" >2015-12-24 09:43:15</td>\n",
       "                        <td id=\"T_a8891e05_883b_11eb_89b2_704d7b3c13bcrow3_col285\" class=\"data row3 col285\" >nan</td>\n",
       "                        <td id=\"T_a8891e05_883b_11eb_89b2_704d7b3c13bcrow3_col286\" class=\"data row3 col286\" >2015-12-28 09:52:44</td>\n",
       "                        <td id=\"T_a8891e05_883b_11eb_89b2_704d7b3c13bcrow3_col287\" class=\"data row3 col287\" >2015-12-29 09:33:16</td>\n",
       "                        <td id=\"T_a8891e05_883b_11eb_89b2_704d7b3c13bcrow3_col288\" class=\"data row3 col288\" >2015-12-30 10:18:12</td>\n",
       "                        <td id=\"T_a8891e05_883b_11eb_89b2_704d7b3c13bcrow3_col289\" class=\"data row3 col289\" >2015-12-31 10:01:15</td>\n",
       "                        <td id=\"T_a8891e05_883b_11eb_89b2_704d7b3c13bcrow3_col290\" class=\"data row3 col290\" >nan</td>\n",
       "                        <td id=\"T_a8891e05_883b_11eb_89b2_704d7b3c13bcrow3_col291\" class=\"data row3 col291\" >2015-01-02 17:25:24</td>\n",
       "                        <td id=\"T_a8891e05_883b_11eb_89b2_704d7b3c13bcrow3_col292\" class=\"data row3 col292\" >2015-01-05 17:14:03</td>\n",
       "                        <td id=\"T_a8891e05_883b_11eb_89b2_704d7b3c13bcrow3_col293\" class=\"data row3 col293\" >2015-01-06 17:07:42</td>\n",
       "                        <td id=\"T_a8891e05_883b_11eb_89b2_704d7b3c13bcrow3_col294\" class=\"data row3 col294\" >2015-01-07 16:32:40</td>\n",
       "                        <td id=\"T_a8891e05_883b_11eb_89b2_704d7b3c13bcrow3_col295\" class=\"data row3 col295\" >2015-01-08 16:53:11</td>\n",
       "                        <td id=\"T_a8891e05_883b_11eb_89b2_704d7b3c13bcrow3_col296\" class=\"data row3 col296\" >2015-01-09 17:19:47</td>\n",
       "                        <td id=\"T_a8891e05_883b_11eb_89b2_704d7b3c13bcrow3_col297\" class=\"data row3 col297\" >2015-01-12 17:13:37</td>\n",
       "                        <td id=\"T_a8891e05_883b_11eb_89b2_704d7b3c13bcrow3_col298\" class=\"data row3 col298\" >2015-01-13 17:11:45</td>\n",
       "                        <td id=\"T_a8891e05_883b_11eb_89b2_704d7b3c13bcrow3_col299\" class=\"data row3 col299\" >nan</td>\n",
       "                        <td id=\"T_a8891e05_883b_11eb_89b2_704d7b3c13bcrow3_col300\" class=\"data row3 col300\" >2015-01-15 16:53:26</td>\n",
       "                        <td id=\"T_a8891e05_883b_11eb_89b2_704d7b3c13bcrow3_col301\" class=\"data row3 col301\" >2015-01-16 16:52:34</td>\n",
       "                        <td id=\"T_a8891e05_883b_11eb_89b2_704d7b3c13bcrow3_col302\" class=\"data row3 col302\" >2015-01-19 16:14:18</td>\n",
       "                        <td id=\"T_a8891e05_883b_11eb_89b2_704d7b3c13bcrow3_col303\" class=\"data row3 col303\" >2015-01-20 17:39:50</td>\n",
       "                        <td id=\"T_a8891e05_883b_11eb_89b2_704d7b3c13bcrow3_col304\" class=\"data row3 col304\" >2015-01-21 16:46:51</td>\n",
       "                        <td id=\"T_a8891e05_883b_11eb_89b2_704d7b3c13bcrow3_col305\" class=\"data row3 col305\" >2015-01-22 16:51:48</td>\n",
       "                        <td id=\"T_a8891e05_883b_11eb_89b2_704d7b3c13bcrow3_col306\" class=\"data row3 col306\" >2015-01-23 17:05:41</td>\n",
       "                        <td id=\"T_a8891e05_883b_11eb_89b2_704d7b3c13bcrow3_col307\" class=\"data row3 col307\" >nan</td>\n",
       "                        <td id=\"T_a8891e05_883b_11eb_89b2_704d7b3c13bcrow3_col308\" class=\"data row3 col308\" >2015-01-27 17:03:48</td>\n",
       "                        <td id=\"T_a8891e05_883b_11eb_89b2_704d7b3c13bcrow3_col309\" class=\"data row3 col309\" >2015-01-28 17:33:22</td>\n",
       "                        <td id=\"T_a8891e05_883b_11eb_89b2_704d7b3c13bcrow3_col310\" class=\"data row3 col310\" >2015-01-29 16:44:01</td>\n",
       "                        <td id=\"T_a8891e05_883b_11eb_89b2_704d7b3c13bcrow3_col311\" class=\"data row3 col311\" >2015-01-30 17:09:42</td>\n",
       "                        <td id=\"T_a8891e05_883b_11eb_89b2_704d7b3c13bcrow3_col312\" class=\"data row3 col312\" >2015-02-02 17:18:12</td>\n",
       "                        <td id=\"T_a8891e05_883b_11eb_89b2_704d7b3c13bcrow3_col313\" class=\"data row3 col313\" >2015-02-03 17:27:41</td>\n",
       "                        <td id=\"T_a8891e05_883b_11eb_89b2_704d7b3c13bcrow3_col314\" class=\"data row3 col314\" >2015-02-04 17:30:22</td>\n",
       "                        <td id=\"T_a8891e05_883b_11eb_89b2_704d7b3c13bcrow3_col315\" class=\"data row3 col315\" >2015-02-05 17:11:44</td>\n",
       "                        <td id=\"T_a8891e05_883b_11eb_89b2_704d7b3c13bcrow3_col316\" class=\"data row3 col316\" >2015-02-06 16:33:04</td>\n",
       "                        <td id=\"T_a8891e05_883b_11eb_89b2_704d7b3c13bcrow3_col317\" class=\"data row3 col317\" >2015-02-09 17:16:29</td>\n",
       "                        <td id=\"T_a8891e05_883b_11eb_89b2_704d7b3c13bcrow3_col318\" class=\"data row3 col318\" >nan</td>\n",
       "                        <td id=\"T_a8891e05_883b_11eb_89b2_704d7b3c13bcrow3_col319\" class=\"data row3 col319\" >2015-02-11 17:04:11</td>\n",
       "                        <td id=\"T_a8891e05_883b_11eb_89b2_704d7b3c13bcrow3_col320\" class=\"data row3 col320\" >2015-02-12 17:22:16</td>\n",
       "                        <td id=\"T_a8891e05_883b_11eb_89b2_704d7b3c13bcrow3_col321\" class=\"data row3 col321\" >2015-02-13 17:22:54</td>\n",
       "                        <td id=\"T_a8891e05_883b_11eb_89b2_704d7b3c13bcrow3_col322\" class=\"data row3 col322\" >2015-02-16 17:11:28</td>\n",
       "                        <td id=\"T_a8891e05_883b_11eb_89b2_704d7b3c13bcrow3_col323\" class=\"data row3 col323\" >2015-02-17 16:59:20</td>\n",
       "                        <td id=\"T_a8891e05_883b_11eb_89b2_704d7b3c13bcrow3_col324\" class=\"data row3 col324\" >2015-02-18 16:31:43</td>\n",
       "                        <td id=\"T_a8891e05_883b_11eb_89b2_704d7b3c13bcrow3_col325\" class=\"data row3 col325\" >2015-02-19 17:15:20</td>\n",
       "                        <td id=\"T_a8891e05_883b_11eb_89b2_704d7b3c13bcrow3_col326\" class=\"data row3 col326\" >2015-02-20 16:43:41</td>\n",
       "                        <td id=\"T_a8891e05_883b_11eb_89b2_704d7b3c13bcrow3_col327\" class=\"data row3 col327\" >2015-02-23 16:44:17</td>\n",
       "                        <td id=\"T_a8891e05_883b_11eb_89b2_704d7b3c13bcrow3_col328\" class=\"data row3 col328\" >2015-02-24 17:30:51</td>\n",
       "                        <td id=\"T_a8891e05_883b_11eb_89b2_704d7b3c13bcrow3_col329\" class=\"data row3 col329\" >2015-02-25 16:02:49</td>\n",
       "                        <td id=\"T_a8891e05_883b_11eb_89b2_704d7b3c13bcrow3_col330\" class=\"data row3 col330\" >2015-02-26 17:09:34</td>\n",
       "                        <td id=\"T_a8891e05_883b_11eb_89b2_704d7b3c13bcrow3_col331\" class=\"data row3 col331\" >2015-02-27 16:59:05</td>\n",
       "                        <td id=\"T_a8891e05_883b_11eb_89b2_704d7b3c13bcrow3_col332\" class=\"data row3 col332\" >nan</td>\n",
       "                        <td id=\"T_a8891e05_883b_11eb_89b2_704d7b3c13bcrow3_col333\" class=\"data row3 col333\" >2015-03-03 17:39:36</td>\n",
       "                        <td id=\"T_a8891e05_883b_11eb_89b2_704d7b3c13bcrow3_col334\" class=\"data row3 col334\" >2015-03-04 16:26:53</td>\n",
       "                        <td id=\"T_a8891e05_883b_11eb_89b2_704d7b3c13bcrow3_col335\" class=\"data row3 col335\" >nan</td>\n",
       "                        <td id=\"T_a8891e05_883b_11eb_89b2_704d7b3c13bcrow3_col336\" class=\"data row3 col336\" >nan</td>\n",
       "                        <td id=\"T_a8891e05_883b_11eb_89b2_704d7b3c13bcrow3_col337\" class=\"data row3 col337\" >2015-03-09 17:15:18</td>\n",
       "                        <td id=\"T_a8891e05_883b_11eb_89b2_704d7b3c13bcrow3_col338\" class=\"data row3 col338\" >2015-03-10 16:53:12</td>\n",
       "                        <td id=\"T_a8891e05_883b_11eb_89b2_704d7b3c13bcrow3_col339\" class=\"data row3 col339\" >2015-03-11 17:27:00</td>\n",
       "                        <td id=\"T_a8891e05_883b_11eb_89b2_704d7b3c13bcrow3_col340\" class=\"data row3 col340\" >2015-03-12 17:18:43</td>\n",
       "                        <td id=\"T_a8891e05_883b_11eb_89b2_704d7b3c13bcrow3_col341\" class=\"data row3 col341\" >2015-03-13 16:42:00</td>\n",
       "                        <td id=\"T_a8891e05_883b_11eb_89b2_704d7b3c13bcrow3_col342\" class=\"data row3 col342\" >2015-03-16 16:39:28</td>\n",
       "                        <td id=\"T_a8891e05_883b_11eb_89b2_704d7b3c13bcrow3_col343\" class=\"data row3 col343\" >2015-03-17 17:04:50</td>\n",
       "                        <td id=\"T_a8891e05_883b_11eb_89b2_704d7b3c13bcrow3_col344\" class=\"data row3 col344\" >2015-03-18 17:31:49</td>\n",
       "                        <td id=\"T_a8891e05_883b_11eb_89b2_704d7b3c13bcrow3_col345\" class=\"data row3 col345\" >2015-03-19 17:27:02</td>\n",
       "                        <td id=\"T_a8891e05_883b_11eb_89b2_704d7b3c13bcrow3_col346\" class=\"data row3 col346\" >2015-03-20 17:35:10</td>\n",
       "                        <td id=\"T_a8891e05_883b_11eb_89b2_704d7b3c13bcrow3_col347\" class=\"data row3 col347\" >2015-03-23 17:18:20</td>\n",
       "                        <td id=\"T_a8891e05_883b_11eb_89b2_704d7b3c13bcrow3_col348\" class=\"data row3 col348\" >2015-03-24 17:22:01</td>\n",
       "                        <td id=\"T_a8891e05_883b_11eb_89b2_704d7b3c13bcrow3_col349\" class=\"data row3 col349\" >2015-03-25 17:20:54</td>\n",
       "                        <td id=\"T_a8891e05_883b_11eb_89b2_704d7b3c13bcrow3_col350\" class=\"data row3 col350\" >2015-03-26 18:10:16</td>\n",
       "                        <td id=\"T_a8891e05_883b_11eb_89b2_704d7b3c13bcrow3_col351\" class=\"data row3 col351\" >nan</td>\n",
       "                        <td id=\"T_a8891e05_883b_11eb_89b2_704d7b3c13bcrow3_col352\" class=\"data row3 col352\" >2015-03-30 17:13:45</td>\n",
       "                        <td id=\"T_a8891e05_883b_11eb_89b2_704d7b3c13bcrow3_col353\" class=\"data row3 col353\" >2015-03-31 17:35:52</td>\n",
       "                        <td id=\"T_a8891e05_883b_11eb_89b2_704d7b3c13bcrow3_col354\" class=\"data row3 col354\" >2015-04-01 17:19:06</td>\n",
       "                        <td id=\"T_a8891e05_883b_11eb_89b2_704d7b3c13bcrow3_col355\" class=\"data row3 col355\" >2015-04-02 16:32:12</td>\n",
       "                        <td id=\"T_a8891e05_883b_11eb_89b2_704d7b3c13bcrow3_col356\" class=\"data row3 col356\" >2015-04-03 16:59:23</td>\n",
       "                        <td id=\"T_a8891e05_883b_11eb_89b2_704d7b3c13bcrow3_col357\" class=\"data row3 col357\" >2015-04-06 17:23:43</td>\n",
       "                        <td id=\"T_a8891e05_883b_11eb_89b2_704d7b3c13bcrow3_col358\" class=\"data row3 col358\" >2015-04-07 17:39:00</td>\n",
       "                        <td id=\"T_a8891e05_883b_11eb_89b2_704d7b3c13bcrow3_col359\" class=\"data row3 col359\" >2015-04-08 17:39:25</td>\n",
       "                        <td id=\"T_a8891e05_883b_11eb_89b2_704d7b3c13bcrow3_col360\" class=\"data row3 col360\" >2015-04-09 17:15:13</td>\n",
       "                        <td id=\"T_a8891e05_883b_11eb_89b2_704d7b3c13bcrow3_col361\" class=\"data row3 col361\" >2015-04-10 17:21:15</td>\n",
       "                        <td id=\"T_a8891e05_883b_11eb_89b2_704d7b3c13bcrow3_col362\" class=\"data row3 col362\" >2015-04-13 16:22:01</td>\n",
       "                        <td id=\"T_a8891e05_883b_11eb_89b2_704d7b3c13bcrow3_col363\" class=\"data row3 col363\" >nan</td>\n",
       "                        <td id=\"T_a8891e05_883b_11eb_89b2_704d7b3c13bcrow3_col364\" class=\"data row3 col364\" >2015-04-15 16:42:43</td>\n",
       "                        <td id=\"T_a8891e05_883b_11eb_89b2_704d7b3c13bcrow3_col365\" class=\"data row3 col365\" >2015-04-16 16:50:43</td>\n",
       "                        <td id=\"T_a8891e05_883b_11eb_89b2_704d7b3c13bcrow3_col366\" class=\"data row3 col366\" >2015-04-17 17:03:14</td>\n",
       "                        <td id=\"T_a8891e05_883b_11eb_89b2_704d7b3c13bcrow3_col367\" class=\"data row3 col367\" >2015-04-20 17:10:10</td>\n",
       "                        <td id=\"T_a8891e05_883b_11eb_89b2_704d7b3c13bcrow3_col368\" class=\"data row3 col368\" >2015-04-21 17:18:07</td>\n",
       "                        <td id=\"T_a8891e05_883b_11eb_89b2_704d7b3c13bcrow3_col369\" class=\"data row3 col369\" >2015-04-22 17:06:08</td>\n",
       "                        <td id=\"T_a8891e05_883b_11eb_89b2_704d7b3c13bcrow3_col370\" class=\"data row3 col370\" >2015-04-23 17:15:23</td>\n",
       "                        <td id=\"T_a8891e05_883b_11eb_89b2_704d7b3c13bcrow3_col371\" class=\"data row3 col371\" >2015-04-24 17:24:56</td>\n",
       "                        <td id=\"T_a8891e05_883b_11eb_89b2_704d7b3c13bcrow3_col372\" class=\"data row3 col372\" >2015-04-27 17:16:14</td>\n",
       "                        <td id=\"T_a8891e05_883b_11eb_89b2_704d7b3c13bcrow3_col373\" class=\"data row3 col373\" >2015-04-28 16:19:59</td>\n",
       "                        <td id=\"T_a8891e05_883b_11eb_89b2_704d7b3c13bcrow3_col374\" class=\"data row3 col374\" >2015-04-29 17:04:12</td>\n",
       "                        <td id=\"T_a8891e05_883b_11eb_89b2_704d7b3c13bcrow3_col375\" class=\"data row3 col375\" >2015-04-30 17:09:25</td>\n",
       "                        <td id=\"T_a8891e05_883b_11eb_89b2_704d7b3c13bcrow3_col376\" class=\"data row3 col376\" >nan</td>\n",
       "                        <td id=\"T_a8891e05_883b_11eb_89b2_704d7b3c13bcrow3_col377\" class=\"data row3 col377\" >2015-05-04 17:59:06</td>\n",
       "                        <td id=\"T_a8891e05_883b_11eb_89b2_704d7b3c13bcrow3_col378\" class=\"data row3 col378\" >2015-05-05 16:44:22</td>\n",
       "                        <td id=\"T_a8891e05_883b_11eb_89b2_704d7b3c13bcrow3_col379\" class=\"data row3 col379\" >2015-05-06 18:08:51</td>\n",
       "                        <td id=\"T_a8891e05_883b_11eb_89b2_704d7b3c13bcrow3_col380\" class=\"data row3 col380\" >2015-05-07 17:13:02</td>\n",
       "                        <td id=\"T_a8891e05_883b_11eb_89b2_704d7b3c13bcrow3_col381\" class=\"data row3 col381\" >2015-05-08 17:43:42</td>\n",
       "                        <td id=\"T_a8891e05_883b_11eb_89b2_704d7b3c13bcrow3_col382\" class=\"data row3 col382\" >2015-05-11 17:31:57</td>\n",
       "                        <td id=\"T_a8891e05_883b_11eb_89b2_704d7b3c13bcrow3_col383\" class=\"data row3 col383\" >2015-05-12 16:53:20</td>\n",
       "                        <td id=\"T_a8891e05_883b_11eb_89b2_704d7b3c13bcrow3_col384\" class=\"data row3 col384\" >2015-05-13 17:23:44</td>\n",
       "                        <td id=\"T_a8891e05_883b_11eb_89b2_704d7b3c13bcrow3_col385\" class=\"data row3 col385\" >2015-05-14 17:01:21</td>\n",
       "                        <td id=\"T_a8891e05_883b_11eb_89b2_704d7b3c13bcrow3_col386\" class=\"data row3 col386\" >2015-05-15 16:36:35</td>\n",
       "                        <td id=\"T_a8891e05_883b_11eb_89b2_704d7b3c13bcrow3_col387\" class=\"data row3 col387\" >2015-05-18 16:22:37</td>\n",
       "                        <td id=\"T_a8891e05_883b_11eb_89b2_704d7b3c13bcrow3_col388\" class=\"data row3 col388\" >2015-05-19 17:23:25</td>\n",
       "                        <td id=\"T_a8891e05_883b_11eb_89b2_704d7b3c13bcrow3_col389\" class=\"data row3 col389\" >2015-05-20 16:42:27</td>\n",
       "                        <td id=\"T_a8891e05_883b_11eb_89b2_704d7b3c13bcrow3_col390\" class=\"data row3 col390\" >2015-05-21 16:46:33</td>\n",
       "                        <td id=\"T_a8891e05_883b_11eb_89b2_704d7b3c13bcrow3_col391\" class=\"data row3 col391\" >nan</td>\n",
       "                        <td id=\"T_a8891e05_883b_11eb_89b2_704d7b3c13bcrow3_col392\" class=\"data row3 col392\" >2015-05-25 17:08:33</td>\n",
       "                        <td id=\"T_a8891e05_883b_11eb_89b2_704d7b3c13bcrow3_col393\" class=\"data row3 col393\" >2015-05-26 17:33:07</td>\n",
       "                        <td id=\"T_a8891e05_883b_11eb_89b2_704d7b3c13bcrow3_col394\" class=\"data row3 col394\" >2015-05-27 17:55:27</td>\n",
       "                        <td id=\"T_a8891e05_883b_11eb_89b2_704d7b3c13bcrow3_col395\" class=\"data row3 col395\" >2015-05-28 17:25:42</td>\n",
       "                        <td id=\"T_a8891e05_883b_11eb_89b2_704d7b3c13bcrow3_col396\" class=\"data row3 col396\" >2015-05-29 17:19:29</td>\n",
       "                        <td id=\"T_a8891e05_883b_11eb_89b2_704d7b3c13bcrow3_col397\" class=\"data row3 col397\" >2015-06-01 17:12:33</td>\n",
       "                        <td id=\"T_a8891e05_883b_11eb_89b2_704d7b3c13bcrow3_col398\" class=\"data row3 col398\" >2015-06-02 17:42:17</td>\n",
       "                        <td id=\"T_a8891e05_883b_11eb_89b2_704d7b3c13bcrow3_col399\" class=\"data row3 col399\" >2015-06-03 17:11:39</td>\n",
       "                        <td id=\"T_a8891e05_883b_11eb_89b2_704d7b3c13bcrow3_col400\" class=\"data row3 col400\" >2015-06-04 17:33:35</td>\n",
       "                        <td id=\"T_a8891e05_883b_11eb_89b2_704d7b3c13bcrow3_col401\" class=\"data row3 col401\" >2015-06-05 16:32:56</td>\n",
       "                        <td id=\"T_a8891e05_883b_11eb_89b2_704d7b3c13bcrow3_col402\" class=\"data row3 col402\" >2015-06-08 17:06:31</td>\n",
       "                        <td id=\"T_a8891e05_883b_11eb_89b2_704d7b3c13bcrow3_col403\" class=\"data row3 col403\" >2015-06-09 17:31:47</td>\n",
       "                        <td id=\"T_a8891e05_883b_11eb_89b2_704d7b3c13bcrow3_col404\" class=\"data row3 col404\" >2015-06-10 17:24:30</td>\n",
       "                        <td id=\"T_a8891e05_883b_11eb_89b2_704d7b3c13bcrow3_col405\" class=\"data row3 col405\" >2015-06-11 17:25:59</td>\n",
       "                        <td id=\"T_a8891e05_883b_11eb_89b2_704d7b3c13bcrow3_col406\" class=\"data row3 col406\" >2015-06-12 17:24:49</td>\n",
       "                        <td id=\"T_a8891e05_883b_11eb_89b2_704d7b3c13bcrow3_col407\" class=\"data row3 col407\" >2015-06-15 17:31:18</td>\n",
       "                        <td id=\"T_a8891e05_883b_11eb_89b2_704d7b3c13bcrow3_col408\" class=\"data row3 col408\" >2015-06-16 16:51:27</td>\n",
       "                        <td id=\"T_a8891e05_883b_11eb_89b2_704d7b3c13bcrow3_col409\" class=\"data row3 col409\" >2015-06-17 16:57:41</td>\n",
       "                        <td id=\"T_a8891e05_883b_11eb_89b2_704d7b3c13bcrow3_col410\" class=\"data row3 col410\" >2015-06-18 17:24:34</td>\n",
       "                        <td id=\"T_a8891e05_883b_11eb_89b2_704d7b3c13bcrow3_col411\" class=\"data row3 col411\" >2015-06-19 16:52:14</td>\n",
       "                        <td id=\"T_a8891e05_883b_11eb_89b2_704d7b3c13bcrow3_col412\" class=\"data row3 col412\" >2015-06-22 17:44:28</td>\n",
       "                        <td id=\"T_a8891e05_883b_11eb_89b2_704d7b3c13bcrow3_col413\" class=\"data row3 col413\" >2015-06-23 16:33:07</td>\n",
       "                        <td id=\"T_a8891e05_883b_11eb_89b2_704d7b3c13bcrow3_col414\" class=\"data row3 col414\" >2015-06-24 17:36:56</td>\n",
       "                        <td id=\"T_a8891e05_883b_11eb_89b2_704d7b3c13bcrow3_col415\" class=\"data row3 col415\" >2015-06-25 16:44:23</td>\n",
       "                        <td id=\"T_a8891e05_883b_11eb_89b2_704d7b3c13bcrow3_col416\" class=\"data row3 col416\" >2015-06-26 17:01:52</td>\n",
       "                        <td id=\"T_a8891e05_883b_11eb_89b2_704d7b3c13bcrow3_col417\" class=\"data row3 col417\" >2015-06-29 17:12:10</td>\n",
       "                        <td id=\"T_a8891e05_883b_11eb_89b2_704d7b3c13bcrow3_col418\" class=\"data row3 col418\" >2015-06-30 16:54:35</td>\n",
       "                        <td id=\"T_a8891e05_883b_11eb_89b2_704d7b3c13bcrow3_col419\" class=\"data row3 col419\" >2015-07-01 16:13:03</td>\n",
       "                        <td id=\"T_a8891e05_883b_11eb_89b2_704d7b3c13bcrow3_col420\" class=\"data row3 col420\" >2015-07-02 17:05:36</td>\n",
       "                        <td id=\"T_a8891e05_883b_11eb_89b2_704d7b3c13bcrow3_col421\" class=\"data row3 col421\" >2015-07-03 17:23:50</td>\n",
       "                        <td id=\"T_a8891e05_883b_11eb_89b2_704d7b3c13bcrow3_col422\" class=\"data row3 col422\" >2015-07-06 17:12:57</td>\n",
       "                        <td id=\"T_a8891e05_883b_11eb_89b2_704d7b3c13bcrow3_col423\" class=\"data row3 col423\" >2015-07-07 17:57:50</td>\n",
       "                        <td id=\"T_a8891e05_883b_11eb_89b2_704d7b3c13bcrow3_col424\" class=\"data row3 col424\" >2015-07-08 17:10:27</td>\n",
       "                        <td id=\"T_a8891e05_883b_11eb_89b2_704d7b3c13bcrow3_col425\" class=\"data row3 col425\" >2015-07-09 17:19:00</td>\n",
       "                        <td id=\"T_a8891e05_883b_11eb_89b2_704d7b3c13bcrow3_col426\" class=\"data row3 col426\" >2015-07-10 17:57:38</td>\n",
       "                        <td id=\"T_a8891e05_883b_11eb_89b2_704d7b3c13bcrow3_col427\" class=\"data row3 col427\" >2015-07-13 17:28:43</td>\n",
       "                        <td id=\"T_a8891e05_883b_11eb_89b2_704d7b3c13bcrow3_col428\" class=\"data row3 col428\" >2015-07-14 17:58:30</td>\n",
       "                        <td id=\"T_a8891e05_883b_11eb_89b2_704d7b3c13bcrow3_col429\" class=\"data row3 col429\" >2015-07-15 17:50:46</td>\n",
       "                        <td id=\"T_a8891e05_883b_11eb_89b2_704d7b3c13bcrow3_col430\" class=\"data row3 col430\" >2015-07-16 17:05:11</td>\n",
       "                        <td id=\"T_a8891e05_883b_11eb_89b2_704d7b3c13bcrow3_col431\" class=\"data row3 col431\" >nan</td>\n",
       "                        <td id=\"T_a8891e05_883b_11eb_89b2_704d7b3c13bcrow3_col432\" class=\"data row3 col432\" >2015-07-20 16:52:41</td>\n",
       "                        <td id=\"T_a8891e05_883b_11eb_89b2_704d7b3c13bcrow3_col433\" class=\"data row3 col433\" >2015-07-21 16:39:59</td>\n",
       "                        <td id=\"T_a8891e05_883b_11eb_89b2_704d7b3c13bcrow3_col434\" class=\"data row3 col434\" >nan</td>\n",
       "                        <td id=\"T_a8891e05_883b_11eb_89b2_704d7b3c13bcrow3_col435\" class=\"data row3 col435\" >2015-07-23 17:45:50</td>\n",
       "                        <td id=\"T_a8891e05_883b_11eb_89b2_704d7b3c13bcrow3_col436\" class=\"data row3 col436\" >2015-07-24 16:50:37</td>\n",
       "                        <td id=\"T_a8891e05_883b_11eb_89b2_704d7b3c13bcrow3_col437\" class=\"data row3 col437\" >2015-07-27 17:21:13</td>\n",
       "                        <td id=\"T_a8891e05_883b_11eb_89b2_704d7b3c13bcrow3_col438\" class=\"data row3 col438\" >2015-07-28 16:24:54</td>\n",
       "                        <td id=\"T_a8891e05_883b_11eb_89b2_704d7b3c13bcrow3_col439\" class=\"data row3 col439\" >2015-07-29 17:42:13</td>\n",
       "                        <td id=\"T_a8891e05_883b_11eb_89b2_704d7b3c13bcrow3_col440\" class=\"data row3 col440\" >2015-07-30 17:14:45</td>\n",
       "                        <td id=\"T_a8891e05_883b_11eb_89b2_704d7b3c13bcrow3_col441\" class=\"data row3 col441\" >2015-07-31 17:04:26</td>\n",
       "                        <td id=\"T_a8891e05_883b_11eb_89b2_704d7b3c13bcrow3_col442\" class=\"data row3 col442\" >2015-08-03 17:50:27</td>\n",
       "                        <td id=\"T_a8891e05_883b_11eb_89b2_704d7b3c13bcrow3_col443\" class=\"data row3 col443\" >2015-08-04 16:55:41</td>\n",
       "                        <td id=\"T_a8891e05_883b_11eb_89b2_704d7b3c13bcrow3_col444\" class=\"data row3 col444\" >nan</td>\n",
       "                        <td id=\"T_a8891e05_883b_11eb_89b2_704d7b3c13bcrow3_col445\" class=\"data row3 col445\" >2015-08-06 17:00:50</td>\n",
       "                        <td id=\"T_a8891e05_883b_11eb_89b2_704d7b3c13bcrow3_col446\" class=\"data row3 col446\" >2015-08-07 17:12:50</td>\n",
       "                        <td id=\"T_a8891e05_883b_11eb_89b2_704d7b3c13bcrow3_col447\" class=\"data row3 col447\" >2015-08-10 17:42:07</td>\n",
       "                        <td id=\"T_a8891e05_883b_11eb_89b2_704d7b3c13bcrow3_col448\" class=\"data row3 col448\" >2015-08-11 17:39:24</td>\n",
       "                        <td id=\"T_a8891e05_883b_11eb_89b2_704d7b3c13bcrow3_col449\" class=\"data row3 col449\" >2015-08-12 16:45:38</td>\n",
       "                        <td id=\"T_a8891e05_883b_11eb_89b2_704d7b3c13bcrow3_col450\" class=\"data row3 col450\" >2015-08-13 16:36:57</td>\n",
       "                        <td id=\"T_a8891e05_883b_11eb_89b2_704d7b3c13bcrow3_col451\" class=\"data row3 col451\" >2015-08-14 17:02:53</td>\n",
       "                        <td id=\"T_a8891e05_883b_11eb_89b2_704d7b3c13bcrow3_col452\" class=\"data row3 col452\" >2015-08-17 17:17:49</td>\n",
       "                        <td id=\"T_a8891e05_883b_11eb_89b2_704d7b3c13bcrow3_col453\" class=\"data row3 col453\" >2015-08-18 17:48:39</td>\n",
       "                        <td id=\"T_a8891e05_883b_11eb_89b2_704d7b3c13bcrow3_col454\" class=\"data row3 col454\" >2015-08-19 17:17:00</td>\n",
       "                        <td id=\"T_a8891e05_883b_11eb_89b2_704d7b3c13bcrow3_col455\" class=\"data row3 col455\" >2015-08-20 17:14:47</td>\n",
       "                        <td id=\"T_a8891e05_883b_11eb_89b2_704d7b3c13bcrow3_col456\" class=\"data row3 col456\" >2015-08-21 16:45:06</td>\n",
       "                        <td id=\"T_a8891e05_883b_11eb_89b2_704d7b3c13bcrow3_col457\" class=\"data row3 col457\" >nan</td>\n",
       "                        <td id=\"T_a8891e05_883b_11eb_89b2_704d7b3c13bcrow3_col458\" class=\"data row3 col458\" >2015-08-25 17:02:23</td>\n",
       "                        <td id=\"T_a8891e05_883b_11eb_89b2_704d7b3c13bcrow3_col459\" class=\"data row3 col459\" >2015-08-26 16:59:12</td>\n",
       "                        <td id=\"T_a8891e05_883b_11eb_89b2_704d7b3c13bcrow3_col460\" class=\"data row3 col460\" >2015-08-27 16:46:28</td>\n",
       "                        <td id=\"T_a8891e05_883b_11eb_89b2_704d7b3c13bcrow3_col461\" class=\"data row3 col461\" >nan</td>\n",
       "                        <td id=\"T_a8891e05_883b_11eb_89b2_704d7b3c13bcrow3_col462\" class=\"data row3 col462\" >2015-08-31 16:49:45</td>\n",
       "                        <td id=\"T_a8891e05_883b_11eb_89b2_704d7b3c13bcrow3_col463\" class=\"data row3 col463\" >2015-09-01 17:08:51</td>\n",
       "                        <td id=\"T_a8891e05_883b_11eb_89b2_704d7b3c13bcrow3_col464\" class=\"data row3 col464\" >2015-09-02 16:28:03</td>\n",
       "                        <td id=\"T_a8891e05_883b_11eb_89b2_704d7b3c13bcrow3_col465\" class=\"data row3 col465\" >2015-09-03 17:14:09</td>\n",
       "                        <td id=\"T_a8891e05_883b_11eb_89b2_704d7b3c13bcrow3_col466\" class=\"data row3 col466\" >2015-09-04 17:17:52</td>\n",
       "                        <td id=\"T_a8891e05_883b_11eb_89b2_704d7b3c13bcrow3_col467\" class=\"data row3 col467\" >2015-09-07 17:26:41</td>\n",
       "                        <td id=\"T_a8891e05_883b_11eb_89b2_704d7b3c13bcrow3_col468\" class=\"data row3 col468\" >2015-09-08 17:37:28</td>\n",
       "                        <td id=\"T_a8891e05_883b_11eb_89b2_704d7b3c13bcrow3_col469\" class=\"data row3 col469\" >2015-09-09 17:39:07</td>\n",
       "                        <td id=\"T_a8891e05_883b_11eb_89b2_704d7b3c13bcrow3_col470\" class=\"data row3 col470\" >2015-09-10 16:36:34</td>\n",
       "                        <td id=\"T_a8891e05_883b_11eb_89b2_704d7b3c13bcrow3_col471\" class=\"data row3 col471\" >2015-09-11 18:06:15</td>\n",
       "                        <td id=\"T_a8891e05_883b_11eb_89b2_704d7b3c13bcrow3_col472\" class=\"data row3 col472\" >2015-09-14 17:36:42</td>\n",
       "                        <td id=\"T_a8891e05_883b_11eb_89b2_704d7b3c13bcrow3_col473\" class=\"data row3 col473\" >2015-09-15 16:39:57</td>\n",
       "                        <td id=\"T_a8891e05_883b_11eb_89b2_704d7b3c13bcrow3_col474\" class=\"data row3 col474\" >2015-09-16 16:42:51</td>\n",
       "                        <td id=\"T_a8891e05_883b_11eb_89b2_704d7b3c13bcrow3_col475\" class=\"data row3 col475\" >nan</td>\n",
       "                        <td id=\"T_a8891e05_883b_11eb_89b2_704d7b3c13bcrow3_col476\" class=\"data row3 col476\" >2015-09-18 17:47:54</td>\n",
       "                        <td id=\"T_a8891e05_883b_11eb_89b2_704d7b3c13bcrow3_col477\" class=\"data row3 col477\" >2015-09-21 17:15:09</td>\n",
       "                        <td id=\"T_a8891e05_883b_11eb_89b2_704d7b3c13bcrow3_col478\" class=\"data row3 col478\" >2015-09-22 16:57:27</td>\n",
       "                        <td id=\"T_a8891e05_883b_11eb_89b2_704d7b3c13bcrow3_col479\" class=\"data row3 col479\" >2015-09-23 16:45:31</td>\n",
       "                        <td id=\"T_a8891e05_883b_11eb_89b2_704d7b3c13bcrow3_col480\" class=\"data row3 col480\" >2015-09-24 17:49:36</td>\n",
       "                        <td id=\"T_a8891e05_883b_11eb_89b2_704d7b3c13bcrow3_col481\" class=\"data row3 col481\" >nan</td>\n",
       "                        <td id=\"T_a8891e05_883b_11eb_89b2_704d7b3c13bcrow3_col482\" class=\"data row3 col482\" >2015-09-28 17:02:26</td>\n",
       "                        <td id=\"T_a8891e05_883b_11eb_89b2_704d7b3c13bcrow3_col483\" class=\"data row3 col483\" >2015-09-29 17:00:39</td>\n",
       "                        <td id=\"T_a8891e05_883b_11eb_89b2_704d7b3c13bcrow3_col484\" class=\"data row3 col484\" >2015-09-30 17:21:44</td>\n",
       "                        <td id=\"T_a8891e05_883b_11eb_89b2_704d7b3c13bcrow3_col485\" class=\"data row3 col485\" >2015-10-01 16:47:16</td>\n",
       "                        <td id=\"T_a8891e05_883b_11eb_89b2_704d7b3c13bcrow3_col486\" class=\"data row3 col486\" >nan</td>\n",
       "                        <td id=\"T_a8891e05_883b_11eb_89b2_704d7b3c13bcrow3_col487\" class=\"data row3 col487\" >nan</td>\n",
       "                        <td id=\"T_a8891e05_883b_11eb_89b2_704d7b3c13bcrow3_col488\" class=\"data row3 col488\" >2015-10-06 17:03:32</td>\n",
       "                        <td id=\"T_a8891e05_883b_11eb_89b2_704d7b3c13bcrow3_col489\" class=\"data row3 col489\" >2015-10-07 17:32:56</td>\n",
       "                        <td id=\"T_a8891e05_883b_11eb_89b2_704d7b3c13bcrow3_col490\" class=\"data row3 col490\" >2015-10-08 17:00:37</td>\n",
       "                        <td id=\"T_a8891e05_883b_11eb_89b2_704d7b3c13bcrow3_col491\" class=\"data row3 col491\" >2015-10-09 17:05:07</td>\n",
       "                        <td id=\"T_a8891e05_883b_11eb_89b2_704d7b3c13bcrow3_col492\" class=\"data row3 col492\" >2015-10-12 17:34:50</td>\n",
       "                        <td id=\"T_a8891e05_883b_11eb_89b2_704d7b3c13bcrow3_col493\" class=\"data row3 col493\" >2015-10-13 17:25:05</td>\n",
       "                        <td id=\"T_a8891e05_883b_11eb_89b2_704d7b3c13bcrow3_col494\" class=\"data row3 col494\" >2015-10-14 16:49:13</td>\n",
       "                        <td id=\"T_a8891e05_883b_11eb_89b2_704d7b3c13bcrow3_col495\" class=\"data row3 col495\" >2015-10-15 16:53:25</td>\n",
       "                        <td id=\"T_a8891e05_883b_11eb_89b2_704d7b3c13bcrow3_col496\" class=\"data row3 col496\" >2015-10-16 16:44:32</td>\n",
       "                        <td id=\"T_a8891e05_883b_11eb_89b2_704d7b3c13bcrow3_col497\" class=\"data row3 col497\" >2015-10-19 17:03:32</td>\n",
       "                        <td id=\"T_a8891e05_883b_11eb_89b2_704d7b3c13bcrow3_col498\" class=\"data row3 col498\" >2015-10-20 16:41:21</td>\n",
       "                        <td id=\"T_a8891e05_883b_11eb_89b2_704d7b3c13bcrow3_col499\" class=\"data row3 col499\" >2015-10-21 17:33:33</td>\n",
       "                        <td id=\"T_a8891e05_883b_11eb_89b2_704d7b3c13bcrow3_col500\" class=\"data row3 col500\" >2015-10-22 16:37:16</td>\n",
       "                        <td id=\"T_a8891e05_883b_11eb_89b2_704d7b3c13bcrow3_col501\" class=\"data row3 col501\" >2015-10-23 17:01:41</td>\n",
       "                        <td id=\"T_a8891e05_883b_11eb_89b2_704d7b3c13bcrow3_col502\" class=\"data row3 col502\" >2015-10-26 17:25:23</td>\n",
       "                        <td id=\"T_a8891e05_883b_11eb_89b2_704d7b3c13bcrow3_col503\" class=\"data row3 col503\" >2015-10-27 16:35:01</td>\n",
       "                        <td id=\"T_a8891e05_883b_11eb_89b2_704d7b3c13bcrow3_col504\" class=\"data row3 col504\" >2015-10-28 16:42:00</td>\n",
       "                        <td id=\"T_a8891e05_883b_11eb_89b2_704d7b3c13bcrow3_col505\" class=\"data row3 col505\" >2015-10-29 16:57:12</td>\n",
       "                        <td id=\"T_a8891e05_883b_11eb_89b2_704d7b3c13bcrow3_col506\" class=\"data row3 col506\" >nan</td>\n",
       "                        <td id=\"T_a8891e05_883b_11eb_89b2_704d7b3c13bcrow3_col507\" class=\"data row3 col507\" >2015-11-02 17:04:40</td>\n",
       "                        <td id=\"T_a8891e05_883b_11eb_89b2_704d7b3c13bcrow3_col508\" class=\"data row3 col508\" >2015-11-03 17:44:36</td>\n",
       "                        <td id=\"T_a8891e05_883b_11eb_89b2_704d7b3c13bcrow3_col509\" class=\"data row3 col509\" >2015-11-04 17:02:18</td>\n",
       "                        <td id=\"T_a8891e05_883b_11eb_89b2_704d7b3c13bcrow3_col510\" class=\"data row3 col510\" >2015-11-05 17:38:56</td>\n",
       "                        <td id=\"T_a8891e05_883b_11eb_89b2_704d7b3c13bcrow3_col511\" class=\"data row3 col511\" >nan</td>\n",
       "                        <td id=\"T_a8891e05_883b_11eb_89b2_704d7b3c13bcrow3_col512\" class=\"data row3 col512\" >nan</td>\n",
       "                        <td id=\"T_a8891e05_883b_11eb_89b2_704d7b3c13bcrow3_col513\" class=\"data row3 col513\" >nan</td>\n",
       "                        <td id=\"T_a8891e05_883b_11eb_89b2_704d7b3c13bcrow3_col514\" class=\"data row3 col514\" >nan</td>\n",
       "                        <td id=\"T_a8891e05_883b_11eb_89b2_704d7b3c13bcrow3_col515\" class=\"data row3 col515\" >2015-11-12 17:44:45</td>\n",
       "                        <td id=\"T_a8891e05_883b_11eb_89b2_704d7b3c13bcrow3_col516\" class=\"data row3 col516\" >2015-11-13 16:21:17</td>\n",
       "                        <td id=\"T_a8891e05_883b_11eb_89b2_704d7b3c13bcrow3_col517\" class=\"data row3 col517\" >2015-11-16 16:43:22</td>\n",
       "                        <td id=\"T_a8891e05_883b_11eb_89b2_704d7b3c13bcrow3_col518\" class=\"data row3 col518\" >2015-11-17 16:56:08</td>\n",
       "                        <td id=\"T_a8891e05_883b_11eb_89b2_704d7b3c13bcrow3_col519\" class=\"data row3 col519\" >2015-11-18 17:19:37</td>\n",
       "                        <td id=\"T_a8891e05_883b_11eb_89b2_704d7b3c13bcrow3_col520\" class=\"data row3 col520\" >2015-11-19 18:03:01</td>\n",
       "                        <td id=\"T_a8891e05_883b_11eb_89b2_704d7b3c13bcrow3_col521\" class=\"data row3 col521\" >2015-11-20 17:33:33</td>\n",
       "                        <td id=\"T_a8891e05_883b_11eb_89b2_704d7b3c13bcrow3_col522\" class=\"data row3 col522\" >2015-11-23 17:03:38</td>\n",
       "                        <td id=\"T_a8891e05_883b_11eb_89b2_704d7b3c13bcrow3_col523\" class=\"data row3 col523\" >2015-11-24 17:49:18</td>\n",
       "                        <td id=\"T_a8891e05_883b_11eb_89b2_704d7b3c13bcrow3_col524\" class=\"data row3 col524\" >2015-11-25 16:41:49</td>\n",
       "                        <td id=\"T_a8891e05_883b_11eb_89b2_704d7b3c13bcrow3_col525\" class=\"data row3 col525\" >2015-11-26 17:18:08</td>\n",
       "                        <td id=\"T_a8891e05_883b_11eb_89b2_704d7b3c13bcrow3_col526\" class=\"data row3 col526\" >2015-11-27 17:06:19</td>\n",
       "                        <td id=\"T_a8891e05_883b_11eb_89b2_704d7b3c13bcrow3_col527\" class=\"data row3 col527\" >2015-11-30 17:08:57</td>\n",
       "                        <td id=\"T_a8891e05_883b_11eb_89b2_704d7b3c13bcrow3_col528\" class=\"data row3 col528\" >2015-12-01 17:09:31</td>\n",
       "                        <td id=\"T_a8891e05_883b_11eb_89b2_704d7b3c13bcrow3_col529\" class=\"data row3 col529\" >2015-12-02 17:13:35</td>\n",
       "                        <td id=\"T_a8891e05_883b_11eb_89b2_704d7b3c13bcrow3_col530\" class=\"data row3 col530\" >2015-12-03 16:36:51</td>\n",
       "                        <td id=\"T_a8891e05_883b_11eb_89b2_704d7b3c13bcrow3_col531\" class=\"data row3 col531\" >2015-12-04 16:47:21</td>\n",
       "                        <td id=\"T_a8891e05_883b_11eb_89b2_704d7b3c13bcrow3_col532\" class=\"data row3 col532\" >2015-12-07 17:24:39</td>\n",
       "                        <td id=\"T_a8891e05_883b_11eb_89b2_704d7b3c13bcrow3_col533\" class=\"data row3 col533\" >2015-12-08 17:21:05</td>\n",
       "                        <td id=\"T_a8891e05_883b_11eb_89b2_704d7b3c13bcrow3_col534\" class=\"data row3 col534\" >2015-12-09 17:17:58</td>\n",
       "                        <td id=\"T_a8891e05_883b_11eb_89b2_704d7b3c13bcrow3_col535\" class=\"data row3 col535\" >2015-12-10 17:10:02</td>\n",
       "                        <td id=\"T_a8891e05_883b_11eb_89b2_704d7b3c13bcrow3_col536\" class=\"data row3 col536\" >2015-12-11 16:44:02</td>\n",
       "                        <td id=\"T_a8891e05_883b_11eb_89b2_704d7b3c13bcrow3_col537\" class=\"data row3 col537\" >2015-12-14 17:23:57</td>\n",
       "                        <td id=\"T_a8891e05_883b_11eb_89b2_704d7b3c13bcrow3_col538\" class=\"data row3 col538\" >2015-12-15 16:37:15</td>\n",
       "                        <td id=\"T_a8891e05_883b_11eb_89b2_704d7b3c13bcrow3_col539\" class=\"data row3 col539\" >2015-12-16 17:40:56</td>\n",
       "                        <td id=\"T_a8891e05_883b_11eb_89b2_704d7b3c13bcrow3_col540\" class=\"data row3 col540\" >2015-12-17 17:21:57</td>\n",
       "                        <td id=\"T_a8891e05_883b_11eb_89b2_704d7b3c13bcrow3_col541\" class=\"data row3 col541\" >2015-12-18 17:55:23</td>\n",
       "                        <td id=\"T_a8891e05_883b_11eb_89b2_704d7b3c13bcrow3_col542\" class=\"data row3 col542\" >2015-12-21 16:49:09</td>\n",
       "                        <td id=\"T_a8891e05_883b_11eb_89b2_704d7b3c13bcrow3_col543\" class=\"data row3 col543\" >2015-12-22 17:24:00</td>\n",
       "                        <td id=\"T_a8891e05_883b_11eb_89b2_704d7b3c13bcrow3_col544\" class=\"data row3 col544\" >2015-12-23 17:36:35</td>\n",
       "                        <td id=\"T_a8891e05_883b_11eb_89b2_704d7b3c13bcrow3_col545\" class=\"data row3 col545\" >2015-12-24 16:48:21</td>\n",
       "                        <td id=\"T_a8891e05_883b_11eb_89b2_704d7b3c13bcrow3_col546\" class=\"data row3 col546\" >nan</td>\n",
       "                        <td id=\"T_a8891e05_883b_11eb_89b2_704d7b3c13bcrow3_col547\" class=\"data row3 col547\" >2015-12-28 17:19:34</td>\n",
       "                        <td id=\"T_a8891e05_883b_11eb_89b2_704d7b3c13bcrow3_col548\" class=\"data row3 col548\" >2015-12-29 16:58:16</td>\n",
       "                        <td id=\"T_a8891e05_883b_11eb_89b2_704d7b3c13bcrow3_col549\" class=\"data row3 col549\" >2015-12-30 17:40:11</td>\n",
       "                        <td id=\"T_a8891e05_883b_11eb_89b2_704d7b3c13bcrow3_col550\" class=\"data row3 col550\" >2015-12-31 17:09:14</td>\n",
       "            </tr>\n",
       "            <tr>\n",
       "                        <th id=\"T_a8891e05_883b_11eb_89b2_704d7b3c13bclevel0_row4\" class=\"row_heading level0 row4\" >4</th>\n",
       "                        <td id=\"T_a8891e05_883b_11eb_89b2_704d7b3c13bcrow4_col0\" class=\"data row4 col0\" >32</td>\n",
       "                        <td id=\"T_a8891e05_883b_11eb_89b2_704d7b3c13bcrow4_col1\" class=\"data row4 col1\" >No</td>\n",
       "                        <td id=\"T_a8891e05_883b_11eb_89b2_704d7b3c13bcrow4_col2\" class=\"data row4 col2\" >Travel_Rarely</td>\n",
       "                        <td id=\"T_a8891e05_883b_11eb_89b2_704d7b3c13bcrow4_col3\" class=\"data row4 col3\" >Research & Development</td>\n",
       "                        <td id=\"T_a8891e05_883b_11eb_89b2_704d7b3c13bcrow4_col4\" class=\"data row4 col4\" >10</td>\n",
       "                        <td id=\"T_a8891e05_883b_11eb_89b2_704d7b3c13bcrow4_col5\" class=\"data row4 col5\" >1</td>\n",
       "                        <td id=\"T_a8891e05_883b_11eb_89b2_704d7b3c13bcrow4_col6\" class=\"data row4 col6\" >Medical</td>\n",
       "                        <td id=\"T_a8891e05_883b_11eb_89b2_704d7b3c13bcrow4_col7\" class=\"data row4 col7\" >1</td>\n",
       "                        <td id=\"T_a8891e05_883b_11eb_89b2_704d7b3c13bcrow4_col8\" class=\"data row4 col8\" >5</td>\n",
       "                        <td id=\"T_a8891e05_883b_11eb_89b2_704d7b3c13bcrow4_col9\" class=\"data row4 col9\" >Male</td>\n",
       "                        <td id=\"T_a8891e05_883b_11eb_89b2_704d7b3c13bcrow4_col10\" class=\"data row4 col10\" >1</td>\n",
       "                        <td id=\"T_a8891e05_883b_11eb_89b2_704d7b3c13bcrow4_col11\" class=\"data row4 col11\" >Sales Executive</td>\n",
       "                        <td id=\"T_a8891e05_883b_11eb_89b2_704d7b3c13bcrow4_col12\" class=\"data row4 col12\" >Single</td>\n",
       "                        <td id=\"T_a8891e05_883b_11eb_89b2_704d7b3c13bcrow4_col13\" class=\"data row4 col13\" >23420</td>\n",
       "                        <td id=\"T_a8891e05_883b_11eb_89b2_704d7b3c13bcrow4_col14\" class=\"data row4 col14\" >4.000000</td>\n",
       "                        <td id=\"T_a8891e05_883b_11eb_89b2_704d7b3c13bcrow4_col15\" class=\"data row4 col15\" >Y</td>\n",
       "                        <td id=\"T_a8891e05_883b_11eb_89b2_704d7b3c13bcrow4_col16\" class=\"data row4 col16\" >12</td>\n",
       "                        <td id=\"T_a8891e05_883b_11eb_89b2_704d7b3c13bcrow4_col17\" class=\"data row4 col17\" >8</td>\n",
       "                        <td id=\"T_a8891e05_883b_11eb_89b2_704d7b3c13bcrow4_col18\" class=\"data row4 col18\" >2</td>\n",
       "                        <td id=\"T_a8891e05_883b_11eb_89b2_704d7b3c13bcrow4_col19\" class=\"data row4 col19\" >9.000000</td>\n",
       "                        <td id=\"T_a8891e05_883b_11eb_89b2_704d7b3c13bcrow4_col20\" class=\"data row4 col20\" >2</td>\n",
       "                        <td id=\"T_a8891e05_883b_11eb_89b2_704d7b3c13bcrow4_col21\" class=\"data row4 col21\" >6</td>\n",
       "                        <td id=\"T_a8891e05_883b_11eb_89b2_704d7b3c13bcrow4_col22\" class=\"data row4 col22\" >0</td>\n",
       "                        <td id=\"T_a8891e05_883b_11eb_89b2_704d7b3c13bcrow4_col23\" class=\"data row4 col23\" >4</td>\n",
       "                        <td id=\"T_a8891e05_883b_11eb_89b2_704d7b3c13bcrow4_col24\" class=\"data row4 col24\" >3</td>\n",
       "                        <td id=\"T_a8891e05_883b_11eb_89b2_704d7b3c13bcrow4_col25\" class=\"data row4 col25\" >3</td>\n",
       "                        <td id=\"T_a8891e05_883b_11eb_89b2_704d7b3c13bcrow4_col26\" class=\"data row4 col26\" >4.000000</td>\n",
       "                        <td id=\"T_a8891e05_883b_11eb_89b2_704d7b3c13bcrow4_col27\" class=\"data row4 col27\" >1.000000</td>\n",
       "                        <td id=\"T_a8891e05_883b_11eb_89b2_704d7b3c13bcrow4_col28\" class=\"data row4 col28\" >3.000000</td>\n",
       "                        <td id=\"T_a8891e05_883b_11eb_89b2_704d7b3c13bcrow4_col29\" class=\"data row4 col29\" >nan</td>\n",
       "                        <td id=\"T_a8891e05_883b_11eb_89b2_704d7b3c13bcrow4_col30\" class=\"data row4 col30\" >2015-01-02 10:28:17</td>\n",
       "                        <td id=\"T_a8891e05_883b_11eb_89b2_704d7b3c13bcrow4_col31\" class=\"data row4 col31\" >2015-01-05 09:49:58</td>\n",
       "                        <td id=\"T_a8891e05_883b_11eb_89b2_704d7b3c13bcrow4_col32\" class=\"data row4 col32\" >2015-01-06 09:45:28</td>\n",
       "                        <td id=\"T_a8891e05_883b_11eb_89b2_704d7b3c13bcrow4_col33\" class=\"data row4 col33\" >2015-01-07 09:49:37</td>\n",
       "                        <td id=\"T_a8891e05_883b_11eb_89b2_704d7b3c13bcrow4_col34\" class=\"data row4 col34\" >2015-01-08 10:19:44</td>\n",
       "                        <td id=\"T_a8891e05_883b_11eb_89b2_704d7b3c13bcrow4_col35\" class=\"data row4 col35\" >2015-01-09 10:00:50</td>\n",
       "                        <td id=\"T_a8891e05_883b_11eb_89b2_704d7b3c13bcrow4_col36\" class=\"data row4 col36\" >2015-01-12 10:29:27</td>\n",
       "                        <td id=\"T_a8891e05_883b_11eb_89b2_704d7b3c13bcrow4_col37\" class=\"data row4 col37\" >2015-01-13 09:59:32</td>\n",
       "                        <td id=\"T_a8891e05_883b_11eb_89b2_704d7b3c13bcrow4_col38\" class=\"data row4 col38\" >nan</td>\n",
       "                        <td id=\"T_a8891e05_883b_11eb_89b2_704d7b3c13bcrow4_col39\" class=\"data row4 col39\" >2015-01-15 10:06:12</td>\n",
       "                        <td id=\"T_a8891e05_883b_11eb_89b2_704d7b3c13bcrow4_col40\" class=\"data row4 col40\" >2015-01-16 10:03:50</td>\n",
       "                        <td id=\"T_a8891e05_883b_11eb_89b2_704d7b3c13bcrow4_col41\" class=\"data row4 col41\" >nan</td>\n",
       "                        <td id=\"T_a8891e05_883b_11eb_89b2_704d7b3c13bcrow4_col42\" class=\"data row4 col42\" >2015-01-20 10:10:29</td>\n",
       "                        <td id=\"T_a8891e05_883b_11eb_89b2_704d7b3c13bcrow4_col43\" class=\"data row4 col43\" >2015-01-21 10:28:15</td>\n",
       "                        <td id=\"T_a8891e05_883b_11eb_89b2_704d7b3c13bcrow4_col44\" class=\"data row4 col44\" >2015-01-22 10:10:10</td>\n",
       "                        <td id=\"T_a8891e05_883b_11eb_89b2_704d7b3c13bcrow4_col45\" class=\"data row4 col45\" >2015-01-23 09:34:34</td>\n",
       "                        <td id=\"T_a8891e05_883b_11eb_89b2_704d7b3c13bcrow4_col46\" class=\"data row4 col46\" >nan</td>\n",
       "                        <td id=\"T_a8891e05_883b_11eb_89b2_704d7b3c13bcrow4_col47\" class=\"data row4 col47\" >2015-01-27 09:56:59</td>\n",
       "                        <td id=\"T_a8891e05_883b_11eb_89b2_704d7b3c13bcrow4_col48\" class=\"data row4 col48\" >2015-01-28 09:45:03</td>\n",
       "                        <td id=\"T_a8891e05_883b_11eb_89b2_704d7b3c13bcrow4_col49\" class=\"data row4 col49\" >2015-01-29 10:11:41</td>\n",
       "                        <td id=\"T_a8891e05_883b_11eb_89b2_704d7b3c13bcrow4_col50\" class=\"data row4 col50\" >2015-01-30 10:24:50</td>\n",
       "                        <td id=\"T_a8891e05_883b_11eb_89b2_704d7b3c13bcrow4_col51\" class=\"data row4 col51\" >2015-02-02 09:43:27</td>\n",
       "                        <td id=\"T_a8891e05_883b_11eb_89b2_704d7b3c13bcrow4_col52\" class=\"data row4 col52\" >2015-02-03 09:55:59</td>\n",
       "                        <td id=\"T_a8891e05_883b_11eb_89b2_704d7b3c13bcrow4_col53\" class=\"data row4 col53\" >2015-02-04 10:03:25</td>\n",
       "                        <td id=\"T_a8891e05_883b_11eb_89b2_704d7b3c13bcrow4_col54\" class=\"data row4 col54\" >2015-02-05 10:02:17</td>\n",
       "                        <td id=\"T_a8891e05_883b_11eb_89b2_704d7b3c13bcrow4_col55\" class=\"data row4 col55\" >2015-02-06 09:55:43</td>\n",
       "                        <td id=\"T_a8891e05_883b_11eb_89b2_704d7b3c13bcrow4_col56\" class=\"data row4 col56\" >2015-02-09 10:15:16</td>\n",
       "                        <td id=\"T_a8891e05_883b_11eb_89b2_704d7b3c13bcrow4_col57\" class=\"data row4 col57\" >2015-02-10 09:43:48</td>\n",
       "                        <td id=\"T_a8891e05_883b_11eb_89b2_704d7b3c13bcrow4_col58\" class=\"data row4 col58\" >2015-02-11 10:03:36</td>\n",
       "                        <td id=\"T_a8891e05_883b_11eb_89b2_704d7b3c13bcrow4_col59\" class=\"data row4 col59\" >2015-02-12 10:02:17</td>\n",
       "                        <td id=\"T_a8891e05_883b_11eb_89b2_704d7b3c13bcrow4_col60\" class=\"data row4 col60\" >2015-02-13 09:44:55</td>\n",
       "                        <td id=\"T_a8891e05_883b_11eb_89b2_704d7b3c13bcrow4_col61\" class=\"data row4 col61\" >2015-02-16 09:55:58</td>\n",
       "                        <td id=\"T_a8891e05_883b_11eb_89b2_704d7b3c13bcrow4_col62\" class=\"data row4 col62\" >2015-02-17 10:09:22</td>\n",
       "                        <td id=\"T_a8891e05_883b_11eb_89b2_704d7b3c13bcrow4_col63\" class=\"data row4 col63\" >2015-02-18 09:37:58</td>\n",
       "                        <td id=\"T_a8891e05_883b_11eb_89b2_704d7b3c13bcrow4_col64\" class=\"data row4 col64\" >2015-02-19 09:38:21</td>\n",
       "                        <td id=\"T_a8891e05_883b_11eb_89b2_704d7b3c13bcrow4_col65\" class=\"data row4 col65\" >2015-02-20 10:02:12</td>\n",
       "                        <td id=\"T_a8891e05_883b_11eb_89b2_704d7b3c13bcrow4_col66\" class=\"data row4 col66\" >2015-02-23 10:25:42</td>\n",
       "                        <td id=\"T_a8891e05_883b_11eb_89b2_704d7b3c13bcrow4_col67\" class=\"data row4 col67\" >2015-02-24 09:51:00</td>\n",
       "                        <td id=\"T_a8891e05_883b_11eb_89b2_704d7b3c13bcrow4_col68\" class=\"data row4 col68\" >2015-02-25 09:55:22</td>\n",
       "                        <td id=\"T_a8891e05_883b_11eb_89b2_704d7b3c13bcrow4_col69\" class=\"data row4 col69\" >2015-02-26 09:58:05</td>\n",
       "                        <td id=\"T_a8891e05_883b_11eb_89b2_704d7b3c13bcrow4_col70\" class=\"data row4 col70\" >2015-02-27 10:07:47</td>\n",
       "                        <td id=\"T_a8891e05_883b_11eb_89b2_704d7b3c13bcrow4_col71\" class=\"data row4 col71\" >2015-03-02 09:59:53</td>\n",
       "                        <td id=\"T_a8891e05_883b_11eb_89b2_704d7b3c13bcrow4_col72\" class=\"data row4 col72\" >2015-03-03 09:42:11</td>\n",
       "                        <td id=\"T_a8891e05_883b_11eb_89b2_704d7b3c13bcrow4_col73\" class=\"data row4 col73\" >2015-03-04 10:00:32</td>\n",
       "                        <td id=\"T_a8891e05_883b_11eb_89b2_704d7b3c13bcrow4_col74\" class=\"data row4 col74\" >nan</td>\n",
       "                        <td id=\"T_a8891e05_883b_11eb_89b2_704d7b3c13bcrow4_col75\" class=\"data row4 col75\" >2015-03-06 09:53:21</td>\n",
       "                        <td id=\"T_a8891e05_883b_11eb_89b2_704d7b3c13bcrow4_col76\" class=\"data row4 col76\" >2015-03-09 09:56:58</td>\n",
       "                        <td id=\"T_a8891e05_883b_11eb_89b2_704d7b3c13bcrow4_col77\" class=\"data row4 col77\" >2015-03-10 10:02:48</td>\n",
       "                        <td id=\"T_a8891e05_883b_11eb_89b2_704d7b3c13bcrow4_col78\" class=\"data row4 col78\" >2015-03-11 09:48:03</td>\n",
       "                        <td id=\"T_a8891e05_883b_11eb_89b2_704d7b3c13bcrow4_col79\" class=\"data row4 col79\" >2015-03-12 09:34:03</td>\n",
       "                        <td id=\"T_a8891e05_883b_11eb_89b2_704d7b3c13bcrow4_col80\" class=\"data row4 col80\" >2015-03-13 10:12:48</td>\n",
       "                        <td id=\"T_a8891e05_883b_11eb_89b2_704d7b3c13bcrow4_col81\" class=\"data row4 col81\" >2015-03-16 09:59:26</td>\n",
       "                        <td id=\"T_a8891e05_883b_11eb_89b2_704d7b3c13bcrow4_col82\" class=\"data row4 col82\" >2015-03-17 10:16:28</td>\n",
       "                        <td id=\"T_a8891e05_883b_11eb_89b2_704d7b3c13bcrow4_col83\" class=\"data row4 col83\" >2015-03-18 09:49:21</td>\n",
       "                        <td id=\"T_a8891e05_883b_11eb_89b2_704d7b3c13bcrow4_col84\" class=\"data row4 col84\" >2015-03-19 10:06:49</td>\n",
       "                        <td id=\"T_a8891e05_883b_11eb_89b2_704d7b3c13bcrow4_col85\" class=\"data row4 col85\" >2015-03-20 09:46:16</td>\n",
       "                        <td id=\"T_a8891e05_883b_11eb_89b2_704d7b3c13bcrow4_col86\" class=\"data row4 col86\" >2015-03-23 10:12:47</td>\n",
       "                        <td id=\"T_a8891e05_883b_11eb_89b2_704d7b3c13bcrow4_col87\" class=\"data row4 col87\" >2015-03-24 09:37:38</td>\n",
       "                        <td id=\"T_a8891e05_883b_11eb_89b2_704d7b3c13bcrow4_col88\" class=\"data row4 col88\" >2015-03-25 10:16:56</td>\n",
       "                        <td id=\"T_a8891e05_883b_11eb_89b2_704d7b3c13bcrow4_col89\" class=\"data row4 col89\" >2015-03-26 10:06:01</td>\n",
       "                        <td id=\"T_a8891e05_883b_11eb_89b2_704d7b3c13bcrow4_col90\" class=\"data row4 col90\" >2015-03-27 09:47:43</td>\n",
       "                        <td id=\"T_a8891e05_883b_11eb_89b2_704d7b3c13bcrow4_col91\" class=\"data row4 col91\" >2015-03-30 09:59:29</td>\n",
       "                        <td id=\"T_a8891e05_883b_11eb_89b2_704d7b3c13bcrow4_col92\" class=\"data row4 col92\" >2015-03-31 10:28:28</td>\n",
       "                        <td id=\"T_a8891e05_883b_11eb_89b2_704d7b3c13bcrow4_col93\" class=\"data row4 col93\" >2015-04-01 09:46:04</td>\n",
       "                        <td id=\"T_a8891e05_883b_11eb_89b2_704d7b3c13bcrow4_col94\" class=\"data row4 col94\" >2015-04-02 09:54:15</td>\n",
       "                        <td id=\"T_a8891e05_883b_11eb_89b2_704d7b3c13bcrow4_col95\" class=\"data row4 col95\" >2015-04-03 09:51:44</td>\n",
       "                        <td id=\"T_a8891e05_883b_11eb_89b2_704d7b3c13bcrow4_col96\" class=\"data row4 col96\" >2015-04-06 10:05:02</td>\n",
       "                        <td id=\"T_a8891e05_883b_11eb_89b2_704d7b3c13bcrow4_col97\" class=\"data row4 col97\" >2015-04-07 09:49:12</td>\n",
       "                        <td id=\"T_a8891e05_883b_11eb_89b2_704d7b3c13bcrow4_col98\" class=\"data row4 col98\" >2015-04-08 10:08:27</td>\n",
       "                        <td id=\"T_a8891e05_883b_11eb_89b2_704d7b3c13bcrow4_col99\" class=\"data row4 col99\" >2015-04-09 09:57:47</td>\n",
       "                        <td id=\"T_a8891e05_883b_11eb_89b2_704d7b3c13bcrow4_col100\" class=\"data row4 col100\" >2015-04-10 10:09:16</td>\n",
       "                        <td id=\"T_a8891e05_883b_11eb_89b2_704d7b3c13bcrow4_col101\" class=\"data row4 col101\" >2015-04-13 09:59:22</td>\n",
       "                        <td id=\"T_a8891e05_883b_11eb_89b2_704d7b3c13bcrow4_col102\" class=\"data row4 col102\" >2015-04-14 09:58:02</td>\n",
       "                        <td id=\"T_a8891e05_883b_11eb_89b2_704d7b3c13bcrow4_col103\" class=\"data row4 col103\" >2015-04-15 09:58:30</td>\n",
       "                        <td id=\"T_a8891e05_883b_11eb_89b2_704d7b3c13bcrow4_col104\" class=\"data row4 col104\" >2015-04-16 09:49:06</td>\n",
       "                        <td id=\"T_a8891e05_883b_11eb_89b2_704d7b3c13bcrow4_col105\" class=\"data row4 col105\" >2015-04-17 10:02:28</td>\n",
       "                        <td id=\"T_a8891e05_883b_11eb_89b2_704d7b3c13bcrow4_col106\" class=\"data row4 col106\" >2015-04-20 09:55:16</td>\n",
       "                        <td id=\"T_a8891e05_883b_11eb_89b2_704d7b3c13bcrow4_col107\" class=\"data row4 col107\" >nan</td>\n",
       "                        <td id=\"T_a8891e05_883b_11eb_89b2_704d7b3c13bcrow4_col108\" class=\"data row4 col108\" >2015-04-22 10:09:26</td>\n",
       "                        <td id=\"T_a8891e05_883b_11eb_89b2_704d7b3c13bcrow4_col109\" class=\"data row4 col109\" >2015-04-23 10:00:47</td>\n",
       "                        <td id=\"T_a8891e05_883b_11eb_89b2_704d7b3c13bcrow4_col110\" class=\"data row4 col110\" >2015-04-24 10:18:18</td>\n",
       "                        <td id=\"T_a8891e05_883b_11eb_89b2_704d7b3c13bcrow4_col111\" class=\"data row4 col111\" >2015-04-27 10:18:43</td>\n",
       "                        <td id=\"T_a8891e05_883b_11eb_89b2_704d7b3c13bcrow4_col112\" class=\"data row4 col112\" >2015-04-28 09:41:17</td>\n",
       "                        <td id=\"T_a8891e05_883b_11eb_89b2_704d7b3c13bcrow4_col113\" class=\"data row4 col113\" >2015-04-29 10:21:11</td>\n",
       "                        <td id=\"T_a8891e05_883b_11eb_89b2_704d7b3c13bcrow4_col114\" class=\"data row4 col114\" >2015-04-30 10:20:45</td>\n",
       "                        <td id=\"T_a8891e05_883b_11eb_89b2_704d7b3c13bcrow4_col115\" class=\"data row4 col115\" >nan</td>\n",
       "                        <td id=\"T_a8891e05_883b_11eb_89b2_704d7b3c13bcrow4_col116\" class=\"data row4 col116\" >2015-05-04 09:41:58</td>\n",
       "                        <td id=\"T_a8891e05_883b_11eb_89b2_704d7b3c13bcrow4_col117\" class=\"data row4 col117\" >2015-05-05 10:09:45</td>\n",
       "                        <td id=\"T_a8891e05_883b_11eb_89b2_704d7b3c13bcrow4_col118\" class=\"data row4 col118\" >2015-05-06 10:28:38</td>\n",
       "                        <td id=\"T_a8891e05_883b_11eb_89b2_704d7b3c13bcrow4_col119\" class=\"data row4 col119\" >2015-05-07 10:05:24</td>\n",
       "                        <td id=\"T_a8891e05_883b_11eb_89b2_704d7b3c13bcrow4_col120\" class=\"data row4 col120\" >2015-05-08 10:20:21</td>\n",
       "                        <td id=\"T_a8891e05_883b_11eb_89b2_704d7b3c13bcrow4_col121\" class=\"data row4 col121\" >2015-05-11 09:43:11</td>\n",
       "                        <td id=\"T_a8891e05_883b_11eb_89b2_704d7b3c13bcrow4_col122\" class=\"data row4 col122\" >2015-05-12 09:46:57</td>\n",
       "                        <td id=\"T_a8891e05_883b_11eb_89b2_704d7b3c13bcrow4_col123\" class=\"data row4 col123\" >2015-05-13 10:09:57</td>\n",
       "                        <td id=\"T_a8891e05_883b_11eb_89b2_704d7b3c13bcrow4_col124\" class=\"data row4 col124\" >2015-05-14 10:07:50</td>\n",
       "                        <td id=\"T_a8891e05_883b_11eb_89b2_704d7b3c13bcrow4_col125\" class=\"data row4 col125\" >2015-05-15 09:27:13</td>\n",
       "                        <td id=\"T_a8891e05_883b_11eb_89b2_704d7b3c13bcrow4_col126\" class=\"data row4 col126\" >2015-05-18 10:08:39</td>\n",
       "                        <td id=\"T_a8891e05_883b_11eb_89b2_704d7b3c13bcrow4_col127\" class=\"data row4 col127\" >2015-05-19 09:41:20</td>\n",
       "                        <td id=\"T_a8891e05_883b_11eb_89b2_704d7b3c13bcrow4_col128\" class=\"data row4 col128\" >2015-05-20 10:21:00</td>\n",
       "                        <td id=\"T_a8891e05_883b_11eb_89b2_704d7b3c13bcrow4_col129\" class=\"data row4 col129\" >2015-05-21 09:45:53</td>\n",
       "                        <td id=\"T_a8891e05_883b_11eb_89b2_704d7b3c13bcrow4_col130\" class=\"data row4 col130\" >2015-05-22 10:13:55</td>\n",
       "                        <td id=\"T_a8891e05_883b_11eb_89b2_704d7b3c13bcrow4_col131\" class=\"data row4 col131\" >2015-05-25 10:26:55</td>\n",
       "                        <td id=\"T_a8891e05_883b_11eb_89b2_704d7b3c13bcrow4_col132\" class=\"data row4 col132\" >2015-05-26 09:44:25</td>\n",
       "                        <td id=\"T_a8891e05_883b_11eb_89b2_704d7b3c13bcrow4_col133\" class=\"data row4 col133\" >2015-05-27 09:56:39</td>\n",
       "                        <td id=\"T_a8891e05_883b_11eb_89b2_704d7b3c13bcrow4_col134\" class=\"data row4 col134\" >2015-05-28 09:51:58</td>\n",
       "                        <td id=\"T_a8891e05_883b_11eb_89b2_704d7b3c13bcrow4_col135\" class=\"data row4 col135\" >2015-05-29 09:41:19</td>\n",
       "                        <td id=\"T_a8891e05_883b_11eb_89b2_704d7b3c13bcrow4_col136\" class=\"data row4 col136\" >2015-06-01 10:22:26</td>\n",
       "                        <td id=\"T_a8891e05_883b_11eb_89b2_704d7b3c13bcrow4_col137\" class=\"data row4 col137\" >2015-06-02 10:07:35</td>\n",
       "                        <td id=\"T_a8891e05_883b_11eb_89b2_704d7b3c13bcrow4_col138\" class=\"data row4 col138\" >2015-06-03 10:05:21</td>\n",
       "                        <td id=\"T_a8891e05_883b_11eb_89b2_704d7b3c13bcrow4_col139\" class=\"data row4 col139\" >2015-06-04 09:46:59</td>\n",
       "                        <td id=\"T_a8891e05_883b_11eb_89b2_704d7b3c13bcrow4_col140\" class=\"data row4 col140\" >2015-06-05 09:47:52</td>\n",
       "                        <td id=\"T_a8891e05_883b_11eb_89b2_704d7b3c13bcrow4_col141\" class=\"data row4 col141\" >2015-06-08 09:55:09</td>\n",
       "                        <td id=\"T_a8891e05_883b_11eb_89b2_704d7b3c13bcrow4_col142\" class=\"data row4 col142\" >2015-06-09 10:36:58</td>\n",
       "                        <td id=\"T_a8891e05_883b_11eb_89b2_704d7b3c13bcrow4_col143\" class=\"data row4 col143\" >2015-06-10 10:18:44</td>\n",
       "                        <td id=\"T_a8891e05_883b_11eb_89b2_704d7b3c13bcrow4_col144\" class=\"data row4 col144\" >nan</td>\n",
       "                        <td id=\"T_a8891e05_883b_11eb_89b2_704d7b3c13bcrow4_col145\" class=\"data row4 col145\" >2015-06-12 10:25:57</td>\n",
       "                        <td id=\"T_a8891e05_883b_11eb_89b2_704d7b3c13bcrow4_col146\" class=\"data row4 col146\" >2015-06-15 09:45:05</td>\n",
       "                        <td id=\"T_a8891e05_883b_11eb_89b2_704d7b3c13bcrow4_col147\" class=\"data row4 col147\" >2015-06-16 10:26:43</td>\n",
       "                        <td id=\"T_a8891e05_883b_11eb_89b2_704d7b3c13bcrow4_col148\" class=\"data row4 col148\" >2015-06-17 09:47:19</td>\n",
       "                        <td id=\"T_a8891e05_883b_11eb_89b2_704d7b3c13bcrow4_col149\" class=\"data row4 col149\" >2015-06-18 10:13:49</td>\n",
       "                        <td id=\"T_a8891e05_883b_11eb_89b2_704d7b3c13bcrow4_col150\" class=\"data row4 col150\" >2015-06-19 09:47:13</td>\n",
       "                        <td id=\"T_a8891e05_883b_11eb_89b2_704d7b3c13bcrow4_col151\" class=\"data row4 col151\" >2015-06-22 10:04:08</td>\n",
       "                        <td id=\"T_a8891e05_883b_11eb_89b2_704d7b3c13bcrow4_col152\" class=\"data row4 col152\" >2015-06-23 09:51:11</td>\n",
       "                        <td id=\"T_a8891e05_883b_11eb_89b2_704d7b3c13bcrow4_col153\" class=\"data row4 col153\" >2015-06-24 10:12:56</td>\n",
       "                        <td id=\"T_a8891e05_883b_11eb_89b2_704d7b3c13bcrow4_col154\" class=\"data row4 col154\" >2015-06-25 09:59:25</td>\n",
       "                        <td id=\"T_a8891e05_883b_11eb_89b2_704d7b3c13bcrow4_col155\" class=\"data row4 col155\" >2015-06-26 09:29:47</td>\n",
       "                        <td id=\"T_a8891e05_883b_11eb_89b2_704d7b3c13bcrow4_col156\" class=\"data row4 col156\" >2015-06-29 10:08:32</td>\n",
       "                        <td id=\"T_a8891e05_883b_11eb_89b2_704d7b3c13bcrow4_col157\" class=\"data row4 col157\" >2015-06-30 10:03:44</td>\n",
       "                        <td id=\"T_a8891e05_883b_11eb_89b2_704d7b3c13bcrow4_col158\" class=\"data row4 col158\" >2015-07-01 09:48:35</td>\n",
       "                        <td id=\"T_a8891e05_883b_11eb_89b2_704d7b3c13bcrow4_col159\" class=\"data row4 col159\" >2015-07-02 09:24:58</td>\n",
       "                        <td id=\"T_a8891e05_883b_11eb_89b2_704d7b3c13bcrow4_col160\" class=\"data row4 col160\" >2015-07-03 10:08:01</td>\n",
       "                        <td id=\"T_a8891e05_883b_11eb_89b2_704d7b3c13bcrow4_col161\" class=\"data row4 col161\" >2015-07-06 09:41:01</td>\n",
       "                        <td id=\"T_a8891e05_883b_11eb_89b2_704d7b3c13bcrow4_col162\" class=\"data row4 col162\" >2015-07-07 10:23:38</td>\n",
       "                        <td id=\"T_a8891e05_883b_11eb_89b2_704d7b3c13bcrow4_col163\" class=\"data row4 col163\" >2015-07-08 09:46:59</td>\n",
       "                        <td id=\"T_a8891e05_883b_11eb_89b2_704d7b3c13bcrow4_col164\" class=\"data row4 col164\" >2015-07-09 10:47:18</td>\n",
       "                        <td id=\"T_a8891e05_883b_11eb_89b2_704d7b3c13bcrow4_col165\" class=\"data row4 col165\" >2015-07-10 10:06:36</td>\n",
       "                        <td id=\"T_a8891e05_883b_11eb_89b2_704d7b3c13bcrow4_col166\" class=\"data row4 col166\" >2015-07-13 10:00:10</td>\n",
       "                        <td id=\"T_a8891e05_883b_11eb_89b2_704d7b3c13bcrow4_col167\" class=\"data row4 col167\" >2015-07-14 09:36:55</td>\n",
       "                        <td id=\"T_a8891e05_883b_11eb_89b2_704d7b3c13bcrow4_col168\" class=\"data row4 col168\" >2015-07-15 09:44:21</td>\n",
       "                        <td id=\"T_a8891e05_883b_11eb_89b2_704d7b3c13bcrow4_col169\" class=\"data row4 col169\" >2015-07-16 09:34:59</td>\n",
       "                        <td id=\"T_a8891e05_883b_11eb_89b2_704d7b3c13bcrow4_col170\" class=\"data row4 col170\" >nan</td>\n",
       "                        <td id=\"T_a8891e05_883b_11eb_89b2_704d7b3c13bcrow4_col171\" class=\"data row4 col171\" >2015-07-20 10:26:08</td>\n",
       "                        <td id=\"T_a8891e05_883b_11eb_89b2_704d7b3c13bcrow4_col172\" class=\"data row4 col172\" >2015-07-21 09:42:08</td>\n",
       "                        <td id=\"T_a8891e05_883b_11eb_89b2_704d7b3c13bcrow4_col173\" class=\"data row4 col173\" >2015-07-22 09:58:04</td>\n",
       "                        <td id=\"T_a8891e05_883b_11eb_89b2_704d7b3c13bcrow4_col174\" class=\"data row4 col174\" >2015-07-23 10:09:40</td>\n",
       "                        <td id=\"T_a8891e05_883b_11eb_89b2_704d7b3c13bcrow4_col175\" class=\"data row4 col175\" >2015-07-24 09:43:16</td>\n",
       "                        <td id=\"T_a8891e05_883b_11eb_89b2_704d7b3c13bcrow4_col176\" class=\"data row4 col176\" >2015-07-27 09:59:05</td>\n",
       "                        <td id=\"T_a8891e05_883b_11eb_89b2_704d7b3c13bcrow4_col177\" class=\"data row4 col177\" >2015-07-28 10:43:35</td>\n",
       "                        <td id=\"T_a8891e05_883b_11eb_89b2_704d7b3c13bcrow4_col178\" class=\"data row4 col178\" >2015-07-29 10:54:55</td>\n",
       "                        <td id=\"T_a8891e05_883b_11eb_89b2_704d7b3c13bcrow4_col179\" class=\"data row4 col179\" >2015-07-30 10:09:52</td>\n",
       "                        <td id=\"T_a8891e05_883b_11eb_89b2_704d7b3c13bcrow4_col180\" class=\"data row4 col180\" >2015-07-31 09:49:40</td>\n",
       "                        <td id=\"T_a8891e05_883b_11eb_89b2_704d7b3c13bcrow4_col181\" class=\"data row4 col181\" >2015-08-03 10:23:07</td>\n",
       "                        <td id=\"T_a8891e05_883b_11eb_89b2_704d7b3c13bcrow4_col182\" class=\"data row4 col182\" >2015-08-04 09:48:50</td>\n",
       "                        <td id=\"T_a8891e05_883b_11eb_89b2_704d7b3c13bcrow4_col183\" class=\"data row4 col183\" >2015-08-05 09:33:13</td>\n",
       "                        <td id=\"T_a8891e05_883b_11eb_89b2_704d7b3c13bcrow4_col184\" class=\"data row4 col184\" >2015-08-06 09:56:03</td>\n",
       "                        <td id=\"T_a8891e05_883b_11eb_89b2_704d7b3c13bcrow4_col185\" class=\"data row4 col185\" >2015-08-07 09:48:23</td>\n",
       "                        <td id=\"T_a8891e05_883b_11eb_89b2_704d7b3c13bcrow4_col186\" class=\"data row4 col186\" >2015-08-10 10:12:45</td>\n",
       "                        <td id=\"T_a8891e05_883b_11eb_89b2_704d7b3c13bcrow4_col187\" class=\"data row4 col187\" >2015-08-11 10:11:50</td>\n",
       "                        <td id=\"T_a8891e05_883b_11eb_89b2_704d7b3c13bcrow4_col188\" class=\"data row4 col188\" >nan</td>\n",
       "                        <td id=\"T_a8891e05_883b_11eb_89b2_704d7b3c13bcrow4_col189\" class=\"data row4 col189\" >2015-08-13 10:06:11</td>\n",
       "                        <td id=\"T_a8891e05_883b_11eb_89b2_704d7b3c13bcrow4_col190\" class=\"data row4 col190\" >2015-08-14 09:48:26</td>\n",
       "                        <td id=\"T_a8891e05_883b_11eb_89b2_704d7b3c13bcrow4_col191\" class=\"data row4 col191\" >2015-08-17 10:19:25</td>\n",
       "                        <td id=\"T_a8891e05_883b_11eb_89b2_704d7b3c13bcrow4_col192\" class=\"data row4 col192\" >2015-08-18 09:55:14</td>\n",
       "                        <td id=\"T_a8891e05_883b_11eb_89b2_704d7b3c13bcrow4_col193\" class=\"data row4 col193\" >2015-08-19 09:45:22</td>\n",
       "                        <td id=\"T_a8891e05_883b_11eb_89b2_704d7b3c13bcrow4_col194\" class=\"data row4 col194\" >2015-08-20 09:40:50</td>\n",
       "                        <td id=\"T_a8891e05_883b_11eb_89b2_704d7b3c13bcrow4_col195\" class=\"data row4 col195\" >2015-08-21 09:52:20</td>\n",
       "                        <td id=\"T_a8891e05_883b_11eb_89b2_704d7b3c13bcrow4_col196\" class=\"data row4 col196\" >2015-08-24 09:59:24</td>\n",
       "                        <td id=\"T_a8891e05_883b_11eb_89b2_704d7b3c13bcrow4_col197\" class=\"data row4 col197\" >2015-08-25 10:24:46</td>\n",
       "                        <td id=\"T_a8891e05_883b_11eb_89b2_704d7b3c13bcrow4_col198\" class=\"data row4 col198\" >2015-08-26 09:40:04</td>\n",
       "                        <td id=\"T_a8891e05_883b_11eb_89b2_704d7b3c13bcrow4_col199\" class=\"data row4 col199\" >2015-08-27 10:00:36</td>\n",
       "                        <td id=\"T_a8891e05_883b_11eb_89b2_704d7b3c13bcrow4_col200\" class=\"data row4 col200\" >2015-08-28 09:55:44</td>\n",
       "                        <td id=\"T_a8891e05_883b_11eb_89b2_704d7b3c13bcrow4_col201\" class=\"data row4 col201\" >2015-08-31 10:09:20</td>\n",
       "                        <td id=\"T_a8891e05_883b_11eb_89b2_704d7b3c13bcrow4_col202\" class=\"data row4 col202\" >2015-09-01 09:48:18</td>\n",
       "                        <td id=\"T_a8891e05_883b_11eb_89b2_704d7b3c13bcrow4_col203\" class=\"data row4 col203\" >2015-09-02 10:16:14</td>\n",
       "                        <td id=\"T_a8891e05_883b_11eb_89b2_704d7b3c13bcrow4_col204\" class=\"data row4 col204\" >2015-09-03 10:32:19</td>\n",
       "                        <td id=\"T_a8891e05_883b_11eb_89b2_704d7b3c13bcrow4_col205\" class=\"data row4 col205\" >2015-09-04 10:04:26</td>\n",
       "                        <td id=\"T_a8891e05_883b_11eb_89b2_704d7b3c13bcrow4_col206\" class=\"data row4 col206\" >2015-09-07 09:47:03</td>\n",
       "                        <td id=\"T_a8891e05_883b_11eb_89b2_704d7b3c13bcrow4_col207\" class=\"data row4 col207\" >2015-09-08 10:14:53</td>\n",
       "                        <td id=\"T_a8891e05_883b_11eb_89b2_704d7b3c13bcrow4_col208\" class=\"data row4 col208\" >2015-09-09 09:45:22</td>\n",
       "                        <td id=\"T_a8891e05_883b_11eb_89b2_704d7b3c13bcrow4_col209\" class=\"data row4 col209\" >2015-09-10 09:42:04</td>\n",
       "                        <td id=\"T_a8891e05_883b_11eb_89b2_704d7b3c13bcrow4_col210\" class=\"data row4 col210\" >2015-09-11 09:41:30</td>\n",
       "                        <td id=\"T_a8891e05_883b_11eb_89b2_704d7b3c13bcrow4_col211\" class=\"data row4 col211\" >2015-09-14 09:48:38</td>\n",
       "                        <td id=\"T_a8891e05_883b_11eb_89b2_704d7b3c13bcrow4_col212\" class=\"data row4 col212\" >2015-09-15 09:44:13</td>\n",
       "                        <td id=\"T_a8891e05_883b_11eb_89b2_704d7b3c13bcrow4_col213\" class=\"data row4 col213\" >2015-09-16 09:55:17</td>\n",
       "                        <td id=\"T_a8891e05_883b_11eb_89b2_704d7b3c13bcrow4_col214\" class=\"data row4 col214\" >nan</td>\n",
       "                        <td id=\"T_a8891e05_883b_11eb_89b2_704d7b3c13bcrow4_col215\" class=\"data row4 col215\" >2015-09-18 09:45:17</td>\n",
       "                        <td id=\"T_a8891e05_883b_11eb_89b2_704d7b3c13bcrow4_col216\" class=\"data row4 col216\" >2015-09-21 09:47:48</td>\n",
       "                        <td id=\"T_a8891e05_883b_11eb_89b2_704d7b3c13bcrow4_col217\" class=\"data row4 col217\" >2015-09-22 10:08:20</td>\n",
       "                        <td id=\"T_a8891e05_883b_11eb_89b2_704d7b3c13bcrow4_col218\" class=\"data row4 col218\" >2015-09-23 09:44:15</td>\n",
       "                        <td id=\"T_a8891e05_883b_11eb_89b2_704d7b3c13bcrow4_col219\" class=\"data row4 col219\" >2015-09-24 09:49:02</td>\n",
       "                        <td id=\"T_a8891e05_883b_11eb_89b2_704d7b3c13bcrow4_col220\" class=\"data row4 col220\" >2015-09-25 09:46:15</td>\n",
       "                        <td id=\"T_a8891e05_883b_11eb_89b2_704d7b3c13bcrow4_col221\" class=\"data row4 col221\" >2015-09-28 09:57:55</td>\n",
       "                        <td id=\"T_a8891e05_883b_11eb_89b2_704d7b3c13bcrow4_col222\" class=\"data row4 col222\" >2015-09-29 09:50:24</td>\n",
       "                        <td id=\"T_a8891e05_883b_11eb_89b2_704d7b3c13bcrow4_col223\" class=\"data row4 col223\" >2015-09-30 10:01:46</td>\n",
       "                        <td id=\"T_a8891e05_883b_11eb_89b2_704d7b3c13bcrow4_col224\" class=\"data row4 col224\" >2015-10-01 09:58:38</td>\n",
       "                        <td id=\"T_a8891e05_883b_11eb_89b2_704d7b3c13bcrow4_col225\" class=\"data row4 col225\" >nan</td>\n",
       "                        <td id=\"T_a8891e05_883b_11eb_89b2_704d7b3c13bcrow4_col226\" class=\"data row4 col226\" >2015-10-05 10:01:38</td>\n",
       "                        <td id=\"T_a8891e05_883b_11eb_89b2_704d7b3c13bcrow4_col227\" class=\"data row4 col227\" >2015-10-06 09:53:54</td>\n",
       "                        <td id=\"T_a8891e05_883b_11eb_89b2_704d7b3c13bcrow4_col228\" class=\"data row4 col228\" >2015-10-07 09:49:00</td>\n",
       "                        <td id=\"T_a8891e05_883b_11eb_89b2_704d7b3c13bcrow4_col229\" class=\"data row4 col229\" >2015-10-08 09:52:18</td>\n",
       "                        <td id=\"T_a8891e05_883b_11eb_89b2_704d7b3c13bcrow4_col230\" class=\"data row4 col230\" >2015-10-09 09:37:05</td>\n",
       "                        <td id=\"T_a8891e05_883b_11eb_89b2_704d7b3c13bcrow4_col231\" class=\"data row4 col231\" >2015-10-12 09:47:44</td>\n",
       "                        <td id=\"T_a8891e05_883b_11eb_89b2_704d7b3c13bcrow4_col232\" class=\"data row4 col232\" >2015-10-13 09:44:28</td>\n",
       "                        <td id=\"T_a8891e05_883b_11eb_89b2_704d7b3c13bcrow4_col233\" class=\"data row4 col233\" >2015-10-14 10:05:50</td>\n",
       "                        <td id=\"T_a8891e05_883b_11eb_89b2_704d7b3c13bcrow4_col234\" class=\"data row4 col234\" >2015-10-15 09:48:36</td>\n",
       "                        <td id=\"T_a8891e05_883b_11eb_89b2_704d7b3c13bcrow4_col235\" class=\"data row4 col235\" >2015-10-16 09:59:24</td>\n",
       "                        <td id=\"T_a8891e05_883b_11eb_89b2_704d7b3c13bcrow4_col236\" class=\"data row4 col236\" >2015-10-19 10:21:33</td>\n",
       "                        <td id=\"T_a8891e05_883b_11eb_89b2_704d7b3c13bcrow4_col237\" class=\"data row4 col237\" >2015-10-20 09:54:18</td>\n",
       "                        <td id=\"T_a8891e05_883b_11eb_89b2_704d7b3c13bcrow4_col238\" class=\"data row4 col238\" >2015-10-21 09:40:43</td>\n",
       "                        <td id=\"T_a8891e05_883b_11eb_89b2_704d7b3c13bcrow4_col239\" class=\"data row4 col239\" >2015-10-22 09:54:53</td>\n",
       "                        <td id=\"T_a8891e05_883b_11eb_89b2_704d7b3c13bcrow4_col240\" class=\"data row4 col240\" >2015-10-23 10:20:46</td>\n",
       "                        <td id=\"T_a8891e05_883b_11eb_89b2_704d7b3c13bcrow4_col241\" class=\"data row4 col241\" >2015-10-26 09:26:54</td>\n",
       "                        <td id=\"T_a8891e05_883b_11eb_89b2_704d7b3c13bcrow4_col242\" class=\"data row4 col242\" >2015-10-27 09:52:14</td>\n",
       "                        <td id=\"T_a8891e05_883b_11eb_89b2_704d7b3c13bcrow4_col243\" class=\"data row4 col243\" >2015-10-28 10:05:45</td>\n",
       "                        <td id=\"T_a8891e05_883b_11eb_89b2_704d7b3c13bcrow4_col244\" class=\"data row4 col244\" >2015-10-29 10:47:48</td>\n",
       "                        <td id=\"T_a8891e05_883b_11eb_89b2_704d7b3c13bcrow4_col245\" class=\"data row4 col245\" >2015-10-30 09:54:08</td>\n",
       "                        <td id=\"T_a8891e05_883b_11eb_89b2_704d7b3c13bcrow4_col246\" class=\"data row4 col246\" >2015-11-02 10:21:24</td>\n",
       "                        <td id=\"T_a8891e05_883b_11eb_89b2_704d7b3c13bcrow4_col247\" class=\"data row4 col247\" >2015-11-03 10:14:29</td>\n",
       "                        <td id=\"T_a8891e05_883b_11eb_89b2_704d7b3c13bcrow4_col248\" class=\"data row4 col248\" >2015-11-04 10:05:50</td>\n",
       "                        <td id=\"T_a8891e05_883b_11eb_89b2_704d7b3c13bcrow4_col249\" class=\"data row4 col249\" >2015-11-05 10:14:59</td>\n",
       "                        <td id=\"T_a8891e05_883b_11eb_89b2_704d7b3c13bcrow4_col250\" class=\"data row4 col250\" >2015-11-06 09:56:52</td>\n",
       "                        <td id=\"T_a8891e05_883b_11eb_89b2_704d7b3c13bcrow4_col251\" class=\"data row4 col251\" >nan</td>\n",
       "                        <td id=\"T_a8891e05_883b_11eb_89b2_704d7b3c13bcrow4_col252\" class=\"data row4 col252\" >nan</td>\n",
       "                        <td id=\"T_a8891e05_883b_11eb_89b2_704d7b3c13bcrow4_col253\" class=\"data row4 col253\" >nan</td>\n",
       "                        <td id=\"T_a8891e05_883b_11eb_89b2_704d7b3c13bcrow4_col254\" class=\"data row4 col254\" >2015-11-12 09:40:29</td>\n",
       "                        <td id=\"T_a8891e05_883b_11eb_89b2_704d7b3c13bcrow4_col255\" class=\"data row4 col255\" >2015-11-13 09:55:12</td>\n",
       "                        <td id=\"T_a8891e05_883b_11eb_89b2_704d7b3c13bcrow4_col256\" class=\"data row4 col256\" >2015-11-16 10:15:51</td>\n",
       "                        <td id=\"T_a8891e05_883b_11eb_89b2_704d7b3c13bcrow4_col257\" class=\"data row4 col257\" >2015-11-17 09:31:09</td>\n",
       "                        <td id=\"T_a8891e05_883b_11eb_89b2_704d7b3c13bcrow4_col258\" class=\"data row4 col258\" >2015-11-18 10:05:50</td>\n",
       "                        <td id=\"T_a8891e05_883b_11eb_89b2_704d7b3c13bcrow4_col259\" class=\"data row4 col259\" >2015-11-19 10:07:44</td>\n",
       "                        <td id=\"T_a8891e05_883b_11eb_89b2_704d7b3c13bcrow4_col260\" class=\"data row4 col260\" >2015-11-20 09:58:14</td>\n",
       "                        <td id=\"T_a8891e05_883b_11eb_89b2_704d7b3c13bcrow4_col261\" class=\"data row4 col261\" >2015-11-23 10:12:11</td>\n",
       "                        <td id=\"T_a8891e05_883b_11eb_89b2_704d7b3c13bcrow4_col262\" class=\"data row4 col262\" >2015-11-24 09:56:16</td>\n",
       "                        <td id=\"T_a8891e05_883b_11eb_89b2_704d7b3c13bcrow4_col263\" class=\"data row4 col263\" >2015-11-25 10:02:15</td>\n",
       "                        <td id=\"T_a8891e05_883b_11eb_89b2_704d7b3c13bcrow4_col264\" class=\"data row4 col264\" >2015-11-26 09:54:51</td>\n",
       "                        <td id=\"T_a8891e05_883b_11eb_89b2_704d7b3c13bcrow4_col265\" class=\"data row4 col265\" >2015-11-27 09:50:48</td>\n",
       "                        <td id=\"T_a8891e05_883b_11eb_89b2_704d7b3c13bcrow4_col266\" class=\"data row4 col266\" >2015-11-30 10:00:02</td>\n",
       "                        <td id=\"T_a8891e05_883b_11eb_89b2_704d7b3c13bcrow4_col267\" class=\"data row4 col267\" >2015-12-01 10:13:08</td>\n",
       "                        <td id=\"T_a8891e05_883b_11eb_89b2_704d7b3c13bcrow4_col268\" class=\"data row4 col268\" >2015-12-02 09:38:52</td>\n",
       "                        <td id=\"T_a8891e05_883b_11eb_89b2_704d7b3c13bcrow4_col269\" class=\"data row4 col269\" >2015-12-03 09:48:57</td>\n",
       "                        <td id=\"T_a8891e05_883b_11eb_89b2_704d7b3c13bcrow4_col270\" class=\"data row4 col270\" >2015-12-04 09:55:11</td>\n",
       "                        <td id=\"T_a8891e05_883b_11eb_89b2_704d7b3c13bcrow4_col271\" class=\"data row4 col271\" >2015-12-07 10:01:34</td>\n",
       "                        <td id=\"T_a8891e05_883b_11eb_89b2_704d7b3c13bcrow4_col272\" class=\"data row4 col272\" >2015-12-08 09:18:02</td>\n",
       "                        <td id=\"T_a8891e05_883b_11eb_89b2_704d7b3c13bcrow4_col273\" class=\"data row4 col273\" >2015-12-09 10:02:29</td>\n",
       "                        <td id=\"T_a8891e05_883b_11eb_89b2_704d7b3c13bcrow4_col274\" class=\"data row4 col274\" >2015-12-10 10:18:53</td>\n",
       "                        <td id=\"T_a8891e05_883b_11eb_89b2_704d7b3c13bcrow4_col275\" class=\"data row4 col275\" >2015-12-11 10:26:26</td>\n",
       "                        <td id=\"T_a8891e05_883b_11eb_89b2_704d7b3c13bcrow4_col276\" class=\"data row4 col276\" >2015-12-14 10:20:18</td>\n",
       "                        <td id=\"T_a8891e05_883b_11eb_89b2_704d7b3c13bcrow4_col277\" class=\"data row4 col277\" >2015-12-15 09:55:55</td>\n",
       "                        <td id=\"T_a8891e05_883b_11eb_89b2_704d7b3c13bcrow4_col278\" class=\"data row4 col278\" >2015-12-16 10:09:25</td>\n",
       "                        <td id=\"T_a8891e05_883b_11eb_89b2_704d7b3c13bcrow4_col279\" class=\"data row4 col279\" >2015-12-17 09:46:35</td>\n",
       "                        <td id=\"T_a8891e05_883b_11eb_89b2_704d7b3c13bcrow4_col280\" class=\"data row4 col280\" >2015-12-18 09:58:35</td>\n",
       "                        <td id=\"T_a8891e05_883b_11eb_89b2_704d7b3c13bcrow4_col281\" class=\"data row4 col281\" >2015-12-21 10:03:41</td>\n",
       "                        <td id=\"T_a8891e05_883b_11eb_89b2_704d7b3c13bcrow4_col282\" class=\"data row4 col282\" >2015-12-22 10:10:30</td>\n",
       "                        <td id=\"T_a8891e05_883b_11eb_89b2_704d7b3c13bcrow4_col283\" class=\"data row4 col283\" >2015-12-23 10:13:36</td>\n",
       "                        <td id=\"T_a8891e05_883b_11eb_89b2_704d7b3c13bcrow4_col284\" class=\"data row4 col284\" >2015-12-24 09:44:24</td>\n",
       "                        <td id=\"T_a8891e05_883b_11eb_89b2_704d7b3c13bcrow4_col285\" class=\"data row4 col285\" >nan</td>\n",
       "                        <td id=\"T_a8891e05_883b_11eb_89b2_704d7b3c13bcrow4_col286\" class=\"data row4 col286\" >2015-12-28 10:05:15</td>\n",
       "                        <td id=\"T_a8891e05_883b_11eb_89b2_704d7b3c13bcrow4_col287\" class=\"data row4 col287\" >2015-12-29 10:30:53</td>\n",
       "                        <td id=\"T_a8891e05_883b_11eb_89b2_704d7b3c13bcrow4_col288\" class=\"data row4 col288\" >2015-12-30 09:18:21</td>\n",
       "                        <td id=\"T_a8891e05_883b_11eb_89b2_704d7b3c13bcrow4_col289\" class=\"data row4 col289\" >2015-12-31 09:41:09</td>\n",
       "                        <td id=\"T_a8891e05_883b_11eb_89b2_704d7b3c13bcrow4_col290\" class=\"data row4 col290\" >nan</td>\n",
       "                        <td id=\"T_a8891e05_883b_11eb_89b2_704d7b3c13bcrow4_col291\" class=\"data row4 col291\" >2015-01-02 18:31:37</td>\n",
       "                        <td id=\"T_a8891e05_883b_11eb_89b2_704d7b3c13bcrow4_col292\" class=\"data row4 col292\" >2015-01-05 17:49:15</td>\n",
       "                        <td id=\"T_a8891e05_883b_11eb_89b2_704d7b3c13bcrow4_col293\" class=\"data row4 col293\" >2015-01-06 17:26:25</td>\n",
       "                        <td id=\"T_a8891e05_883b_11eb_89b2_704d7b3c13bcrow4_col294\" class=\"data row4 col294\" >2015-01-07 17:37:59</td>\n",
       "                        <td id=\"T_a8891e05_883b_11eb_89b2_704d7b3c13bcrow4_col295\" class=\"data row4 col295\" >2015-01-08 17:59:28</td>\n",
       "                        <td id=\"T_a8891e05_883b_11eb_89b2_704d7b3c13bcrow4_col296\" class=\"data row4 col296\" >2015-01-09 17:44:08</td>\n",
       "                        <td id=\"T_a8891e05_883b_11eb_89b2_704d7b3c13bcrow4_col297\" class=\"data row4 col297\" >2015-01-12 18:51:21</td>\n",
       "                        <td id=\"T_a8891e05_883b_11eb_89b2_704d7b3c13bcrow4_col298\" class=\"data row4 col298\" >2015-01-13 18:14:58</td>\n",
       "                        <td id=\"T_a8891e05_883b_11eb_89b2_704d7b3c13bcrow4_col299\" class=\"data row4 col299\" >nan</td>\n",
       "                        <td id=\"T_a8891e05_883b_11eb_89b2_704d7b3c13bcrow4_col300\" class=\"data row4 col300\" >2015-01-15 18:21:48</td>\n",
       "                        <td id=\"T_a8891e05_883b_11eb_89b2_704d7b3c13bcrow4_col301\" class=\"data row4 col301\" >2015-01-16 18:28:03</td>\n",
       "                        <td id=\"T_a8891e05_883b_11eb_89b2_704d7b3c13bcrow4_col302\" class=\"data row4 col302\" >nan</td>\n",
       "                        <td id=\"T_a8891e05_883b_11eb_89b2_704d7b3c13bcrow4_col303\" class=\"data row4 col303\" >2015-01-20 17:59:24</td>\n",
       "                        <td id=\"T_a8891e05_883b_11eb_89b2_704d7b3c13bcrow4_col304\" class=\"data row4 col304\" >2015-01-21 18:41:38</td>\n",
       "                        <td id=\"T_a8891e05_883b_11eb_89b2_704d7b3c13bcrow4_col305\" class=\"data row4 col305\" >2015-01-22 18:27:37</td>\n",
       "                        <td id=\"T_a8891e05_883b_11eb_89b2_704d7b3c13bcrow4_col306\" class=\"data row4 col306\" >2015-01-23 16:53:11</td>\n",
       "                        <td id=\"T_a8891e05_883b_11eb_89b2_704d7b3c13bcrow4_col307\" class=\"data row4 col307\" >nan</td>\n",
       "                        <td id=\"T_a8891e05_883b_11eb_89b2_704d7b3c13bcrow4_col308\" class=\"data row4 col308\" >2015-01-27 17:52:43</td>\n",
       "                        <td id=\"T_a8891e05_883b_11eb_89b2_704d7b3c13bcrow4_col309\" class=\"data row4 col309\" >2015-01-28 17:40:46</td>\n",
       "                        <td id=\"T_a8891e05_883b_11eb_89b2_704d7b3c13bcrow4_col310\" class=\"data row4 col310\" >2015-01-29 18:16:26</td>\n",
       "                        <td id=\"T_a8891e05_883b_11eb_89b2_704d7b3c13bcrow4_col311\" class=\"data row4 col311\" >2015-01-30 18:26:33</td>\n",
       "                        <td id=\"T_a8891e05_883b_11eb_89b2_704d7b3c13bcrow4_col312\" class=\"data row4 col312\" >2015-02-02 17:53:21</td>\n",
       "                        <td id=\"T_a8891e05_883b_11eb_89b2_704d7b3c13bcrow4_col313\" class=\"data row4 col313\" >2015-02-03 17:57:43</td>\n",
       "                        <td id=\"T_a8891e05_883b_11eb_89b2_704d7b3c13bcrow4_col314\" class=\"data row4 col314\" >2015-02-04 18:03:13</td>\n",
       "                        <td id=\"T_a8891e05_883b_11eb_89b2_704d7b3c13bcrow4_col315\" class=\"data row4 col315\" >2015-02-05 18:07:43</td>\n",
       "                        <td id=\"T_a8891e05_883b_11eb_89b2_704d7b3c13bcrow4_col316\" class=\"data row4 col316\" >2015-02-06 17:38:14</td>\n",
       "                        <td id=\"T_a8891e05_883b_11eb_89b2_704d7b3c13bcrow4_col317\" class=\"data row4 col317\" >2015-02-09 18:26:28</td>\n",
       "                        <td id=\"T_a8891e05_883b_11eb_89b2_704d7b3c13bcrow4_col318\" class=\"data row4 col318\" >2015-02-10 17:24:32</td>\n",
       "                        <td id=\"T_a8891e05_883b_11eb_89b2_704d7b3c13bcrow4_col319\" class=\"data row4 col319\" >2015-02-11 18:01:25</td>\n",
       "                        <td id=\"T_a8891e05_883b_11eb_89b2_704d7b3c13bcrow4_col320\" class=\"data row4 col320\" >2015-02-12 17:42:32</td>\n",
       "                        <td id=\"T_a8891e05_883b_11eb_89b2_704d7b3c13bcrow4_col321\" class=\"data row4 col321\" >2015-02-13 18:28:09</td>\n",
       "                        <td id=\"T_a8891e05_883b_11eb_89b2_704d7b3c13bcrow4_col322\" class=\"data row4 col322\" >2015-02-16 17:51:18</td>\n",
       "                        <td id=\"T_a8891e05_883b_11eb_89b2_704d7b3c13bcrow4_col323\" class=\"data row4 col323\" >2015-02-17 18:03:31</td>\n",
       "                        <td id=\"T_a8891e05_883b_11eb_89b2_704d7b3c13bcrow4_col324\" class=\"data row4 col324\" >2015-02-18 17:43:37</td>\n",
       "                        <td id=\"T_a8891e05_883b_11eb_89b2_704d7b3c13bcrow4_col325\" class=\"data row4 col325\" >2015-02-19 17:29:07</td>\n",
       "                        <td id=\"T_a8891e05_883b_11eb_89b2_704d7b3c13bcrow4_col326\" class=\"data row4 col326\" >2015-02-20 18:16:03</td>\n",
       "                        <td id=\"T_a8891e05_883b_11eb_89b2_704d7b3c13bcrow4_col327\" class=\"data row4 col327\" >2015-02-23 18:13:52</td>\n",
       "                        <td id=\"T_a8891e05_883b_11eb_89b2_704d7b3c13bcrow4_col328\" class=\"data row4 col328\" >2015-02-24 17:58:08</td>\n",
       "                        <td id=\"T_a8891e05_883b_11eb_89b2_704d7b3c13bcrow4_col329\" class=\"data row4 col329\" >2015-02-25 17:57:18</td>\n",
       "                        <td id=\"T_a8891e05_883b_11eb_89b2_704d7b3c13bcrow4_col330\" class=\"data row4 col330\" >2015-02-26 17:40:40</td>\n",
       "                        <td id=\"T_a8891e05_883b_11eb_89b2_704d7b3c13bcrow4_col331\" class=\"data row4 col331\" >2015-02-27 18:05:49</td>\n",
       "                        <td id=\"T_a8891e05_883b_11eb_89b2_704d7b3c13bcrow4_col332\" class=\"data row4 col332\" >2015-03-02 18:41:28</td>\n",
       "                        <td id=\"T_a8891e05_883b_11eb_89b2_704d7b3c13bcrow4_col333\" class=\"data row4 col333\" >2015-03-03 17:39:12</td>\n",
       "                        <td id=\"T_a8891e05_883b_11eb_89b2_704d7b3c13bcrow4_col334\" class=\"data row4 col334\" >2015-03-04 18:04:54</td>\n",
       "                        <td id=\"T_a8891e05_883b_11eb_89b2_704d7b3c13bcrow4_col335\" class=\"data row4 col335\" >nan</td>\n",
       "                        <td id=\"T_a8891e05_883b_11eb_89b2_704d7b3c13bcrow4_col336\" class=\"data row4 col336\" >2015-03-06 18:04:19</td>\n",
       "                        <td id=\"T_a8891e05_883b_11eb_89b2_704d7b3c13bcrow4_col337\" class=\"data row4 col337\" >2015-03-09 18:18:21</td>\n",
       "                        <td id=\"T_a8891e05_883b_11eb_89b2_704d7b3c13bcrow4_col338\" class=\"data row4 col338\" >2015-03-10 18:06:41</td>\n",
       "                        <td id=\"T_a8891e05_883b_11eb_89b2_704d7b3c13bcrow4_col339\" class=\"data row4 col339\" >2015-03-11 17:56:40</td>\n",
       "                        <td id=\"T_a8891e05_883b_11eb_89b2_704d7b3c13bcrow4_col340\" class=\"data row4 col340\" >2015-03-12 17:39:04</td>\n",
       "                        <td id=\"T_a8891e05_883b_11eb_89b2_704d7b3c13bcrow4_col341\" class=\"data row4 col341\" >2015-03-13 18:15:55</td>\n",
       "                        <td id=\"T_a8891e05_883b_11eb_89b2_704d7b3c13bcrow4_col342\" class=\"data row4 col342\" >2015-03-16 17:46:49</td>\n",
       "                        <td id=\"T_a8891e05_883b_11eb_89b2_704d7b3c13bcrow4_col343\" class=\"data row4 col343\" >2015-03-17 18:13:29</td>\n",
       "                        <td id=\"T_a8891e05_883b_11eb_89b2_704d7b3c13bcrow4_col344\" class=\"data row4 col344\" >2015-03-18 17:55:43</td>\n",
       "                        <td id=\"T_a8891e05_883b_11eb_89b2_704d7b3c13bcrow4_col345\" class=\"data row4 col345\" >2015-03-19 17:51:13</td>\n",
       "                        <td id=\"T_a8891e05_883b_11eb_89b2_704d7b3c13bcrow4_col346\" class=\"data row4 col346\" >2015-03-20 17:32:26</td>\n",
       "                        <td id=\"T_a8891e05_883b_11eb_89b2_704d7b3c13bcrow4_col347\" class=\"data row4 col347\" >2015-03-23 17:53:16</td>\n",
       "                        <td id=\"T_a8891e05_883b_11eb_89b2_704d7b3c13bcrow4_col348\" class=\"data row4 col348\" >2015-03-24 17:18:09</td>\n",
       "                        <td id=\"T_a8891e05_883b_11eb_89b2_704d7b3c13bcrow4_col349\" class=\"data row4 col349\" >2015-03-25 18:07:26</td>\n",
       "                        <td id=\"T_a8891e05_883b_11eb_89b2_704d7b3c13bcrow4_col350\" class=\"data row4 col350\" >2015-03-26 17:53:06</td>\n",
       "                        <td id=\"T_a8891e05_883b_11eb_89b2_704d7b3c13bcrow4_col351\" class=\"data row4 col351\" >2015-03-27 17:41:37</td>\n",
       "                        <td id=\"T_a8891e05_883b_11eb_89b2_704d7b3c13bcrow4_col352\" class=\"data row4 col352\" >2015-03-30 17:41:26</td>\n",
       "                        <td id=\"T_a8891e05_883b_11eb_89b2_704d7b3c13bcrow4_col353\" class=\"data row4 col353\" >2015-03-31 18:16:42</td>\n",
       "                        <td id=\"T_a8891e05_883b_11eb_89b2_704d7b3c13bcrow4_col354\" class=\"data row4 col354\" >2015-04-01 17:48:19</td>\n",
       "                        <td id=\"T_a8891e05_883b_11eb_89b2_704d7b3c13bcrow4_col355\" class=\"data row4 col355\" >2015-04-02 18:00:21</td>\n",
       "                        <td id=\"T_a8891e05_883b_11eb_89b2_704d7b3c13bcrow4_col356\" class=\"data row4 col356\" >2015-04-03 17:41:24</td>\n",
       "                        <td id=\"T_a8891e05_883b_11eb_89b2_704d7b3c13bcrow4_col357\" class=\"data row4 col357\" >2015-04-06 18:26:22</td>\n",
       "                        <td id=\"T_a8891e05_883b_11eb_89b2_704d7b3c13bcrow4_col358\" class=\"data row4 col358\" >2015-04-07 17:51:27</td>\n",
       "                        <td id=\"T_a8891e05_883b_11eb_89b2_704d7b3c13bcrow4_col359\" class=\"data row4 col359\" >2015-04-08 17:43:22</td>\n",
       "                        <td id=\"T_a8891e05_883b_11eb_89b2_704d7b3c13bcrow4_col360\" class=\"data row4 col360\" >2015-04-09 18:06:31</td>\n",
       "                        <td id=\"T_a8891e05_883b_11eb_89b2_704d7b3c13bcrow4_col361\" class=\"data row4 col361\" >2015-04-10 18:06:04</td>\n",
       "                        <td id=\"T_a8891e05_883b_11eb_89b2_704d7b3c13bcrow4_col362\" class=\"data row4 col362\" >2015-04-13 17:51:39</td>\n",
       "                        <td id=\"T_a8891e05_883b_11eb_89b2_704d7b3c13bcrow4_col363\" class=\"data row4 col363\" >2015-04-14 18:29:43</td>\n",
       "                        <td id=\"T_a8891e05_883b_11eb_89b2_704d7b3c13bcrow4_col364\" class=\"data row4 col364\" >2015-04-15 18:02:54</td>\n",
       "                        <td id=\"T_a8891e05_883b_11eb_89b2_704d7b3c13bcrow4_col365\" class=\"data row4 col365\" >2015-04-16 17:59:12</td>\n",
       "                        <td id=\"T_a8891e05_883b_11eb_89b2_704d7b3c13bcrow4_col366\" class=\"data row4 col366\" >2015-04-17 17:55:12</td>\n",
       "                        <td id=\"T_a8891e05_883b_11eb_89b2_704d7b3c13bcrow4_col367\" class=\"data row4 col367\" >2015-04-20 18:14:32</td>\n",
       "                        <td id=\"T_a8891e05_883b_11eb_89b2_704d7b3c13bcrow4_col368\" class=\"data row4 col368\" >nan</td>\n",
       "                        <td id=\"T_a8891e05_883b_11eb_89b2_704d7b3c13bcrow4_col369\" class=\"data row4 col369\" >2015-04-22 17:38:59</td>\n",
       "                        <td id=\"T_a8891e05_883b_11eb_89b2_704d7b3c13bcrow4_col370\" class=\"data row4 col370\" >2015-04-23 17:50:36</td>\n",
       "                        <td id=\"T_a8891e05_883b_11eb_89b2_704d7b3c13bcrow4_col371\" class=\"data row4 col371\" >2015-04-24 18:08:50</td>\n",
       "                        <td id=\"T_a8891e05_883b_11eb_89b2_704d7b3c13bcrow4_col372\" class=\"data row4 col372\" >2015-04-27 18:58:57</td>\n",
       "                        <td id=\"T_a8891e05_883b_11eb_89b2_704d7b3c13bcrow4_col373\" class=\"data row4 col373\" >2015-04-28 17:10:52</td>\n",
       "                        <td id=\"T_a8891e05_883b_11eb_89b2_704d7b3c13bcrow4_col374\" class=\"data row4 col374\" >2015-04-29 18:00:03</td>\n",
       "                        <td id=\"T_a8891e05_883b_11eb_89b2_704d7b3c13bcrow4_col375\" class=\"data row4 col375\" >2015-04-30 18:07:51</td>\n",
       "                        <td id=\"T_a8891e05_883b_11eb_89b2_704d7b3c13bcrow4_col376\" class=\"data row4 col376\" >nan</td>\n",
       "                        <td id=\"T_a8891e05_883b_11eb_89b2_704d7b3c13bcrow4_col377\" class=\"data row4 col377\" >2015-05-04 17:36:37</td>\n",
       "                        <td id=\"T_a8891e05_883b_11eb_89b2_704d7b3c13bcrow4_col378\" class=\"data row4 col378\" >2015-05-05 18:29:57</td>\n",
       "                        <td id=\"T_a8891e05_883b_11eb_89b2_704d7b3c13bcrow4_col379\" class=\"data row4 col379\" >2015-05-06 19:01:52</td>\n",
       "                        <td id=\"T_a8891e05_883b_11eb_89b2_704d7b3c13bcrow4_col380\" class=\"data row4 col380\" >2015-05-07 17:27:09</td>\n",
       "                        <td id=\"T_a8891e05_883b_11eb_89b2_704d7b3c13bcrow4_col381\" class=\"data row4 col381\" >2015-05-08 18:00:47</td>\n",
       "                        <td id=\"T_a8891e05_883b_11eb_89b2_704d7b3c13bcrow4_col382\" class=\"data row4 col382\" >2015-05-11 17:30:39</td>\n",
       "                        <td id=\"T_a8891e05_883b_11eb_89b2_704d7b3c13bcrow4_col383\" class=\"data row4 col383\" >2015-05-12 18:24:49</td>\n",
       "                        <td id=\"T_a8891e05_883b_11eb_89b2_704d7b3c13bcrow4_col384\" class=\"data row4 col384\" >2015-05-13 17:38:22</td>\n",
       "                        <td id=\"T_a8891e05_883b_11eb_89b2_704d7b3c13bcrow4_col385\" class=\"data row4 col385\" >2015-05-14 18:05:41</td>\n",
       "                        <td id=\"T_a8891e05_883b_11eb_89b2_704d7b3c13bcrow4_col386\" class=\"data row4 col386\" >2015-05-15 17:15:55</td>\n",
       "                        <td id=\"T_a8891e05_883b_11eb_89b2_704d7b3c13bcrow4_col387\" class=\"data row4 col387\" >2015-05-18 17:39:56</td>\n",
       "                        <td id=\"T_a8891e05_883b_11eb_89b2_704d7b3c13bcrow4_col388\" class=\"data row4 col388\" >2015-05-19 18:00:22</td>\n",
       "                        <td id=\"T_a8891e05_883b_11eb_89b2_704d7b3c13bcrow4_col389\" class=\"data row4 col389\" >2015-05-20 18:17:20</td>\n",
       "                        <td id=\"T_a8891e05_883b_11eb_89b2_704d7b3c13bcrow4_col390\" class=\"data row4 col390\" >2015-05-21 17:37:11</td>\n",
       "                        <td id=\"T_a8891e05_883b_11eb_89b2_704d7b3c13bcrow4_col391\" class=\"data row4 col391\" >2015-05-22 18:23:13</td>\n",
       "                        <td id=\"T_a8891e05_883b_11eb_89b2_704d7b3c13bcrow4_col392\" class=\"data row4 col392\" >2015-05-25 19:05:36</td>\n",
       "                        <td id=\"T_a8891e05_883b_11eb_89b2_704d7b3c13bcrow4_col393\" class=\"data row4 col393\" >2015-05-26 18:14:29</td>\n",
       "                        <td id=\"T_a8891e05_883b_11eb_89b2_704d7b3c13bcrow4_col394\" class=\"data row4 col394\" >2015-05-27 18:03:27</td>\n",
       "                        <td id=\"T_a8891e05_883b_11eb_89b2_704d7b3c13bcrow4_col395\" class=\"data row4 col395\" >2015-05-28 17:36:50</td>\n",
       "                        <td id=\"T_a8891e05_883b_11eb_89b2_704d7b3c13bcrow4_col396\" class=\"data row4 col396\" >2015-05-29 18:00:28</td>\n",
       "                        <td id=\"T_a8891e05_883b_11eb_89b2_704d7b3c13bcrow4_col397\" class=\"data row4 col397\" >2015-06-01 18:26:09</td>\n",
       "                        <td id=\"T_a8891e05_883b_11eb_89b2_704d7b3c13bcrow4_col398\" class=\"data row4 col398\" >2015-06-02 17:55:32</td>\n",
       "                        <td id=\"T_a8891e05_883b_11eb_89b2_704d7b3c13bcrow4_col399\" class=\"data row4 col399\" >2015-06-03 18:16:53</td>\n",
       "                        <td id=\"T_a8891e05_883b_11eb_89b2_704d7b3c13bcrow4_col400\" class=\"data row4 col400\" >2015-06-04 17:24:37</td>\n",
       "                        <td id=\"T_a8891e05_883b_11eb_89b2_704d7b3c13bcrow4_col401\" class=\"data row4 col401\" >2015-06-05 18:01:10</td>\n",
       "                        <td id=\"T_a8891e05_883b_11eb_89b2_704d7b3c13bcrow4_col402\" class=\"data row4 col402\" >2015-06-08 18:04:36</td>\n",
       "                        <td id=\"T_a8891e05_883b_11eb_89b2_704d7b3c13bcrow4_col403\" class=\"data row4 col403\" >2015-06-09 18:25:23</td>\n",
       "                        <td id=\"T_a8891e05_883b_11eb_89b2_704d7b3c13bcrow4_col404\" class=\"data row4 col404\" >2015-06-10 18:07:35</td>\n",
       "                        <td id=\"T_a8891e05_883b_11eb_89b2_704d7b3c13bcrow4_col405\" class=\"data row4 col405\" >nan</td>\n",
       "                        <td id=\"T_a8891e05_883b_11eb_89b2_704d7b3c13bcrow4_col406\" class=\"data row4 col406\" >2015-06-12 18:43:31</td>\n",
       "                        <td id=\"T_a8891e05_883b_11eb_89b2_704d7b3c13bcrow4_col407\" class=\"data row4 col407\" >2015-06-15 17:52:52</td>\n",
       "                        <td id=\"T_a8891e05_883b_11eb_89b2_704d7b3c13bcrow4_col408\" class=\"data row4 col408\" >2015-06-16 18:31:37</td>\n",
       "                        <td id=\"T_a8891e05_883b_11eb_89b2_704d7b3c13bcrow4_col409\" class=\"data row4 col409\" >2015-06-17 18:08:18</td>\n",
       "                        <td id=\"T_a8891e05_883b_11eb_89b2_704d7b3c13bcrow4_col410\" class=\"data row4 col410\" >2015-06-18 18:42:59</td>\n",
       "                        <td id=\"T_a8891e05_883b_11eb_89b2_704d7b3c13bcrow4_col411\" class=\"data row4 col411\" >2015-06-19 17:23:54</td>\n",
       "                        <td id=\"T_a8891e05_883b_11eb_89b2_704d7b3c13bcrow4_col412\" class=\"data row4 col412\" >2015-06-22 18:46:28</td>\n",
       "                        <td id=\"T_a8891e05_883b_11eb_89b2_704d7b3c13bcrow4_col413\" class=\"data row4 col413\" >2015-06-23 17:40:27</td>\n",
       "                        <td id=\"T_a8891e05_883b_11eb_89b2_704d7b3c13bcrow4_col414\" class=\"data row4 col414\" >2015-06-24 17:45:55</td>\n",
       "                        <td id=\"T_a8891e05_883b_11eb_89b2_704d7b3c13bcrow4_col415\" class=\"data row4 col415\" >2015-06-25 17:53:28</td>\n",
       "                        <td id=\"T_a8891e05_883b_11eb_89b2_704d7b3c13bcrow4_col416\" class=\"data row4 col416\" >2015-06-26 17:44:16</td>\n",
       "                        <td id=\"T_a8891e05_883b_11eb_89b2_704d7b3c13bcrow4_col417\" class=\"data row4 col417\" >2015-06-29 18:05:00</td>\n",
       "                        <td id=\"T_a8891e05_883b_11eb_89b2_704d7b3c13bcrow4_col418\" class=\"data row4 col418\" >2015-06-30 18:10:45</td>\n",
       "                        <td id=\"T_a8891e05_883b_11eb_89b2_704d7b3c13bcrow4_col419\" class=\"data row4 col419\" >2015-07-01 17:31:06</td>\n",
       "                        <td id=\"T_a8891e05_883b_11eb_89b2_704d7b3c13bcrow4_col420\" class=\"data row4 col420\" >2015-07-02 17:23:40</td>\n",
       "                        <td id=\"T_a8891e05_883b_11eb_89b2_704d7b3c13bcrow4_col421\" class=\"data row4 col421\" >2015-07-03 17:43:59</td>\n",
       "                        <td id=\"T_a8891e05_883b_11eb_89b2_704d7b3c13bcrow4_col422\" class=\"data row4 col422\" >2015-07-06 17:11:03</td>\n",
       "                        <td id=\"T_a8891e05_883b_11eb_89b2_704d7b3c13bcrow4_col423\" class=\"data row4 col423\" >2015-07-07 18:19:10</td>\n",
       "                        <td id=\"T_a8891e05_883b_11eb_89b2_704d7b3c13bcrow4_col424\" class=\"data row4 col424\" >2015-07-08 17:36:00</td>\n",
       "                        <td id=\"T_a8891e05_883b_11eb_89b2_704d7b3c13bcrow4_col425\" class=\"data row4 col425\" >2015-07-09 18:43:20</td>\n",
       "                        <td id=\"T_a8891e05_883b_11eb_89b2_704d7b3c13bcrow4_col426\" class=\"data row4 col426\" >2015-07-10 18:21:59</td>\n",
       "                        <td id=\"T_a8891e05_883b_11eb_89b2_704d7b3c13bcrow4_col427\" class=\"data row4 col427\" >2015-07-13 17:56:12</td>\n",
       "                        <td id=\"T_a8891e05_883b_11eb_89b2_704d7b3c13bcrow4_col428\" class=\"data row4 col428\" >2015-07-14 17:26:34</td>\n",
       "                        <td id=\"T_a8891e05_883b_11eb_89b2_704d7b3c13bcrow4_col429\" class=\"data row4 col429\" >2015-07-15 17:53:49</td>\n",
       "                        <td id=\"T_a8891e05_883b_11eb_89b2_704d7b3c13bcrow4_col430\" class=\"data row4 col430\" >2015-07-16 17:22:12</td>\n",
       "                        <td id=\"T_a8891e05_883b_11eb_89b2_704d7b3c13bcrow4_col431\" class=\"data row4 col431\" >nan</td>\n",
       "                        <td id=\"T_a8891e05_883b_11eb_89b2_704d7b3c13bcrow4_col432\" class=\"data row4 col432\" >2015-07-20 18:06:55</td>\n",
       "                        <td id=\"T_a8891e05_883b_11eb_89b2_704d7b3c13bcrow4_col433\" class=\"data row4 col433\" >2015-07-21 18:01:34</td>\n",
       "                        <td id=\"T_a8891e05_883b_11eb_89b2_704d7b3c13bcrow4_col434\" class=\"data row4 col434\" >2015-07-22 17:40:42</td>\n",
       "                        <td id=\"T_a8891e05_883b_11eb_89b2_704d7b3c13bcrow4_col435\" class=\"data row4 col435\" >2015-07-23 17:55:48</td>\n",
       "                        <td id=\"T_a8891e05_883b_11eb_89b2_704d7b3c13bcrow4_col436\" class=\"data row4 col436\" >2015-07-24 17:50:56</td>\n",
       "                        <td id=\"T_a8891e05_883b_11eb_89b2_704d7b3c13bcrow4_col437\" class=\"data row4 col437\" >2015-07-27 18:23:29</td>\n",
       "                        <td id=\"T_a8891e05_883b_11eb_89b2_704d7b3c13bcrow4_col438\" class=\"data row4 col438\" >2015-07-28 18:21:29</td>\n",
       "                        <td id=\"T_a8891e05_883b_11eb_89b2_704d7b3c13bcrow4_col439\" class=\"data row4 col439\" >2015-07-29 18:35:09</td>\n",
       "                        <td id=\"T_a8891e05_883b_11eb_89b2_704d7b3c13bcrow4_col440\" class=\"data row4 col440\" >2015-07-30 18:32:28</td>\n",
       "                        <td id=\"T_a8891e05_883b_11eb_89b2_704d7b3c13bcrow4_col441\" class=\"data row4 col441\" >2015-07-31 17:50:13</td>\n",
       "                        <td id=\"T_a8891e05_883b_11eb_89b2_704d7b3c13bcrow4_col442\" class=\"data row4 col442\" >2015-08-03 18:07:57</td>\n",
       "                        <td id=\"T_a8891e05_883b_11eb_89b2_704d7b3c13bcrow4_col443\" class=\"data row4 col443\" >2015-08-04 18:06:41</td>\n",
       "                        <td id=\"T_a8891e05_883b_11eb_89b2_704d7b3c13bcrow4_col444\" class=\"data row4 col444\" >2015-08-05 17:25:16</td>\n",
       "                        <td id=\"T_a8891e05_883b_11eb_89b2_704d7b3c13bcrow4_col445\" class=\"data row4 col445\" >2015-08-06 17:32:20</td>\n",
       "                        <td id=\"T_a8891e05_883b_11eb_89b2_704d7b3c13bcrow4_col446\" class=\"data row4 col446\" >2015-08-07 17:36:27</td>\n",
       "                        <td id=\"T_a8891e05_883b_11eb_89b2_704d7b3c13bcrow4_col447\" class=\"data row4 col447\" >2015-08-10 18:05:13</td>\n",
       "                        <td id=\"T_a8891e05_883b_11eb_89b2_704d7b3c13bcrow4_col448\" class=\"data row4 col448\" >2015-08-11 18:33:12</td>\n",
       "                        <td id=\"T_a8891e05_883b_11eb_89b2_704d7b3c13bcrow4_col449\" class=\"data row4 col449\" >nan</td>\n",
       "                        <td id=\"T_a8891e05_883b_11eb_89b2_704d7b3c13bcrow4_col450\" class=\"data row4 col450\" >2015-08-13 18:29:03</td>\n",
       "                        <td id=\"T_a8891e05_883b_11eb_89b2_704d7b3c13bcrow4_col451\" class=\"data row4 col451\" >2015-08-14 17:53:07</td>\n",
       "                        <td id=\"T_a8891e05_883b_11eb_89b2_704d7b3c13bcrow4_col452\" class=\"data row4 col452\" >2015-08-17 18:31:46</td>\n",
       "                        <td id=\"T_a8891e05_883b_11eb_89b2_704d7b3c13bcrow4_col453\" class=\"data row4 col453\" >2015-08-18 17:28:23</td>\n",
       "                        <td id=\"T_a8891e05_883b_11eb_89b2_704d7b3c13bcrow4_col454\" class=\"data row4 col454\" >2015-08-19 18:01:59</td>\n",
       "                        <td id=\"T_a8891e05_883b_11eb_89b2_704d7b3c13bcrow4_col455\" class=\"data row4 col455\" >2015-08-20 17:34:12</td>\n",
       "                        <td id=\"T_a8891e05_883b_11eb_89b2_704d7b3c13bcrow4_col456\" class=\"data row4 col456\" >2015-08-21 17:55:17</td>\n",
       "                        <td id=\"T_a8891e05_883b_11eb_89b2_704d7b3c13bcrow4_col457\" class=\"data row4 col457\" >2015-08-24 18:14:19</td>\n",
       "                        <td id=\"T_a8891e05_883b_11eb_89b2_704d7b3c13bcrow4_col458\" class=\"data row4 col458\" >2015-08-25 18:50:22</td>\n",
       "                        <td id=\"T_a8891e05_883b_11eb_89b2_704d7b3c13bcrow4_col459\" class=\"data row4 col459\" >2015-08-26 17:48:10</td>\n",
       "                        <td id=\"T_a8891e05_883b_11eb_89b2_704d7b3c13bcrow4_col460\" class=\"data row4 col460\" >2015-08-27 17:47:07</td>\n",
       "                        <td id=\"T_a8891e05_883b_11eb_89b2_704d7b3c13bcrow4_col461\" class=\"data row4 col461\" >2015-08-28 17:37:21</td>\n",
       "                        <td id=\"T_a8891e05_883b_11eb_89b2_704d7b3c13bcrow4_col462\" class=\"data row4 col462\" >2015-08-31 17:38:06</td>\n",
       "                        <td id=\"T_a8891e05_883b_11eb_89b2_704d7b3c13bcrow4_col463\" class=\"data row4 col463\" >2015-09-01 17:28:46</td>\n",
       "                        <td id=\"T_a8891e05_883b_11eb_89b2_704d7b3c13bcrow4_col464\" class=\"data row4 col464\" >2015-09-02 18:37:08</td>\n",
       "                        <td id=\"T_a8891e05_883b_11eb_89b2_704d7b3c13bcrow4_col465\" class=\"data row4 col465\" >2015-09-03 19:22:01</td>\n",
       "                        <td id=\"T_a8891e05_883b_11eb_89b2_704d7b3c13bcrow4_col466\" class=\"data row4 col466\" >2015-09-04 18:11:10</td>\n",
       "                        <td id=\"T_a8891e05_883b_11eb_89b2_704d7b3c13bcrow4_col467\" class=\"data row4 col467\" >2015-09-07 17:35:38</td>\n",
       "                        <td id=\"T_a8891e05_883b_11eb_89b2_704d7b3c13bcrow4_col468\" class=\"data row4 col468\" >2015-09-08 18:10:45</td>\n",
       "                        <td id=\"T_a8891e05_883b_11eb_89b2_704d7b3c13bcrow4_col469\" class=\"data row4 col469\" >2015-09-09 17:50:46</td>\n",
       "                        <td id=\"T_a8891e05_883b_11eb_89b2_704d7b3c13bcrow4_col470\" class=\"data row4 col470\" >2015-09-10 18:06:16</td>\n",
       "                        <td id=\"T_a8891e05_883b_11eb_89b2_704d7b3c13bcrow4_col471\" class=\"data row4 col471\" >2015-09-11 17:27:08</td>\n",
       "                        <td id=\"T_a8891e05_883b_11eb_89b2_704d7b3c13bcrow4_col472\" class=\"data row4 col472\" >2015-09-14 17:57:45</td>\n",
       "                        <td id=\"T_a8891e05_883b_11eb_89b2_704d7b3c13bcrow4_col473\" class=\"data row4 col473\" >2015-09-15 17:31:24</td>\n",
       "                        <td id=\"T_a8891e05_883b_11eb_89b2_704d7b3c13bcrow4_col474\" class=\"data row4 col474\" >2015-09-16 17:42:22</td>\n",
       "                        <td id=\"T_a8891e05_883b_11eb_89b2_704d7b3c13bcrow4_col475\" class=\"data row4 col475\" >nan</td>\n",
       "                        <td id=\"T_a8891e05_883b_11eb_89b2_704d7b3c13bcrow4_col476\" class=\"data row4 col476\" >2015-09-18 17:20:26</td>\n",
       "                        <td id=\"T_a8891e05_883b_11eb_89b2_704d7b3c13bcrow4_col477\" class=\"data row4 col477\" >2015-09-21 17:38:34</td>\n",
       "                        <td id=\"T_a8891e05_883b_11eb_89b2_704d7b3c13bcrow4_col478\" class=\"data row4 col478\" >2015-09-22 18:04:31</td>\n",
       "                        <td id=\"T_a8891e05_883b_11eb_89b2_704d7b3c13bcrow4_col479\" class=\"data row4 col479\" >2015-09-23 18:02:25</td>\n",
       "                        <td id=\"T_a8891e05_883b_11eb_89b2_704d7b3c13bcrow4_col480\" class=\"data row4 col480\" >2015-09-24 18:01:54</td>\n",
       "                        <td id=\"T_a8891e05_883b_11eb_89b2_704d7b3c13bcrow4_col481\" class=\"data row4 col481\" >2015-09-25 18:19:49</td>\n",
       "                        <td id=\"T_a8891e05_883b_11eb_89b2_704d7b3c13bcrow4_col482\" class=\"data row4 col482\" >2015-09-28 18:09:08</td>\n",
       "                        <td id=\"T_a8891e05_883b_11eb_89b2_704d7b3c13bcrow4_col483\" class=\"data row4 col483\" >2015-09-29 18:07:01</td>\n",
       "                        <td id=\"T_a8891e05_883b_11eb_89b2_704d7b3c13bcrow4_col484\" class=\"data row4 col484\" >2015-09-30 17:51:17</td>\n",
       "                        <td id=\"T_a8891e05_883b_11eb_89b2_704d7b3c13bcrow4_col485\" class=\"data row4 col485\" >2015-10-01 17:37:41</td>\n",
       "                        <td id=\"T_a8891e05_883b_11eb_89b2_704d7b3c13bcrow4_col486\" class=\"data row4 col486\" >nan</td>\n",
       "                        <td id=\"T_a8891e05_883b_11eb_89b2_704d7b3c13bcrow4_col487\" class=\"data row4 col487\" >2015-10-05 18:31:59</td>\n",
       "                        <td id=\"T_a8891e05_883b_11eb_89b2_704d7b3c13bcrow4_col488\" class=\"data row4 col488\" >2015-10-06 17:42:05</td>\n",
       "                        <td id=\"T_a8891e05_883b_11eb_89b2_704d7b3c13bcrow4_col489\" class=\"data row4 col489\" >2015-10-07 17:28:47</td>\n",
       "                        <td id=\"T_a8891e05_883b_11eb_89b2_704d7b3c13bcrow4_col490\" class=\"data row4 col490\" >2015-10-08 17:51:33</td>\n",
       "                        <td id=\"T_a8891e05_883b_11eb_89b2_704d7b3c13bcrow4_col491\" class=\"data row4 col491\" >2015-10-09 17:17:12</td>\n",
       "                        <td id=\"T_a8891e05_883b_11eb_89b2_704d7b3c13bcrow4_col492\" class=\"data row4 col492\" >2015-10-12 18:27:44</td>\n",
       "                        <td id=\"T_a8891e05_883b_11eb_89b2_704d7b3c13bcrow4_col493\" class=\"data row4 col493\" >2015-10-13 17:41:27</td>\n",
       "                        <td id=\"T_a8891e05_883b_11eb_89b2_704d7b3c13bcrow4_col494\" class=\"data row4 col494\" >2015-10-14 17:58:58</td>\n",
       "                        <td id=\"T_a8891e05_883b_11eb_89b2_704d7b3c13bcrow4_col495\" class=\"data row4 col495\" >2015-10-15 17:56:00</td>\n",
       "                        <td id=\"T_a8891e05_883b_11eb_89b2_704d7b3c13bcrow4_col496\" class=\"data row4 col496\" >2015-10-16 17:47:56</td>\n",
       "                        <td id=\"T_a8891e05_883b_11eb_89b2_704d7b3c13bcrow4_col497\" class=\"data row4 col497\" >2015-10-19 17:58:30</td>\n",
       "                        <td id=\"T_a8891e05_883b_11eb_89b2_704d7b3c13bcrow4_col498\" class=\"data row4 col498\" >2015-10-20 18:24:21</td>\n",
       "                        <td id=\"T_a8891e05_883b_11eb_89b2_704d7b3c13bcrow4_col499\" class=\"data row4 col499\" >2015-10-21 17:59:41</td>\n",
       "                        <td id=\"T_a8891e05_883b_11eb_89b2_704d7b3c13bcrow4_col500\" class=\"data row4 col500\" >2015-10-22 18:14:04</td>\n",
       "                        <td id=\"T_a8891e05_883b_11eb_89b2_704d7b3c13bcrow4_col501\" class=\"data row4 col501\" >2015-10-23 18:26:48</td>\n",
       "                        <td id=\"T_a8891e05_883b_11eb_89b2_704d7b3c13bcrow4_col502\" class=\"data row4 col502\" >2015-10-26 17:42:45</td>\n",
       "                        <td id=\"T_a8891e05_883b_11eb_89b2_704d7b3c13bcrow4_col503\" class=\"data row4 col503\" >2015-10-27 18:11:11</td>\n",
       "                        <td id=\"T_a8891e05_883b_11eb_89b2_704d7b3c13bcrow4_col504\" class=\"data row4 col504\" >2015-10-28 18:04:54</td>\n",
       "                        <td id=\"T_a8891e05_883b_11eb_89b2_704d7b3c13bcrow4_col505\" class=\"data row4 col505\" >2015-10-29 18:52:40</td>\n",
       "                        <td id=\"T_a8891e05_883b_11eb_89b2_704d7b3c13bcrow4_col506\" class=\"data row4 col506\" >2015-10-30 17:29:23</td>\n",
       "                        <td id=\"T_a8891e05_883b_11eb_89b2_704d7b3c13bcrow4_col507\" class=\"data row4 col507\" >2015-11-02 18:45:59</td>\n",
       "                        <td id=\"T_a8891e05_883b_11eb_89b2_704d7b3c13bcrow4_col508\" class=\"data row4 col508\" >2015-11-03 17:45:51</td>\n",
       "                        <td id=\"T_a8891e05_883b_11eb_89b2_704d7b3c13bcrow4_col509\" class=\"data row4 col509\" >2015-11-04 18:12:50</td>\n",
       "                        <td id=\"T_a8891e05_883b_11eb_89b2_704d7b3c13bcrow4_col510\" class=\"data row4 col510\" >2015-11-05 18:22:40</td>\n",
       "                        <td id=\"T_a8891e05_883b_11eb_89b2_704d7b3c13bcrow4_col511\" class=\"data row4 col511\" >2015-11-06 18:09:24</td>\n",
       "                        <td id=\"T_a8891e05_883b_11eb_89b2_704d7b3c13bcrow4_col512\" class=\"data row4 col512\" >nan</td>\n",
       "                        <td id=\"T_a8891e05_883b_11eb_89b2_704d7b3c13bcrow4_col513\" class=\"data row4 col513\" >nan</td>\n",
       "                        <td id=\"T_a8891e05_883b_11eb_89b2_704d7b3c13bcrow4_col514\" class=\"data row4 col514\" >nan</td>\n",
       "                        <td id=\"T_a8891e05_883b_11eb_89b2_704d7b3c13bcrow4_col515\" class=\"data row4 col515\" >2015-11-12 18:01:24</td>\n",
       "                        <td id=\"T_a8891e05_883b_11eb_89b2_704d7b3c13bcrow4_col516\" class=\"data row4 col516\" >2015-11-13 17:47:07</td>\n",
       "                        <td id=\"T_a8891e05_883b_11eb_89b2_704d7b3c13bcrow4_col517\" class=\"data row4 col517\" >2015-11-16 18:13:04</td>\n",
       "                        <td id=\"T_a8891e05_883b_11eb_89b2_704d7b3c13bcrow4_col518\" class=\"data row4 col518\" >2015-11-17 17:25:29</td>\n",
       "                        <td id=\"T_a8891e05_883b_11eb_89b2_704d7b3c13bcrow4_col519\" class=\"data row4 col519\" >2015-11-18 18:02:00</td>\n",
       "                        <td id=\"T_a8891e05_883b_11eb_89b2_704d7b3c13bcrow4_col520\" class=\"data row4 col520\" >2015-11-19 17:43:56</td>\n",
       "                        <td id=\"T_a8891e05_883b_11eb_89b2_704d7b3c13bcrow4_col521\" class=\"data row4 col521\" >2015-11-20 18:32:04</td>\n",
       "                        <td id=\"T_a8891e05_883b_11eb_89b2_704d7b3c13bcrow4_col522\" class=\"data row4 col522\" >2015-11-23 18:38:54</td>\n",
       "                        <td id=\"T_a8891e05_883b_11eb_89b2_704d7b3c13bcrow4_col523\" class=\"data row4 col523\" >2015-11-24 18:28:51</td>\n",
       "                        <td id=\"T_a8891e05_883b_11eb_89b2_704d7b3c13bcrow4_col524\" class=\"data row4 col524\" >2015-11-25 17:55:41</td>\n",
       "                        <td id=\"T_a8891e05_883b_11eb_89b2_704d7b3c13bcrow4_col525\" class=\"data row4 col525\" >2015-11-26 17:32:31</td>\n",
       "                        <td id=\"T_a8891e05_883b_11eb_89b2_704d7b3c13bcrow4_col526\" class=\"data row4 col526\" >2015-11-27 17:58:08</td>\n",
       "                        <td id=\"T_a8891e05_883b_11eb_89b2_704d7b3c13bcrow4_col527\" class=\"data row4 col527\" >2015-11-30 18:26:15</td>\n",
       "                        <td id=\"T_a8891e05_883b_11eb_89b2_704d7b3c13bcrow4_col528\" class=\"data row4 col528\" >2015-12-01 18:07:48</td>\n",
       "                        <td id=\"T_a8891e05_883b_11eb_89b2_704d7b3c13bcrow4_col529\" class=\"data row4 col529\" >2015-12-02 17:02:52</td>\n",
       "                        <td id=\"T_a8891e05_883b_11eb_89b2_704d7b3c13bcrow4_col530\" class=\"data row4 col530\" >2015-12-03 17:28:55</td>\n",
       "                        <td id=\"T_a8891e05_883b_11eb_89b2_704d7b3c13bcrow4_col531\" class=\"data row4 col531\" >2015-12-04 17:47:17</td>\n",
       "                        <td id=\"T_a8891e05_883b_11eb_89b2_704d7b3c13bcrow4_col532\" class=\"data row4 col532\" >2015-12-07 18:07:48</td>\n",
       "                        <td id=\"T_a8891e05_883b_11eb_89b2_704d7b3c13bcrow4_col533\" class=\"data row4 col533\" >2015-12-08 17:50:08</td>\n",
       "                        <td id=\"T_a8891e05_883b_11eb_89b2_704d7b3c13bcrow4_col534\" class=\"data row4 col534\" >2015-12-09 17:53:44</td>\n",
       "                        <td id=\"T_a8891e05_883b_11eb_89b2_704d7b3c13bcrow4_col535\" class=\"data row4 col535\" >2015-12-10 18:14:09</td>\n",
       "                        <td id=\"T_a8891e05_883b_11eb_89b2_704d7b3c13bcrow4_col536\" class=\"data row4 col536\" >2015-12-11 19:08:11</td>\n",
       "                        <td id=\"T_a8891e05_883b_11eb_89b2_704d7b3c13bcrow4_col537\" class=\"data row4 col537\" >2015-12-14 17:55:40</td>\n",
       "                        <td id=\"T_a8891e05_883b_11eb_89b2_704d7b3c13bcrow4_col538\" class=\"data row4 col538\" >2015-12-15 18:07:30</td>\n",
       "                        <td id=\"T_a8891e05_883b_11eb_89b2_704d7b3c13bcrow4_col539\" class=\"data row4 col539\" >2015-12-16 18:17:11</td>\n",
       "                        <td id=\"T_a8891e05_883b_11eb_89b2_704d7b3c13bcrow4_col540\" class=\"data row4 col540\" >2015-12-17 18:05:47</td>\n",
       "                        <td id=\"T_a8891e05_883b_11eb_89b2_704d7b3c13bcrow4_col541\" class=\"data row4 col541\" >2015-12-18 17:52:48</td>\n",
       "                        <td id=\"T_a8891e05_883b_11eb_89b2_704d7b3c13bcrow4_col542\" class=\"data row4 col542\" >2015-12-21 17:43:35</td>\n",
       "                        <td id=\"T_a8891e05_883b_11eb_89b2_704d7b3c13bcrow4_col543\" class=\"data row4 col543\" >2015-12-22 18:07:57</td>\n",
       "                        <td id=\"T_a8891e05_883b_11eb_89b2_704d7b3c13bcrow4_col544\" class=\"data row4 col544\" >2015-12-23 18:00:49</td>\n",
       "                        <td id=\"T_a8891e05_883b_11eb_89b2_704d7b3c13bcrow4_col545\" class=\"data row4 col545\" >2015-12-24 17:59:22</td>\n",
       "                        <td id=\"T_a8891e05_883b_11eb_89b2_704d7b3c13bcrow4_col546\" class=\"data row4 col546\" >nan</td>\n",
       "                        <td id=\"T_a8891e05_883b_11eb_89b2_704d7b3c13bcrow4_col547\" class=\"data row4 col547\" >2015-12-28 17:44:59</td>\n",
       "                        <td id=\"T_a8891e05_883b_11eb_89b2_704d7b3c13bcrow4_col548\" class=\"data row4 col548\" >2015-12-29 18:47:00</td>\n",
       "                        <td id=\"T_a8891e05_883b_11eb_89b2_704d7b3c13bcrow4_col549\" class=\"data row4 col549\" >2015-12-30 17:15:33</td>\n",
       "                        <td id=\"T_a8891e05_883b_11eb_89b2_704d7b3c13bcrow4_col550\" class=\"data row4 col550\" >2015-12-31 17:42:14</td>\n",
       "            </tr>\n",
       "    </tbody></table>"
      ],
      "text/plain": [
       "<pandas.io.formats.style.Styler at 0x162babfca30>"
      ]
     },
     "execution_count": 16,
     "metadata": {},
     "output_type": "execute_result"
    }
   ],
   "source": [
    "dataset.head().style"
   ]
  },
  {
   "cell_type": "markdown",
   "metadata": {
    "slideshow": {
     "slide_type": "skip"
    }
   },
   "source": [
    "Notre variable `dataset` est maintenant le résultat de la jointure de tout les tableaux fournit par HumanForYou, ce qui sera beaucoup plus simple à exploiter pour plus tard."
   ]
  },
  {
   "cell_type": "markdown",
   "metadata": {
    "slideshow": {
     "slide_type": "subslide"
    }
   },
   "source": [
    "### C. Exploration du jeu de données"
   ]
  },
  {
   "cell_type": "markdown",
   "metadata": {
    "slideshow": {
     "slide_type": "skip"
    }
   },
   "source": [
    "Nous allons, dans cette partie, étudier plus en détails les données qui nous ont été fournies par l'entreprise. Dans un premier temps nous allons nous focaliser sur les données 28 premières colonnes et ainsi éliminer toutes les colonnes liées aux entrées / sorties des employés pour \"allèger\" notre dataset."
   ]
  },
  {
   "cell_type": "code",
   "execution_count": 17,
   "metadata": {
    "scrolled": true,
    "slideshow": {
     "slide_type": "fragment"
    }
   },
   "outputs": [
    {
     "name": "stdout",
     "output_type": "stream",
     "text": [
      "<class 'pandas.core.frame.DataFrame'>\n",
      "Int64Index: 4410 entries, 0 to 4409\n",
      "Data columns (total 29 columns):\n",
      " #   Column                   Non-Null Count  Dtype  \n",
      "---  ------                   --------------  -----  \n",
      " 0   Age                      4410 non-null   int64  \n",
      " 1   Attrition                4410 non-null   object \n",
      " 2   BusinessTravel           4410 non-null   object \n",
      " 3   Department               4410 non-null   object \n",
      " 4   DistanceFromHome         4410 non-null   int64  \n",
      " 5   Education                4410 non-null   int64  \n",
      " 6   EducationField           4410 non-null   object \n",
      " 7   EmployeeCount            4410 non-null   int64  \n",
      " 8   EmployeeID               4410 non-null   int64  \n",
      " 9   Gender                   4410 non-null   object \n",
      " 10  JobLevel                 4410 non-null   int64  \n",
      " 11  JobRole                  4410 non-null   object \n",
      " 12  MaritalStatus            4410 non-null   object \n",
      " 13  MonthlyIncome            4410 non-null   int64  \n",
      " 14  NumCompaniesWorked       4391 non-null   float64\n",
      " 15  Over18                   4410 non-null   object \n",
      " 16  PercentSalaryHike        4410 non-null   int64  \n",
      " 17  StandardHours            4410 non-null   int64  \n",
      " 18  StockOptionLevel         4410 non-null   int64  \n",
      " 19  TotalWorkingYears        4401 non-null   float64\n",
      " 20  TrainingTimesLastYear    4410 non-null   int64  \n",
      " 21  YearsAtCompany           4410 non-null   int64  \n",
      " 22  YearsSinceLastPromotion  4410 non-null   int64  \n",
      " 23  YearsWithCurrManager     4410 non-null   int64  \n",
      " 24  JobInvolvement           4410 non-null   int64  \n",
      " 25  PerformanceRating        4410 non-null   int64  \n",
      " 26  EnvironmentSatisfaction  4385 non-null   float64\n",
      " 27  JobSatisfaction          4390 non-null   float64\n",
      " 28  WorkLifeBalance          4372 non-null   float64\n",
      "dtypes: float64(5), int64(16), object(8)\n",
      "memory usage: 1.0+ MB\n"
     ]
    }
   ],
   "source": [
    "dataset_without_in_out = dataset.drop(dataset.iloc[:,29:],1)\n",
    "dataset_without_in_out.info()"
   ]
  },
  {
   "cell_type": "markdown",
   "metadata": {
    "slideshow": {
     "slide_type": "subslide"
    }
   },
   "source": [
    "#### C.1 Question d'éthique"
   ]
  },
  {
   "cell_type": "markdown",
   "metadata": {
    "slideshow": {
     "slide_type": "fragment"
    }
   },
   "source": [
    "Bien que certaines de ces données peuvent peut être jouer un rôle important dans notre étude, nous décidons de supprimer les colonnes suivantes pour éviter tout problème :\n",
    "\n",
    "* Gender\n",
    "* MaritalStatus            "
   ]
  },
  {
   "cell_type": "code",
   "execution_count": 18,
   "metadata": {
    "slideshow": {
     "slide_type": "skip"
    }
   },
   "outputs": [],
   "source": [
    "dataset_without_in_out.drop(\"Gender\", axis=1, inplace=True)\n",
    "dataset_without_in_out.drop(\"MaritalStatus\", axis=1, inplace=True)"
   ]
  },
  {
   "cell_type": "markdown",
   "metadata": {
    "slideshow": {
     "slide_type": "subslide"
    }
   },
   "source": [
    "#### C.2 Recherche des données non pertinentes"
   ]
  },
  {
   "cell_type": "markdown",
   "metadata": {
    "slideshow": {
     "slide_type": "skip"
    }
   },
   "source": [
    "Nous allons commencer par afficher un `histogramme` par attribut numérique."
   ]
  },
  {
   "cell_type": "code",
   "execution_count": 19,
   "metadata": {
    "scrolled": true,
    "slideshow": {
     "slide_type": "skip"
    }
   },
   "outputs": [],
   "source": [
    "%%capture figure_dataset_without_in_out\n",
    "\n",
    "dataset_without_in_out.hist(bins=50, figsize=(20,15))\n",
    "plt.show()"
   ]
  },
  {
   "cell_type": "code",
   "execution_count": 20,
   "metadata": {
    "scrolled": true,
    "slideshow": {
     "slide_type": "fragment"
    }
   },
   "outputs": [
    {
     "data": {
      "image/png": "[encoded data removed]",
      "text/plain": [
       "<Figure size 1440x1080 with 25 Axes>"
      ]
     },
     "metadata": {
      "needs_background": "light"
     },
     "output_type": "display_data"
    }
   ],
   "source": [
    "figure_dataset_without_in_out.show()"
   ]
  },
  {
   "cell_type": "markdown",
   "metadata": {
    "slideshow": {
     "slide_type": "skip"
    }
   },
   "source": [
    "#### Remarques :\n",
    "\n",
    "* `EmployeeID` n'a pas d'intéret dans notre jeu de données. Cette colonne est un simple identifiant, un algorithme de machine learning n'en tirera rien.\n",
    "\n",
    "\n",
    "* On peut voir ici que `EmployeeCount` ne semble pas être une donnée pertinente. En effet l'ensemble des employées était présent en 2015, cela n'aura donc aucun impact sur la prédiction que l'on souhaite faire. Si l'ensemble des employées est \"regroupé\" sous une même valeurs, cela signifie que cette données est inutile pour notre modèle.\n",
    "\n",
    "\n",
    "* Il en est de même pour la donnée `StandardHours`. Celle-ci ne semble avoir aucune pertinence puisque l'ensemble des employés ont tous le même nombre d'heures à effectuer au sein d'une journée.\n",
    "\n",
    "\n",
    "* `PerformanceRating` possède deux \"classes\" bien distinctes. En effet l'ensemble des données sont regroupées sous deux valeurs : 3 et 4, il serait peut être intéressant de savoir si cette données à un impact direct sur l'attrition.\n",
    "\n",
    "\n",
    "* Les colonnes `WorkLifeBalance` et `JobInvolvement` ont quasiment les mêmes historgrammes. Il en est de même pour `JobSatisfaction` et `EnvironmentSatisfaction`. Nous allons donc verifier si il existe des corrélations entre ces colonnes.\n",
    "\n",
    "\n",
    "* Certaines données comme `YearSinceLastPromotion` & `DistanceFromHome` semblent intéressantes à étudier. En effet, on peut voir que beaucoup de personnes qui habitent loin de leur lieu de travail et beaucoup ont été promus récemment, ces données ont potentiellement un impact sur le turn over au sein de la société.\n",
    "\n",
    "\n",
    "* La colonne `Age` semble ne pas descendre en dessous de 18 ans. Nous allons vérifier cela avec la colonne `Over18` qui est quand à elle une donnée qualitative. Si c'est le cas, alors nous pourrons supprimer la colonne `Over18` car elle ne servirait à rien pour notre modèle.\n",
    "\n",
    "\n",
    "* Les échelles sont très différentes d'une feature à l'autre. Un scaling sera nécessaire pour obtenir un modèle performant."
   ]
  },
  {
   "cell_type": "markdown",
   "metadata": {
    "slideshow": {
     "slide_type": "skip"
    }
   },
   "source": [
    "Nous pouvons donc supprimer les colonnes `EmployeeID`, `EmployeeCount` et `StandardHours` car elles n'ont pas d'intérêt :"
   ]
  },
  {
   "cell_type": "code",
   "execution_count": 21,
   "metadata": {
    "slideshow": {
     "slide_type": "skip"
    }
   },
   "outputs": [],
   "source": [
    "dataset_without_in_out.drop(\"EmployeeID\", axis=1, inplace=True) \n",
    "dataset_without_in_out.drop(\"EmployeeCount\", axis=1, inplace=True) \n",
    "dataset_without_in_out.drop(\"StandardHours\", axis=1, inplace=True) "
   ]
  },
  {
   "cell_type": "markdown",
   "metadata": {
    "slideshow": {
     "slide_type": "skip"
    }
   },
   "source": [
    "Vérifions maintenant la colonne `Over18` :"
   ]
  },
  {
   "cell_type": "code",
   "execution_count": 22,
   "metadata": {
    "slideshow": {
     "slide_type": "skip"
    }
   },
   "outputs": [
    {
     "data": {
      "text/plain": [
       "Y    4410\n",
       "Name: Over18, dtype: int64"
      ]
     },
     "execution_count": 22,
     "metadata": {},
     "output_type": "execute_result"
    }
   ],
   "source": [
    "dataset_without_in_out[\"Over18\"].value_counts()"
   ]
  },
  {
   "cell_type": "markdown",
   "metadata": {
    "slideshow": {
     "slide_type": "skip"
    }
   },
   "source": [
    "Nous avons vu juste, les 4410 valeurs sont toutes les mêmes dans cette colonne. Nous pouvons la supprimer."
   ]
  },
  {
   "cell_type": "code",
   "execution_count": 23,
   "metadata": {
    "slideshow": {
     "slide_type": "skip"
    }
   },
   "outputs": [],
   "source": [
    "dataset_without_in_out.drop(\"Over18\", axis=1, inplace=True) "
   ]
  },
  {
   "cell_type": "code",
   "execution_count": 24,
   "metadata": {
    "slideshow": {
     "slide_type": "skip"
    }
   },
   "outputs": [
    {
     "name": "stdout",
     "output_type": "stream",
     "text": [
      "<class 'pandas.core.frame.DataFrame'>\n",
      "Int64Index: 4410 entries, 0 to 4409\n",
      "Data columns (total 23 columns):\n",
      " #   Column                   Non-Null Count  Dtype  \n",
      "---  ------                   --------------  -----  \n",
      " 0   Age                      4410 non-null   int64  \n",
      " 1   Attrition                4410 non-null   object \n",
      " 2   BusinessTravel           4410 non-null   object \n",
      " 3   Department               4410 non-null   object \n",
      " 4   DistanceFromHome         4410 non-null   int64  \n",
      " 5   Education                4410 non-null   int64  \n",
      " 6   EducationField           4410 non-null   object \n",
      " 7   JobLevel                 4410 non-null   int64  \n",
      " 8   JobRole                  4410 non-null   object \n",
      " 9   MonthlyIncome            4410 non-null   int64  \n",
      " 10  NumCompaniesWorked       4391 non-null   float64\n",
      " 11  PercentSalaryHike        4410 non-null   int64  \n",
      " 12  StockOptionLevel         4410 non-null   int64  \n",
      " 13  TotalWorkingYears        4401 non-null   float64\n",
      " 14  TrainingTimesLastYear    4410 non-null   int64  \n",
      " 15  YearsAtCompany           4410 non-null   int64  \n",
      " 16  YearsSinceLastPromotion  4410 non-null   int64  \n",
      " 17  YearsWithCurrManager     4410 non-null   int64  \n",
      " 18  JobInvolvement           4410 non-null   int64  \n",
      " 19  PerformanceRating        4410 non-null   int64  \n",
      " 20  EnvironmentSatisfaction  4385 non-null   float64\n",
      " 21  JobSatisfaction          4390 non-null   float64\n",
      " 22  WorkLifeBalance          4372 non-null   float64\n",
      "dtypes: float64(5), int64(13), object(5)\n",
      "memory usage: 826.9+ KB\n"
     ]
    }
   ],
   "source": [
    "dataset_without_in_out.info()"
   ]
  },
  {
   "cell_type": "markdown",
   "metadata": {
    "slideshow": {
     "slide_type": "subslide"
    }
   },
   "source": [
    "#### C.3 Étude des horaires d'entrées / sorties"
   ]
  },
  {
   "cell_type": "markdown",
   "metadata": {
    "slideshow": {
     "slide_type": "skip"
    }
   },
   "source": [
    "Les données d'entrées / sorties fournies par les badgeuses de l'entreprise sont assez indigestes et n'ont pas de valeur significative pour un algorithme de machine learning dans leur forme actuelle. Nous avons donc décidé d'essayer de faire une moyenne du nombre d'heure travaillées, par jour, d'un employé entre le `01/01/2015` et le `31/12/2015`\n",
    "\n",
    "Nous commencons par récuperer un tableau contenant uniquement les données d'entrées / sorties depuis notre `dataset`"
   ]
  },
  {
   "cell_type": "code",
   "execution_count": 25,
   "metadata": {
    "slideshow": {
     "slide_type": "skip"
    }
   },
   "outputs": [],
   "source": [
    "dataset_with_in_out = dataset.drop(dataset.iloc[:, 0:29],1)"
   ]
  },
  {
   "cell_type": "markdown",
   "metadata": {
    "slideshow": {
     "slide_type": "skip"
    }
   },
   "source": [
    "Nous allons maintenant transformer toutes ces données étant de type `string` en `datetime`"
   ]
  },
  {
   "cell_type": "code",
   "execution_count": 26,
   "metadata": {
    "slideshow": {
     "slide_type": "fragment"
    }
   },
   "outputs": [
    {
     "data": {
      "text/html": [
       "<div>\n",
       "<style scoped>\n",
       "    .dataframe tbody tr th:only-of-type {\n",
       "        vertical-align: middle;\n",
       "    }\n",
       "\n",
       "    .dataframe tbody tr th {\n",
       "        vertical-align: top;\n",
       "    }\n",
       "\n",
       "    .dataframe thead th {\n",
       "        text-align: right;\n",
       "    }\n",
       "</style>\n",
       "<table border=\"1\" class=\"dataframe\">\n",
       "  <thead>\n",
       "    <tr style=\"text-align: right;\">\n",
       "      <th></th>\n",
       "      <th>2015-01-01_in</th>\n",
       "      <th>2015-01-02_in</th>\n",
       "      <th>2015-01-05_in</th>\n",
       "      <th>2015-01-06_in</th>\n",
       "      <th>2015-01-07_in</th>\n",
       "      <th>2015-01-08_in</th>\n",
       "      <th>2015-01-09_in</th>\n",
       "      <th>2015-01-12_in</th>\n",
       "      <th>2015-01-13_in</th>\n",
       "      <th>2015-01-14_in</th>\n",
       "      <th>...</th>\n",
       "      <th>2015-12-18_out</th>\n",
       "      <th>2015-12-21_out</th>\n",
       "      <th>2015-12-22_out</th>\n",
       "      <th>2015-12-23_out</th>\n",
       "      <th>2015-12-24_out</th>\n",
       "      <th>2015-12-25_out</th>\n",
       "      <th>2015-12-28_out</th>\n",
       "      <th>2015-12-29_out</th>\n",
       "      <th>2015-12-30_out</th>\n",
       "      <th>2015-12-31_out</th>\n",
       "    </tr>\n",
       "  </thead>\n",
       "  <tbody>\n",
       "    <tr>\n",
       "      <th>0</th>\n",
       "      <td>NaT</td>\n",
       "      <td>2015-01-02 09:43:45</td>\n",
       "      <td>2015-01-05 10:08:48</td>\n",
       "      <td>2015-01-06 09:54:26</td>\n",
       "      <td>2015-01-07 09:34:31</td>\n",
       "      <td>2015-01-08 09:51:09</td>\n",
       "      <td>2015-01-09 10:09:25</td>\n",
       "      <td>2015-01-12 09:42:53</td>\n",
       "      <td>2015-01-13 10:13:06</td>\n",
       "      <td>NaT</td>\n",
       "      <td>...</td>\n",
       "      <td>NaT</td>\n",
       "      <td>2015-12-21 17:15:50</td>\n",
       "      <td>2015-12-22 17:27:51</td>\n",
       "      <td>2015-12-23 16:44:44</td>\n",
       "      <td>2015-12-24 17:47:22</td>\n",
       "      <td>NaT</td>\n",
       "      <td>2015-12-28 18:00:07</td>\n",
       "      <td>2015-12-29 17:22:30</td>\n",
       "      <td>2015-12-30 17:40:56</td>\n",
       "      <td>2015-12-31 17:17:33</td>\n",
       "    </tr>\n",
       "    <tr>\n",
       "      <th>1</th>\n",
       "      <td>NaT</td>\n",
       "      <td>2015-01-02 10:15:44</td>\n",
       "      <td>2015-01-05 10:21:05</td>\n",
       "      <td>NaT</td>\n",
       "      <td>2015-01-07 09:45:17</td>\n",
       "      <td>2015-01-08 10:09:04</td>\n",
       "      <td>2015-01-09 09:43:26</td>\n",
       "      <td>2015-01-12 10:00:07</td>\n",
       "      <td>2015-01-13 10:43:29</td>\n",
       "      <td>NaT</td>\n",
       "      <td>...</td>\n",
       "      <td>2015-12-18 18:31:28</td>\n",
       "      <td>2015-12-21 17:34:16</td>\n",
       "      <td>2015-12-22 18:16:35</td>\n",
       "      <td>2015-12-23 17:38:18</td>\n",
       "      <td>NaT</td>\n",
       "      <td>NaT</td>\n",
       "      <td>2015-12-28 17:08:38</td>\n",
       "      <td>2015-12-29 17:54:46</td>\n",
       "      <td>2015-12-30 18:31:35</td>\n",
       "      <td>2015-12-31 17:40:58</td>\n",
       "    </tr>\n",
       "    <tr>\n",
       "      <th>2</th>\n",
       "      <td>NaT</td>\n",
       "      <td>2015-01-02 10:17:41</td>\n",
       "      <td>2015-01-05 09:50:50</td>\n",
       "      <td>2015-01-06 10:14:13</td>\n",
       "      <td>2015-01-07 09:47:27</td>\n",
       "      <td>2015-01-08 10:03:40</td>\n",
       "      <td>2015-01-09 10:05:49</td>\n",
       "      <td>2015-01-12 10:03:47</td>\n",
       "      <td>2015-01-13 10:21:26</td>\n",
       "      <td>NaT</td>\n",
       "      <td>...</td>\n",
       "      <td>2015-12-18 17:02:23</td>\n",
       "      <td>2015-12-21 17:20:17</td>\n",
       "      <td>2015-12-22 16:32:50</td>\n",
       "      <td>2015-12-23 16:59:43</td>\n",
       "      <td>2015-12-24 16:58:25</td>\n",
       "      <td>NaT</td>\n",
       "      <td>2015-12-28 16:43:31</td>\n",
       "      <td>2015-12-29 17:09:56</td>\n",
       "      <td>2015-12-30 17:06:25</td>\n",
       "      <td>2015-12-31 17:15:50</td>\n",
       "    </tr>\n",
       "    <tr>\n",
       "      <th>3</th>\n",
       "      <td>NaT</td>\n",
       "      <td>2015-01-02 10:05:06</td>\n",
       "      <td>2015-01-05 09:56:32</td>\n",
       "      <td>2015-01-06 10:11:07</td>\n",
       "      <td>2015-01-07 09:37:30</td>\n",
       "      <td>2015-01-08 10:02:08</td>\n",
       "      <td>2015-01-09 10:08:12</td>\n",
       "      <td>2015-01-12 10:13:42</td>\n",
       "      <td>2015-01-13 09:53:22</td>\n",
       "      <td>NaT</td>\n",
       "      <td>...</td>\n",
       "      <td>2015-12-18 17:55:23</td>\n",
       "      <td>2015-12-21 16:49:09</td>\n",
       "      <td>2015-12-22 17:24:00</td>\n",
       "      <td>2015-12-23 17:36:35</td>\n",
       "      <td>2015-12-24 16:48:21</td>\n",
       "      <td>NaT</td>\n",
       "      <td>2015-12-28 17:19:34</td>\n",
       "      <td>2015-12-29 16:58:16</td>\n",
       "      <td>2015-12-30 17:40:11</td>\n",
       "      <td>2015-12-31 17:09:14</td>\n",
       "    </tr>\n",
       "    <tr>\n",
       "      <th>4</th>\n",
       "      <td>NaT</td>\n",
       "      <td>2015-01-02 10:28:17</td>\n",
       "      <td>2015-01-05 09:49:58</td>\n",
       "      <td>2015-01-06 09:45:28</td>\n",
       "      <td>2015-01-07 09:49:37</td>\n",
       "      <td>2015-01-08 10:19:44</td>\n",
       "      <td>2015-01-09 10:00:50</td>\n",
       "      <td>2015-01-12 10:29:27</td>\n",
       "      <td>2015-01-13 09:59:32</td>\n",
       "      <td>NaT</td>\n",
       "      <td>...</td>\n",
       "      <td>2015-12-18 17:52:48</td>\n",
       "      <td>2015-12-21 17:43:35</td>\n",
       "      <td>2015-12-22 18:07:57</td>\n",
       "      <td>2015-12-23 18:00:49</td>\n",
       "      <td>2015-12-24 17:59:22</td>\n",
       "      <td>NaT</td>\n",
       "      <td>2015-12-28 17:44:59</td>\n",
       "      <td>2015-12-29 18:47:00</td>\n",
       "      <td>2015-12-30 17:15:33</td>\n",
       "      <td>2015-12-31 17:42:14</td>\n",
       "    </tr>\n",
       "  </tbody>\n",
       "</table>\n",
       "<p>5 rows × 522 columns</p>\n",
       "</div>"
      ],
      "text/plain": [
       "  2015-01-01_in       2015-01-02_in       2015-01-05_in       2015-01-06_in  \\\n",
       "0           NaT 2015-01-02 09:43:45 2015-01-05 10:08:48 2015-01-06 09:54:26   \n",
       "1           NaT 2015-01-02 10:15:44 2015-01-05 10:21:05                 NaT   \n",
       "2           NaT 2015-01-02 10:17:41 2015-01-05 09:50:50 2015-01-06 10:14:13   \n",
       "3           NaT 2015-01-02 10:05:06 2015-01-05 09:56:32 2015-01-06 10:11:07   \n",
       "4           NaT 2015-01-02 10:28:17 2015-01-05 09:49:58 2015-01-06 09:45:28   \n",
       "\n",
       "        2015-01-07_in       2015-01-08_in       2015-01-09_in  \\\n",
       "0 2015-01-07 09:34:31 2015-01-08 09:51:09 2015-01-09 10:09:25   \n",
       "1 2015-01-07 09:45:17 2015-01-08 10:09:04 2015-01-09 09:43:26   \n",
       "2 2015-01-07 09:47:27 2015-01-08 10:03:40 2015-01-09 10:05:49   \n",
       "3 2015-01-07 09:37:30 2015-01-08 10:02:08 2015-01-09 10:08:12   \n",
       "4 2015-01-07 09:49:37 2015-01-08 10:19:44 2015-01-09 10:00:50   \n",
       "\n",
       "        2015-01-12_in       2015-01-13_in 2015-01-14_in  ...  \\\n",
       "0 2015-01-12 09:42:53 2015-01-13 10:13:06           NaT  ...   \n",
       "1 2015-01-12 10:00:07 2015-01-13 10:43:29           NaT  ...   \n",
       "2 2015-01-12 10:03:47 2015-01-13 10:21:26           NaT  ...   \n",
       "3 2015-01-12 10:13:42 2015-01-13 09:53:22           NaT  ...   \n",
       "4 2015-01-12 10:29:27 2015-01-13 09:59:32           NaT  ...   \n",
       "\n",
       "       2015-12-18_out      2015-12-21_out      2015-12-22_out  \\\n",
       "0                 NaT 2015-12-21 17:15:50 2015-12-22 17:27:51   \n",
       "1 2015-12-18 18:31:28 2015-12-21 17:34:16 2015-12-22 18:16:35   \n",
       "2 2015-12-18 17:02:23 2015-12-21 17:20:17 2015-12-22 16:32:50   \n",
       "3 2015-12-18 17:55:23 2015-12-21 16:49:09 2015-12-22 17:24:00   \n",
       "4 2015-12-18 17:52:48 2015-12-21 17:43:35 2015-12-22 18:07:57   \n",
       "\n",
       "       2015-12-23_out      2015-12-24_out 2015-12-25_out      2015-12-28_out  \\\n",
       "0 2015-12-23 16:44:44 2015-12-24 17:47:22            NaT 2015-12-28 18:00:07   \n",
       "1 2015-12-23 17:38:18                 NaT            NaT 2015-12-28 17:08:38   \n",
       "2 2015-12-23 16:59:43 2015-12-24 16:58:25            NaT 2015-12-28 16:43:31   \n",
       "3 2015-12-23 17:36:35 2015-12-24 16:48:21            NaT 2015-12-28 17:19:34   \n",
       "4 2015-12-23 18:00:49 2015-12-24 17:59:22            NaT 2015-12-28 17:44:59   \n",
       "\n",
       "       2015-12-29_out      2015-12-30_out      2015-12-31_out  \n",
       "0 2015-12-29 17:22:30 2015-12-30 17:40:56 2015-12-31 17:17:33  \n",
       "1 2015-12-29 17:54:46 2015-12-30 18:31:35 2015-12-31 17:40:58  \n",
       "2 2015-12-29 17:09:56 2015-12-30 17:06:25 2015-12-31 17:15:50  \n",
       "3 2015-12-29 16:58:16 2015-12-30 17:40:11 2015-12-31 17:09:14  \n",
       "4 2015-12-29 18:47:00 2015-12-30 17:15:33 2015-12-31 17:42:14  \n",
       "\n",
       "[5 rows x 522 columns]"
      ]
     },
     "execution_count": 26,
     "metadata": {},
     "output_type": "execute_result"
    }
   ],
   "source": [
    "dataset_with_in_out = dataset_with_in_out.apply(pd.to_datetime, format='%Y-%m-%d %H:%M:%S')\n",
    "dataset_with_in_out.head()"
   ]
  },
  {
   "cell_type": "markdown",
   "metadata": {
    "slideshow": {
     "slide_type": "skip"
    }
   },
   "source": [
    "Il est maintenant nécessaire de \"soustraire\" les sorties des entrées des employés pour obtenir le temps qu'ils ont passés, par jour, sur leur lieu de travail"
   ]
  },
  {
   "cell_type": "code",
   "execution_count": 27,
   "metadata": {
    "slideshow": {
     "slide_type": "skip"
    }
   },
   "outputs": [],
   "source": [
    "import datetime as dt\n",
    "import pandas as pd\n",
    "\n",
    "nombre_de_jour = int(dataset_with_in_out.shape[1] / 2)\n",
    "\n",
    "datetime_in = dataset_with_in_out.drop(dataset_with_in_out.iloc[:, nombre_de_jour:],1)\n",
    "datetime_out = dataset_with_in_out.drop(dataset_with_in_out.iloc[:, :nombre_de_jour],1)\n",
    "\n",
    "datetime_in.columns = datetime_in.columns.str.rstrip(\"_in\")\n",
    "datetime_out.columns = datetime_out.columns.str.rstrip(\"_out\")\n",
    "\n",
    "datetime_sub = datetime_out.subtract(datetime_in, fill_value=0)"
   ]
  },
  {
   "cell_type": "markdown",
   "metadata": {
    "slideshow": {
     "slide_type": "subslide"
    }
   },
   "source": [
    "Moyenne du temps que chaque employés a passé sur son lieu de travail par jour entre le `01/01/2015` et le `31/12/2015`, en secondes :"
   ]
  },
  {
   "cell_type": "code",
   "execution_count": 28,
   "metadata": {
    "slideshow": {
     "slide_type": "fragment"
    }
   },
   "outputs": [
    {
     "data": {
      "text/plain": [
       "0       26545.142241\n",
       "1       27788.288136\n",
       "2       25247.665289\n",
       "3       25897.242553\n",
       "4       28822.228571\n",
       "            ...     \n",
       "4405    30680.197531\n",
       "4406    21934.634855\n",
       "4407    27743.874459\n",
       "4408    34173.340249\n",
       "4409    25160.211207\n",
       "Length: 4410, dtype: float64"
      ]
     },
     "execution_count": 28,
     "metadata": {},
     "output_type": "execute_result"
    }
   ],
   "source": [
    "datetime_mean = datetime_sub.mean(axis = 1)\n",
    "datetime_mean = datetime_mean.dt.total_seconds()\n",
    "datetime_mean"
   ]
  },
  {
   "cell_type": "markdown",
   "metadata": {
    "slideshow": {
     "slide_type": "skip"
    }
   },
   "source": [
    "Les données d'entrées et de sorties sont maintenant beaucoup plus exploitable par un algorithme de machine learning. Nous allons donc les remettres dans notre `dataset`."
   ]
  },
  {
   "cell_type": "code",
   "execution_count": 29,
   "metadata": {
    "slideshow": {
     "slide_type": "skip"
    }
   },
   "outputs": [
    {
     "name": "stdout",
     "output_type": "stream",
     "text": [
      "<class 'pandas.core.frame.DataFrame'>\n",
      "Int64Index: 4410 entries, 0 to 4409\n",
      "Data columns (total 24 columns):\n",
      " #   Column                   Non-Null Count  Dtype  \n",
      "---  ------                   --------------  -----  \n",
      " 0   Age                      4410 non-null   int64  \n",
      " 1   Attrition                4410 non-null   object \n",
      " 2   BusinessTravel           4410 non-null   object \n",
      " 3   Department               4410 non-null   object \n",
      " 4   DistanceFromHome         4410 non-null   int64  \n",
      " 5   Education                4410 non-null   int64  \n",
      " 6   EducationField           4410 non-null   object \n",
      " 7   JobLevel                 4410 non-null   int64  \n",
      " 8   JobRole                  4410 non-null   object \n",
      " 9   MonthlyIncome            4410 non-null   int64  \n",
      " 10  NumCompaniesWorked       4391 non-null   float64\n",
      " 11  PercentSalaryHike        4410 non-null   int64  \n",
      " 12  StockOptionLevel         4410 non-null   int64  \n",
      " 13  TotalWorkingYears        4401 non-null   float64\n",
      " 14  TrainingTimesLastYear    4410 non-null   int64  \n",
      " 15  YearsAtCompany           4410 non-null   int64  \n",
      " 16  YearsSinceLastPromotion  4410 non-null   int64  \n",
      " 17  YearsWithCurrManager     4410 non-null   int64  \n",
      " 18  JobInvolvement           4410 non-null   int64  \n",
      " 19  PerformanceRating        4410 non-null   int64  \n",
      " 20  EnvironmentSatisfaction  4385 non-null   float64\n",
      " 21  JobSatisfaction          4390 non-null   float64\n",
      " 22  WorkLifeBalance          4372 non-null   float64\n",
      " 23  MoyenneInOut             4410 non-null   float64\n",
      "dtypes: float64(6), int64(13), object(5)\n",
      "memory usage: 861.3+ KB\n"
     ]
    }
   ],
   "source": [
    "final_dataset = dataset_without_in_out\n",
    "final_dataset[\"MoyenneInOut\"] = datetime_mean\n",
    "\n",
    "final_dataset.info()"
   ]
  },
  {
   "cell_type": "markdown",
   "metadata": {
    "slideshow": {
     "slide_type": "subslide"
    }
   },
   "source": [
    "#### C.4 Préparation de la variable cible"
   ]
  },
  {
   "cell_type": "markdown",
   "metadata": {
    "slideshow": {
     "slide_type": "skip"
    }
   },
   "source": [
    "Avant de découper notre dataset en jeu d'entrainement et de test, nous allons préparer la variable cible `Attrition` pour qu'elle soit interprétable par notre model. En effet, cette varaible binaire contient deux valeurs qui sont \"Yes\" et \"No\". Nous allons ainsi convertir ces chaînes de caractères en chiffres."
   ]
  },
  {
   "cell_type": "code",
   "execution_count": 30,
   "metadata": {
    "slideshow": {
     "slide_type": "fragment"
    }
   },
   "outputs": [
    {
     "name": "stdout",
     "output_type": "stream",
     "text": [
      "0    3699\n",
      "1     711\n",
      "Name: Attrition, dtype: int64\n",
      "Le nombre de Yes est de 16.122448979591837 %\n"
     ]
    }
   ],
   "source": [
    "final_dataset['Attrition'] = final_dataset['Attrition'].replace(['Yes','No'], [1, 0])\n",
    "print(final_dataset['Attrition'].value_counts())\n",
    "print(\"Le nombre de Yes est de\", (711/4410) * 100, \"%\")"
   ]
  },
  {
   "cell_type": "markdown",
   "metadata": {
    "slideshow": {
     "slide_type": "subslide"
    }
   },
   "source": [
    "#### C.5 Création des jeux d'entrainement et de test"
   ]
  },
  {
   "cell_type": "markdown",
   "metadata": {
    "slideshow": {
     "slide_type": "fragment"
    }
   },
   "source": [
    "Nous allons découper notre jeu de données en deux :\n",
    "\n",
    "* Le `train_set` contiendra 80% de nos données.\n",
    "* Le `test_set` contiendra 20% de nos données."
   ]
  },
  {
   "cell_type": "markdown",
   "metadata": {
    "slideshow": {
     "slide_type": "subslide"
    }
   },
   "source": [
    "##### Échantillonnage stratifié sur `Attrition` :"
   ]
  },
  {
   "cell_type": "code",
   "execution_count": 31,
   "metadata": {
    "slideshow": {
     "slide_type": "fragment"
    }
   },
   "outputs": [
    {
     "data": {
      "text/plain": [
       "<AxesSubplot:>"
      ]
     },
     "execution_count": 31,
     "metadata": {},
     "output_type": "execute_result"
    },
    {
     "data": {
      "image/png": "[encoded data removed]",
      "text/plain": [
       "<Figure size 432x288 with 1 Axes>"
      ]
     },
     "metadata": {
      "needs_background": "light"
     },
     "output_type": "display_data"
    }
   ],
   "source": [
    "final_dataset[\"Attrition\"].hist()"
   ]
  },
  {
   "cell_type": "markdown",
   "metadata": {
    "slideshow": {
     "slide_type": "skip"
    }
   },
   "source": [
    "On peut maintenant utiliser [`StratifiedShuffleSplit`](https://scikit-learn.org/stable/modules/generated/sklearn.model_selection.StratifiedShuffleSplit.html) pour échantillonner le jeu de données en respectant notre contrainte :"
   ]
  },
  {
   "cell_type": "code",
   "execution_count": 32,
   "metadata": {
    "slideshow": {
     "slide_type": "skip"
    }
   },
   "outputs": [],
   "source": [
    "from sklearn.model_selection import StratifiedShuffleSplit\n",
    "\n",
    "split = StratifiedShuffleSplit(n_splits=1, test_size=0.2, random_state=42) #initialise le split\n",
    "\n",
    "for train_index, test_index in split.split(final_dataset, final_dataset[\"Attrition\"]): \n",
    "    train_set = dataset_without_in_out.loc[train_index]\n",
    "    test_set = dataset_without_in_out.loc[test_index]"
   ]
  },
  {
   "cell_type": "markdown",
   "metadata": {
    "slideshow": {
     "slide_type": "subslide"
    }
   },
   "source": [
    "##### Proportions de `Attrition` sur le `train_set` et le `test_set` :"
   ]
  },
  {
   "cell_type": "code",
   "execution_count": null,
   "metadata": {
    "slideshow": {
     "slide_type": "fragment"
    }
   },
   "outputs": [
    {
     "data": {
      "text/plain": [
       "<AxesSubplot:>"
      ]
     },
     "execution_count": 33,
     "metadata": {},
     "output_type": "execute_result"
    }
   ],
   "source": [
    "train_set[\"Attrition\"].hist()"
   ]
  },
  {
   "cell_type": "code",
   "execution_count": null,
   "metadata": {
    "slideshow": {
     "slide_type": "fragment"
    }
   },
   "outputs": [],
   "source": [
    "test_set[\"Attrition\"].hist()"
   ]
  },
  {
   "cell_type": "markdown",
   "metadata": {
    "slideshow": {
     "slide_type": "skip"
    }
   },
   "source": [
    "Nos histrogrammes semblent avoir les mêmes proportions. Notre stratification a donc bien fonctionnée."
   ]
  },
  {
   "cell_type": "markdown",
   "metadata": {
    "slideshow": {
     "slide_type": "subslide"
    }
   },
   "source": [
    "### D. Préparation des données d'entrainement pour les algorithmes de ML"
   ]
  },
  {
   "cell_type": "markdown",
   "metadata": {
    "slideshow": {
     "slide_type": "skip"
    }
   },
   "source": [
    "Nous allons commencer par scinder le jeu de données d'entrainement. D'une part nous aurons, les variables-cibles, ou \"labels\", notées $Y$ et de l'autre, les \"features\" notées $X$."
   ]
  },
  {
   "cell_type": "code",
   "execution_count": null,
   "metadata": {
    "slideshow": {
     "slide_type": "skip"
    }
   },
   "outputs": [],
   "source": [
    "train_set_features = train_set.drop(\"Attrition\", axis=1)\n",
    "train_set_labels = train_set[\"Attrition\"].copy()\n",
    "train_set_features"
   ]
  },
  {
   "cell_type": "markdown",
   "metadata": {
    "slideshow": {
     "slide_type": "fragment"
    }
   },
   "source": [
    "#### D.1 Identification des données numériques et qualitatives"
   ]
  },
  {
   "cell_type": "code",
   "execution_count": null,
   "metadata": {
    "slideshow": {
     "slide_type": "skip"
    }
   },
   "outputs": [],
   "source": [
    "train_set_features_num = train_set_features.select_dtypes(include=[np.number]) \n",
    "train_set_features_cat = train_set_features.select_dtypes(exclude=[np.number])\n",
    "\n",
    "train_set_features_num = list(train_set_features_num)\n",
    "train_set_features_cat = list(train_set_features_cat)\n",
    "\n",
    "train_set_features_cat"
   ]
  },
  {
   "cell_type": "markdown",
   "metadata": {
    "slideshow": {
     "slide_type": "fragment"
    }
   },
   "source": [
    "##### Données qualitatives :"
   ]
  },
  {
   "cell_type": "code",
   "execution_count": null,
   "metadata": {
    "slideshow": {
     "slide_type": "skip"
    }
   },
   "outputs": [],
   "source": [
    "from sklearn.pipeline import Pipeline"
   ]
  },
  {
   "cell_type": "markdown",
   "metadata": {
    "slideshow": {
     "slide_type": "fragment"
    }
   },
   "source": [
    "Présence de multiples variables qualitatives ordinales et non ordinales\n",
    "* **Choix de l'encodage** : OneHotEncoder(), décomposition de la variable en plusieurs sous variables binaires"
   ]
  },
  {
   "cell_type": "code",
   "execution_count": null,
   "metadata": {
    "slideshow": {
     "slide_type": "fragment"
    }
   },
   "outputs": [],
   "source": [
    "from sklearn.preprocessing import OneHotEncoder\n",
    "\n",
    "cat_pipeline = Pipeline([\n",
    "    ('cat_encoder', OneHotEncoder())\n",
    "])"
   ]
  },
  {
   "cell_type": "markdown",
   "metadata": {
    "slideshow": {
     "slide_type": "subslide"
    }
   },
   "source": [
    "##### Données numériques :"
   ]
  },
  {
   "cell_type": "markdown",
   "metadata": {
    "slideshow": {
     "slide_type": "fragment"
    }
   },
   "source": [
    "Double traitement des données numériques :\n",
    "* **Données manquantes** : SimpleImputer(), utilisation de la médiane pour combler les données.\n",
    "* **Mise à l'échelle** : RobustScaler(), beaucoup moins sensible aux valeurs aberrantes pour ajuster chaque variable."
   ]
  },
  {
   "cell_type": "code",
   "execution_count": null,
   "metadata": {
    "slideshow": {
     "slide_type": "fragment"
    }
   },
   "outputs": [],
   "source": [
    "from sklearn.impute import SimpleImputer\n",
    "from sklearn.preprocessing import RobustScaler\n",
    "\n",
    "num_pipeline = Pipeline([\n",
    "        ('imputer', SimpleImputer(strategy=\"median\")),\n",
    "        ('robust_scaler', RobustScaler()),\n",
    "    ])"
   ]
  },
  {
   "cell_type": "markdown",
   "metadata": {
    "slideshow": {
     "slide_type": "skip"
    }
   },
   "source": [
    "##### Pipeline de préparation des données"
   ]
  },
  {
   "cell_type": "code",
   "execution_count": null,
   "metadata": {
    "slideshow": {
     "slide_type": "skip"
    }
   },
   "outputs": [],
   "source": [
    "from sklearn.compose import ColumnTransformer\n",
    "\n",
    "full_pipeline = ColumnTransformer([\n",
    "        (\"num\", num_pipeline, train_set_features_num),\n",
    "        (\"cat\", cat_pipeline, train_set_features_cat),\n",
    "    ])"
   ]
  },
  {
   "cell_type": "code",
   "execution_count": null,
   "metadata": {
    "slideshow": {
     "slide_type": "skip"
    }
   },
   "outputs": [],
   "source": [
    "train_set_features_prepared = full_pipeline.fit_transform(train_set_features)"
   ]
  },
  {
   "cell_type": "code",
   "execution_count": null,
   "metadata": {
    "slideshow": {
     "slide_type": "skip"
    }
   },
   "outputs": [],
   "source": [
    "train_set_features_cat = full_pipeline.named_transformers_['cat']['cat_encoder'].get_feature_names(train_set_features_cat)\n",
    "train_set_features_cat = list(train_set_features_cat)"
   ]
  },
  {
   "cell_type": "markdown",
   "metadata": {
    "slideshow": {
     "slide_type": "subslide"
    }
   },
   "source": [
    "##### Données préparées :"
   ]
  },
  {
   "cell_type": "code",
   "execution_count": null,
   "metadata": {
    "slideshow": {
     "slide_type": "fragment"
    }
   },
   "outputs": [],
   "source": [
    "train_set_features_prepared_pd = pd.DataFrame(\n",
    "    train_set_features_prepared,\n",
    "    columns = train_set_features_num + train_set_features_cat)\n",
    "\n",
    "train_set_features_prepared_pd.head().style"
   ]
  },
  {
   "cell_type": "markdown",
   "metadata": {
    "slideshow": {
     "slide_type": "subslide"
    }
   },
   "source": [
    "##### Boites à moustache :"
   ]
  },
  {
   "cell_type": "markdown",
   "metadata": {
    "slideshow": {
     "slide_type": "skip"
    }
   },
   "source": [
    "Les diagrammes en boîtes (ou boites à moustache) nous permettent de visualiser la répartition des données au niveau de chaque features et mettre notamment en évidences la présebce de valeurs aberrantes. On remarque ici que malgré l'utilisation de méthodes permettent de réduire le nombre de valeurs aberrantes on obtient tout de même quelques valeurs aberrantes pour certaines features."
   ]
  },
  {
   "cell_type": "code",
   "execution_count": null,
   "metadata": {
    "scrolled": true,
    "slideshow": {
     "slide_type": "fragment"
    }
   },
   "outputs": [],
   "source": [
    "train_set_features_prepared_pd.boxplot(train_set_features_num, figsize=(40,30))"
   ]
  },
  {
   "cell_type": "markdown",
   "metadata": {
    "slideshow": {
     "slide_type": "subslide"
    }
   },
   "source": [
    "#### D.2  Étude de corrélation"
   ]
  },
  {
   "cell_type": "markdown",
   "metadata": {
    "slideshow": {
     "slide_type": "skip"
    }
   },
   "source": [
    "Maintenant que nos données qualitatif sont transformées, nous pouvons effectuer une étude de la corrélation sur la totalité des features (qualitatif + quantitatif). \n",
    "\n",
    "Nous allons tout d'abord réassembler les features avec le label `Attrition`"
   ]
  },
  {
   "cell_type": "code",
   "execution_count": null,
   "metadata": {
    "slideshow": {
     "slide_type": "skip"
    }
   },
   "outputs": [],
   "source": [
    "train_set_labels_pd = pd.DataFrame(train_set_labels)\n",
    "result_train_set = train_set_features_prepared_pd.copy()\n",
    "\n",
    "result_train_set[\"Attrition\"] = train_set_labels_pd\n",
    "\n",
    "print(train_set_labels_pd.shape)\n",
    "print(train_set_features_prepared_pd.shape)\n",
    "print(result_train_set.shape)\n",
    "\n",
    "result_train_set.head().style"
   ]
  },
  {
   "cell_type": "markdown",
   "metadata": {
    "slideshow": {
     "slide_type": "skip"
    }
   },
   "source": [
    "Nous pouvons désormais afficher la matrice de corrélation entre la totalité des features (et le label). Et ainsi observer les différents liens entre les features"
   ]
  },
  {
   "cell_type": "code",
   "execution_count": null,
   "metadata": {
    "scrolled": true,
    "slideshow": {
     "slide_type": "skip"
    }
   },
   "outputs": [],
   "source": [
    "corr_matrix = result_train_set.corr(method='spearman') \n",
    "corr_matrix_2 = result_train_set.corr(method='kendall') \n",
    "\n",
    "corr_matrix.style.format(\"{:.2}\").background_gradient(cmap=plt.get_cmap('coolwarm'))"
   ]
  },
  {
   "cell_type": "markdown",
   "metadata": {
    "slideshow": {
     "slide_type": "fragment"
    }
   },
   "source": [
    "* Hypothèse 1 - Il existe une corrélation entre TotalWorkingYears et Age\n",
    "* Hypothèse 2 - Il existe une corrélation entre WorkLifeBalance et JobInvolvement\n",
    "* Hypothèse 3 - Il existe une corrélation entre JobSatisfaction et EnvironmentSatisfaction"
   ]
  },
  {
   "cell_type": "markdown",
   "metadata": {
    "slideshow": {
     "slide_type": "subslide"
    }
   },
   "source": [
    "Validation de l'hypothèse 1 - Il existe une corrélation entre TotalWorkingYears et Age"
   ]
  },
  {
   "cell_type": "code",
   "execution_count": null,
   "metadata": {
    "slideshow": {
     "slide_type": "fragment"
    }
   },
   "outputs": [],
   "source": [
    "result_train_set.plot(kind=\"scatter\", x=\"TotalWorkingYears\", y=\"Age\", alpha=0.4,\n",
    "    sharex=False)"
   ]
  },
  {
   "cell_type": "markdown",
   "metadata": {
    "slideshow": {
     "slide_type": "subslide"
    }
   },
   "source": [
    "Réfutation de l'hypothèse 2 - Il existe une corrélation entre WorkLifeBalance et JobInvolvement"
   ]
  },
  {
   "cell_type": "code",
   "execution_count": null,
   "metadata": {
    "scrolled": false,
    "slideshow": {
     "slide_type": "skip"
    }
   },
   "outputs": [],
   "source": [
    "train_set[\"JobInvolvement\"].value_counts()"
   ]
  },
  {
   "cell_type": "code",
   "execution_count": null,
   "metadata": {
    "slideshow": {
     "slide_type": "skip"
    }
   },
   "outputs": [],
   "source": [
    "%%capture figure_JobInvolvement_WorkLifeBalance\n",
    "\n",
    "# set width of bar \n",
    "barWidth = 0.15\n",
    "fig = plt.subplots(figsize =(12, 8)) \n",
    " \n",
    "# set height of bar \n",
    "WorkLifeBalance_excellent = train_set[\"JobInvolvement\"].loc[train_set[\"WorkLifeBalance\"] == 4.0].value_counts().sort_index(ascending=True)\n",
    "WorkLifeBalance_tres_satisfaisant = train_set[\"JobInvolvement\"].loc[train_set[\"WorkLifeBalance\"] == 3.0].value_counts().sort_index(ascending=True)\n",
    "WorkLifeBalance_satisfaisant = train_set[\"JobInvolvement\"].loc[train_set[\"WorkLifeBalance\"] == 2.0].value_counts().sort_index(ascending=True)\n",
    "WorkLifeBalance_mauvais = train_set[\"JobInvolvement\"].loc[train_set[\"WorkLifeBalance\"] == 1.0].value_counts().sort_index(ascending=True)\n",
    "\n",
    "# Set position of bar on X axis \n",
    "br1 = np.arange(len(WorkLifeBalance_excellent)) \n",
    "br2 = [x + barWidth for x in br1] \n",
    "br3 = [x + barWidth for x in br2] \n",
    "br4 = [x + barWidth for x in br3] \n",
    " \n",
    "# Make the plot\n",
    "plt.bar(br1, WorkLifeBalance_excellent, color ='r', width = barWidth, \n",
    "        edgecolor ='grey', label ='Work life balance excellent') \n",
    "plt.bar(br2, WorkLifeBalance_tres_satisfaisant, color ='g', width = barWidth, \n",
    "        edgecolor ='grey', label ='Work life balance très satisfaisant') \n",
    "plt.bar(br3, WorkLifeBalance_satisfaisant, color ='b', width = barWidth, \n",
    "        edgecolor ='grey', label ='Work life balance satisfaisant')\n",
    "plt.bar(br4, WorkLifeBalance_mauvais, color ='pink', width = barWidth, \n",
    "        edgecolor ='grey', label ='Work life balance mauvais') \n",
    "\n",
    "# Adding Xticks \n",
    "plt.xlabel('Job Involvement', fontweight ='bold', fontsize = 15) \n",
    "plt.ylabel('Work Life Balance', fontweight ='bold', fontsize = 15) \n",
    "plt.xticks([r + barWidth for r in range(len(WorkLifeBalance_excellent))], ['Faible', 'Moyenne', 'Importante', 'Très Importante'])\n",
    "plt.legend()\n",
    "plt.show() "
   ]
  },
  {
   "cell_type": "code",
   "execution_count": null,
   "metadata": {
    "slideshow": {
     "slide_type": "fragment"
    }
   },
   "outputs": [],
   "source": [
    "figure_JobInvolvement_WorkLifeBalance.show()"
   ]
  },
  {
   "cell_type": "markdown",
   "metadata": {
    "slideshow": {
     "slide_type": "subslide"
    }
   },
   "source": [
    "Réfutation de l'hypothèse 3 - Il existe une corrélation entre JobSatisfaction et EnvironmentSatisfaction"
   ]
  },
  {
   "cell_type": "code",
   "execution_count": null,
   "metadata": {
    "slideshow": {
     "slide_type": "skip"
    }
   },
   "outputs": [],
   "source": [
    "train_set[\"EnvironmentSatisfaction\"].value_counts()"
   ]
  },
  {
   "cell_type": "code",
   "execution_count": null,
   "metadata": {
    "scrolled": true,
    "slideshow": {
     "slide_type": "skip"
    }
   },
   "outputs": [],
   "source": [
    "%%capture figure_EnvironmentSatisfaction_JobSatisfaction\n",
    "\n",
    "# set width of bar \n",
    "barWidth = 0.15\n",
    "fig = plt.subplots(figsize =(12, 8)) \n",
    " \n",
    "# set height of bar \n",
    "JobSatisfaction_treseleve = train_set[\"EnvironmentSatisfaction\"].loc[train_set[\"JobSatisfaction\"] == 4.0].value_counts().sort_index(ascending=True)\n",
    "JobSatisfaction_eleve = train_set[\"EnvironmentSatisfaction\"].loc[train_set[\"JobSatisfaction\"] == 3.0].value_counts().sort_index(ascending=True)\n",
    "JobSatisfaction_moyen = train_set[\"EnvironmentSatisfaction\"].loc[train_set[\"JobSatisfaction\"] == 2.0].value_counts().sort_index(ascending=True)\n",
    "JobSatisfaction_faible = train_set[\"EnvironmentSatisfaction\"].loc[train_set[\"JobSatisfaction\"] == 1.0].value_counts().sort_index(ascending=True)\n",
    "\n",
    "# Set position of bar on X axis \n",
    "br1 = np.arange(len(JobSatisfaction_treseleve)) \n",
    "br2 = [x + barWidth for x in br1] \n",
    "br3 = [x + barWidth for x in br2] \n",
    "br4 = [x + barWidth for x in br3] \n",
    " \n",
    "# Make the plot\n",
    "plt.bar(br1, JobSatisfaction_treseleve, color ='r', width = barWidth, \n",
    "        edgecolor ='grey', label ='Job Satistaction très élevé') \n",
    "plt.bar(br2, JobSatisfaction_eleve, color ='g', width = barWidth, \n",
    "        edgecolor ='grey', label ='Job Satistaction élevé') \n",
    "plt.bar(br3, JobSatisfaction_moyen, color ='b', width = barWidth, \n",
    "        edgecolor ='grey', label ='Job Satistaction moyen')\n",
    "plt.bar(br4, JobSatisfaction_faible, color ='cyan', width = barWidth, \n",
    "        edgecolor ='grey', label ='Job Satistaction faible') \n",
    " \n",
    "# Adding Xticks \n",
    "plt.xlabel('Environment Satisfaction', fontweight ='bold', fontsize = 15) \n",
    "plt.ylabel('Job Satisfaction', fontweight ='bold', fontsize = 15) \n",
    "plt.xticks([r + barWidth for r in range(len(JobSatisfaction_treseleve))], ['Faible', 'Moyen', 'Elevé', 'Très Elevé'])\n",
    " \n",
    "plt.legend()\n",
    "plt.show() "
   ]
  },
  {
   "cell_type": "code",
   "execution_count": null,
   "metadata": {
    "slideshow": {
     "slide_type": "fragment"
    }
   },
   "outputs": [],
   "source": [
    "figure_EnvironmentSatisfaction_JobSatisfaction.show()"
   ]
  },
  {
   "cell_type": "markdown",
   "metadata": {
    "slideshow": {
     "slide_type": "slide"
    }
   },
   "source": [
    "# 2. Choix d'un modèle de machine learning"
   ]
  },
  {
   "cell_type": "markdown",
   "metadata": {
    "slideshow": {
     "slide_type": "skip"
    }
   },
   "source": [
    "Pour rappel, nôtre objectif est de proposer un model permettant de déterminer si un employée est susceptible de quitter ou non l'entreprise. Nous sommes donc à la recherche d'un modèle de classification binaire. \n",
    "\n",
    "Pour choisir / trouver le modèle le plus adapté à notre problème, nous allons dans un premier temps tester les modèles que nous avons vus lors de notre formation, puis nous allons suivre les recommendations de la librairie `Scikit-Learn` via le schéma ci-dessous :"
   ]
  },
  {
   "cell_type": "markdown",
   "metadata": {
    "slideshow": {
     "slide_type": "fragment"
    }
   },
   "source": [
    "<center> <img src=\"images/scikit-learn schema.png\" width=\"800\"/> </center>"
   ]
  },
  {
   "cell_type": "markdown",
   "metadata": {
    "slideshow": {
     "slide_type": "subslide"
    }
   },
   "source": [
    "### LogisticRegression :\n",
    "\n",
    "<center> <img src=\"images/LogisticRegression.png\" width=\"600\"/> </center>"
   ]
  },
  {
   "cell_type": "markdown",
   "metadata": {
    "slideshow": {
     "slide_type": "skip"
    }
   },
   "source": [
    "La regression logistique est un algorithme de classification utilisé pour trouver la probabilité de succès et d'échec d'un événement. Il est utilisé lorsque le label est de nature binaire (0/1, Vrai / Faux, Oui / Non).\n",
    "\n",
    "Dans la régression logistique, ce n’est pas la réponse binaire (malade/pas malade par exemple) qui est directement modélisée, mais la probabilité de réalisation d’une des deux modalités (être malade par exemple).\n",
    "Cette probabilité de réalisation ne peut pas être modélisée par une droite car celle-ci conduirait à des valeurs <0 ou >1. Ce qui est impossible puisqu’une probabilité est forcément bornée par 0 et 1.\n",
    "\n",
    "Cette probabilité, est alors modélisée par une courbe sigmoïde, bornée par 0, et 1\n",
    "\n",
    "Avantages :\n",
    "* S'étendre à plusieurs classes \n",
    "* Ne nécessite pas une puissance de calcul élevée\n",
    "* Temps d'apprentissage inférieur à la plupart des autres algorithmes\n",
    "* Variance est faible\n",
    "* Facilement mis à jour avec de nouvelles données via descente de gradient stochastique.\n",
    "\n",
    "Inconvénients :\n",
    "* Problèmes non linéaires ne peuvent pas être résolus \n",
    "* Ne gère pas bien un grand nombre de variables catégorielles\n",
    "* Sensible aux valeurs aberrantes\n",
    "* Nécessite un vaste ensemble de données"
   ]
  },
  {
   "cell_type": "code",
   "execution_count": null,
   "metadata": {
    "slideshow": {
     "slide_type": "skip"
    }
   },
   "outputs": [],
   "source": [
    "from sklearn.linear_model import LogisticRegression\n",
    "logistic_reg = LogisticRegression(random_state=42)\n",
    "logistic_reg.fit(train_set_features_prepared, train_set_labels)"
   ]
  },
  {
   "cell_type": "markdown",
   "metadata": {
    "slideshow": {
     "slide_type": "subslide"
    }
   },
   "source": [
    "### Perceptron :\n",
    "<center> <img src=\"images/Perceptron.png\" width=\"600\"/> </center>"
   ]
  },
  {
   "cell_type": "markdown",
   "metadata": {
    "slideshow": {
     "slide_type": "skip"
    }
   },
   "source": [
    "Le perceptron est un algorithme d'apprentissage supervisé de classifieurs binaires (c'est-à-dire séparant deux classes). Si le problème est linéairement séparable, un théorème assure que la règle du perceptron permet de trouver une séparatrice entre les deux classes.\n",
    "\n",
    "Le perceptron peut être vu comme le type de réseau de neurones le plus simple. C'est un classifieur linéaire. Ce type de réseau neuronal ne contient aucun cycle. Dans sa version simplifiée, le perceptron est mono-couche et n'a qu'une seule sortie (booléenne) à laquelle toutes les entrées (booléennes) sont connectées."
   ]
  },
  {
   "cell_type": "code",
   "execution_count": null,
   "metadata": {
    "slideshow": {
     "slide_type": "skip"
    }
   },
   "outputs": [],
   "source": [
    "from sklearn.linear_model import Perceptron\n",
    "perceptron = Perceptron(random_state=42)\n",
    "perceptron.fit(train_set_features_prepared, train_set_labels)"
   ]
  },
  {
   "cell_type": "markdown",
   "metadata": {
    "slideshow": {
     "slide_type": "subslide"
    }
   },
   "source": [
    "### DecisionTreeClassifier :\n",
    "\n",
    "<center> <img src=\"images/DecisionTreeClassifier.png\" width=\"600\"/> </center>"
   ]
  },
  {
   "cell_type": "markdown",
   "metadata": {
    "slideshow": {
     "slide_type": "skip"
    }
   },
   "source": [
    "L’apprentissage par arbre de décision désigne une méthode basée sur l'utilisation d'un arbre de décision comme modèle prédictif.\n",
    "\n",
    "Dans ces structures d'arbre, les feuilles représentent les valeurs de la variable-cible et les embranchements correspondent à des combinaisons de variables d'entrée qui mènent à ces valeurs. En analyse de décision, un arbre de décision peut être utilisé pour représenter de manière explicite les décisions réalisées et les processus qui les amènent. En apprentissage et en fouille de données, un arbre de décision décrit les données mais pas les décisions elles-mêmes, l'arbre serait utilisé comme point de départ au processus de décision.\n",
    "\n",
    "C'est une technique d'apprentissage supervisé : on utilise un ensemble de données pour lesquelles on connaît la valeur de la variable-cible afin de construire l'arbre (données dites étiquetées), puis on extrapole les résultats à l'ensemble des données de test.\n",
    "\n",
    "Avantages :\n",
    "* Il est simple à comprendre - résultat interprétable : on aura donc aura donc plus de \"maitrise\" sur cette algorithme\n",
    "* Temps d'execution raisonnable\n",
    "\n",
    "Inconvénients :\n",
    "* Risque de sur-apprentissage (Overfitting) Pour atténuer ce défaut, on peut utiliser des ensembles d'arbres, comme des forêts aléatoires (RandomForest)."
   ]
  },
  {
   "cell_type": "code",
   "execution_count": null,
   "metadata": {
    "slideshow": {
     "slide_type": "skip"
    }
   },
   "outputs": [],
   "source": [
    "from sklearn import tree\n",
    "\n",
    "decision_tree_clas = tree.DecisionTreeClassifier()\n",
    "decision_tree_clas.fit(train_set_features_prepared, train_set_labels)"
   ]
  },
  {
   "cell_type": "markdown",
   "metadata": {
    "slideshow": {
     "slide_type": "skip"
    }
   },
   "source": [
    "### LinearSVC\n",
    "\n",
    "<center> <img src=\"images/LinearSVC.png\" width=\"600\"/> </center>"
   ]
  },
  {
   "cell_type": "markdown",
   "metadata": {
    "slideshow": {
     "slide_type": "skip"
    }
   },
   "source": [
    "Les machines à vecteurs de support (SVM : Support Vector Machines) sont une classe de méthodes d’apprentissage statistique basées sur le principe de la maximisation de la marge (séparation des classes). SVC est une méthode similaire qui s'appuie également sur les fonctions du noyau mais convient à l'apprentissage non supervisé. \n",
    "\n",
    "Il existe plusieurs formulations (linéaires, versions à noyaux) qui peuvent s’appliquer sur des données séparables (linéairement) mais aussi sur des données non séparables. Dans notre cas nous avons choisi de tester une formulation linéaire : le LinearSVC.\n",
    "\n",
    "Les avantages des SVM :\n",
    "\n",
    "* Très efficaces en dimension élevée.\n",
    "* Ils sont aussi efficaces dans le cas où la dimension de l’espace est plus grande que le nombre d’échantillons d’apprentissage.\n",
    "* Pour la décision, ils n’utilisent pas tous les échantillons d’apprentissage, mais seulement une partie (les vecteurs de support). En conséquence, ces algorithmes demandent moins de mémoire.\n",
    "\n",
    "Désavantages :\n",
    "\n",
    "* Si le nombre d’attributs est beaucoup plus grand que le nombre d’échantillons, les performances sont moins bonnes.\n",
    "* Comme il s’agit de méthodes de discrimination entre les classes, elles ne fournissent pas d’estimations de probabilités"
   ]
  },
  {
   "cell_type": "code",
   "execution_count": null,
   "metadata": {
    "slideshow": {
     "slide_type": "skip"
    }
   },
   "outputs": [],
   "source": [
    "from sklearn.svm import LinearSVC\n",
    "lin_svc = LinearSVC(random_state=42, max_iter=5000)\n",
    "lin_svc.fit(train_set_features_prepared, train_set_labels)"
   ]
  },
  {
   "cell_type": "markdown",
   "metadata": {
    "slideshow": {
     "slide_type": "skip"
    }
   },
   "source": [
    "### GaussianNB"
   ]
  },
  {
   "cell_type": "markdown",
   "metadata": {
    "slideshow": {
     "slide_type": "skip"
    }
   },
   "source": [
    "Le modèle \"Gaussian Naive Bayes\" \n",
    "\n",
    "La \"méthode des k plus proches voisins\" est un algorithme de classification non supervisé qui se base sur la classe des voisins d'une entrée. L'objet en entrée est classifié selon le résultat majoritaire des classes d'appartenance de ses k plus proches voisins (on choisi généralement un k assez faible).\n",
    "\n",
    "Avantages :\n",
    "\n",
    "* Facile à comprendre et à implémenter\n",
    "* Modèle pouvant être facilement entrainé, même avec un faible jeu de données\n",
    "* Rapide\n",
    "\n",
    "Inconvénients :\n",
    "\n",
    "* Considère chaque caractéristique est indépendente des autres, ce qui est rarement le cas."
   ]
  },
  {
   "cell_type": "code",
   "execution_count": null,
   "metadata": {
    "slideshow": {
     "slide_type": "skip"
    }
   },
   "outputs": [],
   "source": [
    "from sklearn.naive_bayes import GaussianNB\n",
    "gaus_nb = GaussianNB()\n",
    "gaus_nb.fit(train_set_features_prepared, train_set_labels)"
   ]
  },
  {
   "cell_type": "markdown",
   "metadata": {
    "slideshow": {
     "slide_type": "subslide"
    }
   },
   "source": [
    "### KNeighborsClassifier :\n",
    "\n",
    "<center> <img src=\"images/KNeighborsClassifier.png\" width=\"600\"/> </center>"
   ]
  },
  {
   "cell_type": "markdown",
   "metadata": {
    "slideshow": {
     "slide_type": "skip"
    }
   },
   "source": [
    "La \"méthode des k plus proches voisins\" est un algorithme de classification non supervisé qui se base sur la classe des voisins d'une entrée. L'objet en entrée est classifié selon le résultat majoritaire des classes d'appartenance de ses k plus proches voisins (on choisi généralement un k assez faible).\n",
    "\n",
    "Avantages :\n",
    "* Facile à implémenter pour des problèmes multi-classes ;\n",
    "* Flexibilité sur les critère de distance :\n",
    "    1. Distance euclidienne\n",
    "    2. Distance de Hamming\n",
    "    3. Distance de Minkowski\n",
    "    4. Distance de Manhattan\n",
    "* Modèle intuitif et simple ;\n",
    "* Pas d'étape d'apprentissage (dû à l'étiquetage à partir de la classe de ses voisins).\n",
    "\n",
    "Inconvénients :\n",
    "* Algorithme lent à mesure que le jeu de données augmente ;\n",
    "* Les caractéristiques (features) doivent être homogènes ;\n",
    "* Optimisation du nombre de voisins complexe ;\n",
    "* Traitement des valeurs manquantes intrinsèquement impossible."
   ]
  },
  {
   "cell_type": "code",
   "execution_count": null,
   "metadata": {
    "slideshow": {
     "slide_type": "skip"
    }
   },
   "outputs": [],
   "source": [
    "from sklearn.neighbors import KNeighborsClassifier\n",
    "k_neigh_clas = KNeighborsClassifier(n_neighbors=3)\n",
    "k_neigh_clas.fit(train_set_features_prepared, train_set_labels)"
   ]
  },
  {
   "cell_type": "markdown",
   "metadata": {
    "slideshow": {
     "slide_type": "skip"
    }
   },
   "source": [
    "### SVC :\n",
    "\n",
    "<center> <img src=\"images/SVC.png\" width=\"600\"/> </center>"
   ]
  },
  {
   "cell_type": "markdown",
   "metadata": {
    "slideshow": {
     "slide_type": "skip"
    }
   },
   "source": [
    "Les machines à vecteurs de support ou séparateurs à vaste marge (en anglais support vector machine, SVM) sont un ensemble de techniques d'apprentissage supervisé destinées à résoudre des problèmes de discrimination et de régression. Les SVM sont une généralisation des classifieurs linéaires."
   ]
  },
  {
   "cell_type": "code",
   "execution_count": null,
   "metadata": {
    "slideshow": {
     "slide_type": "skip"
    }
   },
   "outputs": [],
   "source": [
    "from sklearn.svm import SVC\n",
    "svc = SVC(random_state=42)\n",
    "svc.fit(train_set_features_prepared, train_set_labels)"
   ]
  },
  {
   "cell_type": "markdown",
   "metadata": {
    "slideshow": {
     "slide_type": "subslide"
    }
   },
   "source": [
    "### RandomForestClassifier :\n",
    "\n",
    "<center> <img src=\"images/random_forest.png\" width=\"1000\"/> </center>"
   ]
  },
  {
   "cell_type": "markdown",
   "metadata": {
    "slideshow": {
     "slide_type": "skip"
    }
   },
   "source": [
    "Mélanges de plusieurs arbres de décisions diffèrents, récupération du vote majoritaire de chaque arbres\n",
    "\n",
    "Avantages :\n",
    "\n",
    "* Peu d’hyperparamètres à gérer\n",
    "* Bonnes performances\n",
    "* Peu gourmand en données d'apprentissage"
   ]
  },
  {
   "cell_type": "code",
   "execution_count": null,
   "metadata": {
    "slideshow": {
     "slide_type": "skip"
    }
   },
   "outputs": [],
   "source": [
    "from sklearn.ensemble import RandomForestClassifier\n",
    "rand_forest_clas = RandomForestClassifier(random_state=42)\n",
    "rand_forest_clas.fit(train_set_features_prepared, train_set_labels)"
   ]
  },
  {
   "cell_type": "markdown",
   "metadata": {
    "slideshow": {
     "slide_type": "slide"
    }
   },
   "source": [
    "# 3. Mesure de la performance : Courbe ROC"
   ]
  },
  {
   "cell_type": "markdown",
   "metadata": {
    "slideshow": {
     "slide_type": "skip"
    }
   },
   "source": [
    "### A. Introduction"
   ]
  },
  {
   "cell_type": "markdown",
   "metadata": {
    "slideshow": {
     "slide_type": "skip"
    }
   },
   "source": [
    "Pour mesurer la performance de nos différents classifieur binaire, nous allons utiliser la `courbe en ROC` (Receiver Operating Characteristic). Cette courbe représente la sensibilité en fonction de (1 - spécificité). Plus en détails, cette courbe confronte le \"taux de vrai positif\" (_recall_) au \"taux de faux positif\"\n",
    "\n",
    "Pour rappel :\n",
    "\n",
    "* Un vrai positif est un résultat où le modèle prédit correctement la classe positive. De façon analogue, un vrai négatif est un résultat où le modèle prédit correctement la classe négative.\n",
    "\n",
    "* Un faux positif est un résultat où le modèle prédit incorrectement la classe positive. Et un faux négatif est un résultat où le modèle prédit incorrectement la classe négative.\n",
    "\n",
    "\n",
    "\n",
    "* Le taux de vrai positif est le ratio de positifs correctement classé, sa formule est :\n",
    "\n",
    "$$\n",
    "TPR = \\frac{TP}{TP+FN}\n",
    "$$\n",
    "\n",
    "* Le taux de faux positif est le ratio de positifs incorrectement classé, sa formule est :\n",
    "\n",
    "$$\n",
    "FPR = \\frac{FP}{TN+FP}\n",
    "$$"
   ]
  },
  {
   "cell_type": "markdown",
   "metadata": {
    "slideshow": {
     "slide_type": "skip"
    }
   },
   "source": [
    "### B. Récupération des décisions de chaque modèle"
   ]
  },
  {
   "cell_type": "code",
   "execution_count": null,
   "metadata": {
    "slideshow": {
     "slide_type": "skip"
    }
   },
   "outputs": [],
   "source": [
    "from sklearn.model_selection import cross_val_predict"
   ]
  },
  {
   "cell_type": "markdown",
   "metadata": {
    "slideshow": {
     "slide_type": "skip"
    }
   },
   "source": [
    "#### B.1 Prédiction par cross validation"
   ]
  },
  {
   "cell_type": "markdown",
   "metadata": {
    "slideshow": {
     "slide_type": "skip"
    }
   },
   "source": [
    "Attention, nous avons deux méthode de prédiction selon le model utilisé. "
   ]
  },
  {
   "cell_type": "markdown",
   "metadata": {
    "slideshow": {
     "slide_type": "skip"
    }
   },
   "source": [
    "##### Prédiction sur décision"
   ]
  },
  {
   "cell_type": "code",
   "execution_count": null,
   "metadata": {
    "slideshow": {
     "slide_type": "skip"
    }
   },
   "outputs": [],
   "source": [
    "#LogisticRegression\n",
    "logistic_reg_score = cross_val_predict(logistic_reg, train_set_features_prepared,\n",
    "                             train_set_labels, cv=5, method=\"decision_function\")\n",
    "\n",
    "#Perceptron\n",
    "perceptron_score = cross_val_predict(perceptron, train_set_features_prepared,\n",
    "                             train_set_labels, cv=5, method=\"decision_function\")\n",
    "\n",
    "#LinearSVC\n",
    "lin_svc_score = cross_val_predict(lin_svc, train_set_features_prepared,\n",
    "                             train_set_labels, cv=5, method=\"decision_function\")\n",
    "\n",
    "#SVC\n",
    "svc_score = cross_val_predict(svc, train_set_features_prepared,\n",
    "                             train_set_labels, cv=5, method=\"decision_function\")"
   ]
  },
  {
   "cell_type": "markdown",
   "metadata": {
    "slideshow": {
     "slide_type": "skip"
    }
   },
   "source": [
    "##### Prédiction sur probabilité"
   ]
  },
  {
   "cell_type": "code",
   "execution_count": null,
   "metadata": {
    "slideshow": {
     "slide_type": "skip"
    }
   },
   "outputs": [],
   "source": [
    "#DecisionTreeClassifier\n",
    "decision_tree_clas_score = cross_val_predict(decision_tree_clas, train_set_features_prepared,\n",
    "                                      train_set_labels, cv=5, method=\"predict_proba\")\n",
    "\n",
    "#GaussianNB\n",
    "gaus_nb_score = cross_val_predict(gaus_nb, train_set_features_prepared,\n",
    "                                      train_set_labels, cv=5, method=\"predict_proba\")\n",
    "\n",
    "#KNeighborsClassifier\n",
    "k_neigh_clas_score = cross_val_predict(k_neigh_clas, train_set_features_prepared,\n",
    "                                      train_set_labels, cv=5, method=\"predict_proba\")\n",
    "\n",
    "#RandomForestClassifier\n",
    "rand_forest_clas_score = cross_val_predict(rand_forest_clas, train_set_features_prepared,\n",
    "                                      train_set_labels, cv=5, method=\"predict_proba\")"
   ]
  },
  {
   "cell_type": "markdown",
   "metadata": {
    "slideshow": {
     "slide_type": "skip"
    }
   },
   "source": [
    "Nous representons en dataframe l'un de ces résultats, ici le `RandomForestClassifier`:"
   ]
  },
  {
   "cell_type": "code",
   "execution_count": null,
   "metadata": {
    "slideshow": {
     "slide_type": "skip"
    }
   },
   "outputs": [],
   "source": [
    "rand_forest_clas_score_pd = pd.DataFrame(data=rand_forest_clas_score)\n",
    "rand_forest_clas_score_pd.head()"
   ]
  },
  {
   "cell_type": "markdown",
   "metadata": {
    "slideshow": {
     "slide_type": "skip"
    }
   },
   "source": [
    "Il nous faut calculer un score. Nous allons considérer la probabilité de la classe positive (deuxième colonne)"
   ]
  },
  {
   "cell_type": "code",
   "execution_count": null,
   "metadata": {
    "slideshow": {
     "slide_type": "skip"
    }
   },
   "outputs": [],
   "source": [
    "decision_tree_clas_score = np.delete(decision_tree_clas_score, 0, axis=1)\n",
    "gaus_nb_score = np.delete(gaus_nb_score, 0, axis=1)\n",
    "k_neigh_clas_score = np.delete(k_neigh_clas_score, 0, axis=1)\n",
    "rand_forest_clas_score = np.delete(rand_forest_clas_score, 0, axis=1)"
   ]
  },
  {
   "cell_type": "markdown",
   "metadata": {
    "slideshow": {
     "slide_type": "skip"
    }
   },
   "source": [
    "#### B.2 Récupération des courbes ROC"
   ]
  },
  {
   "cell_type": "code",
   "execution_count": null,
   "metadata": {
    "slideshow": {
     "slide_type": "skip"
    }
   },
   "outputs": [],
   "source": [
    "from sklearn.metrics import roc_curve"
   ]
  },
  {
   "cell_type": "code",
   "execution_count": null,
   "metadata": {
    "slideshow": {
     "slide_type": "skip"
    }
   },
   "outputs": [],
   "source": [
    "#LogisticRegression\n",
    "fpr_logistic_reg, tpr_logistic_reg, thresholds_logistic_reg = roc_curve(train_set_labels, logistic_reg_score)\n",
    "\n",
    "#Perceptron\n",
    "fpr_perceptron, tpr_perceptron, thresholds_perceptron = roc_curve(train_set_labels, perceptron_score)\n",
    "\n",
    "#DecisionTreeClassifier\n",
    "fpr_decision_tree_clas, tpr_decision_tree_clas, thresholds_decision_tree_clas = roc_curve(train_set_labels, decision_tree_clas_score)\n",
    "\n",
    "#LinearSVC\n",
    "fpr_lin_svc, tpr_lin_svc, thresholds_lin_svc = roc_curve(train_set_labels, lin_svc_score)\n",
    "\n",
    "#GaussianNB\n",
    "fpr_gaus_nb, tpr_gaus_nb, thresholds_gaus_nb = roc_curve(train_set_labels, gaus_nb_score)\n",
    "\n",
    "#KNeighborsClassifier\n",
    "fpr_k_neigh_clas, tpr_k_neigh_clas, thresholds_k_neigh_clas = roc_curve(train_set_labels, k_neigh_clas_score)\n",
    "\n",
    "#SVC\n",
    "fpr_svc, tpr_svc, thresholds_svc = roc_curve(train_set_labels, svc_score)\n",
    "\n",
    "#RandomForestClassifier\n",
    "fpr_rand_forest_clas, tpr_rand_forest_clas, thresholds_rand_forest_clas = roc_curve(train_set_labels, rand_forest_clas_score)"
   ]
  },
  {
   "cell_type": "markdown",
   "metadata": {
    "slideshow": {
     "slide_type": "skip"
    }
   },
   "source": [
    "#### B.3 Fonction d'affichage d'une courbe ROC"
   ]
  },
  {
   "cell_type": "code",
   "execution_count": null,
   "metadata": {
    "slideshow": {
     "slide_type": "skip"
    }
   },
   "outputs": [],
   "source": [
    "def plot_roc_curve(fpr, tpr, label=None):\n",
    "    plt.plot(fpr, tpr, linewidth=2, label=label)\n",
    "    plt.plot([0, 1], [0, 1], 'k--')\n",
    "    plt.axis([0, 1, 0, 1])\n",
    "    plt.xlabel('False Positive Rate', fontsize=16)\n",
    "    plt.ylabel('True Positive Rate', fontsize=16)"
   ]
  },
  {
   "cell_type": "markdown",
   "metadata": {
    "slideshow": {
     "slide_type": "skip"
    }
   },
   "source": [
    "#### B.4 Affichage des courbes ROC"
   ]
  },
  {
   "cell_type": "code",
   "execution_count": null,
   "metadata": {
    "slideshow": {
     "slide_type": "skip"
    }
   },
   "outputs": [],
   "source": [
    "%%capture figure_roc\n",
    "\n",
    "plt.figure(figsize=(8, 6))\n",
    "plot_roc_curve(fpr_logistic_reg, tpr_logistic_reg, \"logistic_reg\")\n",
    "plot_roc_curve(fpr_perceptron, tpr_perceptron, \"perceptron\")\n",
    "plot_roc_curve(fpr_decision_tree_clas, tpr_decision_tree_clas, \"decision_tree_clas\")\n",
    "# plot_roc_curve(fpr_lin_svc, tpr_lin_svc, \"lin_svc\")\n",
    "# plot_roc_curve(fpr_gaus_nb, tpr_gaus_nb, \"gaus_nb\")\n",
    "plot_roc_curve(fpr_k_neigh_clas, tpr_k_neigh_clas, \"k_neigh_clas\")\n",
    "#plot_roc_curve(fpr_svc, tpr_svc, \"svc\")\n",
    "plot_roc_curve(fpr_rand_forest_clas, tpr_rand_forest_clas, \"rand_forest_clas\")\n",
    "plt.legend(loc=\"lower right\", fontsize=16)\n",
    "plt.show()"
   ]
  },
  {
   "cell_type": "code",
   "execution_count": null,
   "metadata": {
    "slideshow": {
     "slide_type": "fragment"
    }
   },
   "outputs": [],
   "source": [
    "figure_roc.show()"
   ]
  },
  {
   "cell_type": "markdown",
   "metadata": {
    "slideshow": {
     "slide_type": "skip"
    }
   },
   "source": [
    "##### Remarques :\n",
    "\n",
    "La courbe `ROC` est un indicateur permettant de mesurer la performance d'un modèle de prédiction. (les paramètres sont variables selon l'objectif à prédire). Ici on utilise le taux de Vrai Positif (bonne \"vrai\" prédiction par le modèle - Attrition à Yes dans notre cas) et le taux de faux positif (le modèle à prédit Yes mais celui-ci s'est trompé). On cherche donc un modèle qui maximise le `TPR` et qui miniminise le `FPR` (on ne souhaite pas d'un modèle qui prédise qu'un l'employé à l'intention de partir alors que se n'est pas du tout le cas).\n",
    "\n",
    "Nous souhaitons donc garder le modèle dont la courbe `ROC` se rapproche le plus possible de l'axe des ordonnées (TPR).On souhaite que la courbe `ROC` possède un point qui maximise au mieux le rapport `TPR/FPR`.\n",
    "\n",
    "Apres analyse des différentes courbes `ROC` de chaque modèle on remarque deux canditats qui se distinguent et possèdent des performances très proche (\"point optimal très proche\") : Le `Random Forest Classifier` et le `Decision Tree Classifier`.\n",
    "Nous retiendrons donc pour la suite ces deux modèles et nous les départagerons apres variations de leurs hyperparamètres  "
   ]
  },
  {
   "cell_type": "markdown",
   "metadata": {
    "slideshow": {
     "slide_type": "subslide"
    }
   },
   "source": [
    "#### Calculs des scores de chaque modèle :"
   ]
  },
  {
   "cell_type": "code",
   "execution_count": null,
   "metadata": {
    "slideshow": {
     "slide_type": "skip"
    }
   },
   "outputs": [],
   "source": [
    "from sklearn.metrics import roc_auc_score\n",
    "roc_score_logistic_reg = roc_auc_score(train_set_labels, logistic_reg_score)\n",
    "roc_score_perceptron = roc_auc_score(train_set_labels, perceptron_score)\n",
    "roc_score_lin_svc = roc_auc_score(train_set_labels, lin_svc_score)\n",
    "roc_score_gaus_nb = roc_auc_score(train_set_labels, gaus_nb_score)\n",
    "roc_score_k_neigh_clas = roc_auc_score(train_set_labels, k_neigh_clas_score)\n",
    "roc_score_svc = roc_auc_score(train_set_labels, svc_score)\n",
    "roc_score_rand_forest_clas = roc_auc_score(train_set_labels, rand_forest_clas_score)\n",
    "roc_score_decision_tree_clas = roc_auc_score(train_set_labels, decision_tree_clas_score)"
   ]
  },
  {
   "cell_type": "code",
   "execution_count": null,
   "metadata": {
    "slideshow": {
     "slide_type": "fragment"
    }
   },
   "outputs": [],
   "source": [
    "print(\"logistic_reg : \", roc_score_logistic_reg)\n",
    "print(\"perceptron : \", roc_score_perceptron)\n",
    "print(\"decision_tree_clas : \", roc_score_decision_tree_clas)\n",
    "print(\"k_neigh_clas : \", roc_score_k_neigh_clas)\n",
    "print(\"rand_forest_clas : \", roc_score_rand_forest_clas)"
   ]
  },
  {
   "cell_type": "markdown",
   "metadata": {
    "slideshow": {
     "slide_type": "subslide"
    }
   },
   "source": [
    "#### Calcul de précision et recall des meilleurs modèles :"
   ]
  },
  {
   "cell_type": "code",
   "execution_count": null,
   "metadata": {
    "slideshow": {
     "slide_type": "skip"
    }
   },
   "outputs": [],
   "source": [
    "rand_forest_clas_labels_pred = cross_val_predict(rand_forest_clas, train_set_features_prepared, train_set_labels, cv=5)\n",
    "decision_tree_clas_labels_pred = cross_val_predict(decision_tree_clas, train_set_features_prepared, train_set_labels, cv=5)"
   ]
  },
  {
   "cell_type": "code",
   "execution_count": null,
   "metadata": {
    "slideshow": {
     "slide_type": "fragment"
    }
   },
   "outputs": [],
   "source": [
    "from sklearn.metrics import precision_score, recall_score\n",
    "print(\"\\nPrécision rand_forest_clas :\", precision_score(train_set_labels, rand_forest_clas_labels_pred))\n",
    "print(\"Recall rand_forest_clas :\", recall_score(train_set_labels, rand_forest_clas_labels_pred))\n",
    "\n",
    "print(\"\\nPrécision decision_tree_clas :\", precision_score(train_set_labels, decision_tree_clas_labels_pred))\n",
    "print(\"Recall decision_tree_clas :\", recall_score(train_set_labels, decision_tree_clas_labels_pred))"
   ]
  },
  {
   "cell_type": "markdown",
   "metadata": {
    "slideshow": {
     "slide_type": "slide"
    }
   },
   "source": [
    "# 3. Paramétrage des meilleurs modèles : RandomizedSearchCV"
   ]
  },
  {
   "cell_type": "markdown",
   "metadata": {
    "slideshow": {
     "slide_type": "skip"
    }
   },
   "source": [
    "Nos deux meilleurs modèles étant maintenant choisit, nous allons chercher le meilleur paramétrage pour ceux-ci."
   ]
  },
  {
   "cell_type": "code",
   "execution_count": null,
   "metadata": {
    "slideshow": {
     "slide_type": "skip"
    }
   },
   "outputs": [],
   "source": [
    "from sklearn.model_selection import RandomizedSearchCV\n",
    "from scipy.stats import randint"
   ]
  },
  {
   "cell_type": "markdown",
   "metadata": {
    "slideshow": {
     "slide_type": "skip"
    }
   },
   "source": [
    "### A. RandomForestClassifier"
   ]
  },
  {
   "cell_type": "code",
   "execution_count": null,
   "metadata": {
    "slideshow": {
     "slide_type": "skip"
    }
   },
   "outputs": [],
   "source": [
    "param_distribs_rand_forest_clas = {\n",
    "        'n_estimators': randint(low=1, high=200),\n",
    "        'max_features': randint(low=1, high=8),\n",
    "    }\n",
    "\n",
    "rand_forest_clas_param = RandomizedSearchCV(rand_forest_clas, param_distribs_rand_forest_clas, cv=5,\n",
    "                           scoring='roc_auc', n_iter=10, return_train_score=True)\n",
    "\n",
    "rand_forest_clas_param.fit(train_set_features_prepared, train_set_labels)"
   ]
  },
  {
   "cell_type": "code",
   "execution_count": null,
   "metadata": {
    "slideshow": {
     "slide_type": "fragment"
    }
   },
   "outputs": [],
   "source": [
    "best_estimator_rand_forest_clas = rand_forest_clas_param.best_estimator_\n",
    "best_estimator_rand_forest_clas"
   ]
  },
  {
   "cell_type": "markdown",
   "metadata": {
    "slideshow": {
     "slide_type": "skip"
    }
   },
   "source": [
    "### B. DecisionTreeClassifier"
   ]
  },
  {
   "cell_type": "code",
   "execution_count": null,
   "metadata": {
    "slideshow": {
     "slide_type": "skip"
    }
   },
   "outputs": [],
   "source": [
    "param_distribs_decision_tree_clas = {\n",
    "    'criterion': ['gini','entropy'],\n",
    "    'max_depth': np.arange(1, 100),}\n",
    "\n",
    "decision_tree_clas_param = RandomizedSearchCV(decision_tree_clas, param_distribs_decision_tree_clas, cv=5,\n",
    "                            scoring='roc_auc', n_iter=10, return_train_score=True)\n",
    "\n",
    "decision_tree_clas_param.fit(train_set_features_prepared, train_set_labels)"
   ]
  },
  {
   "cell_type": "code",
   "execution_count": null,
   "metadata": {
    "slideshow": {
     "slide_type": "fragment"
    }
   },
   "outputs": [],
   "source": [
    "best_estimator_decision_tree_clas = decision_tree_clas_param.best_estimator_\n",
    "best_estimator_decision_tree_clas"
   ]
  },
  {
   "cell_type": "markdown",
   "metadata": {
    "slideshow": {
     "slide_type": "slide"
    }
   },
   "source": [
    "# 4. Test des modèles"
   ]
  },
  {
   "cell_type": "markdown",
   "metadata": {
    "slideshow": {
     "slide_type": "skip"
    }
   },
   "source": [
    "Nos deux modèles sont maintenant prêt à être testés sur le `test_set`. Nous allons dans un premier temps isoler la donnée \"recherchée\" du test_set, à savoir `Attrition` puis nous allons appliquer notre pipeline de transformation de données sur nos `features`."
   ]
  },
  {
   "cell_type": "code",
   "execution_count": null,
   "metadata": {
    "slideshow": {
     "slide_type": "skip"
    }
   },
   "outputs": [],
   "source": [
    "test_set_features = test_set.drop(\"Attrition\", axis=1)\n",
    "test_set_labels = test_set[\"Attrition\"].copy()\n",
    "test_set_features_prepared = full_pipeline.transform(test_set_features)"
   ]
  },
  {
   "cell_type": "markdown",
   "metadata": {
    "slideshow": {
     "slide_type": "skip"
    }
   },
   "source": [
    "Affichons les scores qu'obtiennent nos modèles sur le `test_set`"
   ]
  },
  {
   "cell_type": "code",
   "execution_count": null,
   "metadata": {
    "slideshow": {
     "slide_type": "fragment"
    }
   },
   "outputs": [],
   "source": [
    "print(\"rand_forest_clas_best_score : \", best_estimator_rand_forest_clas.score(test_set_features_prepared, test_set_labels))\n",
    "print(\"decision_tree_clas_best_score : \", best_estimator_decision_tree_clas.score(test_set_features_prepared, test_set_labels))"
   ]
  },
  {
   "cell_type": "markdown",
   "metadata": {
    "slideshow": {
     "slide_type": "skip"
    }
   },
   "source": [
    "Wow 99% de réussite, ce sonbt de très bon score. Affichons maintenant les matrices de confusion pour le `test_set`."
   ]
  },
  {
   "cell_type": "markdown",
   "metadata": {
    "slideshow": {
     "slide_type": "subslide"
    }
   },
   "source": [
    "#### Matrices de confusions des tests :"
   ]
  },
  {
   "cell_type": "code",
   "execution_count": null,
   "metadata": {
    "slideshow": {
     "slide_type": "skip"
    }
   },
   "outputs": [],
   "source": [
    "from sklearn.metrics import confusion_matrix\n",
    "\n",
    "rand_forest_clas_test_set_labels_pred = best_estimator_rand_forest_clas.predict(test_set_features_prepared)\n",
    "decision_tree_clas_test_set_labels_pred = best_estimator_decision_tree_clas.predict(test_set_features_prepared)"
   ]
  },
  {
   "cell_type": "code",
   "execution_count": null,
   "metadata": {
    "slideshow": {
     "slide_type": "fragment"
    }
   },
   "outputs": [],
   "source": [
    "conf_mx_rand_forest_clas = confusion_matrix(test_set_labels, rand_forest_clas_test_set_labels_pred)\n",
    "conf_mx_rand_forest_clas_pd = pd.DataFrame(data=conf_mx_rand_forest_clas)\n",
    "print(\"conf_mx_rand_forest_clas : \")\n",
    "conf_mx_rand_forest_clas_pd"
   ]
  },
  {
   "cell_type": "markdown",
   "metadata": {
    "slideshow": {
     "slide_type": "skip"
    }
   },
   "source": [
    "Grace à cette matrice, nous voyons que notre modèle a prédit que 3 personnes n'allaient pas partir, alors que c'est le cas. Cette matrice est donc plutôt bonne car nous avions au total 142 personnes qui sont parties"
   ]
  },
  {
   "cell_type": "code",
   "execution_count": null,
   "metadata": {
    "slideshow": {
     "slide_type": "fragment"
    }
   },
   "outputs": [],
   "source": [
    "conf_mx_decision_tree_clas = confusion_matrix(test_set_labels, decision_tree_clas_test_set_labels_pred)\n",
    "conf_mx_decision_tree_clas_pd = pd.DataFrame(data=conf_mx_decision_tree_clas)\n",
    "print(\"conf_mx_decision_tree_clas : \")\n",
    "conf_mx_decision_tree_clas_pd"
   ]
  },
  {
   "cell_type": "markdown",
   "metadata": {
    "slideshow": {
     "slide_type": "skip"
    }
   },
   "source": [
    "Ainsi, le meilleur modèle de prédiction correspondant au problème de l'entreprise est le `RandomForestClassifier`"
   ]
  },
  {
   "cell_type": "markdown",
   "metadata": {
    "slideshow": {
     "slide_type": "slide"
    }
   },
   "source": [
    "# 5. Étude des résultats / conclusion"
   ]
  },
  {
   "cell_type": "code",
   "execution_count": null,
   "metadata": {
    "slideshow": {
     "slide_type": "skip"
    }
   },
   "outputs": [],
   "source": [
    "feature_importances_rand_forest_clas = best_estimator_rand_forest_clas.feature_importances_\n",
    "feature_importances_rand_forest_clas"
   ]
  },
  {
   "cell_type": "code",
   "execution_count": null,
   "metadata": {
    "scrolled": false,
    "slideshow": {
     "slide_type": "skip"
    }
   },
   "outputs": [],
   "source": [
    "%%capture feature_importances\n",
    "\n",
    "feature_importances_pd = pd.DataFrame({'Features': train_set_features_num + train_set_features_cat, 'Importance': feature_importances_rand_forest_clas})\n",
    "feature_importances_sort = feature_importances_pd.sort_values(by=['Importance'], ascending=False)\n",
    "feature_importances_sort = feature_importances_sort.drop(feature_importances_sort.index[7:])\n",
    "\n",
    "feature_importances_sort.plot.bar(x='Features', y='Importance', figsize=(15, 5), rot=0)"
   ]
  },
  {
   "cell_type": "markdown",
   "metadata": {
    "slideshow": {
     "slide_type": "fragment"
    }
   },
   "source": [
    "#### Importance des features :"
   ]
  },
  {
   "cell_type": "code",
   "execution_count": null,
   "metadata": {
    "slideshow": {
     "slide_type": "fragment"
    }
   },
   "outputs": [],
   "source": [
    "feature_importances.show()"
   ]
  },
  {
   "cell_type": "markdown",
   "metadata": {
    "slideshow": {
     "slide_type": "skip"
    }
   },
   "source": [
    "On remarque que la feature `MoyenneInOut` est celle qui influence le plus `Attrition`. Etudions comment le temps de travail moyen sur l'année 2015 d'un salarié  impacte sa prise de décision concernant son choix de rester au sein de l'entreprise ou bien de partir pour l'année 2016. Nous comparons une variable binaire avec une variable discrète."
   ]
  },
  {
   "cell_type": "code",
   "execution_count": null,
   "metadata": {
    "scrolled": false,
    "slideshow": {
     "slide_type": "skip"
    }
   },
   "outputs": [],
   "source": [
    "%%capture figure_feature_importances\n",
    "\n",
    "fig, axes = plt.subplots(nrows=2, ncols=3)\n",
    "\n",
    "train_set.plot(kind=\"scatter\", x=\"Attrition\", y=\"MoyenneInOut\", alpha=0.06,\n",
    "    sharex=False, ax=axes[0,0], figsize=(15, 8))\n",
    "train_set.plot(kind=\"scatter\", x=\"Attrition\", y=\"Age\", alpha=0.1,\n",
    "    sharex=False, ax=axes[0,1], figsize=(15, 8))\n",
    "train_set.plot(kind=\"scatter\", x=\"Attrition\", y=\"TotalWorkingYears\", alpha=0.1,\n",
    "     sharex=False, ax=axes[0,2], figsize=(15, 8))\n",
    "train_set.plot(kind=\"scatter\", x=\"Attrition\", y=\"MonthlyIncome\", alpha=0.1,\n",
    "     sharex=False, ax=axes[1,0], figsize=(15, 8))\n",
    "train_set.plot(kind=\"scatter\", x=\"Attrition\", y=\"YearsAtCompany\", alpha=0.1,\n",
    "    sharex=False, ax=axes[1,1], figsize=(15, 8))\n",
    "train_set.plot(kind=\"scatter\", x=\"Attrition\", y=\"DistanceFromHome\", alpha=0.1,\n",
    "    sharex=False, ax=axes[1,2], figsize=(15, 8))"
   ]
  },
  {
   "cell_type": "code",
   "execution_count": null,
   "metadata": {
    "slideshow": {
     "slide_type": "subslide"
    }
   },
   "outputs": [],
   "source": [
    "figure_feature_importances.show()"
   ]
  },
  {
   "cell_type": "markdown",
   "metadata": {
    "slideshow": {
     "slide_type": "skip"
    }
   },
   "source": [
    "Le label attrition étant binaire (Oui ou Non), le graphique est donc partagé en deux catégories\n",
    "\n",
    "* 0 - le salarié souhaite continuer à travailler pour l'entreprise pour l'année 2016\n",
    "* 1 - le salarié à décidé de partir de l'entreprise durant l'année 2016\n",
    "\n",
    "Nous remarquons que le nombre d'employés ayant un temps de travail moyen élevé sur une année ont beaucoup plus tendance à rester au sein de l'entreprise (concentration de points beaucoup plus important à des valeurs élevé de MoyenneInOut). Nous pouvons en conclure que lorsque le salarié effectue peu d'heures de travail, celui-ci a beaucoup plus tendance à quitter l'entreprise.\n",
    "\n",
    "Pour ce qui est de l'Age et du TotalWorkingYears qui sont corrélé, plus l'employé est \"jeune\" (et donc à moins d'année de travail) plus il a tendance à quitter l'entreprise. A l'inverse les personnes avec beaucoup d'année de travail qui sont donc plus agées ont tendance à rester. On peut aussi renforcer cette idée avec le 5ème graphique qui montre que les personnes possédant un grand nombre d'année de travail au sein de la société on tendance à rester contrairement à ceux qui en ont moins.\n",
    "\n",
    "Pour le MonthlyIncome on peut remarquer que parmis les employés ayant un \"faible\" salaire un grand nombre sont resté, mais la majeur partie des salariés qui ont quitté l'entreprise font partie de cette catégorie. On peut donc supposer que le salaire est un paramétre à prendre en compte qui joue sur le TurnOver de la société.\n",
    "\n",
    "Le dernier graphiques qui concerne le paramètre de DistanceFromHome montre que la majorité des personnes qui ont quitté l'entreprise n'habitent pas très loin de la société. Cependant c'est un paramètre que la société ne peut pas gérer, de plus comme l'on peut le voir la répartition est \"assez homogène\", ce n'est donc pas un paramètre majeur dans le turn over de la société, et de plus il n'est pas exploitable par l'entreprise."
   ]
  },
  {
   "cell_type": "markdown",
   "metadata": {
    "slideshow": {
     "slide_type": "subslide"
    }
   },
   "source": [
    "#### Profil type :"
   ]
  },
  {
   "cell_type": "code",
   "execution_count": null,
   "metadata": {
    "slideshow": {
     "slide_type": "skip"
    }
   },
   "outputs": [],
   "source": [
    "profil_type = final_dataset.loc[final_dataset['Attrition'] == 1] \n",
    "profil_type = profil_type[['MoyenneInOut','Age', 'TotalWorkingYears', 'MonthlyIncome', 'YearsAtCompany', 'DistanceFromHome']]\n",
    "MoyenneInOut_type = profil_type[\"MoyenneInOut\"].mean()\n",
    "Age_type = profil_type[\"Age\"].mean()\n",
    "TotalWorkingYears_type = profil_type[\"TotalWorkingYears\"].mean()\n",
    "MonthlyIncome_type = profil_type[\"MonthlyIncome\"].mean()\n",
    "YearsAtCompany_type = profil_type[\"YearsAtCompany\"].mean()\n",
    "DistanceFromHome_type = profil_type[\"DistanceFromHome\"].mean()"
   ]
  },
  {
   "cell_type": "code",
   "execution_count": null,
   "metadata": {
    "slideshow": {
     "slide_type": "fragment"
    }
   },
   "outputs": [],
   "source": [
    "print(\"Heures travaillées / jour : \", round(MoyenneInOut_type / 3600), \"heures\")\n",
    "print(\"Age : \", round(Age_type), \"ans\")\n",
    "print(\"Années de travail :\", round(TotalWorkingYears_type), \"ans\")\n",
    "print(\"Salaire :\", round(MonthlyIncome_type), \"roupies\")\n",
    "print(\"Années dans l'entreprise :\", round(YearsAtCompany_type), \"ans\")\n",
    "print(\"Distance domicile / entreprise :\", round(DistanceFromHome_type), \"km\")"
   ]
  },
  {
   "cell_type": "markdown",
   "metadata": {
    "slideshow": {
     "slide_type": "slide"
    }
   },
   "source": [
    "# 6. Améliorations\n",
    "\n",
    "* Jeu de données plus important : attributs \n",
    "* Jeu de données d'autres années\n",
    "* Mise à jour du modèle\n",
    "* Limite du modèle (changement du jeu de données)\n",
    "* Données plus pertinentes"
   ]
  },
  {
   "cell_type": "markdown",
   "metadata": {
    "slideshow": {
     "slide_type": "slide"
    }
   },
   "source": [
    "# Questions / réponses :\n",
    "<br>\n",
    "<center> <img src=\"images/question.jpg\" width=\"1000\"/> </center>"
   ]
  },
  {
   "cell_type": "code",
   "execution_count": null,
   "metadata": {
    "slideshow": {
     "slide_type": "skip"
    }
   },
   "outputs": [],
   "source": []
  }
 ],
 "metadata": {
  "celltoolbar": "Diaporama",
  "kernelspec": {
   "display_name": "Python 3",
   "language": "python",
   "name": "python3"
  },
  "language_info": {
   "codemirror_mode": {
    "name": "ipython",
    "version": 3
   },
   "file_extension": ".py",
   "mimetype": "text/x-python",
   "name": "python",
   "nbconvert_exporter": "python",
   "pygments_lexer": "ipython3",
   "version": "3.8.5"
  }
 },
 "nbformat": 4,
 "nbformat_minor": 4
}
